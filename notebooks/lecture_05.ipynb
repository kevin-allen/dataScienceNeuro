{
 "cells": [
  {
   "cell_type": "markdown",
   "metadata": {},
   "source": [
    "# Lecture 5, Data science in Neuroscience\n",
    "\n",
    "\n",
    "## Plan for today\n",
    "\n",
    "1. Review key machine learning concepts\n",
    "2. Review of last week's exercise: Using a machine learning approach to find the best parameters for a head-direction cell.\n",
    "3. Introduction to deep neuronal networks (neuron, layer, several layers)\n",
    "4. Pose estimation using Deeplabcut\n",
    "5. Using the output of Deeplabcut\n",
    "\n",
    "***\n"
   ]
  },
  {
   "cell_type": "markdown",
   "metadata": {},
   "source": [
    "# Machine learning briefly\n",
    "\n",
    "* This gives computer the ability to learn without being explicitely programmed (Arthur Samuel, 1959).\n",
    "\n",
    "## Types\n",
    "\n",
    "* Prediction versus inference\n",
    "* Supervised versus unsupervised\n",
    "* Regression versus classification\n",
    "\n",
    "These concepts are useful to quickly find the right tool (model) for your problem/task.\n",
    "\n",
    "## How do computers learn?\n",
    "\n",
    "Often using an iterative process (i.e. a loop).\n",
    "\n",
    "1. Feed data to your model\n",
    "2. Calculate the error (loss).\n",
    "3. Adjust the model parameters by a small amount to minimize the loss, using gradients.\n",
    "4. Go back to 1 until the gradients are near 0.\n",
    "\n",
    "\n",
    "## Our linear regression model\n",
    "\n",
    "* A simple model with 2 parameters (slope and intercept).\n",
    "* $Y = wX + b$\n",
    "* $Y$: target\n",
    "* $X$: features (inputs)\n",
    "* $w$ is the slope and $b$ is the intercept.\n",
    "* We found the best parameters ($w$ and $b$) that minimize a loss function.\n",
    "\n"
   ]
  },
  {
   "cell_type": "markdown",
   "metadata": {},
   "source": [
    "***\n",
    "## Quick review of our linear model"
   ]
  },
  {
   "cell_type": "code",
   "execution_count": 289,
   "metadata": {},
   "outputs": [],
   "source": [
    "import numpy as np\n",
    "import matplotlib.pyplot as plt"
   ]
  },
  {
   "cell_type": "code",
   "execution_count": 291,
   "metadata": {},
   "outputs": [
    {
     "data": {
      "image/png": "[encoded data removed]",
      "text/plain": [
       "<Figure size 432x288 with 1 Axes>"
      ]
     },
     "metadata": {
      "needs_background": "light"
     },
     "output_type": "display_data"
    }
   ],
   "source": [
    "## we simulate speed and firing rate data\n",
    "w = 1.25 # parameter 2, slope\n",
    "b = 10 # parameter 1, intercept\n",
    "size = 50 # how many data points\n",
    "speed = np.random.normal(loc=20.0, scale=5, size = size) # random numbers taken from a normal distribution\n",
    "noise = np.random.normal(loc=0.0, scale=3, size = size) # random numbers taken from a normal distribution\n",
    "rate = speed * w + b + noise # our linear model with some noise\n",
    "plt.scatter(speed,rate)\n",
    "plt.xlabel(\"Speed\")\n",
    "plt.ylabel(\"Firing rate\")\n",
    "plt.xlim(0,40)\n",
    "plt.ylim(0,60)\n",
    "plt.show()"
   ]
  },
  {
   "cell_type": "markdown",
   "metadata": {},
   "source": [
    "Our **model** was based on matrix multiplication. \n",
    "\n",
    "$ \\begin{bmatrix} b & w \\end{bmatrix} * \\begin{bmatrix} 1 & 1 & 1 & 1 \\\\ speed_0 & speed_1 & speed_2 & speed_3 \\end{bmatrix} = \\begin{bmatrix} y_0 & y_1 & y_2 & y_3 \\end{bmatrix}$"
   ]
  },
  {
   "cell_type": "code",
   "execution_count": 295,
   "metadata": {},
   "outputs": [
    {
     "name": "stdout",
     "output_type": "stream",
     "text": [
      "theta.shape: (1, 2)\n"
     ]
    }
   ],
   "source": [
    "theta = np.array([[50,-0.5]])\n",
    "print(\"theta.shape:\",theta.shape)"
   ]
  },
  {
   "cell_type": "code",
   "execution_count": 296,
   "metadata": {},
   "outputs": [
    {
     "name": "stdout",
     "output_type": "stream",
     "text": [
      "X.shape: (2, 50)\n"
     ]
    }
   ],
   "source": [
    "X = np.ones((2,speed.shape[0]))  # make a 2 rows array with ones in the first row and speed in the second row\n",
    "X[1,:] = speed\n",
    "print(\"X.shape:\",X.shape)"
   ]
  },
  {
   "cell_type": "code",
   "execution_count": 298,
   "metadata": {},
   "outputs": [
    {
     "data": {
      "text/plain": [
       "array([[42.32285835, 40.95447118, 39.0635671 , 40.71534252, 40.56338937,\n",
       "        40.88058604, 40.40673465, 45.22539623, 40.69503622, 42.2895339 ,\n",
       "        35.96704953, 37.5920805 , 43.08427397, 41.38751368, 44.99126584,\n",
       "        41.64447302, 40.37012722, 41.12067066, 37.87341892, 35.44816909,\n",
       "        38.52917954, 40.22229193, 42.48186937, 41.32752278, 39.09155247,\n",
       "        44.24844536, 39.61143232, 39.33048309, 38.89094164, 39.44003804,\n",
       "        42.07749589, 40.31863441, 41.3811667 , 39.93189848, 42.43221834,\n",
       "        36.54329242, 42.7865423 , 37.53982398, 39.71155969, 41.07353574,\n",
       "        40.0557268 , 41.61355237, 39.1656511 , 41.27352814, 41.05417525,\n",
       "        38.90583269, 37.58912516, 39.67020588, 40.36904737, 36.33618968]])"
      ]
     },
     "execution_count": 298,
     "metadata": {},
     "output_type": "execute_result"
    }
   ],
   "source": [
    "# our model, we get one output for each input\n",
    "theta@X"
   ]
  },
  {
   "cell_type": "markdown",
   "metadata": {},
   "source": [
    "We will initialize our two parameters and see if our model fits the data."
   ]
  },
  {
   "cell_type": "code",
   "execution_count": 300,
   "metadata": {},
   "outputs": [
    {
     "name": "stdout",
     "output_type": "stream",
     "text": [
      "[[50.  -0.5]]\n"
     ]
    },
    {
     "data": {
      "image/png": "[encoded data removed]",
      "text/plain": [
       "<Figure size 432x288 with 1 Axes>"
      ]
     },
     "metadata": {
      "needs_background": "light"
     },
     "output_type": "display_data"
    }
   ],
   "source": [
    "theta = np.array([[50,-0.5]])\n",
    "print(theta)\n",
    "xSim = np.linspace(0,40,100)\n",
    "ySim = xSim*theta[0,1]+theta[0,0]\n",
    "plt.scatter(speed,rate)\n",
    "plt.plot(xSim,ySim)\n",
    "plt.xlabel(\"Speed\")\n",
    "plt.ylabel(\"Firing rate\")\n",
    "plt.xlim(0,40)\n",
    "plt.ylim(0,60)\n",
    "plt.show()"
   ]
  },
  {
   "cell_type": "markdown",
   "metadata": {},
   "source": [
    "These parameters were not the best choise.\n",
    "\n",
    "We can use a training loop to find the best one."
   ]
  },
  {
   "cell_type": "code",
   "execution_count": 301,
   "metadata": {},
   "outputs": [
    {
     "name": "stdout",
     "output_type": "stream",
     "text": [
      "epoch 0 out of 10000, loss: 107.139, theta: [[49.98685195 -0.69094121]], gradients: [[ 13.14804912 190.94120717]]\n",
      "epoch 100 out of 10000, loss: 82.532, theta: [[49.61316405 -0.7239792 ]], gradients: [[ 3.69504886 -0.18210966]]\n",
      "epoch 200 out of 10000, loss: 81.175, theta: [[49.24533567 -0.70585086]], gradients: [[ 3.66190011 -0.18047593]]\n",
      "epoch 300 out of 10000, loss: 79.843, theta: [[48.88080712 -0.68788515]], gradients: [[ 3.62904874 -0.17885686]]\n",
      "epoch 400 out of 10000, loss: 78.534, theta: [[48.5195488  -0.67008061]], gradients: [[ 3.59649209 -0.17725231]]\n",
      "epoch 500 out of 10000, loss: 77.249, theta: [[48.16153137 -0.65243581]], gradients: [[ 3.56422751 -0.17566216]]\n",
      "epoch 600 out of 10000, loss: 75.987, theta: [[47.80672577 -0.63494929]], gradients: [[ 3.53225238 -0.17408627]]\n",
      "epoch 700 out of 10000, loss: 74.748, theta: [[47.45510317 -0.61761965]], gradients: [[ 3.5005641  -0.17252452]]\n",
      "epoch 800 out of 10000, loss: 73.530, theta: [[47.10663502 -0.60044547]], gradients: [[ 3.4691601  -0.17097678]]\n",
      "epoch 900 out of 10000, loss: 72.335, theta: [[46.76129302 -0.58342537]], gradients: [[ 3.43803783 -0.16944293]]\n",
      "epoch 1000 out of 10000, loss: 71.160, theta: [[46.41904912 -0.56655795]], gradients: [[ 3.40719476 -0.16792284]]\n",
      "epoch 1100 out of 10000, loss: 70.007, theta: [[46.07987555 -0.54984186]], gradients: [[ 3.37662839 -0.16641638]]\n",
      "epoch 1200 out of 10000, loss: 68.874, theta: [[45.74374474 -0.53327573]], gradients: [[ 3.34633623 -0.16492344]]\n",
      "epoch 1300 out of 10000, loss: 67.762, theta: [[45.4106294  -0.51685821]], gradients: [[ 3.31631583 -0.16344389]]\n",
      "epoch 1400 out of 10000, loss: 66.669, theta: [[45.08050248 -0.50058798]], gradients: [[ 3.28656475 -0.16197761]]\n",
      "epoch 1500 out of 10000, loss: 65.596, theta: [[44.75333717 -0.48446371]], gradients: [[ 3.25708056 -0.16052449]]\n",
      "epoch 1600 out of 10000, loss: 64.542, theta: [[44.4291069  -0.46848409]], gradients: [[ 3.22786088 -0.15908441]]\n",
      "epoch 1700 out of 10000, loss: 63.507, theta: [[44.10778534 -0.45264783]], gradients: [[ 3.19890334 -0.15765724]]\n",
      "epoch 1800 out of 10000, loss: 62.490, theta: [[43.7893464  -0.43695364]], gradients: [[ 3.17020558 -0.15624288]]\n",
      "epoch 1900 out of 10000, loss: 61.492, theta: [[43.47376421 -0.42140024]], gradients: [[ 3.14176526 -0.1548412 ]]\n",
      "epoch 2000 out of 10000, loss: 60.511, theta: [[43.16101315 -0.40598638]], gradients: [[ 3.11358009 -0.1534521 ]]\n",
      "epoch 2100 out of 10000, loss: 59.548, theta: [[42.85106782 -0.39071079]], gradients: [[ 3.08564778 -0.15207546]]\n",
      "epoch 2200 out of 10000, loss: 58.602, theta: [[42.54390305 -0.37557224]], gradients: [[ 3.05796604 -0.15071118]]\n",
      "epoch 2300 out of 10000, loss: 57.673, theta: [[42.23949389 -0.3605695 ]], gradients: [[ 3.03053265 -0.14935913]]\n",
      "epoch 2400 out of 10000, loss: 56.761, theta: [[41.93781563 -0.34570136]], gradients: [[ 3.00334536 -0.14801921]]\n",
      "epoch 2500 out of 10000, loss: 55.864, theta: [[41.63884376 -0.3309666 ]], gradients: [[ 2.97640197 -0.14669131]]\n",
      "epoch 2600 out of 10000, loss: 54.984, theta: [[41.342554   -0.31636402]], gradients: [[ 2.94970029 -0.14537532]]\n",
      "epoch 2700 out of 10000, loss: 54.120, theta: [[41.0489223  -0.30189245]], gradients: [[ 2.92323816 -0.14407114]]\n",
      "epoch 2800 out of 10000, loss: 53.271, theta: [[40.7579248 -0.2875507]], gradients: [[ 2.89701343 -0.14277866]]\n",
      "epoch 2900 out of 10000, loss: 52.437, theta: [[40.46953787 -0.27333762]], gradients: [[ 2.87102396 -0.14149778]]\n",
      "epoch 3000 out of 10000, loss: 51.618, theta: [[40.18373811 -0.25925204]], gradients: [[ 2.84526764 -0.14022838]]\n",
      "epoch 3100 out of 10000, loss: 50.814, theta: [[39.90050228 -0.24529282]], gradients: [[ 2.81974239 -0.13897038]]\n",
      "epoch 3200 out of 10000, loss: 50.024, theta: [[39.61980741 -0.23145884]], gradients: [[ 2.79444613 -0.13772366]]\n",
      "epoch 3300 out of 10000, loss: 49.248, theta: [[39.34163068 -0.21774896]], gradients: [[ 2.7693768  -0.13648812]]\n",
      "epoch 3400 out of 10000, loss: 48.486, theta: [[39.06594951 -0.20416207]], gradients: [[ 2.74453237 -0.13526367]]\n",
      "epoch 3500 out of 10000, loss: 47.738, theta: [[38.79274151 -0.19069708]], gradients: [[ 2.71991083 -0.1340502 ]]\n",
      "epoch 3600 out of 10000, loss: 47.003, theta: [[38.52198449 -0.17735288]], gradients: [[ 2.69551017 -0.13284762]]\n",
      "epoch 3700 out of 10000, loss: 46.281, theta: [[38.25365647 -0.16412839]], gradients: [[ 2.67132841 -0.13165583]]\n",
      "epoch 3800 out of 10000, loss: 45.572, theta: [[37.98773565 -0.15102254]], gradients: [[ 2.64736359 -0.13047473]]\n",
      "epoch 3900 out of 10000, loss: 44.876, theta: [[37.72420044 -0.13803427]], gradients: [[ 2.62361375 -0.12930422]]\n",
      "epoch 4000 out of 10000, loss: 44.192, theta: [[37.46302944 -0.12516252]], gradients: [[ 2.60007699 -0.12814422]]\n",
      "epoch 4100 out of 10000, loss: 43.520, theta: [[37.20420144 -0.11240623]], gradients: [[ 2.57675137 -0.12699462]]\n",
      "epoch 4200 out of 10000, loss: 42.861, theta: [[36.94769541 -0.09976439]], gradients: [[ 2.55363501 -0.12585533]]\n",
      "epoch 4300 out of 10000, loss: 42.213, theta: [[36.69349053 -0.08723596]], gradients: [[ 2.53072603 -0.12472627]]\n",
      "epoch 4400 out of 10000, loss: 41.576, theta: [[36.44156616 -0.07481992]], gradients: [[ 2.50802257 -0.12360733]]\n",
      "epoch 4500 out of 10000, loss: 40.952, theta: [[36.19190183 -0.06251527]], gradients: [[ 2.48552278 -0.12249844]]\n",
      "epoch 4600 out of 10000, loss: 40.338, theta: [[35.94447727 -0.05032101]], gradients: [[ 2.46322485 -0.12139949]]\n",
      "epoch 4700 out of 10000, loss: 39.735, theta: [[35.69927239 -0.03823614]], gradients: [[ 2.44112695 -0.1203104 ]]\n",
      "epoch 4800 out of 10000, loss: 39.143, theta: [[ 3.54562673e+01 -2.62596878e-02]], gradients: [[ 2.41922729 -0.11923108]]\n",
      "epoch 4900 out of 10000, loss: 38.561, theta: [[ 3.52154422e+01 -1.43906768e-02]], gradients: [[ 2.3975241  -0.11816144]]\n",
      "epoch 5000 out of 10000, loss: 37.990, theta: [[ 3.49767776e+01 -2.62814426e-03]], gradients: [[ 2.37601561 -0.1171014 ]]\n",
      "epoch 5100 out of 10000, loss: 37.430, theta: [[3.47402540e+01 9.02886516e-03]], gradients: [[ 2.35470008 -0.11605087]]\n",
      "epoch 5200 out of 10000, loss: 36.879, theta: [[3.45058524e+01 2.05812981e-02]], gradients: [[ 2.33357577 -0.11500976]]\n",
      "epoch 5300 out of 10000, loss: 36.338, theta: [[3.42735536e+01 3.20300927e-02]], gradients: [[ 2.31264097 -0.113978  ]]\n",
      "epoch 5400 out of 10000, loss: 35.806, theta: [[34.04333879  0.04337618]], gradients: [[ 2.29189398 -0.11295549]]\n",
      "epoch 5500 out of 10000, loss: 35.284, theta: [[33.81518926  0.05462048]], gradients: [[ 2.27133311 -0.11194215]]\n",
      "epoch 5600 out of 10000, loss: 34.772, theta: [[33.58908648  0.0657639 ]], gradients: [[ 2.25095669 -0.1109379 ]]\n",
      "epoch 5700 out of 10000, loss: 34.269, theta: [[33.36501211  0.07680736]], gradients: [[ 2.23076308 -0.10994266]]\n",
      "epoch 5800 out of 10000, loss: 33.774, theta: [[33.14294793  0.08775174]], gradients: [[ 2.21075062 -0.10895635]]\n",
      "epoch 5900 out of 10000, loss: 33.289, theta: [[32.92287592  0.09859794]], gradients: [[ 2.1909177  -0.10797889]]\n",
      "epoch 6000 out of 10000, loss: 32.812, theta: [[32.70477821  0.10934684]], gradients: [[ 2.1712627 -0.1070102]]\n",
      "epoch 6100 out of 10000, loss: 32.343, theta: [[32.48863707  0.11999931]], gradients: [[ 2.15178403 -0.1060502 ]]\n",
      "epoch 6200 out of 10000, loss: 31.883, theta: [[32.27443496  0.13055621]], gradients: [[ 2.13248011 -0.10509881]]\n",
      "epoch 6300 out of 10000, loss: 31.432, theta: [[32.06215449  0.14101841]], gradients: [[ 2.11334936 -0.10415595]]\n",
      "epoch 6400 out of 10000, loss: 30.988, theta: [[31.85177842  0.15138674]], gradients: [[ 2.09439024 -0.10322156]]\n",
      "epoch 6500 out of 10000, loss: 30.552, theta: [[31.64328965  0.16166207]], gradients: [[ 2.0756012  -0.10229554]]\n",
      "epoch 6600 out of 10000, loss: 30.124, theta: [[31.43667126  0.17184521]], gradients: [[ 2.05698072 -0.10137784]]\n",
      "epoch 6700 out of 10000, loss: 29.704, theta: [[31.23190647  0.181937  ]], gradients: [[ 2.03852729 -0.10046836]]\n",
      "epoch 6800 out of 10000, loss: 29.291, theta: [[31.02897865  0.19193825]], gradients: [[ 2.02023941 -0.09956705]]\n",
      "epoch 6900 out of 10000, loss: 28.885, theta: [[30.82787133  0.20184978]], gradients: [[ 2.00211559 -0.09867382]]\n",
      "epoch 7000 out of 10000, loss: 28.487, theta: [[30.62856816  0.21167239]], gradients: [[ 1.98415436 -0.09778861]]\n",
      "epoch 7100 out of 10000, loss: 28.096, theta: [[30.43105297  0.22140688]], gradients: [[ 1.96635426 -0.09691133]]\n",
      "epoch 7200 out of 10000, loss: 27.712, theta: [[30.2353097   0.23105405]], gradients: [[ 1.94871385 -0.09604193]]\n",
      "epoch 7300 out of 10000, loss: 27.335, theta: [[30.04132248  0.24061466]], gradients: [[ 1.93123169 -0.09518032]]\n",
      "epoch 7400 out of 10000, loss: 26.964, theta: [[29.84907554  0.25008951]], gradients: [[ 1.91390637 -0.09432645]]\n",
      "epoch 7500 out of 10000, loss: 26.600, theta: [[29.65855327  0.25947936]], gradients: [[ 1.89673648 -0.09348024]]\n",
      "epoch 7600 out of 10000, loss: 26.243, theta: [[29.4697402   0.26878497]], gradients: [[ 1.87972062 -0.09264161]]\n",
      "epoch 7700 out of 10000, loss: 25.892, theta: [[29.282621   0.2780071]], gradients: [[ 1.86285741 -0.09181051]]\n",
      "epoch 7800 out of 10000, loss: 25.547, theta: [[29.09718047  0.28714649]], gradients: [[ 1.84614548 -0.09098687]]\n",
      "epoch 7900 out of 10000, loss: 25.208, theta: [[28.91340354  0.2962039 ]], gradients: [[ 1.82958348 -0.09017062]]\n",
      "epoch 8000 out of 10000, loss: 24.876, theta: [[28.73127531  0.30518005]], gradients: [[ 1.81317005 -0.08936168]]\n",
      "epoch 8100 out of 10000, loss: 24.549, theta: [[28.55078096  0.31407567]], gradients: [[ 1.79690388 -0.08856001]]\n",
      "epoch 8200 out of 10000, loss: 24.228, theta: [[28.37190586  0.32289149]], gradients: [[ 1.78078363 -0.08776553]]\n",
      "epoch 8300 out of 10000, loss: 23.913, theta: [[28.19463547  0.33162822]], gradients: [[ 1.764808   -0.08697817]]\n",
      "epoch 8400 out of 10000, loss: 23.604, theta: [[28.01895539  0.34028658]], gradients: [[ 1.74897568 -0.08619788]]\n",
      "epoch 8500 out of 10000, loss: 23.300, theta: [[27.84485136  0.34886725]], gradients: [[ 1.7332854  -0.08542459]]\n",
      "epoch 8600 out of 10000, loss: 23.001, theta: [[27.67230924  0.35737095]], gradients: [[ 1.71773588 -0.08465823]]\n",
      "epoch 8700 out of 10000, loss: 22.708, theta: [[27.50131501  0.36579837]], gradients: [[ 1.70232586 -0.08389875]]\n",
      "epoch 8800 out of 10000, loss: 22.420, theta: [[27.3318548   0.37415018]], gradients: [[ 1.68705408 -0.08314609]]\n",
      "epoch 8900 out of 10000, loss: 22.138, theta: [[27.16391483  0.38242706]], gradients: [[ 1.6719193  -0.08240017]]\n",
      "epoch 9000 out of 10000, loss: 21.860, theta: [[26.99748148  0.39062969]], gradients: [[ 1.65692031 -0.08166095]]\n",
      "epoch 9100 out of 10000, loss: 21.587, theta: [[26.83254122  0.39875873]], gradients: [[ 1.64205587 -0.08092836]]\n",
      "epoch 9200 out of 10000, loss: 21.319, theta: [[26.66908066  0.40681485]], gradients: [[ 1.62732478 -0.08020234]]\n",
      "epoch 9300 out of 10000, loss: 21.056, theta: [[26.50708652  0.4147987 ]], gradients: [[ 1.61272584 -0.07948283]]\n",
      "epoch 9400 out of 10000, loss: 20.798, theta: [[26.34654565  0.42271092]], gradients: [[ 1.59825788 -0.07876978]]\n",
      "epoch 9500 out of 10000, loss: 20.544, theta: [[26.18744502  0.43055216]], gradients: [[ 1.5839197  -0.07806313]]\n",
      "epoch 9600 out of 10000, loss: 20.295, theta: [[26.0297717   0.43832305]], gradients: [[ 1.56971016 -0.07736282]]\n",
      "epoch 9700 out of 10000, loss: 20.050, theta: [[25.87351289  0.44602423]], gradients: [[ 1.5556281  -0.07666878]]\n",
      "epoch 9800 out of 10000, loss: 19.810, theta: [[25.71865589  0.45365633]], gradients: [[ 1.54167236 -0.07598098]]\n",
      "epoch 9900 out of 10000, loss: 19.573, theta: [[25.56518813  0.46121995]], gradients: [[ 1.52784183 -0.07529934]]\n",
      "optimized theta: [[25.41461129  0.4686411 ]]\n"
     ]
    }
   ],
   "source": [
    "lr = 0.001 # learning rate\n",
    "n_iterations = 10000 \n",
    "m = rate.shape[0] # number of data points\n",
    "rateM = np.expand_dims(rate,0)\n",
    "theta = np.array([[50,-0.5]]) # set random parameters as a starting point\n",
    "\n",
    "# learning loop\n",
    "for iteration in range(n_iterations):\n",
    "\n",
    "    # model prediction\n",
    "    yhat = theta@X\n",
    "    \n",
    "    # how bad is our model doing, mean square error\n",
    "    loss = np.mean((rate-yhat)**2)\n",
    "    \n",
    "    # calculate the gradients with the current parameters\n",
    "    gradients = 2/m *(theta@X - rateM) @ X.T\n",
    "    \n",
    "    # adjust the parameter so that we reduce the MSE\n",
    "    theta = theta - lr * gradients\n",
    "    \n",
    "    if iteration % 100 == 0:\n",
    "        print(\"epoch {} out of {}, loss: {:.3f}, theta: {}, gradients: {}\".format(iteration,n_iterations,loss,theta,gradients))\n",
    "    \n",
    "print(\"optimized theta:\",theta)"
   ]
  },
  {
   "cell_type": "markdown",
   "metadata": {},
   "source": [
    "We can plot the predictions of our model we just trained."
   ]
  },
  {
   "cell_type": "code",
   "execution_count": 302,
   "metadata": {},
   "outputs": [
    {
     "name": "stdout",
     "output_type": "stream",
     "text": [
      "[[25.41461129  0.4686411 ]]\n"
     ]
    },
    {
     "data": {
      "image/png": "[encoded data removed]",
      "text/plain": [
       "<Figure size 432x288 with 1 Axes>"
      ]
     },
     "metadata": {
      "needs_background": "light"
     },
     "output_type": "display_data"
    }
   ],
   "source": [
    "print(theta)\n",
    "xSim = np.linspace(0,40,100)\n",
    "ySim = xSim*theta[0,1]+theta[0,0]\n",
    "plt.scatter(speed,rate)\n",
    "plt.plot(xSim,ySim)\n",
    "plt.xlabel(\"Speed\")\n",
    "plt.ylabel(\"Firing rate\")\n",
    "plt.xlim(0,40)\n",
    "plt.ylim(0,60)\n",
    "plt.show()"
   ]
  },
  {
   "cell_type": "markdown",
   "metadata": {},
   "source": [
    "* Is this the best fit?\n",
    "* What did I do wrong? "
   ]
  },
  {
   "cell_type": "markdown",
   "metadata": {},
   "source": [
    "*** \n",
    "## Deep neural networks\n",
    "\n",
    "* Mathematical entities capable of representing complicated functions through a composition of simpler functions.\n",
    "* Deep neural network have **multiple layers** between the input and output layers. \n",
    "* Each layer has several artificial neurons. \n",
    "* New data comes from the left, and calculations propagates towards the ouput layer.\n",
    "\n",
    "\n",
    "<div>\n",
    "<img src=\"../images/deep-neural-network.png\" width=\"500\"/>\n",
    "</div>\n",
    "\n",
    "\n"
   ]
  },
  {
   "cell_type": "markdown",
   "metadata": {},
   "source": [
    "***\n",
    "## Artificial neuron\n",
    "\n",
    "A **neuron** is the building block of the neural network.\n",
    "\n",
    "\n",
    "They do 3 things: \n",
    "* A linear transofrmation of the inputs\n",
    "* Adding a constant \n",
    "* Applying a fixed nonlinear function (activation fucntion)\n",
    "    \n",
    "The input can be a single value or a vector. The output can be a single value or a vector."
   ]
  },
  {
   "cell_type": "markdown",
   "metadata": {},
   "source": [
    "Artificial neurons are not too complicated. We can easily code one to understand how they work."
   ]
  },
  {
   "cell_type": "markdown",
   "metadata": {},
   "source": [
    "For simplicity, let's work with a functions that have 1 input and 1 output.\n",
    "\n",
    "<img src=\"../images/neuron_linear.png\" width=\"500\" align=\"center\">\n",
    "\n"
   ]
  },
  {
   "cell_type": "code",
   "execution_count": 303,
   "metadata": {},
   "outputs": [],
   "source": [
    "def linear_function(theta,X):\n",
    "    \"\"\"\n",
    "    Operation done by a simple linear function\n",
    "    This is not a neuron because the function is linear\n",
    "    Does w * x + b\n",
    "    \n",
    "    Arguments:\n",
    "    theta: matrix of shape (1,2) containing b and w\n",
    "    X: matrix of shape (2,-1). First rows are 1, second are the inputs\n",
    "    \"\"\"\n",
    "    return theta@X"
   ]
  },
  {
   "cell_type": "code",
   "execution_count": 304,
   "metadata": {},
   "outputs": [
    {
     "name": "stdout",
     "output_type": "stream",
     "text": [
      "shapes: (1, 2) (2, 2) (1, 2)\n"
     ]
    },
    {
     "data": {
      "text/plain": [
       "array([[3.75 , 2.105]])"
      ]
     },
     "execution_count": 304,
     "metadata": {},
     "output_type": "execute_result"
    }
   ],
   "source": [
    "X = np.array([[1,1],[0.5,0.03]]) # input\n",
    "theta = np.array([[2.0,3.5]]) #(bias and w)\n",
    "predictions = linear_function(theta,X)\n",
    "print(\"shapes:\", theta.shape,X.shape,predictions.shape)\n",
    "predictions"
   ]
  },
  {
   "cell_type": "markdown",
   "metadata": {},
   "source": [
    "We can show that this is a linear function by plotting input-output values."
   ]
  },
  {
   "cell_type": "code",
   "execution_count": 305,
   "metadata": {},
   "outputs": [
    {
     "data": {
      "image/png": "[encoded data removed]",
      "text/plain": [
       "<Figure size 432x288 with 1 Axes>"
      ]
     },
     "metadata": {
      "needs_background": "light"
     },
     "output_type": "display_data"
    }
   ],
   "source": [
    "size = 100\n",
    "X = np.ones((2,size))\n",
    "X[1,:] = np.linspace(-4.0,4.0,size) # input values ranging from -10 to 10\n",
    "predictions = linear_function(theta,X)\n",
    "plt.scatter(X[1,:],predictions[0,:])\n",
    "plt.show()"
   ]
  },
  {
   "cell_type": "markdown",
   "metadata": {},
   "source": [
    "A **neuron** is a linear function to which a non-linear function was added. It is called an activation function.\n",
    "\n",
    "\n",
    "<img src=\"../images/artificial_neuron.png\" width=\"500\" align=\"center\">"
   ]
  },
  {
   "cell_type": "code",
   "execution_count": 306,
   "metadata": {},
   "outputs": [
    {
     "data": {
      "text/plain": [
       "[<matplotlib.lines.Line2D at 0x7fb2d8584820>]"
      ]
     },
     "execution_count": 306,
     "metadata": {},
     "output_type": "execute_result"
    },
    {
     "data": {
      "image/png": "[encoded data removed]",
      "text/plain": [
       "<Figure size 432x288 with 1 Axes>"
      ]
     },
     "metadata": {
      "needs_background": "light"
     },
     "output_type": "display_data"
    }
   ],
   "source": [
    "x = np.linspace(-4,4)\n",
    "plt.plot(x, np.tanh(x))"
   ]
  },
  {
   "cell_type": "code",
   "execution_count": 307,
   "metadata": {},
   "outputs": [],
   "source": [
    "def neuron_function(theta,X):\n",
    "    \"\"\"\n",
    "    Operation done by a neuron\n",
    "    Does  tanh(w * x + b)\n",
    "    \n",
    "    Arguments:\n",
    "    theta: matrix of shape (1,2) containing b and w\n",
    "    X: matrix of shape (2,-1). First rows are 1, second are the inputs\n",
    "    \"\"\"\n",
    "    return np.tanh(theta@X)"
   ]
  },
  {
   "cell_type": "code",
   "execution_count": 308,
   "metadata": {},
   "outputs": [
    {
     "data": {
      "text/plain": [
       "[<matplotlib.lines.Line2D at 0x7fb2d84eb5b0>]"
      ]
     },
     "execution_count": 308,
     "metadata": {},
     "output_type": "execute_result"
    },
    {
     "data": {
      "image/png": "[encoded data removed]",
      "text/plain": [
       "<Figure size 432x288 with 1 Axes>"
      ]
     },
     "metadata": {
      "needs_background": "light"
     },
     "output_type": "display_data"
    }
   ],
   "source": [
    "size = 100\n",
    "X = np.ones((2,size))\n",
    "X[1,:] = np.linspace(-4.0,4.0,size) # input values ranging from -10 to 10\n",
    "predictions = neuron_function(theta,X)\n",
    "plt.plot(X[1,:],predictions[0,:])"
   ]
  },
  {
   "cell_type": "markdown",
   "metadata": {},
   "source": [
    "### Differences between a linear transformation and artificial neurons\n",
    "\n",
    "* The transofrmation is not linear.\n",
    "* The output might be limited to a specific range (e.g., from -1 to 1).\n",
    "* The neuron will be very sensitive for a specific range of input.\n",
    "* Summing linear operations result in a linear operation. Summing non-linear operations gives you a much more complex function."
   ]
  },
  {
   "cell_type": "markdown",
   "metadata": {},
   "source": [
    "## A layer of neurons"
   ]
  },
  {
   "cell_type": "markdown",
   "metadata": {},
   "source": [
    "So far we have worked with single neurons.\n",
    "\n",
    "A layer is just a group of neurons. \n",
    "\n",
    "Each neuron in a layer has its own parameters.\n",
    "\n",
    "<img src=\"../images/artificial_neuron_layer.png\" width=\"500\" align=\"center\">\n"
   ]
  },
  {
   "cell_type": "code",
   "execution_count": 309,
   "metadata": {},
   "outputs": [],
   "source": [
    "def neuron_layer_function(theta,X):\n",
    "    \"\"\"\n",
    "    Operation done by a layer of neuron\n",
    "    Does  tanh(w * x + b) for each neuron\n",
    "    \n",
    "    Arguments:\n",
    "    theta: matrix of shape (variable,2) containing b and w. The 2 columns contains b and w. Each row represents the b and w for one neuron\n",
    "    X: matrix of shape (2,variable). First rows are 1, second are the inputs\n",
    "    \"\"\"\n",
    "    return np.tanh(theta@X)"
   ]
  },
  {
   "cell_type": "markdown",
   "metadata": {},
   "source": [
    "We could code a layer of 4 neurons by adding their weight and biases in $theta$."
   ]
  },
  {
   "cell_type": "code",
   "execution_count": 310,
   "metadata": {},
   "outputs": [
    {
     "name": "stdout",
     "output_type": "stream",
     "text": [
      "X.shape: (2, 2)\n",
      "theta.shape (4, 2)\n",
      "predictions.shapes: (4, 2)\n"
     ]
    },
    {
     "data": {
      "text/plain": [
       "array([[0.50052021, 0.30497892],\n",
       "       [0.63514895, 0.39777254],\n",
       "       [0.99945084, 0.9993373 ],\n",
       "       [0.24491866, 0.20025673]])"
      ]
     },
     "execution_count": 310,
     "metadata": {},
     "output_type": "execute_result"
    }
   ],
   "source": [
    "theta = np.array([[0.3,0.5],[0.4,0.7],[4,0.2],[0.2,0.1]]) #bias and w, for 4 neurons\n",
    "X = np.array([[1,1],[0.5,0.03]]) # 2 data points\n",
    "print(\"X.shape:\", X.shape)\n",
    "print(\"theta.shape\", theta.shape)\n",
    "\n",
    "predictions = neuron_layer_function(theta,X)\n",
    "print(\"predictions.shapes:\", predictions.shape)\n",
    "\n",
    "predictions"
   ]
  },
  {
   "cell_type": "markdown",
   "metadata": {},
   "source": [
    "## A second layer\n",
    "\n",
    "The output of one layer is passed to the next layer.\n",
    "\n",
    "In the second layer, a neurons takes the inputs of neurons from layer 1, gives them a respective weight, and add them.\n",
    "\n",
    "Here is the type of function we can get by adding the output of the first layer neurons.\n",
    "\n",
    "<img src=\"../images/artificial_neuron_deep.png\" width=\"500\" align=\"center\">\n",
    "\n"
   ]
  },
  {
   "cell_type": "code",
   "execution_count": 311,
   "metadata": {},
   "outputs": [
    {
     "data": {
      "image/png": "[encoded data removed]",
      "text/plain": [
       "<Figure size 432x288 with 1 Axes>"
      ]
     },
     "metadata": {
      "needs_background": "light"
     },
     "output_type": "display_data"
    },
    {
     "data": {
      "image/png": "[encoded data removed]",
      "text/plain": [
       "<Figure size 432x288 with 1 Axes>"
      ]
     },
     "metadata": {
      "needs_background": "light"
     },
     "output_type": "display_data"
    }
   ],
   "source": [
    "size = 100\n",
    "X = np.ones((2,size))\n",
    "X[1,:] = np.linspace(-4.0,4.0,size) # input values ranging from -10 to 10\n",
    "theta = np.array([[0.0,1.0]]) #(bias and w)\n",
    "predictions_n1 = neuron_function(theta,X)\n",
    "plt.plot(X[1,:],predictions_n1[0,:],label=\"neuron 1\")\n",
    "\n",
    "theta = np.array([[2.0,-3.5]]) #(bias and w)\n",
    "predictions_n2 = neuron_function(theta,X)\n",
    "plt.plot(X[1,:],predictions_n2[0,:],label=\"neuron 2\")\n",
    "plt.legend()\n",
    "plt.title(\"Two neurons\")\n",
    "plt.show()\n",
    "\n",
    "plt.title(\"Weighted summation of the output of 2 neurons\")\n",
    "plt.plot(X[1,:],(predictions_n1*0.5+predictions_n2*0.3)[0,:])\n",
    "plt.show()\n"
   ]
  },
  {
   "cell_type": "markdown",
   "metadata": {},
   "source": [
    "As you go deeper in a network, the functions can become more complexe.\n",
    "\n",
    "\n",
    "If you want to build deep neural network, I highly recommend using a [pytorch](https://pytorch.org/) or [tensorflow](https://www.tensorflow.org/).\n",
    "\n",
    "A good book covering pytorch is [Deep Learning with PyTorch](https://www.manning.com/books/deep-learning-with-pytorch) from Eli Stevens, Luca Antiga and Thomas Viehmann"
   ]
  },
  {
   "cell_type": "markdown",
   "metadata": {},
   "source": [
    "## Convolutional neural networks (CNN)\n",
    "\n",
    "Date back to 1989 (Yann LeCun). They are great at detecting objects and classifying images. \n",
    "\n",
    "\n",
    "\n",
    "<div>\n",
    "<img src=\"../images/convolution1.png\" width=\"800\"/>\n",
    "</div>"
   ]
  },
  {
   "cell_type": "markdown",
   "metadata": {},
   "source": [
    "## One of the first convolutional neural network.\n",
    "\n",
    "LeCun et al. (1989). Backpropagation applied to handwritten zip code recognition. Neural Computation.\n",
    "\n",
    "Neurons have receptive fields, similar to what is observed in the visual system.\n",
    "\n",
    "\n",
    "<div>\n",
    "<img src=\"../images/LeNet5.png\" width=\"1200\"/>\n",
    "</div>"
   ]
  },
  {
   "cell_type": "markdown",
   "metadata": {},
   "source": [
    "## Convolutional Neural Networks as feature detectors\n",
    "\n",
    "\n",
    "<div>\n",
    "<img src=\"../images/imageNet_features_01.png\" width=\"300\"/>\n",
    "</div>\n",
    "\n",
    "\n",
    "<div>\n",
    "<img src=\"../images/imageNet_features_02.png\" width=\"600\"/>\n",
    "</div>\n",
    "\n",
    "\n",
    "\n",
    "<div>\n",
    "<img src=\"../images/imageNet_features_03.png\" width=\"600\"/>\n",
    "</div>\n",
    "\n",
    "<div>\n",
    "<img src=\"../images/imageNet_features_04.png\" width=\"600\"/>\n",
    "</div>\n",
    "\n"
   ]
  },
  {
   "cell_type": "markdown",
   "metadata": {},
   "source": [
    "## ImageNet competition: 1.3 million images and 1000 classes\n",
    "\n",
    "<div>\n",
    "<img src=\"../images/imageNetResults.png\" width=\"800\"/>\n",
    "</div>\n",
    "\n"
   ]
  },
  {
   "cell_type": "markdown",
   "metadata": {},
   "source": [
    "## Deeplabcut"
   ]
  },
  {
   "cell_type": "markdown",
   "metadata": {},
   "source": [
    "* A method for 3D markerless pose estimation\n",
    "* Uses a deep neural network that was pretrained on image classification\n",
    "* Matches human accuracy, but is much faster\n",
    "* Based on open-source technologies (python, tensorflow, etc)\n",
    "* Training with a graphics card or with online services\n",
    "* Very popular (>5000 followers on Twitter)\n",
    "\n",
    "Previous alternative: video recordings with markers on the animal.\n",
    "\n",
    "Deeplabcut is very well documented.\n",
    "\n",
    "https://www.nature.com/articles/s41593-018-0209-y\n",
    "\n",
    "http://www.mackenziemathislab.org/deeplabcut\n",
    "\n",
    "https://www.nature.com/articles/s41596-019-0176-0\n",
    "\n"
   ]
  },
  {
   "cell_type": "markdown",
   "metadata": {},
   "source": [
    "<div>\n",
    "<img src=\"../images/dlcOverview.png\"/>\n",
    "</div>\n",
    "\n",
    "***"
   ]
  },
  {
   "cell_type": "markdown",
   "metadata": {},
   "source": [
    "<div>\n",
    "<img src=\"../images/MathisFigure1.png\"/>\n",
    "</div>\n"
   ]
  },
  {
   "cell_type": "markdown",
   "metadata": {},
   "source": [
    "***\n",
    "<div>\n",
    "<img src=\"../images/MathisFigure2.png\"/>\n",
    "</div>\n"
   ]
  },
  {
   "cell_type": "markdown",
   "metadata": {},
   "source": [
    "## Getting started\n",
    "\n",
    "I recommend downloading the deeplabcut repository. It contains jupyter notebooks that can be used as examples. They are located in `DeepLabCut/examples/JUPYTER`. To train your network on Google Colab, look in `DeepLabCut/examples/COLAB`\n",
    "\n",
    "For our purpose, I created 3 notebooks that I saved in `dataNeuroMaster/deeplabcut/`. They are largely based on the examples in the DeepLabCut repository.\n",
    "\n",
    "* Demo_youowndata.ipynb\n",
    "* Colab_yourowndata.ipynb\n",
    "* Use_dlc_output.ipynb"
   ]
  },
  {
   "cell_type": "code",
   "execution_count": null,
   "metadata": {},
   "outputs": [],
   "source": []
  }
 ],
 "metadata": {
  "kernelspec": {
   "display_name": "Python 3",
   "language": "python",
   "name": "python3"
  },
  "language_info": {
   "codemirror_mode": {
    "name": "ipython",
    "version": 3
   },
   "file_extension": ".py",
   "mimetype": "text/x-python",
   "name": "python",
   "nbconvert_exporter": "python",
   "pygments_lexer": "ipython3",
   "version": "3.8.5"
  }
 },
 "nbformat": 4,
 "nbformat_minor": 4
}
