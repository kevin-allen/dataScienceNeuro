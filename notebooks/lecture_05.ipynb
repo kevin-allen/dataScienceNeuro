{
 "cells": [
  {
   "cell_type": "markdown",
   "metadata": {},
   "source": [
    "# Lecture 5, Data science in Neuroscience\n",
    "\n",
    "\n",
    "## Plan for today\n",
    "\n",
    "1. Review key machine learning concepts\n",
    "2. Review of last week's exercise: Using a machine learning approach to find the best parameters for a head-direction cell.\n",
    "3. Introduction to deep neuronal networks (neuron, layer, several layers)\n",
    "4. Pose estimation using Deeplabcut\n",
    "5. Using the output of Deeplabcut\n",
    "\n",
    "***\n"
   ]
  },
  {
   "cell_type": "markdown",
   "metadata": {},
   "source": [
    "# Machine learning briefly\n",
    "\n",
    "* This gives computer the ability to learn without being explicitely programmed (Arthur Samuel, 1959).\n",
    "\n",
    "## Types\n",
    "\n",
    "* Prediction versus inference\n",
    "* Supervised versus unsupervised\n",
    "* Regression versus classification\n",
    "\n",
    "These concepts are useful to quickly find the right tool (model) for your problem/task.\n",
    "\n",
    "## How do computers learn?\n",
    "\n",
    "Often using an iterative process (i.e. a loop).\n",
    "\n",
    "1. Feed data to your model\n",
    "2. Calculate the error (loss).\n",
    "3. Adjust the model parameters by a small amount to minimize the loss, using gradients.\n",
    "4. Go back to 1 until the gradients are near 0.\n",
    "\n",
    "\n",
    "## Our linear regression model\n",
    "\n",
    "* One of the simplest models.\n",
    "* $Y = wX + b$\n",
    "* $Y$: target\n",
    "* $X$: features (inputs)\n",
    "* $w$ is the slope and $b$ is the intercept.\n",
    "* We found the best parameters ($w$ and $b$) that minimize a loss function.\n",
    "\n"
   ]
  },
  {
   "cell_type": "markdown",
   "metadata": {},
   "source": [
    "***\n",
    "\n",
    "## Back to our exercise at the end o Lecture 4\n",
    "\n",
    "Can you find the best parameters to explain the firing rate of a head direction cell?\n"
   ]
  },
  {
   "cell_type": "markdown",
   "metadata": {},
   "source": [
    "*** \n",
    "## Deep neural networks\n",
    "\n",
    "* Mathematical entities capable of representing complicated functions through a composition of simpler functions.\n",
    "* Deep neural network have **multiple layers** between the input and output layers. \n",
    "* New data comes from the left, and calculations propagates towards the ouput layer.\n",
    "\n",
    "\n",
    "<div>\n",
    "<img src=\"../images/deep-neural-network.png\" width=\"500\"/>\n",
    "</div>\n",
    "\n",
    "\n"
   ]
  },
  {
   "cell_type": "markdown",
   "metadata": {},
   "source": [
    "***\n",
    "## Artificial neuron\n",
    "\n",
    "A **neuron** is the building block of the neural network.\n",
    "\n",
    "\n",
    "They do 3 things: \n",
    "* A linear transofrmation of the inputs\n",
    "* Adding a constant \n",
    "* Applying a fixed nonlinear function (activation fucntion)\n",
    "    \n",
    "The input can be a single value or a vector. The output can be a single value or a vector."
   ]
  },
  {
   "cell_type": "markdown",
   "metadata": {},
   "source": [
    "Artificial neurons are not too complicated. We can easily code one to understand how they work."
   ]
  },
  {
   "cell_type": "code",
   "execution_count": 1,
   "metadata": {},
   "outputs": [],
   "source": [
    "def printInputWeightBias(inputData,w,b):\n",
    "    \"\"\"\n",
    "    Function to print the shape and data in inputData, weights and biases\n",
    "    \"\"\"\n",
    "    print(\"************\")\n",
    "    print(\"inputData.shape:\",inputData.shape)\n",
    "    print(\"inputData:\",inputData)\n",
    "    print(\"************\")\n",
    "    print(\"weights.shape:\", w.shape)\n",
    "    print(\"weights:\",w)\n",
    "    print(\"************\")\n",
    "    print(\"bias.shape\", b.shape)\n",
    "    print(\"bias:\",b)"
   ]
  },
  {
   "cell_type": "markdown",
   "metadata": {},
   "source": [
    "We prepare some input data, weights (w) and bias (b)."
   ]
  },
  {
   "cell_type": "code",
   "execution_count": 2,
   "metadata": {},
   "outputs": [
    {
     "name": "stdout",
     "output_type": "stream",
     "text": [
      "************\n",
      "inputData.shape: (1, 15)\n",
      "inputData: [[-1.         -0.85714286 -0.71428571 -0.57142857 -0.42857143 -0.28571429\n",
      "  -0.14285714  0.          0.14285714  0.28571429  0.42857143  0.57142857\n",
      "   0.71428571  0.85714286  1.        ]]\n",
      "************\n",
      "weights.shape: (15, 1)\n",
      "weights: [[-0.18468015]\n",
      " [-0.38299482]\n",
      " [ 0.40889229]\n",
      " [-0.46137439]\n",
      " [ 0.25151171]\n",
      " [-0.20320171]\n",
      " [-0.33376924]\n",
      " [ 0.45906811]\n",
      " [-0.07973366]\n",
      " [ 0.12204047]\n",
      " [ 0.18967848]\n",
      " [ 0.28783763]\n",
      " [ 0.32508536]\n",
      " [ 0.41020194]\n",
      " [-0.1917968 ]]\n",
      "************\n",
      "bias.shape (1,)\n",
      "bias: [0.63283957]\n"
     ]
    }
   ],
   "source": [
    "import numpy as np\n",
    "import matplotlib.pyplot as plt\n",
    "\n",
    "inputSize=15\n",
    "inputData = np.linspace(-1,1,inputSize).reshape(-1,inputSize) # 2D array as input\n",
    "w = np.random.random(inputSize).reshape(inputSize,-1)-0.5 # numbers weights between -0.5 and 0.5, 1D array matching the size of input\n",
    "b = np.random.random(1) # a bias term \n",
    "\n",
    "printInputWeightBias(inputData,w,b)"
   ]
  },
  {
   "cell_type": "markdown",
   "metadata": {},
   "source": [
    "We can write a simple function to represent the calculation of a neuron. The formula is very similar to a regression model, with the addition of a non-linear function."
   ]
  },
  {
   "cell_type": "code",
   "execution_count": 4,
   "metadata": {},
   "outputs": [],
   "source": [
    "def neuron_function(inputData,w,b):\n",
    "    \"\"\"\n",
    "    Operation performed by a single neuron\n",
    "    \n",
    "    inputData@w is the dot product of 2 matrices.\n",
    "    \"\"\"\n",
    "    return np.tanh(inputData@w + b)"
   ]
  },
  {
   "cell_type": "code",
   "execution_count": 5,
   "metadata": {},
   "outputs": [
    {
     "data": {
      "text/plain": [
       "array([[0.94432637]])"
      ]
     },
     "execution_count": 5,
     "metadata": {},
     "output_type": "execute_result"
    }
   ],
   "source": [
    "neuron_function(inputData,w,b) "
   ]
  },
  {
   "cell_type": "markdown",
   "metadata": {},
   "source": [
    "The main role of the np.tanh function is to add some non-linearity in the network. Instead of having a straight line, we get a s-shaped curve."
   ]
  },
  {
   "cell_type": "code",
   "execution_count": 6,
   "metadata": {},
   "outputs": [
    {
     "data": {
      "image/png": "[encoded data removed]",
      "text/plain": [
       "<Figure size 432x288 with 1 Axes>"
      ]
     },
     "metadata": {
      "needs_background": "light"
     },
     "output_type": "display_data"
    }
   ],
   "source": [
    "inputs = np.linspace(-10,10)\n",
    "plt.plot(inputs,np.tanh(inputs))\n",
    "plt.xlabel(\"input\")\n",
    "plt.ylabel(\"output\")\n",
    "plt.show()"
   ]
  },
  {
   "cell_type": "markdown",
   "metadata": {},
   "source": [
    "A neuron is just  a linear function (like our linear regression model) within a non-linear function (here tanh). The tanh function limits the output from -1 to 1 and adds non-linearity to our model.\n",
    "\n",
    "See [hyperbolic functions](https://en.wikipedia.org/wiki/Hyperbolic_functions)\n",
    "\n",
    "See [relu function](https://en.wikipedia.org/wiki/Rectifier_(neural_networks))"
   ]
  },
  {
   "cell_type": "markdown",
   "metadata": {},
   "source": [
    "## A layer of neurons"
   ]
  },
  {
   "cell_type": "markdown",
   "metadata": {},
   "source": [
    "A layer is just a group of neurons. \n",
    "\n",
    "Each neuron in a layer has its own set of weights and its own bias.\n",
    "\n",
    "The neurons of the layer often have the same inputs, but different weights."
   ]
  },
  {
   "cell_type": "markdown",
   "metadata": {},
   "source": [
    "To code for a layer instead of a single neuron\n",
    "* the 1D weight vector becomes a 2D weight array, one column per neuron\n",
    "* We get one bias term per neuron"
   ]
  },
  {
   "cell_type": "code",
   "execution_count": 7,
   "metadata": {},
   "outputs": [
    {
     "name": "stdout",
     "output_type": "stream",
     "text": [
      "************\n",
      "inputData.shape: (1, 15)\n",
      "inputData: [[-1.         -0.85714286 -0.71428571 -0.57142857 -0.42857143 -0.28571429\n",
      "  -0.14285714  0.          0.14285714  0.28571429  0.42857143  0.57142857\n",
      "   0.71428571  0.85714286  1.        ]]\n",
      "************\n",
      "weights.shape: (15, 4)\n",
      "weights: [[-0.25753505 -0.19434912  0.08629063  0.4585031 ]\n",
      " [-0.44180971  0.11155728  0.03202752 -0.05070886]\n",
      " [ 0.40482651 -0.46155191  0.06712512  0.31557366]\n",
      " [-0.25672694  0.25849019  0.35557527 -0.15967454]\n",
      " [-0.09827817  0.12296072 -0.24956253  0.0838999 ]\n",
      " [ 0.41072509  0.44243887 -0.39537998 -0.06327942]\n",
      " [-0.24180213 -0.2768018   0.07976678  0.31455467]\n",
      " [ 0.36746023 -0.44906371 -0.43491326  0.13078072]\n",
      " [-0.0649652   0.3744037  -0.43771287  0.05473662]\n",
      " [ 0.0410685  -0.21816747 -0.04718241  0.46569898]\n",
      " [ 0.18358391  0.06820025 -0.41221841 -0.01994043]\n",
      " [ 0.01048984  0.33238499 -0.18033332  0.37429047]\n",
      " [ 0.38107232 -0.24675543  0.41607557 -0.10306866]\n",
      " [ 0.33271095 -0.3957729  -0.01474883  0.32340241]\n",
      " [-0.27122357 -0.43551164 -0.13185753 -0.48231599]]\n",
      "************\n",
      "bias.shape (4,)\n",
      "bias: [1. 1. 1. 1.]\n"
     ]
    }
   ],
   "source": [
    "import numpy as np\n",
    "import matplotlib.pyplot as plt\n",
    "\n",
    "inputSize=15\n",
    "nNeurons = 4\n",
    "inputData = np.linspace(-1,1,inputSize).reshape(-1,inputSize) # 2D array as input\n",
    "w = np.random.random(inputSize*nNeurons).reshape(inputSize,nNeurons)-0.5 # numbers weights between -0.5 and 0.5, 2D array matching\n",
    "b = np.ones(nNeurons) # bias terms, one per neuron\n",
    "\n",
    "printInputWeightBias(inputData,w,b)"
   ]
  },
  {
   "cell_type": "code",
   "execution_count": 8,
   "metadata": {},
   "outputs": [],
   "source": [
    "def neuron_function(inputData,w,b):\n",
    "    \"\"\"\n",
    "    Operation performed by a single neuron.\n",
    "    \n",
    "    The same function also works for an entire layer\n",
    "    \"\"\"\n",
    "    return np.tanh(inputData@w + b)"
   ]
  },
  {
   "cell_type": "code",
   "execution_count": 9,
   "metadata": {},
   "outputs": [
    {
     "name": "stdout",
     "output_type": "stream",
     "text": [
      "Output shape: (1, 4)\n",
      "[[0.9494686  0.38033446 0.56532452 0.42637445]]\n"
     ]
    }
   ],
   "source": [
    "outputs = neuron_function(inputData,w,b)\n",
    "print(\"Output shape:\", outputs.shape)\n",
    "print(outputs)\n"
   ]
  },
  {
   "cell_type": "markdown",
   "metadata": {},
   "source": [
    "## Several layers\n",
    "\n",
    "The output of one layer is passed to the next layer."
   ]
  },
  {
   "cell_type": "code",
   "execution_count": 11,
   "metadata": {},
   "outputs": [
    {
     "name": "stdout",
     "output_type": "stream",
     "text": [
      "Input\n",
      "[[-1.         -0.85714286 -0.71428571 -0.57142857 -0.42857143 -0.28571429\n",
      "  -0.14285714  0.          0.14285714  0.28571429  0.42857143  0.57142857\n",
      "   0.71428571  0.85714286  1.        ]]\n",
      "Output layer 1\n",
      "[[ 0.94624317  0.2163406   0.66276724  0.84886477 -0.12485791  0.88768983\n",
      "   0.60642138  0.96575938  0.65219173  0.48062931  0.78089527  0.96913608\n",
      "   0.99043684  0.10302712  0.82125549]]\n",
      "Output layer 2\n",
      "[[ 0.98579385  0.8372154   0.21043451  0.86565953  0.84255004  0.83460519\n",
      "   0.8037163   0.38168967  0.44638979  0.56099689 -0.05871242  0.67344487\n",
      "   0.91446552  0.60195715  0.96937327]]\n"
     ]
    }
   ],
   "source": [
    "inputSize=15\n",
    "nNeurons=15\n",
    "\n",
    "inputData = np.linspace(-1,1,inputSize).reshape(-1,inputSize) # 1D array as input\n",
    "\n",
    "# layer 1 of 15 neurons\n",
    "w_1 = np.random.random(inputSize*nNeurons).reshape(inputSize,nNeurons)-0.5 # numbers weights between 0 and 1, 1D array matching the size of input\n",
    "b_1 = np.ones(nNeurons) # a bias term \n",
    "\n",
    "# layer 2 of 15 neurons\n",
    "w_2 = np.random.random(inputSize*nNeurons).reshape(inputSize,nNeurons)-0.5 # numbers weights between 0 and 1, 1D array matching the size of input\n",
    "b_2 = np.ones(nNeurons) # a bias term \n",
    "\n",
    "print(\"Input\")\n",
    "print(inputData)\n",
    "output_layer1 = neuron_function(inputData,w_1,b_1) # takes inputData as input\n",
    "print(\"Output layer 1\")\n",
    "print(output_layer1)\n",
    "output_layer2 = neuron_function(output_layer1,w_2,b_2) #takes output_layer1 as input\n",
    "print(\"Output layer 2\")\n",
    "print(output_layer2)"
   ]
  },
  {
   "cell_type": "markdown",
   "metadata": {},
   "source": [
    "The code above creates a 2-layer deep neural network.\n",
    "\n",
    "If you want to build deep neural network, I highly recommend using a [pytorch](https://pytorch.org/) or [tensorflow](https://www.tensorflow.org/).\n",
    "\n",
    "A good book covering pytorch is [Deep Learning with PyTorch](https://www.manning.com/books/deep-learning-with-pytorch) from Eli Stevens, Luca Antiga and Thomas Viehmann"
   ]
  },
  {
   "cell_type": "markdown",
   "metadata": {},
   "source": [
    "## Convolutional neural networks (CNN)\n",
    "\n",
    "Bate back to 1989 (Yann LeCun). They are great at detecting objects and classifying images. \n",
    "\n",
    "\n",
    "\n",
    "<div>\n",
    "<img src=\"../images/convolution1.png\" width=\"800\"/>\n",
    "</div>"
   ]
  },
  {
   "cell_type": "markdown",
   "metadata": {},
   "source": [
    "## One of the first convolutional neural network.\n",
    "\n",
    "LeCun et al. (1989). Backpropagation applied to handwritten zip code recognition. Neural Computation.\n",
    "\n",
    "Neurons have receptive fields, similar to what is observed in the visual system.\n",
    "\n",
    "\n",
    "<div>\n",
    "<img src=\"../images/LeNet5.png\" width=\"1200\"/>\n",
    "</div>"
   ]
  },
  {
   "cell_type": "markdown",
   "metadata": {},
   "source": [
    "## Convolutional Neural Networks as feature detectors\n",
    "\n",
    "\n",
    "<div>\n",
    "<img src=\"../images/imageNet_features_01.png\" width=\"300\"/>\n",
    "</div>\n",
    "\n",
    "\n",
    "<div>\n",
    "<img src=\"../images/imageNet_features_02.png\" width=\"600\"/>\n",
    "</div>\n",
    "\n",
    "\n",
    "\n",
    "<div>\n",
    "<img src=\"../images/imageNet_features_03.png\" width=\"600\"/>\n",
    "</div>\n",
    "\n",
    "<div>\n",
    "<img src=\"../images/imageNet_features_04.png\" width=\"600\"/>\n",
    "</div>\n",
    "\n"
   ]
  },
  {
   "cell_type": "markdown",
   "metadata": {},
   "source": [
    "## ImageNet competition: 1.3 million images and 1000 classes\n",
    "\n",
    "<div>\n",
    "<img src=\"../images/imageNetResults.png\" width=\"800\"/>\n",
    "</div>\n",
    "\n"
   ]
  },
  {
   "cell_type": "markdown",
   "metadata": {},
   "source": [
    "## Deeplabcut"
   ]
  },
  {
   "cell_type": "markdown",
   "metadata": {},
   "source": [
    "* A method for 3D markerless pose estimation\n",
    "* Uses a deep neural network that was pretrained on image classification\n",
    "* Matches human accuracy, but is much faster\n",
    "* Based on open-source technologies (python, tensorflow, etc)\n",
    "* Training with a graphics card or with online services\n",
    "* Very popular (>5000 followers on Twitter)\n",
    "\n",
    "Previous alternative: video recordings with markers on the animal.\n",
    "\n",
    "Deeplabcut is very well documented.\n",
    "\n",
    "https://www.nature.com/articles/s41593-018-0209-y\n",
    "\n",
    "http://www.mackenziemathislab.org/deeplabcut\n",
    "\n",
    "https://www.nature.com/articles/s41596-019-0176-0\n",
    "\n"
   ]
  },
  {
   "cell_type": "markdown",
   "metadata": {},
   "source": [
    "<div>\n",
    "<img src=\"../images/dlcOverview.png\"/>\n",
    "</div>\n",
    "\n",
    "***"
   ]
  },
  {
   "cell_type": "markdown",
   "metadata": {},
   "source": [
    "<div>\n",
    "<img src=\"../images/MathisFigure1.png\"/>\n",
    "</div>\n"
   ]
  },
  {
   "cell_type": "markdown",
   "metadata": {},
   "source": [
    "***\n",
    "<div>\n",
    "<img src=\"../images/MathisFigure2.png\"/>\n",
    "</div>\n"
   ]
  },
  {
   "cell_type": "markdown",
   "metadata": {},
   "source": [
    "## Getting started\n",
    "\n",
    "I recommend downloading the deeplabcut repository. It contains jupyter notebooks that can be used as examples. They are located in `DeepLabCut/examples/JUPYTER`. To train your network on Google Colab, look in `DeepLabCut/examples/COLAB`\n",
    "\n",
    "For our purpose, I created 3 notebooks that I saved in `dataNeuroMaster/deeplabcut/`. They are largely based on the examples in the DeepLabCut repository.\n",
    "\n",
    "* Demo_youowndata.ipynb\n",
    "* Colab_yourowndata.ipynb\n",
    "* Use_dlc_output.ipynb"
   ]
  },
  {
   "cell_type": "code",
   "execution_count": null,
   "metadata": {},
   "outputs": [],
   "source": []
  }
 ],
 "metadata": {
  "kernelspec": {
   "display_name": "Python 3 (ipykernel)",
   "language": "python",
   "name": "python3"
  },
  "language_info": {
   "codemirror_mode": {
    "name": "ipython",
    "version": 3
   },
   "file_extension": ".py",
   "mimetype": "text/x-python",
   "name": "python",
   "nbconvert_exporter": "python",
   "pygments_lexer": "ipython3",
   "version": "3.10.6"
  }
 },
 "nbformat": 4,
 "nbformat_minor": 4
}
