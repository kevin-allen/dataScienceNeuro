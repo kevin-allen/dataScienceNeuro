{
 "cells": [
  {
   "cell_type": "markdown",
   "id": "d9efad43-9376-4462-8230-65a9257e203f",
   "metadata": {},
   "source": [
    "# Week 5, Data science in Neuroscience\n",
    "\n",
    "\n",
    "## Plan for this week\n",
    "\n",
    "1. Introduction to pytorch\n",
    "2. Tensors\n",
    "3. Train a linear model with pytorch\n",
    "4. Train a simple neural network with pytorch\n",
    "5. A convolutional network to process images (second session)\n",
    "\n",
    "***\n",
    "## pytorch installation\n",
    "\n",
    "You will need to install the pytorch library to run the content of this notebook. There are instructions for installing pytorch on Windows computers [here](https://github.com/kevin-allen/dataScienceNeuro/blob/main/installation.md)\n",
    "\n",
    "Alternatively, you could use Google Colab to run the notebook. You will need to follow the instructions [here](https://github.com/kevin-allen/dataScienceNeuro/blob/main/colab.md) to load data files from Google Colab.  "
   ]
  },
  {
   "cell_type": "markdown",
   "id": "292609aa-be99-4315-a706-6db36b521119",
   "metadata": {},
   "source": [
    "*** \n",
    "## Deep neural networks\n",
    "\n",
    "* Mathematical entities capable of representing complicated functions through a composition of simpler functions.\n",
    "* Deep neural network have **multiple layers** between the input and output layers. \n",
    "* Each layer has several artificial neurons. \n",
    "* New data comes from the left, and calculations propagates towards the ouput layer.\n",
    "\n",
    "\n",
    "<div>\n",
    "<img src=\"../images/deep-neural-network.png\" width=\"500\"/>\n",
    "</div>\n",
    "\n",
    "\n"
   ]
  },
  {
   "cell_type": "markdown",
   "id": "cbbfe8fa-1e73-4ffb-a247-02b7703cd10f",
   "metadata": {},
   "source": [
    "***\n",
    "## Artificial neuron\n",
    "\n",
    "A **neuron** is the building block of the neural network.\n",
    "\n",
    "\n",
    "They do 3 things: \n",
    "* A linear transofrmation of the inputs\n",
    "* Adding a constant \n",
    "* Applying a fixed nonlinear function (activation fucntion)\n",
    "    \n",
    "The input can be a single value or a vector. The output can be a single value or a vector.\n",
    "***\n",
    "### Linear model \n",
    "\n",
    "<img src=\"../images/neuron_linear.png\" width=\"500\" align=\"center\">\n",
    "\n",
    "***\n",
    "\n",
    "### Artificial neuron\n",
    "\n",
    "\n",
    "\n",
    "<img src=\"../images/artificial_neuron.png\" width=\"500\" align=\"center\">"
   ]
  },
  {
   "cell_type": "markdown",
   "id": "77c602b6-ef2c-47d4-bfc0-edc6dfc8c6c9",
   "metadata": {},
   "source": [
    "***\n",
    "<div>\n",
    "<img src=\"../images/pytorch.png\" width=\"400\"/>\n",
    "</div>\n",
    "\n",
    "Pytorch is a Python library that facilitates building deep learning projects\n",
    "\n",
    "* Store data into Tensors (multidimensional arrays that are similar to NumPy arrays)\n",
    "* Allows fast calculations on dedicated hardware (GPUs)\n",
    "* Ability of tensors to keep track of the operations performed on them and to analytically compute derivatives\n",
    "* Classes to deal with datasets\n",
    "* Classes to simplify building deep neural networks"
   ]
  },
  {
   "cell_type": "markdown",
   "id": "9451fd19-97ab-4f96-bfa5-fdd3d4f06704",
   "metadata": {},
   "source": [
    "# Tensors\n",
    "\n",
    "pytorch tensors are very similar to NumPy arrays. They have 2 main advantages\n",
    "\n",
    "* Used to do calculations on a GPU\n",
    "* Can keep track of the graph of computations that created them (used to calculate derivatives) "
   ]
  },
  {
   "cell_type": "code",
   "execution_count": 1,
   "id": "75edf9c5-b4ea-404b-850c-a742d0c4dfbe",
   "metadata": {},
   "outputs": [],
   "source": [
    "import torch\n",
    "import numpy as np\n",
    "import matplotlib.pyplot as plt"
   ]
  },
  {
   "cell_type": "markdown",
   "id": "5d73e5f6-30db-426b-994e-25668f46409b",
   "metadata": {},
   "source": [
    "Creating tensors"
   ]
  },
  {
   "cell_type": "code",
   "execution_count": 5,
   "id": "84582524-415e-4085-b368-8affacdce948",
   "metadata": {},
   "outputs": [
    {
     "data": {
      "text/plain": [
       "tensor([1., 1., 1., 1., 1.])"
      ]
     },
     "execution_count": 5,
     "metadata": {},
     "output_type": "execute_result"
    }
   ],
   "source": [
    "torch.ones(5)"
   ]
  },
  {
   "cell_type": "code",
   "execution_count": 6,
   "id": "0514f17f-f61b-4a60-b625-7e8a31a3ac92",
   "metadata": {},
   "outputs": [
    {
     "data": {
      "text/plain": [
       "tensor([[0., 0., 0., 0.],\n",
       "        [0., 0., 0., 0.],\n",
       "        [0., 0., 0., 0.]])"
      ]
     },
     "execution_count": 6,
     "metadata": {},
     "output_type": "execute_result"
    }
   ],
   "source": [
    "torch.zeros(3,4)"
   ]
  },
  {
   "cell_type": "code",
   "execution_count": 7,
   "id": "c838a5a5-425c-4161-99d5-cc507ee10953",
   "metadata": {},
   "outputs": [
    {
     "data": {
      "text/plain": [
       "tensor([[1., 2.],\n",
       "        [3., 4.]])"
      ]
     },
     "execution_count": 7,
     "metadata": {},
     "output_type": "execute_result"
    }
   ],
   "source": [
    "a = torch.tensor([[1.0,2],[3,4]])\n",
    "a"
   ]
  },
  {
   "cell_type": "markdown",
   "id": "d461f2c6-7e17-4048-8011-2f9a34c78f0d",
   "metadata": {},
   "source": [
    "You can interrogate a tensor just like a NumPy array."
   ]
  },
  {
   "cell_type": "code",
   "execution_count": 8,
   "id": "3c75c040-cac0-418a-a5f4-c58520151d16",
   "metadata": {},
   "outputs": [
    {
     "name": "stdout",
     "output_type": "stream",
     "text": [
      "shape: torch.Size([2, 2])\n",
      "ndim: 2\n",
      "dtype: torch.float32\n"
     ]
    }
   ],
   "source": [
    "print(\"shape:\", a.shape)\n",
    "print(\"ndim:\", a.ndim)\n",
    "print(\"dtype:\", a.dtype)"
   ]
  },
  {
   "cell_type": "markdown",
   "id": "448f7b47-f6ad-48d9-acfa-bf434be1d029",
   "metadata": {},
   "source": [
    "You can generate random numbers with `torch.rand()`. You can change the shape of an array with `.reshape()`. Many of the mathematical functions of NumPy have a torch equivalent."
   ]
  },
  {
   "cell_type": "code",
   "execution_count": 9,
   "id": "8c8a2f41-d83c-4221-962f-240102ccf101",
   "metadata": {},
   "outputs": [
    {
     "data": {
      "text/plain": [
       "tensor([[0.6144, 0.4495, 0.4905, 0.4258, 0.7809, 0.3953],\n",
       "        [0.3718, 0.4750, 0.0327, 0.2532, 0.8423, 0.9509],\n",
       "        [0.0725, 0.4664, 0.7375, 0.9218, 0.6229, 0.7245],\n",
       "        [0.2329, 0.7277, 0.5285, 0.8302, 0.2308, 0.5957]])"
      ]
     },
     "execution_count": 9,
     "metadata": {},
     "output_type": "execute_result"
    }
   ],
   "source": [
    "b = torch.rand(24).reshape(4,6)\n",
    "b"
   ]
  },
  {
   "cell_type": "code",
   "execution_count": 10,
   "id": "c4a6c72d-57df-4a57-bada-5edadb3c8a55",
   "metadata": {},
   "outputs": [
    {
     "data": {
      "text/plain": [
       "torch.Size([4, 6])"
      ]
     },
     "execution_count": 10,
     "metadata": {},
     "output_type": "execute_result"
    }
   ],
   "source": [
    "b.shape"
   ]
  },
  {
   "cell_type": "code",
   "execution_count": 11,
   "id": "69ef7381-d380-4b6d-b771-c5b21c3149c1",
   "metadata": {},
   "outputs": [
    {
     "data": {
      "text/plain": [
       "tensor(0.5322)"
      ]
     },
     "execution_count": 11,
     "metadata": {},
     "output_type": "execute_result"
    }
   ],
   "source": [
    "b.mean()"
   ]
  },
  {
   "cell_type": "code",
   "execution_count": 12,
   "id": "0d1d291f-95c4-4193-890e-478ba80d4785",
   "metadata": {},
   "outputs": [
    {
     "data": {
      "text/plain": [
       "tensor([0.3229, 0.5297, 0.4473, 0.6077, 0.6192, 0.6666])"
      ]
     },
     "execution_count": 12,
     "metadata": {},
     "output_type": "execute_result"
    }
   ],
   "source": [
    "b.mean(axis=0)"
   ]
  },
  {
   "cell_type": "markdown",
   "id": "8390d942-335d-444c-9030-49d948a22c0c",
   "metadata": {},
   "source": [
    "We can add an extra dimension with a size of 1 using `.unsqueeze()`."
   ]
  },
  {
   "cell_type": "code",
   "execution_count": 13,
   "id": "47214dcb-f60b-44d2-af7d-d9b6aa2110e2",
   "metadata": {},
   "outputs": [
    {
     "data": {
      "text/plain": [
       "torch.Size([4, 6])"
      ]
     },
     "execution_count": 13,
     "metadata": {},
     "output_type": "execute_result"
    }
   ],
   "source": [
    "b.shape"
   ]
  },
  {
   "cell_type": "code",
   "execution_count": 14,
   "id": "40e72eba-6624-4ef2-872b-64a0da157a59",
   "metadata": {},
   "outputs": [
    {
     "data": {
      "text/plain": [
       "torch.Size([1, 4, 6])"
      ]
     },
     "execution_count": 14,
     "metadata": {},
     "output_type": "execute_result"
    }
   ],
   "source": [
    "b.unsqueeze(0).shape"
   ]
  },
  {
   "cell_type": "markdown",
   "id": "39a0a679-bbed-48f5-83ff-ea75155d809f",
   "metadata": {},
   "source": [
    "We can do broadcasting, just like with NumPy arrays.\n",
    "\n",
    "```\n",
    "When operating on two arrays, pytorch compares their shapes element-wise. It starts with the trailing (i.e. rightmost) dimensions and works its way left. Two dimensions are compatible when\n",
    "​\n",
    "* they are equal, or\n",
    "* one of them is 1\n",
    "```\n"
   ]
  },
  {
   "cell_type": "code",
   "execution_count": 15,
   "id": "44e6208a-2c00-46f2-978b-6798f43d87b0",
   "metadata": {},
   "outputs": [
    {
     "data": {
      "text/plain": [
       "torch.Size([4, 6])"
      ]
     },
     "execution_count": 15,
     "metadata": {},
     "output_type": "execute_result"
    }
   ],
   "source": [
    "b.shape"
   ]
  },
  {
   "cell_type": "code",
   "execution_count": 16,
   "id": "e0a826bd-eeea-45cb-8336-502fdc9eabe4",
   "metadata": {},
   "outputs": [
    {
     "data": {
      "text/plain": [
       "torch.Size([4])"
      ]
     },
     "execution_count": 16,
     "metadata": {},
     "output_type": "execute_result"
    }
   ],
   "source": [
    "a = torch.ones(4)\n",
    "a.shape"
   ]
  },
  {
   "cell_type": "code",
   "execution_count": 17,
   "id": "492c3216-1131-45c7-9b28-ca54774aba73",
   "metadata": {},
   "outputs": [],
   "source": [
    "#b+a"
   ]
  },
  {
   "cell_type": "markdown",
   "id": "fc253b48-e251-4fd9-8e20-6eb8cdf52613",
   "metadata": {},
   "source": [
    "We can add a dimension of size 1 with `.unsqeeze()`"
   ]
  },
  {
   "cell_type": "code",
   "execution_count": 18,
   "id": "78369733-b85f-4e21-b025-0d5edb277554",
   "metadata": {},
   "outputs": [
    {
     "data": {
      "text/plain": [
       "torch.Size([4, 1])"
      ]
     },
     "execution_count": 18,
     "metadata": {},
     "output_type": "execute_result"
    }
   ],
   "source": [
    "A = a.unsqueeze(1)\n",
    "A.shape"
   ]
  },
  {
   "cell_type": "code",
   "execution_count": 19,
   "id": "ad91fc62-727c-4004-a019-154423b33b4a",
   "metadata": {},
   "outputs": [
    {
     "data": {
      "text/plain": [
       "tensor([[1.6144, 1.4495, 1.4905, 1.4258, 1.7809, 1.3953],\n",
       "        [1.3718, 1.4750, 1.0327, 1.2532, 1.8423, 1.9509],\n",
       "        [1.0725, 1.4664, 1.7375, 1.9218, 1.6229, 1.7245],\n",
       "        [1.2329, 1.7277, 1.5285, 1.8302, 1.2308, 1.5957]])"
      ]
     },
     "execution_count": 19,
     "metadata": {},
     "output_type": "execute_result"
    }
   ],
   "source": [
    "b+A"
   ]
  },
  {
   "cell_type": "markdown",
   "id": "d6181d78-49bb-43ef-95dc-050c6c2c82e9",
   "metadata": {},
   "source": [
    "We can get rid of a dimension of size 1 with `.squeeze()`"
   ]
  },
  {
   "cell_type": "code",
   "execution_count": 20,
   "id": "62ffb900-53ff-48fc-9936-0b7b6844e8db",
   "metadata": {},
   "outputs": [
    {
     "data": {
      "text/plain": [
       "(torch.Size([4, 1]), torch.Size([4]))"
      ]
     },
     "execution_count": 20,
     "metadata": {},
     "output_type": "execute_result"
    }
   ],
   "source": [
    "A.shape, A.squeeze().shape"
   ]
  },
  {
   "cell_type": "markdown",
   "id": "fefcf269-ed33-4e72-9433-ea49274fd273",
   "metadata": {},
   "source": [
    "We can change the order of the dimensions in a tensor with `.permute()`"
   ]
  },
  {
   "cell_type": "code",
   "execution_count": 21,
   "id": "d480f06d-aa3c-40bc-a635-156abc045c6b",
   "metadata": {},
   "outputs": [
    {
     "data": {
      "text/plain": [
       "torch.Size([4, 6])"
      ]
     },
     "execution_count": 21,
     "metadata": {},
     "output_type": "execute_result"
    }
   ],
   "source": [
    "b.shape"
   ]
  },
  {
   "cell_type": "code",
   "execution_count": 22,
   "id": "63940f7e-a9b1-4df2-b353-06acf01d8a5e",
   "metadata": {},
   "outputs": [
    {
     "data": {
      "text/plain": [
       "tensor([[[0.9656, 0.0686, 0.2223, 0.7485, 0.9397, 0.5746],\n",
       "         [0.6957, 0.0254, 0.7154, 0.9803, 0.0938, 0.0272],\n",
       "         [0.5540, 0.0975, 0.9018, 0.7650, 0.0212, 0.2413],\n",
       "         [0.3560, 0.4634, 0.1063, 0.5530, 0.6958, 0.8216]],\n",
       "\n",
       "        [[0.2891, 0.4564, 0.0447, 0.4715, 0.4863, 0.9990],\n",
       "         [0.3606, 0.0761, 0.0202, 0.6726, 0.1827, 0.3111],\n",
       "         [0.4392, 0.2306, 0.0045, 0.6453, 0.3220, 0.4096],\n",
       "         [0.6244, 0.9414, 0.2097, 0.2999, 0.2815, 0.4804]],\n",
       "\n",
       "        [[0.2132, 0.1623, 0.5651, 0.2427, 0.6943, 0.4653],\n",
       "         [0.3209, 0.7887, 0.7925, 0.6457, 0.4517, 0.6494],\n",
       "         [0.2721, 0.8276, 0.2742, 0.1945, 0.0182, 0.6407],\n",
       "         [0.3551, 0.5891, 0.8204, 0.1065, 0.2127, 0.1689]]])"
      ]
     },
     "execution_count": 22,
     "metadata": {},
     "output_type": "execute_result"
    }
   ],
   "source": [
    "b = torch.rand(3*24).reshape(3,4,6)\n",
    "b"
   ]
  },
  {
   "cell_type": "code",
   "execution_count": 23,
   "id": "14217858-e57e-4400-9047-6fc61854913e",
   "metadata": {},
   "outputs": [
    {
     "data": {
      "text/plain": [
       "torch.Size([3, 4, 6])"
      ]
     },
     "execution_count": 23,
     "metadata": {},
     "output_type": "execute_result"
    }
   ],
   "source": [
    "b.shape"
   ]
  },
  {
   "cell_type": "code",
   "execution_count": 24,
   "id": "df280f0d-bd7a-4c4b-a1ed-64b5cba9c8f9",
   "metadata": {},
   "outputs": [
    {
     "data": {
      "text/plain": [
       "torch.Size([4, 6, 3])"
      ]
     },
     "execution_count": 24,
     "metadata": {},
     "output_type": "execute_result"
    }
   ],
   "source": [
    "b = b.permute(1,2,0)\n",
    "b.shape"
   ]
  },
  {
   "cell_type": "markdown",
   "id": "9e5d5cbe-d3e2-43c6-b502-7ae1d0c3879f",
   "metadata": {},
   "source": [
    "### Moving tensors to the GPU\n",
    "\n",
    "Once you moved your tensors to the GPU, calculations on these tensors will be performed on the GPU. "
   ]
  },
  {
   "cell_type": "code",
   "execution_count": 2,
   "id": "7da9ab7d-fc5c-49e0-944d-ff30497baac6",
   "metadata": {},
   "outputs": [
    {
     "data": {
      "text/plain": [
       "tensor([0.6806, 0.8016, 0.9860, 0.6890, 0.3687, 0.4968, 0.6966, 0.6239, 0.8902,\n",
       "        0.5927])"
      ]
     },
     "execution_count": 2,
     "metadata": {},
     "output_type": "execute_result"
    }
   ],
   "source": [
    "b = torch.rand(10)\n",
    "b"
   ]
  },
  {
   "cell_type": "code",
   "execution_count": 3,
   "id": "894ffad4-2610-48bd-927f-ad765580c743",
   "metadata": {},
   "outputs": [
    {
     "data": {
      "text/plain": [
       "False"
      ]
     },
     "execution_count": 3,
     "metadata": {},
     "output_type": "execute_result"
    }
   ],
   "source": [
    "torch.cuda.is_available()"
   ]
  },
  {
   "cell_type": "code",
   "execution_count": 4,
   "id": "0fa87b3e-317b-4cd5-99f0-14da73151328",
   "metadata": {},
   "outputs": [
    {
     "name": "stdout",
     "output_type": "stream",
     "text": [
      "Using device: cpu\n",
      "\n"
     ]
    }
   ],
   "source": [
    "device = torch.device('cuda' if torch.cuda.is_available() else 'cpu')\n",
    "print('Using device:', device)\n",
    "print()"
   ]
  },
  {
   "cell_type": "code",
   "execution_count": 28,
   "id": "abc4789e-d400-47c9-a078-ff796b09a7da",
   "metadata": {},
   "outputs": [
    {
     "data": {
      "text/plain": [
       "tensor([0.6645, 0.9570, 0.8701, 0.8357, 0.3523, 0.7404, 0.9919, 0.1667, 0.6684,\n",
       "        0.1496])"
      ]
     },
     "execution_count": 28,
     "metadata": {},
     "output_type": "execute_result"
    }
   ],
   "source": [
    "b"
   ]
  },
  {
   "cell_type": "code",
   "execution_count": 29,
   "id": "25a754df-d114-4944-a87f-c2d59a1a6840",
   "metadata": {},
   "outputs": [],
   "source": [
    "b = b.to(device)"
   ]
  },
  {
   "cell_type": "code",
   "execution_count": 30,
   "id": "e6e12002-bd6f-4577-b2ea-ce7eb7e6efde",
   "metadata": {},
   "outputs": [
    {
     "data": {
      "text/plain": [
       "tensor([0.6645, 0.9570, 0.8701, 0.8357, 0.3523, 0.7404, 0.9919, 0.1667, 0.6684,\n",
       "        0.1496])"
      ]
     },
     "execution_count": 30,
     "metadata": {},
     "output_type": "execute_result"
    }
   ],
   "source": [
    "b"
   ]
  },
  {
   "cell_type": "code",
   "execution_count": 31,
   "id": "088f08ba-337f-4721-94f8-50d740de9e94",
   "metadata": {},
   "outputs": [
    {
     "data": {
      "text/plain": [
       "tensor([0.6645, 0.9570, 0.8701, 0.8357, 0.3523, 0.7404, 0.9919, 0.1667, 0.6684,\n",
       "        0.1496])"
      ]
     },
     "execution_count": 31,
     "metadata": {},
     "output_type": "execute_result"
    }
   ],
   "source": [
    "b = b.to(\"cpu\")\n",
    "b"
   ]
  },
  {
   "cell_type": "code",
   "execution_count": 32,
   "id": "a89747d8-4413-454e-bb94-61d6b0768418",
   "metadata": {},
   "outputs": [],
   "source": [
    "#b = b.to(\"cuda\")\n",
    "#b"
   ]
  },
  {
   "cell_type": "markdown",
   "id": "236e590f-c384-4ea6-8034-1c56da08fec2",
   "metadata": {},
   "source": [
    "## From pytorch tensors to NumPy arrays and back\n",
    "\n",
    "You can go between tensors and NumPy arrays using `torch.from_numpy()` and `myTensor.numpy()`"
   ]
  },
  {
   "cell_type": "code",
   "execution_count": 33,
   "id": "ccd6ab34-b963-497e-9690-23871a6b7566",
   "metadata": {},
   "outputs": [
    {
     "name": "stdout",
     "output_type": "stream",
     "text": [
      "<class 'torch.Tensor'>\n",
      "<class 'numpy.ndarray'>\n"
     ]
    }
   ],
   "source": [
    "points_pt = torch.tensor([2,3,4])\n",
    "print(type(points_pt))\n",
    "points_np = points_pt.numpy()\n",
    "print(type(points_np))"
   ]
  },
  {
   "cell_type": "code",
   "execution_count": 34,
   "id": "c9ed2828-5751-4509-867a-fdaa33747422",
   "metadata": {},
   "outputs": [
    {
     "data": {
      "text/plain": [
       "tensor([1, 2, 3, 4])"
      ]
     },
     "execution_count": 34,
     "metadata": {},
     "output_type": "execute_result"
    }
   ],
   "source": [
    "a = np.array([1,2,3,4])\n",
    "torch.from_numpy(a)"
   ]
  },
  {
   "cell_type": "markdown",
   "id": "6101da6d-d3e9-42c2-bdc6-6b5e81c5d47c",
   "metadata": {},
   "source": [
    "***\n",
    "# Training a linear model using pytorch\n",
    "\n",
    "We will recreate our machine learning example of week 2 using pytorch.\n",
    "\n",
    "We want to predict the firing rate of a neuron from the running speed of the animal.\n"
   ]
  },
  {
   "cell_type": "code",
   "execution_count": 7,
   "id": "859ea102-0904-4adf-bcbf-41931c8fd30f",
   "metadata": {},
   "outputs": [],
   "source": [
    "fn = \"../data/animal_speed.npy\""
   ]
  },
  {
   "cell_type": "code",
   "execution_count": 8,
   "id": "b1d95614-1503-434c-a760-d1e8978a46bf",
   "metadata": {},
   "outputs": [],
   "source": [
    "speed = np.load(fn)\n",
    "speed = speed[0:100]"
   ]
  },
  {
   "cell_type": "code",
   "execution_count": 9,
   "id": "d650d561-153c-4c2f-af9e-90c005d7e534",
   "metadata": {},
   "outputs": [],
   "source": [
    "w = 1.25 # weight (slope)\n",
    "b = 10 # bias (intercept)\n",
    "np.random.seed(0)\n",
    "e = np.random.normal(loc=0.0, scale=5, size = speed.shape[0]) # random numbers taken from a normal distribution\n",
    "\n",
    "rate = speed* w + b + e # simulate the firing rate\n",
    "rate = np.maximum(0, rate) # eliminate the negative firing rates"
   ]
  },
  {
   "cell_type": "code",
   "execution_count": 10,
   "id": "a02f063c-2d56-4441-846a-62b7e2079401",
   "metadata": {},
   "outputs": [
    {
     "data": {
      "text/plain": [
       "Text(0, 0.5, 'Firing rate (Hz)')"
      ]
     },
     "execution_count": 10,
     "metadata": {},
     "output_type": "execute_result"
    },
    {
     "data": {
      "image/png": "[encoded data removed]",
      "text/plain": [
       "<Figure size 640x480 with 1 Axes>"
      ]
     },
     "metadata": {},
     "output_type": "display_data"
    }
   ],
   "source": [
    "plt.scatter(speed,rate)\n",
    "plt.xlabel(\"Running speed (cm/sec)\")\n",
    "plt.ylabel(\"Firing rate (Hz)\")"
   ]
  },
  {
   "cell_type": "markdown",
   "id": "8030a6ad-bc95-492f-b375-a1e8540e7fc1",
   "metadata": {},
   "source": [
    "### Create a model with pytorch\n",
    "\n",
    "We will recreate our **linear regression model** using pytorch. \n",
    "\n",
    "\n",
    "$yhat = b+ w*X$\n",
    "\n",
    "\n",
    "<img src=\"../images/neuron_linear.png\" width=\"500\" align=\"center\">\n",
    "\n",
    "https://pytorch.org/docs/stable/generated/torch.nn.Linear.html\n",
    "\n",
    "This is **not a neural network**, but a linear model."
   ]
  },
  {
   "cell_type": "code",
   "execution_count": 12,
   "id": "f73636be-22e9-4829-a6bf-3414bc4a3403",
   "metadata": {},
   "outputs": [],
   "source": [
    "import torch.nn as nn\n",
    "\n",
    "class Lin_model(nn.Module):\n",
    "    \"\"\"\n",
    "    Class to create pytorch model.\n",
    "    \"\"\"\n",
    "    def __init__(self):\n",
    "        \"\"\"\n",
    "        Initializer. Runs when an object is created\n",
    "        \"\"\"\n",
    "        super().__init__()\n",
    "        self.linLayer = nn.Linear(in_features=1, out_features=1, bias=True)\n",
    "    def forward(self,x):\n",
    "        \"\"\"\n",
    "        Make predictions with our model\n",
    "        \"\"\"\n",
    "        out = self.linLayer(x)\n",
    "        return out"
   ]
  },
  {
   "cell_type": "markdown",
   "id": "79327e12-8f15-453b-9f75-e41537d8b72c",
   "metadata": {},
   "source": [
    "We define our model using a class that inherits from `nn.Module`.\n",
    "\n",
    "We will use a similar class definition for more complex models."
   ]
  },
  {
   "cell_type": "code",
   "execution_count": 13,
   "id": "937f7ddc-398b-4403-b643-fb9f8ec27fbc",
   "metadata": {},
   "outputs": [],
   "source": [
    "lin_model = Lin_model() # create model from our class definition"
   ]
  },
  {
   "cell_type": "markdown",
   "id": "8d3c5d0a-8527-46d1-8c81-4b0fcb45b509",
   "metadata": {},
   "source": [
    "The parameters of the models are created automatically when creating the model.\n",
    "\n",
    "We can use this for loop to print the parameters."
   ]
  },
  {
   "cell_type": "code",
   "execution_count": 17,
   "id": "6879c34a-7687-41ce-992d-0d3d6cc990d8",
   "metadata": {},
   "outputs": [
    {
     "name": "stdout",
     "output_type": "stream",
     "text": [
      "linLayer.weight Parameter containing:\n",
      "tensor([[-0.5640]], requires_grad=True)\n",
      "linLayer.bias Parameter containing:\n",
      "tensor([0.2238], requires_grad=True)\n"
     ]
    }
   ],
   "source": [
    "for name,p in lin_model.named_parameters():\n",
    "    print(name, p)"
   ]
  },
  {
   "cell_type": "code",
   "execution_count": 18,
   "id": "71ba443c-93f0-4c87-ad5a-bf68997d5590",
   "metadata": {},
   "outputs": [
    {
     "name": "stdout",
     "output_type": "stream",
     "text": [
      "Number of parameters: 2\n"
     ]
    }
   ],
   "source": [
    "print(\"Number of parameters:\", sum(p.numel() for p in lin_model.parameters()))"
   ]
  },
  {
   "cell_type": "markdown",
   "id": "3e4586fe-47d2-47f9-9a90-91f6a9c1a850",
   "metadata": {},
   "source": [
    "### Loss function"
   ]
  },
  {
   "cell_type": "markdown",
   "id": "e68936a2-f7ae-4e44-839f-a186721229d1",
   "metadata": {},
   "source": [
    "pytorch has built-in loss functions that we can use in our training loop. We will use the mean squared error (MSE)."
   ]
  },
  {
   "cell_type": "code",
   "execution_count": 19,
   "id": "296a69ec-42ab-4c0d-8dce-b5f582ec9bdf",
   "metadata": {},
   "outputs": [],
   "source": [
    "# loss function returning MSE\n",
    "loss_fn = torch.nn.MSELoss()"
   ]
  },
  {
   "cell_type": "markdown",
   "id": "28484fc5-dd93-4e3c-9d32-30c6f351a307",
   "metadata": {},
   "source": [
    "### pytorch optimizers\n",
    "\n",
    "Optimizers are used to change our model parameters during learning.\n",
    "\n",
    "There are several optimization strategies and tricks that can improve learning. \n",
    "\n",
    "There are more important when building deep neural networks than for linear regression models.\n",
    "\n",
    "Let's see how to use the SGD optimizer."
   ]
  },
  {
   "cell_type": "code",
   "execution_count": 20,
   "id": "8d2538f9-e68f-4dc0-8bec-84e3e2cfd91b",
   "metadata": {},
   "outputs": [],
   "source": [
    "import torch.optim as optim"
   ]
  },
  {
   "cell_type": "code",
   "execution_count": 22,
   "id": "05904662-357f-4eb8-8925-caccc6eb402c",
   "metadata": {},
   "outputs": [],
   "source": [
    "learning_rate = 0.001\n",
    "optimizer = optim.SGD(lin_model.parameters(),lr=learning_rate)"
   ]
  },
  {
   "cell_type": "markdown",
   "id": "34716493-4af0-435d-9700-047978cd3d02",
   "metadata": {},
   "source": [
    "## Data format for our model\n",
    "\n",
    "* X: input data\n",
    "* y: labels or values that we want to predict\n",
    "\n",
    "\n",
    "We need to store them in `tensors`.\n",
    "\n",
    "X: Input data, the first dimension (rows) is for the observations. The second dimension is for features. We only have 1 input feature (speed), so the second dimension will have a size of 1.\n",
    "\n",
    "y: The first dimension (rows) is for the observations. The second is for the output features. In this case, we have one output feature (firing rate)"
   ]
  },
  {
   "cell_type": "code",
   "execution_count": 25,
   "id": "f83160fa-b063-4a66-a35b-eaa296847fd2",
   "metadata": {},
   "outputs": [],
   "source": [
    "X = torch.from_numpy(speed).unsqueeze(1).float()"
   ]
  },
  {
   "cell_type": "code",
   "execution_count": 26,
   "id": "cd01df09-a3f2-4e90-ae45-400d2351bde0",
   "metadata": {},
   "outputs": [
    {
     "data": {
      "text/plain": [
       "torch.Size([100, 1])"
      ]
     },
     "execution_count": 26,
     "metadata": {},
     "output_type": "execute_result"
    }
   ],
   "source": [
    "X.shape"
   ]
  },
  {
   "cell_type": "code",
   "execution_count": 27,
   "id": "ead28246-4bd4-4603-94d5-d6cdcc40b776",
   "metadata": {},
   "outputs": [
    {
     "data": {
      "text/plain": [
       "torch.Size([100, 1])"
      ]
     },
     "execution_count": 27,
     "metadata": {},
     "output_type": "execute_result"
    }
   ],
   "source": [
    "y = torch.from_numpy(rate).unsqueeze(1).float()\n",
    "y.shape"
   ]
  },
  {
   "cell_type": "markdown",
   "id": "088d2051-c80c-47cd-9f8c-ca8336e647ac",
   "metadata": {},
   "source": [
    "### One forward pass \n",
    "\n",
    "We now all our needed element to train our model.\n",
    "\n",
    "Before using our training loop, it is a good idea to run one forward pass outside of the for loop to identify potential problems.\n",
    "\n",
    "We run all the steps that will be in our training loop."
   ]
  },
  {
   "cell_type": "code",
   "execution_count": 28,
   "id": "53fcb5fc-f099-4359-ae91-0a183f761ed8",
   "metadata": {},
   "outputs": [
    {
     "name": "stdout",
     "output_type": "stream",
     "text": [
      "linLayer.weight Parameter containing:\n",
      "tensor([[-0.5640]], requires_grad=True)\n",
      "linLayer.bias Parameter containing:\n",
      "tensor([0.2238], requires_grad=True)\n"
     ]
    }
   ],
   "source": [
    "for name,p in lin_model.named_parameters():\n",
    "    print(name,p)"
   ]
  },
  {
   "cell_type": "code",
   "execution_count": 30,
   "id": "a65d6a9d-e78d-476e-bdc9-5396340f1ae9",
   "metadata": {},
   "outputs": [],
   "source": [
    "yhat = lin_model(X)"
   ]
  },
  {
   "cell_type": "code",
   "execution_count": 32,
   "id": "e4c5d164-18bf-4894-9526-ba4a785572ad",
   "metadata": {},
   "outputs": [],
   "source": [
    "loss =  loss_fn(yhat,y)"
   ]
  },
  {
   "cell_type": "code",
   "execution_count": 33,
   "id": "13b7dc2b-5a55-4d15-a541-8d04a5033186",
   "metadata": {},
   "outputs": [],
   "source": [
    "optimizer.zero_grad() # zero the gradients"
   ]
  },
  {
   "cell_type": "code",
   "execution_count": 34,
   "id": "ac371ec2-2b6d-47d2-8f04-88c38e80ebd4",
   "metadata": {},
   "outputs": [],
   "source": [
    "loss.backward() # calculate gradients"
   ]
  },
  {
   "cell_type": "code",
   "execution_count": 35,
   "id": "6fedba28-965b-46e8-86bf-b8482a2309bc",
   "metadata": {},
   "outputs": [],
   "source": [
    "optimizer.step() # will change the model parameters to reduce the loss        "
   ]
  },
  {
   "cell_type": "code",
   "execution_count": 36,
   "id": "98409462-5621-4708-90b4-dc13b4778dd2",
   "metadata": {},
   "outputs": [
    {
     "name": "stdout",
     "output_type": "stream",
     "text": [
      "linLayer.weight Parameter containing:\n",
      "tensor([[1.1331]], requires_grad=True)\n",
      "linLayer.bias Parameter containing:\n",
      "tensor([0.3060], requires_grad=True)\n"
     ]
    }
   ],
   "source": [
    "for name,p in lin_model.named_parameters():\n",
    "    print(name,p)"
   ]
  },
  {
   "cell_type": "markdown",
   "id": "b3684a6f-2e33-43a6-885b-c18bf0605f93",
   "metadata": {},
   "source": [
    "### Training loop\n",
    "\n",
    "We want a generic training loop that will work in most situations."
   ]
  },
  {
   "cell_type": "code",
   "execution_count": 37,
   "id": "ff583d6d-269b-4c69-9337-34dbc3383d3c",
   "metadata": {},
   "outputs": [],
   "source": [
    "## training loop that will modify our parameters to minimize the loss function (MSE)\n",
    "def training_loop(n_epochs, optimizer, loss_fn, model, X,y):\n",
    "    for epoch in range (n_epochs):\n",
    "        \n",
    "        yhat = model(X) # make predictions\n",
    "        loss = loss_fn(yhat,y) # calculate the loss\n",
    "        optimizer.zero_grad() # zero the gradients of our model's parameters\n",
    "        loss.backward() # calculate gradients of the model's parameters\n",
    "        optimizer.step() # will change the model parameters to reduce the loss\n",
    "        \n",
    "        \n",
    "        if epoch % 1000 ==0 or epoch < 10:\n",
    "            print(\"Epoch: {}, Loss: {}\".format(epoch,loss))\n",
    "    return"
   ]
  },
  {
   "cell_type": "code",
   "execution_count": 38,
   "id": "ea233c1d-8358-4c8f-8c2e-73f0aee9c3b7",
   "metadata": {},
   "outputs": [
    {
     "name": "stdout",
     "output_type": "stream",
     "text": [
      "Epoch: 0, Loss: 170.02667236328125\n",
      "Epoch: 1, Loss: 55.81074142456055\n",
      "Epoch: 2, Loss: 48.57118225097656\n",
      "Epoch: 3, Loss: 48.09504318237305\n",
      "Epoch: 4, Loss: 48.04652786254883\n",
      "Epoch: 5, Loss: 48.02507781982422\n",
      "Epoch: 6, Loss: 48.00533676147461\n",
      "Epoch: 7, Loss: 47.98573303222656\n",
      "Epoch: 8, Loss: 47.966148376464844\n",
      "Epoch: 9, Loss: 47.94658279418945\n",
      "Epoch: 1000, Loss: 34.93854904174805\n",
      "Epoch: 2000, Loss: 29.39569664001465\n",
      "Epoch: 3000, Loss: 27.065502166748047\n",
      "Epoch: 4000, Loss: 26.085895538330078\n",
      "Epoch: 5000, Loss: 25.6740665435791\n",
      "Epoch: 6000, Loss: 25.500938415527344\n",
      "Epoch: 7000, Loss: 25.42815399169922\n",
      "Epoch: 8000, Loss: 25.397554397583008\n",
      "Epoch: 9000, Loss: 25.384687423706055\n",
      "Epoch: 10000, Loss: 25.379281997680664\n",
      "Epoch: 11000, Loss: 25.37700843811035\n",
      "Epoch: 12000, Loss: 25.376054763793945\n",
      "Epoch: 13000, Loss: 25.375652313232422\n",
      "Epoch: 14000, Loss: 25.3754825592041\n",
      "Epoch: 15000, Loss: 25.375411987304688\n",
      "Epoch: 16000, Loss: 25.375383377075195\n",
      "Epoch: 17000, Loss: 25.3753662109375\n",
      "Epoch: 18000, Loss: 25.3753604888916\n",
      "Epoch: 19000, Loss: 25.375364303588867\n"
     ]
    }
   ],
   "source": [
    "training_loop(n_epochs = 20000,\n",
    "              optimizer = optimizer,\n",
    "              loss_fn = loss_fn,\n",
    "              model=lin_model,\n",
    "              X = X,\n",
    "              y=y)"
   ]
  },
  {
   "cell_type": "code",
   "execution_count": 39,
   "id": "d78d66c6-63d3-4d14-81b9-b87ed3e788e3",
   "metadata": {},
   "outputs": [
    {
     "name": "stdout",
     "output_type": "stream",
     "text": [
      "Parameter containing:\n",
      "tensor([[1.2343]], requires_grad=True)\n",
      "Parameter containing:\n",
      "tensor([10.5678], requires_grad=True)\n"
     ]
    }
   ],
   "source": [
    "for p in lin_model.parameters():\n",
    "    print(p)"
   ]
  },
  {
   "cell_type": "code",
   "execution_count": 40,
   "id": "081bc520-5f1f-4327-8c1c-2d70703671de",
   "metadata": {},
   "outputs": [
    {
     "data": {
      "text/plain": [
       "torch.Size([100, 1])"
      ]
     },
     "execution_count": 40,
     "metadata": {},
     "output_type": "execute_result"
    }
   ],
   "source": [
    "t_range = torch.arange(0,50,0.5).unsqueeze(1)\n",
    "t_range.shape"
   ]
  },
  {
   "cell_type": "code",
   "execution_count": 41,
   "id": "cbfe91c1-952c-451e-acd9-340417f126ca",
   "metadata": {},
   "outputs": [],
   "source": [
    "lin_yhat = lin_model(t_range)"
   ]
  },
  {
   "cell_type": "code",
   "execution_count": 42,
   "id": "09ca8bf6-5030-47e0-9197-de2d5aa5c24f",
   "metadata": {},
   "outputs": [
    {
     "data": {
      "text/plain": [
       "<matplotlib.legend.Legend at 0x7f498f02ddb0>"
      ]
     },
     "execution_count": 42,
     "metadata": {},
     "output_type": "execute_result"
    },
    {
     "data": {
      "image/png": "[encoded data removed]",
      "text/plain": [
       "<Figure size 640x480 with 1 Axes>"
      ]
     },
     "metadata": {},
     "output_type": "display_data"
    }
   ],
   "source": [
    "plt.scatter(speed,rate)\n",
    "plt.plot(t_range.numpy(),lin_yhat.detach().numpy(),label=\"Linear model\")\n",
    "plt.xlabel(\"Running speed (cm/sec)\")\n",
    "plt.ylabel(\"Firing rate (Hz)\")\n",
    "plt.legend()"
   ]
  },
  {
   "cell_type": "markdown",
   "id": "64f5be12-692a-401d-9cf0-17d4b2cb79fc",
   "metadata": {},
   "source": [
    "We found the parameters that were used to simulate the data."
   ]
  },
  {
   "cell_type": "markdown",
   "id": "01d2c5e5-cb15-4265-b171-ea82f96f814a",
   "metadata": {},
   "source": [
    "# A first neural network"
   ]
  },
  {
   "cell_type": "markdown",
   "id": "7e0c0e0b-f99f-4cd7-b99a-94bd64d9a581",
   "metadata": {},
   "source": [
    "* Mathematical entities capable of representing complicated functions through a composition of simpler functions.\n",
    "* Deep neural network have **multiple layers** between the input and output layers. \n",
    "* Each layer has several artificial neurons. \n",
    "* New data comes from the left, and calculations propagates towards the ouput layer.\n",
    "\n"
   ]
  },
  {
   "cell_type": "markdown",
   "id": "bcca6356-30bb-4b55-a5ef-d9f6a2ad1a3e",
   "metadata": {},
   "source": [
    "***\n",
    "\n",
    "* A neuron in a neural network has one more non-linear function. \n",
    "\n",
    "<img src=\"../images/artificial_neuron.png\" width=\"500\" align=\"center\">"
   ]
  },
  {
   "cell_type": "markdown",
   "id": "3ec474f9-32f7-4b2e-9387-aabf74a35cb6",
   "metadata": {},
   "source": [
    "The non-linear function allows the model to have different slope at different values.\n",
    "\n",
    "The non-linear function of the neuron is called the **activation function**."
   ]
  },
  {
   "cell_type": "code",
   "execution_count": 43,
   "id": "0d62c1c7-706e-4ef9-8b2d-6925358908f0",
   "metadata": {},
   "outputs": [
    {
     "data": {
      "text/plain": [
       "Text(0.5, 1.0, 'Non-linear model: tanh(w*x+b)')"
      ]
     },
     "execution_count": 43,
     "metadata": {},
     "output_type": "execute_result"
    },
    {
     "data": {
      "image/png": "[encoded data removed]",
      "text/plain": [
       "<Figure size 900x300 with 2 Axes>"
      ]
     },
     "metadata": {},
     "output_type": "display_data"
    }
   ],
   "source": [
    "nrow=1\n",
    "ncol=2\n",
    "fig, ax = plt.subplots(nrow,ncol,figsize=(9,3))\n",
    "\n",
    "XX = np.linspace(-4,4) # input\n",
    "          \n",
    "w=1.25\n",
    "b=1.0\n",
    "                \n",
    "ax[0].plot(XX,w*XX+b)\n",
    "ax[0].set_title(\"Linear model: w*x+b\")\n",
    "\n",
    "ax[1].plot(XX,np.tanh(w*XX+b))\n",
    "ax[1].set_title(\"Non-linear model: tanh(w*x+b)\")"
   ]
  },
  {
   "cell_type": "markdown",
   "id": "ba6cff40-68de-4199-9798-ed40e136f5af",
   "metadata": {},
   "source": [
    "In neural network, we have **several artificial neurons**. \n",
    "\n",
    "The output of several neurons is summed to get the output.\n",
    "\n",
    "Let's build a neural network to predict the firing rate from the speed of the animal."
   ]
  },
  {
   "cell_type": "code",
   "execution_count": 48,
   "id": "de43dbcb-f1e5-4db7-be63-295d563830a0",
   "metadata": {},
   "outputs": [],
   "source": [
    "class NN_model(nn.Module):\n",
    "    \"\"\"\n",
    "    Class to create pytorch model. This is a neural network because of the non-linear function.\n",
    "    \"\"\"\n",
    "    def __init__(self):\n",
    "        \"\"\"\n",
    "        Initializer. Runs when an object is created\n",
    "        \"\"\"\n",
    "        super().__init__()\n",
    "        self.layer1 = nn.Linear(in_features=1, out_features=5, bias=True)\n",
    "        self.tanh = nn.Tanh()\n",
    "        self.layer2 = nn.Linear(in_features=5, out_features=1, bias=True)\n",
    "        \n",
    "    def forward(self,x):\n",
    "        \"\"\"\n",
    "        Make predictions with our model\n",
    "        \"\"\"\n",
    "        out = self.layer1(x)\n",
    "        out = self.tanh(out)\n",
    "        out = self.layer2(out)\n",
    "        return out"
   ]
  },
  {
   "cell_type": "code",
   "execution_count": 49,
   "id": "b532da6d-8708-46ff-bc79-ee0621155380",
   "metadata": {},
   "outputs": [],
   "source": [
    "nn_model = NN_model()"
   ]
  },
  {
   "cell_type": "code",
   "execution_count": 50,
   "id": "28716996-71be-4b98-805f-2518a44070ed",
   "metadata": {},
   "outputs": [
    {
     "name": "stdout",
     "output_type": "stream",
     "text": [
      "layer1.weight Parameter containing:\n",
      "tensor([[0.7528],\n",
      "        [0.2765],\n",
      "        [0.1031],\n",
      "        [0.3082],\n",
      "        [0.0207]], requires_grad=True)\n",
      "layer1.bias Parameter containing:\n",
      "tensor([ 0.5394,  0.0220,  0.4581, -0.5057,  0.8088], requires_grad=True)\n",
      "layer2.weight Parameter containing:\n",
      "tensor([[-0.4071,  0.3502, -0.0772, -0.1134, -0.2120]], requires_grad=True)\n",
      "layer2.bias Parameter containing:\n",
      "tensor([0.2952], requires_grad=True)\n"
     ]
    }
   ],
   "source": [
    "for name, p in nn_model.named_parameters():\n",
    "    print(name,p)"
   ]
  },
  {
   "cell_type": "code",
   "execution_count": 51,
   "id": "c28c727b-927b-4a7d-9ae9-981169debd5f",
   "metadata": {},
   "outputs": [
    {
     "name": "stdout",
     "output_type": "stream",
     "text": [
      "Number of parameters: 16\n"
     ]
    }
   ],
   "source": [
    "print(\"Number of parameters:\", sum(p.numel() for p in nn_model.parameters()))"
   ]
  },
  {
   "cell_type": "code",
   "execution_count": 52,
   "id": "e21fdd14-1b27-446c-bebc-0904ae177956",
   "metadata": {},
   "outputs": [],
   "source": [
    "learning_rate=0.0001\n",
    "optimizer = optim.SGD(nn_model.parameters(),lr=learning_rate)"
   ]
  },
  {
   "cell_type": "code",
   "execution_count": 53,
   "id": "4e1c251f-33df-4fb4-97ac-665908c1dded",
   "metadata": {},
   "outputs": [
    {
     "name": "stdout",
     "output_type": "stream",
     "text": [
      "Epoch: 0, Loss: 1160.2049560546875\n",
      "Epoch: 1, Loss: 1157.40673828125\n",
      "Epoch: 2, Loss: 1154.2642822265625\n",
      "Epoch: 3, Loss: 1150.309326171875\n",
      "Epoch: 4, Loss: 1144.6085205078125\n",
      "Epoch: 5, Loss: 1137.81982421875\n",
      "Epoch: 6, Loss: 1132.7376708984375\n",
      "Epoch: 7, Loss: 1129.0562744140625\n",
      "Epoch: 8, Loss: 1126.03125\n",
      "Epoch: 9, Loss: 1123.324951171875\n",
      "Epoch: 1000, Loss: 232.6788330078125\n",
      "Epoch: 2000, Loss: 115.29815673828125\n",
      "Epoch: 3000, Loss: 85.64826202392578\n",
      "Epoch: 4000, Loss: 71.67119598388672\n",
      "Epoch: 5000, Loss: 62.58470153808594\n",
      "Epoch: 6000, Loss: 59.68964385986328\n",
      "Epoch: 7000, Loss: 55.27320861816406\n",
      "Epoch: 8000, Loss: 51.11891174316406\n",
      "Epoch: 9000, Loss: 49.657875061035156\n",
      "Epoch: 10000, Loss: 62.02762222290039\n",
      "Epoch: 11000, Loss: 47.7774772644043\n",
      "Epoch: 12000, Loss: 42.643489837646484\n",
      "Epoch: 13000, Loss: 39.97211456298828\n",
      "Epoch: 14000, Loss: 38.0668830871582\n",
      "Epoch: 15000, Loss: 36.59050750732422\n",
      "Epoch: 16000, Loss: 35.4085807800293\n",
      "Epoch: 17000, Loss: 34.446510314941406\n",
      "Epoch: 18000, Loss: 33.65572738647461\n",
      "Epoch: 19000, Loss: 33.00227355957031\n",
      "Epoch: 20000, Loss: 32.460235595703125\n",
      "Epoch: 21000, Loss: 32.00914001464844\n",
      "Epoch: 22000, Loss: 31.631725311279297\n",
      "Epoch: 23000, Loss: 31.313549041748047\n",
      "Epoch: 24000, Loss: 31.042470932006836\n",
      "Epoch: 25000, Loss: 30.808286666870117\n",
      "Epoch: 26000, Loss: 30.602872848510742\n",
      "Epoch: 27000, Loss: 30.419910430908203\n",
      "Epoch: 28000, Loss: 30.2541561126709\n",
      "Epoch: 29000, Loss: 30.102733612060547\n"
     ]
    }
   ],
   "source": [
    "training_loop(n_epochs = 30000,\n",
    "              optimizer = optimizer,\n",
    "              loss_fn = loss_fn,\n",
    "              model=nn_model,\n",
    "              X = X,\n",
    "              y=y)"
   ]
  },
  {
   "cell_type": "code",
   "execution_count": 54,
   "id": "583cc8d4-33da-4995-b437-6c5cc5789737",
   "metadata": {},
   "outputs": [
    {
     "name": "stdout",
     "output_type": "stream",
     "text": [
      "layer1.weight Parameter containing:\n",
      "tensor([[ 0.6184],\n",
      "        [ 0.6331],\n",
      "        [ 0.0659],\n",
      "        [ 0.1159],\n",
      "        [-0.1754]], requires_grad=True)\n",
      "layer1.bias Parameter containing:\n",
      "tensor([ 0.3312, -0.2621,  0.3314, -1.2805,  4.7678], requires_grad=True)\n",
      "layer2.weight Parameter containing:\n",
      "tensor([[ 9.0461,  9.8071,  9.3307,  9.1021, -9.8570]], requires_grad=True)\n",
      "layer2.bias Parameter containing:\n",
      "tensor([9.7333], requires_grad=True)\n"
     ]
    }
   ],
   "source": [
    "for name, p in nn_model.named_parameters():\n",
    "    print(name,p)"
   ]
  },
  {
   "cell_type": "markdown",
   "id": "7e999fa1-8ff6-4c95-be49-7a50272dd376",
   "metadata": {},
   "source": [
    "### Let's compare our linear model with our small neural network"
   ]
  },
  {
   "cell_type": "code",
   "execution_count": 55,
   "id": "3107c826-8e04-4487-9a17-f1abed7e11b8",
   "metadata": {},
   "outputs": [
    {
     "data": {
      "text/plain": [
       "torch.Size([100, 1])"
      ]
     },
     "execution_count": 55,
     "metadata": {},
     "output_type": "execute_result"
    }
   ],
   "source": [
    "t_range = torch.arange(0,50,0.5).unsqueeze(1)\n",
    "t_range.shape"
   ]
  },
  {
   "cell_type": "code",
   "execution_count": 56,
   "id": "04190165-a30e-4bde-b3ad-fed1ae685cae",
   "metadata": {},
   "outputs": [],
   "source": [
    "lin_yhat = lin_model(t_range)\n",
    "nn_yhat = nn_model(t_range)"
   ]
  },
  {
   "cell_type": "markdown",
   "id": "95026c3a-6ffd-4fbf-aa82-b6cbf58bf562",
   "metadata": {},
   "source": [
    "To plot the `yhat` tensors, we need to call `.detach()` because the tensor have associated gradients."
   ]
  },
  {
   "cell_type": "code",
   "execution_count": 57,
   "id": "f0bdf262-5a74-441f-9825-32eb2c280f59",
   "metadata": {},
   "outputs": [
    {
     "data": {
      "text/plain": [
       "<matplotlib.legend.Legend at 0x7f498e79fa60>"
      ]
     },
     "execution_count": 57,
     "metadata": {},
     "output_type": "execute_result"
    },
    {
     "data": {
      "image/png": "[encoded data removed]",
      "text/plain": [
       "<Figure size 640x480 with 1 Axes>"
      ]
     },
     "metadata": {},
     "output_type": "display_data"
    }
   ],
   "source": [
    "plt.scatter(speed,rate)\n",
    "plt.plot(t_range.numpy(),nn_yhat.detach().numpy(),label=\"Neural network\")\n",
    "plt.plot(t_range.numpy(),lin_yhat.detach().numpy(),label=\"Linear model\")\n",
    "plt.xlabel(\"Running speed (cm/sec)\")\n",
    "plt.ylabel(\"Firing rate (Hz)\")\n",
    "plt.legend()"
   ]
  },
  {
   "cell_type": "markdown",
   "id": "bca0460b-a02c-4535-8a49-cc0ddb7a55f1",
   "metadata": {},
   "source": [
    "### Neural networks can model all sorts of functions\n",
    "\n",
    "Let's try our two models on some non-linear problems"
   ]
  },
  {
   "cell_type": "code",
   "execution_count": 75,
   "id": "9a6d73bf-6768-429d-81a2-7004844ef7b5",
   "metadata": {},
   "outputs": [
    {
     "name": "stdout",
     "output_type": "stream",
     "text": [
      "torch.Size([100, 1])\n"
     ]
    }
   ],
   "source": [
    "X = torch.arange(0,10,0.1).unsqueeze(1)\n",
    "print(X.shape)\n",
    "y = torch.sin(X)*4 + torch.randn(100, 1)"
   ]
  },
  {
   "cell_type": "code",
   "execution_count": 76,
   "id": "86905410-007d-417f-a5be-8e4a2f7f09b3",
   "metadata": {},
   "outputs": [
    {
     "data": {
      "text/plain": [
       "<matplotlib.collections.PathCollection at 0x7f9b342ddba0>"
      ]
     },
     "execution_count": 76,
     "metadata": {},
     "output_type": "execute_result"
    },
    {
     "data": {
      "image/png": "[encoded data removed]",
      "text/plain": [
       "<Figure size 640x480 with 1 Axes>"
      ]
     },
     "metadata": {},
     "output_type": "display_data"
    }
   ],
   "source": [
    "plt.scatter(X.numpy(),y.numpy())"
   ]
  },
  {
   "cell_type": "code",
   "execution_count": 77,
   "id": "e241ff15-770b-48b7-bc57-129371a2fb23",
   "metadata": {},
   "outputs": [
    {
     "name": "stdout",
     "output_type": "stream",
     "text": [
      "Epoch: 0, Loss: 277.22149658203125\n",
      "Epoch: 1, Loss: 27.86119842529297\n",
      "Epoch: 2, Loss: 25.19709014892578\n",
      "Epoch: 3, Loss: 23.050064086914062\n",
      "Epoch: 4, Loss: 21.283794403076172\n",
      "Epoch: 5, Loss: 19.806684494018555\n",
      "Epoch: 6, Loss: 18.55467414855957\n",
      "Epoch: 7, Loss: 17.481487274169922\n",
      "Epoch: 8, Loss: 16.552810668945312\n",
      "Epoch: 9, Loss: 15.742602348327637\n",
      "Epoch: 1000, Loss: 6.342592239379883\n",
      "Epoch: 2000, Loss: 6.162133693695068\n",
      "Epoch: 3000, Loss: 5.939815044403076\n",
      "Epoch: 4000, Loss: 4.832554817199707\n",
      "Epoch: 5000, Loss: 3.876502752304077\n",
      "Epoch: 6000, Loss: 3.1733412742614746\n",
      "Epoch: 7000, Loss: 2.8581414222717285\n",
      "Epoch: 8000, Loss: 2.7315173149108887\n",
      "Epoch: 9000, Loss: 2.650932550430298\n",
      "Epoch: 10000, Loss: 2.5849993228912354\n",
      "Epoch: 11000, Loss: 2.52431058883667\n",
      "Epoch: 12000, Loss: 2.465627908706665\n",
      "Epoch: 13000, Loss: 2.4086906909942627\n",
      "Epoch: 14000, Loss: 2.3547306060791016\n",
      "Epoch: 15000, Loss: 2.305392265319824\n",
      "Epoch: 16000, Loss: 2.2618110179901123\n",
      "Epoch: 17000, Loss: 2.224240779876709\n",
      "Epoch: 18000, Loss: 2.1922571659088135\n",
      "Epoch: 19000, Loss: 2.1651012897491455\n",
      "Epoch: 20000, Loss: 2.141939163208008\n",
      "Epoch: 21000, Loss: 2.1219823360443115\n",
      "Epoch: 22000, Loss: 2.1045477390289307\n",
      "Epoch: 23000, Loss: 2.089062213897705\n",
      "Epoch: 24000, Loss: 2.0750386714935303\n",
      "Epoch: 25000, Loss: 2.062089204788208\n",
      "Epoch: 26000, Loss: 2.049884080886841\n",
      "Epoch: 27000, Loss: 2.038118600845337\n",
      "Epoch: 28000, Loss: 2.0265488624572754\n",
      "Epoch: 29000, Loss: 2.0149221420288086\n",
      "Epoch: 30000, Loss: 2.00297474861145\n",
      "Epoch: 31000, Loss: 1.9904252290725708\n",
      "Epoch: 32000, Loss: 1.9769421815872192\n",
      "Epoch: 33000, Loss: 1.962125539779663\n",
      "Epoch: 34000, Loss: 1.9454760551452637\n",
      "Epoch: 35000, Loss: 1.9263901710510254\n",
      "Epoch: 36000, Loss: 1.9041703939437866\n",
      "Epoch: 37000, Loss: 1.8781415224075317\n",
      "Epoch: 38000, Loss: 1.8479443788528442\n",
      "Epoch: 39000, Loss: 2.040895700454712\n"
     ]
    }
   ],
   "source": [
    "learning_rate=0.001\n",
    "optimizer = optim.SGD(nn_model.parameters(),lr=learning_rate)\n",
    "training_loop(n_epochs = 40000,\n",
    "              optimizer = optimizer,\n",
    "              loss_fn = loss_fn,\n",
    "              model=nn_model,\n",
    "              X = X,\n",
    "              y=y)"
   ]
  },
  {
   "cell_type": "code",
   "execution_count": 78,
   "id": "3d8a2914-091c-41e3-8feb-6d04d9aabedc",
   "metadata": {},
   "outputs": [
    {
     "name": "stdout",
     "output_type": "stream",
     "text": [
      "Epoch: 0, Loss: 279.4608154296875\n",
      "Epoch: 1, Loss: 246.93887329101562\n",
      "Epoch: 2, Loss: 218.63681030273438\n",
      "Epoch: 3, Loss: 194.0067138671875\n",
      "Epoch: 4, Loss: 172.57192993164062\n",
      "Epoch: 5, Loss: 153.91749572753906\n",
      "Epoch: 6, Loss: 137.6824493408203\n",
      "Epoch: 7, Loss: 123.55264282226562\n",
      "Epoch: 8, Loss: 111.25481414794922\n",
      "Epoch: 9, Loss: 100.55107116699219\n",
      "Epoch: 1000, Loss: 16.22309112548828\n",
      "Epoch: 2000, Loss: 11.439046859741211\n",
      "Epoch: 3000, Loss: 9.666011810302734\n",
      "Epoch: 4000, Loss: 9.008905410766602\n",
      "Epoch: 5000, Loss: 8.765372276306152\n",
      "Epoch: 6000, Loss: 8.675114631652832\n",
      "Epoch: 7000, Loss: 8.6416654586792\n",
      "Epoch: 8000, Loss: 8.629268646240234\n",
      "Epoch: 9000, Loss: 8.624673843383789\n",
      "Epoch: 10000, Loss: 8.622971534729004\n",
      "Epoch: 11000, Loss: 8.622340202331543\n",
      "Epoch: 12000, Loss: 8.622106552124023\n",
      "Epoch: 13000, Loss: 8.622018814086914\n",
      "Epoch: 14000, Loss: 8.621988296508789\n",
      "Epoch: 15000, Loss: 8.62197494506836\n",
      "Epoch: 16000, Loss: 8.621971130371094\n",
      "Epoch: 17000, Loss: 8.621969223022461\n",
      "Epoch: 18000, Loss: 8.621969223022461\n",
      "Epoch: 19000, Loss: 8.621968269348145\n",
      "Epoch: 20000, Loss: 8.621968269348145\n",
      "Epoch: 21000, Loss: 8.621969223022461\n",
      "Epoch: 22000, Loss: 8.621968269348145\n",
      "Epoch: 23000, Loss: 8.621969223022461\n",
      "Epoch: 24000, Loss: 8.621969223022461\n",
      "Epoch: 25000, Loss: 8.621969223022461\n",
      "Epoch: 26000, Loss: 8.621969223022461\n",
      "Epoch: 27000, Loss: 8.621969223022461\n",
      "Epoch: 28000, Loss: 8.621969223022461\n",
      "Epoch: 29000, Loss: 8.621969223022461\n",
      "Epoch: 30000, Loss: 8.621969223022461\n",
      "Epoch: 31000, Loss: 8.621969223022461\n",
      "Epoch: 32000, Loss: 8.621969223022461\n",
      "Epoch: 33000, Loss: 8.621969223022461\n",
      "Epoch: 34000, Loss: 8.621969223022461\n",
      "Epoch: 35000, Loss: 8.621969223022461\n",
      "Epoch: 36000, Loss: 8.621969223022461\n",
      "Epoch: 37000, Loss: 8.621969223022461\n",
      "Epoch: 38000, Loss: 8.621969223022461\n",
      "Epoch: 39000, Loss: 8.621969223022461\n"
     ]
    }
   ],
   "source": [
    "learning_rate=0.001\n",
    "optimizer = optim.SGD(lin_model.parameters(),lr=learning_rate)\n",
    "training_loop(n_epochs = 40000,\n",
    "              optimizer = optimizer,\n",
    "              loss_fn = loss_fn,\n",
    "              model=lin_model,\n",
    "              X = X,\n",
    "              y=y)"
   ]
  },
  {
   "cell_type": "code",
   "execution_count": 79,
   "id": "8d5c7e0b-bbea-46d7-9096-ce81047692f4",
   "metadata": {},
   "outputs": [
    {
     "data": {
      "text/plain": [
       "torch.Size([50, 1])"
      ]
     },
     "execution_count": 79,
     "metadata": {},
     "output_type": "execute_result"
    }
   ],
   "source": [
    "t_range = torch.arange(0,10,0.2).unsqueeze(1)\n",
    "t_range.shape"
   ]
  },
  {
   "cell_type": "code",
   "execution_count": 80,
   "id": "f847e5c8-cbb8-4370-803b-10521e36f2a0",
   "metadata": {},
   "outputs": [],
   "source": [
    "lin_yhat = lin_model(t_range)\n",
    "nn_yhat = nn_model(t_range)"
   ]
  },
  {
   "cell_type": "code",
   "execution_count": 81,
   "id": "9603953d-d1fa-4a2f-ae34-d190a21c760d",
   "metadata": {},
   "outputs": [
    {
     "data": {
      "text/plain": [
       "<matplotlib.legend.Legend at 0x7f9b34105db0>"
      ]
     },
     "execution_count": 81,
     "metadata": {},
     "output_type": "execute_result"
    },
    {
     "data": {
      "image/png": "[encoded data removed]",
      "text/plain": [
       "<Figure size 640x480 with 1 Axes>"
      ]
     },
     "metadata": {},
     "output_type": "display_data"
    }
   ],
   "source": [
    "plt.scatter(X.numpy(),y.numpy())\n",
    "plt.plot(t_range.numpy(),nn_yhat.detach().numpy(),label=\"Neural network\")\n",
    "plt.plot(t_range.numpy(),lin_yhat.detach().numpy(),label=\"Linear model\")\n",
    "plt.xlabel(\"Running speed (cm/sec)\")\n",
    "plt.ylabel(\"Firing rate (Hz)\")\n",
    "plt.legend()"
   ]
  },
  {
   "cell_type": "markdown",
   "id": "11bf39e5-0064-43d8-b4d1-c3dff1cf8804",
   "metadata": {},
   "source": [
    "The non-linearity in the artifical neurons makes it possible to fit all sorts of function.\n",
    "\n",
    "Here, the neural network is a better approximation of the underlying data. "
   ]
  },
  {
   "cell_type": "markdown",
   "id": "78fe7fd9-712b-4254-9b84-552597df8636",
   "metadata": {},
   "source": [
    "## Exercise\n",
    "\n",
    "### Improve our neural network model\n",
    "\n",
    "Our neural network is good but it is not perfect. \n",
    "\n",
    "How could you modify this model to make it fit the data more closely?\n",
    "\n",
    "Have a go at trying to improve its predictions."
   ]
  },
  {
   "cell_type": "code",
   "execution_count": null,
   "id": "c45f2fa6-99a3-4549-9e67-e7da61f4600b",
   "metadata": {},
   "outputs": [],
   "source": []
  },
  {
   "cell_type": "markdown",
   "id": "06cdb4cc-c901-4dc1-9f11-5a94f1e8e5ff",
   "metadata": {},
   "source": [
    "## Adding more hidden layers to create a deep neural network\n",
    "\n",
    "**Deep neural networks** have several hidden layers.\n",
    "\n",
    "* The output of the first layer have a shape similar to the activiation function.\n",
    "* The next level can combine the inputs of the first layers to create more complex functions.\n"
   ]
  },
  {
   "cell_type": "code",
   "execution_count": 82,
   "id": "efafd3b5-a97c-4025-9457-e26891238f97",
   "metadata": {},
   "outputs": [
    {
     "data": {
      "text/plain": [
       "Text(0, 0.5, 'output')"
      ]
     },
     "execution_count": 82,
     "metadata": {},
     "output_type": "execute_result"
    },
    {
     "data": {
      "image/png": "[encoded data removed]",
      "text/plain": [
       "<Figure size 900x300 with 3 Axes>"
      ]
     },
     "metadata": {},
     "output_type": "display_data"
    }
   ],
   "source": [
    "nrow=1\n",
    "ncol=3\n",
    "fig, ax = plt.subplots(nrow,ncol,figsize=(9,3),layout='constrained')\n",
    "\n",
    "XX = np.linspace(-4,4) # input\n",
    "      \n",
    "# \n",
    "w1=1.25\n",
    "b1=1.0                \n",
    "ax[0].plot(XX,np.tanh(w1*XX+b1))\n",
    "ax[0].set_title(\"Neuron 1 of layer 1\")\n",
    "ax[0].set_xlabel(\"input\")\n",
    "ax[0].set_ylabel(\"output\")\n",
    "\n",
    "w2=-2\n",
    "b2=1.5\n",
    "ax[1].plot(XX,np.tanh(w2*XX+b2))\n",
    "ax[1].set_title(\"Neuron 2 of layer 1\")\n",
    "ax[1].set_xlabel(\"input\")\n",
    "ax[1].set_ylabel(\"output\")\n",
    "\n",
    "w3=[2,1]\n",
    "b3=2\n",
    "ax[2].plot(XX,w3[0]*np.tanh(w1*XX+b1)+ w3[1]*np.tanh(w2*XX+b2))\n",
    "ax[2].set_title(\"Neuron 1 of layer 2\\n(inputs from layer 1)\")\n",
    "ax[2].set_xlabel(\"input\")\n",
    "ax[2].set_ylabel(\"output\")"
   ]
  },
  {
   "cell_type": "code",
   "execution_count": 83,
   "id": "ec5d3113-e155-4626-abd1-18c1ae90961e",
   "metadata": {},
   "outputs": [],
   "source": [
    "class DNN_model(nn.Module):\n",
    "    \"\"\"\n",
    "    Class to create pytorch model. This is a neural network because of the non-linear function.\n",
    "    \"\"\"\n",
    "    def __init__(self):\n",
    "        \"\"\"\n",
    "        Initializer. Runs when an object is created\n",
    "        \"\"\"\n",
    "        super().__init__()\n",
    "        self.layer1 = nn.Linear(in_features=1, out_features=10, bias=True)\n",
    "        self.layer2 = nn.Linear(in_features=10, out_features=10, bias=True)\n",
    "        self.layer3 = nn.Linear(in_features=10, out_features=1, bias=True)\n",
    "        self.tanh = nn.Tanh()\n",
    "        \n",
    "        \n",
    "    def forward(self,x):\n",
    "        \"\"\"\n",
    "        Make predictions with our model\n",
    "        \"\"\"\n",
    "        out = self.tanh(self.layer1(x))\n",
    "        out = self.tanh(self.layer2(out))\n",
    "        out = self.layer3(out)\n",
    "        \n",
    "        return out"
   ]
  },
  {
   "cell_type": "code",
   "execution_count": 84,
   "id": "ba178164-9504-4478-b7c6-5b7d8ebd8ce3",
   "metadata": {},
   "outputs": [],
   "source": [
    "dnn_model = DNN_model()"
   ]
  },
  {
   "cell_type": "code",
   "execution_count": 85,
   "id": "c0785436-0445-443e-a795-2b13e4ba5345",
   "metadata": {},
   "outputs": [
    {
     "name": "stdout",
     "output_type": "stream",
     "text": [
      "layer1.weight Parameter containing:\n",
      "tensor([[-0.5452],\n",
      "        [ 0.4509],\n",
      "        [-0.4931],\n",
      "        [ 0.7930],\n",
      "        [ 0.2965],\n",
      "        [-0.3349],\n",
      "        [ 0.8105],\n",
      "        [ 0.2632],\n",
      "        [ 0.5213],\n",
      "        [-0.2699]], requires_grad=True)\n",
      "layer1.bias Parameter containing:\n",
      "tensor([-0.8784, -0.3541,  0.6956,  0.5099, -0.6336,  0.2737,  0.4574, -0.3325,\n",
      "         0.6036,  0.4047], requires_grad=True)\n",
      "layer2.weight Parameter containing:\n",
      "tensor([[ 0.1203,  0.0977,  0.1637, -0.1551, -0.1816,  0.0396, -0.2592,  0.2352,\n",
      "         -0.1403,  0.2937],\n",
      "        [ 0.1058, -0.0568,  0.1120, -0.0548, -0.0616, -0.2672, -0.2220, -0.2181,\n",
      "         -0.1372, -0.0817],\n",
      "        [-0.1792,  0.0799, -0.2273,  0.1872,  0.0597,  0.1685,  0.1505,  0.3025,\n",
      "          0.0170, -0.0653],\n",
      "        [ 0.2767, -0.2494, -0.2434, -0.0298,  0.2244,  0.1010, -0.2096,  0.1195,\n",
      "          0.0612, -0.0067],\n",
      "        [ 0.0575, -0.1980,  0.0626,  0.0619,  0.1662,  0.0706, -0.1768,  0.0832,\n",
      "          0.1317, -0.2750],\n",
      "        [ 0.2701,  0.1590, -0.1754, -0.2582,  0.1117, -0.1844,  0.1258,  0.1367,\n",
      "          0.3076,  0.2654],\n",
      "        [-0.0397, -0.2622,  0.0634, -0.1783,  0.1874,  0.0874, -0.0653,  0.0068,\n",
      "          0.0376,  0.1033],\n",
      "        [ 0.2612,  0.2895, -0.2206,  0.1635, -0.1556, -0.3104, -0.1772,  0.0751,\n",
      "         -0.1790, -0.0596],\n",
      "        [ 0.1308, -0.3147,  0.2516, -0.0318, -0.2757,  0.0735, -0.1782, -0.1860,\n",
      "          0.1232,  0.0362],\n",
      "        [-0.1843, -0.0905, -0.0895, -0.1480, -0.2900,  0.1364, -0.2873,  0.2542,\n",
      "          0.0488,  0.2523]], requires_grad=True)\n",
      "layer2.bias Parameter containing:\n",
      "tensor([ 0.2823,  0.0325,  0.0425,  0.1891,  0.2322, -0.2006, -0.1264,  0.1711,\n",
      "        -0.2303, -0.0745], requires_grad=True)\n",
      "layer3.weight Parameter containing:\n",
      "tensor([[-0.2412,  0.0021, -0.2011,  0.1356,  0.3015, -0.0935, -0.0352, -0.0061,\n",
      "          0.0426, -0.0741]], requires_grad=True)\n",
      "layer3.bias Parameter containing:\n",
      "tensor([-0.0350], requires_grad=True)\n"
     ]
    }
   ],
   "source": [
    "for name, p in dnn_model.named_parameters():\n",
    "    print(name,p)"
   ]
  },
  {
   "cell_type": "code",
   "execution_count": 86,
   "id": "95b49bb1-d1a2-4bb4-a042-a32b112422e7",
   "metadata": {},
   "outputs": [
    {
     "name": "stdout",
     "output_type": "stream",
     "text": [
      "Number of parameters: 141\n"
     ]
    }
   ],
   "source": [
    "print(\"Number of parameters:\", sum(p.numel() for p in dnn_model.parameters()))"
   ]
  },
  {
   "cell_type": "code",
   "execution_count": 87,
   "id": "5b27873b-b4a5-44cc-af55-1f8350b14883",
   "metadata": {},
   "outputs": [
    {
     "name": "stdout",
     "output_type": "stream",
     "text": [
      "Epoch: 0, Loss: 9.196499824523926\n",
      "Epoch: 1, Loss: 9.191637992858887\n",
      "Epoch: 2, Loss: 9.186836242675781\n",
      "Epoch: 3, Loss: 9.182092666625977\n",
      "Epoch: 4, Loss: 9.177404403686523\n",
      "Epoch: 5, Loss: 9.172776222229004\n",
      "Epoch: 6, Loss: 9.168201446533203\n",
      "Epoch: 7, Loss: 9.163681030273438\n",
      "Epoch: 8, Loss: 9.159215927124023\n",
      "Epoch: 9, Loss: 9.154801368713379\n",
      "Epoch: 1000, Loss: 7.556285858154297\n",
      "Epoch: 2000, Loss: 6.378616809844971\n",
      "Epoch: 3000, Loss: 4.712522983551025\n",
      "Epoch: 4000, Loss: 3.467219591140747\n",
      "Epoch: 5000, Loss: 2.736327886581421\n",
      "Epoch: 6000, Loss: 2.2956223487854004\n",
      "Epoch: 7000, Loss: 2.082674026489258\n",
      "Epoch: 8000, Loss: 1.9845260381698608\n",
      "Epoch: 9000, Loss: 1.914404273033142\n",
      "Epoch: 10000, Loss: 1.8565939664840698\n",
      "Epoch: 11000, Loss: 1.8030685186386108\n",
      "Epoch: 12000, Loss: 1.7485721111297607\n",
      "Epoch: 13000, Loss: 1.6897166967391968\n",
      "Epoch: 14000, Loss: 1.6227781772613525\n",
      "Epoch: 15000, Loss: 1.5416637659072876\n",
      "Epoch: 16000, Loss: 1.443560004234314\n",
      "Epoch: 17000, Loss: 1.3389942646026611\n",
      "Epoch: 18000, Loss: 1.2438170909881592\n",
      "Epoch: 19000, Loss: 1.165287733078003\n",
      "Epoch: 20000, Loss: 1.1028004884719849\n",
      "Epoch: 21000, Loss: 1.0535998344421387\n",
      "Epoch: 22000, Loss: 1.0147801637649536\n",
      "Epoch: 23000, Loss: 0.9837480187416077\n",
      "Epoch: 24000, Loss: 0.9585085511207581\n",
      "Epoch: 25000, Loss: 0.9376263618469238\n",
      "Epoch: 26000, Loss: 0.9204809069633484\n",
      "Epoch: 27000, Loss: 0.9338693022727966\n",
      "Epoch: 28000, Loss: 0.925111711025238\n",
      "Epoch: 29000, Loss: 0.9168148040771484\n",
      "Epoch: 30000, Loss: 0.9090080261230469\n",
      "Epoch: 31000, Loss: 0.901692271232605\n",
      "Epoch: 32000, Loss: 0.8948037624359131\n",
      "Epoch: 33000, Loss: 0.8883072733879089\n",
      "Epoch: 34000, Loss: 0.8821685314178467\n",
      "Epoch: 35000, Loss: 0.8763441443443298\n",
      "Epoch: 36000, Loss: 0.8708019256591797\n",
      "Epoch: 37000, Loss: 0.8655346035957336\n",
      "Epoch: 38000, Loss: 0.8605008125305176\n",
      "Epoch: 39000, Loss: 0.8557121157646179\n"
     ]
    }
   ],
   "source": [
    "learning_rate=0.001\n",
    "optimizer = optim.SGD(dnn_model.parameters(),lr=learning_rate)\n",
    "training_loop(n_epochs = 40000,\n",
    "              optimizer = optimizer,\n",
    "              loss_fn = loss_fn,\n",
    "              model=dnn_model,\n",
    "              X = X,\n",
    "              y=y)"
   ]
  },
  {
   "cell_type": "code",
   "execution_count": 88,
   "id": "7633ae81-bdfc-47e8-9355-8cbadb4c97bc",
   "metadata": {},
   "outputs": [],
   "source": [
    "lin_yhat = lin_model(t_range)\n",
    "nn_yhat = nn_model(t_range)\n",
    "dnn_yhat = dnn_model(t_range)"
   ]
  },
  {
   "cell_type": "code",
   "execution_count": 89,
   "id": "c7334a6f-a936-4b96-863b-81d1f8d37d8c",
   "metadata": {},
   "outputs": [
    {
     "data": {
      "text/plain": [
       "<matplotlib.legend.Legend at 0x7f9b341c42e0>"
      ]
     },
     "execution_count": 89,
     "metadata": {},
     "output_type": "execute_result"
    },
    {
     "data": {
      "image/png": "[encoded data removed]",
      "text/plain": [
       "<Figure size 640x480 with 1 Axes>"
      ]
     },
     "metadata": {},
     "output_type": "display_data"
    }
   ],
   "source": [
    "plt.scatter(X.numpy(),y.numpy())\n",
    "plt.plot(t_range.numpy(),nn_yhat.detach().numpy(),label=\"Neural network\")\n",
    "plt.plot(t_range.numpy(),dnn_yhat.detach().numpy(),label=\"Deep neural network\")\n",
    "plt.plot(t_range.numpy(),lin_yhat.detach().numpy(),label=\"Linear model\")\n",
    "plt.xlabel(\"Running speed (cm/sec)\")\n",
    "plt.ylabel(\"Firing rate (Hz)\")\n",
    "plt.legend()"
   ]
  },
  {
   "cell_type": "markdown",
   "id": "e00c98ee-c5bb-41ce-8b15-4b2229969941",
   "metadata": {},
   "source": [
    "# Exercise (Homework)\n",
    "\n",
    "Train a neural network that would predict the firing rate of a neuron based on speed and acceleration.\n",
    "\n",
    "The X tensor will have to have a shape of (27304,2)\n"
   ]
  },
  {
   "cell_type": "code",
   "execution_count": 86,
   "id": "ab737ae6-9b74-49e3-a0d3-6b68ad8169d5",
   "metadata": {},
   "outputs": [],
   "source": [
    "fn = \"../data/animal_acceleration.npy\"\n",
    "acceleration = np.load(fn)\n",
    "\n",
    "fn = \"../data/animal_speed.npy\"\n",
    "speed = np.load(fn)\n",
    "\n",
    "fn =  \"../data/y_rate.npy\"\n",
    "rate = np.load(fn)"
   ]
  },
  {
   "cell_type": "code",
   "execution_count": 87,
   "id": "5e51cca4-2465-407e-98fc-ed5920bafd18",
   "metadata": {},
   "outputs": [
    {
     "data": {
      "text/plain": [
       "(27304,)"
      ]
     },
     "execution_count": 87,
     "metadata": {},
     "output_type": "execute_result"
    }
   ],
   "source": [
    "rate.shape"
   ]
  },
  {
   "cell_type": "code",
   "execution_count": 88,
   "id": "5de16396-f5d0-4c7d-bb18-3d2ed18e4b95",
   "metadata": {},
   "outputs": [
    {
     "data": {
      "text/plain": [
       "Text(0, 0.5, 'Firing rate (Hz)')"
      ]
     },
     "execution_count": 88,
     "metadata": {},
     "output_type": "execute_result"
    },
    {
     "data": {
      "image/png": "[encoded data removed]",
      "text/plain": [
       "<Figure size 900x300 with 2 Axes>"
      ]
     },
     "metadata": {},
     "output_type": "display_data"
    }
   ],
   "source": [
    "nrow=1\n",
    "ncol=2\n",
    "fig, ax = plt.subplots(nrow,ncol,figsize=(9,3),layout='constrained')\n",
    "\n",
    "ax[0].scatter(speed,rate)\n",
    "ax[0].set_xlabel(\"Speed (cm/sec)\")\n",
    "ax[0].set_ylabel(\"Firing rate (Hz)\")\n",
    "ax[1].scatter(acceleration,rate)\n",
    "ax[1].set_xlabel(\"Acceleration\")\n",
    "ax[1].set_ylabel(\"Firing rate (Hz)\")"
   ]
  },
  {
   "cell_type": "code",
   "execution_count": null,
   "id": "fc99b169-e658-4bc3-b29e-00758a2ffe3d",
   "metadata": {},
   "outputs": [],
   "source": []
  }
 ],
 "metadata": {
  "kernelspec": {
   "display_name": "Python 3 (ipykernel)",
   "language": "python",
   "name": "python3"
  },
  "language_info": {
   "codemirror_mode": {
    "name": "ipython",
    "version": 3
   },
   "file_extension": ".py",
   "mimetype": "text/x-python",
   "name": "python",
   "nbconvert_exporter": "python",
   "pygments_lexer": "ipython3",
   "version": "3.10.12"
  }
 },
 "nbformat": 4,
 "nbformat_minor": 5
}
