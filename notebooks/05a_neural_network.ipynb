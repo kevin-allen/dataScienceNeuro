{
 "cells": [
  {
   "cell_type": "markdown",
   "id": "d9efad43-9376-4462-8230-65a9257e203f",
   "metadata": {},
   "source": [
    "# Week 5, Data science in Neuroscience\n",
    "\n",
    "\n",
    "## Plan for this week\n",
    "\n",
    "1. Introduction to pytorch\n",
    "2. Tensors\n",
    "3. Training loop in pytorch\n",
    "4. A first neural network\n",
    "5. A convolutional network to process images\n",
    "\n",
    "***\n"
   ]
  },
  {
   "cell_type": "markdown",
   "id": "77c602b6-ef2c-47d4-bfc0-edc6dfc8c6c9",
   "metadata": {},
   "source": [
    "\n",
    "<div>\n",
    "<img src=\"../images/pytorch.png\" width=\"400\"/>\n",
    "</div>\n",
    "\n",
    "Pytorch is a Python library that facilitates building deep learning projects\n",
    "\n",
    "* Store data into Tensors (multidimensional arrays that are similar to NumPy arrays)\n",
    "* Allows fast calculations on dedicated hardware (GPUs)\n",
    "* Ability of tensors to keep track of the operations performed on them and to analytically compute derivatives\n",
    "* Classes to deal with datasets\n",
    "* Classes to simplify building deep neural networks"
   ]
  },
  {
   "cell_type": "markdown",
   "id": "9451fd19-97ab-4f96-bfa5-fdd3d4f06704",
   "metadata": {},
   "source": [
    "# Tensors\n",
    "\n",
    "pytorch tensors are very similar to NumPy arrays. They have 2 main advantages\n",
    "\n",
    "* Used to do calculations on a GPU\n",
    "* Can keep track of the graph of computations that created them (used to calculate derivatives) "
   ]
  },
  {
   "cell_type": "code",
   "execution_count": 1,
   "id": "75edf9c5-b4ea-404b-850c-a742d0c4dfbe",
   "metadata": {},
   "outputs": [],
   "source": [
    "import torch\n",
    "import numpy as np\n",
    "import matplotlib.pyplot as plt"
   ]
  },
  {
   "cell_type": "markdown",
   "id": "5d73e5f6-30db-426b-994e-25668f46409b",
   "metadata": {},
   "source": [
    "Creating tensors"
   ]
  },
  {
   "cell_type": "code",
   "execution_count": 2,
   "id": "84582524-415e-4085-b368-8affacdce948",
   "metadata": {},
   "outputs": [
    {
     "data": {
      "text/plain": [
       "tensor([1., 1., 1., 1., 1.])"
      ]
     },
     "execution_count": 2,
     "metadata": {},
     "output_type": "execute_result"
    }
   ],
   "source": [
    "torch.ones(5)"
   ]
  },
  {
   "cell_type": "code",
   "execution_count": 3,
   "id": "0514f17f-f61b-4a60-b625-7e8a31a3ac92",
   "metadata": {},
   "outputs": [
    {
     "data": {
      "text/plain": [
       "tensor([[0., 0., 0., 0.],\n",
       "        [0., 0., 0., 0.],\n",
       "        [0., 0., 0., 0.]])"
      ]
     },
     "execution_count": 3,
     "metadata": {},
     "output_type": "execute_result"
    }
   ],
   "source": [
    "torch.zeros(3,4)"
   ]
  },
  {
   "cell_type": "code",
   "execution_count": 4,
   "id": "c838a5a5-425c-4161-99d5-cc507ee10953",
   "metadata": {},
   "outputs": [
    {
     "data": {
      "text/plain": [
       "tensor([[1., 2.],\n",
       "        [3., 4.]])"
      ]
     },
     "execution_count": 4,
     "metadata": {},
     "output_type": "execute_result"
    }
   ],
   "source": [
    "a = torch.tensor([[1.0,2],[3,4]])\n",
    "a"
   ]
  },
  {
   "cell_type": "markdown",
   "id": "d461f2c6-7e17-4048-8011-2f9a34c78f0d",
   "metadata": {},
   "source": [
    "You can interrogate a tensor just like a NumPy array."
   ]
  },
  {
   "cell_type": "code",
   "execution_count": 5,
   "id": "3c75c040-cac0-418a-a5f4-c58520151d16",
   "metadata": {},
   "outputs": [
    {
     "name": "stdout",
     "output_type": "stream",
     "text": [
      "shape: torch.Size([2, 2])\n",
      "ndim: 2\n",
      "dtype: torch.float32\n"
     ]
    }
   ],
   "source": [
    "print(\"shape:\", a.shape)\n",
    "print(\"ndim:\", a.ndim)\n",
    "print(\"dtype:\", a.dtype)"
   ]
  },
  {
   "cell_type": "markdown",
   "id": "448f7b47-f6ad-48d9-acfa-bf434be1d029",
   "metadata": {},
   "source": [
    "Many of the mathematical functions of NumPy have a torch equivalent."
   ]
  },
  {
   "cell_type": "code",
   "execution_count": 6,
   "id": "8c8a2f41-d83c-4221-962f-240102ccf101",
   "metadata": {},
   "outputs": [
    {
     "data": {
      "text/plain": [
       "tensor([[0.5067, 0.2321, 0.2463, 0.6471, 0.4226, 0.7532],\n",
       "        [0.0381, 0.2131, 0.0380, 0.6008, 0.4051, 0.2892],\n",
       "        [0.7129, 0.7027, 0.6333, 0.5201, 0.0111, 0.9064],\n",
       "        [0.5096, 0.8384, 0.0035, 0.4050, 0.7835, 0.0625]])"
      ]
     },
     "execution_count": 6,
     "metadata": {},
     "output_type": "execute_result"
    }
   ],
   "source": [
    "b = torch.rand(24).reshape(4,6)\n",
    "b"
   ]
  },
  {
   "cell_type": "code",
   "execution_count": 7,
   "id": "c4a6c72d-57df-4a57-bada-5edadb3c8a55",
   "metadata": {},
   "outputs": [
    {
     "data": {
      "text/plain": [
       "torch.Size([4, 6])"
      ]
     },
     "execution_count": 7,
     "metadata": {},
     "output_type": "execute_result"
    }
   ],
   "source": [
    "b.shape"
   ]
  },
  {
   "cell_type": "code",
   "execution_count": 8,
   "id": "69ef7381-d380-4b6d-b771-c5b21c3149c1",
   "metadata": {},
   "outputs": [
    {
     "data": {
      "text/plain": [
       "tensor(0.4367)"
      ]
     },
     "execution_count": 8,
     "metadata": {},
     "output_type": "execute_result"
    }
   ],
   "source": [
    "b.mean()"
   ]
  },
  {
   "cell_type": "code",
   "execution_count": 9,
   "id": "0d1d291f-95c4-4193-890e-478ba80d4785",
   "metadata": {},
   "outputs": [
    {
     "data": {
      "text/plain": [
       "tensor([0.4418, 0.4966, 0.2303, 0.5432, 0.4056, 0.5028])"
      ]
     },
     "execution_count": 9,
     "metadata": {},
     "output_type": "execute_result"
    }
   ],
   "source": [
    "b.mean(axis=0)"
   ]
  },
  {
   "cell_type": "markdown",
   "id": "8390d942-335d-444c-9030-49d948a22c0c",
   "metadata": {},
   "source": [
    "We can add an extra dimension with a size of 1 using unsqueeze()."
   ]
  },
  {
   "cell_type": "code",
   "execution_count": 10,
   "id": "47214dcb-f60b-44d2-af7d-d9b6aa2110e2",
   "metadata": {},
   "outputs": [
    {
     "data": {
      "text/plain": [
       "torch.Size([4, 6])"
      ]
     },
     "execution_count": 10,
     "metadata": {},
     "output_type": "execute_result"
    }
   ],
   "source": [
    "b.shape"
   ]
  },
  {
   "cell_type": "code",
   "execution_count": 11,
   "id": "40e72eba-6624-4ef2-872b-64a0da157a59",
   "metadata": {},
   "outputs": [
    {
     "data": {
      "text/plain": [
       "torch.Size([1, 4, 6])"
      ]
     },
     "execution_count": 11,
     "metadata": {},
     "output_type": "execute_result"
    }
   ],
   "source": [
    "b.unsqueeze(0).shape"
   ]
  },
  {
   "cell_type": "markdown",
   "id": "39a0a679-bbed-48f5-83ff-ea75155d809f",
   "metadata": {},
   "source": [
    "We can do broadcasting, just like with NumPy arrays.\n",
    "\n",
    "```\n",
    "When operating on two arrays, pytorch compares their shapes element-wise. It starts with the trailing (i.e. rightmost) dimensions and works its way left. Two dimensions are compatible when\n",
    "​\n",
    "* they are equal, or\n",
    "* one of them is 1\n",
    "```\n"
   ]
  },
  {
   "cell_type": "code",
   "execution_count": 12,
   "id": "44e6208a-2c00-46f2-978b-6798f43d87b0",
   "metadata": {},
   "outputs": [
    {
     "data": {
      "text/plain": [
       "torch.Size([4, 6])"
      ]
     },
     "execution_count": 12,
     "metadata": {},
     "output_type": "execute_result"
    }
   ],
   "source": [
    "b.shape"
   ]
  },
  {
   "cell_type": "code",
   "execution_count": 13,
   "id": "e0a826bd-eeea-45cb-8336-502fdc9eabe4",
   "metadata": {},
   "outputs": [
    {
     "data": {
      "text/plain": [
       "torch.Size([4])"
      ]
     },
     "execution_count": 13,
     "metadata": {},
     "output_type": "execute_result"
    }
   ],
   "source": [
    "a = torch.ones(4)\n",
    "a.shape"
   ]
  },
  {
   "cell_type": "code",
   "execution_count": 14,
   "id": "492c3216-1131-45c7-9b28-ca54774aba73",
   "metadata": {},
   "outputs": [],
   "source": [
    "#b+a"
   ]
  },
  {
   "cell_type": "code",
   "execution_count": 15,
   "id": "78369733-b85f-4e21-b025-0d5edb277554",
   "metadata": {},
   "outputs": [
    {
     "data": {
      "text/plain": [
       "torch.Size([4, 1])"
      ]
     },
     "execution_count": 15,
     "metadata": {},
     "output_type": "execute_result"
    }
   ],
   "source": [
    "A = a.unsqueeze(1)\n",
    "A.shape"
   ]
  },
  {
   "cell_type": "code",
   "execution_count": 16,
   "id": "ad91fc62-727c-4004-a019-154423b33b4a",
   "metadata": {},
   "outputs": [
    {
     "data": {
      "text/plain": [
       "tensor([[1.5067, 1.2321, 1.2463, 1.6471, 1.4226, 1.7532],\n",
       "        [1.0381, 1.2131, 1.0380, 1.6008, 1.4051, 1.2892],\n",
       "        [1.7129, 1.7027, 1.6333, 1.5201, 1.0111, 1.9064],\n",
       "        [1.5096, 1.8384, 1.0035, 1.4050, 1.7835, 1.0625]])"
      ]
     },
     "execution_count": 16,
     "metadata": {},
     "output_type": "execute_result"
    }
   ],
   "source": [
    "b+A"
   ]
  },
  {
   "cell_type": "markdown",
   "id": "fefcf269-ed33-4e72-9433-ea49274fd273",
   "metadata": {},
   "source": [
    "We can change the order of the dimensions in a tensor with `.permute()"
   ]
  },
  {
   "cell_type": "code",
   "execution_count": 17,
   "id": "63940f7e-a9b1-4df2-b353-06acf01d8a5e",
   "metadata": {},
   "outputs": [
    {
     "data": {
      "text/plain": [
       "tensor([[[0.6746, 0.2708, 0.8237, 0.1247, 0.8086, 0.8743],\n",
       "         [0.3111, 0.1766, 0.6043, 0.9279, 0.1488, 0.7610],\n",
       "         [0.6779, 0.2906, 0.7821, 0.6257, 0.3723, 0.1268],\n",
       "         [0.9505, 0.7890, 0.9998, 0.5421, 0.1820, 0.8477]],\n",
       "\n",
       "        [[0.6184, 0.9500, 0.1167, 0.5169, 0.0032, 0.5984],\n",
       "         [0.7271, 0.8528, 0.4303, 0.2968, 0.4861, 0.4541],\n",
       "         [0.8477, 0.8154, 0.1650, 0.9929, 0.8927, 0.9831],\n",
       "         [0.6551, 0.9091, 0.4264, 0.4784, 0.2422, 0.3401]],\n",
       "\n",
       "        [[0.2933, 0.4524, 0.2685, 0.7481, 0.2141, 0.6305],\n",
       "         [0.9843, 0.9409, 0.8506, 0.1394, 0.1409, 0.6272],\n",
       "         [0.8381, 0.3471, 0.6694, 0.4089, 0.1170, 0.0163],\n",
       "         [0.8130, 0.4008, 0.3279, 0.6593, 0.6626, 0.3454]]])"
      ]
     },
     "execution_count": 17,
     "metadata": {},
     "output_type": "execute_result"
    }
   ],
   "source": [
    "b = torch.rand(3*24).reshape(3,4,6)\n",
    "b"
   ]
  },
  {
   "cell_type": "code",
   "execution_count": 18,
   "id": "14217858-e57e-4400-9047-6fc61854913e",
   "metadata": {},
   "outputs": [
    {
     "data": {
      "text/plain": [
       "torch.Size([3, 4, 6])"
      ]
     },
     "execution_count": 18,
     "metadata": {},
     "output_type": "execute_result"
    }
   ],
   "source": [
    "b.shape"
   ]
  },
  {
   "cell_type": "code",
   "execution_count": 19,
   "id": "df280f0d-bd7a-4c4b-a1ed-64b5cba9c8f9",
   "metadata": {},
   "outputs": [
    {
     "data": {
      "text/plain": [
       "torch.Size([4, 6, 3])"
      ]
     },
     "execution_count": 19,
     "metadata": {},
     "output_type": "execute_result"
    }
   ],
   "source": [
    "b = b.permute(1,2,0)\n",
    "b.shape"
   ]
  },
  {
   "cell_type": "markdown",
   "id": "9e5d5cbe-d3e2-43c6-b502-7ae1d0c3879f",
   "metadata": {},
   "source": [
    "### Moving tensors to the GPU\n",
    "\n",
    "Once you moved your tensors to the GPU, calculations on these tensors will be performed on the GPU. "
   ]
  },
  {
   "cell_type": "code",
   "execution_count": 20,
   "id": "7da9ab7d-fc5c-49e0-944d-ff30497baac6",
   "metadata": {},
   "outputs": [
    {
     "data": {
      "text/plain": [
       "tensor([0.1008, 0.0326, 0.5783, 0.4748, 0.2531, 0.8787, 0.3395, 0.4335, 0.4516,\n",
       "        0.3236])"
      ]
     },
     "execution_count": 20,
     "metadata": {},
     "output_type": "execute_result"
    }
   ],
   "source": [
    "b = torch.rand(10)\n",
    "b"
   ]
  },
  {
   "cell_type": "code",
   "execution_count": 21,
   "id": "894ffad4-2610-48bd-927f-ad765580c743",
   "metadata": {},
   "outputs": [
    {
     "data": {
      "text/plain": [
       "False"
      ]
     },
     "execution_count": 21,
     "metadata": {},
     "output_type": "execute_result"
    }
   ],
   "source": [
    "torch.cuda.is_available()"
   ]
  },
  {
   "cell_type": "code",
   "execution_count": 22,
   "id": "0fa87b3e-317b-4cd5-99f0-14da73151328",
   "metadata": {},
   "outputs": [
    {
     "name": "stdout",
     "output_type": "stream",
     "text": [
      "Using device: cpu\n",
      "\n"
     ]
    }
   ],
   "source": [
    "device = torch.device('cuda' if torch.cuda.is_available() else 'cpu')\n",
    "print('Using device:', device)\n",
    "print()"
   ]
  },
  {
   "cell_type": "code",
   "execution_count": 23,
   "id": "abc4789e-d400-47c9-a078-ff796b09a7da",
   "metadata": {},
   "outputs": [
    {
     "data": {
      "text/plain": [
       "tensor([0.1008, 0.0326, 0.5783, 0.4748, 0.2531, 0.8787, 0.3395, 0.4335, 0.4516,\n",
       "        0.3236])"
      ]
     },
     "execution_count": 23,
     "metadata": {},
     "output_type": "execute_result"
    }
   ],
   "source": [
    "b"
   ]
  },
  {
   "cell_type": "code",
   "execution_count": 24,
   "id": "25a754df-d114-4944-a87f-c2d59a1a6840",
   "metadata": {},
   "outputs": [],
   "source": [
    "b = b.to(device)"
   ]
  },
  {
   "cell_type": "code",
   "execution_count": 25,
   "id": "e6e12002-bd6f-4577-b2ea-ce7eb7e6efde",
   "metadata": {},
   "outputs": [
    {
     "data": {
      "text/plain": [
       "tensor([0.1008, 0.0326, 0.5783, 0.4748, 0.2531, 0.8787, 0.3395, 0.4335, 0.4516,\n",
       "        0.3236])"
      ]
     },
     "execution_count": 25,
     "metadata": {},
     "output_type": "execute_result"
    }
   ],
   "source": [
    "b"
   ]
  },
  {
   "cell_type": "code",
   "execution_count": 26,
   "id": "088f08ba-337f-4721-94f8-50d740de9e94",
   "metadata": {},
   "outputs": [
    {
     "data": {
      "text/plain": [
       "tensor([0.1008, 0.0326, 0.5783, 0.4748, 0.2531, 0.8787, 0.3395, 0.4335, 0.4516,\n",
       "        0.3236])"
      ]
     },
     "execution_count": 26,
     "metadata": {},
     "output_type": "execute_result"
    }
   ],
   "source": [
    "b = b.to(\"cpu\")\n",
    "b"
   ]
  },
  {
   "cell_type": "code",
   "execution_count": 27,
   "id": "a89747d8-4413-454e-bb94-61d6b0768418",
   "metadata": {},
   "outputs": [],
   "source": [
    "#b = b.to(\"cuda\")\n",
    "#b"
   ]
  },
  {
   "cell_type": "markdown",
   "id": "236e590f-c384-4ea6-8034-1c56da08fec2",
   "metadata": {},
   "source": [
    "## From pytorch tensors to NumPy arrays and back\n",
    "\n",
    "You can go between tensors and NumPy arrays using `torch.from_numpy()` and `myTensor.numpy()`"
   ]
  },
  {
   "cell_type": "code",
   "execution_count": 28,
   "id": "ccd6ab34-b963-497e-9690-23871a6b7566",
   "metadata": {},
   "outputs": [
    {
     "name": "stdout",
     "output_type": "stream",
     "text": [
      "<class 'torch.Tensor'>\n",
      "<class 'numpy.ndarray'>\n"
     ]
    }
   ],
   "source": [
    "points_pt = torch.tensor([2,3,4])\n",
    "print(type(points_pt))\n",
    "points_np = points_pt.numpy()\n",
    "print(type(points_np))"
   ]
  },
  {
   "cell_type": "code",
   "execution_count": 29,
   "id": "c9ed2828-5751-4509-867a-fdaa33747422",
   "metadata": {},
   "outputs": [
    {
     "data": {
      "text/plain": [
       "tensor([1, 2, 3, 4])"
      ]
     },
     "execution_count": 29,
     "metadata": {},
     "output_type": "execute_result"
    }
   ],
   "source": [
    "a = np.array([1,2,3,4])\n",
    "torch.from_numpy(a)"
   ]
  },
  {
   "cell_type": "markdown",
   "id": "6101da6d-d3e9-42c2-bdc6-6b5e81c5d47c",
   "metadata": {},
   "source": [
    "# Training a model using pytorch\n",
    "\n",
    "We will recreate our machine learning example of week 2 using pytorch.\n",
    "\n",
    "We want to predict the firing rate of a neuron from the running speed of the animal.\n"
   ]
  },
  {
   "cell_type": "code",
   "execution_count": 30,
   "id": "859ea102-0904-4adf-bcbf-41931c8fd30f",
   "metadata": {},
   "outputs": [],
   "source": [
    "fn = \"../data/animal_speed.npy\""
   ]
  },
  {
   "cell_type": "code",
   "execution_count": 31,
   "id": "b1d95614-1503-434c-a760-d1e8978a46bf",
   "metadata": {},
   "outputs": [],
   "source": [
    "speed = np.load(fn)\n",
    "speed = speed[0:100]"
   ]
  },
  {
   "cell_type": "code",
   "execution_count": 32,
   "id": "d650d561-153c-4c2f-af9e-90c005d7e534",
   "metadata": {},
   "outputs": [],
   "source": [
    "w = 1.25 # weight (slope)\n",
    "b = 10 # bias (intercept)\n",
    "np.random.seed(0)\n",
    "e = np.random.normal(loc=0.0, scale=5, size = speed.shape[0]) # random numbers taken from a normal distribution\n",
    "\n",
    "rate = speed* w + b + e # simulate the firing rate\n",
    "rate = np.maximum(0, rate) # eliminate the negative firing rates"
   ]
  },
  {
   "cell_type": "code",
   "execution_count": 33,
   "id": "a02f063c-2d56-4441-846a-62b7e2079401",
   "metadata": {},
   "outputs": [
    {
     "data": {
      "text/plain": [
       "Text(0, 0.5, 'Firing rate (Hz)')"
      ]
     },
     "execution_count": 33,
     "metadata": {},
     "output_type": "execute_result"
    },
    {
     "data": {
      "image/png": "[encoded data removed]",
      "text/plain": [
       "<Figure size 640x480 with 1 Axes>"
      ]
     },
     "metadata": {},
     "output_type": "display_data"
    }
   ],
   "source": [
    "plt.scatter(speed,rate)\n",
    "plt.xlabel(\"Running speed (cm/sec)\")\n",
    "plt.ylabel(\"Firing rate (Hz)\")"
   ]
  },
  {
   "cell_type": "markdown",
   "id": "8030a6ad-bc95-492f-b375-a1e8540e7fc1",
   "metadata": {},
   "source": [
    "### Create a model with pytorch\n",
    "\n",
    "We will recreate our **linear regression model** using pytorch. \n",
    "\n",
    "\n",
    "$yhat = b+ w*X$\n",
    "\n",
    "We will create our model by defining a class. \n",
    "\n",
    "There are simpler ways to create simple models in pytorch. But the way presented here is the very flexible. We can create all our models by just modifying our class.\n",
    "\n",
    "<img src=\"../images/neuron_linear.png\" width=\"500\" align=\"center\">\n",
    "\n",
    "https://pytorch.org/docs/stable/generated/torch.nn.Linear.html\n",
    "\n",
    "This is **not a neural network**, but a linear model."
   ]
  },
  {
   "cell_type": "code",
   "execution_count": 34,
   "id": "f73636be-22e9-4829-a6bf-3414bc4a3403",
   "metadata": {},
   "outputs": [],
   "source": [
    "import torch.nn as nn\n",
    "\n",
    "class Lin_model(nn.Module):\n",
    "    \"\"\"\n",
    "    Class to create pytorch model.\n",
    "    \"\"\"\n",
    "    def __init__(self):\n",
    "        \"\"\"\n",
    "        Initializer. Runs when an object is created\n",
    "        \"\"\"\n",
    "        super().__init__()\n",
    "        self.linLayer = nn.Linear(in_features=1, out_features=1, bias=True)\n",
    "    def forward(self,x):\n",
    "        \"\"\"\n",
    "        Make predictions with our model\n",
    "        \"\"\"\n",
    "        out = self.linLayer(x)\n",
    "        return out"
   ]
  },
  {
   "cell_type": "code",
   "execution_count": 35,
   "id": "937f7ddc-398b-4403-b643-fb9f8ec27fbc",
   "metadata": {},
   "outputs": [],
   "source": [
    "lin_model = Lin_model() # create model from our class definition"
   ]
  },
  {
   "cell_type": "markdown",
   "id": "8d3c5d0a-8527-46d1-8c81-4b0fcb45b509",
   "metadata": {},
   "source": [
    "The parameters of the models are created automatically when creating the model.\n",
    "\n",
    "We can use this for loop to print the parameters."
   ]
  },
  {
   "cell_type": "code",
   "execution_count": 36,
   "id": "6879c34a-7687-41ce-992d-0d3d6cc990d8",
   "metadata": {},
   "outputs": [
    {
     "name": "stdout",
     "output_type": "stream",
     "text": [
      "linLayer.weight Parameter containing:\n",
      "tensor([[0.4660]], requires_grad=True)\n",
      "linLayer.bias Parameter containing:\n",
      "tensor([0.7391], requires_grad=True)\n"
     ]
    }
   ],
   "source": [
    "for name,p in lin_model.named_parameters():\n",
    "    print(name,p)"
   ]
  },
  {
   "cell_type": "markdown",
   "id": "3e4586fe-47d2-47f9-9a90-91f6a9c1a850",
   "metadata": {},
   "source": [
    "### Loss function"
   ]
  },
  {
   "cell_type": "markdown",
   "id": "e68936a2-f7ae-4e44-839f-a186721229d1",
   "metadata": {},
   "source": [
    "pytorch has built-in loss functions that we can use in our training loop. We will use the mean squared error (MSE)."
   ]
  },
  {
   "cell_type": "code",
   "execution_count": 37,
   "id": "296a69ec-42ab-4c0d-8dce-b5f582ec9bdf",
   "metadata": {},
   "outputs": [],
   "source": [
    "# loss function returning MSE\n",
    "loss_fn = torch.nn.MSELoss()"
   ]
  },
  {
   "cell_type": "markdown",
   "id": "28484fc5-dd93-4e3c-9d32-30c6f351a307",
   "metadata": {},
   "source": [
    "### pytorch optimizers\n",
    "\n",
    "Optimizers are used to change our model parameters during learning.\n",
    "\n",
    "There are several optimization strategies and tricks that can improve learning. \n",
    "\n",
    "There are more important when building deep neural networks than for linear regression models.\n",
    "\n",
    "Let's see how to use the SGD optimizer."
   ]
  },
  {
   "cell_type": "code",
   "execution_count": 38,
   "id": "8d2538f9-e68f-4dc0-8bec-84e3e2cfd91b",
   "metadata": {},
   "outputs": [],
   "source": [
    "import torch.optim as optim"
   ]
  },
  {
   "cell_type": "code",
   "execution_count": 39,
   "id": "05904662-357f-4eb8-8925-caccc6eb402c",
   "metadata": {},
   "outputs": [],
   "source": [
    "learning_rate = 0.001\n",
    "optimizer = optim.SGD(lin_model.parameters(),lr=learning_rate)"
   ]
  },
  {
   "cell_type": "markdown",
   "id": "34716493-4af0-435d-9700-047978cd3d02",
   "metadata": {},
   "source": [
    "### Correct data format for our model\n",
    "\n",
    "* X: input data\n",
    "* y: labels or values that we want to predict\n",
    "\n",
    "\n",
    "We need to store them in `tensors`.\n",
    "\n",
    "The first dimension (rows) is for the observations.\n",
    "\n",
    "We only have 1 input feature (speed), so the second dimension will have a size of 1."
   ]
  },
  {
   "cell_type": "code",
   "execution_count": 40,
   "id": "f83160fa-b063-4a66-a35b-eaa296847fd2",
   "metadata": {},
   "outputs": [],
   "source": [
    "X = torch.from_numpy(speed).unsqueeze(1).float()"
   ]
  },
  {
   "cell_type": "code",
   "execution_count": 41,
   "id": "cd01df09-a3f2-4e90-ae45-400d2351bde0",
   "metadata": {},
   "outputs": [
    {
     "data": {
      "text/plain": [
       "torch.Size([100, 1])"
      ]
     },
     "execution_count": 41,
     "metadata": {},
     "output_type": "execute_result"
    }
   ],
   "source": [
    "X.shape"
   ]
  },
  {
   "cell_type": "code",
   "execution_count": 42,
   "id": "ead28246-4bd4-4603-94d5-d6cdcc40b776",
   "metadata": {},
   "outputs": [
    {
     "data": {
      "text/plain": [
       "torch.Size([100, 1])"
      ]
     },
     "execution_count": 42,
     "metadata": {},
     "output_type": "execute_result"
    }
   ],
   "source": [
    "y = torch.from_numpy(rate).unsqueeze(1).float()\n",
    "y.shape"
   ]
  },
  {
   "cell_type": "markdown",
   "id": "088d2051-c80c-47cd-9f8c-ca8336e647ac",
   "metadata": {},
   "source": [
    "### One forward pass \n",
    "\n",
    "We now all our needed element to train our model.\n",
    "\n",
    "Before using our training loop, it is a good idea to run one forward pass outside of the for loop to identify potential problems.\n",
    "\n",
    "We run all the steps that will be in our training loop."
   ]
  },
  {
   "cell_type": "code",
   "execution_count": 43,
   "id": "53fcb5fc-f099-4359-ae91-0a183f761ed8",
   "metadata": {},
   "outputs": [
    {
     "name": "stdout",
     "output_type": "stream",
     "text": [
      "linLayer.weight Parameter containing:\n",
      "tensor([[0.4660]], requires_grad=True)\n",
      "linLayer.bias Parameter containing:\n",
      "tensor([0.7391], requires_grad=True)\n"
     ]
    }
   ],
   "source": [
    "for name,p in lin_model.named_parameters():\n",
    "    print(name,p)"
   ]
  },
  {
   "cell_type": "code",
   "execution_count": 44,
   "id": "eab4f61c-3776-4a93-9273-703374f78c63",
   "metadata": {},
   "outputs": [
    {
     "name": "stdout",
     "output_type": "stream",
     "text": [
      "Number of parameters: 2\n"
     ]
    }
   ],
   "source": [
    "print(\"Number of parameters:\", sum(p.numel() for p in lin_model.parameters()))"
   ]
  },
  {
   "cell_type": "code",
   "execution_count": 45,
   "id": "a65d6a9d-e78d-476e-bdc9-5396340f1ae9",
   "metadata": {},
   "outputs": [],
   "source": [
    "yhat = lin_model(X)"
   ]
  },
  {
   "cell_type": "code",
   "execution_count": 46,
   "id": "e4c5d164-18bf-4894-9526-ba4a785572ad",
   "metadata": {},
   "outputs": [],
   "source": [
    "loss = loss_fn(yhat,y)"
   ]
  },
  {
   "cell_type": "code",
   "execution_count": 47,
   "id": "13b7dc2b-5a55-4d15-a541-8d04a5033186",
   "metadata": {},
   "outputs": [],
   "source": [
    "optimizer.zero_grad() # zero the gradients"
   ]
  },
  {
   "cell_type": "code",
   "execution_count": 48,
   "id": "ac371ec2-2b6d-47d2-8f04-88c38e80ebd4",
   "metadata": {},
   "outputs": [],
   "source": [
    "loss.backward() # calculate gradients"
   ]
  },
  {
   "cell_type": "code",
   "execution_count": 49,
   "id": "6fedba28-965b-46e8-86bf-b8482a2309bc",
   "metadata": {},
   "outputs": [],
   "source": [
    "optimizer.step() # will change the model parameters to reduce the loss        "
   ]
  },
  {
   "cell_type": "code",
   "execution_count": 50,
   "id": "98409462-5621-4708-90b4-dc13b4778dd2",
   "metadata": {},
   "outputs": [
    {
     "name": "stdout",
     "output_type": "stream",
     "text": [
      "linLayer.weight Parameter containing:\n",
      "tensor([[1.3760]], requires_grad=True)\n",
      "linLayer.bias Parameter containing:\n",
      "tensor([0.7850], requires_grad=True)\n"
     ]
    }
   ],
   "source": [
    "for name,p in lin_model.named_parameters():\n",
    "    print(name,p)"
   ]
  },
  {
   "cell_type": "markdown",
   "id": "b3684a6f-2e33-43a6-885b-c18bf0605f93",
   "metadata": {},
   "source": [
    "### Training loop\n",
    "\n",
    "We want a generic training loop that will work in most situations."
   ]
  },
  {
   "cell_type": "code",
   "execution_count": 51,
   "id": "ff583d6d-269b-4c69-9337-34dbc3383d3c",
   "metadata": {},
   "outputs": [],
   "source": [
    "## training loop that will modify our parameters to minimize the loss function (MSE)\n",
    "def training_loop(n_epochs, optimizer, loss_fn, model, X,y):\n",
    "    for epoch in range (n_epochs):\n",
    "        \n",
    "        yhat = model(X) # make predictions\n",
    "        loss = loss_fn(yhat,y) # calculate the loss\n",
    "        optimizer.zero_grad() # zero the gradients of our model's parameters\n",
    "        loss.backward() # calculate gradients of the model's parameters\n",
    "        optimizer.step() # will change the model parameters to reduce the loss\n",
    "        \n",
    "        \n",
    "        if epoch % 1000 ==0 or epoch < 10:\n",
    "            print(\"Epoch: {}, Loss: {}\".format(epoch,loss))\n",
    "    return"
   ]
  },
  {
   "cell_type": "code",
   "execution_count": 52,
   "id": "ea233c1d-8358-4c8f-8c2e-73f0aee9c3b7",
   "metadata": {},
   "outputs": [
    {
     "name": "stdout",
     "output_type": "stream",
     "text": [
      "Epoch: 0, Loss: 81.15827178955078\n",
      "Epoch: 1, Loss: 48.29475021362305\n",
      "Epoch: 2, Loss: 46.20021057128906\n",
      "Epoch: 3, Loss: 46.05100631713867\n",
      "Epoch: 4, Loss: 46.024803161621094\n",
      "Epoch: 5, Loss: 46.00639343261719\n",
      "Epoch: 6, Loss: 45.988487243652344\n",
      "Epoch: 7, Loss: 45.97063064575195\n",
      "Epoch: 8, Loss: 45.952789306640625\n",
      "Epoch: 9, Loss: 45.934967041015625\n",
      "Epoch: 1000, Loss: 34.08623504638672\n",
      "Epoch: 2000, Loss: 29.037405014038086\n",
      "Epoch: 3000, Loss: 26.914871215820312\n",
      "Epoch: 4000, Loss: 26.022571563720703\n",
      "Epoch: 5000, Loss: 25.647449493408203\n",
      "Epoch: 6000, Loss: 25.48974609375\n",
      "Epoch: 7000, Loss: 25.423446655273438\n",
      "Epoch: 8000, Loss: 25.39557647705078\n",
      "Epoch: 9000, Loss: 25.38385772705078\n",
      "Epoch: 10000, Loss: 25.37893295288086\n",
      "Epoch: 11000, Loss: 25.376863479614258\n",
      "Epoch: 12000, Loss: 25.375986099243164\n",
      "Epoch: 13000, Loss: 25.375627517700195\n",
      "Epoch: 14000, Loss: 25.375473022460938\n",
      "Epoch: 15000, Loss: 25.375408172607422\n",
      "Epoch: 16000, Loss: 25.375381469726562\n",
      "Epoch: 17000, Loss: 25.375368118286133\n",
      "Epoch: 18000, Loss: 25.3753604888916\n",
      "Epoch: 19000, Loss: 25.3753604888916\n"
     ]
    }
   ],
   "source": [
    "training_loop(n_epochs = 20000,\n",
    "              optimizer = optimizer,\n",
    "              loss_fn = loss_fn,\n",
    "              model=lin_model,\n",
    "              X = X,\n",
    "              y=y)"
   ]
  },
  {
   "cell_type": "code",
   "execution_count": 53,
   "id": "d78d66c6-63d3-4d14-81b9-b87ed3e788e3",
   "metadata": {},
   "outputs": [
    {
     "name": "stdout",
     "output_type": "stream",
     "text": [
      "Parameter containing:\n",
      "tensor([[1.2343]], requires_grad=True)\n",
      "Parameter containing:\n",
      "tensor([10.5679], requires_grad=True)\n"
     ]
    }
   ],
   "source": [
    "for p in lin_model.parameters():\n",
    "    print(p)"
   ]
  },
  {
   "cell_type": "code",
   "execution_count": 54,
   "id": "081bc520-5f1f-4327-8c1c-2d70703671de",
   "metadata": {},
   "outputs": [
    {
     "data": {
      "text/plain": [
       "torch.Size([100, 1])"
      ]
     },
     "execution_count": 54,
     "metadata": {},
     "output_type": "execute_result"
    }
   ],
   "source": [
    "t_range = torch.arange(0,50,0.5).unsqueeze(1)\n",
    "t_range.shape"
   ]
  },
  {
   "cell_type": "code",
   "execution_count": 55,
   "id": "cbfe91c1-952c-451e-acd9-340417f126ca",
   "metadata": {},
   "outputs": [],
   "source": [
    "lin_yhat = lin_model(t_range)"
   ]
  },
  {
   "cell_type": "code",
   "execution_count": 56,
   "id": "09ca8bf6-5030-47e0-9197-de2d5aa5c24f",
   "metadata": {},
   "outputs": [
    {
     "data": {
      "text/plain": [
       "<matplotlib.legend.Legend at 0x7f42fb459810>"
      ]
     },
     "execution_count": 56,
     "metadata": {},
     "output_type": "execute_result"
    },
    {
     "data": {
      "image/png": "[encoded data removed]",
      "text/plain": [
       "<Figure size 640x480 with 1 Axes>"
      ]
     },
     "metadata": {},
     "output_type": "display_data"
    }
   ],
   "source": [
    "plt.scatter(speed,rate)\n",
    "plt.plot(t_range.numpy(),lin_yhat.detach().numpy(),label=\"Linear model\")\n",
    "plt.xlabel(\"Running speed (cm/sec)\")\n",
    "plt.ylabel(\"Firing rate (Hz)\")\n",
    "plt.legend()"
   ]
  },
  {
   "cell_type": "markdown",
   "id": "64f5be12-692a-401d-9cf0-17d4b2cb79fc",
   "metadata": {},
   "source": [
    "We found the parameters that were used to simulate the data."
   ]
  },
  {
   "cell_type": "markdown",
   "id": "01d2c5e5-cb15-4265-b171-ea82f96f814a",
   "metadata": {},
   "source": [
    "# A first neural network"
   ]
  },
  {
   "cell_type": "markdown",
   "id": "7e0c0e0b-f99f-4cd7-b99a-94bd64d9a581",
   "metadata": {},
   "source": [
    "* Mathematical entities capable of representing complicated functions through a composition of simpler functions.\n",
    "* Deep neural network have **multiple layers** between the input and output layers. \n",
    "* Each layer has several artificial neurons. \n",
    "* New data comes from the left, and calculations propagates towards the ouput layer.\n",
    "\n"
   ]
  },
  {
   "cell_type": "markdown",
   "id": "bcca6356-30bb-4b55-a5ef-d9f6a2ad1a3e",
   "metadata": {},
   "source": [
    "***\n",
    "\n",
    "* A neuron in a neural network has one more non-linear function. \n",
    "\n",
    "<img src=\"../images/artificial_neuron.png\" width=\"500\" align=\"center\">"
   ]
  },
  {
   "cell_type": "markdown",
   "id": "3ec474f9-32f7-4b2e-9387-aabf74a35cb6",
   "metadata": {},
   "source": [
    "The non-linear function allows the model to have different slope at different values.\n",
    "\n",
    "The non-linear function of the neuron is called the **activation function**."
   ]
  },
  {
   "cell_type": "code",
   "execution_count": 57,
   "id": "0d62c1c7-706e-4ef9-8b2d-6925358908f0",
   "metadata": {},
   "outputs": [
    {
     "data": {
      "text/plain": [
       "Text(0.5, 1.0, 'Non-linear model: tanh(w*x+b)')"
      ]
     },
     "execution_count": 57,
     "metadata": {},
     "output_type": "execute_result"
    },
    {
     "data": {
      "image/png": "[encoded data removed]",
      "text/plain": [
       "<Figure size 900x300 with 2 Axes>"
      ]
     },
     "metadata": {},
     "output_type": "display_data"
    }
   ],
   "source": [
    "nrow=1\n",
    "ncol=2\n",
    "fig, ax = plt.subplots(nrow,ncol,figsize=(9,3))\n",
    "\n",
    "XX = np.linspace(-4,4) # input\n",
    "          \n",
    "w=1.25\n",
    "b=1.0\n",
    "                \n",
    "ax[0].plot(XX,w*XX+b)\n",
    "ax[0].set_title(\"Linear model: w*x+b\")\n",
    "\n",
    "ax[1].plot(XX,np.tanh(w*XX+b))\n",
    "ax[1].set_title(\"Non-linear model: tanh(w*x+b)\")"
   ]
  },
  {
   "cell_type": "markdown",
   "id": "ba6cff40-68de-4199-9798-ed40e136f5af",
   "metadata": {},
   "source": [
    "In neural network, we have **several artificial neurons**. \n",
    "\n",
    "The output of several neurons is summed to get the output.\n",
    "\n",
    "Let's build a neural network to predict the firing rate from the speed of the animal."
   ]
  },
  {
   "cell_type": "code",
   "execution_count": 58,
   "id": "de43dbcb-f1e5-4db7-be63-295d563830a0",
   "metadata": {},
   "outputs": [],
   "source": [
    "class NN_model(nn.Module):\n",
    "    \"\"\"\n",
    "    Class to create pytorch model. This is a neural network because of the non-linear function.\n",
    "    \"\"\"\n",
    "    def __init__(self):\n",
    "        \"\"\"\n",
    "        Initializer. Runs when an object is created\n",
    "        \"\"\"\n",
    "        super().__init__()\n",
    "        self.layer1 = nn.Linear(in_features=1, out_features=5, bias=True)\n",
    "        self.tanh = nn.Tanh()\n",
    "        self.layer2 = nn.Linear(in_features=5, out_features=1, bias=True)\n",
    "        \n",
    "    def forward(self,x):\n",
    "        \"\"\"\n",
    "        Make predictions with our model\n",
    "        \"\"\"\n",
    "        out = self.layer1(x)\n",
    "        out = self.tanh(out)\n",
    "        out = self.layer2(out)\n",
    "        return out"
   ]
  },
  {
   "cell_type": "code",
   "execution_count": 59,
   "id": "b532da6d-8708-46ff-bc79-ee0621155380",
   "metadata": {},
   "outputs": [],
   "source": [
    "nn_model = NN_model()"
   ]
  },
  {
   "cell_type": "code",
   "execution_count": 60,
   "id": "28716996-71be-4b98-805f-2518a44070ed",
   "metadata": {},
   "outputs": [
    {
     "name": "stdout",
     "output_type": "stream",
     "text": [
      "layer1.weight Parameter containing:\n",
      "tensor([[-0.6538],\n",
      "        [-0.0687],\n",
      "        [ 0.8695],\n",
      "        [ 0.5216],\n",
      "        [ 0.7519]], requires_grad=True)\n",
      "layer1.bias Parameter containing:\n",
      "tensor([-0.1350,  0.8052, -0.6030,  0.5456,  0.4963], requires_grad=True)\n",
      "layer2.weight Parameter containing:\n",
      "tensor([[-0.4322, -0.4398, -0.1561, -0.4269,  0.3764]], requires_grad=True)\n",
      "layer2.bias Parameter containing:\n",
      "tensor([-0.2351], requires_grad=True)\n"
     ]
    }
   ],
   "source": [
    "for name, p in nn_model.named_parameters():\n",
    "    print(name,p)"
   ]
  },
  {
   "cell_type": "code",
   "execution_count": 61,
   "id": "c28c727b-927b-4a7d-9ae9-981169debd5f",
   "metadata": {},
   "outputs": [
    {
     "name": "stdout",
     "output_type": "stream",
     "text": [
      "Number of parameters: 16\n"
     ]
    }
   ],
   "source": [
    "print(\"Number of parameters:\", sum(p.numel() for p in nn_model.parameters()))"
   ]
  },
  {
   "cell_type": "code",
   "execution_count": 62,
   "id": "e21fdd14-1b27-446c-bebc-0904ae177956",
   "metadata": {},
   "outputs": [],
   "source": [
    "learning_rate=0.0001\n",
    "optimizer = optim.SGD(nn_model.parameters(),lr=learning_rate)"
   ]
  },
  {
   "cell_type": "code",
   "execution_count": 63,
   "id": "4e1c251f-33df-4fb4-97ac-665908c1dded",
   "metadata": {},
   "outputs": [
    {
     "name": "stdout",
     "output_type": "stream",
     "text": [
      "Epoch: 0, Loss: 1141.4652099609375\n",
      "Epoch: 1, Loss: 1132.34375\n",
      "Epoch: 2, Loss: 1128.087158203125\n",
      "Epoch: 3, Loss: 1124.8121337890625\n",
      "Epoch: 4, Loss: 1121.91455078125\n",
      "Epoch: 5, Loss: 1119.2071533203125\n",
      "Epoch: 6, Loss: 1116.6119384765625\n",
      "Epoch: 7, Loss: 1114.0894775390625\n",
      "Epoch: 8, Loss: 1111.6181640625\n",
      "Epoch: 9, Loss: 1109.184814453125\n",
      "Epoch: 1000, Loss: 232.2644500732422\n",
      "Epoch: 2000, Loss: 120.24368286132812\n",
      "Epoch: 3000, Loss: 90.58956909179688\n",
      "Epoch: 4000, Loss: 72.81491088867188\n",
      "Epoch: 5000, Loss: 62.796688079833984\n",
      "Epoch: 6000, Loss: 63.39915084838867\n",
      "Epoch: 7000, Loss: 64.93254852294922\n",
      "Epoch: 8000, Loss: 63.726951599121094\n",
      "Epoch: 9000, Loss: 56.73271560668945\n",
      "Epoch: 10000, Loss: 47.39036560058594\n",
      "Epoch: 11000, Loss: 41.813175201416016\n",
      "Epoch: 12000, Loss: 38.87548828125\n",
      "Epoch: 13000, Loss: 37.04941177368164\n",
      "Epoch: 14000, Loss: 35.606502532958984\n",
      "Epoch: 15000, Loss: 34.38573455810547\n",
      "Epoch: 16000, Loss: 33.42744445800781\n",
      "Epoch: 17000, Loss: 32.70558547973633\n",
      "Epoch: 18000, Loss: 32.09391403198242\n",
      "Epoch: 19000, Loss: 31.55677032470703\n",
      "Epoch: 20000, Loss: 31.092973709106445\n",
      "Epoch: 21000, Loss: 30.69867515563965\n",
      "Epoch: 22000, Loss: 30.36676788330078\n",
      "Epoch: 23000, Loss: 30.088829040527344\n",
      "Epoch: 24000, Loss: 29.857175827026367\n",
      "Epoch: 25000, Loss: 29.663938522338867\n",
      "Epoch: 26000, Loss: 29.502117156982422\n",
      "Epoch: 27000, Loss: 29.365793228149414\n",
      "Epoch: 28000, Loss: 29.249792098999023\n",
      "Epoch: 29000, Loss: 29.14922523498535\n"
     ]
    }
   ],
   "source": [
    "training_loop(n_epochs = 30000,\n",
    "              optimizer = optimizer,\n",
    "              loss_fn = loss_fn,\n",
    "              model=nn_model,\n",
    "              X = X,\n",
    "              y=y)"
   ]
  },
  {
   "cell_type": "code",
   "execution_count": 64,
   "id": "583cc8d4-33da-4995-b437-6c5cc5789737",
   "metadata": {},
   "outputs": [
    {
     "name": "stdout",
     "output_type": "stream",
     "text": [
      "layer1.weight Parameter containing:\n",
      "tensor([[-0.1121],\n",
      "        [-0.1734],\n",
      "        [ 0.8672],\n",
      "        [ 0.0582],\n",
      "        [ 0.7211]], requires_grad=True)\n",
      "layer1.bias Parameter containing:\n",
      "tensor([ 1.1257,  4.6903, -0.7145,  0.5092,  0.3997], requires_grad=True)\n",
      "layer2.weight Parameter containing:\n",
      "tensor([[ -9.8439, -10.5129,   9.2435,   8.9503,   9.7593]],\n",
      "       requires_grad=True)\n",
      "layer2.bias Parameter containing:\n",
      "tensor([9.1399], requires_grad=True)\n"
     ]
    }
   ],
   "source": [
    "for name, p in nn_model.named_parameters():\n",
    "    print(name,p)"
   ]
  },
  {
   "cell_type": "markdown",
   "id": "7e999fa1-8ff6-4c95-be49-7a50272dd376",
   "metadata": {},
   "source": [
    "### Let's compare our linear model with our small neural network"
   ]
  },
  {
   "cell_type": "code",
   "execution_count": 65,
   "id": "3107c826-8e04-4487-9a17-f1abed7e11b8",
   "metadata": {},
   "outputs": [
    {
     "data": {
      "text/plain": [
       "torch.Size([100, 1])"
      ]
     },
     "execution_count": 65,
     "metadata": {},
     "output_type": "execute_result"
    }
   ],
   "source": [
    "t_range = torch.arange(0,50,0.5).unsqueeze(1)\n",
    "t_range.shape"
   ]
  },
  {
   "cell_type": "code",
   "execution_count": 66,
   "id": "04190165-a30e-4bde-b3ad-fed1ae685cae",
   "metadata": {},
   "outputs": [],
   "source": [
    "lin_yhat = lin_model(t_range)\n",
    "nn_yhat = nn_model(t_range)"
   ]
  },
  {
   "cell_type": "code",
   "execution_count": 67,
   "id": "f0bdf262-5a74-441f-9825-32eb2c280f59",
   "metadata": {},
   "outputs": [
    {
     "data": {
      "text/plain": [
       "<matplotlib.legend.Legend at 0x7f43d035ed10>"
      ]
     },
     "execution_count": 67,
     "metadata": {},
     "output_type": "execute_result"
    },
    {
     "data": {
      "image/png": "[encoded data removed]",
      "text/plain": [
       "<Figure size 640x480 with 1 Axes>"
      ]
     },
     "metadata": {},
     "output_type": "display_data"
    }
   ],
   "source": [
    "plt.scatter(speed,rate)\n",
    "plt.plot(t_range.numpy(),nn_yhat.detach().numpy(),label=\"Neural network\")\n",
    "plt.plot(t_range.numpy(),lin_yhat.detach().numpy(),label=\"Linear model\")\n",
    "plt.xlabel(\"Running speed (cm/sec)\")\n",
    "plt.ylabel(\"Firing rate (Hz)\")\n",
    "plt.legend()"
   ]
  },
  {
   "cell_type": "markdown",
   "id": "bca0460b-a02c-4535-8a49-cc0ddb7a55f1",
   "metadata": {},
   "source": [
    "### Neural networks can model all sorts of functions\n",
    "\n",
    "Let's try our two models on some non-linear problems"
   ]
  },
  {
   "cell_type": "code",
   "execution_count": 68,
   "id": "9a6d73bf-6768-429d-81a2-7004844ef7b5",
   "metadata": {},
   "outputs": [
    {
     "name": "stdout",
     "output_type": "stream",
     "text": [
      "torch.Size([100, 1])\n"
     ]
    }
   ],
   "source": [
    "X = torch.arange(0,10,0.1).unsqueeze(1)\n",
    "print(X.shape)\n",
    "y = torch.sin(X)*4 + torch.randn(100, 1)"
   ]
  },
  {
   "cell_type": "code",
   "execution_count": 69,
   "id": "86905410-007d-417f-a5be-8e4a2f7f09b3",
   "metadata": {},
   "outputs": [
    {
     "data": {
      "text/plain": [
       "<matplotlib.collections.PathCollection at 0x7f42fb291660>"
      ]
     },
     "execution_count": 69,
     "metadata": {},
     "output_type": "execute_result"
    },
    {
     "data": {
      "image/png": "[encoded data removed]",
      "text/plain": [
       "<Figure size 640x480 with 1 Axes>"
      ]
     },
     "metadata": {},
     "output_type": "display_data"
    }
   ],
   "source": [
    "plt.scatter(X.numpy(),y.numpy())"
   ]
  },
  {
   "cell_type": "code",
   "execution_count": 70,
   "id": "e241ff15-770b-48b7-bc57-129371a2fb23",
   "metadata": {},
   "outputs": [
    {
     "name": "stdout",
     "output_type": "stream",
     "text": [
      "Epoch: 0, Loss: 319.3418273925781\n",
      "Epoch: 1, Loss: 24.259326934814453\n",
      "Epoch: 2, Loss: 21.1698055267334\n",
      "Epoch: 3, Loss: 18.676406860351562\n",
      "Epoch: 4, Loss: 16.645225524902344\n",
      "Epoch: 5, Loss: 14.982125282287598\n",
      "Epoch: 6, Loss: 13.618111610412598\n",
      "Epoch: 7, Loss: 12.500571250915527\n",
      "Epoch: 8, Loss: 11.587828636169434\n",
      "Epoch: 9, Loss: 10.845724105834961\n",
      "Epoch: 1000, Loss: 6.04578971862793\n",
      "Epoch: 2000, Loss: 5.829845428466797\n",
      "Epoch: 3000, Loss: 5.5810441970825195\n",
      "Epoch: 4000, Loss: 4.976471424102783\n",
      "Epoch: 5000, Loss: 4.568141460418701\n",
      "Epoch: 6000, Loss: 4.168846130371094\n",
      "Epoch: 7000, Loss: 3.7740185260772705\n",
      "Epoch: 8000, Loss: 3.460097312927246\n",
      "Epoch: 9000, Loss: 3.258544683456421\n",
      "Epoch: 10000, Loss: 3.1288092136383057\n",
      "Epoch: 11000, Loss: 3.039435386657715\n",
      "Epoch: 12000, Loss: 2.9679019451141357\n",
      "Epoch: 13000, Loss: 2.8958263397216797\n",
      "Epoch: 14000, Loss: 2.8088173866271973\n",
      "Epoch: 15000, Loss: 2.7022485733032227\n",
      "Epoch: 16000, Loss: 2.587902307510376\n",
      "Epoch: 17000, Loss: 2.587768316268921\n",
      "Epoch: 18000, Loss: 2.570725440979004\n",
      "Epoch: 19000, Loss: 2.5520925521850586\n",
      "Epoch: 20000, Loss: 2.5359108448028564\n",
      "Epoch: 21000, Loss: 2.523922920227051\n",
      "Epoch: 22000, Loss: 2.5159099102020264\n",
      "Epoch: 23000, Loss: 2.5113790035247803\n",
      "Epoch: 24000, Loss: 2.5099775791168213\n",
      "Epoch: 25000, Loss: 2.5116093158721924\n",
      "Epoch: 26000, Loss: 2.5164029598236084\n",
      "Epoch: 27000, Loss: 2.52476167678833\n",
      "Epoch: 28000, Loss: 2.5373423099517822\n",
      "Epoch: 29000, Loss: 2.5552260875701904\n",
      "Epoch: 30000, Loss: 2.5796966552734375\n",
      "Epoch: 31000, Loss: 2.6117212772369385\n",
      "Epoch: 32000, Loss: 2.649975061416626\n",
      "Epoch: 33000, Loss: 2.6877706050872803\n",
      "Epoch: 34000, Loss: 2.7163290977478027\n",
      "Epoch: 35000, Loss: 2.730883836746216\n",
      "Epoch: 36000, Loss: 2.731567621231079\n",
      "Epoch: 37000, Loss: 2.7210543155670166\n",
      "Epoch: 38000, Loss: 2.702104091644287\n",
      "Epoch: 39000, Loss: 2.6769440174102783\n"
     ]
    }
   ],
   "source": [
    "learning_rate=0.001\n",
    "optimizer = optim.SGD(nn_model.parameters(),lr=learning_rate)\n",
    "training_loop(n_epochs = 40000,\n",
    "              optimizer = optimizer,\n",
    "              loss_fn = loss_fn,\n",
    "              model=nn_model,\n",
    "              X = X,\n",
    "              y=y)"
   ]
  },
  {
   "cell_type": "code",
   "execution_count": 71,
   "id": "3d8a2914-091c-41e3-8feb-6d04d9aabedc",
   "metadata": {},
   "outputs": [
    {
     "name": "stdout",
     "output_type": "stream",
     "text": [
      "Epoch: 0, Loss: 279.77838134765625\n",
      "Epoch: 1, Loss: 247.3787841796875\n",
      "Epoch: 2, Loss: 219.18301391601562\n",
      "Epoch: 3, Loss: 194.64515686035156\n",
      "Epoch: 4, Loss: 173.29039001464844\n",
      "Epoch: 5, Loss: 154.7053985595703\n",
      "Epoch: 6, Loss: 138.5305938720703\n",
      "Epoch: 7, Loss: 124.45304870605469\n",
      "Epoch: 8, Loss: 112.20044708251953\n",
      "Epoch: 9, Loss: 101.53582763671875\n",
      "Epoch: 1000, Loss: 16.48593521118164\n",
      "Epoch: 2000, Loss: 11.32788372039795\n",
      "Epoch: 3000, Loss: 9.41624641418457\n",
      "Epoch: 4000, Loss: 8.707767486572266\n",
      "Epoch: 5000, Loss: 8.445196151733398\n",
      "Epoch: 6000, Loss: 8.347883224487305\n",
      "Epoch: 7000, Loss: 8.31181812286377\n",
      "Epoch: 8000, Loss: 8.298452377319336\n",
      "Epoch: 9000, Loss: 8.293498992919922\n",
      "Epoch: 10000, Loss: 8.291662216186523\n",
      "Epoch: 11000, Loss: 8.290982246398926\n",
      "Epoch: 12000, Loss: 8.290730476379395\n",
      "Epoch: 13000, Loss: 8.29063606262207\n",
      "Epoch: 14000, Loss: 8.29060173034668\n",
      "Epoch: 15000, Loss: 8.290589332580566\n",
      "Epoch: 16000, Loss: 8.290584564208984\n",
      "Epoch: 17000, Loss: 8.290582656860352\n",
      "Epoch: 18000, Loss: 8.290581703186035\n",
      "Epoch: 19000, Loss: 8.290581703186035\n",
      "Epoch: 20000, Loss: 8.290581703186035\n",
      "Epoch: 21000, Loss: 8.290581703186035\n",
      "Epoch: 22000, Loss: 8.290580749511719\n",
      "Epoch: 23000, Loss: 8.290580749511719\n",
      "Epoch: 24000, Loss: 8.290581703186035\n",
      "Epoch: 25000, Loss: 8.290581703186035\n",
      "Epoch: 26000, Loss: 8.290581703186035\n",
      "Epoch: 27000, Loss: 8.290581703186035\n",
      "Epoch: 28000, Loss: 8.290581703186035\n",
      "Epoch: 29000, Loss: 8.290581703186035\n",
      "Epoch: 30000, Loss: 8.290581703186035\n",
      "Epoch: 31000, Loss: 8.290581703186035\n",
      "Epoch: 32000, Loss: 8.290581703186035\n",
      "Epoch: 33000, Loss: 8.290581703186035\n",
      "Epoch: 34000, Loss: 8.290581703186035\n",
      "Epoch: 35000, Loss: 8.290581703186035\n",
      "Epoch: 36000, Loss: 8.290581703186035\n",
      "Epoch: 37000, Loss: 8.290581703186035\n",
      "Epoch: 38000, Loss: 8.290581703186035\n",
      "Epoch: 39000, Loss: 8.290581703186035\n"
     ]
    }
   ],
   "source": [
    "learning_rate=0.001\n",
    "optimizer = optim.SGD(lin_model.parameters(),lr=learning_rate)\n",
    "training_loop(n_epochs = 40000,\n",
    "              optimizer = optimizer,\n",
    "              loss_fn = loss_fn,\n",
    "              model=lin_model,\n",
    "              X = X,\n",
    "              y=y)"
   ]
  },
  {
   "cell_type": "code",
   "execution_count": 72,
   "id": "8d5c7e0b-bbea-46d7-9096-ce81047692f4",
   "metadata": {},
   "outputs": [
    {
     "data": {
      "text/plain": [
       "torch.Size([50, 1])"
      ]
     },
     "execution_count": 72,
     "metadata": {},
     "output_type": "execute_result"
    }
   ],
   "source": [
    "t_range = torch.arange(0,10,0.2).unsqueeze(1)\n",
    "t_range.shape"
   ]
  },
  {
   "cell_type": "code",
   "execution_count": 73,
   "id": "f847e5c8-cbb8-4370-803b-10521e36f2a0",
   "metadata": {},
   "outputs": [],
   "source": [
    "lin_yhat = lin_model(t_range)\n",
    "nn_yhat = nn_model(t_range)"
   ]
  },
  {
   "cell_type": "code",
   "execution_count": 74,
   "id": "9603953d-d1fa-4a2f-ae34-d190a21c760d",
   "metadata": {},
   "outputs": [
    {
     "data": {
      "text/plain": [
       "<matplotlib.legend.Legend at 0x7f42fb2cd5d0>"
      ]
     },
     "execution_count": 74,
     "metadata": {},
     "output_type": "execute_result"
    },
    {
     "data": {
      "image/png": "[encoded data removed]",
      "text/plain": [
       "<Figure size 640x480 with 1 Axes>"
      ]
     },
     "metadata": {},
     "output_type": "display_data"
    }
   ],
   "source": [
    "plt.scatter(X.numpy(),y.numpy())\n",
    "plt.plot(t_range.numpy(),nn_yhat.detach().numpy(),label=\"Neural network\")\n",
    "plt.plot(t_range.numpy(),lin_yhat.detach().numpy(),label=\"Linear model\")\n",
    "plt.xlabel(\"Running speed (cm/sec)\")\n",
    "plt.ylabel(\"Firing rate (Hz)\")\n",
    "plt.legend()"
   ]
  },
  {
   "cell_type": "markdown",
   "id": "11bf39e5-0064-43d8-b4d1-c3dff1cf8804",
   "metadata": {},
   "source": [
    "The non-linearity in the artifical neurons makes it possible to fit all sorts of function.\n",
    "\n",
    "Here, the neural network is a better approximation of the underlying data. "
   ]
  },
  {
   "cell_type": "markdown",
   "id": "78fe7fd9-712b-4254-9b84-552597df8636",
   "metadata": {},
   "source": [
    "## Exercise\n",
    "\n",
    "### Improve our neural network model\n",
    "\n",
    "Our neural network is good but it is not perfect. \n",
    "\n",
    "How could you modify this model to make it fit the data more closely?\n",
    "\n",
    "Have a go at trying to improve its predictions."
   ]
  },
  {
   "cell_type": "code",
   "execution_count": null,
   "id": "c45f2fa6-99a3-4549-9e67-e7da61f4600b",
   "metadata": {},
   "outputs": [],
   "source": []
  },
  {
   "cell_type": "markdown",
   "id": "06cdb4cc-c901-4dc1-9f11-5a94f1e8e5ff",
   "metadata": {},
   "source": [
    "## Adding more hidden layers to create a deep neural network\n",
    "\n",
    "**Deep neural networks** have several hidden layers.\n",
    "\n",
    "* The output of the first layer have a shape similar to the activiation function.\n",
    "* The next level can combine the inputs of the first layers to create more complex functions.\n"
   ]
  },
  {
   "cell_type": "code",
   "execution_count": 75,
   "id": "efafd3b5-a97c-4025-9457-e26891238f97",
   "metadata": {},
   "outputs": [
    {
     "data": {
      "text/plain": [
       "Text(0, 0.5, 'output')"
      ]
     },
     "execution_count": 75,
     "metadata": {},
     "output_type": "execute_result"
    },
    {
     "data": {
      "image/png": "[encoded data removed]",
      "text/plain": [
       "<Figure size 900x300 with 3 Axes>"
      ]
     },
     "metadata": {},
     "output_type": "display_data"
    }
   ],
   "source": [
    "nrow=1\n",
    "ncol=3\n",
    "fig, ax = plt.subplots(nrow,ncol,figsize=(9,3),layout='constrained')\n",
    "\n",
    "XX = np.linspace(-4,4) # input\n",
    "      \n",
    "# \n",
    "w1=1.25\n",
    "b1=1.0                \n",
    "ax[0].plot(XX,np.tanh(w1*XX+b1))\n",
    "ax[0].set_title(\"Neuron 1 of layer 1\")\n",
    "ax[0].set_xlabel(\"input\")\n",
    "ax[0].set_ylabel(\"output\")\n",
    "\n",
    "w2=-2\n",
    "b2=1.5\n",
    "ax[1].plot(XX,np.tanh(w2*XX+b2))\n",
    "ax[1].set_title(\"Neuron 2 of layer 1\")\n",
    "ax[1].set_xlabel(\"input\")\n",
    "ax[1].set_ylabel(\"output\")\n",
    "\n",
    "w3=[2,1]\n",
    "b3=2\n",
    "ax[2].plot(XX,w3[0]*np.tanh(w1*XX+b1)+ w3[1]*np.tanh(w2*XX+b2))\n",
    "ax[2].set_title(\"Neuron 1 of layer 2\\n(inputs from layer 1)\")\n",
    "ax[2].set_xlabel(\"input\")\n",
    "ax[2].set_ylabel(\"output\")"
   ]
  },
  {
   "cell_type": "code",
   "execution_count": 76,
   "id": "ec5d3113-e155-4626-abd1-18c1ae90961e",
   "metadata": {},
   "outputs": [],
   "source": [
    "class DNN_model(nn.Module):\n",
    "    \"\"\"\n",
    "    Class to create pytorch model. This is a neural network because of the non-linear function.\n",
    "    \"\"\"\n",
    "    def __init__(self):\n",
    "        \"\"\"\n",
    "        Initializer. Runs when an object is created\n",
    "        \"\"\"\n",
    "        super().__init__()\n",
    "        self.layer1 = nn.Linear(in_features=1, out_features=10, bias=True)\n",
    "        self.layer2 = nn.Linear(in_features=10, out_features=10, bias=True)\n",
    "        self.layer3 = nn.Linear(in_features=10, out_features=1, bias=True)\n",
    "        self.tanh = nn.Tanh()\n",
    "        \n",
    "        \n",
    "    def forward(self,x):\n",
    "        \"\"\"\n",
    "        Make predictions with our model\n",
    "        \"\"\"\n",
    "        out = self.tanh(self.layer1(x))\n",
    "        out = self.tanh(self.layer2(out))\n",
    "        out = self.layer3(out)\n",
    "        \n",
    "        return out"
   ]
  },
  {
   "cell_type": "code",
   "execution_count": 77,
   "id": "ba178164-9504-4478-b7c6-5b7d8ebd8ce3",
   "metadata": {},
   "outputs": [],
   "source": [
    "dnn_model = DNN_model()"
   ]
  },
  {
   "cell_type": "code",
   "execution_count": 78,
   "id": "c0785436-0445-443e-a795-2b13e4ba5345",
   "metadata": {},
   "outputs": [
    {
     "name": "stdout",
     "output_type": "stream",
     "text": [
      "layer1.weight Parameter containing:\n",
      "tensor([[ 0.9097],\n",
      "        [-0.3787],\n",
      "        [-0.4274],\n",
      "        [-0.5963],\n",
      "        [-0.6272],\n",
      "        [ 0.1499],\n",
      "        [ 0.3479],\n",
      "        [ 0.0169],\n",
      "        [ 0.1691],\n",
      "        [ 0.9387]], requires_grad=True)\n",
      "layer1.bias Parameter containing:\n",
      "tensor([-0.3893, -0.2554, -0.5327, -0.3436, -0.1843, -0.5293, -0.7926,  0.7967,\n",
      "         0.8197, -0.3090], requires_grad=True)\n",
      "layer2.weight Parameter containing:\n",
      "tensor([[-0.1447, -0.1920,  0.2285,  0.3143, -0.0885, -0.0759,  0.3158,  0.0755,\n",
      "          0.2846, -0.2690],\n",
      "        [-0.1770,  0.0469,  0.0288, -0.1236,  0.2058,  0.3122, -0.1188,  0.1985,\n",
      "         -0.0287,  0.2648],\n",
      "        [ 0.2924,  0.0356, -0.1860,  0.0840, -0.0269, -0.2267, -0.1999, -0.2120,\n",
      "         -0.2358,  0.0173],\n",
      "        [-0.3070, -0.1353,  0.0774,  0.1338,  0.1916, -0.2311, -0.2991, -0.0977,\n",
      "          0.1059, -0.1252],\n",
      "        [ 0.1794,  0.0528,  0.0656,  0.0926,  0.0168,  0.1832, -0.0460, -0.0967,\n",
      "         -0.0736,  0.2922],\n",
      "        [-0.2440,  0.0151, -0.0031, -0.2317,  0.2356, -0.1171, -0.0999,  0.2995,\n",
      "          0.2721,  0.3031],\n",
      "        [-0.1016, -0.1082, -0.0996, -0.1383, -0.0694, -0.3008,  0.0995, -0.2281,\n",
      "         -0.0495,  0.2377],\n",
      "        [-0.2068, -0.0384, -0.2865,  0.0108,  0.2850,  0.0629, -0.2615,  0.1853,\n",
      "          0.1618, -0.0836],\n",
      "        [ 0.2404, -0.1165, -0.2626, -0.2389,  0.0920,  0.0376,  0.2432, -0.0629,\n",
      "          0.1568,  0.0288],\n",
      "        [-0.2461,  0.1250,  0.0353,  0.1824, -0.1883, -0.2739, -0.1738, -0.0786,\n",
      "          0.1866, -0.0098]], requires_grad=True)\n",
      "layer2.bias Parameter containing:\n",
      "tensor([-0.1122,  0.1755, -0.2776, -0.2768,  0.0193, -0.1589, -0.2808,  0.1725,\n",
      "        -0.1345, -0.2079], requires_grad=True)\n",
      "layer3.weight Parameter containing:\n",
      "tensor([[-0.0469, -0.1025,  0.2194, -0.0467, -0.3147, -0.0931, -0.2890, -0.2962,\n",
      "          0.2125, -0.1949]], requires_grad=True)\n",
      "layer3.bias Parameter containing:\n",
      "tensor([-0.2750], requires_grad=True)\n"
     ]
    }
   ],
   "source": [
    "for name, p in dnn_model.named_parameters():\n",
    "    print(name,p)"
   ]
  },
  {
   "cell_type": "code",
   "execution_count": 79,
   "id": "95b49bb1-d1a2-4bb4-a042-a32b112422e7",
   "metadata": {},
   "outputs": [
    {
     "name": "stdout",
     "output_type": "stream",
     "text": [
      "Number of parameters: 141\n"
     ]
    }
   ],
   "source": [
    "print(\"Number of parameters:\", sum(p.numel() for p in dnn_model.parameters()))"
   ]
  },
  {
   "cell_type": "code",
   "execution_count": 80,
   "id": "5b27873b-b4a5-44cc-af55-1f8350b14883",
   "metadata": {},
   "outputs": [
    {
     "name": "stdout",
     "output_type": "stream",
     "text": [
      "Epoch: 0, Loss: 9.07816219329834\n",
      "Epoch: 1, Loss: 9.067771911621094\n",
      "Epoch: 2, Loss: 9.057585716247559\n",
      "Epoch: 3, Loss: 9.04759693145752\n",
      "Epoch: 4, Loss: 9.037803649902344\n",
      "Epoch: 5, Loss: 9.028202056884766\n",
      "Epoch: 6, Loss: 9.018784523010254\n",
      "Epoch: 7, Loss: 9.00954818725586\n",
      "Epoch: 8, Loss: 9.00049114227295\n",
      "Epoch: 9, Loss: 8.991607666015625\n",
      "Epoch: 1000, Loss: 7.925908088684082\n",
      "Epoch: 2000, Loss: 7.076638221740723\n",
      "Epoch: 3000, Loss: 5.88671875\n",
      "Epoch: 4000, Loss: 3.876666784286499\n",
      "Epoch: 5000, Loss: 2.837728500366211\n",
      "Epoch: 6000, Loss: 2.5073013305664062\n",
      "Epoch: 7000, Loss: 2.369309902191162\n",
      "Epoch: 8000, Loss: 2.2831907272338867\n",
      "Epoch: 9000, Loss: 2.221804618835449\n",
      "Epoch: 10000, Loss: 2.1750903129577637\n",
      "Epoch: 11000, Loss: 2.1379592418670654\n",
      "Epoch: 12000, Loss: 2.1075098514556885\n",
      "Epoch: 13000, Loss: 2.081756830215454\n",
      "Epoch: 14000, Loss: 2.059034824371338\n",
      "Epoch: 15000, Loss: 2.0376715660095215\n",
      "Epoch: 16000, Loss: 2.015629529953003\n",
      "Epoch: 17000, Loss: 1.9897263050079346\n",
      "Epoch: 18000, Loss: 1.9539412260055542\n",
      "Epoch: 19000, Loss: 1.8974428176879883\n",
      "Epoch: 20000, Loss: 1.8073960542678833\n",
      "Epoch: 21000, Loss: 1.6820849180221558\n",
      "Epoch: 22000, Loss: 1.5387852191925049\n",
      "Epoch: 23000, Loss: 1.3984849452972412\n",
      "Epoch: 24000, Loss: 1.2744951248168945\n",
      "Epoch: 25000, Loss: 1.1715550422668457\n",
      "Epoch: 26000, Loss: 1.088986873626709\n",
      "Epoch: 27000, Loss: 1.0238624811172485\n",
      "Epoch: 28000, Loss: 0.9728026390075684\n",
      "Epoch: 29000, Loss: 0.9327334761619568\n",
      "Epoch: 30000, Loss: 0.9115613698959351\n",
      "Epoch: 31000, Loss: 1.002793550491333\n",
      "Epoch: 32000, Loss: 0.9903207421302795\n",
      "Epoch: 33000, Loss: 0.9744902849197388\n",
      "Epoch: 34000, Loss: 0.9589016437530518\n",
      "Epoch: 35000, Loss: 0.9444633722305298\n",
      "Epoch: 36000, Loss: 0.9313415288925171\n",
      "Epoch: 37000, Loss: 0.9194619655609131\n",
      "Epoch: 38000, Loss: 0.9087267518043518\n",
      "Epoch: 39000, Loss: 0.8989840149879456\n"
     ]
    }
   ],
   "source": [
    "learning_rate=0.001\n",
    "optimizer = optim.SGD(dnn_model.parameters(),lr=learning_rate)\n",
    "training_loop(n_epochs = 40000,\n",
    "              optimizer = optimizer,\n",
    "              loss_fn = loss_fn,\n",
    "              model=dnn_model,\n",
    "              X = X,\n",
    "              y=y)"
   ]
  },
  {
   "cell_type": "code",
   "execution_count": 81,
   "id": "7633ae81-bdfc-47e8-9355-8cbadb4c97bc",
   "metadata": {},
   "outputs": [],
   "source": [
    "lin_yhat = lin_model(t_range)\n",
    "nn_yhat = nn_model(t_range)\n",
    "dnn_yhat = dnn_model(t_range)"
   ]
  },
  {
   "cell_type": "code",
   "execution_count": 82,
   "id": "c7334a6f-a936-4b96-863b-81d1f8d37d8c",
   "metadata": {},
   "outputs": [
    {
     "data": {
      "text/plain": [
       "<matplotlib.legend.Legend at 0x7f42fb0b1e10>"
      ]
     },
     "execution_count": 82,
     "metadata": {},
     "output_type": "execute_result"
    },
    {
     "data": {
      "image/png": "[encoded data removed]",
      "text/plain": [
       "<Figure size 640x480 with 1 Axes>"
      ]
     },
     "metadata": {},
     "output_type": "display_data"
    }
   ],
   "source": [
    "plt.scatter(X.numpy(),y.numpy())\n",
    "plt.plot(t_range.numpy(),nn_yhat.detach().numpy(),label=\"Neural network\")\n",
    "plt.plot(t_range.numpy(),dnn_yhat.detach().numpy(),label=\"Deep neural network\")\n",
    "plt.plot(t_range.numpy(),lin_yhat.detach().numpy(),label=\"Linear model\")\n",
    "plt.xlabel(\"Running speed (cm/sec)\")\n",
    "plt.ylabel(\"Firing rate (Hz)\")\n",
    "plt.legend()"
   ]
  },
  {
   "cell_type": "markdown",
   "id": "e00c98ee-c5bb-41ce-8b15-4b2229969941",
   "metadata": {},
   "source": [
    "# Exercise\n",
    "\n",
    "Train a neural network that would predict the firing rate of a neuron based on speed and acceleration."
   ]
  },
  {
   "cell_type": "code",
   "execution_count": null,
   "id": "b6b0a0d6-6a16-4520-9d51-b30f9afaa7ba",
   "metadata": {},
   "outputs": [],
   "source": []
  }
 ],
 "metadata": {
  "kernelspec": {
   "display_name": "Python 3 (ipykernel)",
   "language": "python",
   "name": "python3"
  },
  "language_info": {
   "codemirror_mode": {
    "name": "ipython",
    "version": 3
   },
   "file_extension": ".py",
   "mimetype": "text/x-python",
   "name": "python",
   "nbconvert_exporter": "python",
   "pygments_lexer": "ipython3",
   "version": "3.10.12"
  }
 },
 "nbformat": 4,
 "nbformat_minor": 5
}
