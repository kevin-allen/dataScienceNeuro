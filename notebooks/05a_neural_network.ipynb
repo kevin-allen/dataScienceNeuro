{
 "cells": [
  {
   "cell_type": "markdown",
   "id": "d9efad43-9376-4462-8230-65a9257e203f",
   "metadata": {},
   "source": [
    "# Week 5, Data science in Neuroscience\n",
    "\n",
    "\n",
    "## Plan for this week\n",
    "\n",
    "1. Introduction to pytorch\n",
    "2. Tensors\n",
    "3. Training loop in pytorch\n",
    "4. A first neural network\n",
    "5. A convolutional network to process images\n",
    "\n",
    "***\n"
   ]
  },
  {
   "cell_type": "markdown",
   "id": "77c602b6-ef2c-47d4-bfc0-edc6dfc8c6c9",
   "metadata": {},
   "source": [
    "\n",
    "<div>\n",
    "<img src=\"../images/pytorch.png\" width=\"400\"/>\n",
    "</div>\n",
    "\n",
    "Pytorch is a Python library that facilitates building deep learning projects\n",
    "\n",
    "* Store data into Tensors (multidimensional arrays that are similar to NumPy arrays)\n",
    "* Allows fast calculations on dedicated hardware (GPUs)\n",
    "* Ability of tensors to keep track of the operations performed on them and to analytically compute derivatives\n",
    "* Classes to deal with datasets\n",
    "* Classes to simplify building deep neural networks"
   ]
  },
  {
   "cell_type": "markdown",
   "id": "9451fd19-97ab-4f96-bfa5-fdd3d4f06704",
   "metadata": {},
   "source": [
    "# Tensors\n",
    "\n",
    "pytorch tensors are very similar to NumPy arrays. They have 2 main advantages\n",
    "\n",
    "* Used to do calculations on a GPU\n",
    "* Can keep track of the graph of computations that created them (used to calculate derivatives) "
   ]
  },
  {
   "cell_type": "code",
   "execution_count": 1,
   "id": "75edf9c5-b4ea-404b-850c-a742d0c4dfbe",
   "metadata": {},
   "outputs": [],
   "source": [
    "import torch\n",
    "import numpy as np\n",
    "import matplotlib.pyplot as plt"
   ]
  },
  {
   "cell_type": "markdown",
   "id": "5d73e5f6-30db-426b-994e-25668f46409b",
   "metadata": {},
   "source": [
    "Creating tensors"
   ]
  },
  {
   "cell_type": "code",
   "execution_count": 2,
   "id": "84582524-415e-4085-b368-8affacdce948",
   "metadata": {},
   "outputs": [
    {
     "data": {
      "text/plain": [
       "tensor([1., 1., 1., 1., 1.])"
      ]
     },
     "execution_count": 2,
     "metadata": {},
     "output_type": "execute_result"
    }
   ],
   "source": [
    "torch.ones(5)"
   ]
  },
  {
   "cell_type": "code",
   "execution_count": 3,
   "id": "0514f17f-f61b-4a60-b625-7e8a31a3ac92",
   "metadata": {},
   "outputs": [
    {
     "data": {
      "text/plain": [
       "tensor([[0., 0., 0., 0.],\n",
       "        [0., 0., 0., 0.],\n",
       "        [0., 0., 0., 0.]])"
      ]
     },
     "execution_count": 3,
     "metadata": {},
     "output_type": "execute_result"
    }
   ],
   "source": [
    "torch.zeros(3,4)"
   ]
  },
  {
   "cell_type": "code",
   "execution_count": 4,
   "id": "c838a5a5-425c-4161-99d5-cc507ee10953",
   "metadata": {},
   "outputs": [
    {
     "data": {
      "text/plain": [
       "tensor([[1., 2.],\n",
       "        [3., 4.]])"
      ]
     },
     "execution_count": 4,
     "metadata": {},
     "output_type": "execute_result"
    }
   ],
   "source": [
    "a = torch.tensor([[1.0,2],[3,4]])\n",
    "a"
   ]
  },
  {
   "cell_type": "markdown",
   "id": "d461f2c6-7e17-4048-8011-2f9a34c78f0d",
   "metadata": {},
   "source": [
    "You can interrogate a tensor just like a NumPy array."
   ]
  },
  {
   "cell_type": "code",
   "execution_count": 5,
   "id": "3c75c040-cac0-418a-a5f4-c58520151d16",
   "metadata": {},
   "outputs": [
    {
     "name": "stdout",
     "output_type": "stream",
     "text": [
      "shape: torch.Size([2, 2])\n",
      "ndim: 2\n",
      "dtype: torch.float32\n"
     ]
    }
   ],
   "source": [
    "print(\"shape:\", a.shape)\n",
    "print(\"ndim:\", a.ndim)\n",
    "print(\"dtype:\", a.dtype)"
   ]
  },
  {
   "cell_type": "markdown",
   "id": "448f7b47-f6ad-48d9-acfa-bf434be1d029",
   "metadata": {},
   "source": [
    "You can generate random numbers with `torch.rand()`. You can change the shape of an array with `.reshape()`. Many of the mathematical functions of NumPy have a torch equivalent."
   ]
  },
  {
   "cell_type": "code",
   "execution_count": 112,
   "id": "8c8a2f41-d83c-4221-962f-240102ccf101",
   "metadata": {},
   "outputs": [
    {
     "data": {
      "text/plain": [
       "tensor([[0.4604, 0.4893, 0.9195, 0.9316, 0.0252, 0.5028],\n",
       "        [0.4622, 0.0502, 0.5303, 0.1542, 0.6111, 0.7979],\n",
       "        [0.6645, 0.5448, 0.2717, 0.1135, 0.0966, 0.8940],\n",
       "        [0.5725, 0.0748, 0.5498, 0.1650, 0.8833, 0.4523]])"
      ]
     },
     "execution_count": 112,
     "metadata": {},
     "output_type": "execute_result"
    }
   ],
   "source": [
    "b = torch.rand(24).reshape(4,6)\n",
    "b"
   ]
  },
  {
   "cell_type": "code",
   "execution_count": 113,
   "id": "c4a6c72d-57df-4a57-bada-5edadb3c8a55",
   "metadata": {},
   "outputs": [
    {
     "data": {
      "text/plain": [
       "torch.Size([4, 6])"
      ]
     },
     "execution_count": 113,
     "metadata": {},
     "output_type": "execute_result"
    }
   ],
   "source": [
    "b.shape"
   ]
  },
  {
   "cell_type": "code",
   "execution_count": 114,
   "id": "69ef7381-d380-4b6d-b771-c5b21c3149c1",
   "metadata": {},
   "outputs": [
    {
     "data": {
      "text/plain": [
       "tensor(0.4674)"
      ]
     },
     "execution_count": 114,
     "metadata": {},
     "output_type": "execute_result"
    }
   ],
   "source": [
    "b.mean()"
   ]
  },
  {
   "cell_type": "code",
   "execution_count": 115,
   "id": "0d1d291f-95c4-4193-890e-478ba80d4785",
   "metadata": {},
   "outputs": [
    {
     "data": {
      "text/plain": [
       "tensor([0.5399, 0.2898, 0.5678, 0.3411, 0.4040, 0.6618])"
      ]
     },
     "execution_count": 115,
     "metadata": {},
     "output_type": "execute_result"
    }
   ],
   "source": [
    "b.mean(axis=0)"
   ]
  },
  {
   "cell_type": "markdown",
   "id": "8390d942-335d-444c-9030-49d948a22c0c",
   "metadata": {},
   "source": [
    "We can add an extra dimension with a size of 1 using `.unsqueeze()`."
   ]
  },
  {
   "cell_type": "code",
   "execution_count": 116,
   "id": "47214dcb-f60b-44d2-af7d-d9b6aa2110e2",
   "metadata": {},
   "outputs": [
    {
     "data": {
      "text/plain": [
       "torch.Size([4, 6])"
      ]
     },
     "execution_count": 116,
     "metadata": {},
     "output_type": "execute_result"
    }
   ],
   "source": [
    "b.shape"
   ]
  },
  {
   "cell_type": "code",
   "execution_count": 117,
   "id": "40e72eba-6624-4ef2-872b-64a0da157a59",
   "metadata": {},
   "outputs": [
    {
     "data": {
      "text/plain": [
       "torch.Size([1, 4, 6])"
      ]
     },
     "execution_count": 117,
     "metadata": {},
     "output_type": "execute_result"
    }
   ],
   "source": [
    "b.unsqueeze(0).shape"
   ]
  },
  {
   "cell_type": "markdown",
   "id": "39a0a679-bbed-48f5-83ff-ea75155d809f",
   "metadata": {},
   "source": [
    "We can do broadcasting, just like with NumPy arrays.\n",
    "\n",
    "```\n",
    "When operating on two arrays, pytorch compares their shapes element-wise. It starts with the trailing (i.e. rightmost) dimensions and works its way left. Two dimensions are compatible when\n",
    "​\n",
    "* they are equal, or\n",
    "* one of them is 1\n",
    "```\n"
   ]
  },
  {
   "cell_type": "code",
   "execution_count": 118,
   "id": "44e6208a-2c00-46f2-978b-6798f43d87b0",
   "metadata": {},
   "outputs": [
    {
     "data": {
      "text/plain": [
       "torch.Size([4, 6])"
      ]
     },
     "execution_count": 118,
     "metadata": {},
     "output_type": "execute_result"
    }
   ],
   "source": [
    "b.shape"
   ]
  },
  {
   "cell_type": "code",
   "execution_count": 119,
   "id": "e0a826bd-eeea-45cb-8336-502fdc9eabe4",
   "metadata": {},
   "outputs": [
    {
     "data": {
      "text/plain": [
       "torch.Size([4])"
      ]
     },
     "execution_count": 119,
     "metadata": {},
     "output_type": "execute_result"
    }
   ],
   "source": [
    "a = torch.ones(4)\n",
    "a.shape"
   ]
  },
  {
   "cell_type": "code",
   "execution_count": 120,
   "id": "492c3216-1131-45c7-9b28-ca54774aba73",
   "metadata": {},
   "outputs": [],
   "source": [
    "#b+a"
   ]
  },
  {
   "cell_type": "markdown",
   "id": "fc253b48-e251-4fd9-8e20-6eb8cdf52613",
   "metadata": {},
   "source": [
    "We can add a dimension of size 1 with `.unsqeeze()`"
   ]
  },
  {
   "cell_type": "code",
   "execution_count": 121,
   "id": "78369733-b85f-4e21-b025-0d5edb277554",
   "metadata": {},
   "outputs": [
    {
     "data": {
      "text/plain": [
       "torch.Size([4, 1])"
      ]
     },
     "execution_count": 121,
     "metadata": {},
     "output_type": "execute_result"
    }
   ],
   "source": [
    "A = a.unsqueeze(1)\n",
    "A.shape"
   ]
  },
  {
   "cell_type": "code",
   "execution_count": 122,
   "id": "ad91fc62-727c-4004-a019-154423b33b4a",
   "metadata": {},
   "outputs": [
    {
     "data": {
      "text/plain": [
       "tensor([[1.4604, 1.4893, 1.9195, 1.9316, 1.0252, 1.5028],\n",
       "        [1.4622, 1.0502, 1.5303, 1.1542, 1.6111, 1.7979],\n",
       "        [1.6645, 1.5448, 1.2717, 1.1135, 1.0966, 1.8940],\n",
       "        [1.5725, 1.0748, 1.5498, 1.1650, 1.8833, 1.4523]])"
      ]
     },
     "execution_count": 122,
     "metadata": {},
     "output_type": "execute_result"
    }
   ],
   "source": [
    "b+A"
   ]
  },
  {
   "cell_type": "markdown",
   "id": "d6181d78-49bb-43ef-95dc-050c6c2c82e9",
   "metadata": {},
   "source": [
    "We can get rid of a dimension of size 1 with `.squeeze()`"
   ]
  },
  {
   "cell_type": "code",
   "execution_count": 126,
   "id": "62ffb900-53ff-48fc-9936-0b7b6844e8db",
   "metadata": {},
   "outputs": [
    {
     "data": {
      "text/plain": [
       "(torch.Size([4, 1]), torch.Size([4]))"
      ]
     },
     "execution_count": 126,
     "metadata": {},
     "output_type": "execute_result"
    }
   ],
   "source": [
    "A.shape, A.squeeze().shape"
   ]
  },
  {
   "cell_type": "markdown",
   "id": "fefcf269-ed33-4e72-9433-ea49274fd273",
   "metadata": {},
   "source": [
    "We can change the order of the dimensions in a tensor with `.permute()`"
   ]
  },
  {
   "cell_type": "code",
   "execution_count": 127,
   "id": "d480f06d-aa3c-40bc-a635-156abc045c6b",
   "metadata": {},
   "outputs": [
    {
     "data": {
      "text/plain": [
       "torch.Size([4, 6])"
      ]
     },
     "execution_count": 127,
     "metadata": {},
     "output_type": "execute_result"
    }
   ],
   "source": [
    "b.shape"
   ]
  },
  {
   "cell_type": "code",
   "execution_count": 128,
   "id": "63940f7e-a9b1-4df2-b353-06acf01d8a5e",
   "metadata": {},
   "outputs": [
    {
     "data": {
      "text/plain": [
       "tensor([[[0.7204, 0.7230, 0.0542, 0.6271, 0.4519, 0.7301],\n",
       "         [0.9072, 0.2262, 0.7039, 0.4892, 0.7907, 0.9364],\n",
       "         [0.0568, 0.5600, 0.4219, 0.3345, 0.9204, 0.1896],\n",
       "         [0.3873, 0.8974, 0.2967, 0.2458, 0.4260, 0.4141]],\n",
       "\n",
       "        [[0.8690, 0.6897, 0.9347, 0.8341, 0.6198, 0.5166],\n",
       "         [0.5257, 0.8064, 0.3829, 0.8987, 0.1725, 0.9528],\n",
       "         [0.6159, 0.7583, 0.9904, 0.8842, 0.0278, 0.0506],\n",
       "         [0.9176, 0.6748, 0.0384, 0.5569, 0.0403, 0.2382]],\n",
       "\n",
       "        [[0.9055, 0.0169, 0.8908, 0.8523, 0.1661, 0.4952],\n",
       "         [0.0905, 0.1144, 0.0173, 0.5092, 0.4874, 0.5321],\n",
       "         [0.2591, 0.4577, 0.2682, 0.2839, 0.6477, 0.1536],\n",
       "         [0.2459, 0.3105, 0.4591, 0.4153, 0.7459, 0.0948]]])"
      ]
     },
     "execution_count": 128,
     "metadata": {},
     "output_type": "execute_result"
    }
   ],
   "source": [
    "b = torch.rand(3*24).reshape(3,4,6)\n",
    "b"
   ]
  },
  {
   "cell_type": "code",
   "execution_count": 129,
   "id": "14217858-e57e-4400-9047-6fc61854913e",
   "metadata": {},
   "outputs": [
    {
     "data": {
      "text/plain": [
       "torch.Size([3, 4, 6])"
      ]
     },
     "execution_count": 129,
     "metadata": {},
     "output_type": "execute_result"
    }
   ],
   "source": [
    "b.shape"
   ]
  },
  {
   "cell_type": "code",
   "execution_count": 130,
   "id": "df280f0d-bd7a-4c4b-a1ed-64b5cba9c8f9",
   "metadata": {},
   "outputs": [
    {
     "data": {
      "text/plain": [
       "torch.Size([4, 6, 3])"
      ]
     },
     "execution_count": 130,
     "metadata": {},
     "output_type": "execute_result"
    }
   ],
   "source": [
    "b = b.permute(1,2,0)\n",
    "b.shape"
   ]
  },
  {
   "cell_type": "markdown",
   "id": "9e5d5cbe-d3e2-43c6-b502-7ae1d0c3879f",
   "metadata": {},
   "source": [
    "### Moving tensors to the GPU\n",
    "\n",
    "Once you moved your tensors to the GPU, calculations on these tensors will be performed on the GPU. "
   ]
  },
  {
   "cell_type": "code",
   "execution_count": 20,
   "id": "7da9ab7d-fc5c-49e0-944d-ff30497baac6",
   "metadata": {},
   "outputs": [
    {
     "data": {
      "text/plain": [
       "tensor([0.4446, 0.3152, 0.3288, 0.0775, 0.0373, 0.8833, 0.5619, 0.2753, 0.6291,\n",
       "        0.7293])"
      ]
     },
     "execution_count": 20,
     "metadata": {},
     "output_type": "execute_result"
    }
   ],
   "source": [
    "b = torch.rand(10)\n",
    "b"
   ]
  },
  {
   "cell_type": "code",
   "execution_count": 21,
   "id": "894ffad4-2610-48bd-927f-ad765580c743",
   "metadata": {},
   "outputs": [
    {
     "data": {
      "text/plain": [
       "True"
      ]
     },
     "execution_count": 21,
     "metadata": {},
     "output_type": "execute_result"
    }
   ],
   "source": [
    "torch.cuda.is_available()"
   ]
  },
  {
   "cell_type": "code",
   "execution_count": 22,
   "id": "0fa87b3e-317b-4cd5-99f0-14da73151328",
   "metadata": {},
   "outputs": [
    {
     "name": "stdout",
     "output_type": "stream",
     "text": [
      "Using device: cuda\n",
      "\n"
     ]
    }
   ],
   "source": [
    "device = torch.device('cuda' if torch.cuda.is_available() else 'cpu')\n",
    "print('Using device:', device)\n",
    "print()"
   ]
  },
  {
   "cell_type": "code",
   "execution_count": 23,
   "id": "abc4789e-d400-47c9-a078-ff796b09a7da",
   "metadata": {},
   "outputs": [
    {
     "data": {
      "text/plain": [
       "tensor([0.4446, 0.3152, 0.3288, 0.0775, 0.0373, 0.8833, 0.5619, 0.2753, 0.6291,\n",
       "        0.7293])"
      ]
     },
     "execution_count": 23,
     "metadata": {},
     "output_type": "execute_result"
    }
   ],
   "source": [
    "b"
   ]
  },
  {
   "cell_type": "code",
   "execution_count": 24,
   "id": "25a754df-d114-4944-a87f-c2d59a1a6840",
   "metadata": {},
   "outputs": [],
   "source": [
    "b = b.to(device)"
   ]
  },
  {
   "cell_type": "code",
   "execution_count": 25,
   "id": "e6e12002-bd6f-4577-b2ea-ce7eb7e6efde",
   "metadata": {},
   "outputs": [
    {
     "data": {
      "text/plain": [
       "tensor([0.4446, 0.3152, 0.3288, 0.0775, 0.0373, 0.8833, 0.5619, 0.2753, 0.6291,\n",
       "        0.7293], device='cuda:0')"
      ]
     },
     "execution_count": 25,
     "metadata": {},
     "output_type": "execute_result"
    }
   ],
   "source": [
    "b"
   ]
  },
  {
   "cell_type": "code",
   "execution_count": 26,
   "id": "088f08ba-337f-4721-94f8-50d740de9e94",
   "metadata": {},
   "outputs": [
    {
     "data": {
      "text/plain": [
       "tensor([0.4446, 0.3152, 0.3288, 0.0775, 0.0373, 0.8833, 0.5619, 0.2753, 0.6291,\n",
       "        0.7293])"
      ]
     },
     "execution_count": 26,
     "metadata": {},
     "output_type": "execute_result"
    }
   ],
   "source": [
    "b = b.to(\"cpu\")\n",
    "b"
   ]
  },
  {
   "cell_type": "code",
   "execution_count": 27,
   "id": "a89747d8-4413-454e-bb94-61d6b0768418",
   "metadata": {},
   "outputs": [],
   "source": [
    "#b = b.to(\"cuda\")\n",
    "#b"
   ]
  },
  {
   "cell_type": "markdown",
   "id": "236e590f-c384-4ea6-8034-1c56da08fec2",
   "metadata": {},
   "source": [
    "## From pytorch tensors to NumPy arrays and back\n",
    "\n",
    "You can go between tensors and NumPy arrays using `torch.from_numpy()` and `myTensor.numpy()`"
   ]
  },
  {
   "cell_type": "code",
   "execution_count": 28,
   "id": "ccd6ab34-b963-497e-9690-23871a6b7566",
   "metadata": {},
   "outputs": [
    {
     "name": "stdout",
     "output_type": "stream",
     "text": [
      "<class 'torch.Tensor'>\n",
      "<class 'numpy.ndarray'>\n"
     ]
    }
   ],
   "source": [
    "points_pt = torch.tensor([2,3,4])\n",
    "print(type(points_pt))\n",
    "points_np = points_pt.numpy()\n",
    "print(type(points_np))"
   ]
  },
  {
   "cell_type": "code",
   "execution_count": 29,
   "id": "c9ed2828-5751-4509-867a-fdaa33747422",
   "metadata": {},
   "outputs": [
    {
     "data": {
      "text/plain": [
       "tensor([1, 2, 3, 4])"
      ]
     },
     "execution_count": 29,
     "metadata": {},
     "output_type": "execute_result"
    }
   ],
   "source": [
    "a = np.array([1,2,3,4])\n",
    "torch.from_numpy(a)"
   ]
  },
  {
   "cell_type": "markdown",
   "id": "6101da6d-d3e9-42c2-bdc6-6b5e81c5d47c",
   "metadata": {},
   "source": [
    "# Training a model using pytorch\n",
    "\n",
    "We will recreate our machine learning example of week 2 using pytorch.\n",
    "\n",
    "We want to predict the firing rate of a neuron from the running speed of the animal.\n"
   ]
  },
  {
   "cell_type": "code",
   "execution_count": 30,
   "id": "859ea102-0904-4adf-bcbf-41931c8fd30f",
   "metadata": {},
   "outputs": [],
   "source": [
    "fn = \"../data/animal_speed.npy\""
   ]
  },
  {
   "cell_type": "code",
   "execution_count": 31,
   "id": "b1d95614-1503-434c-a760-d1e8978a46bf",
   "metadata": {},
   "outputs": [],
   "source": [
    "speed = np.load(fn)\n",
    "speed = speed[0:100]"
   ]
  },
  {
   "cell_type": "code",
   "execution_count": 32,
   "id": "d650d561-153c-4c2f-af9e-90c005d7e534",
   "metadata": {},
   "outputs": [],
   "source": [
    "w = 1.25 # weight (slope)\n",
    "b = 10 # bias (intercept)\n",
    "np.random.seed(0)\n",
    "e = np.random.normal(loc=0.0, scale=5, size = speed.shape[0]) # random numbers taken from a normal distribution\n",
    "\n",
    "rate = speed* w + b + e # simulate the firing rate\n",
    "rate = np.maximum(0, rate) # eliminate the negative firing rates"
   ]
  },
  {
   "cell_type": "code",
   "execution_count": 33,
   "id": "a02f063c-2d56-4441-846a-62b7e2079401",
   "metadata": {},
   "outputs": [
    {
     "data": {
      "text/plain": [
       "Text(0, 0.5, 'Firing rate (Hz)')"
      ]
     },
     "execution_count": 33,
     "metadata": {},
     "output_type": "execute_result"
    },
    {
     "data": {
      "image/png": "[encoded data removed]",
      "text/plain": [
       "<Figure size 640x480 with 1 Axes>"
      ]
     },
     "metadata": {},
     "output_type": "display_data"
    }
   ],
   "source": [
    "plt.scatter(speed,rate)\n",
    "plt.xlabel(\"Running speed (cm/sec)\")\n",
    "plt.ylabel(\"Firing rate (Hz)\")"
   ]
  },
  {
   "cell_type": "markdown",
   "id": "8030a6ad-bc95-492f-b375-a1e8540e7fc1",
   "metadata": {},
   "source": [
    "### Create a model with pytorch\n",
    "\n",
    "We will recreate our **linear regression model** using pytorch. \n",
    "\n",
    "\n",
    "$yhat = b+ w*X$\n",
    "\n",
    "We will create our model by defining a class. \n",
    "\n",
    "There are simpler ways to create simple models in pytorch. But the way presented here is the very flexible. We can create all our models by just modifying our class.\n",
    "\n",
    "<img src=\"../images/neuron_linear.png\" width=\"500\" align=\"center\">\n",
    "\n",
    "https://pytorch.org/docs/stable/generated/torch.nn.Linear.html\n",
    "\n",
    "This is **not a neural network**, but a linear model."
   ]
  },
  {
   "cell_type": "code",
   "execution_count": 34,
   "id": "f73636be-22e9-4829-a6bf-3414bc4a3403",
   "metadata": {},
   "outputs": [],
   "source": [
    "import torch.nn as nn\n",
    "\n",
    "class Lin_model(nn.Module):\n",
    "    \"\"\"\n",
    "    Class to create pytorch model.\n",
    "    \"\"\"\n",
    "    def __init__(self):\n",
    "        \"\"\"\n",
    "        Initializer. Runs when an object is created\n",
    "        \"\"\"\n",
    "        super().__init__()\n",
    "        self.linLayer = nn.Linear(in_features=1, out_features=1, bias=True)\n",
    "    def forward(self,x):\n",
    "        \"\"\"\n",
    "        Make predictions with our model\n",
    "        \"\"\"\n",
    "        out = self.linLayer(x)\n",
    "        return out"
   ]
  },
  {
   "cell_type": "code",
   "execution_count": 35,
   "id": "937f7ddc-398b-4403-b643-fb9f8ec27fbc",
   "metadata": {},
   "outputs": [],
   "source": [
    "lin_model = Lin_model() # create model from our class definition"
   ]
  },
  {
   "cell_type": "markdown",
   "id": "8d3c5d0a-8527-46d1-8c81-4b0fcb45b509",
   "metadata": {},
   "source": [
    "The parameters of the models are created automatically when creating the model.\n",
    "\n",
    "We can use this for loop to print the parameters."
   ]
  },
  {
   "cell_type": "code",
   "execution_count": 36,
   "id": "6879c34a-7687-41ce-992d-0d3d6cc990d8",
   "metadata": {},
   "outputs": [
    {
     "name": "stdout",
     "output_type": "stream",
     "text": [
      "linLayer.weight Parameter containing:\n",
      "tensor([[0.2900]], requires_grad=True)\n",
      "linLayer.bias Parameter containing:\n",
      "tensor([-0.6019], requires_grad=True)\n"
     ]
    }
   ],
   "source": [
    "for name,p in lin_model.named_parameters():\n",
    "    print(name,p)"
   ]
  },
  {
   "cell_type": "markdown",
   "id": "3e4586fe-47d2-47f9-9a90-91f6a9c1a850",
   "metadata": {},
   "source": [
    "### Loss function"
   ]
  },
  {
   "cell_type": "markdown",
   "id": "e68936a2-f7ae-4e44-839f-a186721229d1",
   "metadata": {},
   "source": [
    "pytorch has built-in loss functions that we can use in our training loop. We will use the mean squared error (MSE)."
   ]
  },
  {
   "cell_type": "code",
   "execution_count": 37,
   "id": "296a69ec-42ab-4c0d-8dce-b5f582ec9bdf",
   "metadata": {},
   "outputs": [],
   "source": [
    "# loss function returning MSE\n",
    "loss_fn = torch.nn.MSELoss()"
   ]
  },
  {
   "cell_type": "markdown",
   "id": "28484fc5-dd93-4e3c-9d32-30c6f351a307",
   "metadata": {},
   "source": [
    "### pytorch optimizers\n",
    "\n",
    "Optimizers are used to change our model parameters during learning.\n",
    "\n",
    "There are several optimization strategies and tricks that can improve learning. \n",
    "\n",
    "There are more important when building deep neural networks than for linear regression models.\n",
    "\n",
    "Let's see how to use the SGD optimizer."
   ]
  },
  {
   "cell_type": "code",
   "execution_count": 38,
   "id": "8d2538f9-e68f-4dc0-8bec-84e3e2cfd91b",
   "metadata": {},
   "outputs": [],
   "source": [
    "import torch.optim as optim"
   ]
  },
  {
   "cell_type": "code",
   "execution_count": 39,
   "id": "05904662-357f-4eb8-8925-caccc6eb402c",
   "metadata": {},
   "outputs": [],
   "source": [
    "learning_rate = 0.001\n",
    "optimizer = optim.SGD(lin_model.parameters(),lr=learning_rate)"
   ]
  },
  {
   "cell_type": "markdown",
   "id": "34716493-4af0-435d-9700-047978cd3d02",
   "metadata": {},
   "source": [
    "## Data format for our model\n",
    "\n",
    "* X: input data\n",
    "* y: labels or values that we want to predict\n",
    "\n",
    "\n",
    "We need to store them in `tensors`.\n",
    "\n",
    "X: Input data, the first dimension (rows) is for the observations. The second dimension is for features. We only have 1 input feature (speed), so the second dimension will have a size of 1.\n",
    "\n",
    "y: The first dimension (rows) is for the observations. The second is for the output features. In this case, we have one output feature (firing rate)"
   ]
  },
  {
   "cell_type": "code",
   "execution_count": 90,
   "id": "f83160fa-b063-4a66-a35b-eaa296847fd2",
   "metadata": {},
   "outputs": [],
   "source": [
    "X = torch.from_numpy(speed).unsqueeze(1).float()"
   ]
  },
  {
   "cell_type": "code",
   "execution_count": 91,
   "id": "cd01df09-a3f2-4e90-ae45-400d2351bde0",
   "metadata": {},
   "outputs": [
    {
     "data": {
      "text/plain": [
       "torch.Size([27304, 1])"
      ]
     },
     "execution_count": 91,
     "metadata": {},
     "output_type": "execute_result"
    }
   ],
   "source": [
    "X.shape"
   ]
  },
  {
   "cell_type": "code",
   "execution_count": 92,
   "id": "ead28246-4bd4-4603-94d5-d6cdcc40b776",
   "metadata": {},
   "outputs": [
    {
     "data": {
      "text/plain": [
       "torch.Size([27304, 1])"
      ]
     },
     "execution_count": 92,
     "metadata": {},
     "output_type": "execute_result"
    }
   ],
   "source": [
    "y = torch.from_numpy(rate).unsqueeze(1).float()\n",
    "y.shape"
   ]
  },
  {
   "cell_type": "markdown",
   "id": "088d2051-c80c-47cd-9f8c-ca8336e647ac",
   "metadata": {},
   "source": [
    "### One forward pass \n",
    "\n",
    "We now all our needed element to train our model.\n",
    "\n",
    "Before using our training loop, it is a good idea to run one forward pass outside of the for loop to identify potential problems.\n",
    "\n",
    "We run all the steps that will be in our training loop."
   ]
  },
  {
   "cell_type": "code",
   "execution_count": 43,
   "id": "53fcb5fc-f099-4359-ae91-0a183f761ed8",
   "metadata": {},
   "outputs": [
    {
     "name": "stdout",
     "output_type": "stream",
     "text": [
      "linLayer.weight Parameter containing:\n",
      "tensor([[0.2900]], requires_grad=True)\n",
      "linLayer.bias Parameter containing:\n",
      "tensor([-0.6019], requires_grad=True)\n"
     ]
    }
   ],
   "source": [
    "for name,p in lin_model.named_parameters():\n",
    "    print(name,p)"
   ]
  },
  {
   "cell_type": "code",
   "execution_count": 44,
   "id": "eab4f61c-3776-4a93-9273-703374f78c63",
   "metadata": {},
   "outputs": [
    {
     "name": "stdout",
     "output_type": "stream",
     "text": [
      "Number of parameters: 2\n"
     ]
    }
   ],
   "source": [
    "print(\"Number of parameters:\", sum(p.numel() for p in lin_model.parameters()))"
   ]
  },
  {
   "cell_type": "code",
   "execution_count": 45,
   "id": "a65d6a9d-e78d-476e-bdc9-5396340f1ae9",
   "metadata": {},
   "outputs": [],
   "source": [
    "yhat = lin_model(X)"
   ]
  },
  {
   "cell_type": "code",
   "execution_count": 46,
   "id": "e4c5d164-18bf-4894-9526-ba4a785572ad",
   "metadata": {},
   "outputs": [],
   "source": [
    "loss = loss_fn(yhat,y)"
   ]
  },
  {
   "cell_type": "code",
   "execution_count": 47,
   "id": "13b7dc2b-5a55-4d15-a541-8d04a5033186",
   "metadata": {},
   "outputs": [],
   "source": [
    "optimizer.zero_grad() # zero the gradients"
   ]
  },
  {
   "cell_type": "code",
   "execution_count": 48,
   "id": "ac371ec2-2b6d-47d2-8f04-88c38e80ebd4",
   "metadata": {},
   "outputs": [],
   "source": [
    "loss.backward() # calculate gradients"
   ]
  },
  {
   "cell_type": "code",
   "execution_count": 49,
   "id": "6fedba28-965b-46e8-86bf-b8482a2309bc",
   "metadata": {},
   "outputs": [],
   "source": [
    "optimizer.step() # will change the model parameters to reduce the loss        "
   ]
  },
  {
   "cell_type": "code",
   "execution_count": 50,
   "id": "98409462-5621-4708-90b4-dc13b4778dd2",
   "metadata": {},
   "outputs": [
    {
     "name": "stdout",
     "output_type": "stream",
     "text": [
      "linLayer.weight Parameter containing:\n",
      "tensor([[1.3774]], requires_grad=True)\n",
      "linLayer.bias Parameter containing:\n",
      "tensor([-0.5473], requires_grad=True)\n"
     ]
    }
   ],
   "source": [
    "for name,p in lin_model.named_parameters():\n",
    "    print(name,p)"
   ]
  },
  {
   "cell_type": "markdown",
   "id": "b3684a6f-2e33-43a6-885b-c18bf0605f93",
   "metadata": {},
   "source": [
    "### Training loop\n",
    "\n",
    "We want a generic training loop that will work in most situations."
   ]
  },
  {
   "cell_type": "code",
   "execution_count": 51,
   "id": "ff583d6d-269b-4c69-9337-34dbc3383d3c",
   "metadata": {},
   "outputs": [],
   "source": [
    "## training loop that will modify our parameters to minimize the loss function (MSE)\n",
    "def training_loop(n_epochs, optimizer, loss_fn, model, X,y):\n",
    "    for epoch in range (n_epochs):\n",
    "        \n",
    "        yhat = model(X) # make predictions\n",
    "        loss = loss_fn(yhat,y) # calculate the loss\n",
    "        optimizer.zero_grad() # zero the gradients of our model's parameters\n",
    "        loss.backward() # calculate gradients of the model's parameters\n",
    "        optimizer.step() # will change the model parameters to reduce the loss\n",
    "        \n",
    "        \n",
    "        if epoch % 1000 ==0 or epoch < 10:\n",
    "            print(\"Epoch: {}, Loss: {}\".format(epoch,loss))\n",
    "    return"
   ]
  },
  {
   "cell_type": "code",
   "execution_count": 52,
   "id": "ea233c1d-8358-4c8f-8c2e-73f0aee9c3b7",
   "metadata": {},
   "outputs": [
    {
     "name": "stdout",
     "output_type": "stream",
     "text": [
      "Epoch: 0, Loss: 102.17371368408203\n",
      "Epoch: 1, Loss: 55.260169982910156\n",
      "Epoch: 2, Loss: 52.2724609375\n",
      "Epoch: 3, Loss: 52.06190490722656\n",
      "Epoch: 4, Loss: 52.02694320678711\n",
      "Epoch: 5, Loss: 52.003108978271484\n",
      "Epoch: 6, Loss: 51.97999954223633\n",
      "Epoch: 7, Loss: 51.95695877075195\n",
      "Epoch: 8, Loss: 51.933929443359375\n",
      "Epoch: 9, Loss: 51.91092300415039\n",
      "Epoch: 1000, Loss: 36.618202209472656\n",
      "Epoch: 2000, Loss: 30.101835250854492\n",
      "Epoch: 3000, Loss: 27.36236572265625\n",
      "Epoch: 4000, Loss: 26.21068572998047\n",
      "Epoch: 5000, Loss: 25.726530075073242\n",
      "Epoch: 6000, Loss: 25.522993087768555\n",
      "Epoch: 7000, Loss: 25.437421798706055\n",
      "Epoch: 8000, Loss: 25.401453018188477\n",
      "Epoch: 9000, Loss: 25.386329650878906\n",
      "Epoch: 10000, Loss: 25.379972457885742\n",
      "Epoch: 11000, Loss: 25.377300262451172\n",
      "Epoch: 12000, Loss: 25.376171112060547\n",
      "Epoch: 13000, Loss: 25.375699996948242\n",
      "Epoch: 14000, Loss: 25.375503540039062\n",
      "Epoch: 15000, Loss: 25.37541961669922\n",
      "Epoch: 16000, Loss: 25.375389099121094\n",
      "Epoch: 17000, Loss: 25.3753719329834\n",
      "Epoch: 18000, Loss: 25.3753662109375\n",
      "Epoch: 19000, Loss: 25.3753604888916\n"
     ]
    }
   ],
   "source": [
    "training_loop(n_epochs = 20000,\n",
    "              optimizer = optimizer,\n",
    "              loss_fn = loss_fn,\n",
    "              model=lin_model,\n",
    "              X = X,\n",
    "              y=y)"
   ]
  },
  {
   "cell_type": "code",
   "execution_count": 53,
   "id": "d78d66c6-63d3-4d14-81b9-b87ed3e788e3",
   "metadata": {},
   "outputs": [
    {
     "name": "stdout",
     "output_type": "stream",
     "text": [
      "Parameter containing:\n",
      "tensor([[1.2343]], requires_grad=True)\n",
      "Parameter containing:\n",
      "tensor([10.5676], requires_grad=True)\n"
     ]
    }
   ],
   "source": [
    "for p in lin_model.parameters():\n",
    "    print(p)"
   ]
  },
  {
   "cell_type": "code",
   "execution_count": 54,
   "id": "081bc520-5f1f-4327-8c1c-2d70703671de",
   "metadata": {},
   "outputs": [
    {
     "data": {
      "text/plain": [
       "torch.Size([100, 1])"
      ]
     },
     "execution_count": 54,
     "metadata": {},
     "output_type": "execute_result"
    }
   ],
   "source": [
    "t_range = torch.arange(0,50,0.5).unsqueeze(1)\n",
    "t_range.shape"
   ]
  },
  {
   "cell_type": "code",
   "execution_count": 55,
   "id": "cbfe91c1-952c-451e-acd9-340417f126ca",
   "metadata": {},
   "outputs": [],
   "source": [
    "lin_yhat = lin_model(t_range)"
   ]
  },
  {
   "cell_type": "code",
   "execution_count": 56,
   "id": "09ca8bf6-5030-47e0-9197-de2d5aa5c24f",
   "metadata": {},
   "outputs": [
    {
     "data": {
      "text/plain": [
       "<matplotlib.legend.Legend at 0x7f34b383aaf0>"
      ]
     },
     "execution_count": 56,
     "metadata": {},
     "output_type": "execute_result"
    },
    {
     "data": {
      "image/png": "[encoded data removed]",
      "text/plain": [
       "<Figure size 640x480 with 1 Axes>"
      ]
     },
     "metadata": {},
     "output_type": "display_data"
    }
   ],
   "source": [
    "plt.scatter(speed,rate)\n",
    "plt.plot(t_range.numpy(),lin_yhat.detach().numpy(),label=\"Linear model\")\n",
    "plt.xlabel(\"Running speed (cm/sec)\")\n",
    "plt.ylabel(\"Firing rate (Hz)\")\n",
    "plt.legend()"
   ]
  },
  {
   "cell_type": "markdown",
   "id": "64f5be12-692a-401d-9cf0-17d4b2cb79fc",
   "metadata": {},
   "source": [
    "We found the parameters that were used to simulate the data."
   ]
  },
  {
   "cell_type": "markdown",
   "id": "01d2c5e5-cb15-4265-b171-ea82f96f814a",
   "metadata": {},
   "source": [
    "# A first neural network"
   ]
  },
  {
   "cell_type": "markdown",
   "id": "7e0c0e0b-f99f-4cd7-b99a-94bd64d9a581",
   "metadata": {},
   "source": [
    "* Mathematical entities capable of representing complicated functions through a composition of simpler functions.\n",
    "* Deep neural network have **multiple layers** between the input and output layers. \n",
    "* Each layer has several artificial neurons. \n",
    "* New data comes from the left, and calculations propagates towards the ouput layer.\n",
    "\n"
   ]
  },
  {
   "cell_type": "markdown",
   "id": "bcca6356-30bb-4b55-a5ef-d9f6a2ad1a3e",
   "metadata": {},
   "source": [
    "***\n",
    "\n",
    "* A neuron in a neural network has one more non-linear function. \n",
    "\n",
    "<img src=\"../images/artificial_neuron.png\" width=\"500\" align=\"center\">"
   ]
  },
  {
   "cell_type": "markdown",
   "id": "3ec474f9-32f7-4b2e-9387-aabf74a35cb6",
   "metadata": {},
   "source": [
    "The non-linear function allows the model to have different slope at different values.\n",
    "\n",
    "The non-linear function of the neuron is called the **activation function**."
   ]
  },
  {
   "cell_type": "code",
   "execution_count": 57,
   "id": "0d62c1c7-706e-4ef9-8b2d-6925358908f0",
   "metadata": {},
   "outputs": [
    {
     "data": {
      "text/plain": [
       "Text(0.5, 1.0, 'Non-linear model: tanh(w*x+b)')"
      ]
     },
     "execution_count": 57,
     "metadata": {},
     "output_type": "execute_result"
    },
    {
     "data": {
      "image/png": "[encoded data removed]",
      "text/plain": [
       "<Figure size 900x300 with 2 Axes>"
      ]
     },
     "metadata": {},
     "output_type": "display_data"
    }
   ],
   "source": [
    "nrow=1\n",
    "ncol=2\n",
    "fig, ax = plt.subplots(nrow,ncol,figsize=(9,3))\n",
    "\n",
    "XX = np.linspace(-4,4) # input\n",
    "          \n",
    "w=1.25\n",
    "b=1.0\n",
    "                \n",
    "ax[0].plot(XX,w*XX+b)\n",
    "ax[0].set_title(\"Linear model: w*x+b\")\n",
    "\n",
    "ax[1].plot(XX,np.tanh(w*XX+b))\n",
    "ax[1].set_title(\"Non-linear model: tanh(w*x+b)\")"
   ]
  },
  {
   "cell_type": "markdown",
   "id": "ba6cff40-68de-4199-9798-ed40e136f5af",
   "metadata": {},
   "source": [
    "In neural network, we have **several artificial neurons**. \n",
    "\n",
    "The output of several neurons is summed to get the output.\n",
    "\n",
    "Let's build a neural network to predict the firing rate from the speed of the animal."
   ]
  },
  {
   "cell_type": "code",
   "execution_count": 58,
   "id": "de43dbcb-f1e5-4db7-be63-295d563830a0",
   "metadata": {},
   "outputs": [],
   "source": [
    "class NN_model(nn.Module):\n",
    "    \"\"\"\n",
    "    Class to create pytorch model. This is a neural network because of the non-linear function.\n",
    "    \"\"\"\n",
    "    def __init__(self):\n",
    "        \"\"\"\n",
    "        Initializer. Runs when an object is created\n",
    "        \"\"\"\n",
    "        super().__init__()\n",
    "        self.layer1 = nn.Linear(in_features=1, out_features=5, bias=True)\n",
    "        self.tanh = nn.Tanh()\n",
    "        self.layer2 = nn.Linear(in_features=5, out_features=1, bias=True)\n",
    "        \n",
    "    def forward(self,x):\n",
    "        \"\"\"\n",
    "        Make predictions with our model\n",
    "        \"\"\"\n",
    "        out = self.layer1(x)\n",
    "        out = self.tanh(out)\n",
    "        out = self.layer2(out)\n",
    "        return out"
   ]
  },
  {
   "cell_type": "code",
   "execution_count": 59,
   "id": "b532da6d-8708-46ff-bc79-ee0621155380",
   "metadata": {},
   "outputs": [],
   "source": [
    "nn_model = NN_model()"
   ]
  },
  {
   "cell_type": "code",
   "execution_count": 60,
   "id": "28716996-71be-4b98-805f-2518a44070ed",
   "metadata": {},
   "outputs": [
    {
     "name": "stdout",
     "output_type": "stream",
     "text": [
      "layer1.weight Parameter containing:\n",
      "tensor([[ 0.3666],\n",
      "        [-0.6571],\n",
      "        [ 0.3982],\n",
      "        [-0.9849],\n",
      "        [-0.3623]], requires_grad=True)\n",
      "layer1.bias Parameter containing:\n",
      "tensor([0.0414, 0.4275, 0.8799, 0.0347, 0.1788], requires_grad=True)\n",
      "layer2.weight Parameter containing:\n",
      "tensor([[ 0.1774, -0.3052,  0.0762,  0.1314,  0.2589]], requires_grad=True)\n",
      "layer2.bias Parameter containing:\n",
      "tensor([-0.0378], requires_grad=True)\n"
     ]
    }
   ],
   "source": [
    "for name, p in nn_model.named_parameters():\n",
    "    print(name,p)"
   ]
  },
  {
   "cell_type": "code",
   "execution_count": 61,
   "id": "c28c727b-927b-4a7d-9ae9-981169debd5f",
   "metadata": {},
   "outputs": [
    {
     "name": "stdout",
     "output_type": "stream",
     "text": [
      "Number of parameters: 16\n"
     ]
    }
   ],
   "source": [
    "print(\"Number of parameters:\", sum(p.numel() for p in nn_model.parameters()))"
   ]
  },
  {
   "cell_type": "code",
   "execution_count": 62,
   "id": "e21fdd14-1b27-446c-bebc-0904ae177956",
   "metadata": {},
   "outputs": [],
   "source": [
    "learning_rate=0.0001\n",
    "optimizer = optim.SGD(nn_model.parameters(),lr=learning_rate)"
   ]
  },
  {
   "cell_type": "code",
   "execution_count": 63,
   "id": "4e1c251f-33df-4fb4-97ac-665908c1dded",
   "metadata": {},
   "outputs": [
    {
     "name": "stdout",
     "output_type": "stream",
     "text": [
      "Epoch: 0, Loss: 1143.852783203125\n",
      "Epoch: 1, Loss: 1141.483642578125\n",
      "Epoch: 2, Loss: 1139.1201171875\n",
      "Epoch: 3, Loss: 1136.76220703125\n",
      "Epoch: 4, Loss: 1134.4100341796875\n",
      "Epoch: 5, Loss: 1132.0631103515625\n",
      "Epoch: 6, Loss: 1129.7220458984375\n",
      "Epoch: 7, Loss: 1127.3863525390625\n",
      "Epoch: 8, Loss: 1125.05615234375\n",
      "Epoch: 9, Loss: 1122.7313232421875\n",
      "Epoch: 1000, Loss: 234.0653533935547\n",
      "Epoch: 2000, Loss: 120.03418731689453\n",
      "Epoch: 3000, Loss: 86.74728393554688\n",
      "Epoch: 4000, Loss: 72.81909942626953\n",
      "Epoch: 5000, Loss: 64.1562271118164\n",
      "Epoch: 6000, Loss: 65.60418701171875\n",
      "Epoch: 7000, Loss: 84.15369415283203\n",
      "Epoch: 8000, Loss: 57.70915985107422\n",
      "Epoch: 9000, Loss: 65.12181091308594\n",
      "Epoch: 10000, Loss: 55.313865661621094\n",
      "Epoch: 11000, Loss: 77.14190673828125\n",
      "Epoch: 12000, Loss: 56.033714294433594\n",
      "Epoch: 13000, Loss: 45.660831451416016\n",
      "Epoch: 14000, Loss: 42.1269645690918\n",
      "Epoch: 15000, Loss: 39.8748664855957\n",
      "Epoch: 16000, Loss: 38.20014953613281\n",
      "Epoch: 17000, Loss: 36.8974494934082\n",
      "Epoch: 18000, Loss: 35.86043930053711\n",
      "Epoch: 19000, Loss: 35.021671295166016\n",
      "Epoch: 20000, Loss: 34.33382797241211\n",
      "Epoch: 21000, Loss: 33.76225280761719\n",
      "Epoch: 22000, Loss: 33.2797966003418\n",
      "Epoch: 23000, Loss: 32.86568069458008\n",
      "Epoch: 24000, Loss: 32.50347137451172\n",
      "Epoch: 25000, Loss: 32.18073272705078\n",
      "Epoch: 26000, Loss: 31.887422561645508\n",
      "Epoch: 27000, Loss: 31.617795944213867\n",
      "Epoch: 28000, Loss: 31.366588592529297\n",
      "Epoch: 29000, Loss: 31.1310977935791\n"
     ]
    }
   ],
   "source": [
    "training_loop(n_epochs = 30000,\n",
    "              optimizer = optimizer,\n",
    "              loss_fn = loss_fn,\n",
    "              model=nn_model,\n",
    "              X = X,\n",
    "              y=y)"
   ]
  },
  {
   "cell_type": "code",
   "execution_count": 64,
   "id": "583cc8d4-33da-4995-b437-6c5cc5789737",
   "metadata": {},
   "outputs": [
    {
     "name": "stdout",
     "output_type": "stream",
     "text": [
      "layer1.weight Parameter containing:\n",
      "tensor([[ 0.0709],\n",
      "        [-0.1033],\n",
      "        [ 0.5232],\n",
      "        [-0.7837],\n",
      "        [-0.1804]], requires_grad=True)\n",
      "layer1.bias Parameter containing:\n",
      "tensor([0.0853, 0.9358, 0.7805, 0.4289, 4.8019], requires_grad=True)\n",
      "layer2.weight Parameter containing:\n",
      "tensor([[ 9.3628, -9.2667,  9.3834, -9.2049, -9.5518]], requires_grad=True)\n",
      "layer2.bias Parameter containing:\n",
      "tensor([9.2619], requires_grad=True)\n"
     ]
    }
   ],
   "source": [
    "for name, p in nn_model.named_parameters():\n",
    "    print(name,p)"
   ]
  },
  {
   "cell_type": "markdown",
   "id": "7e999fa1-8ff6-4c95-be49-7a50272dd376",
   "metadata": {},
   "source": [
    "### Let's compare our linear model with our small neural network"
   ]
  },
  {
   "cell_type": "code",
   "execution_count": 65,
   "id": "3107c826-8e04-4487-9a17-f1abed7e11b8",
   "metadata": {},
   "outputs": [
    {
     "data": {
      "text/plain": [
       "torch.Size([100, 1])"
      ]
     },
     "execution_count": 65,
     "metadata": {},
     "output_type": "execute_result"
    }
   ],
   "source": [
    "t_range = torch.arange(0,50,0.5).unsqueeze(1)\n",
    "t_range.shape"
   ]
  },
  {
   "cell_type": "code",
   "execution_count": 66,
   "id": "04190165-a30e-4bde-b3ad-fed1ae685cae",
   "metadata": {},
   "outputs": [],
   "source": [
    "lin_yhat = lin_model(t_range)\n",
    "nn_yhat = nn_model(t_range)"
   ]
  },
  {
   "cell_type": "markdown",
   "id": "95026c3a-6ffd-4fbf-aa82-b6cbf58bf562",
   "metadata": {},
   "source": [
    "To plot the `yhat` tensors, we need to call `.detach()` because the tensor have associated gradients."
   ]
  },
  {
   "cell_type": "code",
   "execution_count": 67,
   "id": "f0bdf262-5a74-441f-9825-32eb2c280f59",
   "metadata": {},
   "outputs": [
    {
     "data": {
      "text/plain": [
       "<matplotlib.legend.Legend at 0x7f34b9c594f0>"
      ]
     },
     "execution_count": 67,
     "metadata": {},
     "output_type": "execute_result"
    },
    {
     "data": {
      "image/png": "[encoded data removed]",
      "text/plain": [
       "<Figure size 640x480 with 1 Axes>"
      ]
     },
     "metadata": {},
     "output_type": "display_data"
    }
   ],
   "source": [
    "plt.scatter(speed,rate)\n",
    "plt.plot(t_range.numpy(),nn_yhat.detach().numpy(),label=\"Neural network\")\n",
    "plt.plot(t_range.numpy(),lin_yhat.detach().numpy(),label=\"Linear model\")\n",
    "plt.xlabel(\"Running speed (cm/sec)\")\n",
    "plt.ylabel(\"Firing rate (Hz)\")\n",
    "plt.legend()"
   ]
  },
  {
   "cell_type": "markdown",
   "id": "bca0460b-a02c-4535-8a49-cc0ddb7a55f1",
   "metadata": {},
   "source": [
    "### Neural networks can model all sorts of functions\n",
    "\n",
    "Let's try our two models on some non-linear problems"
   ]
  },
  {
   "cell_type": "code",
   "execution_count": 68,
   "id": "9a6d73bf-6768-429d-81a2-7004844ef7b5",
   "metadata": {},
   "outputs": [
    {
     "name": "stdout",
     "output_type": "stream",
     "text": [
      "torch.Size([100, 1])\n"
     ]
    }
   ],
   "source": [
    "X = torch.arange(0,10,0.1).unsqueeze(1)\n",
    "print(X.shape)\n",
    "y = torch.sin(X)*4 + torch.randn(100, 1)"
   ]
  },
  {
   "cell_type": "code",
   "execution_count": 69,
   "id": "86905410-007d-417f-a5be-8e4a2f7f09b3",
   "metadata": {},
   "outputs": [
    {
     "data": {
      "text/plain": [
       "<matplotlib.collections.PathCollection at 0x7f34b32bb820>"
      ]
     },
     "execution_count": 69,
     "metadata": {},
     "output_type": "execute_result"
    },
    {
     "data": {
      "image/png": "[encoded data removed]",
      "text/plain": [
       "<Figure size 640x480 with 1 Axes>"
      ]
     },
     "metadata": {},
     "output_type": "display_data"
    }
   ],
   "source": [
    "plt.scatter(X.numpy(),y.numpy())"
   ]
  },
  {
   "cell_type": "code",
   "execution_count": 70,
   "id": "e241ff15-770b-48b7-bc57-129371a2fb23",
   "metadata": {},
   "outputs": [
    {
     "name": "stdout",
     "output_type": "stream",
     "text": [
      "Epoch: 0, Loss: 316.8887023925781\n",
      "Epoch: 1, Loss: 25.424116134643555\n",
      "Epoch: 2, Loss: 23.467002868652344\n",
      "Epoch: 3, Loss: 21.831819534301758\n",
      "Epoch: 4, Loss: 20.446191787719727\n",
      "Epoch: 5, Loss: 19.258241653442383\n",
      "Epoch: 6, Loss: 18.22967529296875\n",
      "Epoch: 7, Loss: 17.331628799438477\n",
      "Epoch: 8, Loss: 16.541833877563477\n",
      "Epoch: 9, Loss: 15.84284782409668\n",
      "Epoch: 1000, Loss: 6.661169052124023\n",
      "Epoch: 2000, Loss: 6.444484233856201\n",
      "Epoch: 3000, Loss: 6.198763370513916\n",
      "Epoch: 4000, Loss: 5.907690048217773\n",
      "Epoch: 5000, Loss: 5.580855846405029\n",
      "Epoch: 6000, Loss: 5.266438007354736\n",
      "Epoch: 7000, Loss: 5.772140979766846\n",
      "Epoch: 8000, Loss: 5.882437705993652\n",
      "Epoch: 9000, Loss: 5.827786445617676\n",
      "Epoch: 10000, Loss: 4.0105204582214355\n",
      "Epoch: 11000, Loss: 3.352097749710083\n",
      "Epoch: 12000, Loss: 2.9696481227874756\n",
      "Epoch: 13000, Loss: 2.6714797019958496\n",
      "Epoch: 14000, Loss: 2.518842935562134\n",
      "Epoch: 15000, Loss: 2.438610792160034\n",
      "Epoch: 16000, Loss: 2.382640838623047\n",
      "Epoch: 17000, Loss: 2.4116835594177246\n",
      "Epoch: 18000, Loss: 2.398634433746338\n",
      "Epoch: 19000, Loss: 2.400019884109497\n",
      "Epoch: 20000, Loss: 2.4043941497802734\n",
      "Epoch: 21000, Loss: 2.409977674484253\n",
      "Epoch: 22000, Loss: 2.4162933826446533\n",
      "Epoch: 23000, Loss: 2.4231085777282715\n",
      "Epoch: 24000, Loss: 2.430323362350464\n",
      "Epoch: 25000, Loss: 2.437878131866455\n",
      "Epoch: 26000, Loss: 2.4457709789276123\n",
      "Epoch: 27000, Loss: 2.4541966915130615\n",
      "Epoch: 28000, Loss: 2.4632081985473633\n",
      "Epoch: 29000, Loss: 2.472970485687256\n",
      "Epoch: 30000, Loss: 2.483910322189331\n",
      "Epoch: 31000, Loss: 2.496429920196533\n",
      "Epoch: 32000, Loss: 2.511115074157715\n",
      "Epoch: 33000, Loss: 2.528851270675659\n",
      "Epoch: 34000, Loss: 2.550889492034912\n",
      "Epoch: 35000, Loss: 2.578620672225952\n",
      "Epoch: 36000, Loss: 2.6118404865264893\n",
      "Epoch: 37000, Loss: 2.6447503566741943\n",
      "Epoch: 38000, Loss: 2.668501615524292\n",
      "Epoch: 39000, Loss: 2.6807668209075928\n"
     ]
    }
   ],
   "source": [
    "learning_rate=0.001\n",
    "optimizer = optim.SGD(nn_model.parameters(),lr=learning_rate)\n",
    "training_loop(n_epochs = 40000,\n",
    "              optimizer = optimizer,\n",
    "              loss_fn = loss_fn,\n",
    "              model=nn_model,\n",
    "              X = X,\n",
    "              y=y)"
   ]
  },
  {
   "cell_type": "code",
   "execution_count": 71,
   "id": "3d8a2914-091c-41e3-8feb-6d04d9aabedc",
   "metadata": {},
   "outputs": [
    {
     "name": "stdout",
     "output_type": "stream",
     "text": [
      "Epoch: 0, Loss: 275.4789733886719\n",
      "Epoch: 1, Loss: 243.8191375732422\n",
      "Epoch: 2, Loss: 216.26693725585938\n",
      "Epoch: 3, Loss: 192.28897094726562\n",
      "Epoch: 4, Loss: 171.4212646484375\n",
      "Epoch: 5, Loss: 153.25994873046875\n",
      "Epoch: 6, Loss: 137.45367431640625\n",
      "Epoch: 7, Loss: 123.69664764404297\n",
      "Epoch: 8, Loss: 111.72283172607422\n",
      "Epoch: 9, Loss: 101.30068969726562\n",
      "Epoch: 1000, Loss: 17.204614639282227\n",
      "Epoch: 2000, Loss: 11.7915678024292\n",
      "Epoch: 3000, Loss: 9.785411834716797\n",
      "Epoch: 4000, Loss: 9.041903495788574\n",
      "Epoch: 5000, Loss: 8.766349792480469\n",
      "Epoch: 6000, Loss: 8.664226531982422\n",
      "Epoch: 7000, Loss: 8.62637710571289\n",
      "Epoch: 8000, Loss: 8.612350463867188\n",
      "Epoch: 9000, Loss: 8.607151985168457\n",
      "Epoch: 10000, Loss: 8.605224609375\n",
      "Epoch: 11000, Loss: 8.604511260986328\n",
      "Epoch: 12000, Loss: 8.604246139526367\n",
      "Epoch: 13000, Loss: 8.604147911071777\n",
      "Epoch: 14000, Loss: 8.604111671447754\n",
      "Epoch: 15000, Loss: 8.604098320007324\n",
      "Epoch: 16000, Loss: 8.604092597961426\n",
      "Epoch: 17000, Loss: 8.60409164428711\n",
      "Epoch: 18000, Loss: 8.60409164428711\n",
      "Epoch: 19000, Loss: 8.60409164428711\n",
      "Epoch: 20000, Loss: 8.604090690612793\n",
      "Epoch: 21000, Loss: 8.604090690612793\n",
      "Epoch: 22000, Loss: 8.60409164428711\n",
      "Epoch: 23000, Loss: 8.604090690612793\n",
      "Epoch: 24000, Loss: 8.604089736938477\n",
      "Epoch: 25000, Loss: 8.604089736938477\n",
      "Epoch: 26000, Loss: 8.604089736938477\n",
      "Epoch: 27000, Loss: 8.604089736938477\n",
      "Epoch: 28000, Loss: 8.604089736938477\n",
      "Epoch: 29000, Loss: 8.604089736938477\n",
      "Epoch: 30000, Loss: 8.604089736938477\n",
      "Epoch: 31000, Loss: 8.604089736938477\n",
      "Epoch: 32000, Loss: 8.604089736938477\n",
      "Epoch: 33000, Loss: 8.604089736938477\n",
      "Epoch: 34000, Loss: 8.604089736938477\n",
      "Epoch: 35000, Loss: 8.604089736938477\n",
      "Epoch: 36000, Loss: 8.604089736938477\n",
      "Epoch: 37000, Loss: 8.604089736938477\n",
      "Epoch: 38000, Loss: 8.604089736938477\n",
      "Epoch: 39000, Loss: 8.604089736938477\n"
     ]
    }
   ],
   "source": [
    "learning_rate=0.001\n",
    "optimizer = optim.SGD(lin_model.parameters(),lr=learning_rate)\n",
    "training_loop(n_epochs = 40000,\n",
    "              optimizer = optimizer,\n",
    "              loss_fn = loss_fn,\n",
    "              model=lin_model,\n",
    "              X = X,\n",
    "              y=y)"
   ]
  },
  {
   "cell_type": "code",
   "execution_count": 72,
   "id": "8d5c7e0b-bbea-46d7-9096-ce81047692f4",
   "metadata": {},
   "outputs": [
    {
     "data": {
      "text/plain": [
       "torch.Size([50, 1])"
      ]
     },
     "execution_count": 72,
     "metadata": {},
     "output_type": "execute_result"
    }
   ],
   "source": [
    "t_range = torch.arange(0,10,0.2).unsqueeze(1)\n",
    "t_range.shape"
   ]
  },
  {
   "cell_type": "code",
   "execution_count": 73,
   "id": "f847e5c8-cbb8-4370-803b-10521e36f2a0",
   "metadata": {},
   "outputs": [],
   "source": [
    "lin_yhat = lin_model(t_range)\n",
    "nn_yhat = nn_model(t_range)"
   ]
  },
  {
   "cell_type": "code",
   "execution_count": 74,
   "id": "9603953d-d1fa-4a2f-ae34-d190a21c760d",
   "metadata": {},
   "outputs": [
    {
     "data": {
      "text/plain": [
       "<matplotlib.legend.Legend at 0x7f34b328c310>"
      ]
     },
     "execution_count": 74,
     "metadata": {},
     "output_type": "execute_result"
    },
    {
     "data": {
      "image/png": "[encoded data removed]",
      "text/plain": [
       "<Figure size 640x480 with 1 Axes>"
      ]
     },
     "metadata": {},
     "output_type": "display_data"
    }
   ],
   "source": [
    "plt.scatter(X.numpy(),y.numpy())\n",
    "plt.plot(t_range.numpy(),nn_yhat.detach().numpy(),label=\"Neural network\")\n",
    "plt.plot(t_range.numpy(),lin_yhat.detach().numpy(),label=\"Linear model\")\n",
    "plt.xlabel(\"Running speed (cm/sec)\")\n",
    "plt.ylabel(\"Firing rate (Hz)\")\n",
    "plt.legend()"
   ]
  },
  {
   "cell_type": "markdown",
   "id": "11bf39e5-0064-43d8-b4d1-c3dff1cf8804",
   "metadata": {},
   "source": [
    "The non-linearity in the artifical neurons makes it possible to fit all sorts of function.\n",
    "\n",
    "Here, the neural network is a better approximation of the underlying data. "
   ]
  },
  {
   "cell_type": "markdown",
   "id": "78fe7fd9-712b-4254-9b84-552597df8636",
   "metadata": {},
   "source": [
    "## Exercise\n",
    "\n",
    "### Improve our neural network model\n",
    "\n",
    "Our neural network is good but it is not perfect. \n",
    "\n",
    "How could you modify this model to make it fit the data more closely?\n",
    "\n",
    "Have a go at trying to improve its predictions."
   ]
  },
  {
   "cell_type": "code",
   "execution_count": null,
   "id": "c45f2fa6-99a3-4549-9e67-e7da61f4600b",
   "metadata": {},
   "outputs": [],
   "source": []
  },
  {
   "cell_type": "markdown",
   "id": "06cdb4cc-c901-4dc1-9f11-5a94f1e8e5ff",
   "metadata": {},
   "source": [
    "## Adding more hidden layers to create a deep neural network\n",
    "\n",
    "**Deep neural networks** have several hidden layers.\n",
    "\n",
    "* The output of the first layer have a shape similar to the activiation function.\n",
    "* The next level can combine the inputs of the first layers to create more complex functions.\n"
   ]
  },
  {
   "cell_type": "code",
   "execution_count": 75,
   "id": "efafd3b5-a97c-4025-9457-e26891238f97",
   "metadata": {},
   "outputs": [
    {
     "data": {
      "text/plain": [
       "Text(0, 0.5, 'output')"
      ]
     },
     "execution_count": 75,
     "metadata": {},
     "output_type": "execute_result"
    },
    {
     "data": {
      "image/png": "[encoded data removed]",
      "text/plain": [
       "<Figure size 900x300 with 3 Axes>"
      ]
     },
     "metadata": {},
     "output_type": "display_data"
    }
   ],
   "source": [
    "nrow=1\n",
    "ncol=3\n",
    "fig, ax = plt.subplots(nrow,ncol,figsize=(9,3),layout='constrained')\n",
    "\n",
    "XX = np.linspace(-4,4) # input\n",
    "      \n",
    "# \n",
    "w1=1.25\n",
    "b1=1.0                \n",
    "ax[0].plot(XX,np.tanh(w1*XX+b1))\n",
    "ax[0].set_title(\"Neuron 1 of layer 1\")\n",
    "ax[0].set_xlabel(\"input\")\n",
    "ax[0].set_ylabel(\"output\")\n",
    "\n",
    "w2=-2\n",
    "b2=1.5\n",
    "ax[1].plot(XX,np.tanh(w2*XX+b2))\n",
    "ax[1].set_title(\"Neuron 2 of layer 1\")\n",
    "ax[1].set_xlabel(\"input\")\n",
    "ax[1].set_ylabel(\"output\")\n",
    "\n",
    "w3=[2,1]\n",
    "b3=2\n",
    "ax[2].plot(XX,w3[0]*np.tanh(w1*XX+b1)+ w3[1]*np.tanh(w2*XX+b2))\n",
    "ax[2].set_title(\"Neuron 1 of layer 2\\n(inputs from layer 1)\")\n",
    "ax[2].set_xlabel(\"input\")\n",
    "ax[2].set_ylabel(\"output\")"
   ]
  },
  {
   "cell_type": "code",
   "execution_count": 76,
   "id": "ec5d3113-e155-4626-abd1-18c1ae90961e",
   "metadata": {},
   "outputs": [],
   "source": [
    "class DNN_model(nn.Module):\n",
    "    \"\"\"\n",
    "    Class to create pytorch model. This is a neural network because of the non-linear function.\n",
    "    \"\"\"\n",
    "    def __init__(self):\n",
    "        \"\"\"\n",
    "        Initializer. Runs when an object is created\n",
    "        \"\"\"\n",
    "        super().__init__()\n",
    "        self.layer1 = nn.Linear(in_features=1, out_features=10, bias=True)\n",
    "        self.layer2 = nn.Linear(in_features=10, out_features=10, bias=True)\n",
    "        self.layer3 = nn.Linear(in_features=10, out_features=1, bias=True)\n",
    "        self.tanh = nn.Tanh()\n",
    "        \n",
    "        \n",
    "    def forward(self,x):\n",
    "        \"\"\"\n",
    "        Make predictions with our model\n",
    "        \"\"\"\n",
    "        out = self.tanh(self.layer1(x))\n",
    "        out = self.tanh(self.layer2(out))\n",
    "        out = self.layer3(out)\n",
    "        \n",
    "        return out"
   ]
  },
  {
   "cell_type": "code",
   "execution_count": 77,
   "id": "ba178164-9504-4478-b7c6-5b7d8ebd8ce3",
   "metadata": {},
   "outputs": [],
   "source": [
    "dnn_model = DNN_model()"
   ]
  },
  {
   "cell_type": "code",
   "execution_count": 78,
   "id": "c0785436-0445-443e-a795-2b13e4ba5345",
   "metadata": {},
   "outputs": [
    {
     "name": "stdout",
     "output_type": "stream",
     "text": [
      "layer1.weight Parameter containing:\n",
      "tensor([[ 0.6709],\n",
      "        [-0.1467],\n",
      "        [-0.9978],\n",
      "        [ 0.0341],\n",
      "        [-0.4243],\n",
      "        [-0.1058],\n",
      "        [ 0.5412],\n",
      "        [ 0.5292],\n",
      "        [ 0.1353],\n",
      "        [-0.1655]], requires_grad=True)\n",
      "layer1.bias Parameter containing:\n",
      "tensor([ 0.9898,  0.1418, -0.9909, -0.9756,  0.5817, -0.8508,  0.7608, -0.0718,\n",
      "         0.0951,  0.5034], requires_grad=True)\n",
      "layer2.weight Parameter containing:\n",
      "tensor([[ 0.0607,  0.1173,  0.0285,  0.2032,  0.2478,  0.0851, -0.0707, -0.3058,\n",
      "          0.0213, -0.0878],\n",
      "        [ 0.2624,  0.2687, -0.1470, -0.0668, -0.0460,  0.1715, -0.0315, -0.2119,\n",
      "          0.1396, -0.1708],\n",
      "        [ 0.0138, -0.2447, -0.0691,  0.0969,  0.0890, -0.2317,  0.2949, -0.2669,\n",
      "         -0.2005,  0.0398],\n",
      "        [-0.2375,  0.2431, -0.2611, -0.2882, -0.0451, -0.0785, -0.1843, -0.0221,\n",
      "         -0.1028,  0.1426],\n",
      "        [ 0.2920, -0.0521,  0.0963, -0.2670,  0.0789, -0.1865,  0.1505,  0.2551,\n",
      "          0.2726,  0.2416],\n",
      "        [-0.2513,  0.0771,  0.0765, -0.2550,  0.0049,  0.0787, -0.2502,  0.0938,\n",
      "          0.0956,  0.1066],\n",
      "        [-0.1401,  0.2292, -0.0873, -0.1536, -0.0842,  0.0872, -0.2200, -0.3140,\n",
      "          0.0371,  0.0022],\n",
      "        [ 0.0778, -0.1088,  0.2624, -0.0509,  0.0887, -0.1540, -0.1267, -0.2153,\n",
      "         -0.0550,  0.1793],\n",
      "        [-0.1345, -0.2890, -0.1456, -0.3118, -0.2945, -0.0549, -0.0741, -0.2579,\n",
      "          0.1714, -0.1455],\n",
      "        [ 0.0395, -0.0540, -0.0190, -0.1336, -0.2137, -0.0192, -0.1692,  0.2291,\n",
      "         -0.1220,  0.2726]], requires_grad=True)\n",
      "layer2.bias Parameter containing:\n",
      "tensor([-0.1977, -0.0226, -0.3009, -0.2257, -0.2347, -0.0979, -0.1011, -0.0212,\n",
      "        -0.1324,  0.1192], requires_grad=True)\n",
      "layer3.weight Parameter containing:\n",
      "tensor([[-0.2037, -0.1040, -0.1650,  0.2796,  0.1263,  0.1396,  0.0185,  0.1149,\n",
      "         -0.0165,  0.2145]], requires_grad=True)\n",
      "layer3.bias Parameter containing:\n",
      "tensor([-0.1571], requires_grad=True)\n"
     ]
    }
   ],
   "source": [
    "for name, p in dnn_model.named_parameters():\n",
    "    print(name,p)"
   ]
  },
  {
   "cell_type": "code",
   "execution_count": 79,
   "id": "95b49bb1-d1a2-4bb4-a042-a32b112422e7",
   "metadata": {},
   "outputs": [
    {
     "name": "stdout",
     "output_type": "stream",
     "text": [
      "Number of parameters: 141\n"
     ]
    }
   ],
   "source": [
    "print(\"Number of parameters:\", sum(p.numel() for p in dnn_model.parameters()))"
   ]
  },
  {
   "cell_type": "code",
   "execution_count": 80,
   "id": "5b27873b-b4a5-44cc-af55-1f8350b14883",
   "metadata": {},
   "outputs": [
    {
     "name": "stdout",
     "output_type": "stream",
     "text": [
      "Epoch: 0, Loss: 9.296996116638184\n",
      "Epoch: 1, Loss: 9.2871732711792\n",
      "Epoch: 2, Loss: 9.277530670166016\n",
      "Epoch: 3, Loss: 9.26806640625\n",
      "Epoch: 4, Loss: 9.258777618408203\n",
      "Epoch: 5, Loss: 9.249656677246094\n",
      "Epoch: 6, Loss: 9.240703582763672\n",
      "Epoch: 7, Loss: 9.231914520263672\n",
      "Epoch: 8, Loss: 9.223285675048828\n",
      "Epoch: 9, Loss: 9.214813232421875\n",
      "Epoch: 1000, Loss: 8.556158065795898\n",
      "Epoch: 2000, Loss: 8.256516456604004\n",
      "Epoch: 3000, Loss: 7.889741897583008\n",
      "Epoch: 4000, Loss: 7.535804271697998\n",
      "Epoch: 5000, Loss: 6.84383487701416\n",
      "Epoch: 6000, Loss: 5.032167434692383\n",
      "Epoch: 7000, Loss: 3.6096341609954834\n",
      "Epoch: 8000, Loss: 3.0029900074005127\n",
      "Epoch: 9000, Loss: 2.740734577178955\n",
      "Epoch: 10000, Loss: 2.610152006149292\n",
      "Epoch: 11000, Loss: 2.5276689529418945\n",
      "Epoch: 12000, Loss: 2.4693400859832764\n",
      "Epoch: 13000, Loss: 2.4253389835357666\n",
      "Epoch: 14000, Loss: 2.3898098468780518\n",
      "Epoch: 15000, Loss: 2.3592476844787598\n",
      "Epoch: 16000, Loss: 2.331817388534546\n",
      "Epoch: 17000, Loss: 2.3067877292633057\n",
      "Epoch: 18000, Loss: 2.2839858531951904\n",
      "Epoch: 19000, Loss: 2.2633919715881348\n",
      "Epoch: 20000, Loss: 2.2449638843536377\n",
      "Epoch: 21000, Loss: 2.228623867034912\n",
      "Epoch: 22000, Loss: 2.2142651081085205\n",
      "Epoch: 23000, Loss: 2.201725482940674\n",
      "Epoch: 24000, Loss: 2.190751075744629\n",
      "Epoch: 25000, Loss: 2.18098783493042\n",
      "Epoch: 26000, Loss: 2.1720244884490967\n",
      "Epoch: 27000, Loss: 2.1634271144866943\n",
      "Epoch: 28000, Loss: 2.1547179222106934\n",
      "Epoch: 29000, Loss: 2.145298719406128\n",
      "Epoch: 30000, Loss: 2.134296178817749\n",
      "Epoch: 31000, Loss: 2.120253086090088\n",
      "Epoch: 32000, Loss: 2.100508451461792\n",
      "Epoch: 33000, Loss: 2.0700151920318604\n",
      "Epoch: 34000, Loss: 2.019730567932129\n",
      "Epoch: 35000, Loss: 1.9374569654464722\n",
      "Epoch: 36000, Loss: 1.816331148147583\n",
      "Epoch: 37000, Loss: 1.6654036045074463\n",
      "Epoch: 38000, Loss: 1.5087344646453857\n",
      "Epoch: 39000, Loss: 1.3714401721954346\n"
     ]
    }
   ],
   "source": [
    "learning_rate=0.001\n",
    "optimizer = optim.SGD(dnn_model.parameters(),lr=learning_rate)\n",
    "training_loop(n_epochs = 40000,\n",
    "              optimizer = optimizer,\n",
    "              loss_fn = loss_fn,\n",
    "              model=dnn_model,\n",
    "              X = X,\n",
    "              y=y)"
   ]
  },
  {
   "cell_type": "code",
   "execution_count": 81,
   "id": "7633ae81-bdfc-47e8-9355-8cbadb4c97bc",
   "metadata": {},
   "outputs": [],
   "source": [
    "lin_yhat = lin_model(t_range)\n",
    "nn_yhat = nn_model(t_range)\n",
    "dnn_yhat = dnn_model(t_range)"
   ]
  },
  {
   "cell_type": "code",
   "execution_count": 82,
   "id": "c7334a6f-a936-4b96-863b-81d1f8d37d8c",
   "metadata": {},
   "outputs": [
    {
     "data": {
      "text/plain": [
       "<matplotlib.legend.Legend at 0x7f34b3119fd0>"
      ]
     },
     "execution_count": 82,
     "metadata": {},
     "output_type": "execute_result"
    },
    {
     "data": {
      "image/png": "[encoded data removed]",
      "text/plain": [
       "<Figure size 640x480 with 1 Axes>"
      ]
     },
     "metadata": {},
     "output_type": "display_data"
    }
   ],
   "source": [
    "plt.scatter(X.numpy(),y.numpy())\n",
    "plt.plot(t_range.numpy(),nn_yhat.detach().numpy(),label=\"Neural network\")\n",
    "plt.plot(t_range.numpy(),dnn_yhat.detach().numpy(),label=\"Deep neural network\")\n",
    "plt.plot(t_range.numpy(),lin_yhat.detach().numpy(),label=\"Linear model\")\n",
    "plt.xlabel(\"Running speed (cm/sec)\")\n",
    "plt.ylabel(\"Firing rate (Hz)\")\n",
    "plt.legend()"
   ]
  },
  {
   "cell_type": "markdown",
   "id": "e00c98ee-c5bb-41ce-8b15-4b2229969941",
   "metadata": {},
   "source": [
    "# Exercise\n",
    "\n",
    "Train a neural network that would predict the firing rate of a neuron based on speed and acceleration.\n",
    "\n",
    "The X tensor will have to have a shape of (27304,2)\n"
   ]
  },
  {
   "cell_type": "code",
   "execution_count": 83,
   "id": "ab737ae6-9b74-49e3-a0d3-6b68ad8169d5",
   "metadata": {},
   "outputs": [],
   "source": [
    "fn = \"../data/animal_acceleration.npy\"\n",
    "acceleration = np.load(fn)\n",
    "\n",
    "fn = \"../data/animal_speed.npy\"\n",
    "speed = np.load(fn)\n",
    "\n",
    "fn =  \"../data/y_rate.npy\"\n",
    "rate = np.load(fn)"
   ]
  },
  {
   "cell_type": "code",
   "execution_count": 89,
   "id": "5e51cca4-2465-407e-98fc-ed5920bafd18",
   "metadata": {},
   "outputs": [
    {
     "data": {
      "text/plain": [
       "(27304,)"
      ]
     },
     "execution_count": 89,
     "metadata": {},
     "output_type": "execute_result"
    }
   ],
   "source": [
    "rate.shape"
   ]
  },
  {
   "cell_type": "code",
   "execution_count": 87,
   "id": "5de16396-f5d0-4c7d-bb18-3d2ed18e4b95",
   "metadata": {},
   "outputs": [
    {
     "data": {
      "text/plain": [
       "Text(0, 0.5, 'Firing rate (Hz)')"
      ]
     },
     "execution_count": 87,
     "metadata": {},
     "output_type": "execute_result"
    },
    {
     "data": {
      "image/png": "[encoded data removed]",
      "text/plain": [
       "<Figure size 900x300 with 2 Axes>"
      ]
     },
     "metadata": {},
     "output_type": "display_data"
    }
   ],
   "source": [
    "nrow=1\n",
    "ncol=2\n",
    "fig, ax = plt.subplots(nrow,ncol,figsize=(9,3),layout='constrained')\n",
    "\n",
    "ax[0].scatter(speed,rate)\n",
    "ax[0].set_xlabel(\"Speed (cm/sec)\")\n",
    "ax[0].set_ylabel(\"Firing rate (Hz)\")\n",
    "ax[1].scatter(acceleration,rate)\n",
    "ax[1].set_xlabel(\"Acceleration\")\n",
    "ax[1].set_ylabel(\"Firing rate (Hz)\")"
   ]
  },
  {
   "cell_type": "code",
   "execution_count": 4,
   "id": "fc99b169-e658-4bc3-b29e-00758a2ffe3d",
   "metadata": {},
   "outputs": [],
   "source": []
  }
 ],
 "metadata": {
  "kernelspec": {
   "display_name": "Python 3",
   "language": "python",
   "name": "python3"
  },
  "language_info": {
   "codemirror_mode": {
    "name": "ipython",
    "version": 3
   },
   "file_extension": ".py",
   "mimetype": "text/x-python",
   "name": "python",
   "nbconvert_exporter": "python",
   "pygments_lexer": "ipython3",
   "version": "3.8.5"
  }
 },
 "nbformat": 4,
 "nbformat_minor": 5
}
