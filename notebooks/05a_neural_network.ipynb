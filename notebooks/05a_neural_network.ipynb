{
 "cells": [
  {
   "cell_type": "markdown",
   "id": "d9efad43-9376-4462-8230-65a9257e203f",
   "metadata": {},
   "source": [
    "# Week 5, Data science in Neuroscience\n",
    "\n",
    "\n",
    "## Plan for this week\n",
    "\n",
    "1. Introduction to pytorch\n",
    "2. Tensors\n",
    "3. Training loop in pytorch\n",
    "4. A first neural network\n",
    "5. A convolutional network to process images\n",
    "\n",
    "***\n"
   ]
  },
  {
   "cell_type": "markdown",
   "id": "77c602b6-ef2c-47d4-bfc0-edc6dfc8c6c9",
   "metadata": {},
   "source": [
    "\n",
    "<div>\n",
    "<img src=\"../images/pytorch.png\" width=\"400\"/>\n",
    "</div>\n",
    "\n",
    "Pytorch is a Python library that facilitates building deep learning projects\n",
    "\n",
    "* Store data into Tensors (multidimensional arrays that are similar to NumPy arrays)\n",
    "* Allows fast calculations on dedicated hardware (GPUs)\n",
    "* Ability of tensors to keep track of the operations performed on them and to analytically compute derivatives\n",
    "* Classes to deal with datasets\n",
    "* Classes to simplify building deep neural networks"
   ]
  },
  {
   "cell_type": "markdown",
   "id": "9451fd19-97ab-4f96-bfa5-fdd3d4f06704",
   "metadata": {},
   "source": [
    "# Tensors\n",
    "\n",
    "pytorch tensors are very similar to NumPy arrays. They have 2 main advantages\n",
    "\n",
    "* Used to do calculations on a GPU\n",
    "* Can keep track of the graph of computations that created them (used to calculate derivatives) "
   ]
  },
  {
   "cell_type": "code",
   "execution_count": 1,
   "id": "75edf9c5-b4ea-404b-850c-a742d0c4dfbe",
   "metadata": {},
   "outputs": [],
   "source": [
    "import torch\n",
    "import numpy as np\n",
    "import matplotlib.pyplot as plt"
   ]
  },
  {
   "cell_type": "markdown",
   "id": "5d73e5f6-30db-426b-994e-25668f46409b",
   "metadata": {},
   "source": [
    "Creating tensors"
   ]
  },
  {
   "cell_type": "code",
   "execution_count": 2,
   "id": "84582524-415e-4085-b368-8affacdce948",
   "metadata": {},
   "outputs": [
    {
     "data": {
      "text/plain": [
       "tensor([1., 1., 1., 1., 1.])"
      ]
     },
     "execution_count": 2,
     "metadata": {},
     "output_type": "execute_result"
    }
   ],
   "source": [
    "torch.ones(5)"
   ]
  },
  {
   "cell_type": "code",
   "execution_count": 3,
   "id": "0514f17f-f61b-4a60-b625-7e8a31a3ac92",
   "metadata": {},
   "outputs": [
    {
     "data": {
      "text/plain": [
       "tensor([[0., 0., 0., 0.],\n",
       "        [0., 0., 0., 0.],\n",
       "        [0., 0., 0., 0.]])"
      ]
     },
     "execution_count": 3,
     "metadata": {},
     "output_type": "execute_result"
    }
   ],
   "source": [
    "torch.zeros(3,4)"
   ]
  },
  {
   "cell_type": "code",
   "execution_count": 4,
   "id": "c838a5a5-425c-4161-99d5-cc507ee10953",
   "metadata": {},
   "outputs": [
    {
     "data": {
      "text/plain": [
       "tensor([[1., 2.],\n",
       "        [3., 4.]])"
      ]
     },
     "execution_count": 4,
     "metadata": {},
     "output_type": "execute_result"
    }
   ],
   "source": [
    "a = torch.tensor([[1.0,2],[3,4]])\n",
    "a"
   ]
  },
  {
   "cell_type": "markdown",
   "id": "d461f2c6-7e17-4048-8011-2f9a34c78f0d",
   "metadata": {},
   "source": [
    "You can interrogate a tensor just like a NumPy array."
   ]
  },
  {
   "cell_type": "code",
   "execution_count": 5,
   "id": "3c75c040-cac0-418a-a5f4-c58520151d16",
   "metadata": {},
   "outputs": [
    {
     "name": "stdout",
     "output_type": "stream",
     "text": [
      "shape: torch.Size([2, 2])\n",
      "ndim: 2\n",
      "dtype: torch.float32\n"
     ]
    }
   ],
   "source": [
    "print(\"shape:\", a.shape)\n",
    "print(\"ndim:\", a.ndim)\n",
    "print(\"dtype:\", a.dtype)"
   ]
  },
  {
   "cell_type": "markdown",
   "id": "448f7b47-f6ad-48d9-acfa-bf434be1d029",
   "metadata": {},
   "source": [
    "Many of the mathematical functions of NumPy have a torch equivalent."
   ]
  },
  {
   "cell_type": "code",
   "execution_count": 6,
   "id": "8c8a2f41-d83c-4221-962f-240102ccf101",
   "metadata": {},
   "outputs": [
    {
     "data": {
      "text/plain": [
       "tensor([[0.5643, 0.3636, 0.0588, 0.1014, 0.4120, 0.7961],\n",
       "        [0.3345, 0.9139, 0.5665, 0.0605, 0.8563, 0.5361],\n",
       "        [0.0987, 0.3219, 0.7762, 0.5836, 0.3335, 0.6292],\n",
       "        [0.6037, 0.5494, 0.7537, 0.8002, 0.6820, 0.6273]])"
      ]
     },
     "execution_count": 6,
     "metadata": {},
     "output_type": "execute_result"
    }
   ],
   "source": [
    "b = torch.rand(24).reshape(4,6)\n",
    "b"
   ]
  },
  {
   "cell_type": "code",
   "execution_count": 7,
   "id": "c4a6c72d-57df-4a57-bada-5edadb3c8a55",
   "metadata": {},
   "outputs": [
    {
     "data": {
      "text/plain": [
       "torch.Size([4, 6])"
      ]
     },
     "execution_count": 7,
     "metadata": {},
     "output_type": "execute_result"
    }
   ],
   "source": [
    "b.shape"
   ]
  },
  {
   "cell_type": "code",
   "execution_count": 8,
   "id": "69ef7381-d380-4b6d-b771-c5b21c3149c1",
   "metadata": {},
   "outputs": [
    {
     "data": {
      "text/plain": [
       "tensor(0.5135)"
      ]
     },
     "execution_count": 8,
     "metadata": {},
     "output_type": "execute_result"
    }
   ],
   "source": [
    "b.mean()"
   ]
  },
  {
   "cell_type": "code",
   "execution_count": 9,
   "id": "0d1d291f-95c4-4193-890e-478ba80d4785",
   "metadata": {},
   "outputs": [
    {
     "data": {
      "text/plain": [
       "tensor([0.4003, 0.5372, 0.5388, 0.3864, 0.5710, 0.6472])"
      ]
     },
     "execution_count": 9,
     "metadata": {},
     "output_type": "execute_result"
    }
   ],
   "source": [
    "b.mean(axis=0)"
   ]
  },
  {
   "cell_type": "markdown",
   "id": "8390d942-335d-444c-9030-49d948a22c0c",
   "metadata": {},
   "source": [
    "We can add an extra dimension with a size of 1 using unsqueeze()."
   ]
  },
  {
   "cell_type": "code",
   "execution_count": 10,
   "id": "47214dcb-f60b-44d2-af7d-d9b6aa2110e2",
   "metadata": {},
   "outputs": [
    {
     "data": {
      "text/plain": [
       "torch.Size([4, 6])"
      ]
     },
     "execution_count": 10,
     "metadata": {},
     "output_type": "execute_result"
    }
   ],
   "source": [
    "b.shape"
   ]
  },
  {
   "cell_type": "code",
   "execution_count": 11,
   "id": "40e72eba-6624-4ef2-872b-64a0da157a59",
   "metadata": {},
   "outputs": [
    {
     "data": {
      "text/plain": [
       "torch.Size([1, 4, 6])"
      ]
     },
     "execution_count": 11,
     "metadata": {},
     "output_type": "execute_result"
    }
   ],
   "source": [
    "b.unsqueeze(0).shape"
   ]
  },
  {
   "cell_type": "markdown",
   "id": "39a0a679-bbed-48f5-83ff-ea75155d809f",
   "metadata": {},
   "source": [
    "We can do broadcasting, just like with NumPy arrays.\n",
    "\n",
    "```\n",
    "When operating on two arrays, pytorch compares their shapes element-wise. It starts with the trailing (i.e. rightmost) dimensions and works its way left. Two dimensions are compatible when\n",
    "​\n",
    "* they are equal, or\n",
    "* one of them is 1\n",
    "```\n"
   ]
  },
  {
   "cell_type": "code",
   "execution_count": 12,
   "id": "44e6208a-2c00-46f2-978b-6798f43d87b0",
   "metadata": {},
   "outputs": [
    {
     "data": {
      "text/plain": [
       "torch.Size([4, 6])"
      ]
     },
     "execution_count": 12,
     "metadata": {},
     "output_type": "execute_result"
    }
   ],
   "source": [
    "b.shape"
   ]
  },
  {
   "cell_type": "code",
   "execution_count": 13,
   "id": "e0a826bd-eeea-45cb-8336-502fdc9eabe4",
   "metadata": {},
   "outputs": [
    {
     "data": {
      "text/plain": [
       "torch.Size([4])"
      ]
     },
     "execution_count": 13,
     "metadata": {},
     "output_type": "execute_result"
    }
   ],
   "source": [
    "a = torch.ones(4)\n",
    "a.shape"
   ]
  },
  {
   "cell_type": "code",
   "execution_count": 14,
   "id": "492c3216-1131-45c7-9b28-ca54774aba73",
   "metadata": {},
   "outputs": [],
   "source": [
    "#b+a"
   ]
  },
  {
   "cell_type": "code",
   "execution_count": 15,
   "id": "78369733-b85f-4e21-b025-0d5edb277554",
   "metadata": {},
   "outputs": [
    {
     "data": {
      "text/plain": [
       "torch.Size([4, 1])"
      ]
     },
     "execution_count": 15,
     "metadata": {},
     "output_type": "execute_result"
    }
   ],
   "source": [
    "A = a.unsqueeze(1)\n",
    "A.shape"
   ]
  },
  {
   "cell_type": "code",
   "execution_count": 16,
   "id": "ad91fc62-727c-4004-a019-154423b33b4a",
   "metadata": {},
   "outputs": [
    {
     "data": {
      "text/plain": [
       "tensor([[1.5643, 1.3636, 1.0588, 1.1014, 1.4120, 1.7961],\n",
       "        [1.3345, 1.9139, 1.5665, 1.0605, 1.8563, 1.5361],\n",
       "        [1.0987, 1.3219, 1.7762, 1.5836, 1.3335, 1.6292],\n",
       "        [1.6037, 1.5494, 1.7537, 1.8002, 1.6820, 1.6273]])"
      ]
     },
     "execution_count": 16,
     "metadata": {},
     "output_type": "execute_result"
    }
   ],
   "source": [
    "b+A"
   ]
  },
  {
   "cell_type": "markdown",
   "id": "fefcf269-ed33-4e72-9433-ea49274fd273",
   "metadata": {},
   "source": [
    "We can change the order of the dimensions in a tensor with `.permute()"
   ]
  },
  {
   "cell_type": "code",
   "execution_count": 17,
   "id": "63940f7e-a9b1-4df2-b353-06acf01d8a5e",
   "metadata": {},
   "outputs": [
    {
     "data": {
      "text/plain": [
       "tensor([[[0.2732, 0.4913, 0.1348, 0.2602, 0.3437, 0.6902],\n",
       "         [0.6937, 0.5498, 0.1961, 0.4038, 0.6848, 0.9426],\n",
       "         [0.3854, 0.8371, 0.1074, 0.0799, 0.8979, 0.5499],\n",
       "         [0.7613, 0.8279, 0.4812, 0.8052, 0.3945, 0.6152]],\n",
       "\n",
       "        [[0.4457, 0.3896, 0.3526, 0.1966, 0.9213, 0.1886],\n",
       "         [0.0726, 0.3903, 0.8233, 0.1339, 0.6361, 0.1045],\n",
       "         [0.2099, 0.9881, 0.7995, 0.3617, 0.4845, 0.7368],\n",
       "         [0.1551, 0.0467, 0.8169, 0.8689, 0.0266, 0.9562]],\n",
       "\n",
       "        [[0.2862, 0.3506, 0.8126, 0.0231, 0.5962, 0.5662],\n",
       "         [0.2598, 0.6553, 0.1610, 0.9103, 0.3629, 0.2832],\n",
       "         [0.5790, 0.7317, 0.2689, 0.6765, 0.3912, 0.8889],\n",
       "         [0.4111, 0.4991, 0.2188, 0.5119, 0.9664, 0.9344]]])"
      ]
     },
     "execution_count": 17,
     "metadata": {},
     "output_type": "execute_result"
    }
   ],
   "source": [
    "b = torch.rand(3*24).reshape(3,4,6)\n",
    "b"
   ]
  },
  {
   "cell_type": "code",
   "execution_count": 18,
   "id": "14217858-e57e-4400-9047-6fc61854913e",
   "metadata": {},
   "outputs": [
    {
     "data": {
      "text/plain": [
       "torch.Size([3, 4, 6])"
      ]
     },
     "execution_count": 18,
     "metadata": {},
     "output_type": "execute_result"
    }
   ],
   "source": [
    "b.shape"
   ]
  },
  {
   "cell_type": "code",
   "execution_count": 19,
   "id": "df280f0d-bd7a-4c4b-a1ed-64b5cba9c8f9",
   "metadata": {},
   "outputs": [
    {
     "data": {
      "text/plain": [
       "torch.Size([4, 6, 3])"
      ]
     },
     "execution_count": 19,
     "metadata": {},
     "output_type": "execute_result"
    }
   ],
   "source": [
    "b = b.permute(1,2,0)\n",
    "b.shape"
   ]
  },
  {
   "cell_type": "markdown",
   "id": "9e5d5cbe-d3e2-43c6-b502-7ae1d0c3879f",
   "metadata": {},
   "source": [
    "### Moving tensors to the GPU\n",
    "\n",
    "Once you moved your tensors to the GPU, calculations on these tensors will be performed on the GPU. "
   ]
  },
  {
   "cell_type": "code",
   "execution_count": 98,
   "id": "7da9ab7d-fc5c-49e0-944d-ff30497baac6",
   "metadata": {},
   "outputs": [
    {
     "data": {
      "text/plain": [
       "tensor([0.7350, 0.0247, 0.5534, 0.2948, 0.2744, 0.7877, 0.6529, 0.1857, 0.8128,\n",
       "        0.5667])"
      ]
     },
     "execution_count": 98,
     "metadata": {},
     "output_type": "execute_result"
    }
   ],
   "source": [
    "b = torch.rand(10)\n",
    "b"
   ]
  },
  {
   "cell_type": "code",
   "execution_count": 99,
   "id": "894ffad4-2610-48bd-927f-ad765580c743",
   "metadata": {},
   "outputs": [
    {
     "data": {
      "text/plain": [
       "True"
      ]
     },
     "execution_count": 99,
     "metadata": {},
     "output_type": "execute_result"
    }
   ],
   "source": [
    "torch.cuda.is_available()"
   ]
  },
  {
   "cell_type": "code",
   "execution_count": 100,
   "id": "0fa87b3e-317b-4cd5-99f0-14da73151328",
   "metadata": {},
   "outputs": [
    {
     "name": "stdout",
     "output_type": "stream",
     "text": [
      "Using device: cuda\n",
      "\n"
     ]
    }
   ],
   "source": [
    "device = torch.device('cuda' if torch.cuda.is_available() else 'cpu')\n",
    "print('Using device:', device)\n",
    "print()"
   ]
  },
  {
   "cell_type": "code",
   "execution_count": 101,
   "id": "abc4789e-d400-47c9-a078-ff796b09a7da",
   "metadata": {},
   "outputs": [
    {
     "data": {
      "text/plain": [
       "tensor([0.7350, 0.0247, 0.5534, 0.2948, 0.2744, 0.7877, 0.6529, 0.1857, 0.8128,\n",
       "        0.5667])"
      ]
     },
     "execution_count": 101,
     "metadata": {},
     "output_type": "execute_result"
    }
   ],
   "source": [
    "b"
   ]
  },
  {
   "cell_type": "code",
   "execution_count": 102,
   "id": "25a754df-d114-4944-a87f-c2d59a1a6840",
   "metadata": {},
   "outputs": [],
   "source": [
    "b = b.to(device)"
   ]
  },
  {
   "cell_type": "code",
   "execution_count": 103,
   "id": "e6e12002-bd6f-4577-b2ea-ce7eb7e6efde",
   "metadata": {},
   "outputs": [
    {
     "data": {
      "text/plain": [
       "tensor([0.7350, 0.0247, 0.5534, 0.2948, 0.2744, 0.7877, 0.6529, 0.1857, 0.8128,\n",
       "        0.5667], device='cuda:0')"
      ]
     },
     "execution_count": 103,
     "metadata": {},
     "output_type": "execute_result"
    }
   ],
   "source": [
    "b"
   ]
  },
  {
   "cell_type": "code",
   "execution_count": 104,
   "id": "088f08ba-337f-4721-94f8-50d740de9e94",
   "metadata": {},
   "outputs": [
    {
     "data": {
      "text/plain": [
       "tensor([0.7350, 0.0247, 0.5534, 0.2948, 0.2744, 0.7877, 0.6529, 0.1857, 0.8128,\n",
       "        0.5667])"
      ]
     },
     "execution_count": 104,
     "metadata": {},
     "output_type": "execute_result"
    }
   ],
   "source": [
    "b = b.to(\"cpu\")\n",
    "b"
   ]
  },
  {
   "cell_type": "code",
   "execution_count": 105,
   "id": "a89747d8-4413-454e-bb94-61d6b0768418",
   "metadata": {},
   "outputs": [],
   "source": [
    "#b = b.to(\"cuda\")\n",
    "#b"
   ]
  },
  {
   "cell_type": "markdown",
   "id": "236e590f-c384-4ea6-8034-1c56da08fec2",
   "metadata": {},
   "source": [
    "## From pytorch tensors to NumPy arrays and back\n",
    "\n",
    "You can go between tensors and NumPy arrays using `torch.from_numpy()` and `myTensor.numpy()`"
   ]
  },
  {
   "cell_type": "code",
   "execution_count": 27,
   "id": "ccd6ab34-b963-497e-9690-23871a6b7566",
   "metadata": {},
   "outputs": [
    {
     "name": "stdout",
     "output_type": "stream",
     "text": [
      "<class 'torch.Tensor'>\n",
      "<class 'numpy.ndarray'>\n"
     ]
    }
   ],
   "source": [
    "points_pt = torch.tensor([2,3,4])\n",
    "print(type(points_pt))\n",
    "points_np = points_pt.numpy()\n",
    "print(type(points_np))"
   ]
  },
  {
   "cell_type": "code",
   "execution_count": 28,
   "id": "c9ed2828-5751-4509-867a-fdaa33747422",
   "metadata": {},
   "outputs": [
    {
     "data": {
      "text/plain": [
       "tensor([1, 2, 3, 4])"
      ]
     },
     "execution_count": 28,
     "metadata": {},
     "output_type": "execute_result"
    }
   ],
   "source": [
    "a = np.array([1,2,3,4])\n",
    "torch.from_numpy(a)"
   ]
  },
  {
   "cell_type": "markdown",
   "id": "6101da6d-d3e9-42c2-bdc6-6b5e81c5d47c",
   "metadata": {},
   "source": [
    "# Training a model using pytorch\n",
    "\n",
    "We will recreate our machine learning example of week 2 using pytorch.\n",
    "\n",
    "We want to predict the firing rate of a neuron from the running speed of the animal.\n"
   ]
  },
  {
   "cell_type": "code",
   "execution_count": 29,
   "id": "859ea102-0904-4adf-bcbf-41931c8fd30f",
   "metadata": {},
   "outputs": [],
   "source": [
    "fn = \"../data/animal_speed.npy\""
   ]
  },
  {
   "cell_type": "code",
   "execution_count": 30,
   "id": "b1d95614-1503-434c-a760-d1e8978a46bf",
   "metadata": {},
   "outputs": [],
   "source": [
    "speed = np.load(fn)\n",
    "speed = speed[0:100]"
   ]
  },
  {
   "cell_type": "code",
   "execution_count": 31,
   "id": "d650d561-153c-4c2f-af9e-90c005d7e534",
   "metadata": {},
   "outputs": [],
   "source": [
    "w = 1.25 # weight (slope)\n",
    "b = 10 # bias (intercept)\n",
    "np.random.seed(0)\n",
    "e = np.random.normal(loc=0.0, scale=5, size = speed.shape[0]) # random numbers taken from a normal distribution\n",
    "\n",
    "rate = speed* w + b + e # simulate the firing rate\n",
    "rate = np.maximum(0, rate) # eliminate the negative firing rates"
   ]
  },
  {
   "cell_type": "code",
   "execution_count": 32,
   "id": "a02f063c-2d56-4441-846a-62b7e2079401",
   "metadata": {},
   "outputs": [
    {
     "data": {
      "text/plain": [
       "Text(0, 0.5, 'Firing rate (Hz)')"
      ]
     },
     "execution_count": 32,
     "metadata": {},
     "output_type": "execute_result"
    },
    {
     "data": {
      "image/png": "[encoded data removed]",
      "text/plain": [
       "<Figure size 640x480 with 1 Axes>"
      ]
     },
     "metadata": {},
     "output_type": "display_data"
    }
   ],
   "source": [
    "plt.scatter(speed,rate)\n",
    "plt.xlabel(\"Running speed (cm/sec)\")\n",
    "plt.ylabel(\"Firing rate (Hz)\")"
   ]
  },
  {
   "cell_type": "markdown",
   "id": "8030a6ad-bc95-492f-b375-a1e8540e7fc1",
   "metadata": {},
   "source": [
    "### Create a model with pytorch\n",
    "\n",
    "We will recreate our **linear regression model** using pytorch. \n",
    "\n",
    "\n",
    "$yhat = b+ w*X$\n",
    "\n",
    "We will create our model by defining a class. \n",
    "\n",
    "There are simpler ways to create simple models in pytorch. But the way presented here is the very flexible. We can create all our models by just modifying our class.\n",
    "\n",
    "<img src=\"../images/neuron_linear.png\" width=\"500\" align=\"center\">\n",
    "\n",
    "https://pytorch.org/docs/stable/generated/torch.nn.Linear.html\n",
    "\n",
    "This is **not a neural network**, but a linear model."
   ]
  },
  {
   "cell_type": "code",
   "execution_count": 33,
   "id": "f73636be-22e9-4829-a6bf-3414bc4a3403",
   "metadata": {},
   "outputs": [],
   "source": [
    "import torch.nn as nn\n",
    "\n",
    "class Lin_model(nn.Module):\n",
    "    \"\"\"\n",
    "    Class to create pytorch model.\n",
    "    \"\"\"\n",
    "    def __init__(self):\n",
    "        \"\"\"\n",
    "        Initializer. Runs when an object is created\n",
    "        \"\"\"\n",
    "        super().__init__()\n",
    "        self.linLayer = nn.Linear(in_features=1, out_features=1, bias=True)\n",
    "    def forward(self,x):\n",
    "        \"\"\"\n",
    "        Make predictions with our model\n",
    "        \"\"\"\n",
    "        out = self.linLayer(x)\n",
    "        return out"
   ]
  },
  {
   "cell_type": "code",
   "execution_count": 34,
   "id": "937f7ddc-398b-4403-b643-fb9f8ec27fbc",
   "metadata": {},
   "outputs": [],
   "source": [
    "lin_model = Lin_model() # create model from our class definition"
   ]
  },
  {
   "cell_type": "markdown",
   "id": "8d3c5d0a-8527-46d1-8c81-4b0fcb45b509",
   "metadata": {},
   "source": [
    "The parameters of the models are created automatically when creating the model.\n",
    "\n",
    "We can use this for loop to print the parameters."
   ]
  },
  {
   "cell_type": "code",
   "execution_count": 35,
   "id": "6879c34a-7687-41ce-992d-0d3d6cc990d8",
   "metadata": {},
   "outputs": [
    {
     "name": "stdout",
     "output_type": "stream",
     "text": [
      "linLayer.weight Parameter containing:\n",
      "tensor([[-0.9196]], requires_grad=True)\n",
      "linLayer.bias Parameter containing:\n",
      "tensor([-0.3263], requires_grad=True)\n"
     ]
    }
   ],
   "source": [
    "for name,p in lin_model.named_parameters():\n",
    "    print(name,p)"
   ]
  },
  {
   "cell_type": "markdown",
   "id": "3e4586fe-47d2-47f9-9a90-91f6a9c1a850",
   "metadata": {},
   "source": [
    "### Loss function"
   ]
  },
  {
   "cell_type": "markdown",
   "id": "e68936a2-f7ae-4e44-839f-a186721229d1",
   "metadata": {},
   "source": [
    "pytorch has built-in loss functions that we can use in our training loop. We will use the mean squared error (MSE)."
   ]
  },
  {
   "cell_type": "code",
   "execution_count": 36,
   "id": "296a69ec-42ab-4c0d-8dce-b5f582ec9bdf",
   "metadata": {},
   "outputs": [],
   "source": [
    "# loss function returning MSE\n",
    "loss_fn = torch.nn.MSELoss()"
   ]
  },
  {
   "cell_type": "markdown",
   "id": "28484fc5-dd93-4e3c-9d32-30c6f351a307",
   "metadata": {},
   "source": [
    "### pytorch optimizers\n",
    "\n",
    "Optimizers are used to change our model parameters during learning.\n",
    "\n",
    "There are several optimization strategies and tricks that can improve learning. \n",
    "\n",
    "There are more important when building deep neural networks than for linear regression models.\n",
    "\n",
    "Let's see how to use the SGD optimizer."
   ]
  },
  {
   "cell_type": "code",
   "execution_count": 37,
   "id": "8d2538f9-e68f-4dc0-8bec-84e3e2cfd91b",
   "metadata": {},
   "outputs": [],
   "source": [
    "import torch.optim as optim"
   ]
  },
  {
   "cell_type": "code",
   "execution_count": 38,
   "id": "05904662-357f-4eb8-8925-caccc6eb402c",
   "metadata": {},
   "outputs": [],
   "source": [
    "learning_rate = 0.001\n",
    "optimizer = optim.SGD(lin_model.parameters(),lr=learning_rate)"
   ]
  },
  {
   "cell_type": "markdown",
   "id": "34716493-4af0-435d-9700-047978cd3d02",
   "metadata": {},
   "source": [
    "### Correct data format for our model\n",
    "\n",
    "* X: input data\n",
    "* y: labels or values that we want to predict\n",
    "\n",
    "\n",
    "We need to store them in `tensors`.\n",
    "\n",
    "The first dimension (rows) is for the observations.\n",
    "\n",
    "We only have 1 input feature (speed), so the second dimension will have a size of 1."
   ]
  },
  {
   "cell_type": "code",
   "execution_count": 39,
   "id": "f83160fa-b063-4a66-a35b-eaa296847fd2",
   "metadata": {},
   "outputs": [],
   "source": [
    "X = torch.from_numpy(speed).unsqueeze(1).float()"
   ]
  },
  {
   "cell_type": "code",
   "execution_count": 40,
   "id": "cd01df09-a3f2-4e90-ae45-400d2351bde0",
   "metadata": {},
   "outputs": [
    {
     "data": {
      "text/plain": [
       "torch.Size([100, 1])"
      ]
     },
     "execution_count": 40,
     "metadata": {},
     "output_type": "execute_result"
    }
   ],
   "source": [
    "X.shape"
   ]
  },
  {
   "cell_type": "code",
   "execution_count": 41,
   "id": "ead28246-4bd4-4603-94d5-d6cdcc40b776",
   "metadata": {},
   "outputs": [
    {
     "data": {
      "text/plain": [
       "torch.Size([100, 1])"
      ]
     },
     "execution_count": 41,
     "metadata": {},
     "output_type": "execute_result"
    }
   ],
   "source": [
    "y = torch.from_numpy(rate).unsqueeze(1).float()\n",
    "y.shape"
   ]
  },
  {
   "cell_type": "markdown",
   "id": "088d2051-c80c-47cd-9f8c-ca8336e647ac",
   "metadata": {},
   "source": [
    "### One forward pass \n",
    "\n",
    "We now all our needed element to train our model.\n",
    "\n",
    "Before using our training loop, it is a good idea to run one forward pass outside of the for loop to identify potential problems.\n",
    "\n",
    "We run all the steps that will be in our training loop."
   ]
  },
  {
   "cell_type": "code",
   "execution_count": 42,
   "id": "53fcb5fc-f099-4359-ae91-0a183f761ed8",
   "metadata": {},
   "outputs": [
    {
     "name": "stdout",
     "output_type": "stream",
     "text": [
      "linLayer.weight Parameter containing:\n",
      "tensor([[-0.9196]], requires_grad=True)\n",
      "linLayer.bias Parameter containing:\n",
      "tensor([-0.3263], requires_grad=True)\n"
     ]
    }
   ],
   "source": [
    "for name,p in lin_model.named_parameters():\n",
    "    print(name,p)"
   ]
  },
  {
   "cell_type": "code",
   "execution_count": 43,
   "id": "eab4f61c-3776-4a93-9273-703374f78c63",
   "metadata": {},
   "outputs": [
    {
     "name": "stdout",
     "output_type": "stream",
     "text": [
      "Number of parameters: 2\n"
     ]
    }
   ],
   "source": [
    "print(\"Number of parameters:\", sum(p.numel() for p in lin_model.parameters()))"
   ]
  },
  {
   "cell_type": "code",
   "execution_count": 44,
   "id": "a65d6a9d-e78d-476e-bdc9-5396340f1ae9",
   "metadata": {},
   "outputs": [],
   "source": [
    "yhat = lin_model(X)"
   ]
  },
  {
   "cell_type": "code",
   "execution_count": 45,
   "id": "e4c5d164-18bf-4894-9526-ba4a785572ad",
   "metadata": {},
   "outputs": [],
   "source": [
    "loss = loss_fn(yhat,y)"
   ]
  },
  {
   "cell_type": "code",
   "execution_count": 46,
   "id": "13b7dc2b-5a55-4d15-a541-8d04a5033186",
   "metadata": {},
   "outputs": [],
   "source": [
    "optimizer.zero_grad() # zero the gradients"
   ]
  },
  {
   "cell_type": "code",
   "execution_count": 47,
   "id": "ac371ec2-2b6d-47d2-8f04-88c38e80ebd4",
   "metadata": {},
   "outputs": [],
   "source": [
    "loss.backward() # calculate gradients"
   ]
  },
  {
   "cell_type": "code",
   "execution_count": 48,
   "id": "6fedba28-965b-46e8-86bf-b8482a2309bc",
   "metadata": {},
   "outputs": [],
   "source": [
    "optimizer.step() # will change the model parameters to reduce the loss        "
   ]
  },
  {
   "cell_type": "code",
   "execution_count": 49,
   "id": "98409462-5621-4708-90b4-dc13b4778dd2",
   "metadata": {},
   "outputs": [
    {
     "name": "stdout",
     "output_type": "stream",
     "text": [
      "linLayer.weight Parameter containing:\n",
      "tensor([[1.0619]], requires_grad=True)\n",
      "linLayer.bias Parameter containing:\n",
      "tensor([-0.2308], requires_grad=True)\n"
     ]
    }
   ],
   "source": [
    "for name,p in lin_model.named_parameters():\n",
    "    print(name,p)"
   ]
  },
  {
   "cell_type": "markdown",
   "id": "b3684a6f-2e33-43a6-885b-c18bf0605f93",
   "metadata": {},
   "source": [
    "### Training loop\n",
    "\n",
    "We want a generic training loop that will work in most situations."
   ]
  },
  {
   "cell_type": "code",
   "execution_count": 50,
   "id": "ff583d6d-269b-4c69-9337-34dbc3383d3c",
   "metadata": {},
   "outputs": [],
   "source": [
    "## training loop that will modify our parameters to minimize the loss function (MSE)\n",
    "def training_loop(n_epochs, optimizer, loss_fn, model, X,y):\n",
    "    for epoch in range (n_epochs):\n",
    "        \n",
    "        yhat = model(X) # make predictions\n",
    "        loss = loss_fn(yhat,y) # calculate the loss\n",
    "        optimizer.zero_grad() # zero the gradients of our model's parameters\n",
    "        loss.backward() # calculate gradients of the model's parameters\n",
    "        optimizer.step() # will change the model parameters to reduce the loss\n",
    "        \n",
    "        \n",
    "        if epoch % 1000 ==0 or epoch < 10:\n",
    "            print(\"Epoch: {}, Loss: {}\".format(epoch,loss))\n",
    "    return"
   ]
  },
  {
   "cell_type": "code",
   "execution_count": 51,
   "id": "ea233c1d-8358-4c8f-8c2e-73f0aee9c3b7",
   "metadata": {},
   "outputs": [
    {
     "name": "stdout",
     "output_type": "stream",
     "text": [
      "Epoch: 0, Loss: 216.7495880126953\n",
      "Epoch: 1, Loss: 61.03697204589844\n",
      "Epoch: 2, Loss: 51.171871185302734\n",
      "Epoch: 3, Loss: 50.52776336669922\n",
      "Epoch: 4, Loss: 50.4666748046875\n",
      "Epoch: 5, Loss: 50.44245910644531\n",
      "Epoch: 6, Loss: 50.42058563232422\n",
      "Epoch: 7, Loss: 50.398887634277344\n",
      "Epoch: 8, Loss: 50.37721252441406\n",
      "Epoch: 9, Loss: 50.355552673339844\n",
      "Epoch: 1000, Loss: 35.959205627441406\n",
      "Epoch: 2000, Loss: 29.82477378845215\n",
      "Epoch: 3000, Loss: 27.24588394165039\n",
      "Epoch: 4000, Loss: 26.161733627319336\n",
      "Epoch: 5000, Loss: 25.705949783325195\n",
      "Epoch: 6000, Loss: 25.514341354370117\n",
      "Epoch: 7000, Loss: 25.433788299560547\n",
      "Epoch: 8000, Loss: 25.399919509887695\n",
      "Epoch: 9000, Loss: 25.38568687438965\n",
      "Epoch: 10000, Loss: 25.379701614379883\n",
      "Epoch: 11000, Loss: 25.377187728881836\n",
      "Epoch: 12000, Loss: 25.376127243041992\n",
      "Epoch: 13000, Loss: 25.375682830810547\n",
      "Epoch: 14000, Loss: 25.37549591064453\n",
      "Epoch: 15000, Loss: 25.375417709350586\n",
      "Epoch: 16000, Loss: 25.375383377075195\n",
      "Epoch: 17000, Loss: 25.3753719329834\n",
      "Epoch: 18000, Loss: 25.3753662109375\n",
      "Epoch: 19000, Loss: 25.3753662109375\n"
     ]
    }
   ],
   "source": [
    "training_loop(n_epochs = 20000,\n",
    "              optimizer = optimizer,\n",
    "              loss_fn = loss_fn,\n",
    "              model=lin_model,\n",
    "              X = X,\n",
    "              y=y)"
   ]
  },
  {
   "cell_type": "code",
   "execution_count": 52,
   "id": "d78d66c6-63d3-4d14-81b9-b87ed3e788e3",
   "metadata": {},
   "outputs": [
    {
     "name": "stdout",
     "output_type": "stream",
     "text": [
      "Parameter containing:\n",
      "tensor([[1.2343]], requires_grad=True)\n",
      "Parameter containing:\n",
      "tensor([10.5677], requires_grad=True)\n"
     ]
    }
   ],
   "source": [
    "for p in lin_model.parameters():\n",
    "    print(p)"
   ]
  },
  {
   "cell_type": "code",
   "execution_count": 53,
   "id": "081bc520-5f1f-4327-8c1c-2d70703671de",
   "metadata": {},
   "outputs": [
    {
     "data": {
      "text/plain": [
       "torch.Size([100, 1])"
      ]
     },
     "execution_count": 53,
     "metadata": {},
     "output_type": "execute_result"
    }
   ],
   "source": [
    "t_range = torch.arange(0,50,0.5).unsqueeze(1)\n",
    "t_range.shape"
   ]
  },
  {
   "cell_type": "code",
   "execution_count": 54,
   "id": "cbfe91c1-952c-451e-acd9-340417f126ca",
   "metadata": {},
   "outputs": [],
   "source": [
    "lin_yhat = lin_model(t_range)"
   ]
  },
  {
   "cell_type": "code",
   "execution_count": 55,
   "id": "09ca8bf6-5030-47e0-9197-de2d5aa5c24f",
   "metadata": {},
   "outputs": [
    {
     "data": {
      "text/plain": [
       "<matplotlib.legend.Legend at 0x7f3858261b20>"
      ]
     },
     "execution_count": 55,
     "metadata": {},
     "output_type": "execute_result"
    },
    {
     "data": {
      "image/png": "[encoded data removed]",
      "text/plain": [
       "<Figure size 640x480 with 1 Axes>"
      ]
     },
     "metadata": {},
     "output_type": "display_data"
    }
   ],
   "source": [
    "plt.scatter(speed,rate)\n",
    "plt.plot(t_range.numpy(),lin_yhat.detach().numpy(),label=\"Linear model\")\n",
    "plt.xlabel(\"Running speed (cm/sec)\")\n",
    "plt.ylabel(\"Firing rate (Hz)\")\n",
    "plt.legend()"
   ]
  },
  {
   "cell_type": "markdown",
   "id": "64f5be12-692a-401d-9cf0-17d4b2cb79fc",
   "metadata": {},
   "source": [
    "We found the parameters that were used to simulate the data."
   ]
  },
  {
   "cell_type": "markdown",
   "id": "01d2c5e5-cb15-4265-b171-ea82f96f814a",
   "metadata": {},
   "source": [
    "# A first neural network"
   ]
  },
  {
   "cell_type": "markdown",
   "id": "7e0c0e0b-f99f-4cd7-b99a-94bd64d9a581",
   "metadata": {},
   "source": [
    "* Mathematical entities capable of representing complicated functions through a composition of simpler functions.\n",
    "* Deep neural network have **multiple layers** between the input and output layers. \n",
    "* Each layer has several artificial neurons. \n",
    "* New data comes from the left, and calculations propagates towards the ouput layer.\n",
    "\n"
   ]
  },
  {
   "cell_type": "markdown",
   "id": "bcca6356-30bb-4b55-a5ef-d9f6a2ad1a3e",
   "metadata": {},
   "source": [
    "***\n",
    "\n",
    "* A neuron in a neural network has one more non-linear function. \n",
    "\n",
    "<img src=\"../images/artificial_neuron.png\" width=\"500\" align=\"center\">"
   ]
  },
  {
   "cell_type": "markdown",
   "id": "3ec474f9-32f7-4b2e-9387-aabf74a35cb6",
   "metadata": {},
   "source": [
    "The non-linear function allows the model to have different slope at different values.\n",
    "\n",
    "The non-linear function of the neuron is called the **activation function**."
   ]
  },
  {
   "cell_type": "code",
   "execution_count": 56,
   "id": "0d62c1c7-706e-4ef9-8b2d-6925358908f0",
   "metadata": {},
   "outputs": [
    {
     "data": {
      "text/plain": [
       "Text(0.5, 1.0, 'Non-linear model: tanh(w*x+b)')"
      ]
     },
     "execution_count": 56,
     "metadata": {},
     "output_type": "execute_result"
    },
    {
     "data": {
      "image/png": "[encoded data removed]",
      "text/plain": [
       "<Figure size 900x300 with 2 Axes>"
      ]
     },
     "metadata": {},
     "output_type": "display_data"
    }
   ],
   "source": [
    "nrow=1\n",
    "ncol=2\n",
    "fig, ax = plt.subplots(nrow,ncol,figsize=(9,3))\n",
    "\n",
    "XX = np.linspace(-4,4) # input\n",
    "          \n",
    "w=1.25\n",
    "b=1.0\n",
    "                \n",
    "ax[0].plot(XX,w*XX+b)\n",
    "ax[0].set_title(\"Linear model: w*x+b\")\n",
    "\n",
    "ax[1].plot(XX,np.tanh(w*XX+b))\n",
    "ax[1].set_title(\"Non-linear model: tanh(w*x+b)\")"
   ]
  },
  {
   "cell_type": "markdown",
   "id": "ba6cff40-68de-4199-9798-ed40e136f5af",
   "metadata": {},
   "source": [
    "In neural network, we have **several artificial neurons**. \n",
    "\n",
    "The output of several neurons is summed to get the output.\n",
    "\n",
    "Let's build a neural network to predict the firing rate from the speed of the animal."
   ]
  },
  {
   "cell_type": "code",
   "execution_count": 57,
   "id": "de43dbcb-f1e5-4db7-be63-295d563830a0",
   "metadata": {},
   "outputs": [],
   "source": [
    "class NN_model(nn.Module):\n",
    "    \"\"\"\n",
    "    Class to create pytorch model. This is a neural network because of the non-linear function.\n",
    "    \"\"\"\n",
    "    def __init__(self):\n",
    "        \"\"\"\n",
    "        Initializer. Runs when an object is created\n",
    "        \"\"\"\n",
    "        super().__init__()\n",
    "        self.layer1 = nn.Linear(in_features=1, out_features=5, bias=True)\n",
    "        self.tanh = nn.Tanh()\n",
    "        self.layer2 = nn.Linear(in_features=5, out_features=1, bias=True)\n",
    "        \n",
    "    def forward(self,x):\n",
    "        \"\"\"\n",
    "        Make predictions with our model\n",
    "        \"\"\"\n",
    "        out = self.layer1(x)\n",
    "        out = self.tanh(out)\n",
    "        out = self.layer2(out)\n",
    "        return out"
   ]
  },
  {
   "cell_type": "code",
   "execution_count": 58,
   "id": "b532da6d-8708-46ff-bc79-ee0621155380",
   "metadata": {},
   "outputs": [],
   "source": [
    "nn_model = NN_model()"
   ]
  },
  {
   "cell_type": "code",
   "execution_count": 59,
   "id": "28716996-71be-4b98-805f-2518a44070ed",
   "metadata": {},
   "outputs": [
    {
     "name": "stdout",
     "output_type": "stream",
     "text": [
      "layer1.weight Parameter containing:\n",
      "tensor([[ 0.0490],\n",
      "        [ 0.2047],\n",
      "        [-0.0643],\n",
      "        [ 0.1794],\n",
      "        [ 0.4759]], requires_grad=True)\n",
      "layer1.bias Parameter containing:\n",
      "tensor([ 0.7064,  0.9974, -0.6358, -0.7729, -0.8862], requires_grad=True)\n",
      "layer2.weight Parameter containing:\n",
      "tensor([[-0.3902,  0.1453, -0.0862,  0.2697,  0.1653]], requires_grad=True)\n",
      "layer2.bias Parameter containing:\n",
      "tensor([-0.2552], requires_grad=True)\n"
     ]
    }
   ],
   "source": [
    "for name, p in nn_model.named_parameters():\n",
    "    print(name,p)"
   ]
  },
  {
   "cell_type": "code",
   "execution_count": 60,
   "id": "c28c727b-927b-4a7d-9ae9-981169debd5f",
   "metadata": {},
   "outputs": [
    {
     "name": "stdout",
     "output_type": "stream",
     "text": [
      "Number of parameters: 16\n"
     ]
    }
   ],
   "source": [
    "print(\"Number of parameters:\", sum(p.numel() for p in nn_model.parameters()))"
   ]
  },
  {
   "cell_type": "code",
   "execution_count": 61,
   "id": "e21fdd14-1b27-446c-bebc-0904ae177956",
   "metadata": {},
   "outputs": [],
   "source": [
    "learning_rate=0.0001\n",
    "optimizer = optim.SGD(nn_model.parameters(),lr=learning_rate)"
   ]
  },
  {
   "cell_type": "code",
   "execution_count": 62,
   "id": "4e1c251f-33df-4fb4-97ac-665908c1dded",
   "metadata": {},
   "outputs": [
    {
     "name": "stdout",
     "output_type": "stream",
     "text": [
      "Epoch: 0, Loss: 1151.188720703125\n",
      "Epoch: 1, Loss: 1148.6005859375\n",
      "Epoch: 2, Loss: 1145.8614501953125\n",
      "Epoch: 3, Loss: 1142.8221435546875\n",
      "Epoch: 4, Loss: 1139.067138671875\n",
      "Epoch: 5, Loss: 1133.0771484375\n",
      "Epoch: 6, Loss: 1119.525634765625\n",
      "Epoch: 7, Loss: 1104.4410400390625\n",
      "Epoch: 8, Loss: 1098.95361328125\n",
      "Epoch: 9, Loss: 1095.471435546875\n",
      "Epoch: 1000, Loss: 229.09703063964844\n",
      "Epoch: 2000, Loss: 115.322021484375\n",
      "Epoch: 3000, Loss: 85.236572265625\n",
      "Epoch: 4000, Loss: 71.20855712890625\n",
      "Epoch: 5000, Loss: 63.967140197753906\n",
      "Epoch: 6000, Loss: 68.72758483886719\n",
      "Epoch: 7000, Loss: 54.68235397338867\n",
      "Epoch: 8000, Loss: 60.239315032958984\n",
      "Epoch: 9000, Loss: 53.71757507324219\n",
      "Epoch: 10000, Loss: 77.73603820800781\n",
      "Epoch: 11000, Loss: 63.7680778503418\n",
      "Epoch: 12000, Loss: 47.994503021240234\n",
      "Epoch: 13000, Loss: 42.7593879699707\n",
      "Epoch: 14000, Loss: 40.07150650024414\n",
      "Epoch: 15000, Loss: 38.14348220825195\n",
      "Epoch: 16000, Loss: 36.643489837646484\n",
      "Epoch: 17000, Loss: 35.439453125\n",
      "Epoch: 18000, Loss: 34.457733154296875\n",
      "Epoch: 19000, Loss: 33.65040969848633\n",
      "Epoch: 20000, Loss: 32.983970642089844\n",
      "Epoch: 21000, Loss: 32.432613372802734\n",
      "Epoch: 22000, Loss: 31.976049423217773\n",
      "Epoch: 23000, Loss: 31.5972843170166\n",
      "Epoch: 24000, Loss: 31.281339645385742\n",
      "Epoch: 25000, Loss: 31.015600204467773\n",
      "Epoch: 26000, Loss: 30.789365768432617\n",
      "Epoch: 27000, Loss: 30.593738555908203\n",
      "Epoch: 28000, Loss: 30.421775817871094\n",
      "Epoch: 29000, Loss: 30.267719268798828\n"
     ]
    }
   ],
   "source": [
    "training_loop(n_epochs = 30000,\n",
    "              optimizer = optimizer,\n",
    "              loss_fn = loss_fn,\n",
    "              model=nn_model,\n",
    "              X = X,\n",
    "              y=y)"
   ]
  },
  {
   "cell_type": "code",
   "execution_count": 63,
   "id": "583cc8d4-33da-4995-b437-6c5cc5789737",
   "metadata": {},
   "outputs": [
    {
     "name": "stdout",
     "output_type": "stream",
     "text": [
      "layer1.weight Parameter containing:\n",
      "tensor([[-0.1217],\n",
      "        [ 0.3841],\n",
      "        [-0.0610],\n",
      "        [ 0.1743],\n",
      "        [ 0.9508]], requires_grad=True)\n",
      "layer1.bias Parameter containing:\n",
      "tensor([ 1.3953,  1.0211, -0.5116, -4.7346, -0.9415], requires_grad=True)\n",
      "layer2.weight Parameter containing:\n",
      "tensor([[-9.2805,  9.5134, -9.4364,  9.7027,  9.5418]], requires_grad=True)\n",
      "layer2.bias Parameter containing:\n",
      "tensor([9.1204], requires_grad=True)\n"
     ]
    }
   ],
   "source": [
    "for name, p in nn_model.named_parameters():\n",
    "    print(name,p)"
   ]
  },
  {
   "cell_type": "markdown",
   "id": "7e999fa1-8ff6-4c95-be49-7a50272dd376",
   "metadata": {},
   "source": [
    "### Let's compare our linear model with our small neural network"
   ]
  },
  {
   "cell_type": "code",
   "execution_count": 64,
   "id": "3107c826-8e04-4487-9a17-f1abed7e11b8",
   "metadata": {},
   "outputs": [
    {
     "data": {
      "text/plain": [
       "torch.Size([100, 1])"
      ]
     },
     "execution_count": 64,
     "metadata": {},
     "output_type": "execute_result"
    }
   ],
   "source": [
    "t_range = torch.arange(0,50,0.5).unsqueeze(1)\n",
    "t_range.shape"
   ]
  },
  {
   "cell_type": "code",
   "execution_count": 65,
   "id": "04190165-a30e-4bde-b3ad-fed1ae685cae",
   "metadata": {},
   "outputs": [],
   "source": [
    "lin_yhat = lin_model(t_range)\n",
    "nn_yhat = nn_model(t_range)"
   ]
  },
  {
   "cell_type": "code",
   "execution_count": 66,
   "id": "f0bdf262-5a74-441f-9825-32eb2c280f59",
   "metadata": {},
   "outputs": [
    {
     "data": {
      "text/plain": [
       "<matplotlib.legend.Legend at 0x7f385811c790>"
      ]
     },
     "execution_count": 66,
     "metadata": {},
     "output_type": "execute_result"
    },
    {
     "data": {
      "image/png": "[encoded data removed]",
      "text/plain": [
       "<Figure size 640x480 with 1 Axes>"
      ]
     },
     "metadata": {},
     "output_type": "display_data"
    }
   ],
   "source": [
    "plt.scatter(speed,rate)\n",
    "plt.plot(t_range.numpy(),nn_yhat.detach().numpy(),label=\"Neural network\")\n",
    "plt.plot(t_range.numpy(),lin_yhat.detach().numpy(),label=\"Linear model\")\n",
    "plt.xlabel(\"Running speed (cm/sec)\")\n",
    "plt.ylabel(\"Firing rate (Hz)\")\n",
    "plt.legend()"
   ]
  },
  {
   "cell_type": "markdown",
   "id": "bca0460b-a02c-4535-8a49-cc0ddb7a55f1",
   "metadata": {},
   "source": [
    "### Neural networks can model all sorts of functions\n",
    "\n",
    "Let's try our two models on some non-linear problems"
   ]
  },
  {
   "cell_type": "code",
   "execution_count": 67,
   "id": "9a6d73bf-6768-429d-81a2-7004844ef7b5",
   "metadata": {},
   "outputs": [
    {
     "name": "stdout",
     "output_type": "stream",
     "text": [
      "torch.Size([100, 1])\n"
     ]
    }
   ],
   "source": [
    "X = torch.arange(0,10,0.1).unsqueeze(1)\n",
    "print(X.shape)\n",
    "y = torch.sin(X)*4 + torch.randn(100, 1)"
   ]
  },
  {
   "cell_type": "code",
   "execution_count": 68,
   "id": "86905410-007d-417f-a5be-8e4a2f7f09b3",
   "metadata": {},
   "outputs": [
    {
     "data": {
      "text/plain": [
       "<matplotlib.collections.PathCollection at 0x7f3858052490>"
      ]
     },
     "execution_count": 68,
     "metadata": {},
     "output_type": "execute_result"
    },
    {
     "data": {
      "image/png": "[encoded data removed]",
      "text/plain": [
       "<Figure size 640x480 with 1 Axes>"
      ]
     },
     "metadata": {},
     "output_type": "display_data"
    }
   ],
   "source": [
    "plt.scatter(X.numpy(),y.numpy())"
   ]
  },
  {
   "cell_type": "code",
   "execution_count": 69,
   "id": "e241ff15-770b-48b7-bc57-129371a2fb23",
   "metadata": {},
   "outputs": [
    {
     "name": "stdout",
     "output_type": "stream",
     "text": [
      "Epoch: 0, Loss: 313.0195007324219\n",
      "Epoch: 1, Loss: 20.713672637939453\n",
      "Epoch: 2, Loss: 17.930566787719727\n",
      "Epoch: 3, Loss: 15.688132286071777\n",
      "Epoch: 4, Loss: 13.870314598083496\n",
      "Epoch: 5, Loss: 12.393712997436523\n",
      "Epoch: 6, Loss: 11.195788383483887\n",
      "Epoch: 7, Loss: 10.227682113647461\n",
      "Epoch: 8, Loss: 9.449809074401855\n",
      "Epoch: 9, Loss: 8.829096794128418\n",
      "Epoch: 1000, Loss: 5.133082866668701\n",
      "Epoch: 2000, Loss: 4.6006317138671875\n",
      "Epoch: 3000, Loss: 3.865853786468506\n",
      "Epoch: 4000, Loss: 3.254688024520874\n",
      "Epoch: 5000, Loss: 3.002492904663086\n",
      "Epoch: 6000, Loss: 2.8843188285827637\n",
      "Epoch: 7000, Loss: 2.812387704849243\n",
      "Epoch: 8000, Loss: 2.760122060775757\n",
      "Epoch: 9000, Loss: 2.7161331176757812\n",
      "Epoch: 10000, Loss: 2.6752820014953613\n",
      "Epoch: 11000, Loss: 2.635413408279419\n",
      "Epoch: 12000, Loss: 2.5960824489593506\n",
      "Epoch: 13000, Loss: 2.557698965072632\n",
      "Epoch: 14000, Loss: 2.5212607383728027\n",
      "Epoch: 15000, Loss: 2.4877676963806152\n",
      "Epoch: 16000, Loss: 2.4578697681427\n",
      "Epoch: 17000, Loss: 2.4317479133605957\n",
      "Epoch: 18000, Loss: 2.409182548522949\n",
      "Epoch: 19000, Loss: 2.3897509574890137\n",
      "Epoch: 20000, Loss: 2.3729522228240967\n",
      "Epoch: 21000, Loss: 2.35830020904541\n",
      "Epoch: 22000, Loss: 2.345358371734619\n",
      "Epoch: 23000, Loss: 2.3337395191192627\n",
      "Epoch: 24000, Loss: 2.323126792907715\n",
      "Epoch: 25000, Loss: 2.3132240772247314\n",
      "Epoch: 26000, Loss: 2.303798198699951\n",
      "Epoch: 27000, Loss: 2.294631242752075\n",
      "Epoch: 28000, Loss: 2.2854866981506348\n",
      "Epoch: 29000, Loss: 2.2761406898498535\n",
      "Epoch: 30000, Loss: 2.266319513320923\n",
      "Epoch: 31000, Loss: 2.2557168006896973\n",
      "Epoch: 32000, Loss: 2.2439069747924805\n",
      "Epoch: 33000, Loss: 2.2303099632263184\n",
      "Epoch: 34000, Loss: 2.2140326499938965\n",
      "Epoch: 35000, Loss: 2.193765640258789\n",
      "Epoch: 36000, Loss: 2.167509078979492\n",
      "Epoch: 37000, Loss: 2.132500648498535\n",
      "Epoch: 38000, Loss: 2.4202094078063965\n",
      "Epoch: 39000, Loss: 2.323328971862793\n"
     ]
    }
   ],
   "source": [
    "learning_rate=0.001\n",
    "optimizer = optim.SGD(nn_model.parameters(),lr=learning_rate)\n",
    "training_loop(n_epochs = 40000,\n",
    "              optimizer = optimizer,\n",
    "              loss_fn = loss_fn,\n",
    "              model=nn_model,\n",
    "              X = X,\n",
    "              y=y)"
   ]
  },
  {
   "cell_type": "code",
   "execution_count": 70,
   "id": "3d8a2914-091c-41e3-8feb-6d04d9aabedc",
   "metadata": {},
   "outputs": [
    {
     "name": "stdout",
     "output_type": "stream",
     "text": [
      "Epoch: 0, Loss: 273.388671875\n",
      "Epoch: 1, Loss: 241.46095275878906\n",
      "Epoch: 2, Loss: 213.6760711669922\n",
      "Epoch: 3, Loss: 189.49615478515625\n",
      "Epoch: 4, Loss: 168.45310974121094\n",
      "Epoch: 5, Loss: 150.13970947265625\n",
      "Epoch: 6, Loss: 134.2014617919922\n",
      "Epoch: 7, Loss: 120.3301010131836\n",
      "Epoch: 8, Loss: 108.25720977783203\n",
      "Epoch: 9, Loss: 97.74931335449219\n",
      "Epoch: 1000, Loss: 15.217514991760254\n",
      "Epoch: 2000, Loss: 10.617217063903809\n",
      "Epoch: 3000, Loss: 8.912283897399902\n",
      "Epoch: 4000, Loss: 8.280413627624512\n",
      "Epoch: 5000, Loss: 8.046236038208008\n",
      "Epoch: 6000, Loss: 7.959446907043457\n",
      "Epoch: 7000, Loss: 7.927281379699707\n",
      "Epoch: 8000, Loss: 7.915359973907471\n",
      "Epoch: 9000, Loss: 7.910943031311035\n",
      "Epoch: 10000, Loss: 7.909305572509766\n",
      "Epoch: 11000, Loss: 7.908698558807373\n",
      "Epoch: 12000, Loss: 7.908473491668701\n",
      "Epoch: 13000, Loss: 7.908390045166016\n",
      "Epoch: 14000, Loss: 7.908358573913574\n",
      "Epoch: 15000, Loss: 7.908348560333252\n",
      "Epoch: 16000, Loss: 7.908343315124512\n",
      "Epoch: 17000, Loss: 7.908341884613037\n",
      "Epoch: 18000, Loss: 7.9083404541015625\n",
      "Epoch: 19000, Loss: 7.9083404541015625\n",
      "Epoch: 20000, Loss: 7.908340930938721\n",
      "Epoch: 21000, Loss: 7.9083404541015625\n",
      "Epoch: 22000, Loss: 7.908340930938721\n",
      "Epoch: 23000, Loss: 7.9083404541015625\n",
      "Epoch: 24000, Loss: 7.9083404541015625\n",
      "Epoch: 25000, Loss: 7.9083404541015625\n",
      "Epoch: 26000, Loss: 7.9083404541015625\n",
      "Epoch: 27000, Loss: 7.9083404541015625\n",
      "Epoch: 28000, Loss: 7.9083404541015625\n",
      "Epoch: 29000, Loss: 7.9083404541015625\n",
      "Epoch: 30000, Loss: 7.9083404541015625\n",
      "Epoch: 31000, Loss: 7.9083404541015625\n",
      "Epoch: 32000, Loss: 7.9083404541015625\n",
      "Epoch: 33000, Loss: 7.9083404541015625\n",
      "Epoch: 34000, Loss: 7.9083404541015625\n",
      "Epoch: 35000, Loss: 7.9083404541015625\n",
      "Epoch: 36000, Loss: 7.9083404541015625\n",
      "Epoch: 37000, Loss: 7.9083404541015625\n",
      "Epoch: 38000, Loss: 7.9083404541015625\n",
      "Epoch: 39000, Loss: 7.9083404541015625\n"
     ]
    }
   ],
   "source": [
    "learning_rate=0.001\n",
    "optimizer = optim.SGD(lin_model.parameters(),lr=learning_rate)\n",
    "training_loop(n_epochs = 40000,\n",
    "              optimizer = optimizer,\n",
    "              loss_fn = loss_fn,\n",
    "              model=lin_model,\n",
    "              X = X,\n",
    "              y=y)"
   ]
  },
  {
   "cell_type": "code",
   "execution_count": 71,
   "id": "8d5c7e0b-bbea-46d7-9096-ce81047692f4",
   "metadata": {},
   "outputs": [
    {
     "data": {
      "text/plain": [
       "torch.Size([50, 1])"
      ]
     },
     "execution_count": 71,
     "metadata": {},
     "output_type": "execute_result"
    }
   ],
   "source": [
    "t_range = torch.arange(0,10,0.2).unsqueeze(1)\n",
    "t_range.shape"
   ]
  },
  {
   "cell_type": "code",
   "execution_count": 72,
   "id": "f847e5c8-cbb8-4370-803b-10521e36f2a0",
   "metadata": {},
   "outputs": [],
   "source": [
    "lin_yhat = lin_model(t_range)\n",
    "nn_yhat = nn_model(t_range)"
   ]
  },
  {
   "cell_type": "code",
   "execution_count": 73,
   "id": "9603953d-d1fa-4a2f-ae34-d190a21c760d",
   "metadata": {},
   "outputs": [
    {
     "data": {
      "text/plain": [
       "<matplotlib.legend.Legend at 0x7f385802a970>"
      ]
     },
     "execution_count": 73,
     "metadata": {},
     "output_type": "execute_result"
    },
    {
     "data": {
      "image/png": "[encoded data removed]",
      "text/plain": [
       "<Figure size 640x480 with 1 Axes>"
      ]
     },
     "metadata": {},
     "output_type": "display_data"
    }
   ],
   "source": [
    "plt.scatter(X.numpy(),y.numpy())\n",
    "plt.plot(t_range.numpy(),nn_yhat.detach().numpy(),label=\"Neural network\")\n",
    "plt.plot(t_range.numpy(),lin_yhat.detach().numpy(),label=\"Linear model\")\n",
    "plt.xlabel(\"Running speed (cm/sec)\")\n",
    "plt.ylabel(\"Firing rate (Hz)\")\n",
    "plt.legend()"
   ]
  },
  {
   "cell_type": "markdown",
   "id": "11bf39e5-0064-43d8-b4d1-c3dff1cf8804",
   "metadata": {},
   "source": [
    "The non-linearity in the artifical neurons makes it possible to fit all sorts of function.\n",
    "\n",
    "Here, the neural network is a better approximation of the underlying data. "
   ]
  },
  {
   "cell_type": "markdown",
   "id": "78fe7fd9-712b-4254-9b84-552597df8636",
   "metadata": {},
   "source": [
    "## Exercise\n",
    "\n",
    "### Improve our neural network model\n",
    "\n",
    "Our neural network is good but it is not perfect. \n",
    "\n",
    "How could you modify this model to make it fit the data more closely?\n",
    "\n",
    "Have a go at trying to improve its predictions."
   ]
  },
  {
   "cell_type": "code",
   "execution_count": null,
   "id": "c45f2fa6-99a3-4549-9e67-e7da61f4600b",
   "metadata": {},
   "outputs": [],
   "source": []
  },
  {
   "cell_type": "markdown",
   "id": "06cdb4cc-c901-4dc1-9f11-5a94f1e8e5ff",
   "metadata": {},
   "source": [
    "## Adding more hidden layers to create a deep neural network\n",
    "\n",
    "**Deep neural networks** have several hidden layers.\n",
    "\n",
    "* The output of the first layer have a shape similar to the activiation function.\n",
    "* The next level can combine the inputs of the first layers to create more complex functions.\n"
   ]
  },
  {
   "cell_type": "code",
   "execution_count": 89,
   "id": "efafd3b5-a97c-4025-9457-e26891238f97",
   "metadata": {},
   "outputs": [
    {
     "data": {
      "text/plain": [
       "Text(0, 0.5, 'output')"
      ]
     },
     "execution_count": 89,
     "metadata": {},
     "output_type": "execute_result"
    },
    {
     "data": {
      "image/png": "[encoded data removed]",
      "text/plain": [
       "<Figure size 900x300 with 3 Axes>"
      ]
     },
     "metadata": {},
     "output_type": "display_data"
    }
   ],
   "source": [
    "nrow=1\n",
    "ncol=3\n",
    "fig, ax = plt.subplots(nrow,ncol,figsize=(9,3),layout='constrained')\n",
    "\n",
    "XX = np.linspace(-4,4) # input\n",
    "      \n",
    "# \n",
    "w1=1.25\n",
    "b1=1.0                \n",
    "ax[0].plot(XX,np.tanh(w1*XX+b1))\n",
    "ax[0].set_title(\"Neuron 1 of layer 1\")\n",
    "ax[0].set_xlabel(\"input\")\n",
    "ax[0].set_ylabel(\"output\")\n",
    "\n",
    "w2=-2\n",
    "b2=1.5\n",
    "ax[1].plot(XX,np.tanh(w2*XX+b2))\n",
    "ax[1].set_title(\"Neuron 2 of layer 1\")\n",
    "ax[1].set_xlabel(\"input\")\n",
    "ax[1].set_ylabel(\"output\")\n",
    "\n",
    "w3=[2,1]\n",
    "b3=2\n",
    "ax[2].plot(XX,w3[0]*np.tanh(w1*XX+b1)+ w3[1]*np.tanh(w2*XX+b2))\n",
    "ax[2].set_title(\"Neuron 1 of layer 2\\n(inputs from layer 1)\")\n",
    "ax[2].set_xlabel(\"input\")\n",
    "ax[2].set_ylabel(\"output\")"
   ]
  },
  {
   "cell_type": "code",
   "execution_count": 75,
   "id": "ec5d3113-e155-4626-abd1-18c1ae90961e",
   "metadata": {},
   "outputs": [],
   "source": [
    "class DNN_model(nn.Module):\n",
    "    \"\"\"\n",
    "    Class to create pytorch model. This is a neural network because of the non-linear function.\n",
    "    \"\"\"\n",
    "    def __init__(self):\n",
    "        \"\"\"\n",
    "        Initializer. Runs when an object is created\n",
    "        \"\"\"\n",
    "        super().__init__()\n",
    "        self.layer1 = nn.Linear(in_features=1, out_features=10, bias=True)\n",
    "        self.layer2 = nn.Linear(in_features=10, out_features=10, bias=True)\n",
    "        self.layer3 = nn.Linear(in_features=10, out_features=1, bias=True)\n",
    "        self.tanh = nn.Tanh()\n",
    "        \n",
    "        \n",
    "    def forward(self,x):\n",
    "        \"\"\"\n",
    "        Make predictions with our model\n",
    "        \"\"\"\n",
    "        out = self.tanh(self.layer1(x))\n",
    "        out = self.tanh(self.layer2(out))\n",
    "        out = self.layer3(out)\n",
    "        \n",
    "        return out"
   ]
  },
  {
   "cell_type": "code",
   "execution_count": 76,
   "id": "ba178164-9504-4478-b7c6-5b7d8ebd8ce3",
   "metadata": {},
   "outputs": [],
   "source": [
    "dnn_model = DNN_model()"
   ]
  },
  {
   "cell_type": "code",
   "execution_count": 77,
   "id": "c0785436-0445-443e-a795-2b13e4ba5345",
   "metadata": {},
   "outputs": [
    {
     "name": "stdout",
     "output_type": "stream",
     "text": [
      "layer1.weight Parameter containing:\n",
      "tensor([[ 0.8691],\n",
      "        [ 0.2311],\n",
      "        [ 0.7053],\n",
      "        [ 0.4729],\n",
      "        [-0.0773],\n",
      "        [-0.8830],\n",
      "        [ 0.2412],\n",
      "        [-0.3003],\n",
      "        [-0.8911],\n",
      "        [-0.3012]], requires_grad=True)\n",
      "layer1.bias Parameter containing:\n",
      "tensor([-0.9048, -0.9737,  0.2754,  0.0515,  0.4312, -0.1751, -0.3603,  0.6847,\n",
      "        -0.9713,  0.4284], requires_grad=True)\n",
      "layer2.weight Parameter containing:\n",
      "tensor([[ 1.8190e-01,  1.9873e-01,  2.0952e-02, -2.9246e-01, -1.7676e-01,\n",
      "         -2.7466e-01,  1.1256e-01,  5.0946e-02, -1.9160e-03,  1.0860e-01],\n",
      "        [ 2.5316e-01, -1.1818e-01,  3.0392e-01,  2.5108e-01, -1.3811e-01,\n",
      "          1.2128e-01, -2.6449e-01,  1.6795e-01,  1.0652e-01, -1.3589e-01],\n",
      "        [-2.8717e-01,  4.1029e-02,  3.0473e-01, -1.4245e-01, -5.8465e-02,\n",
      "         -1.6240e-01, -2.7052e-01, -1.6696e-01,  1.3493e-01,  4.7516e-02],\n",
      "        [-2.4695e-01,  2.5481e-01,  5.9276e-02,  2.2617e-01, -2.7898e-01,\n",
      "          1.8198e-01, -1.6137e-01, -2.2359e-01,  9.2918e-02, -2.7480e-01],\n",
      "        [ 1.2126e-01, -4.3073e-04,  4.7432e-02, -1.1983e-01, -9.0881e-02,\n",
      "          1.1654e-01,  1.8087e-01, -1.2589e-01, -1.4505e-01, -2.6759e-01],\n",
      "        [ 2.3432e-02, -2.7493e-01,  1.6729e-01, -2.8023e-01,  6.1658e-02,\n",
      "          2.9641e-01, -4.6703e-02, -1.6107e-01,  2.1613e-01, -4.0900e-02],\n",
      "        [ 2.3776e-02, -1.4387e-01,  1.0313e-01,  2.5358e-01,  1.1936e-01,\n",
      "          2.8036e-01,  1.7637e-01, -3.1111e-01, -9.4448e-03,  6.0977e-02],\n",
      "        [ 9.1029e-02, -3.0085e-01,  3.0529e-01,  1.9567e-01,  3.3409e-02,\n",
      "          9.2421e-02,  2.5168e-02, -1.1863e-02,  1.1647e-01, -2.2174e-01],\n",
      "        [-1.1777e-01, -1.5334e-01, -2.2508e-01,  1.4369e-01, -2.1657e-04,\n",
      "          2.3609e-01,  7.4390e-02, -1.0638e-01, -2.9837e-01,  1.3512e-01],\n",
      "        [ 3.6260e-02, -1.9233e-01, -2.6852e-02, -1.0805e-01,  4.3621e-02,\n",
      "          3.0866e-01,  9.0448e-02, -2.3107e-01,  2.7826e-01, -1.9432e-01]],\n",
      "       requires_grad=True)\n",
      "layer2.bias Parameter containing:\n",
      "tensor([-0.0057,  0.1849,  0.1989,  0.0610,  0.0958,  0.2755, -0.2823,  0.1194,\n",
      "         0.1466, -0.3144], requires_grad=True)\n",
      "layer3.weight Parameter containing:\n",
      "tensor([[-0.1716,  0.2782, -0.0192, -0.1512,  0.0771, -0.1877,  0.1845,  0.1042,\n",
      "          0.2166,  0.2582]], requires_grad=True)\n",
      "layer3.bias Parameter containing:\n",
      "tensor([0.0397], requires_grad=True)\n"
     ]
    }
   ],
   "source": [
    "for name, p in dnn_model.named_parameters():\n",
    "    print(name,p)"
   ]
  },
  {
   "cell_type": "code",
   "execution_count": 78,
   "id": "95b49bb1-d1a2-4bb4-a042-a32b112422e7",
   "metadata": {},
   "outputs": [
    {
     "name": "stdout",
     "output_type": "stream",
     "text": [
      "Number of parameters: 141\n"
     ]
    }
   ],
   "source": [
    "print(\"Number of parameters:\", sum(p.numel() for p in dnn_model.parameters()))"
   ]
  },
  {
   "cell_type": "code",
   "execution_count": 79,
   "id": "5b27873b-b4a5-44cc-af55-1f8350b14883",
   "metadata": {},
   "outputs": [
    {
     "name": "stdout",
     "output_type": "stream",
     "text": [
      "Epoch: 0, Loss: 8.643122673034668\n",
      "Epoch: 1, Loss: 8.636844635009766\n",
      "Epoch: 2, Loss: 8.630643844604492\n",
      "Epoch: 3, Loss: 8.624516487121582\n",
      "Epoch: 4, Loss: 8.618461608886719\n",
      "Epoch: 5, Loss: 8.612478256225586\n",
      "Epoch: 6, Loss: 8.606566429138184\n",
      "Epoch: 7, Loss: 8.600724220275879\n",
      "Epoch: 8, Loss: 8.594949722290039\n",
      "Epoch: 9, Loss: 8.589244842529297\n",
      "Epoch: 1000, Loss: 7.137521266937256\n",
      "Epoch: 2000, Loss: 6.664769172668457\n",
      "Epoch: 3000, Loss: 6.4749650955200195\n",
      "Epoch: 4000, Loss: 6.291868686676025\n",
      "Epoch: 5000, Loss: 6.05290412902832\n",
      "Epoch: 6000, Loss: 5.526475429534912\n",
      "Epoch: 7000, Loss: 4.037363052368164\n",
      "Epoch: 8000, Loss: 3.0122039318084717\n",
      "Epoch: 9000, Loss: 2.64323353767395\n",
      "Epoch: 10000, Loss: 2.477410316467285\n",
      "Epoch: 11000, Loss: 2.3831374645233154\n",
      "Epoch: 12000, Loss: 2.32415771484375\n",
      "Epoch: 13000, Loss: 2.2851102352142334\n",
      "Epoch: 14000, Loss: 2.255967140197754\n",
      "Epoch: 15000, Loss: 2.0785038471221924\n",
      "Epoch: 16000, Loss: 1.9277423620224\n",
      "Epoch: 17000, Loss: 1.7557563781738281\n",
      "Epoch: 18000, Loss: 1.571565866470337\n",
      "Epoch: 19000, Loss: 1.6892434358596802\n",
      "Epoch: 20000, Loss: 1.6097683906555176\n",
      "Epoch: 21000, Loss: 1.5363578796386719\n",
      "Epoch: 22000, Loss: 1.469224214553833\n",
      "Epoch: 23000, Loss: 1.4086101055145264\n",
      "Epoch: 24000, Loss: 1.3541984558105469\n",
      "Epoch: 25000, Loss: 1.305426836013794\n",
      "Epoch: 26000, Loss: 1.2616326808929443\n",
      "Epoch: 27000, Loss: 1.2222168445587158\n",
      "Epoch: 28000, Loss: 1.1866742372512817\n",
      "Epoch: 29000, Loss: 1.1545785665512085\n",
      "Epoch: 30000, Loss: 1.1255687475204468\n",
      "Epoch: 31000, Loss: 1.0993292331695557\n",
      "Epoch: 32000, Loss: 1.0755723714828491\n",
      "Epoch: 33000, Loss: 1.0540260076522827\n",
      "Epoch: 34000, Loss: 1.0344659090042114\n",
      "Epoch: 35000, Loss: 1.0166469812393188\n",
      "Epoch: 36000, Loss: 1.0003665685653687\n",
      "Epoch: 37000, Loss: 0.9854317307472229\n",
      "Epoch: 38000, Loss: 0.9716672301292419\n",
      "Epoch: 39000, Loss: 0.9589250683784485\n"
     ]
    }
   ],
   "source": [
    "learning_rate=0.001\n",
    "optimizer = optim.SGD(dnn_model.parameters(),lr=learning_rate)\n",
    "training_loop(n_epochs = 40000,\n",
    "              optimizer = optimizer,\n",
    "              loss_fn = loss_fn,\n",
    "              model=dnn_model,\n",
    "              X = X,\n",
    "              y=y)"
   ]
  },
  {
   "cell_type": "code",
   "execution_count": 80,
   "id": "7633ae81-bdfc-47e8-9355-8cbadb4c97bc",
   "metadata": {},
   "outputs": [],
   "source": [
    "lin_yhat = lin_model(t_range)\n",
    "nn_yhat = nn_model(t_range)\n",
    "dnn_yhat = dnn_model(t_range)"
   ]
  },
  {
   "cell_type": "code",
   "execution_count": 81,
   "id": "c7334a6f-a936-4b96-863b-81d1f8d37d8c",
   "metadata": {},
   "outputs": [
    {
     "data": {
      "text/plain": [
       "<matplotlib.legend.Legend at 0x7f385160d730>"
      ]
     },
     "execution_count": 81,
     "metadata": {},
     "output_type": "execute_result"
    },
    {
     "data": {
      "image/png": "[encoded data removed]",
      "text/plain": [
       "<Figure size 640x480 with 1 Axes>"
      ]
     },
     "metadata": {},
     "output_type": "display_data"
    }
   ],
   "source": [
    "plt.scatter(X.numpy(),y.numpy())\n",
    "plt.plot(t_range.numpy(),nn_yhat.detach().numpy(),label=\"Neural network\")\n",
    "plt.plot(t_range.numpy(),dnn_yhat.detach().numpy(),label=\"Deep neural network\")\n",
    "plt.plot(t_range.numpy(),lin_yhat.detach().numpy(),label=\"Linear model\")\n",
    "plt.xlabel(\"Running speed (cm/sec)\")\n",
    "plt.ylabel(\"Firing rate (Hz)\")\n",
    "plt.legend()"
   ]
  },
  {
   "cell_type": "markdown",
   "id": "e00c98ee-c5bb-41ce-8b15-4b2229969941",
   "metadata": {},
   "source": [
    "# Exercise\n",
    "\n",
    "Train a neural network that would predict the firing rate of a neuron based on speed and acceleration."
   ]
  },
  {
   "cell_type": "code",
   "execution_count": null,
   "id": "b6b0a0d6-6a16-4520-9d51-b30f9afaa7ba",
   "metadata": {},
   "outputs": [],
   "source": []
  }
 ],
 "metadata": {
  "kernelspec": {
   "display_name": "Python 3",
   "language": "python",
   "name": "python3"
  },
  "language_info": {
   "codemirror_mode": {
    "name": "ipython",
    "version": 3
   },
   "file_extension": ".py",
   "mimetype": "text/x-python",
   "name": "python",
   "nbconvert_exporter": "python",
   "pygments_lexer": "ipython3",
   "version": "3.8.5"
  }
 },
 "nbformat": 4,
 "nbformat_minor": 5
}
