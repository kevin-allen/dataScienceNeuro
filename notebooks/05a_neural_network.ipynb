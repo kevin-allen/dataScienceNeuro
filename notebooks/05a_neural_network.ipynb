{
 "cells": [
  {
   "cell_type": "markdown",
   "id": "d9efad43-9376-4462-8230-65a9257e203f",
   "metadata": {},
   "source": [
    "# Week 5, Data science in Neuroscience\n",
    "\n",
    "\n",
    "## Plan for this week\n",
    "\n",
    "1. Introduction to pytorch\n",
    "2. Tensors\n",
    "3. Train a linear model with pytorch\n",
    "4. Train a simple neural network with pytorch\n",
    "5. A convolutional network to process images (second session)\n",
    "\n",
    "***\n",
    "## pytorch installation\n",
    "\n",
    "You will need to install the pytorch library to run the content of this notebook. There are instructions for installing pytorch on Windows computers [here](https://github.com/kevin-allen/dataScienceNeuro/blob/main/installation.md)\n",
    "\n",
    "Alternatively, you could use Google Colab to run the notebook. You will need to follow the instructions [here](https://github.com/kevin-allen/dataScienceNeuro/blob/main/colab.md) to load data files from Google Colab.  "
   ]
  },
  {
   "cell_type": "markdown",
   "id": "292609aa-be99-4315-a706-6db36b521119",
   "metadata": {},
   "source": [
    "*** \n",
    "## Deep neural networks\n",
    "\n",
    "* Mathematical entities capable of representing complicated functions through a composition of simpler functions.\n",
    "* Deep neural network have **multiple layers** between the input and output layers. \n",
    "* Each layer has several artificial neurons. \n",
    "* New data comes from the left, and calculations propagates towards the ouput layer.\n",
    "\n",
    "\n",
    "<div>\n",
    "<img src=\"../images/deep-neural-network.png\" width=\"500\"/>\n",
    "</div>\n",
    "\n",
    "\n"
   ]
  },
  {
   "cell_type": "markdown",
   "id": "cbbfe8fa-1e73-4ffb-a247-02b7703cd10f",
   "metadata": {},
   "source": [
    "***\n",
    "## Artificial neuron\n",
    "\n",
    "A **neuron** is the building block of the neural network.\n",
    "\n",
    "\n",
    "They do 3 things: \n",
    "* A linear transofrmation of the inputs\n",
    "* Adding a constant \n",
    "* Applying a fixed nonlinear function (activation fucntion)\n",
    "    \n",
    "The input can be a single value or a vector. The output can be a single value or a vector.\n",
    "***\n",
    "### Linear model \n",
    "\n",
    "<img src=\"../images/neuron_linear.png\" width=\"500\" align=\"center\">\n",
    "\n",
    "***\n",
    "\n",
    "### Artificial neuron\n",
    "\n",
    "\n",
    "\n",
    "<img src=\"../images/artificial_neuron.png\" width=\"500\" align=\"center\">"
   ]
  },
  {
   "cell_type": "markdown",
   "id": "77c602b6-ef2c-47d4-bfc0-edc6dfc8c6c9",
   "metadata": {},
   "source": [
    "***\n",
    "<div>\n",
    "<img src=\"../images/pytorch.png\" width=\"400\"/>\n",
    "</div>\n",
    "\n",
    "Pytorch is a Python library that facilitates building deep learning projects\n",
    "\n",
    "* Store data into Tensors (multidimensional arrays that are similar to NumPy arrays)\n",
    "* Allows fast calculations on dedicated hardware (GPUs)\n",
    "* Ability of tensors to keep track of the operations performed on them and to analytically compute derivatives\n",
    "* Classes to deal with datasets\n",
    "* Classes to simplify building deep neural networks"
   ]
  },
  {
   "cell_type": "markdown",
   "id": "9451fd19-97ab-4f96-bfa5-fdd3d4f06704",
   "metadata": {},
   "source": [
    "# Tensors\n",
    "\n",
    "pytorch tensors are very similar to NumPy arrays. They have 2 main advantages\n",
    "\n",
    "* Calculations can take place on accelerated hardware (e.g., GPU)\n",
    "* Can keep track of the graph of computations that created them (used to calculate derivatives) "
   ]
  },
  {
   "cell_type": "code",
   "execution_count": 1,
   "id": "75edf9c5-b4ea-404b-850c-a742d0c4dfbe",
   "metadata": {},
   "outputs": [],
   "source": [
    "import torch\n",
    "import numpy as np\n",
    "import matplotlib.pyplot as plt"
   ]
  },
  {
   "cell_type": "markdown",
   "id": "5d73e5f6-30db-426b-994e-25668f46409b",
   "metadata": {},
   "source": [
    "Creating tensors"
   ]
  },
  {
   "cell_type": "code",
   "execution_count": 2,
   "id": "84582524-415e-4085-b368-8affacdce948",
   "metadata": {},
   "outputs": [
    {
     "data": {
      "text/plain": [
       "tensor([1., 1., 1., 1., 1.])"
      ]
     },
     "execution_count": 2,
     "metadata": {},
     "output_type": "execute_result"
    }
   ],
   "source": [
    "torch.ones(5)"
   ]
  },
  {
   "cell_type": "code",
   "execution_count": 3,
   "id": "0514f17f-f61b-4a60-b625-7e8a31a3ac92",
   "metadata": {},
   "outputs": [
    {
     "data": {
      "text/plain": [
       "tensor([[0., 0., 0., 0.],\n",
       "        [0., 0., 0., 0.],\n",
       "        [0., 0., 0., 0.]])"
      ]
     },
     "execution_count": 3,
     "metadata": {},
     "output_type": "execute_result"
    }
   ],
   "source": [
    "torch.zeros(3,4)"
   ]
  },
  {
   "cell_type": "code",
   "execution_count": 4,
   "id": "c838a5a5-425c-4161-99d5-cc507ee10953",
   "metadata": {},
   "outputs": [
    {
     "data": {
      "text/plain": [
       "tensor([[1., 2.],\n",
       "        [3., 4.]])"
      ]
     },
     "execution_count": 4,
     "metadata": {},
     "output_type": "execute_result"
    }
   ],
   "source": [
    "a = torch.tensor([[1.0,2],[3,4]])\n",
    "a"
   ]
  },
  {
   "cell_type": "markdown",
   "id": "d461f2c6-7e17-4048-8011-2f9a34c78f0d",
   "metadata": {},
   "source": [
    "You can interrogate a tensor just like a NumPy array."
   ]
  },
  {
   "cell_type": "code",
   "execution_count": 5,
   "id": "3c75c040-cac0-418a-a5f4-c58520151d16",
   "metadata": {},
   "outputs": [
    {
     "name": "stdout",
     "output_type": "stream",
     "text": [
      "shape: torch.Size([2, 2])\n",
      "ndim: 2\n",
      "dtype: torch.float32\n"
     ]
    }
   ],
   "source": [
    "print(\"shape:\", a.shape)\n",
    "print(\"ndim:\", a.ndim)\n",
    "print(\"dtype:\", a.dtype)"
   ]
  },
  {
   "cell_type": "markdown",
   "id": "448f7b47-f6ad-48d9-acfa-bf434be1d029",
   "metadata": {},
   "source": [
    "You can generate random numbers with `torch.rand()`. You can change the shape of an array with `.reshape()`. Many of the mathematical functions of NumPy have a torch equivalent."
   ]
  },
  {
   "cell_type": "code",
   "execution_count": 6,
   "id": "8c8a2f41-d83c-4221-962f-240102ccf101",
   "metadata": {},
   "outputs": [
    {
     "data": {
      "text/plain": [
       "tensor([[0.4540, 0.4680, 0.2029, 0.3522, 0.0155, 0.3365],\n",
       "        [0.9257, 0.3383, 0.0771, 0.9630, 0.9393, 0.1701],\n",
       "        [0.4678, 0.3956, 0.8151, 0.5089, 0.4192, 0.0938],\n",
       "        [0.8366, 0.1114, 0.8026, 0.4169, 0.0702, 0.4735]])"
      ]
     },
     "execution_count": 6,
     "metadata": {},
     "output_type": "execute_result"
    }
   ],
   "source": [
    "b = torch.rand(24).reshape(4,6)\n",
    "b"
   ]
  },
  {
   "cell_type": "code",
   "execution_count": 7,
   "id": "c4a6c72d-57df-4a57-bada-5edadb3c8a55",
   "metadata": {},
   "outputs": [
    {
     "data": {
      "text/plain": [
       "torch.Size([4, 6])"
      ]
     },
     "execution_count": 7,
     "metadata": {},
     "output_type": "execute_result"
    }
   ],
   "source": [
    "b.shape"
   ]
  },
  {
   "cell_type": "code",
   "execution_count": 8,
   "id": "69ef7381-d380-4b6d-b771-c5b21c3149c1",
   "metadata": {},
   "outputs": [
    {
     "data": {
      "text/plain": [
       "tensor(0.4439)"
      ]
     },
     "execution_count": 8,
     "metadata": {},
     "output_type": "execute_result"
    }
   ],
   "source": [
    "b.mean()"
   ]
  },
  {
   "cell_type": "code",
   "execution_count": 9,
   "id": "0d1d291f-95c4-4193-890e-478ba80d4785",
   "metadata": {},
   "outputs": [
    {
     "data": {
      "text/plain": [
       "tensor([0.6711, 0.3283, 0.4744, 0.5603, 0.3611, 0.2685])"
      ]
     },
     "execution_count": 9,
     "metadata": {},
     "output_type": "execute_result"
    }
   ],
   "source": [
    "b.mean(axis=0)"
   ]
  },
  {
   "cell_type": "markdown",
   "id": "8390d942-335d-444c-9030-49d948a22c0c",
   "metadata": {},
   "source": [
    "We can add an extra dimension with a size of 1 using `.unsqueeze()`."
   ]
  },
  {
   "cell_type": "code",
   "execution_count": 10,
   "id": "47214dcb-f60b-44d2-af7d-d9b6aa2110e2",
   "metadata": {},
   "outputs": [
    {
     "data": {
      "text/plain": [
       "torch.Size([4, 6])"
      ]
     },
     "execution_count": 10,
     "metadata": {},
     "output_type": "execute_result"
    }
   ],
   "source": [
    "b.shape"
   ]
  },
  {
   "cell_type": "code",
   "execution_count": 11,
   "id": "40e72eba-6624-4ef2-872b-64a0da157a59",
   "metadata": {},
   "outputs": [
    {
     "data": {
      "text/plain": [
       "torch.Size([1, 4, 6])"
      ]
     },
     "execution_count": 11,
     "metadata": {},
     "output_type": "execute_result"
    }
   ],
   "source": [
    "b.unsqueeze(0).shape"
   ]
  },
  {
   "cell_type": "markdown",
   "id": "39a0a679-bbed-48f5-83ff-ea75155d809f",
   "metadata": {},
   "source": [
    "We can do broadcasting, just like with NumPy arrays.\n",
    "\n",
    "```\n",
    "When operating on two arrays, pytorch compares their shapes element-wise. It starts with the trailing (i.e. rightmost) dimensions and works its way left. Two dimensions are compatible when\n",
    "​\n",
    "* they are equal, or\n",
    "* one of them is 1\n",
    "```\n"
   ]
  },
  {
   "cell_type": "code",
   "execution_count": 12,
   "id": "44e6208a-2c00-46f2-978b-6798f43d87b0",
   "metadata": {},
   "outputs": [
    {
     "data": {
      "text/plain": [
       "torch.Size([4, 6])"
      ]
     },
     "execution_count": 12,
     "metadata": {},
     "output_type": "execute_result"
    }
   ],
   "source": [
    "b.shape"
   ]
  },
  {
   "cell_type": "code",
   "execution_count": 13,
   "id": "e0a826bd-eeea-45cb-8336-502fdc9eabe4",
   "metadata": {},
   "outputs": [
    {
     "data": {
      "text/plain": [
       "torch.Size([4])"
      ]
     },
     "execution_count": 13,
     "metadata": {},
     "output_type": "execute_result"
    }
   ],
   "source": [
    "a = torch.ones(4)\n",
    "a.shape"
   ]
  },
  {
   "cell_type": "code",
   "execution_count": 16,
   "id": "492c3216-1131-45c7-9b28-ca54774aba73",
   "metadata": {},
   "outputs": [],
   "source": [
    "#b+a"
   ]
  },
  {
   "cell_type": "markdown",
   "id": "fc253b48-e251-4fd9-8e20-6eb8cdf52613",
   "metadata": {},
   "source": [
    "We can add a dimension of size 1 with `.unsqeeze()`"
   ]
  },
  {
   "cell_type": "code",
   "execution_count": 17,
   "id": "78369733-b85f-4e21-b025-0d5edb277554",
   "metadata": {},
   "outputs": [
    {
     "data": {
      "text/plain": [
       "torch.Size([4, 1])"
      ]
     },
     "execution_count": 17,
     "metadata": {},
     "output_type": "execute_result"
    }
   ],
   "source": [
    "A = a.unsqueeze(1)\n",
    "A.shape"
   ]
  },
  {
   "cell_type": "code",
   "execution_count": 18,
   "id": "ad91fc62-727c-4004-a019-154423b33b4a",
   "metadata": {},
   "outputs": [
    {
     "data": {
      "text/plain": [
       "tensor([[1.4540, 1.4680, 1.2029, 1.3522, 1.0155, 1.3365],\n",
       "        [1.9257, 1.3383, 1.0771, 1.9630, 1.9393, 1.1701],\n",
       "        [1.4678, 1.3956, 1.8151, 1.5089, 1.4192, 1.0938],\n",
       "        [1.8366, 1.1114, 1.8026, 1.4169, 1.0702, 1.4735]])"
      ]
     },
     "execution_count": 18,
     "metadata": {},
     "output_type": "execute_result"
    }
   ],
   "source": [
    "b+A"
   ]
  },
  {
   "cell_type": "markdown",
   "id": "d6181d78-49bb-43ef-95dc-050c6c2c82e9",
   "metadata": {},
   "source": [
    "We can get rid of a dimension of size 1 with `.squeeze()`"
   ]
  },
  {
   "cell_type": "code",
   "execution_count": 19,
   "id": "62ffb900-53ff-48fc-9936-0b7b6844e8db",
   "metadata": {},
   "outputs": [
    {
     "data": {
      "text/plain": [
       "(torch.Size([4, 1]), torch.Size([4]))"
      ]
     },
     "execution_count": 19,
     "metadata": {},
     "output_type": "execute_result"
    }
   ],
   "source": [
    "A.shape, A.squeeze().shape"
   ]
  },
  {
   "cell_type": "markdown",
   "id": "fefcf269-ed33-4e72-9433-ea49274fd273",
   "metadata": {},
   "source": [
    "We can change the order of the dimensions in a tensor with `.permute()`"
   ]
  },
  {
   "cell_type": "code",
   "execution_count": 20,
   "id": "d480f06d-aa3c-40bc-a635-156abc045c6b",
   "metadata": {},
   "outputs": [
    {
     "data": {
      "text/plain": [
       "torch.Size([4, 6])"
      ]
     },
     "execution_count": 20,
     "metadata": {},
     "output_type": "execute_result"
    }
   ],
   "source": [
    "b.shape"
   ]
  },
  {
   "cell_type": "code",
   "execution_count": 21,
   "id": "63940f7e-a9b1-4df2-b353-06acf01d8a5e",
   "metadata": {},
   "outputs": [
    {
     "data": {
      "text/plain": [
       "tensor([[[0.0398, 0.8026, 0.0490, 0.4709, 0.5066, 0.1132],\n",
       "         [0.2051, 0.9254, 0.8075, 0.1708, 0.7945, 0.7001],\n",
       "         [0.3830, 0.4093, 0.5636, 0.8324, 0.9923, 0.6923],\n",
       "         [0.9821, 0.2175, 0.0445, 0.1468, 0.1133, 0.4550]],\n",
       "\n",
       "        [[0.6234, 0.4812, 0.1165, 0.5431, 0.7714, 0.1794],\n",
       "         [0.0701, 0.1981, 0.5205, 0.8489, 0.1271, 0.7646],\n",
       "         [0.3355, 0.5834, 0.0661, 0.6697, 0.5160, 0.7305],\n",
       "         [0.3428, 0.6008, 0.5480, 0.8154, 0.4873, 0.7741]],\n",
       "\n",
       "        [[0.7403, 0.0119, 0.9382, 0.0508, 0.4834, 0.1797],\n",
       "         [0.3602, 0.5741, 0.7889, 0.7383, 0.3270, 0.4125],\n",
       "         [0.5560, 0.8382, 0.2958, 0.0285, 0.2492, 0.9904],\n",
       "         [0.2336, 0.7518, 0.0771, 0.0444, 0.8523, 0.7658]]])"
      ]
     },
     "execution_count": 21,
     "metadata": {},
     "output_type": "execute_result"
    }
   ],
   "source": [
    "b = torch.rand(3*24).reshape(3,4,6)\n",
    "b"
   ]
  },
  {
   "cell_type": "code",
   "execution_count": 22,
   "id": "14217858-e57e-4400-9047-6fc61854913e",
   "metadata": {},
   "outputs": [
    {
     "data": {
      "text/plain": [
       "torch.Size([3, 4, 6])"
      ]
     },
     "execution_count": 22,
     "metadata": {},
     "output_type": "execute_result"
    }
   ],
   "source": [
    "b.shape"
   ]
  },
  {
   "cell_type": "code",
   "execution_count": 23,
   "id": "df280f0d-bd7a-4c4b-a1ed-64b5cba9c8f9",
   "metadata": {},
   "outputs": [
    {
     "data": {
      "text/plain": [
       "torch.Size([4, 6, 3])"
      ]
     },
     "execution_count": 23,
     "metadata": {},
     "output_type": "execute_result"
    }
   ],
   "source": [
    "b = b.permute(1,2,0)\n",
    "b.shape"
   ]
  },
  {
   "cell_type": "markdown",
   "id": "9e5d5cbe-d3e2-43c6-b502-7ae1d0c3879f",
   "metadata": {},
   "source": [
    "### Moving tensors to the GPU\n",
    "\n",
    "Once you moved your tensors to the GPU, calculations on these tensors will be performed on the GPU. "
   ]
  },
  {
   "cell_type": "code",
   "execution_count": 24,
   "id": "7da9ab7d-fc5c-49e0-944d-ff30497baac6",
   "metadata": {},
   "outputs": [
    {
     "data": {
      "text/plain": [
       "tensor([0.8919, 0.7896, 0.1187, 0.0227, 0.2931, 0.4844, 0.9927, 0.7265, 0.5092,\n",
       "        0.3388])"
      ]
     },
     "execution_count": 24,
     "metadata": {},
     "output_type": "execute_result"
    }
   ],
   "source": [
    "b = torch.rand(10)\n",
    "b"
   ]
  },
  {
   "cell_type": "code",
   "execution_count": 25,
   "id": "894ffad4-2610-48bd-927f-ad765580c743",
   "metadata": {},
   "outputs": [
    {
     "data": {
      "text/plain": [
       "False"
      ]
     },
     "execution_count": 25,
     "metadata": {},
     "output_type": "execute_result"
    }
   ],
   "source": [
    "torch.cuda.is_available()"
   ]
  },
  {
   "cell_type": "code",
   "execution_count": 26,
   "id": "0fa87b3e-317b-4cd5-99f0-14da73151328",
   "metadata": {},
   "outputs": [
    {
     "name": "stdout",
     "output_type": "stream",
     "text": [
      "Using device: cpu\n",
      "\n"
     ]
    }
   ],
   "source": [
    "device = torch.device('cuda' if torch.cuda.is_available() else 'cpu')\n",
    "print('Using device:', device)\n",
    "print()"
   ]
  },
  {
   "cell_type": "code",
   "execution_count": 27,
   "id": "abc4789e-d400-47c9-a078-ff796b09a7da",
   "metadata": {},
   "outputs": [
    {
     "data": {
      "text/plain": [
       "tensor([0.8919, 0.7896, 0.1187, 0.0227, 0.2931, 0.4844, 0.9927, 0.7265, 0.5092,\n",
       "        0.3388])"
      ]
     },
     "execution_count": 27,
     "metadata": {},
     "output_type": "execute_result"
    }
   ],
   "source": [
    "b"
   ]
  },
  {
   "cell_type": "code",
   "execution_count": 28,
   "id": "25a754df-d114-4944-a87f-c2d59a1a6840",
   "metadata": {},
   "outputs": [],
   "source": [
    "b = b.to(device)"
   ]
  },
  {
   "cell_type": "code",
   "execution_count": 29,
   "id": "e6e12002-bd6f-4577-b2ea-ce7eb7e6efde",
   "metadata": {},
   "outputs": [
    {
     "data": {
      "text/plain": [
       "tensor([0.8919, 0.7896, 0.1187, 0.0227, 0.2931, 0.4844, 0.9927, 0.7265, 0.5092,\n",
       "        0.3388])"
      ]
     },
     "execution_count": 29,
     "metadata": {},
     "output_type": "execute_result"
    }
   ],
   "source": [
    "b"
   ]
  },
  {
   "cell_type": "code",
   "execution_count": 30,
   "id": "088f08ba-337f-4721-94f8-50d740de9e94",
   "metadata": {},
   "outputs": [
    {
     "data": {
      "text/plain": [
       "tensor([0.8919, 0.7896, 0.1187, 0.0227, 0.2931, 0.4844, 0.9927, 0.7265, 0.5092,\n",
       "        0.3388])"
      ]
     },
     "execution_count": 30,
     "metadata": {},
     "output_type": "execute_result"
    }
   ],
   "source": [
    "b = b.to(\"cpu\")\n",
    "b"
   ]
  },
  {
   "cell_type": "code",
   "execution_count": 31,
   "id": "a89747d8-4413-454e-bb94-61d6b0768418",
   "metadata": {},
   "outputs": [],
   "source": [
    "#b = b.to(\"cuda\")\n",
    "#b"
   ]
  },
  {
   "cell_type": "markdown",
   "id": "236e590f-c384-4ea6-8034-1c56da08fec2",
   "metadata": {},
   "source": [
    "## From pytorch tensors to NumPy arrays and back\n",
    "\n",
    "You can go between tensors and NumPy arrays using `torch.from_numpy()` and `myTensor.numpy()`"
   ]
  },
  {
   "cell_type": "code",
   "execution_count": 32,
   "id": "ccd6ab34-b963-497e-9690-23871a6b7566",
   "metadata": {},
   "outputs": [
    {
     "name": "stdout",
     "output_type": "stream",
     "text": [
      "<class 'torch.Tensor'>\n",
      "<class 'numpy.ndarray'>\n"
     ]
    }
   ],
   "source": [
    "points_pt = torch.tensor([2,3,4])\n",
    "print(type(points_pt))\n",
    "points_np = points_pt.numpy()\n",
    "print(type(points_np))"
   ]
  },
  {
   "cell_type": "code",
   "execution_count": 33,
   "id": "c9ed2828-5751-4509-867a-fdaa33747422",
   "metadata": {},
   "outputs": [
    {
     "data": {
      "text/plain": [
       "tensor([1, 2, 3, 4])"
      ]
     },
     "execution_count": 33,
     "metadata": {},
     "output_type": "execute_result"
    }
   ],
   "source": [
    "a = np.array([1,2,3,4])\n",
    "torch.from_numpy(a)"
   ]
  },
  {
   "cell_type": "markdown",
   "id": "6101da6d-d3e9-42c2-bdc6-6b5e81c5d47c",
   "metadata": {},
   "source": [
    "***\n",
    "# Training a linear model using pytorch\n",
    "\n",
    "We will recreate our machine learning example of week 2 using pytorch.\n",
    "\n",
    "We want to predict the firing rate of a neuron from the running speed of the animal.\n"
   ]
  },
  {
   "cell_type": "code",
   "execution_count": 34,
   "id": "859ea102-0904-4adf-bcbf-41931c8fd30f",
   "metadata": {},
   "outputs": [],
   "source": [
    "fn = \"../data/animal_speed.npy\""
   ]
  },
  {
   "cell_type": "code",
   "execution_count": 35,
   "id": "b1d95614-1503-434c-a760-d1e8978a46bf",
   "metadata": {},
   "outputs": [],
   "source": [
    "speed = np.load(fn)\n",
    "speed = speed[0:100]"
   ]
  },
  {
   "cell_type": "code",
   "execution_count": 36,
   "id": "d650d561-153c-4c2f-af9e-90c005d7e534",
   "metadata": {},
   "outputs": [],
   "source": [
    "w = 1.25 # weight (slope)\n",
    "b = 10 # bias (intercept)\n",
    "np.random.seed(0)\n",
    "e = np.random.normal(loc=0.0, scale=5, size = speed.shape[0]) # random numbers taken from a normal distribution\n",
    "\n",
    "rate = speed* w + b + e # simulate the firing rate\n",
    "rate = np.maximum(0, rate) # eliminate the negative firing rates"
   ]
  },
  {
   "cell_type": "code",
   "execution_count": 37,
   "id": "a02f063c-2d56-4441-846a-62b7e2079401",
   "metadata": {},
   "outputs": [
    {
     "data": {
      "text/plain": [
       "Text(0, 0.5, 'Firing rate (Hz)')"
      ]
     },
     "execution_count": 37,
     "metadata": {},
     "output_type": "execute_result"
    },
    {
     "data": {
      "image/png": "[encoded data removed]",
      "text/plain": [
       "<Figure size 640x480 with 1 Axes>"
      ]
     },
     "metadata": {},
     "output_type": "display_data"
    }
   ],
   "source": [
    "plt.scatter(speed,rate)\n",
    "plt.xlabel(\"Running speed (cm/sec)\")\n",
    "plt.ylabel(\"Firing rate (Hz)\")"
   ]
  },
  {
   "cell_type": "markdown",
   "id": "8030a6ad-bc95-492f-b375-a1e8540e7fc1",
   "metadata": {},
   "source": [
    "### Create a model with pytorch\n",
    "\n",
    "We will recreate our **linear regression model** using pytorch. \n",
    "\n",
    "\n",
    "$yhat = b+ w*X$\n",
    "\n",
    "\n",
    "<img src=\"../images/neuron_linear.png\" width=\"500\" align=\"center\">\n",
    "\n",
    "https://pytorch.org/docs/stable/generated/torch.nn.Linear.html\n",
    "\n",
    "This is **not a neural network**, but a linear model."
   ]
  },
  {
   "cell_type": "code",
   "execution_count": 39,
   "id": "f73636be-22e9-4829-a6bf-3414bc4a3403",
   "metadata": {},
   "outputs": [],
   "source": [
    "import torch.nn as nn\n",
    "\n",
    "class Lin_model(nn.Module):\n",
    "    \"\"\"\n",
    "    Class to create pytorch model.\n",
    "    \"\"\"\n",
    "    def __init__(self):\n",
    "        \"\"\"\n",
    "        Initializer. Runs when an object is created\n",
    "        \"\"\"\n",
    "        super().__init__()\n",
    "        self.linLayer = nn.Linear(in_features=1, out_features=1, bias=True)\n",
    "    def forward(self,x):\n",
    "        \"\"\"\n",
    "        Make predictions with our model\n",
    "        \"\"\"\n",
    "        out = self.linLayer(x)\n",
    "        return out"
   ]
  },
  {
   "cell_type": "markdown",
   "id": "79327e12-8f15-453b-9f75-e41537d8b72c",
   "metadata": {},
   "source": [
    "We define our model using a class that inherits from `nn.Module`.\n",
    "\n",
    "We will use a similar class definition for more complex models."
   ]
  },
  {
   "cell_type": "code",
   "execution_count": 40,
   "id": "937f7ddc-398b-4403-b643-fb9f8ec27fbc",
   "metadata": {},
   "outputs": [],
   "source": [
    "lin_model = Lin_model() # create model from our class definition"
   ]
  },
  {
   "cell_type": "markdown",
   "id": "8d3c5d0a-8527-46d1-8c81-4b0fcb45b509",
   "metadata": {},
   "source": [
    "The parameters of the models are created automatically when creating the model.\n",
    "\n",
    "We can use this for loop to print the parameters."
   ]
  },
  {
   "cell_type": "code",
   "execution_count": 41,
   "id": "6879c34a-7687-41ce-992d-0d3d6cc990d8",
   "metadata": {},
   "outputs": [
    {
     "name": "stdout",
     "output_type": "stream",
     "text": [
      "linLayer.weight Parameter containing:\n",
      "tensor([[0.2412]], requires_grad=True)\n",
      "linLayer.bias Parameter containing:\n",
      "tensor([0.5827], requires_grad=True)\n"
     ]
    }
   ],
   "source": [
    "for name,p in lin_model.named_parameters():\n",
    "    print(name, p)"
   ]
  },
  {
   "cell_type": "code",
   "execution_count": 42,
   "id": "71ba443c-93f0-4c87-ad5a-bf68997d5590",
   "metadata": {},
   "outputs": [
    {
     "name": "stdout",
     "output_type": "stream",
     "text": [
      "Number of parameters: 2\n"
     ]
    }
   ],
   "source": [
    "print(\"Number of parameters:\", sum(p.numel() for p in lin_model.parameters()))"
   ]
  },
  {
   "cell_type": "markdown",
   "id": "3e4586fe-47d2-47f9-9a90-91f6a9c1a850",
   "metadata": {},
   "source": [
    "### Loss function"
   ]
  },
  {
   "cell_type": "markdown",
   "id": "e68936a2-f7ae-4e44-839f-a186721229d1",
   "metadata": {},
   "source": [
    "pytorch has built-in loss functions that we can use in our training loop. We will use the mean squared error (MSE)."
   ]
  },
  {
   "cell_type": "code",
   "execution_count": 43,
   "id": "296a69ec-42ab-4c0d-8dce-b5f582ec9bdf",
   "metadata": {},
   "outputs": [],
   "source": [
    "# loss function returning MSE\n",
    "loss_fn = torch.nn.MSELoss()"
   ]
  },
  {
   "cell_type": "markdown",
   "id": "28484fc5-dd93-4e3c-9d32-30c6f351a307",
   "metadata": {},
   "source": [
    "### pytorch optimizers\n",
    "\n",
    "Optimizers are used to change our model parameters during learning.\n",
    "\n",
    "There are several optimization strategies and tricks that can improve learning. \n",
    "\n",
    "There are more important when building deep neural networks than for linear regression models.\n",
    "\n",
    "Let's see how to use the SGD optimizer."
   ]
  },
  {
   "cell_type": "code",
   "execution_count": 44,
   "id": "8d2538f9-e68f-4dc0-8bec-84e3e2cfd91b",
   "metadata": {},
   "outputs": [],
   "source": [
    "import torch.optim as optim"
   ]
  },
  {
   "cell_type": "code",
   "execution_count": 45,
   "id": "05904662-357f-4eb8-8925-caccc6eb402c",
   "metadata": {},
   "outputs": [],
   "source": [
    "learning_rate = 0.001\n",
    "optimizer = optim.SGD(lin_model.parameters(),lr=learning_rate)"
   ]
  },
  {
   "cell_type": "markdown",
   "id": "34716493-4af0-435d-9700-047978cd3d02",
   "metadata": {},
   "source": [
    "## Data format for our model\n",
    "\n",
    "* X: input data\n",
    "* y: labels or values that we want to predict\n",
    "\n",
    "\n",
    "We need to store them in `tensors`.\n",
    "\n",
    "X: Input data, the first dimension (rows) is for the observations. The second dimension is for features. We only have 1 input feature (speed), so the second dimension will have a size of 1.\n",
    "\n",
    "y: The first dimension (rows) is for the observations. The second is for the output features. In this case, we have one output feature (firing rate)"
   ]
  },
  {
   "cell_type": "code",
   "execution_count": 46,
   "id": "f83160fa-b063-4a66-a35b-eaa296847fd2",
   "metadata": {},
   "outputs": [],
   "source": [
    "X = torch.from_numpy(speed).unsqueeze(1).float()"
   ]
  },
  {
   "cell_type": "code",
   "execution_count": 47,
   "id": "cd01df09-a3f2-4e90-ae45-400d2351bde0",
   "metadata": {},
   "outputs": [
    {
     "data": {
      "text/plain": [
       "torch.Size([100, 1])"
      ]
     },
     "execution_count": 47,
     "metadata": {},
     "output_type": "execute_result"
    }
   ],
   "source": [
    "X.shape"
   ]
  },
  {
   "cell_type": "code",
   "execution_count": 48,
   "id": "ead28246-4bd4-4603-94d5-d6cdcc40b776",
   "metadata": {},
   "outputs": [
    {
     "data": {
      "text/plain": [
       "torch.Size([100, 1])"
      ]
     },
     "execution_count": 48,
     "metadata": {},
     "output_type": "execute_result"
    }
   ],
   "source": [
    "y = torch.from_numpy(rate).unsqueeze(1).float()\n",
    "y.shape"
   ]
  },
  {
   "cell_type": "markdown",
   "id": "088d2051-c80c-47cd-9f8c-ca8336e647ac",
   "metadata": {},
   "source": [
    "### One forward pass \n",
    "\n",
    "We now all our needed element to train our model.\n",
    "\n",
    "Before using our training loop, it is a good idea to run one forward pass outside of the for loop to identify potential problems.\n",
    "\n",
    "We run all the steps that will be in our training loop."
   ]
  },
  {
   "cell_type": "code",
   "execution_count": 49,
   "id": "53fcb5fc-f099-4359-ae91-0a183f761ed8",
   "metadata": {},
   "outputs": [
    {
     "name": "stdout",
     "output_type": "stream",
     "text": [
      "linLayer.weight Parameter containing:\n",
      "tensor([[0.2412]], requires_grad=True)\n",
      "linLayer.bias Parameter containing:\n",
      "tensor([0.5827], requires_grad=True)\n"
     ]
    }
   ],
   "source": [
    "for name,p in lin_model.named_parameters():\n",
    "    print(name,p)"
   ]
  },
  {
   "cell_type": "code",
   "execution_count": 50,
   "id": "a65d6a9d-e78d-476e-bdc9-5396340f1ae9",
   "metadata": {},
   "outputs": [],
   "source": [
    "yhat = lin_model(X)"
   ]
  },
  {
   "cell_type": "code",
   "execution_count": 51,
   "id": "e4c5d164-18bf-4894-9526-ba4a785572ad",
   "metadata": {},
   "outputs": [],
   "source": [
    "loss =  loss_fn(yhat,y)"
   ]
  },
  {
   "cell_type": "code",
   "execution_count": 52,
   "id": "13b7dc2b-5a55-4d15-a541-8d04a5033186",
   "metadata": {},
   "outputs": [],
   "source": [
    "optimizer.zero_grad() # zero the gradients"
   ]
  },
  {
   "cell_type": "code",
   "execution_count": 53,
   "id": "ac371ec2-2b6d-47d2-8f04-88c38e80ebd4",
   "metadata": {},
   "outputs": [],
   "source": [
    "loss.backward() # calculate gradients"
   ]
  },
  {
   "cell_type": "code",
   "execution_count": 54,
   "id": "6fedba28-965b-46e8-86bf-b8482a2309bc",
   "metadata": {},
   "outputs": [],
   "source": [
    "optimizer.step() # will change the model parameters to reduce the loss        "
   ]
  },
  {
   "cell_type": "code",
   "execution_count": 55,
   "id": "98409462-5621-4708-90b4-dc13b4778dd2",
   "metadata": {},
   "outputs": [
    {
     "name": "stdout",
     "output_type": "stream",
     "text": [
      "linLayer.weight Parameter containing:\n",
      "tensor([[1.3245]], requires_grad=True)\n",
      "linLayer.bias Parameter containing:\n",
      "tensor([0.6366], requires_grad=True)\n"
     ]
    }
   ],
   "source": [
    "for name,p in lin_model.named_parameters():\n",
    "    print(name,p)"
   ]
  },
  {
   "cell_type": "markdown",
   "id": "b3684a6f-2e33-43a6-885b-c18bf0605f93",
   "metadata": {},
   "source": [
    "### Training loop\n",
    "\n",
    "We want a generic training loop that will work in most situations."
   ]
  },
  {
   "cell_type": "code",
   "execution_count": 56,
   "id": "ff583d6d-269b-4c69-9337-34dbc3383d3c",
   "metadata": {},
   "outputs": [],
   "source": [
    "## training loop that will modify our parameters to minimize the loss function (MSE)\n",
    "def training_loop(n_epochs, optimizer, loss_fn, model, X,y):\n",
    "    for epoch in range (n_epochs):\n",
    "        \n",
    "        yhat = model(X) # make predictions\n",
    "        loss = loss_fn(yhat,y) # calculate the loss\n",
    "        optimizer.zero_grad() # zero the gradients of our model's parameters\n",
    "        loss.backward() # calculate gradients of the model's parameters\n",
    "        optimizer.step() # will change the model parameters to reduce the loss\n",
    "        \n",
    "        \n",
    "        if epoch % 1000 ==0 or epoch < 10:\n",
    "            print(\"Epoch: {}, Loss: {}\".format(epoch,loss))\n",
    "    return"
   ]
  },
  {
   "cell_type": "code",
   "execution_count": 57,
   "id": "ea233c1d-8358-4c8f-8c2e-73f0aee9c3b7",
   "metadata": {},
   "outputs": [
    {
     "name": "stdout",
     "output_type": "stream",
     "text": [
      "Epoch: 0, Loss: 96.40115356445312\n",
      "Epoch: 1, Loss: 49.841209411621094\n",
      "Epoch: 2, Loss: 46.880226135253906\n",
      "Epoch: 3, Loss: 46.67573547363281\n",
      "Epoch: 4, Loss: 46.645530700683594\n",
      "Epoch: 5, Loss: 46.62636184692383\n",
      "Epoch: 6, Loss: 46.607913970947266\n",
      "Epoch: 7, Loss: 46.589515686035156\n",
      "Epoch: 8, Loss: 46.571144104003906\n",
      "Epoch: 9, Loss: 46.55278396606445\n",
      "Epoch: 1000, Loss: 34.34800720214844\n",
      "Epoch: 2000, Loss: 29.147443771362305\n",
      "Epoch: 3000, Loss: 26.961135864257812\n",
      "Epoch: 4000, Loss: 26.042009353637695\n",
      "Epoch: 5000, Loss: 25.655620574951172\n",
      "Epoch: 6000, Loss: 25.493183135986328\n",
      "Epoch: 7000, Loss: 25.42489242553711\n",
      "Epoch: 8000, Loss: 25.39618492126465\n",
      "Epoch: 9000, Loss: 25.384117126464844\n",
      "Epoch: 10000, Loss: 25.379037857055664\n",
      "Epoch: 11000, Loss: 25.376907348632812\n",
      "Epoch: 12000, Loss: 25.37601089477539\n",
      "Epoch: 13000, Loss: 25.375633239746094\n",
      "Epoch: 14000, Loss: 25.375473022460938\n",
      "Epoch: 15000, Loss: 25.375410079956055\n",
      "Epoch: 16000, Loss: 25.375381469726562\n",
      "Epoch: 17000, Loss: 25.375368118286133\n",
      "Epoch: 18000, Loss: 25.3753662109375\n",
      "Epoch: 19000, Loss: 25.3753604888916\n"
     ]
    }
   ],
   "source": [
    "training_loop(n_epochs = 20000,\n",
    "              optimizer = optimizer,\n",
    "              loss_fn = loss_fn,\n",
    "              model=lin_model,\n",
    "              X = X,\n",
    "              y=y)"
   ]
  },
  {
   "cell_type": "code",
   "execution_count": 58,
   "id": "d78d66c6-63d3-4d14-81b9-b87ed3e788e3",
   "metadata": {},
   "outputs": [
    {
     "name": "stdout",
     "output_type": "stream",
     "text": [
      "Parameter containing:\n",
      "tensor([[1.2343]], requires_grad=True)\n",
      "Parameter containing:\n",
      "tensor([10.5679], requires_grad=True)\n"
     ]
    }
   ],
   "source": [
    "for p in lin_model.parameters():\n",
    "    print(p)"
   ]
  },
  {
   "cell_type": "code",
   "execution_count": 59,
   "id": "081bc520-5f1f-4327-8c1c-2d70703671de",
   "metadata": {},
   "outputs": [
    {
     "data": {
      "text/plain": [
       "torch.Size([100, 1])"
      ]
     },
     "execution_count": 59,
     "metadata": {},
     "output_type": "execute_result"
    }
   ],
   "source": [
    "t_range = torch.arange(0,50,0.5).unsqueeze(1)\n",
    "t_range.shape"
   ]
  },
  {
   "cell_type": "code",
   "execution_count": 62,
   "id": "441c5f6c",
   "metadata": {},
   "outputs": [
    {
     "data": {
      "text/plain": [
       "tensor([[ 0.0000],\n",
       "        [ 0.5000],\n",
       "        [ 1.0000],\n",
       "        [ 1.5000],\n",
       "        [ 2.0000],\n",
       "        [ 2.5000],\n",
       "        [ 3.0000],\n",
       "        [ 3.5000],\n",
       "        [ 4.0000],\n",
       "        [ 4.5000],\n",
       "        [ 5.0000],\n",
       "        [ 5.5000],\n",
       "        [ 6.0000],\n",
       "        [ 6.5000],\n",
       "        [ 7.0000],\n",
       "        [ 7.5000],\n",
       "        [ 8.0000],\n",
       "        [ 8.5000],\n",
       "        [ 9.0000],\n",
       "        [ 9.5000],\n",
       "        [10.0000],\n",
       "        [10.5000],\n",
       "        [11.0000],\n",
       "        [11.5000],\n",
       "        [12.0000],\n",
       "        [12.5000],\n",
       "        [13.0000],\n",
       "        [13.5000],\n",
       "        [14.0000],\n",
       "        [14.5000],\n",
       "        [15.0000],\n",
       "        [15.5000],\n",
       "        [16.0000],\n",
       "        [16.5000],\n",
       "        [17.0000],\n",
       "        [17.5000],\n",
       "        [18.0000],\n",
       "        [18.5000],\n",
       "        [19.0000],\n",
       "        [19.5000],\n",
       "        [20.0000],\n",
       "        [20.5000],\n",
       "        [21.0000],\n",
       "        [21.5000],\n",
       "        [22.0000],\n",
       "        [22.5000],\n",
       "        [23.0000],\n",
       "        [23.5000],\n",
       "        [24.0000],\n",
       "        [24.5000],\n",
       "        [25.0000],\n",
       "        [25.5000],\n",
       "        [26.0000],\n",
       "        [26.5000],\n",
       "        [27.0000],\n",
       "        [27.5000],\n",
       "        [28.0000],\n",
       "        [28.5000],\n",
       "        [29.0000],\n",
       "        [29.5000],\n",
       "        [30.0000],\n",
       "        [30.5000],\n",
       "        [31.0000],\n",
       "        [31.5000],\n",
       "        [32.0000],\n",
       "        [32.5000],\n",
       "        [33.0000],\n",
       "        [33.5000],\n",
       "        [34.0000],\n",
       "        [34.5000],\n",
       "        [35.0000],\n",
       "        [35.5000],\n",
       "        [36.0000],\n",
       "        [36.5000],\n",
       "        [37.0000],\n",
       "        [37.5000],\n",
       "        [38.0000],\n",
       "        [38.5000],\n",
       "        [39.0000],\n",
       "        [39.5000],\n",
       "        [40.0000],\n",
       "        [40.5000],\n",
       "        [41.0000],\n",
       "        [41.5000],\n",
       "        [42.0000],\n",
       "        [42.5000],\n",
       "        [43.0000],\n",
       "        [43.5000],\n",
       "        [44.0000],\n",
       "        [44.5000],\n",
       "        [45.0000],\n",
       "        [45.5000],\n",
       "        [46.0000],\n",
       "        [46.5000],\n",
       "        [47.0000],\n",
       "        [47.5000],\n",
       "        [48.0000],\n",
       "        [48.5000],\n",
       "        [49.0000],\n",
       "        [49.5000]])"
      ]
     },
     "execution_count": 62,
     "metadata": {},
     "output_type": "execute_result"
    }
   ],
   "source": [
    "t_range"
   ]
  },
  {
   "cell_type": "code",
   "execution_count": 60,
   "id": "cbfe91c1-952c-451e-acd9-340417f126ca",
   "metadata": {},
   "outputs": [],
   "source": [
    "lin_yhat = lin_model(t_range)"
   ]
  },
  {
   "cell_type": "code",
   "execution_count": 61,
   "id": "09ca8bf6-5030-47e0-9197-de2d5aa5c24f",
   "metadata": {},
   "outputs": [
    {
     "data": {
      "text/plain": [
       "<matplotlib.legend.Legend at 0x7df97832ceb0>"
      ]
     },
     "execution_count": 61,
     "metadata": {},
     "output_type": "execute_result"
    },
    {
     "data": {
      "image/png": "[encoded data removed]",
      "text/plain": [
       "<Figure size 640x480 with 1 Axes>"
      ]
     },
     "metadata": {},
     "output_type": "display_data"
    }
   ],
   "source": [
    "plt.scatter(speed,rate)\n",
    "plt.plot(t_range.numpy(),lin_yhat.detach().numpy(),label=\"Linear model\")\n",
    "plt.xlabel(\"Running speed (cm/sec)\")\n",
    "plt.ylabel(\"Firing rate (Hz)\")\n",
    "plt.legend()"
   ]
  },
  {
   "cell_type": "markdown",
   "id": "64f5be12-692a-401d-9cf0-17d4b2cb79fc",
   "metadata": {},
   "source": [
    "We found the parameters that were used to simulate the data."
   ]
  },
  {
   "cell_type": "markdown",
   "id": "01d2c5e5-cb15-4265-b171-ea82f96f814a",
   "metadata": {},
   "source": [
    "# A first neural network"
   ]
  },
  {
   "cell_type": "markdown",
   "id": "7e0c0e0b-f99f-4cd7-b99a-94bd64d9a581",
   "metadata": {},
   "source": [
    "* Mathematical entities capable of representing complicated functions through a composition of simpler functions.\n",
    "* Deep neural network have **multiple layers** between the input and output layers. \n",
    "* Each layer has several artificial neurons. \n",
    "* New data comes from the left, and calculations propagates towards the ouput layer.\n",
    "\n"
   ]
  },
  {
   "cell_type": "markdown",
   "id": "bcca6356-30bb-4b55-a5ef-d9f6a2ad1a3e",
   "metadata": {},
   "source": [
    "***\n",
    "\n",
    "* A neuron in a neural network has one more non-linear function. \n",
    "\n",
    "<img src=\"../images/artificial_neuron.png\" width=\"500\" align=\"center\">"
   ]
  },
  {
   "cell_type": "markdown",
   "id": "3ec474f9-32f7-4b2e-9387-aabf74a35cb6",
   "metadata": {},
   "source": [
    "The non-linear function allows the model to have different slope at different values.\n",
    "\n",
    "The non-linear function of the neuron is called the **activation function**."
   ]
  },
  {
   "cell_type": "code",
   "execution_count": 66,
   "id": "0d62c1c7-706e-4ef9-8b2d-6925358908f0",
   "metadata": {},
   "outputs": [
    {
     "data": {
      "text/plain": [
       "Text(0.5, 1.0, 'Non-linear model: tanh(w*x+b)')"
      ]
     },
     "execution_count": 66,
     "metadata": {},
     "output_type": "execute_result"
    },
    {
     "data": {
      "image/png": "[encoded data removed]",
      "text/plain": [
       "<Figure size 900x300 with 2 Axes>"
      ]
     },
     "metadata": {},
     "output_type": "display_data"
    }
   ],
   "source": [
    "nrow=1\n",
    "ncol=2\n",
    "fig, ax = plt.subplots(nrow,ncol,figsize=(9,3))\n",
    "\n",
    "XX = np.linspace(-4,4) # input\n",
    "          \n",
    "w=1.25\n",
    "b=1.0\n",
    "                \n",
    "ax[0].plot(XX,w*XX+b)\n",
    "ax[0].set_title(\"Linear model: w*x+b\")\n",
    "\n",
    "ax[1].plot(XX,np.tanh(w*XX+b))\n",
    "ax[1].set_title(\"Non-linear model: tanh(w*x+b)\")"
   ]
  },
  {
   "cell_type": "markdown",
   "id": "ba6cff40-68de-4199-9798-ed40e136f5af",
   "metadata": {},
   "source": [
    "In neural network, we have **several artificial neurons**. \n",
    "\n",
    "The output of several neurons is summed to get the output.\n",
    "\n",
    "Let's build a neural network to predict the firing rate from the speed of the animal."
   ]
  },
  {
   "cell_type": "code",
   "execution_count": 63,
   "id": "de43dbcb-f1e5-4db7-be63-295d563830a0",
   "metadata": {},
   "outputs": [],
   "source": [
    "class NN_model(nn.Module):\n",
    "    \"\"\"\n",
    "    Class to create pytorch model. This is a neural network because of the non-linear function.\n",
    "    \"\"\"\n",
    "    def __init__(self):\n",
    "        \"\"\"\n",
    "        Initializer. Runs when an object is created\n",
    "        \"\"\"\n",
    "        super().__init__()\n",
    "        self.layer1 = nn.Linear(in_features=1, out_features=5, bias=True)\n",
    "        self.tanh = nn.Tanh()\n",
    "        self.layer2 = nn.Linear(in_features=5, out_features=1, bias=True)\n",
    "        \n",
    "    def forward(self,x):\n",
    "        \"\"\"\n",
    "        Make predictions with our model\n",
    "        \"\"\"\n",
    "        out = self.layer1(x)\n",
    "        out = self.tanh(out)\n",
    "        out = self.layer2(out)\n",
    "        return out"
   ]
  },
  {
   "cell_type": "code",
   "execution_count": 64,
   "id": "b532da6d-8708-46ff-bc79-ee0621155380",
   "metadata": {},
   "outputs": [],
   "source": [
    "nn_model = NN_model()"
   ]
  },
  {
   "cell_type": "code",
   "execution_count": 65,
   "id": "28716996-71be-4b98-805f-2518a44070ed",
   "metadata": {},
   "outputs": [
    {
     "name": "stdout",
     "output_type": "stream",
     "text": [
      "layer1.weight Parameter containing:\n",
      "tensor([[-0.2784],\n",
      "        [-0.3019],\n",
      "        [ 0.9840],\n",
      "        [-0.7561],\n",
      "        [ 0.8659]], requires_grad=True)\n",
      "layer1.bias Parameter containing:\n",
      "tensor([0.7483, 0.9529, 0.6841, 0.2817, 0.5710], requires_grad=True)\n",
      "layer2.weight Parameter containing:\n",
      "tensor([[ 0.2645,  0.3482, -0.1141, -0.0425,  0.1126]], requires_grad=True)\n",
      "layer2.bias Parameter containing:\n",
      "tensor([-0.1410], requires_grad=True)\n"
     ]
    }
   ],
   "source": [
    "for name, p in nn_model.named_parameters():\n",
    "    print(name,p)"
   ]
  },
  {
   "cell_type": "code",
   "execution_count": 66,
   "id": "c28c727b-927b-4a7d-9ae9-981169debd5f",
   "metadata": {},
   "outputs": [
    {
     "name": "stdout",
     "output_type": "stream",
     "text": [
      "Number of parameters: 16\n"
     ]
    }
   ],
   "source": [
    "print(\"Number of parameters:\", sum(p.numel() for p in nn_model.parameters()))"
   ]
  },
  {
   "cell_type": "code",
   "execution_count": 67,
   "id": "e21fdd14-1b27-446c-bebc-0904ae177956",
   "metadata": {},
   "outputs": [],
   "source": [
    "learning_rate=0.0001\n",
    "optimizer = optim.SGD(nn_model.parameters(),lr=learning_rate)"
   ]
  },
  {
   "cell_type": "code",
   "execution_count": 68,
   "id": "4e1c251f-33df-4fb4-97ac-665908c1dded",
   "metadata": {},
   "outputs": [
    {
     "name": "stdout",
     "output_type": "stream",
     "text": [
      "Epoch: 0, Loss: 1195.7772216796875\n",
      "Epoch: 1, Loss: 1193.3419189453125\n",
      "Epoch: 2, Loss: 1190.91259765625\n",
      "Epoch: 3, Loss: 1188.4898681640625\n",
      "Epoch: 4, Loss: 1186.073486328125\n",
      "Epoch: 5, Loss: 1183.6632080078125\n",
      "Epoch: 6, Loss: 1181.2593994140625\n",
      "Epoch: 7, Loss: 1178.86181640625\n",
      "Epoch: 8, Loss: 1176.470458984375\n",
      "Epoch: 9, Loss: 1174.08544921875\n",
      "Epoch: 1000, Loss: 238.5777130126953\n",
      "Epoch: 2000, Loss: 116.03845977783203\n",
      "Epoch: 3000, Loss: 85.41264343261719\n",
      "Epoch: 4000, Loss: 71.06676483154297\n",
      "Epoch: 5000, Loss: 61.80583190917969\n",
      "Epoch: 6000, Loss: 59.15570831298828\n",
      "Epoch: 7000, Loss: 74.31402587890625\n",
      "Epoch: 8000, Loss: 55.6102409362793\n",
      "Epoch: 9000, Loss: 76.542236328125\n",
      "Epoch: 10000, Loss: 55.81684875488281\n",
      "Epoch: 11000, Loss: 45.75727462768555\n",
      "Epoch: 12000, Loss: 42.23051452636719\n",
      "Epoch: 13000, Loss: 39.924354553222656\n",
      "Epoch: 14000, Loss: 38.17066955566406\n",
      "Epoch: 15000, Loss: 36.77769088745117\n",
      "Epoch: 16000, Loss: 35.64738845825195\n",
      "Epoch: 17000, Loss: 34.718605041503906\n",
      "Epoch: 18000, Loss: 33.9498176574707\n",
      "Epoch: 19000, Loss: 33.3105583190918\n",
      "Epoch: 20000, Loss: 32.7778205871582\n",
      "Epoch: 21000, Loss: 32.332550048828125\n",
      "Epoch: 22000, Loss: 31.959177017211914\n",
      "Epoch: 23000, Loss: 31.64398956298828\n",
      "Epoch: 24000, Loss: 31.37582015991211\n",
      "Epoch: 25000, Loss: 31.144559860229492\n",
      "Epoch: 26000, Loss: 30.942750930786133\n",
      "Epoch: 27000, Loss: 30.764432907104492\n",
      "Epoch: 28000, Loss: 30.60492706298828\n",
      "Epoch: 29000, Loss: 30.459096908569336\n"
     ]
    }
   ],
   "source": [
    "training_loop(n_epochs = 30000,\n",
    "              optimizer = optimizer,\n",
    "              loss_fn = loss_fn,\n",
    "              model=nn_model,\n",
    "              X = X,\n",
    "              y=y)"
   ]
  },
  {
   "cell_type": "code",
   "execution_count": 69,
   "id": "583cc8d4-33da-4995-b437-6c5cc5789737",
   "metadata": {},
   "outputs": [
    {
     "name": "stdout",
     "output_type": "stream",
     "text": [
      "layer1.weight Parameter containing:\n",
      "tensor([[-0.1428],\n",
      "        [-0.1734],\n",
      "        [ 0.9118],\n",
      "        [-0.2958],\n",
      "        [ 0.7707]], requires_grad=True)\n",
      "layer1.bias Parameter containing:\n",
      "tensor([1.8845, 4.8020, 0.6041, 0.3720, 0.4421], requires_grad=True)\n",
      "layer2.weight Parameter containing:\n",
      "tensor([[-9.2148, -9.7576,  9.3707, -9.5525,  9.6010]], requires_grad=True)\n",
      "layer2.bias Parameter containing:\n",
      "tensor([9.3382], requires_grad=True)\n"
     ]
    }
   ],
   "source": [
    "for name, p in nn_model.named_parameters():\n",
    "    print(name,p)"
   ]
  },
  {
   "cell_type": "markdown",
   "id": "7e999fa1-8ff6-4c95-be49-7a50272dd376",
   "metadata": {},
   "source": [
    "### Let's compare our linear model with our small neural network"
   ]
  },
  {
   "cell_type": "code",
   "execution_count": 70,
   "id": "3107c826-8e04-4487-9a17-f1abed7e11b8",
   "metadata": {},
   "outputs": [
    {
     "data": {
      "text/plain": [
       "torch.Size([100, 1])"
      ]
     },
     "execution_count": 70,
     "metadata": {},
     "output_type": "execute_result"
    }
   ],
   "source": [
    "t_range = torch.arange(0,50,0.5).unsqueeze(1)\n",
    "t_range.shape"
   ]
  },
  {
   "cell_type": "code",
   "execution_count": 71,
   "id": "04190165-a30e-4bde-b3ad-fed1ae685cae",
   "metadata": {},
   "outputs": [],
   "source": [
    "lin_yhat = lin_model(t_range)\n",
    "nn_yhat = nn_model(t_range)"
   ]
  },
  {
   "cell_type": "markdown",
   "id": "95026c3a-6ffd-4fbf-aa82-b6cbf58bf562",
   "metadata": {},
   "source": [
    "To plot the `yhat` tensors, we need to call `.detach()` because the tensor have associated gradients."
   ]
  },
  {
   "cell_type": "code",
   "execution_count": 72,
   "id": "f0bdf262-5a74-441f-9825-32eb2c280f59",
   "metadata": {},
   "outputs": [
    {
     "data": {
      "text/plain": [
       "<matplotlib.legend.Legend at 0x7df9781a1330>"
      ]
     },
     "execution_count": 72,
     "metadata": {},
     "output_type": "execute_result"
    },
    {
     "data": {
      "image/png": "[encoded data removed]",
      "text/plain": [
       "<Figure size 640x480 with 1 Axes>"
      ]
     },
     "metadata": {},
     "output_type": "display_data"
    }
   ],
   "source": [
    "plt.scatter(speed,rate)\n",
    "plt.plot(t_range.numpy(),nn_yhat.detach().numpy(),label=\"Neural network\")\n",
    "plt.plot(t_range.numpy(),lin_yhat.detach().numpy(),label=\"Linear model\")\n",
    "plt.xlabel(\"Running speed (cm/sec)\")\n",
    "plt.ylabel(\"Firing rate (Hz)\")\n",
    "plt.legend()"
   ]
  },
  {
   "cell_type": "markdown",
   "id": "bca0460b-a02c-4535-8a49-cc0ddb7a55f1",
   "metadata": {},
   "source": [
    "### Neural networks can model all sorts of functions\n",
    "\n",
    "Let's try our two models on some non-linear problems"
   ]
  },
  {
   "cell_type": "code",
   "execution_count": 73,
   "id": "9a6d73bf-6768-429d-81a2-7004844ef7b5",
   "metadata": {},
   "outputs": [
    {
     "name": "stdout",
     "output_type": "stream",
     "text": [
      "torch.Size([100, 1])\n"
     ]
    }
   ],
   "source": [
    "X = torch.arange(0,10,0.1).unsqueeze(1)\n",
    "print(X.shape)\n",
    "y = torch.sin(X)*4 + torch.randn(100, 1)"
   ]
  },
  {
   "cell_type": "code",
   "execution_count": 74,
   "id": "86905410-007d-417f-a5be-8e4a2f7f09b3",
   "metadata": {},
   "outputs": [
    {
     "data": {
      "text/plain": [
       "<matplotlib.collections.PathCollection at 0x7df97811c490>"
      ]
     },
     "execution_count": 74,
     "metadata": {},
     "output_type": "execute_result"
    },
    {
     "data": {
      "image/png": "[encoded data removed]",
      "text/plain": [
       "<Figure size 640x480 with 1 Axes>"
      ]
     },
     "metadata": {},
     "output_type": "display_data"
    }
   ],
   "source": [
    "plt.scatter(X.numpy(),y.numpy())"
   ]
  },
  {
   "cell_type": "code",
   "execution_count": 75,
   "id": "e241ff15-770b-48b7-bc57-129371a2fb23",
   "metadata": {},
   "outputs": [
    {
     "name": "stdout",
     "output_type": "stream",
     "text": [
      "Epoch: 0, Loss: 316.4942932128906\n",
      "Epoch: 1, Loss: 12.620428085327148\n",
      "Epoch: 2, Loss: 10.208174705505371\n",
      "Epoch: 3, Loss: 9.717536926269531\n",
      "Epoch: 4, Loss: 9.448182106018066\n",
      "Epoch: 5, Loss: 9.269460678100586\n",
      "Epoch: 6, Loss: 9.137953758239746\n",
      "Epoch: 7, Loss: 9.03442096710205\n",
      "Epoch: 8, Loss: 8.948931694030762\n",
      "Epoch: 9, Loss: 8.875823020935059\n",
      "Epoch: 1000, Loss: 6.894703388214111\n",
      "Epoch: 2000, Loss: 6.7313923835754395\n",
      "Epoch: 3000, Loss: 6.552404880523682\n",
      "Epoch: 4000, Loss: 6.3360981941223145\n",
      "Epoch: 5000, Loss: 6.073976993560791\n",
      "Epoch: 6000, Loss: 5.771004676818848\n",
      "Epoch: 7000, Loss: 5.320565700531006\n",
      "Epoch: 8000, Loss: 4.7709760665893555\n",
      "Epoch: 9000, Loss: 4.082614898681641\n",
      "Epoch: 10000, Loss: 3.944636344909668\n",
      "Epoch: 11000, Loss: 3.870422601699829\n",
      "Epoch: 12000, Loss: 3.74741268157959\n",
      "Epoch: 13000, Loss: 3.4939355850219727\n",
      "Epoch: 14000, Loss: 3.1382622718811035\n",
      "Epoch: 15000, Loss: 2.798976421356201\n",
      "Epoch: 16000, Loss: 2.624166250228882\n",
      "Epoch: 17000, Loss: 2.492680072784424\n",
      "Epoch: 18000, Loss: 2.391688108444214\n",
      "Epoch: 19000, Loss: 2.3101069927215576\n",
      "Epoch: 20000, Loss: 2.4042558670043945\n",
      "Epoch: 21000, Loss: 2.393921136856079\n",
      "Epoch: 22000, Loss: 2.3876776695251465\n",
      "Epoch: 23000, Loss: 2.384160041809082\n",
      "Epoch: 24000, Loss: 2.3836872577667236\n",
      "Epoch: 25000, Loss: 2.386655807495117\n",
      "Epoch: 26000, Loss: 2.394049882888794\n",
      "Epoch: 27000, Loss: 2.4069271087646484\n",
      "Epoch: 28000, Loss: 2.426640510559082\n",
      "Epoch: 29000, Loss: 2.454467535018921\n",
      "Epoch: 30000, Loss: 2.490708351135254\n",
      "Epoch: 31000, Loss: 2.532473087310791\n",
      "Epoch: 32000, Loss: 2.572575092315674\n",
      "Epoch: 33000, Loss: 2.6026229858398438\n",
      "Epoch: 34000, Loss: 2.6192221641540527\n",
      "Epoch: 35000, Loss: 2.6234912872314453\n",
      "Epoch: 36000, Loss: 2.6180570125579834\n",
      "Epoch: 37000, Loss: 2.6052465438842773\n",
      "Epoch: 38000, Loss: 2.587082624435425\n",
      "Epoch: 39000, Loss: 2.565075635910034\n"
     ]
    }
   ],
   "source": [
    "learning_rate=0.001\n",
    "optimizer = optim.SGD(nn_model.parameters(),lr=learning_rate)\n",
    "training_loop(n_epochs = 40000,\n",
    "              optimizer = optimizer,\n",
    "              loss_fn = loss_fn,\n",
    "              model=nn_model,\n",
    "              X = X,\n",
    "              y=y)"
   ]
  },
  {
   "cell_type": "code",
   "execution_count": 76,
   "id": "3d8a2914-091c-41e3-8feb-6d04d9aabedc",
   "metadata": {},
   "outputs": [
    {
     "name": "stdout",
     "output_type": "stream",
     "text": [
      "Epoch: 0, Loss: 289.345947265625\n",
      "Epoch: 1, Loss: 256.1586608886719\n",
      "Epoch: 2, Loss: 227.27691650390625\n",
      "Epoch: 3, Loss: 202.14175415039062\n",
      "Epoch: 4, Loss: 180.2667236328125\n",
      "Epoch: 5, Loss: 161.2285614013672\n",
      "Epoch: 6, Loss: 144.65895080566406\n",
      "Epoch: 7, Loss: 130.2373504638672\n",
      "Epoch: 8, Loss: 117.6849136352539\n",
      "Epoch: 9, Loss: 106.75894165039062\n",
      "Epoch: 1000, Loss: 17.6830997467041\n",
      "Epoch: 2000, Loss: 11.660880088806152\n",
      "Epoch: 3000, Loss: 9.428973197937012\n",
      "Epoch: 4000, Loss: 8.601799964904785\n",
      "Epoch: 5000, Loss: 8.295239448547363\n",
      "Epoch: 6000, Loss: 8.181623458862305\n",
      "Epoch: 7000, Loss: 8.139516830444336\n",
      "Epoch: 8000, Loss: 8.123910903930664\n",
      "Epoch: 9000, Loss: 8.118127822875977\n",
      "Epoch: 10000, Loss: 8.115983009338379\n",
      "Epoch: 11000, Loss: 8.115187644958496\n",
      "Epoch: 12000, Loss: 8.11489486694336\n",
      "Epoch: 13000, Loss: 8.114785194396973\n",
      "Epoch: 14000, Loss: 8.114745140075684\n",
      "Epoch: 15000, Loss: 8.114728927612305\n",
      "Epoch: 16000, Loss: 8.114725112915039\n",
      "Epoch: 17000, Loss: 8.11472225189209\n",
      "Epoch: 18000, Loss: 8.114721298217773\n",
      "Epoch: 19000, Loss: 8.114721298217773\n",
      "Epoch: 20000, Loss: 8.114721298217773\n",
      "Epoch: 21000, Loss: 8.114720344543457\n",
      "Epoch: 22000, Loss: 8.114721298217773\n",
      "Epoch: 23000, Loss: 8.114721298217773\n",
      "Epoch: 24000, Loss: 8.114721298217773\n",
      "Epoch: 25000, Loss: 8.114721298217773\n",
      "Epoch: 26000, Loss: 8.114721298217773\n",
      "Epoch: 27000, Loss: 8.114721298217773\n",
      "Epoch: 28000, Loss: 8.114720344543457\n",
      "Epoch: 29000, Loss: 8.114721298217773\n",
      "Epoch: 30000, Loss: 8.114721298217773\n",
      "Epoch: 31000, Loss: 8.114721298217773\n",
      "Epoch: 32000, Loss: 8.114721298217773\n",
      "Epoch: 33000, Loss: 8.114721298217773\n",
      "Epoch: 34000, Loss: 8.114721298217773\n",
      "Epoch: 35000, Loss: 8.114721298217773\n",
      "Epoch: 36000, Loss: 8.114721298217773\n",
      "Epoch: 37000, Loss: 8.114721298217773\n",
      "Epoch: 38000, Loss: 8.114721298217773\n",
      "Epoch: 39000, Loss: 8.114721298217773\n"
     ]
    }
   ],
   "source": [
    "learning_rate=0.001\n",
    "optimizer = optim.SGD(lin_model.parameters(),lr=learning_rate)\n",
    "training_loop(n_epochs = 40000,\n",
    "              optimizer = optimizer,\n",
    "              loss_fn = loss_fn,\n",
    "              model=lin_model,\n",
    "              X = X,\n",
    "              y=y)"
   ]
  },
  {
   "cell_type": "code",
   "execution_count": 77,
   "id": "8d5c7e0b-bbea-46d7-9096-ce81047692f4",
   "metadata": {},
   "outputs": [
    {
     "data": {
      "text/plain": [
       "torch.Size([50, 1])"
      ]
     },
     "execution_count": 77,
     "metadata": {},
     "output_type": "execute_result"
    }
   ],
   "source": [
    "t_range = torch.arange(0,10,0.2).unsqueeze(1)\n",
    "t_range.shape"
   ]
  },
  {
   "cell_type": "code",
   "execution_count": null,
   "id": "2cb6ca91-3931-4c4f-914e-7e6f21cea38c",
   "metadata": {},
   "outputs": [],
   "source": []
  },
  {
   "cell_type": "code",
   "execution_count": 78,
   "id": "f847e5c8-cbb8-4370-803b-10521e36f2a0",
   "metadata": {},
   "outputs": [],
   "source": [
    "lin_yhat = lin_model(t_range)\n",
    "nn_yhat = nn_model(t_range)"
   ]
  },
  {
   "cell_type": "code",
   "execution_count": 79,
   "id": "9603953d-d1fa-4a2f-ae34-d190a21c760d",
   "metadata": {},
   "outputs": [
    {
     "data": {
      "text/plain": [
       "<matplotlib.legend.Legend at 0x7df97777fa30>"
      ]
     },
     "execution_count": 79,
     "metadata": {},
     "output_type": "execute_result"
    },
    {
     "data": {
      "image/png": "[encoded data removed]",
      "text/plain": [
       "<Figure size 640x480 with 1 Axes>"
      ]
     },
     "metadata": {},
     "output_type": "display_data"
    }
   ],
   "source": [
    "plt.scatter(X.numpy(),y.numpy())\n",
    "plt.plot(t_range.numpy(),nn_yhat.detach().numpy(),label=\"Neural network\")\n",
    "plt.plot(t_range.numpy(),lin_yhat.detach().numpy(),label=\"Linear model\")\n",
    "plt.xlabel(\"Running speed (cm/sec)\")\n",
    "plt.ylabel(\"Firing rate (Hz)\")\n",
    "plt.legend()"
   ]
  },
  {
   "cell_type": "markdown",
   "id": "11bf39e5-0064-43d8-b4d1-c3dff1cf8804",
   "metadata": {},
   "source": [
    "The non-linearity in the artifical neurons makes it possible to fit all sorts of function.\n",
    "\n",
    "Here, the neural network is a better approximation of the underlying data. "
   ]
  },
  {
   "cell_type": "markdown",
   "id": "78fe7fd9-712b-4254-9b84-552597df8636",
   "metadata": {},
   "source": [
    "## Exercise\n",
    "\n",
    "### Improve our neural network model\n",
    "\n",
    "Our neural network is good but it is not perfect. \n",
    "\n",
    "How could you modify this model to make it fit the data more closely?\n",
    "\n",
    "Have a go at trying to improve its predictions."
   ]
  },
  {
   "cell_type": "code",
   "execution_count": null,
   "id": "c45f2fa6-99a3-4549-9e67-e7da61f4600b",
   "metadata": {},
   "outputs": [],
   "source": []
  },
  {
   "cell_type": "code",
   "execution_count": null,
   "id": "6202e778-00b4-4184-9853-5dc40e1fead0",
   "metadata": {},
   "outputs": [],
   "source": []
  },
  {
   "cell_type": "code",
   "execution_count": 114,
   "id": "bf56d3fe-4847-44c8-a8ab-2daaf8659fc4",
   "metadata": {
    "scrolled": true
   },
   "outputs": [
    {
     "name": "stdout",
     "output_type": "stream",
     "text": [
      "Epoch: 0, Loss: 10.915761947631836\n",
      "Epoch: 1, Loss: 10.829551696777344\n",
      "Epoch: 2, Loss: 10.747553825378418\n",
      "Epoch: 3, Loss: 10.669563293457031\n",
      "Epoch: 4, Loss: 10.595392227172852\n",
      "Epoch: 5, Loss: 10.524857521057129\n",
      "Epoch: 6, Loss: 10.457784652709961\n",
      "Epoch: 7, Loss: 10.394011497497559\n",
      "Epoch: 8, Loss: 10.333378791809082\n",
      "Epoch: 9, Loss: 10.275739669799805\n",
      "Epoch: 1000, Loss: 8.444541931152344\n",
      "Epoch: 2000, Loss: 7.876040458679199\n",
      "Epoch: 3000, Loss: 7.479679107666016\n",
      "Epoch: 4000, Loss: 7.034619331359863\n",
      "Epoch: 5000, Loss: 6.427706241607666\n",
      "Epoch: 6000, Loss: 5.7121782302856445\n",
      "Epoch: 7000, Loss: 5.01662540435791\n",
      "Epoch: 8000, Loss: 4.434089183807373\n",
      "Epoch: 9000, Loss: 3.987821340560913\n",
      "Epoch: 10000, Loss: 3.6579394340515137\n",
      "Epoch: 11000, Loss: 3.4145443439483643\n",
      "Epoch: 12000, Loss: 3.2333130836486816\n",
      "Epoch: 13000, Loss: 3.0978784561157227\n",
      "Epoch: 14000, Loss: 2.9962143898010254\n",
      "Epoch: 15000, Loss: 2.918872117996216\n",
      "Epoch: 16000, Loss: 2.8578152656555176\n",
      "Epoch: 17000, Loss: 2.8041436672210693\n",
      "Epoch: 18000, Loss: 2.756791353225708\n",
      "Epoch: 19000, Loss: 2.7207608222961426\n",
      "Epoch: 20000, Loss: 2.6895623207092285\n",
      "Epoch: 21000, Loss: 2.661351203918457\n",
      "Epoch: 22000, Loss: 2.6351816654205322\n",
      "Epoch: 23000, Loss: 2.6103687286376953\n",
      "Epoch: 24000, Loss: 2.5864059925079346\n",
      "Epoch: 25000, Loss: 2.5629684925079346\n",
      "Epoch: 26000, Loss: 2.5398638248443604\n",
      "Epoch: 27000, Loss: 2.516850233078003\n",
      "Epoch: 28000, Loss: 2.4936084747314453\n",
      "Epoch: 29000, Loss: 2.469855308532715\n",
      "Epoch: 30000, Loss: 2.4453651905059814\n",
      "Epoch: 31000, Loss: 2.419928789138794\n",
      "Epoch: 32000, Loss: 2.3933568000793457\n",
      "Epoch: 33000, Loss: 2.3654661178588867\n",
      "Epoch: 34000, Loss: 2.336090326309204\n",
      "Epoch: 35000, Loss: 2.3050687313079834\n",
      "Epoch: 36000, Loss: 2.2722699642181396\n",
      "Epoch: 37000, Loss: 2.237584114074707\n",
      "Epoch: 38000, Loss: 2.2009377479553223\n",
      "Epoch: 39000, Loss: 2.162299394607544\n",
      "Epoch: 40000, Loss: 2.1216988563537598\n",
      "Epoch: 41000, Loss: 2.079220771789551\n",
      "Epoch: 42000, Loss: 2.03503155708313\n",
      "Epoch: 43000, Loss: 1.9893461465835571\n",
      "Epoch: 44000, Loss: 1.942448377609253\n",
      "Epoch: 45000, Loss: 1.8946763277053833\n",
      "Epoch: 46000, Loss: 1.8464106321334839\n",
      "Epoch: 47000, Loss: 1.7980417013168335\n",
      "Epoch: 48000, Loss: 1.749963641166687\n",
      "Epoch: 49000, Loss: 1.7025882005691528\n",
      "Epoch: 50000, Loss: 1.656243085861206\n",
      "Epoch: 51000, Loss: 1.6112512350082397\n",
      "Epoch: 52000, Loss: 1.567878246307373\n",
      "Epoch: 53000, Loss: 1.526339054107666\n",
      "Epoch: 54000, Loss: 1.4867931604385376\n",
      "Epoch: 55000, Loss: 1.4493508338928223\n",
      "Epoch: 56000, Loss: 1.4140759706497192\n",
      "Epoch: 57000, Loss: 1.3809887170791626\n",
      "Epoch: 58000, Loss: 1.3500723838806152\n",
      "Epoch: 59000, Loss: 1.3212820291519165\n"
     ]
    }
   ],
   "source": [
    "learning_rate=0.001\n",
    "optimizer = optim.SGD(nn_model.parameters(),lr=learning_rate)\n",
    "training_loop(n_epochs = 60000,\n",
    "              optimizer = optimizer,\n",
    "              loss_fn = loss_fn,\n",
    "              model=nn_model,\n",
    "              X = X,\n",
    "              y=y)"
   ]
  },
  {
   "cell_type": "code",
   "execution_count": 115,
   "id": "5daa86f4-a138-44fc-b9e9-41a3e92bbcec",
   "metadata": {},
   "outputs": [
    {
     "data": {
      "text/plain": [
       "torch.Size([50, 1])"
      ]
     },
     "execution_count": 115,
     "metadata": {},
     "output_type": "execute_result"
    }
   ],
   "source": [
    "t_range = torch.arange(0,10,0.2).unsqueeze(1)\n",
    "t_range.shape"
   ]
  },
  {
   "cell_type": "code",
   "execution_count": 107,
   "id": "e0677a13-6380-4232-a864-ee1f73160d26",
   "metadata": {},
   "outputs": [],
   "source": [
    "lin_yhat = lin_model(t_range)\n",
    "nn_yhat = nn_model(t_range)"
   ]
  },
  {
   "cell_type": "code",
   "execution_count": 108,
   "id": "336fd4f7-6aac-4950-a5ff-42a59a2a247a",
   "metadata": {},
   "outputs": [
    {
     "data": {
      "text/plain": [
       "<matplotlib.legend.Legend at 0x7fac4d619d80>"
      ]
     },
     "execution_count": 108,
     "metadata": {},
     "output_type": "execute_result"
    },
    {
     "data": {
      "image/png": "[encoded data removed]",
      "text/plain": [
       "<Figure size 640x480 with 1 Axes>"
      ]
     },
     "metadata": {},
     "output_type": "display_data"
    }
   ],
   "source": [
    "plt.scatter(X.numpy(),y.numpy())\n",
    "plt.plot(t_range.numpy(),nn_yhat.detach().numpy(),label=\"Neural network\")\n",
    "plt.plot(t_range.numpy(),lin_yhat.detach().numpy(),label=\"Linear model\")\n",
    "plt.xlabel(\"Running speed (cm/sec)\")\n",
    "plt.ylabel(\"Firing rate (Hz)\")\n",
    "plt.legend()"
   ]
  },
  {
   "cell_type": "markdown",
   "id": "06cdb4cc-c901-4dc1-9f11-5a94f1e8e5ff",
   "metadata": {},
   "source": [
    "## Adding more hidden layers to create a deep neural network\n",
    "\n",
    "**Deep neural networks** have several hidden layers.\n",
    "\n",
    "* The output of the first layer have a shape similar to the activiation function.\n",
    "* The next level can combine the inputs of the first layers to create more complex functions.\n"
   ]
  },
  {
   "cell_type": "code",
   "execution_count": 118,
   "id": "efafd3b5-a97c-4025-9457-e26891238f97",
   "metadata": {},
   "outputs": [
    {
     "data": {
      "text/plain": [
       "Text(0, 0.5, 'output')"
      ]
     },
     "execution_count": 118,
     "metadata": {},
     "output_type": "execute_result"
    },
    {
     "data": {
      "image/png": "[encoded data removed]",
      "text/plain": [
       "<Figure size 900x300 with 3 Axes>"
      ]
     },
     "metadata": {},
     "output_type": "display_data"
    }
   ],
   "source": [
    "nrow=1\n",
    "ncol=3\n",
    "fig, ax = plt.subplots(nrow,ncol,figsize=(9,3),layout='constrained')\n",
    "\n",
    "XX = np.linspace(-4,4) # input\n",
    "      \n",
    "# \n",
    "w1=1.25\n",
    "b1=1.0                \n",
    "ax[0].plot(XX,np.tanh(w1*XX+b1))\n",
    "ax[0].set_title(\"Neuron 1 of layer 1\")\n",
    "ax[0].set_xlabel(\"input\")\n",
    "ax[0].set_ylabel(\"output\")\n",
    "\n",
    "w2=-2\n",
    "b2=1.5\n",
    "ax[1].plot(XX,np.tanh(w2*XX+b2))\n",
    "ax[1].set_title(\"Neuron 2 of layer 1\")\n",
    "ax[1].set_xlabel(\"input\")\n",
    "ax[1].set_ylabel(\"output\")\n",
    "\n",
    "w3=[2,1]\n",
    "b3=2\n",
    "ax[2].plot(XX,w3[0]*np.tanh(w1*XX+b1)+ w3[1]*np.tanh(w2*XX+b2))\n",
    "ax[2].set_title(\"Neuron 1 of layer 2\\n(inputs from layer 1)\")\n",
    "ax[2].set_xlabel(\"input\")\n",
    "ax[2].set_ylabel(\"output\")"
   ]
  },
  {
   "cell_type": "code",
   "execution_count": 119,
   "id": "ec5d3113-e155-4626-abd1-18c1ae90961e",
   "metadata": {},
   "outputs": [],
   "source": [
    "class DNN_model(nn.Module):\n",
    "    \"\"\"\n",
    "    Class to create pytorch model. This is a neural network because of the non-linear function.\n",
    "    \"\"\"\n",
    "    def __init__(self):\n",
    "        \"\"\"\n",
    "        Initializer. Runs when an object is created\n",
    "        \"\"\"\n",
    "        super().__init__()\n",
    "        self.layer1 = nn.Linear(in_features=1, out_features=10, bias=True)\n",
    "        self.layer2 = nn.Linear(in_features=10, out_features=10, bias=True)\n",
    "        self.layer3 = nn.Linear(in_features=10, out_features=1, bias=True)\n",
    "        self.tanh = nn.Tanh()\n",
    "        \n",
    "        \n",
    "    def forward(self,x):\n",
    "        \"\"\"\n",
    "        Make predictions with our model\n",
    "        \"\"\"\n",
    "        out = self.tanh(self.layer1(x))\n",
    "        out = self.tanh(self.layer2(out))\n",
    "        out = self.layer3(out)\n",
    "        \n",
    "        return out"
   ]
  },
  {
   "cell_type": "code",
   "execution_count": 120,
   "id": "ba178164-9504-4478-b7c6-5b7d8ebd8ce3",
   "metadata": {},
   "outputs": [],
   "source": [
    "dnn_model = DNN_model()"
   ]
  },
  {
   "cell_type": "code",
   "execution_count": 121,
   "id": "c0785436-0445-443e-a795-2b13e4ba5345",
   "metadata": {},
   "outputs": [
    {
     "name": "stdout",
     "output_type": "stream",
     "text": [
      "layer1.weight Parameter containing:\n",
      "tensor([[ 0.5656],\n",
      "        [ 0.9519],\n",
      "        [-0.8644],\n",
      "        [ 0.1782],\n",
      "        [ 0.4497],\n",
      "        [ 0.7277],\n",
      "        [-0.2182],\n",
      "        [-0.9980],\n",
      "        [ 0.5420],\n",
      "        [ 0.2739]], requires_grad=True)\n",
      "layer1.bias Parameter containing:\n",
      "tensor([ 0.0478, -0.1899, -0.4845, -0.8605, -0.4237,  0.5104,  0.3978, -0.4544,\n",
      "        -0.3024,  0.7056], requires_grad=True)\n",
      "layer2.weight Parameter containing:\n",
      "tensor([[ 0.1810,  0.1051,  0.0573, -0.2002, -0.0720,  0.2860,  0.3039, -0.0098,\n",
      "          0.1650, -0.2375],\n",
      "        [-0.0810, -0.1745,  0.1505,  0.0813, -0.0558,  0.2319,  0.1996,  0.0827,\n",
      "         -0.1305,  0.1591],\n",
      "        [-0.0568, -0.2170, -0.2192,  0.1874,  0.2388,  0.0998, -0.2042, -0.0340,\n",
      "         -0.2558, -0.1055],\n",
      "        [ 0.1892, -0.1015,  0.0413,  0.1421, -0.2120, -0.1053, -0.1258, -0.0308,\n",
      "         -0.0956, -0.0144],\n",
      "        [ 0.2248,  0.0970, -0.0967,  0.0569,  0.0518, -0.2650,  0.2532,  0.1243,\n",
      "          0.1118, -0.2755],\n",
      "        [ 0.2438,  0.2223, -0.1029, -0.0523,  0.1273,  0.0402, -0.2135,  0.2322,\n",
      "          0.0767, -0.2153],\n",
      "        [ 0.2291,  0.1765,  0.1701,  0.1767,  0.0383, -0.2843, -0.2649, -0.0316,\n",
      "         -0.1365,  0.1651],\n",
      "        [ 0.1700,  0.1026,  0.0787, -0.1141, -0.2676,  0.1661,  0.0453, -0.2747,\n",
      "          0.2280, -0.0397],\n",
      "        [-0.1363, -0.0516, -0.1592,  0.2853, -0.1190,  0.1159,  0.0139,  0.2810,\n",
      "          0.2883,  0.1721],\n",
      "        [-0.0948, -0.0319, -0.0893, -0.0992, -0.1597, -0.0183, -0.0928,  0.0929,\n",
      "         -0.2192, -0.2940]], requires_grad=True)\n",
      "layer2.bias Parameter containing:\n",
      "tensor([-0.1906, -0.3094,  0.2953,  0.2854, -0.1649, -0.0764,  0.2173,  0.1833,\n",
      "         0.2653,  0.2173], requires_grad=True)\n",
      "layer3.weight Parameter containing:\n",
      "tensor([[-0.2168,  0.1570,  0.0803,  0.0328, -0.2631,  0.1725, -0.1856,  0.2345,\n",
      "         -0.0006, -0.3023]], requires_grad=True)\n",
      "layer3.bias Parameter containing:\n",
      "tensor([-0.2189], requires_grad=True)\n"
     ]
    }
   ],
   "source": [
    "for name, p in dnn_model.named_parameters():\n",
    "    print(name,p)"
   ]
  },
  {
   "cell_type": "code",
   "execution_count": 122,
   "id": "95b49bb1-d1a2-4bb4-a042-a32b112422e7",
   "metadata": {},
   "outputs": [
    {
     "name": "stdout",
     "output_type": "stream",
     "text": [
      "Number of parameters: 141\n"
     ]
    }
   ],
   "source": [
    "print(\"Number of parameters:\", sum(p.numel() for p in dnn_model.parameters()))"
   ]
  },
  {
   "cell_type": "code",
   "execution_count": 123,
   "id": "5b27873b-b4a5-44cc-af55-1f8350b14883",
   "metadata": {},
   "outputs": [
    {
     "name": "stdout",
     "output_type": "stream",
     "text": [
      "Epoch: 0, Loss: 9.624743461608887\n",
      "Epoch: 1, Loss: 9.620094299316406\n",
      "Epoch: 2, Loss: 9.615513801574707\n",
      "Epoch: 3, Loss: 9.611000061035156\n",
      "Epoch: 4, Loss: 9.606550216674805\n",
      "Epoch: 5, Loss: 9.602164268493652\n",
      "Epoch: 6, Loss: 9.597840309143066\n",
      "Epoch: 7, Loss: 9.593579292297363\n",
      "Epoch: 8, Loss: 9.589381217956543\n",
      "Epoch: 9, Loss: 9.58523941040039\n",
      "Epoch: 1000, Loss: 8.820018768310547\n",
      "Epoch: 2000, Loss: 7.916651725769043\n",
      "Epoch: 3000, Loss: 6.437360763549805\n",
      "Epoch: 4000, Loss: 4.6005401611328125\n",
      "Epoch: 5000, Loss: 3.5731770992279053\n",
      "Epoch: 6000, Loss: 3.0418686866760254\n",
      "Epoch: 7000, Loss: 2.7643942832946777\n",
      "Epoch: 8000, Loss: 2.655991315841675\n",
      "Epoch: 9000, Loss: 2.6036853790283203\n",
      "Epoch: 10000, Loss: 2.570239543914795\n",
      "Epoch: 11000, Loss: 2.545386552810669\n",
      "Epoch: 12000, Loss: 2.5243728160858154\n",
      "Epoch: 13000, Loss: 2.5036916732788086\n",
      "Epoch: 14000, Loss: 2.478895664215088\n",
      "Epoch: 15000, Loss: 2.442991018295288\n",
      "Epoch: 16000, Loss: 2.388669729232788\n",
      "Epoch: 17000, Loss: 2.3117966651916504\n",
      "Epoch: 18000, Loss: 2.210883140563965\n",
      "Epoch: 19000, Loss: 2.0862433910369873\n",
      "Epoch: 20000, Loss: 1.939711570739746\n",
      "Epoch: 21000, Loss: 1.7787400484085083\n",
      "Epoch: 22000, Loss: 1.6175934076309204\n",
      "Epoch: 23000, Loss: 1.4711523056030273\n",
      "Epoch: 24000, Loss: 1.348180890083313\n",
      "Epoch: 25000, Loss: 1.2505820989608765\n",
      "Epoch: 26000, Loss: 1.176082968711853\n",
      "Epoch: 27000, Loss: 1.1206716299057007\n",
      "Epoch: 28000, Loss: 1.0800952911376953\n",
      "Epoch: 29000, Loss: 1.1593431234359741\n",
      "Epoch: 30000, Loss: 1.1211345195770264\n",
      "Epoch: 31000, Loss: 1.1090443134307861\n",
      "Epoch: 32000, Loss: 1.097407579421997\n",
      "Epoch: 33000, Loss: 1.0862650871276855\n",
      "Epoch: 34000, Loss: 1.075790524482727\n",
      "Epoch: 35000, Loss: 1.0660409927368164\n",
      "Epoch: 36000, Loss: 1.0570552349090576\n",
      "Epoch: 37000, Loss: 1.0487892627716064\n",
      "Epoch: 38000, Loss: 1.041252851486206\n",
      "Epoch: 39000, Loss: 1.0343537330627441\n"
     ]
    }
   ],
   "source": [
    "learning_rate=0.001\n",
    "optimizer = optim.SGD(dnn_model.parameters(),lr=learning_rate)\n",
    "training_loop(n_epochs = 40000,\n",
    "              optimizer = optimizer,\n",
    "              loss_fn = loss_fn,\n",
    "              model=dnn_model,\n",
    "              X = X,\n",
    "              y=y)"
   ]
  },
  {
   "cell_type": "code",
   "execution_count": 124,
   "id": "7633ae81-bdfc-47e8-9355-8cbadb4c97bc",
   "metadata": {},
   "outputs": [],
   "source": [
    "lin_yhat = lin_model(t_range)\n",
    "nn_yhat = nn_model(t_range)\n",
    "dnn_yhat = dnn_model(t_range)"
   ]
  },
  {
   "cell_type": "code",
   "execution_count": 125,
   "id": "c7334a6f-a936-4b96-863b-81d1f8d37d8c",
   "metadata": {},
   "outputs": [
    {
     "data": {
      "text/plain": [
       "<matplotlib.legend.Legend at 0x7fac4d1be2f0>"
      ]
     },
     "execution_count": 125,
     "metadata": {},
     "output_type": "execute_result"
    },
    {
     "data": {
      "image/png": "[encoded data removed]",
      "text/plain": [
       "<Figure size 640x480 with 1 Axes>"
      ]
     },
     "metadata": {},
     "output_type": "display_data"
    }
   ],
   "source": [
    "plt.scatter(X.numpy(),y.numpy())\n",
    "plt.plot(t_range.numpy(),nn_yhat.detach().numpy(),label=\"Neural network\")\n",
    "plt.plot(t_range.numpy(),dnn_yhat.detach().numpy(),label=\"Deep neural network\")\n",
    "plt.plot(t_range.numpy(),lin_yhat.detach().numpy(),label=\"Linear model\")\n",
    "plt.xlabel(\"Running speed (cm/sec)\")\n",
    "plt.ylabel(\"Firing rate (Hz)\")\n",
    "plt.legend()"
   ]
  },
  {
   "cell_type": "markdown",
   "id": "e00c98ee-c5bb-41ce-8b15-4b2229969941",
   "metadata": {},
   "source": [
    "# Exercise (Homework)\n",
    "\n",
    "Train a neural network that would predict the firing rate of a neuron based on speed and acceleration.\n",
    "\n",
    "The X tensor will have to have a shape of (27304,2)\n"
   ]
  },
  {
   "cell_type": "code",
   "execution_count": 86,
   "id": "ab737ae6-9b74-49e3-a0d3-6b68ad8169d5",
   "metadata": {},
   "outputs": [],
   "source": [
    "fn = \"../data/animal_acceleration.npy\"\n",
    "acceleration = np.load(fn)\n",
    "\n",
    "fn = \"../data/animal_speed.npy\"\n",
    "speed = np.load(fn)\n",
    "\n",
    "fn =  \"../data/y_rate.npy\"\n",
    "rate = np.load(fn)"
   ]
  },
  {
   "cell_type": "code",
   "execution_count": 87,
   "id": "5e51cca4-2465-407e-98fc-ed5920bafd18",
   "metadata": {},
   "outputs": [
    {
     "data": {
      "text/plain": [
       "(27304,)"
      ]
     },
     "execution_count": 87,
     "metadata": {},
     "output_type": "execute_result"
    }
   ],
   "source": [
    "rate.shape"
   ]
  },
  {
   "cell_type": "code",
   "execution_count": 88,
   "id": "5de16396-f5d0-4c7d-bb18-3d2ed18e4b95",
   "metadata": {},
   "outputs": [
    {
     "data": {
      "text/plain": [
       "Text(0, 0.5, 'Firing rate (Hz)')"
      ]
     },
     "execution_count": 88,
     "metadata": {},
     "output_type": "execute_result"
    },
    {
     "data": {
      "image/png": "[encoded data removed]",
      "text/plain": [
       "<Figure size 900x300 with 2 Axes>"
      ]
     },
     "metadata": {},
     "output_type": "display_data"
    }
   ],
   "source": [
    "nrow=1\n",
    "ncol=2\n",
    "fig, ax = plt.subplots(nrow,ncol,figsize=(9,3),layout='constrained')\n",
    "\n",
    "ax[0].scatter(speed,rate)\n",
    "ax[0].set_xlabel(\"Speed (cm/sec)\")\n",
    "ax[0].set_ylabel(\"Firing rate (Hz)\")\n",
    "ax[1].scatter(acceleration,rate)\n",
    "ax[1].set_xlabel(\"Acceleration\")\n",
    "ax[1].set_ylabel(\"Firing rate (Hz)\")"
   ]
  },
  {
   "cell_type": "code",
   "execution_count": null,
   "id": "fc99b169-e658-4bc3-b29e-00758a2ffe3d",
   "metadata": {},
   "outputs": [],
   "source": []
  }
 ],
 "metadata": {
  "kernelspec": {
   "display_name": ".venv",
   "language": "python",
   "name": "python3"
  },
  "language_info": {
   "codemirror_mode": {
    "name": "ipython",
    "version": 3
   },
   "file_extension": ".py",
   "mimetype": "text/x-python",
   "name": "python",
   "nbconvert_exporter": "python",
   "pygments_lexer": "ipython3",
   "version": "3.10.12"
  }
 },
 "nbformat": 4,
 "nbformat_minor": 5
}
