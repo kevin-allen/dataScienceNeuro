{
 "cells": [
  {
   "cell_type": "markdown",
   "id": "adee9b17-c2f1-40ae-bc41-1468bcf8c685",
   "metadata": {},
   "source": [
    "# Convolution\n",
    "\n",
    "This notebooks shows how convolutions works in pytorch.\n",
    "\n",
    "A convolution involves 2 tensors: Input data and a filter.\n",
    "\n",
    "The filter is also known as kernel.\n",
    "\n",
    "We are going to apply a convolution to an image using the `nn.Conv2d` module of pytorch.\n",
    "\n",
    "For simplicity, we use an image with one color channel. The image is taken from the MNIST dataset."
   ]
  },
  {
   "cell_type": "code",
   "execution_count": 7,
   "id": "29d2bd01-7dea-46d6-897c-9c1dcc835d74",
   "metadata": {},
   "outputs": [],
   "source": [
    "import torch\n",
    "import torch.nn as nn\n",
    "import torchvision\n",
    "import numpy\n",
    "import matplotlib.pyplot as plt"
   ]
  },
  {
   "cell_type": "code",
   "execution_count": 8,
   "id": "c00806ab-2ddc-41a6-8610-30fe1f3664a1",
   "metadata": {},
   "outputs": [],
   "source": [
    "transform = torchvision.transforms.Compose([torchvision.transforms.ToTensor()])\n",
    "\n",
    "test_dataset = torchvision.datasets.MNIST(root='../data', train=False,\n",
    "                                        download=True, transform=transform)"
   ]
  },
  {
   "cell_type": "code",
   "execution_count": 9,
   "id": "76918318-afc2-455f-8022-8be356fa7057",
   "metadata": {},
   "outputs": [],
   "source": [
    "image, label = test_dataset[0] "
   ]
  },
  {
   "cell_type": "code",
   "execution_count": 10,
   "id": "2833b168-0a59-4406-8c32-c3a6325ae237",
   "metadata": {},
   "outputs": [
    {
     "data": {
      "text/plain": [
       "(7, torch.Size([1, 28, 28]))"
      ]
     },
     "execution_count": 10,
     "metadata": {},
     "output_type": "execute_result"
    }
   ],
   "source": [
    "label,image.shape"
   ]
  },
  {
   "cell_type": "code",
   "execution_count": 11,
   "id": "08a6860a-63da-43a0-9520-b331aadfa9da",
   "metadata": {},
   "outputs": [
    {
     "data": {
      "image/png": "[encoded data removed]",
      "text/plain": [
       "<Figure size 640x480 with 1 Axes>"
      ]
     },
     "metadata": {},
     "output_type": "display_data"
    }
   ],
   "source": [
    "plt.imshow(image.squeeze())\n",
    "plt.title(\"This is a {}\".format(label))\n",
    "plt.show()"
   ]
  },
  {
   "cell_type": "code",
   "execution_count": 12,
   "id": "9f3fe200-9967-4e23-9105-29941c68baa1",
   "metadata": {},
   "outputs": [],
   "source": [
    "conv1 = nn.Conv2d(in_channels=1, out_channels= 1, kernel_size=5,stride=1, padding=0)  "
   ]
  },
  {
   "cell_type": "markdown",
   "id": "56ebec51-0a3b-4f3a-a2ae-72224e72b960",
   "metadata": {},
   "source": [
    "The convolution module contains weights that represent the filter of the convolution. The number of filters is controlled by the `out_channels` argument."
   ]
  },
  {
   "cell_type": "code",
   "execution_count": 14,
   "id": "9ab34ac0-c606-4c8b-8096-9f0f29ea0a3e",
   "metadata": {},
   "outputs": [
    {
     "data": {
      "text/plain": [
       "Parameter containing:\n",
       "tensor([[[[ 0.0164, -0.0962,  0.1604, -0.1785,  0.1343],\n",
       "          [-0.1136,  0.1368,  0.0161,  0.1855,  0.0340],\n",
       "          [ 0.0880, -0.1245,  0.1442, -0.0818, -0.1803],\n",
       "          [ 0.1312, -0.0043,  0.0808,  0.1469,  0.0265],\n",
       "          [ 0.1372,  0.1346, -0.1029,  0.0556, -0.1215]]]], requires_grad=True)"
      ]
     },
     "execution_count": 14,
     "metadata": {},
     "output_type": "execute_result"
    }
   ],
   "source": [
    "conv1.weight "
   ]
  },
  {
   "cell_type": "code",
   "execution_count": 18,
   "id": "7d741dc4-bd8a-456c-84f2-69adccca5081",
   "metadata": {},
   "outputs": [
    {
     "data": {
      "text/plain": [
       "torch.Size([1, 1, 5, 5])"
      ]
     },
     "execution_count": 18,
     "metadata": {},
     "output_type": "execute_result"
    }
   ],
   "source": [
    "conv1.weight.shape # [filter, color channel, height, width]"
   ]
  },
  {
   "cell_type": "markdown",
   "id": "e75c09db-0636-415f-aab0-2cf5e1a3bf39",
   "metadata": {},
   "source": [
    "We can set the parameter manually to see the effect of a convolution. \n",
    "\n",
    "Here, the convolution averages the values in the image. "
   ]
  },
  {
   "cell_type": "code",
   "execution_count": 19,
   "id": "2ea4d68a-aadc-454d-8643-3091d50de0bd",
   "metadata": {},
   "outputs": [],
   "source": [
    "conv1.weight = torch.nn.Parameter(torch.ones_like(conv1.weight)/25)"
   ]
  },
  {
   "cell_type": "code",
   "execution_count": 20,
   "id": "5ca068a7-7ed7-4779-a907-e510b5e6fb90",
   "metadata": {},
   "outputs": [
    {
     "data": {
      "text/plain": [
       "Parameter containing:\n",
       "tensor([[[[0.0400, 0.0400, 0.0400, 0.0400, 0.0400],\n",
       "          [0.0400, 0.0400, 0.0400, 0.0400, 0.0400],\n",
       "          [0.0400, 0.0400, 0.0400, 0.0400, 0.0400],\n",
       "          [0.0400, 0.0400, 0.0400, 0.0400, 0.0400],\n",
       "          [0.0400, 0.0400, 0.0400, 0.0400, 0.0400]]]], requires_grad=True)"
      ]
     },
     "execution_count": 20,
     "metadata": {},
     "output_type": "execute_result"
    }
   ],
   "source": [
    "conv1.weight"
   ]
  },
  {
   "cell_type": "markdown",
   "id": "f24afe0d-3925-42f3-ad24-3eb46054cad1",
   "metadata": {},
   "source": [
    "Put the image in a batch of size one to pass it to our convolutional layer."
   ]
  },
  {
   "cell_type": "code",
   "execution_count": 21,
   "id": "64f084a5-d48f-4761-82bc-f1303c3e2108",
   "metadata": {},
   "outputs": [
    {
     "data": {
      "text/plain": [
       "torch.Size([1, 1, 28, 28])"
      ]
     },
     "execution_count": 21,
     "metadata": {},
     "output_type": "execute_result"
    }
   ],
   "source": [
    "batch = image.unsqueeze(0)\n",
    "batch.shape"
   ]
  },
  {
   "cell_type": "code",
   "execution_count": 22,
   "id": "7561b72b-2e49-4d1f-9a16-0281e4543dbc",
   "metadata": {},
   "outputs": [],
   "source": [
    "out = conv1(batch)"
   ]
  },
  {
   "cell_type": "markdown",
   "id": "1593a53e-344d-4451-a094-c6fc0c7f3822",
   "metadata": {},
   "source": [
    "The shape of the output is `Height-kernel_size+1`."
   ]
  },
  {
   "cell_type": "code",
   "execution_count": 23,
   "id": "13409e04-720b-42d9-93a7-bc3d6f67e21b",
   "metadata": {},
   "outputs": [
    {
     "data": {
      "text/plain": [
       "torch.Size([1, 1, 24, 24])"
      ]
     },
     "execution_count": 23,
     "metadata": {},
     "output_type": "execute_result"
    }
   ],
   "source": [
    "out.shape"
   ]
  },
  {
   "cell_type": "code",
   "execution_count": 24,
   "id": "bd3ccd99-ed7e-4839-8eb4-67c0f379af82",
   "metadata": {},
   "outputs": [
    {
     "data": {
      "text/plain": [
       "Text(0.5, 1.0, 'Output image')"
      ]
     },
     "execution_count": 24,
     "metadata": {},
     "output_type": "execute_result"
    },
    {
     "data": {
      "image/png": "[encoded data removed]",
      "text/plain": [
       "<Figure size 600x300 with 3 Axes>"
      ]
     },
     "metadata": {},
     "output_type": "display_data"
    }
   ],
   "source": [
    "nrow=1\n",
    "ncol=3\n",
    "fig, ax = plt.subplots(nrow,ncol,figsize=(6,3))\n",
    "ax[0].imshow(image.squeeze())\n",
    "ax[0].set_title(\"Input image\")\n",
    "ax[1].imshow(conv1.weight.squeeze().detach())\n",
    "ax[1].set_title(\"Filter\")\n",
    "ax[2].imshow(out.squeeze().detach())\n",
    "ax[2].set_title(\"Output image\")"
   ]
  },
  {
   "cell_type": "code",
   "execution_count": 25,
   "id": "cbbfec40-b5f3-4a64-84a7-c26755eec128",
   "metadata": {},
   "outputs": [],
   "source": [
    "newKernel = torch.tensor([[[[-1.0,-1,0,1,1],[-1,-1,0,1,1],[-1,-1,0,1,1],[-1,-1,0,1,1],[-1,-1,0,1,1]]]])\n",
    "conv1.weight = torch.nn.Parameter(newKernel)\n",
    "out = conv1(batch)"
   ]
  },
  {
   "cell_type": "code",
   "execution_count": 26,
   "id": "195eee97-eb7b-43e8-8d46-d3df4db31252",
   "metadata": {},
   "outputs": [
    {
     "data": {
      "text/plain": [
       "Text(0.5, 1.0, 'Output image')"
      ]
     },
     "execution_count": 26,
     "metadata": {},
     "output_type": "execute_result"
    },
    {
     "data": {
      "image/png": "[encoded data removed]",
      "text/plain": [
       "<Figure size 600x300 with 3 Axes>"
      ]
     },
     "metadata": {},
     "output_type": "display_data"
    }
   ],
   "source": [
    "nrow=1\n",
    "ncol=3\n",
    "fig, ax = plt.subplots(nrow,ncol,figsize=(6,3))\n",
    "ax[0].imshow(image.squeeze())\n",
    "ax[0].set_title(\"Input image\")\n",
    "ax[1].imshow(conv1.weight.squeeze().detach())\n",
    "ax[1].set_title(\"Filter\")\n",
    "ax[2].imshow(out.squeeze().detach())\n",
    "ax[2].set_title(\"Output image\")"
   ]
  },
  {
   "cell_type": "code",
   "execution_count": 27,
   "id": "e03fa44c-b3ca-4e14-b963-605472fdc477",
   "metadata": {},
   "outputs": [],
   "source": [
    "newKernel = torch.tensor([[[[1.0,1,1,1,1],[1,1,1,1,1],[0,0,0,0,0],[-1,-1,-1,-1,-1],[-1,-1,-1,-1,-1]]]])\n",
    "conv1.weight = torch.nn.Parameter(newKernel)\n",
    "out = conv1(batch)"
   ]
  },
  {
   "cell_type": "code",
   "execution_count": 28,
   "id": "613edac0-2df0-472d-9169-a39c45f352ca",
   "metadata": {},
   "outputs": [
    {
     "data": {
      "text/plain": [
       "Text(0.5, 1.0, 'Output image')"
      ]
     },
     "execution_count": 28,
     "metadata": {},
     "output_type": "execute_result"
    },
    {
     "data": {
      "image/png": "[encoded data removed]",
      "text/plain": [
       "<Figure size 600x300 with 3 Axes>"
      ]
     },
     "metadata": {},
     "output_type": "display_data"
    }
   ],
   "source": [
    "nrow=1\n",
    "ncol=3\n",
    "fig, ax = plt.subplots(nrow,ncol,figsize=(6,3))\n",
    "ax[0].imshow(image.squeeze())\n",
    "ax[0].set_title(\"Input image\")\n",
    "ax[1].imshow(conv1.weight.squeeze().detach())\n",
    "ax[1].set_title(\"Filter\")\n",
    "ax[2].imshow(out.squeeze().detach())\n",
    "ax[2].set_title(\"Output image\")"
   ]
  },
  {
   "cell_type": "markdown",
   "id": "6324d73f-ecf9-41eb-953f-cc06c524c101",
   "metadata": {},
   "source": [
    "## Take home messages\n",
    "\n",
    "* Filters with different weights will extract different features in the image.\n",
    "* During the convolution, the filter is applied to all part of the image. It detects the feature independently of where it is in the image.  \n",
    "\n",
    "* In a convolutional network, the weights in the filters are learned during the training process. No need to set them manually!"
   ]
  },
  {
   "cell_type": "code",
   "execution_count": null,
   "id": "fdfcbd7f-3730-4817-b8fd-11bd88a43814",
   "metadata": {},
   "outputs": [],
   "source": []
  }
 ],
 "metadata": {
  "kernelspec": {
   "display_name": "Python 3 (ipykernel)",
   "language": "python",
   "name": "python3"
  },
  "language_info": {
   "codemirror_mode": {
    "name": "ipython",
    "version": 3
   },
   "file_extension": ".py",
   "mimetype": "text/x-python",
   "name": "python",
   "nbconvert_exporter": "python",
   "pygments_lexer": "ipython3",
   "version": "3.10.12"
  }
 },
 "nbformat": 4,
 "nbformat_minor": 5
}
