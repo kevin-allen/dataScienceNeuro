{
 "cells": [
  {
   "cell_type": "markdown",
   "metadata": {
    "id": "UxlslV348nOj"
   },
   "source": [
    "# Colab test\n",
    "\n",
    "This is a notebook to test Google Colab and access your Google Drive from the notebook.\n",
    "\n",
    "See instructions at https://github.com/kevin-allen/dataScienceNeuro/blob/main/colab.md\n",
    "\n",
    "\n"
   ]
  },
  {
   "cell_type": "markdown",
   "metadata": {
    "id": "WgCKpmxp89S8"
   },
   "source": [
    "## Mount your Google Drive"
   ]
  },
  {
   "cell_type": "code",
   "execution_count": 1,
   "metadata": {
    "colab": {
     "base_uri": "https://localhost:8080/"
    },
    "id": "EiBd1pq88l-4",
    "outputId": "f223a5e4-631a-44a0-d0ac-539c836de9d1"
   },
   "outputs": [
    {
     "name": "stdout",
     "output_type": "stream",
     "text": [
      "Drive already mounted at /content/drive; to attempt to forcibly remount, call drive.mount(\"/content/drive\", force_remount=True).\n"
     ]
    }
   ],
   "source": [
    "from google.colab import drive\n",
    "drive.mount('/content/drive')"
   ]
  },
  {
   "cell_type": "markdown",
   "metadata": {
    "id": "ImYhzsmF9SB7"
   },
   "source": [
    "## Access the `dsfolder` on your Google Drive\n",
    "\n",
    "We can test if we can find our folder using the `os` package."
   ]
  },
  {
   "cell_type": "code",
   "execution_count": null,
   "metadata": {},
   "outputs": [],
   "source": [
    "import os"
   ]
  },
  {
   "cell_type": "code",
   "execution_count": null,
   "metadata": {},
   "outputs": [],
   "source": [
    "# Specify the directory path\n",
    "directory_path = \"/content/drive/My Drive/\"\n",
    "# List all files in the directory\n",
    "files = os.listdir(directory_path)\n",
    "# Print the list of files\n",
    "print(\"Content of the directory:\")\n",
    "for file in files:\n",
    "    print(file)"
   ]
  },
  {
   "cell_type": "markdown",
   "metadata": {},
   "source": [
    "Test if we can access our dsfolder in the Google Drive"
   ]
  },
  {
   "cell_type": "code",
   "execution_count": 2,
   "metadata": {
    "colab": {
     "base_uri": "https://localhost:8080/"
    },
    "id": "GUkehy8h-MZc",
    "outputId": "939c6108-f2af-4e8c-fb5c-b78f633f5065"
   },
   "outputs": [
    {
     "name": "stdout",
     "output_type": "stream",
     "text": [
      "We can access /content/drive/My Drive/dsfolder\n"
     ]
    }
   ],
   "source": [
    "fn = \"/content/drive/My Drive/dsfolder\"\n",
    "if os.path.exists(fn):\n",
    "  print(\"We can access {}\".format(fn))\n",
    "else:\n",
    "  raise IOError(\"We can't access {}\".format(fn))"
   ]
  },
  {
   "cell_type": "markdown",
   "metadata": {
    "id": "H-S5dant_ZCW"
   },
   "source": [
    "Now let's try to access the data file `animal_speed.npy`"
   ]
  },
  {
   "cell_type": "code",
   "execution_count": 3,
   "metadata": {
    "colab": {
     "base_uri": "https://localhost:8080/"
    },
    "id": "tZBxF9tc-eSe",
    "outputId": "ef1fa07d-64b2-4826-95aa-c1e1bacd1260"
   },
   "outputs": [
    {
     "name": "stdout",
     "output_type": "stream",
     "text": [
      "We can access /content/drive/My Drive/dsfolder/animal_speed.npy\n"
     ]
    }
   ],
   "source": [
    "import os\n",
    "fn = \"/content/drive/My Drive/dsfolder/animal_speed.npy\"\n",
    "if os.path.exists(fn):\n",
    "  print(\"We can access {}\".format(fn))\n",
    "else:\n",
    "  raise IOError(\"We can't access {}\".format(fn))"
   ]
  },
  {
   "cell_type": "code",
   "execution_count": 4,
   "metadata": {
    "id": "WFbryRGR_hAX"
   },
   "outputs": [],
   "source": [
    "import numpy as np\n",
    "import matplotlib.pyplot as plt"
   ]
  },
  {
   "cell_type": "code",
   "execution_count": 8,
   "metadata": {
    "id": "qIIpNfV9_qDG"
   },
   "outputs": [],
   "source": [
    "fn = \"/content/drive/My Drive/dsfolder/animal_speed.npy\"\n",
    "speed = np.load(fn)"
   ]
  },
  {
   "cell_type": "code",
   "execution_count": 17,
   "metadata": {
    "colab": {
     "base_uri": "https://localhost:8080/",
     "height": 534
    },
    "id": "BoHLTQPDCu-M",
    "outputId": "7e01c8fc-45c3-4f03-fdff-de26760bff53"
   },
   "outputs": [
    {
     "data": {
      "text/plain": [
       "(array([1.3966e+04, 4.7920e+03, 3.7230e+03, 2.8050e+03, 1.3930e+03,\n",
       "        4.7000e+02, 1.1800e+02, 2.3000e+01, 1.1000e+01, 3.0000e+00]),\n",
       " array([ 0.        ,  7.36851978, 14.73703957, 22.10555935, 29.47407913,\n",
       "        36.84259892, 44.2111187 , 51.57963848, 58.94815827, 66.31667805,\n",
       "        73.68519783]),\n",
       " <BarContainer object of 10 artists>)"
      ]
     },
     "execution_count": 17,
     "metadata": {},
     "output_type": "execute_result"
    },
    {
     "data": {
      "image/png": "[encoded data removed]",
      "text/plain": [
       "<Figure size 640x480 with 1 Axes>"
      ]
     },
     "metadata": {},
     "output_type": "display_data"
    }
   ],
   "source": [
    "plt.hist(speed)"
   ]
  },
  {
   "cell_type": "markdown",
   "metadata": {
    "id": "8fz3Ezpu_0hc"
   },
   "source": [
    "## Alternative way to load a file without saving it into your Google Drive\n",
    "\n",
    "1. Look at the left side of this page, you will see an icon that looks like a folder. Click on it.\n",
    "2. There is an icon to upload file. Click on it and upload your data file.\n",
    "3. You can now load it by simply using the file name. For example `fn = \"animal_speed.npy\"`\n",
    "\n",
    "Note that files that are not saved to your Google Drive will be lost when you close your Google Colab session."
   ]
  },
  {
   "cell_type": "code",
   "execution_count": 5,
   "metadata": {
    "id": "Z0_T9hDjAygp"
   },
   "outputs": [],
   "source": [
    "fn = \"animal_speed.npy\""
   ]
  },
  {
   "cell_type": "code",
   "execution_count": 6,
   "metadata": {
    "colab": {
     "base_uri": "https://localhost:8080/"
    },
    "id": "I2BdPxU3AxlP",
    "outputId": "dd14d77e-6009-48ce-cfaa-614cd49d2940"
   },
   "outputs": [
    {
     "name": "stdout",
     "output_type": "stream",
     "text": [
      "We can access animal_speed.npy\n"
     ]
    }
   ],
   "source": [
    "if os.path.exists(fn):\n",
    "  print(\"We can access {}\".format(fn))\n",
    "else:\n",
    "  raise IOError(\"We can't access {}\".format(fn))"
   ]
  }
 ],
 "metadata": {
  "colab": {
   "provenance": []
  },
  "kernelspec": {
   "display_name": "Python 3 (ipykernel)",
   "language": "python",
   "name": "python3"
  },
  "language_info": {
   "codemirror_mode": {
    "name": "ipython",
    "version": 3
   },
   "file_extension": ".py",
   "mimetype": "text/x-python",
   "name": "python",
   "nbconvert_exporter": "python",
   "pygments_lexer": "ipython3",
   "version": "3.10.12"
  }
 },
 "nbformat": 4,
 "nbformat_minor": 4
}
