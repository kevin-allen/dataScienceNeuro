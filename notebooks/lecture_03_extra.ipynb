{
 "cells": [
  {
   "cell_type": "code",
   "execution_count": null,
   "metadata": {},
   "outputs": [],
   "source": [
    "%load_ext autoreload\n",
    "%autoreload 2\n",
    "\n",
    "import numpy as np\n",
    "import matplotlib.pyplot as plt\n",
    "from scipy.signal import butter\n",
    "from scipy.signal import sosfreqz\n",
    "from scipy.signal import sosfiltfilt\n",
    "from scipy.signal import find_peaks"
   ]
  },
  {
   "cell_type": "code",
   "execution_count": null,
   "metadata": {},
   "outputs": [],
   "source": [
    "fileName = \"../data/shortRaw.npy\" # binder users or people with a local git repository\n",
    "dat = np.load(fileName)"
   ]
  },
  {
   "cell_type": "code",
   "execution_count": null,
   "metadata": {},
   "outputs": [],
   "source": [
    "z=5 # we want spikes to be at least 5 standard deviation from the mean\n",
    "\n",
    "# We can use Numpy mean, std to calculate the mean of each channel without a for loop\n",
    "means=y.mean(axis=1)\n",
    "stds=y.std(axis=1)\n",
    "thresholds = means-stds*z\n",
    "\n",
    "# We need to copy our filtered data \n",
    "yDetect = y.copy() # use a copy of the data to avoid destroying it during the manipulation\n",
    "\n",
    "# Inverse the polarity of the signal, spikes are going up\n",
    "yDetect = 0 - yDetect\n",
    "\n",
    "# Create an empty list to store the spikes detected on each channel\n",
    "spikeTimesList = [] \n",
    "\n",
    "# loop to detect the spikes on each channel\n",
    "for i in range(dat.shape[0]):\n",
    "    spikeTimes, _ = find_peaks(x=yDetect[i,:],height=0-thresholds[i]) # the function returs 2 values, we want the first one\n",
    "    spikeTimesList.append(spikeTimes)\n",
    "    print(\"Detection chan {}, {} spikes\".format(i,spikeTimes.shape[0]))"
   ]
  },
  {
   "cell_type": "code",
   "execution_count": null,
   "metadata": {},
   "outputs": [],
   "source": [
    "offset=3000\n",
    "plt.figure(figsize=(20,20)) # set the size of the figure\n",
    "for i in range(y.shape[0]): #loop for every channel\n",
    "    plt.plot(y[i,:]-i*offset,label=i) # plot the channel, apply the y-offset so that the channels are not all on top of each other\n",
    "    plt.plot([0,y.shape[1]],[thresholds[i]-i*offset,thresholds[i]-i*offset]) # plot the threshold\n",
    "    plt.scatter(spikeTimesList[i],y[i,spikeTimesList[i]]-i*offset,c=\"red\") # plot the spikes\n",
    "plt.legend()\n",
    "plt.show()\n"
   ]
  },
  {
   "cell_type": "code",
   "execution_count": null,
   "metadata": {},
   "outputs": [],
   "source": []
  },
  {
   "cell_type": "code",
   "execution_count": 1,
   "metadata": {},
   "outputs": [
    {
     "ename": "NameError",
     "evalue": "name 'np' is not defined",
     "output_type": "error",
     "traceback": [
      "\u001b[0;31m---------------------------------------------------------------------------\u001b[0m",
      "\u001b[0;31mNameError\u001b[0m                                 Traceback (most recent call last)",
      "\u001b[0;32m<ipython-input-1-13d57a34ab4e>\u001b[0m in \u001b[0;36m<module>\u001b[0;34m\u001b[0m\n\u001b[1;32m      1\u001b[0m \u001b[0;31m# plot mean waveforms all clusters\u001b[0m\u001b[0;34m\u001b[0m\u001b[0;34m\u001b[0m\u001b[0;34m\u001b[0m\u001b[0m\n\u001b[0;32m----> 2\u001b[0;31m \u001b[0mnClu\u001b[0m \u001b[0;34m=\u001b[0m \u001b[0mnp\u001b[0m\u001b[0;34m.\u001b[0m\u001b[0munique\u001b[0m\u001b[0;34m(\u001b[0m\u001b[0mkmeans\u001b[0m\u001b[0;34m.\u001b[0m\u001b[0mlabels_\u001b[0m\u001b[0;34m)\u001b[0m\u001b[0;34m.\u001b[0m\u001b[0mshape\u001b[0m\u001b[0;34m[\u001b[0m\u001b[0;36m0\u001b[0m\u001b[0;34m]\u001b[0m\u001b[0;34m\u001b[0m\u001b[0;34m\u001b[0m\u001b[0m\n\u001b[0m\u001b[1;32m      3\u001b[0m \u001b[0mfig\u001b[0m\u001b[0;34m,\u001b[0m \u001b[0max\u001b[0m \u001b[0;34m=\u001b[0m \u001b[0mplt\u001b[0m\u001b[0;34m.\u001b[0m\u001b[0msubplots\u001b[0m\u001b[0;34m(\u001b[0m\u001b[0;36m1\u001b[0m\u001b[0;34m,\u001b[0m\u001b[0mnClu\u001b[0m\u001b[0;34m,\u001b[0m\u001b[0mfigsize\u001b[0m\u001b[0;34m=\u001b[0m\u001b[0;34m(\u001b[0m\u001b[0;36m20\u001b[0m\u001b[0;34m,\u001b[0m\u001b[0;36m6\u001b[0m\u001b[0;34m)\u001b[0m\u001b[0;34m)\u001b[0m\u001b[0;34m\u001b[0m\u001b[0;34m\u001b[0m\u001b[0m\n\u001b[1;32m      4\u001b[0m \u001b[0;34m\u001b[0m\u001b[0m\n\u001b[1;32m      5\u001b[0m \u001b[0;32mfor\u001b[0m \u001b[0mi\u001b[0m\u001b[0;34m,\u001b[0m \u001b[0mclu\u001b[0m \u001b[0;32min\u001b[0m \u001b[0menumerate\u001b[0m\u001b[0;34m(\u001b[0m\u001b[0mnp\u001b[0m\u001b[0;34m.\u001b[0m\u001b[0munique\u001b[0m\u001b[0;34m(\u001b[0m\u001b[0mkmeans\u001b[0m\u001b[0;34m.\u001b[0m\u001b[0mlabels_\u001b[0m\u001b[0;34m)\u001b[0m\u001b[0;34m)\u001b[0m\u001b[0;34m:\u001b[0m\u001b[0;34m\u001b[0m\u001b[0;34m\u001b[0m\u001b[0m\n",
      "\u001b[0;31mNameError\u001b[0m: name 'np' is not defined"
     ]
    }
   ],
   "source": [
    "# plot mean waveforms one cluster\n",
    "clu = 0\n",
    "clusterIndices = kmeans.labels_==clu\n",
    "print(\"clusterIndices.shape:\", clusterIndices.shape)\n",
    "print(\"clusterIndices.sum():\", clusterIndices.sum())"
   ]
  },
  {
   "cell_type": "code",
   "execution_count": null,
   "metadata": {},
   "outputs": [],
   "source": [
    "print(\"waveforms.shape:\",waveforms.shape)\n",
    "selWaveforms = waveforms[:,:,clusterIndices]\n",
    "print(\"selWaveforms.shape:\",selWaveforms.shape)\n",
    "plt.figure(figsize=(5,5))\n",
    "plt.imshow(selWaveforms.mean(axis=2),aspect=\"auto\")"
   ]
  },
  {
   "cell_type": "code",
   "execution_count": null,
   "metadata": {},
   "outputs": [],
   "source": [
    "# plot mean waveforms all clusters\n",
    "nClu = np.unique(kmeans.labels_).shape[0]\n",
    "fig, ax = plt.subplots(1,nClu,figsize=(20,6))\n",
    "\n",
    "for i, clu in enumerate(np.unique(kmeans.labels_)):\n",
    "    clusterIndices = kmeans.labels_==clu\n",
    "    w = waveforms[:,:,clusterIndices].mean(axis=2)\n",
    "    ax[i].imshow(w,aspect=\"auto\")"
   ]
  }
 ],
 "metadata": {
  "kernelspec": {
   "display_name": "Python 3",
   "language": "python",
   "name": "python3"
  },
  "language_info": {
   "codemirror_mode": {
    "name": "ipython",
    "version": 3
   },
   "file_extension": ".py",
   "mimetype": "text/x-python",
   "name": "python",
   "nbconvert_exporter": "python",
   "pygments_lexer": "ipython3",
   "version": "3.8.5"
  }
 },
 "nbformat": 4,
 "nbformat_minor": 4
}
