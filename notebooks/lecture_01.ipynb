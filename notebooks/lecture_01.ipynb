{
 "cells": [
  {
   "cell_type": "markdown",
   "metadata": {},
   "source": [
    "# Lecture 1, Data science in Neuroscience\n",
    "\n",
    "Open a browser window and go to https://tinyurl.com/3pyz9mpb\n",
    "It will take a few minutes to load.\n",
    "\n",
    "## Today's plan\n",
    "\n",
    "1. Overview of the course\n",
    "2. Assessment of previous experience\n",
    "3. Data science landscape\n",
    "4. Introduction to Python\n",
    "5. Numpy and Matplotlib\n",
    "6. Import data (electrophysiological data recorded from the hippocampus of a mouse)\n"
   ]
  },
  {
   "cell_type": "markdown",
   "metadata": {},
   "source": [
    "## What is data science?\n",
    "\n",
    "Turn raw data into understanding, insight and knowledge.\n",
    "\n",
    "For a neuroscientist, this is what typically follows data acquisition."
   ]
  },
  {
   "cell_type": "markdown",
   "metadata": {},
   "source": [
    "![dataScience](../images/data-science.png)\n",
    "\n",
    "Image from \"R for Data science\" by Wickham and Grolemund"
   ]
  },
  {
   "cell_type": "markdown",
   "metadata": {},
   "source": [
    "## Course objectives"
   ]
  },
  {
   "cell_type": "markdown",
   "metadata": {},
   "source": [
    "1. Identify the principal tools available in data science (focus on tools for Python)\n",
    "2. Use Jupiter notebook to mix code, figures, and text.\n",
    "3. Learn how to use NumPy arrays and Pandas DataFrames.\n",
    "4. Visualize your data using Matplotlib.\n",
    "5. Understand what machine learning is and identify its principal advantages and challenges.\n",
    "6. Apply a machine-learning algorithm to test a hypothesis in neuroscience.\n",
    "7. Train a deep neural network [deeplabcut](https://github.com/DeepLabCut/DeepLabCut) to track an animal in a video."
   ]
  },
  {
   "cell_type": "markdown",
   "metadata": {},
   "source": [
    "## Supporting materials\n",
    "\n",
    "* [DataCamp website](https://app.datacamp.com/learn)\n",
    "* [Python for Data Analysis (book)](https://wesmckinney.com/book/)\n",
    "\n",
    "More to be shared along the way.\n"
   ]
  },
  {
   "cell_type": "markdown",
   "metadata": {},
   "source": [
    "## Course online repository\n",
    "\n",
    "The content of the course is in a GitHub repository.\n",
    "\n",
    "https://github.com/kevin-allen/dataScienceNeuro\n",
    "\n",
    "You can download the notebooks used in the lecture from this repository. \n",
    "\n",
    "Warning: Notebooks are typically updated on Thurdays!\n",
    "\n",
    "\n",
    "## Running your own Jupyter server\n",
    "\n",
    "I encourage you to run your own jupyter server on your computer. That is the traditional way.\n",
    "\n",
    "If you don't have a copy of the course repository on your computer, you can open the notebooks using __Binder__.\n",
    "\n",
    "It will take 2-5 minutes and you will be able to run most of the code.\n",
    "\n",
    "Try this short link: https://tinyurl.com/3pyz9mpb\n",
    "\n",
    "Longer form:https://mybinder.org/v2/gh/kevin-allen/dataScienceNeuro/HEAD\n",
    "\n",
    "\n",
    "I encourage you to download the course repository before the lecture and run the jupyter notebook on your computer."
   ]
  },
  {
   "cell_type": "markdown",
   "metadata": {},
   "source": [
    "## Lecture format\n",
    "\n",
    "1. Introduction of the main topic\n",
    "2. Exercises\n",
    "3. Review of exercises\n",
    "4. Exercises/readings/videos between lectures to consolidate new skills\n",
    "5. Review jupyter notebooks at least once to make the new knowledge stick\n",
    "\n",
    "Feel free to interrupt me with your questions as often as you like."
   ]
  },
  {
   "cell_type": "markdown",
   "metadata": {},
   "source": [
    "## Small project\n",
    "\n",
    "\n",
    "At the end of the course, each student (alone or in a team of 2 students) choose a small data analysis project that they will present on the 15.12.2022.\n",
    "\n",
    "The project will be presented as a Jupyter notebook. \n",
    "\n",
    "1. Identify the spatial coding properties of neurons.\n",
    "2. Using a deep neural network to track the position of a moving object (mouse, hand, etc) in a video.\n",
    "3. More to come\n",
    "\n",
    "***"
   ]
  },
  {
   "cell_type": "markdown",
   "metadata": {},
   "source": [
    "## Previous experience\n",
    "\n",
    "A short survey of the classroom.\n",
    "\n",
    "https://forms.gle/GBvrNDtx8Q8HhVyu5\n",
    "\n",
    "***"
   ]
  },
  {
   "cell_type": "markdown",
   "metadata": {},
   "source": [
    "## Data science landscape\n",
    "\n",
    "### Matlab\n",
    "\n",
    "#### Pros\n",
    "* Stable environment\n",
    "* Good signal processing toolbox\n",
    "* Good at matrix operations\n",
    "\n",
    "#### Cons\n",
    "* Proprietary programming language\n",
    "* Expensive (yearly license needed)\n",
    "* Some people might not be able to run your code \n",
    "\n",
    "### R\n",
    "\n",
    "#### Pros\n",
    "* Open-source language\n",
    "* Great for traditional statistical analysis and tabular data\n",
    "\n",
    "#### Cons\n",
    "* Less popular than python in Neuroscience\n",
    "* Lacking tools for image and signal processing\n",
    "\n",
    "### Python\n",
    "\n",
    "#### Pros\n",
    "* Open-source language\n",
    "* Very popular in neuroscience\n",
    "* Great for signal processing (NumPy, SciPy) or image processing (openCV).\n",
    "* Best machine learning toolboxes (scikit-learn, tensorflow, PyTorch). \n",
    "\n",
    "#### Cons\n",
    "* Conflicts between different versions of packages!\n",
    "* Virtual environments might be confusing at first\n",
    "\n",
    "***"
   ]
  },
  {
   "cell_type": "markdown",
   "metadata": {},
   "source": [
    "# Introduction to Python\n",
    "\n",
    "We can run python code directly in this notebook and we can display results of calculations.\n",
    "\n",
    "Use shift+enter to run the code (or click on Run/Run Selected Cells)."
   ]
  },
  {
   "cell_type": "code",
   "execution_count": 3,
   "metadata": {},
   "outputs": [
    {
     "data": {
      "text/plain": [
       "13"
      ]
     },
     "execution_count": 3,
     "metadata": {},
     "output_type": "execute_result"
    }
   ],
   "source": [
    "4+9"
   ]
  },
  {
   "cell_type": "markdown",
   "metadata": {},
   "source": [
    "You can create variables when you need them."
   ]
  },
  {
   "cell_type": "code",
   "execution_count": 4,
   "metadata": {},
   "outputs": [
    {
     "data": {
      "text/plain": [
       "64"
      ]
     },
     "execution_count": 4,
     "metadata": {},
     "output_type": "execute_result"
    }
   ],
   "source": [
    "myVar = 8\n",
    "myVar*myVar"
   ]
  },
  {
   "cell_type": "markdown",
   "metadata": {},
   "source": [
    "## Built-in types"
   ]
  },
  {
   "cell_type": "markdown",
   "metadata": {},
   "source": [
    "Scalars (single values) that are part of the Python language. You can use `type()` to know the type of these objects"
   ]
  },
  {
   "cell_type": "code",
   "execution_count": 5,
   "metadata": {},
   "outputs": [
    {
     "data": {
      "text/plain": [
       "(NoneType, str, int, float, bool)"
      ]
     },
     "execution_count": 5,
     "metadata": {},
     "output_type": "execute_result"
    }
   ],
   "source": [
    "myVar = None \n",
    "myString = \"Hey you\"\n",
    "myNumberInt = 2\n",
    "myNumberFloat =2.4\n",
    "myBool = True\n",
    "\n",
    "type(myVar),type(myString),type(myNumberInt),type(myNumberFloat),type(myBool)"
   ]
  },
  {
   "cell_type": "markdown",
   "metadata": {},
   "source": [
    "## List [...]\n",
    "\n",
    "Lists are a very important structure in python. They are a list of elements."
   ]
  },
  {
   "cell_type": "code",
   "execution_count": 6,
   "metadata": {},
   "outputs": [
    {
     "data": {
      "text/plain": [
       "[1, 2, 3, 4, 'a']"
      ]
     },
     "execution_count": 6,
     "metadata": {},
     "output_type": "execute_result"
    }
   ],
   "source": [
    "myList = [1,2,3,4,\"a\"]\n",
    "myList"
   ]
  },
  {
   "cell_type": "markdown",
   "metadata": {},
   "source": [
    "If you want to make sure that this is a list, use `type()`."
   ]
  },
  {
   "cell_type": "code",
   "execution_count": 7,
   "metadata": {},
   "outputs": [
    {
     "data": {
      "text/plain": [
       "list"
      ]
     },
     "execution_count": 7,
     "metadata": {},
     "output_type": "execute_result"
    }
   ],
   "source": [
    "type(myList)"
   ]
  },
  {
   "cell_type": "markdown",
   "metadata": {},
   "source": [
    "Use tab to know what attributes and methods are available for an object."
   ]
  },
  {
   "cell_type": "code",
   "execution_count": 9,
   "metadata": {},
   "outputs": [
    {
     "data": {
      "text/plain": [
       "[1, 2, 3, 4, 'a', 'f', 'f']"
      ]
     },
     "execution_count": 9,
     "metadata": {},
     "output_type": "execute_result"
    }
   ],
   "source": [
    "myList.append(\"f\")\n",
    "myList"
   ]
  },
  {
   "cell_type": "markdown",
   "metadata": {},
   "source": [
    "To lean what a method is doing, use online documentation or ?"
   ]
  },
  {
   "cell_type": "code",
   "execution_count": 7,
   "metadata": {},
   "outputs": [
    {
     "data": {
      "text/plain": [
       "\u001b[0;31mSignature:\u001b[0m \u001b[0mlist\u001b[0m\u001b[0;34m.\u001b[0m\u001b[0mappend\u001b[0m\u001b[0;34m(\u001b[0m\u001b[0mself\u001b[0m\u001b[0;34m,\u001b[0m \u001b[0mobject\u001b[0m\u001b[0;34m,\u001b[0m \u001b[0;34m/\u001b[0m\u001b[0;34m)\u001b[0m\u001b[0;34m\u001b[0m\u001b[0;34m\u001b[0m\u001b[0m\n",
       "\u001b[0;31mDocstring:\u001b[0m Append object to the end of the list.\n",
       "\u001b[0;31mType:\u001b[0m      method_descriptor\n"
      ]
     },
     "metadata": {},
     "output_type": "display_data"
    }
   ],
   "source": [
    "#?myList.append\n",
    "?list.append"
   ]
  },
  {
   "cell_type": "markdown",
   "metadata": {},
   "source": [
    "Slice a list to get only part of it"
   ]
  },
  {
   "cell_type": "code",
   "execution_count": 10,
   "metadata": {},
   "outputs": [
    {
     "data": {
      "text/plain": [
       "[1, 2, 3, 4, 'a', 'f', 'f']"
      ]
     },
     "execution_count": 10,
     "metadata": {},
     "output_type": "execute_result"
    }
   ],
   "source": [
    "myList"
   ]
  },
  {
   "cell_type": "code",
   "execution_count": 11,
   "metadata": {},
   "outputs": [
    {
     "data": {
      "text/plain": [
       "[1, 2]"
      ]
     },
     "execution_count": 11,
     "metadata": {},
     "output_type": "execute_result"
    }
   ],
   "source": [
    "myList[0:2]"
   ]
  },
  {
   "cell_type": "code",
   "execution_count": 12,
   "metadata": {},
   "outputs": [
    {
     "data": {
      "text/plain": [
       "[3, 4]"
      ]
     },
     "execution_count": 12,
     "metadata": {},
     "output_type": "execute_result"
    }
   ],
   "source": [
    "myList[2:4]"
   ]
  },
  {
   "cell_type": "code",
   "execution_count": 13,
   "metadata": {},
   "outputs": [
    {
     "data": {
      "text/plain": [
       "[1, 2, 3, 4, 'a']"
      ]
     },
     "execution_count": 13,
     "metadata": {},
     "output_type": "execute_result"
    }
   ],
   "source": [
    "myList[0:-2]"
   ]
  },
  {
   "cell_type": "markdown",
   "metadata": {},
   "source": [
    "## Tuple (...)\n",
    "\n",
    "A tuple is a group of element. It can't be changed."
   ]
  },
  {
   "cell_type": "code",
   "execution_count": 14,
   "metadata": {},
   "outputs": [],
   "source": [
    "myTupple = (1,2,3,\"hey\")"
   ]
  },
  {
   "cell_type": "markdown",
   "metadata": {},
   "source": [
    "## Dictionary {...}\n",
    "\n",
    "Dictionary are used to store data values in key:value pairs."
   ]
  },
  {
   "cell_type": "code",
   "execution_count": 15,
   "metadata": {},
   "outputs": [],
   "source": [
    "myDict = {\"names\": [\"Luke\",\"Stephany\",\"Peter\"],\n",
    "          \"grades\": [89,95,92]}"
   ]
  },
  {
   "cell_type": "code",
   "execution_count": 16,
   "metadata": {},
   "outputs": [
    {
     "data": {
      "text/plain": [
       "{'names': ['Luke', 'Stephany', 'Peter'], 'grades': [89, 95, 92]}"
      ]
     },
     "execution_count": 16,
     "metadata": {},
     "output_type": "execute_result"
    }
   ],
   "source": [
    "myDict"
   ]
  },
  {
   "cell_type": "code",
   "execution_count": 17,
   "metadata": {},
   "outputs": [
    {
     "data": {
      "text/plain": [
       "['Luke', 'Stephany', 'Peter']"
      ]
     },
     "execution_count": 17,
     "metadata": {},
     "output_type": "execute_result"
    }
   ],
   "source": [
    "myDict[\"names\"]"
   ]
  },
  {
   "cell_type": "code",
   "execution_count": 21,
   "metadata": {},
   "outputs": [
    {
     "data": {
      "text/plain": [
       "dict_keys(['names', 'grades'])"
      ]
     },
     "execution_count": 21,
     "metadata": {},
     "output_type": "execute_result"
    }
   ],
   "source": [
    "myDict.keys()"
   ]
  },
  {
   "cell_type": "markdown",
   "metadata": {},
   "source": [
    "***\n",
    "\n",
    "## Control flow\n",
    "\n",
    "### if, elif and else"
   ]
  },
  {
   "cell_type": "code",
   "execution_count": 22,
   "metadata": {},
   "outputs": [
    {
     "name": "stdout",
     "output_type": "stream",
     "text": [
      "larger than 0\n"
     ]
    }
   ],
   "source": [
    "var = 10\n",
    "if var > 0:\n",
    "    print(\"larger than 0\")\n",
    "else:\n",
    "    print(\"egal or smaller than 0\")"
   ]
  },
  {
   "cell_type": "markdown",
   "metadata": {},
   "source": [
    "### for loops"
   ]
  },
  {
   "cell_type": "code",
   "execution_count": 23,
   "metadata": {},
   "outputs": [
    {
     "name": "stdout",
     "output_type": "stream",
     "text": [
      "0\n",
      "1\n",
      "2\n",
      "3\n",
      "4\n"
     ]
    }
   ],
   "source": [
    "for i in [0,1,2,3,4]:\n",
    "    print(i)"
   ]
  },
  {
   "cell_type": "code",
   "execution_count": 18,
   "metadata": {},
   "outputs": [
    {
     "name": "stdout",
     "output_type": "stream",
     "text": [
      "0\n",
      "1\n",
      "2\n",
      "3\n",
      "4\n"
     ]
    }
   ],
   "source": [
    "for i in range(5):\n",
    "    print(i)"
   ]
  },
  {
   "cell_type": "code",
   "execution_count": 19,
   "metadata": {},
   "outputs": [
    {
     "name": "stdout",
     "output_type": "stream",
     "text": [
      "0 a\n",
      "1 b\n",
      "2 c\n",
      "3 d\n"
     ]
    }
   ],
   "source": [
    "for i,letter in enumerate([\"a\",\"b\",\"c\",\"d\"]):\n",
    "    print(i,letter)"
   ]
  },
  {
   "cell_type": "markdown",
   "metadata": {},
   "source": [
    "### while loops"
   ]
  },
  {
   "cell_type": "code",
   "execution_count": 24,
   "metadata": {},
   "outputs": [
    {
     "name": "stdout",
     "output_type": "stream",
     "text": [
      "0\n",
      "1\n",
      "2\n",
      "3\n",
      "4\n"
     ]
    }
   ],
   "source": [
    "i = 0\n",
    "while(i < 5):\n",
    "    print(i)\n",
    "    i = i+1"
   ]
  },
  {
   "cell_type": "markdown",
   "metadata": {},
   "source": [
    "***\n",
    "\n",
    "## List comprehensions [... for ...]\n",
    "\n",
    "A list comprehension has the logic of a for loop, and creates a list\n",
    "\n",
    "It uses squared brackets just like the list, but contains a for loop"
   ]
  },
  {
   "cell_type": "code",
   "execution_count": 25,
   "metadata": {},
   "outputs": [],
   "source": [
    "aList = [ i for i in range(5)]"
   ]
  },
  {
   "cell_type": "code",
   "execution_count": 26,
   "metadata": {},
   "outputs": [
    {
     "data": {
      "text/plain": [
       "list"
      ]
     },
     "execution_count": 26,
     "metadata": {},
     "output_type": "execute_result"
    }
   ],
   "source": [
    "type(aList)"
   ]
  },
  {
   "cell_type": "code",
   "execution_count": 22,
   "metadata": {},
   "outputs": [
    {
     "data": {
      "text/plain": [
       "[10, 12, 14, 16, 18]"
      ]
     },
     "execution_count": 22,
     "metadata": {},
     "output_type": "execute_result"
    }
   ],
   "source": [
    "[ (i+5)*2 for i in range(5)]"
   ]
  },
  {
   "cell_type": "markdown",
   "metadata": {},
   "source": [
    "***\n",
    "## User-defined functions\n",
    "\n",
    "Useful when: \n",
    "* You write a few lines of code and want to use it repeatedly\n",
    "* You want to hide the details from the end user (many lines of code are executed after one line of code)"
   ]
  },
  {
   "cell_type": "code",
   "execution_count": 27,
   "metadata": {},
   "outputs": [],
   "source": [
    "def printMyAddress():\n",
    "    print(\"Kevin Allen\")\n",
    "    print(\"Untere Str. 5-7\")\n",
    "    print(\"69117 Heidleberg\")\n",
    "    print(\"Germany\")"
   ]
  },
  {
   "cell_type": "code",
   "execution_count": 28,
   "metadata": {},
   "outputs": [
    {
     "name": "stdout",
     "output_type": "stream",
     "text": [
      "Kevin Allen\n",
      "Untere Str. 5-7\n",
      "69117 Heidleberg\n",
      "Germany\n"
     ]
    }
   ],
   "source": [
    "printMyAddress()"
   ]
  },
  {
   "cell_type": "code",
   "execution_count": 29,
   "metadata": {},
   "outputs": [],
   "source": [
    "def complexMath(x):\n",
    "    return (x**2)+17/2"
   ]
  },
  {
   "cell_type": "code",
   "execution_count": 30,
   "metadata": {},
   "outputs": [
    {
     "data": {
      "text/plain": [
       "12.5"
      ]
     },
     "execution_count": 30,
     "metadata": {},
     "output_type": "execute_result"
    }
   ],
   "source": [
    "complexMath(2)"
   ]
  },
  {
   "cell_type": "markdown",
   "metadata": {},
   "source": [
    "***\n",
    "# Introduction to NumPy\n",
    "\n",
    "![NumPy](../images/NumPy.png)\n",
    "\n",
    "[https://numpy.org/](https://numpy.org/)\n",
    "\n",
    "* N-dimensions arrays \n",
    "* Many math functions\n",
    "* Written in C (very fast)\n",
    "\n",
    "\n",
    "## Why you need NumPy?\n",
    "\n",
    "* Your `raw` data will often be in Numpy arrays. Essential to process your raw data.\n",
    "* Many statistical or machine learning packages use NumPy arrays.\n",
    "* Most plotting packages expect Numpy arrays as inputs.\n",
    "\n",
    "For a more complete introduction: \n",
    "* [https://numpy.org/devdocs/user/quickstart.html](https://numpy.org/devdocs/user/quickstart.html)\n",
    "* [https://numpy.org/doc/stable/user/absolute_beginners.html](https://numpy.org/doc/stable/user/absolute_beginners.html)"
   ]
  },
  {
   "cell_type": "markdown",
   "metadata": {},
   "source": [
    "Since it is not part of Python, you need to import the NumPy package before using it."
   ]
  },
  {
   "cell_type": "code",
   "execution_count": 31,
   "metadata": {},
   "outputs": [],
   "source": [
    "import numpy as np"
   ]
  },
  {
   "cell_type": "markdown",
   "metadata": {},
   "source": [
    "## NumPy Arrays\n",
    "\n",
    "Create a 1D NumPy array with `np.array()` and a List."
   ]
  },
  {
   "cell_type": "code",
   "execution_count": 28,
   "metadata": {},
   "outputs": [
    {
     "name": "stdout",
     "output_type": "stream",
     "text": [
      "[1 2 3 4]\n",
      "<class 'numpy.ndarray'>\n"
     ]
    }
   ],
   "source": [
    "a = np.array([1,2,3,4])\n",
    "print(a)\n",
    "print(type(a))"
   ]
  },
  {
   "cell_type": "markdown",
   "metadata": {},
   "source": [
    "You can create arrays filled with 0s, 1s, or with a sequence of numbers."
   ]
  },
  {
   "cell_type": "code",
   "execution_count": 32,
   "metadata": {},
   "outputs": [
    {
     "name": "stdout",
     "output_type": "stream",
     "text": [
      "[0. 0. 0. 0.]\n",
      "[1. 1. 1. 1.]\n",
      "[0 1 2 3]\n"
     ]
    }
   ],
   "source": [
    "bunchOfZeroes = np.zeros(4)\n",
    "print(bunchOfZeroes)\n",
    "bunchOfOnes = np.ones(4)\n",
    "print(bunchOfOnes)\n",
    "d = np.arange(4) # sequence\n",
    "print(d)"
   ]
  },
  {
   "cell_type": "markdown",
   "metadata": {},
   "source": [
    "You can do math operations with these arrays. "
   ]
  },
  {
   "cell_type": "code",
   "execution_count": 33,
   "metadata": {},
   "outputs": [
    {
     "name": "stdout",
     "output_type": "stream",
     "text": [
      "[1 2 3 4]\n",
      "[0 2 4 6]\n",
      "[0 1 4 9]\n"
     ]
    }
   ],
   "source": [
    "a = np.arange(4)\n",
    "print(a+1)\n",
    "print(a+d)\n",
    "print(a**2) # a to the power of 2"
   ]
  },
  {
   "cell_type": "markdown",
   "metadata": {},
   "source": [
    "## Inspect a NumPy array"
   ]
  },
  {
   "cell_type": "code",
   "execution_count": 31,
   "metadata": {},
   "outputs": [
    {
     "name": "stdout",
     "output_type": "stream",
     "text": [
      "[0 1 2 3]\n",
      "type: <class 'numpy.ndarray'>\n",
      "ndim: 1\n",
      "shape: (4,)\n",
      "size: 4\n",
      "dtype: int64\n"
     ]
    }
   ],
   "source": [
    "print(a)\n",
    "print(\"type:\",type(a))\n",
    "print(\"ndim:\",a.ndim)\n",
    "print(\"shape:\",a.shape)\n",
    "print(\"size:\",a.size)\n",
    "print(\"dtype:\",a.dtype)"
   ]
  },
  {
   "cell_type": "markdown",
   "metadata": {},
   "source": [
    "## 2D arrays\n",
    "\n",
    "2D arrays have rows and columns. You can think of them as an images."
   ]
  },
  {
   "cell_type": "code",
   "execution_count": 32,
   "metadata": {},
   "outputs": [
    {
     "name": "stdout",
     "output_type": "stream",
     "text": [
      "ndim: 2\n",
      "shape: (2, 2)\n",
      "[[1 2]\n",
      " [3 4]]\n"
     ]
    }
   ],
   "source": [
    "e = np.array([[1,2],[3,4]])\n",
    "print(\"ndim:\", e.ndim)\n",
    "print(\"shape:\",e.shape)\n",
    "print(e)"
   ]
  },
  {
   "cell_type": "code",
   "execution_count": 33,
   "metadata": {},
   "outputs": [
    {
     "name": "stdout",
     "output_type": "stream",
     "text": [
      "[[ 0  1  2  3]\n",
      " [ 4  5  6  7]\n",
      " [ 8  9 10 11]\n",
      " [12 13 14 15]\n",
      " [16 17 18 19]\n",
      " [20 21 22 23]]\n",
      "Shape: (6, 4)\n"
     ]
    }
   ],
   "source": [
    "f = np.arange(24).reshape(6,4) # reshape change the 1D array created by np.arange into a 2D array\n",
    "print(f)\n",
    "print(\"Shape:\",f.shape)"
   ]
  },
  {
   "cell_type": "markdown",
   "metadata": {},
   "source": [
    "You can add also add/substract/multiply/divide 2D arrays."
   ]
  },
  {
   "cell_type": "code",
   "execution_count": 34,
   "metadata": {},
   "outputs": [
    {
     "data": {
      "text/plain": [
       "array([[1, 1, 1, 1],\n",
       "       [1, 1, 1, 1],\n",
       "       [1, 1, 1, 1],\n",
       "       [1, 1, 1, 1],\n",
       "       [1, 1, 1, 1],\n",
       "       [1, 1, 1, 1]])"
      ]
     },
     "execution_count": 34,
     "metadata": {},
     "output_type": "execute_result"
    }
   ],
   "source": [
    "g = np.ones_like(f)\n",
    "g"
   ]
  },
  {
   "cell_type": "code",
   "execution_count": 35,
   "metadata": {},
   "outputs": [
    {
     "data": {
      "text/plain": [
       "array([[ 1,  2,  3,  4],\n",
       "       [ 5,  6,  7,  8],\n",
       "       [ 9, 10, 11, 12],\n",
       "       [13, 14, 15, 16],\n",
       "       [17, 18, 19, 20],\n",
       "       [21, 22, 23, 24]])"
      ]
     },
     "execution_count": 35,
     "metadata": {},
     "output_type": "execute_result"
    }
   ],
   "source": [
    "f+g # add one to f, we could have done f+1!"
   ]
  },
  {
   "cell_type": "markdown",
   "metadata": {},
   "source": [
    "## Slicing an array\n",
    "\n",
    "You will often need to get only a fraction of an array. To do so, use `[]`.\n"
   ]
  },
  {
   "cell_type": "code",
   "execution_count": 36,
   "metadata": {},
   "outputs": [
    {
     "name": "stdout",
     "output_type": "stream",
     "text": [
      "[0 1 2 3 4 5 6 7 8 9]\n"
     ]
    },
    {
     "data": {
      "text/plain": [
       "array([0, 1, 2, 3])"
      ]
     },
     "execution_count": 36,
     "metadata": {},
     "output_type": "execute_result"
    }
   ],
   "source": [
    "a = np.arange(10)\n",
    "print(a)\n",
    "a[0:4] # you get the data at position 0 until position 3. You don't get 4."
   ]
  },
  {
   "cell_type": "code",
   "execution_count": 37,
   "metadata": {},
   "outputs": [
    {
     "data": {
      "text/plain": [
       "array([0, 1, 2, 3])"
      ]
     },
     "execution_count": 37,
     "metadata": {},
     "output_type": "execute_result"
    }
   ],
   "source": [
    "a[:4] # you can omit 0"
   ]
  },
  {
   "cell_type": "code",
   "execution_count": 38,
   "metadata": {},
   "outputs": [
    {
     "data": {
      "text/plain": [
       "array([0, 1, 2, 3, 4, 5, 6, 7, 8, 9])"
      ]
     },
     "execution_count": 38,
     "metadata": {},
     "output_type": "execute_result"
    }
   ],
   "source": [
    "a[:] # you can omit start and end to get everything"
   ]
  },
  {
   "cell_type": "code",
   "execution_count": 39,
   "metadata": {},
   "outputs": [
    {
     "data": {
      "text/plain": [
       "array([0, 1, 2, 3, 4, 5, 6, 7, 8])"
      ]
     },
     "execution_count": 39,
     "metadata": {},
     "output_type": "execute_result"
    }
   ],
   "source": [
    "a[0:-1] # with -, it starts from the end, -1 remove the last number"
   ]
  },
  {
   "cell_type": "code",
   "execution_count": 40,
   "metadata": {},
   "outputs": [
    {
     "data": {
      "text/plain": [
       "9"
      ]
     },
     "execution_count": 40,
     "metadata": {},
     "output_type": "execute_result"
    }
   ],
   "source": [
    "a[-1] # gives you the last number"
   ]
  },
  {
   "cell_type": "markdown",
   "metadata": {},
   "source": [
    "Slicing also work for 2D or ND arrays.\n",
    "\n",
    "In 2D, the order is `[rows you want,columns you want]`. A comma separates the indices of each dimension."
   ]
  },
  {
   "cell_type": "code",
   "execution_count": 34,
   "metadata": {},
   "outputs": [
    {
     "data": {
      "text/plain": [
       "array([[ 0,  1,  2,  3],\n",
       "       [ 4,  5,  6,  7],\n",
       "       [ 8,  9, 10, 11]])"
      ]
     },
     "execution_count": 34,
     "metadata": {},
     "output_type": "execute_result"
    }
   ],
   "source": [
    "f = np.arange(12).reshape(3,4)\n",
    "f"
   ]
  },
  {
   "cell_type": "code",
   "execution_count": 42,
   "metadata": {},
   "outputs": [
    {
     "data": {
      "text/plain": [
       "array([0, 4, 8])"
      ]
     },
     "execution_count": 42,
     "metadata": {},
     "output_type": "execute_result"
    }
   ],
   "source": [
    "f[:,0] # put a comma between indices of each dimension"
   ]
  },
  {
   "cell_type": "code",
   "execution_count": 43,
   "metadata": {},
   "outputs": [
    {
     "data": {
      "text/plain": [
       "array([[0, 1, 2, 3],\n",
       "       [4, 5, 6, 7]])"
      ]
     },
     "execution_count": 43,
     "metadata": {},
     "output_type": "execute_result"
    }
   ],
   "source": [
    "f[0:2,:]"
   ]
  },
  {
   "cell_type": "markdown",
   "metadata": {},
   "source": [
    "## Built-in math functions in NumPy\n",
    "\n",
    "There are many useful math functions in NumPy to work with arrays.\n",
    "\n",
    "[https://numpy.org/doc/stable/reference/routines.math.html](https://numpy.org/doc/stable/reference/routines.math.html)\n",
    "\n",
    "[https://numpy.org/doc/stable/reference/routines.statistics.html](https://numpy.org/doc/stable/reference/routines.statistics.html)\n",
    "\n",
    "* sin(), cos()\n",
    "* sum(), mean(), std()\n",
    "* diff()\n",
    "* ..."
   ]
  },
  {
   "cell_type": "code",
   "execution_count": 35,
   "metadata": {},
   "outputs": [
    {
     "data": {
      "text/plain": [
       "array([[ 0,  1,  2,  3,  4,  5],\n",
       "       [ 6,  7,  8,  9, 10, 11]])"
      ]
     },
     "execution_count": 35,
     "metadata": {},
     "output_type": "execute_result"
    }
   ],
   "source": [
    "f = np.arange(12).reshape(2,6)\n",
    "f"
   ]
  },
  {
   "cell_type": "markdown",
   "metadata": {},
   "source": [
    "You can for example use np.mean() to calculate the mean. "
   ]
  },
  {
   "cell_type": "code",
   "execution_count": 36,
   "metadata": {},
   "outputs": [
    {
     "data": {
      "text/plain": [
       "5.5"
      ]
     },
     "execution_count": 36,
     "metadata": {},
     "output_type": "execute_result"
    }
   ],
   "source": [
    "f.mean() # or np.mean(f)"
   ]
  },
  {
   "cell_type": "markdown",
   "metadata": {},
   "source": [
    "You can calculate the mean arcros rows using `axis=0`."
   ]
  },
  {
   "cell_type": "code",
   "execution_count": 37,
   "metadata": {},
   "outputs": [
    {
     "data": {
      "text/plain": [
       "array([3., 4., 5., 6., 7., 8.])"
      ]
     },
     "execution_count": 37,
     "metadata": {},
     "output_type": "execute_result"
    }
   ],
   "source": [
    "f.mean(axis=0)"
   ]
  },
  {
   "cell_type": "markdown",
   "metadata": {},
   "source": [
    "You can calculate the mean arcros columns using `axis=1`."
   ]
  },
  {
   "cell_type": "code",
   "execution_count": 38,
   "metadata": {},
   "outputs": [
    {
     "data": {
      "text/plain": [
       "array([2.5, 8.5])"
      ]
     },
     "execution_count": 38,
     "metadata": {},
     "output_type": "execute_result"
    }
   ],
   "source": [
    "f.mean(axis=1)"
   ]
  },
  {
   "cell_type": "markdown",
   "metadata": {},
   "source": [
    "We will see many more functions during the next few weeks."
   ]
  },
  {
   "cell_type": "markdown",
   "metadata": {},
   "source": [
    "## Broadcasting\n",
    "\n",
    "This is a __complexe topic__ but it is very __powerful!__\n",
    "\n",
    "Learning how broadcasting works will simplify and speed up your python code!\n",
    "\n",
    "The term broadcasting describes how NumPy treats arrays with different shapes during arithmetic operations. Subject to certain constraints, the smaller array is “broadcast” across the larger array so that they have compatible shapes.\n",
    "\n",
    "[https://numpy.org/doc/stable/user/basics.broadcasting.html](https://numpy.org/doc/stable/user/basics.broadcasting.html)\n",
    "\n"
   ]
  },
  {
   "cell_type": "markdown",
   "metadata": {},
   "source": [
    "The simplest broadcasting example occurs when an array and a scalar value are combined in an operation. "
   ]
  },
  {
   "cell_type": "code",
   "execution_count": 47,
   "metadata": {},
   "outputs": [
    {
     "data": {
      "text/plain": [
       "array([100, 101, 102, 103, 104, 105, 106, 107, 108, 109])"
      ]
     },
     "execution_count": 47,
     "metadata": {},
     "output_type": "execute_result"
    }
   ],
   "source": [
    "a = np.arange(10)\n",
    "a+100 # 100 is broadcast to all elements of a"
   ]
  },
  {
   "cell_type": "markdown",
   "metadata": {},
   "source": [
    "```\n",
    "When operating on two arrays, NumPy compares their shapes element-wise. It starts with the trailing (i.e. rightmost) dimensions and works its way left. Two dimensions are compatible when\n",
    "\n",
    "* they are equal, or\n",
    "* one of them is 1\n",
    "```"
   ]
  },
  {
   "cell_type": "code",
   "execution_count": 41,
   "metadata": {},
   "outputs": [
    {
     "name": "stdout",
     "output_type": "stream",
     "text": [
      "shape of a: (2, 5)\n",
      "[[0 1 2 3 4]\n",
      " [5 6 7 8 9]]\n",
      "\n",
      "shape of b: (5,)\n",
      "[1. 1. 1. 1. 1.]\n",
      "\n",
      "a+b:\n"
     ]
    },
    {
     "data": {
      "text/plain": [
       "array([[ 1.,  2.,  3.,  4.,  5.],\n",
       "       [ 6.,  7.,  8.,  9., 10.]])"
      ]
     },
     "execution_count": 41,
     "metadata": {},
     "output_type": "execute_result"
    }
   ],
   "source": [
    "a = np.arange(10).reshape(2,5)\n",
    "b = np.ones(5)\n",
    "print(\"shape of a:\",a.shape)\n",
    "print(a)\n",
    "print(\"\")\n",
    "print(\"shape of b:\",b.shape)\n",
    "print(b)\n",
    "print(\"\")\n",
    "print(\"a+b:\")\n",
    "a+b"
   ]
  },
  {
   "cell_type": "code",
   "execution_count": 43,
   "metadata": {},
   "outputs": [
    {
     "data": {
      "text/plain": [
       "dtype('int64')"
      ]
     },
     "execution_count": 43,
     "metadata": {},
     "output_type": "execute_result"
    }
   ],
   "source": [
    "a.dtype"
   ]
  },
  {
   "cell_type": "markdown",
   "metadata": {},
   "source": [
    "In this case 5 and 5 were compatible and it worked"
   ]
  },
  {
   "cell_type": "markdown",
   "metadata": {},
   "source": [
    "Let's have another go with new arrays."
   ]
  },
  {
   "cell_type": "code",
   "execution_count": 49,
   "metadata": {},
   "outputs": [
    {
     "name": "stdout",
     "output_type": "stream",
     "text": [
      "shape of a: (2, 5)\n",
      "[[0 1 2 3 4]\n",
      " [5 6 7 8 9]]\n",
      "\n",
      "shape of b: (6,)\n",
      "[1. 1. 1. 1. 1. 1.]\n",
      "\n",
      "a+b:\n"
     ]
    },
    {
     "ename": "ValueError",
     "evalue": "operands could not be broadcast together with shapes (2,5) (6,) ",
     "output_type": "error",
     "traceback": [
      "\u001b[0;31m---------------------------------------------------------------------------\u001b[0m",
      "\u001b[0;31mValueError\u001b[0m                                Traceback (most recent call last)",
      "\u001b[0;32m/tmp/ipykernel_11548/659656014.py\u001b[0m in \u001b[0;36m<module>\u001b[0;34m\u001b[0m\n\u001b[1;32m      8\u001b[0m \u001b[0mprint\u001b[0m\u001b[0;34m(\u001b[0m\u001b[0;34m\"\"\u001b[0m\u001b[0;34m)\u001b[0m\u001b[0;34m\u001b[0m\u001b[0;34m\u001b[0m\u001b[0m\n\u001b[1;32m      9\u001b[0m \u001b[0mprint\u001b[0m\u001b[0;34m(\u001b[0m\u001b[0;34m\"a+b:\"\u001b[0m\u001b[0;34m)\u001b[0m\u001b[0;34m\u001b[0m\u001b[0;34m\u001b[0m\u001b[0m\n\u001b[0;32m---> 10\u001b[0;31m \u001b[0ma\u001b[0m\u001b[0;34m+\u001b[0m\u001b[0mb\u001b[0m\u001b[0;34m\u001b[0m\u001b[0;34m\u001b[0m\u001b[0m\n\u001b[0m",
      "\u001b[0;31mValueError\u001b[0m: operands could not be broadcast together with shapes (2,5) (6,) "
     ]
    }
   ],
   "source": [
    "a = np.arange(10).reshape(2,5)\n",
    "b = np.ones(6)\n",
    "print(\"shape of a:\",a.shape)\n",
    "print(a)\n",
    "print(\"\")\n",
    "print(\"shape of b:\",b.shape)\n",
    "print(b)\n",
    "print(\"\")\n",
    "print(\"a+b:\")\n",
    "a+b"
   ]
  },
  {
   "cell_type": "markdown",
   "metadata": {},
   "source": [
    "Let's try to remove the average of each row of a from each row of a."
   ]
  },
  {
   "cell_type": "code",
   "execution_count": 46,
   "metadata": {},
   "outputs": [
    {
     "name": "stdout",
     "output_type": "stream",
     "text": [
      "shape of a: (2, 5)\n",
      "[[0 1 2 3 4]\n",
      " [5 6 7 8 9]]\n"
     ]
    }
   ],
   "source": [
    "print(\"shape of a:\",a.shape)\n",
    "print(a)"
   ]
  },
  {
   "cell_type": "code",
   "execution_count": 47,
   "metadata": {},
   "outputs": [
    {
     "name": "stdout",
     "output_type": "stream",
     "text": [
      "shape of b: (2,)\n"
     ]
    },
    {
     "data": {
      "text/plain": [
       "array([2., 7.])"
      ]
     },
     "execution_count": 47,
     "metadata": {},
     "output_type": "execute_result"
    }
   ],
   "source": [
    "b = a.mean(axis=1) # calculate the mean of each row\n",
    "print(\"shape of b:\",b.shape)\n",
    "b"
   ]
  },
  {
   "cell_type": "markdown",
   "metadata": {},
   "source": [
    "Will `a-b` work?"
   ]
  },
  {
   "cell_type": "code",
   "execution_count": 48,
   "metadata": {},
   "outputs": [
    {
     "ename": "ValueError",
     "evalue": "operands could not be broadcast together with shapes (2,5) (2,) ",
     "output_type": "error",
     "traceback": [
      "\u001b[0;31m---------------------------------------------------------------------------\u001b[0m",
      "\u001b[0;31mValueError\u001b[0m                                Traceback (most recent call last)",
      "\u001b[0;32m/tmp/ipykernel_3166/3931802818.py\u001b[0m in \u001b[0;36m<module>\u001b[0;34m\u001b[0m\n\u001b[0;32m----> 1\u001b[0;31m \u001b[0ma\u001b[0m\u001b[0;34m-\u001b[0m\u001b[0mb\u001b[0m\u001b[0;34m\u001b[0m\u001b[0;34m\u001b[0m\u001b[0m\n\u001b[0m",
      "\u001b[0;31mValueError\u001b[0m: operands could not be broadcast together with shapes (2,5) (2,) "
     ]
    }
   ],
   "source": [
    "a-b"
   ]
  },
  {
   "cell_type": "markdown",
   "metadata": {},
   "source": [
    "We can't broadcast b over a because 5 and 2 are not compatible\n",
    "\n",
    "We need to add a dimension to b."
   ]
  },
  {
   "cell_type": "code",
   "execution_count": 49,
   "metadata": {},
   "outputs": [
    {
     "name": "stdout",
     "output_type": "stream",
     "text": [
      "(2, 1)\n"
     ]
    }
   ],
   "source": [
    "b = np.expand_dims(b,axis=1) # add a dimension of size 1 \n",
    "print(b.shape)"
   ]
  },
  {
   "cell_type": "markdown",
   "metadata": {},
   "source": [
    "The shape of a is (2,5) and the shape of b is (2,1). The dimensions are now compatible (5 and 1; 2 and 2)."
   ]
  },
  {
   "cell_type": "code",
   "execution_count": 50,
   "metadata": {},
   "outputs": [
    {
     "data": {
      "text/plain": [
       "array([[-2., -1.,  0.,  1.,  2.],\n",
       "       [-2., -1.,  0.,  1.,  2.]])"
      ]
     },
     "execution_count": 50,
     "metadata": {},
     "output_type": "execute_result"
    }
   ],
   "source": [
    "a-b"
   ]
  },
  {
   "cell_type": "markdown",
   "metadata": {},
   "source": [
    "We have successfully removed the mean of each row from each row."
   ]
  },
  {
   "cell_type": "markdown",
   "metadata": {},
   "source": [
    "__Tipp: When writing code to process large arrays (real data), write your code with a small hand-made arrays like in this section. It is faster and easier to debug.__"
   ]
  },
  {
   "cell_type": "markdown",
   "metadata": {},
   "source": [
    "***\n",
    "# Introduction to matplotlib\n",
    "\n",
    "![Matplotlib](../images/Matplotlib.png)\n",
    "\n",
    "[https://matplotlib.org/](https://matplotlib.org/)\n",
    "\n",
    "Matplotlib is used to visualize data.\n",
    "\n",
    "__Patterns (or bugs) in the data are often only visible if you plot the data__\n",
    "\n",
    "You need to import it before you can use it."
   ]
  },
  {
   "cell_type": "code",
   "execution_count": 51,
   "metadata": {},
   "outputs": [],
   "source": [
    "import matplotlib.pyplot as plt"
   ]
  },
  {
   "cell_type": "code",
   "execution_count": 55,
   "metadata": {},
   "outputs": [
    {
     "data": {
      "image/png": "[encoded data removed]",
      "text/plain": [
       "<Figure size 640x480 with 1 Axes>"
      ]
     },
     "metadata": {},
     "output_type": "display_data"
    }
   ],
   "source": [
    "plt.plot(np.arange(12));\n"
   ]
  },
  {
   "cell_type": "markdown",
   "metadata": {},
   "source": [
    "Use `plt.plot()` or `plt.hist()` to plot 1D numpy arrays"
   ]
  },
  {
   "cell_type": "code",
   "execution_count": 56,
   "metadata": {},
   "outputs": [
    {
     "name": "stdout",
     "output_type": "stream",
     "text": [
      "[ 0.          0.16949153  0.33898305  0.50847458  0.6779661   0.84745763\n",
      "  1.01694915  1.18644068  1.3559322   1.52542373  1.69491525  1.86440678\n",
      "  2.03389831  2.20338983  2.37288136  2.54237288  2.71186441  2.88135593\n",
      "  3.05084746  3.22033898  3.38983051  3.55932203  3.72881356  3.89830508\n",
      "  4.06779661  4.23728814  4.40677966  4.57627119  4.74576271  4.91525424\n",
      "  5.08474576  5.25423729  5.42372881  5.59322034  5.76271186  5.93220339\n",
      "  6.10169492  6.27118644  6.44067797  6.61016949  6.77966102  6.94915254\n",
      "  7.11864407  7.28813559  7.45762712  7.62711864  7.79661017  7.96610169\n",
      "  8.13559322  8.30508475  8.47457627  8.6440678   8.81355932  8.98305085\n",
      "  9.15254237  9.3220339   9.49152542  9.66101695  9.83050847 10.        ]\n"
     ]
    },
    {
     "data": {
      "text/plain": [
       "array([ 0.        ,  0.16868118,  0.33252819,  0.48684537,  0.62721022,\n",
       "        0.74960006,  0.85050735,  0.92704023,  0.97700537,  0.99897084,\n",
       "        0.99230713,  0.95720522,  0.89467107,  0.80649684,  0.69520949,\n",
       "        0.56399835,  0.41662377,  0.25730931,  0.0906207 , -0.07866497,\n",
       "       -0.24569621, -0.40568613, -0.55404961, -0.68653478, -0.79934477,\n",
       "       -0.8892466 , -0.9536638 , -0.99075027, -0.99944315, -0.97949332,\n",
       "       -0.93147251, -0.85675694, -0.75748785, -0.63651016, -0.49729094,\n",
       "       -0.34382003, -0.18049569, -0.01199858,  0.15684239,  0.32118847,\n",
       "        0.47632971,  0.61781998,  0.74160434,  0.84413531,  0.92247449,\n",
       "        0.97437677,  0.99835471,  0.99372113,  0.96060882,  0.89996674,\n",
       "        0.81353281,  0.70378411,  0.57386589,  0.42750144,  0.26888536,\n",
       "        0.10256339, -0.06669791, -0.23404774, -0.39469007, -0.54402111])"
      ]
     },
     "execution_count": 56,
     "metadata": {},
     "output_type": "execute_result"
    }
   ],
   "source": [
    "a = np.linspace(start=0,stop=10,num=60)\n",
    "print(a)\n",
    "np.sin(a) # get the sin of the values stored in a"
   ]
  },
  {
   "cell_type": "code",
   "execution_count": 57,
   "metadata": {},
   "outputs": [
    {
     "data": {
      "text/plain": [
       "[<matplotlib.lines.Line2D at 0x7f731ebc5ee0>]"
      ]
     },
     "execution_count": 57,
     "metadata": {},
     "output_type": "execute_result"
    },
    {
     "data": {
      "image/png": "[encoded data removed]",
      "text/plain": [
       "<Figure size 640x480 with 1 Axes>"
      ]
     },
     "metadata": {},
     "output_type": "display_data"
    }
   ],
   "source": [
    "plt.plot(np.sin(a))"
   ]
  },
  {
   "cell_type": "markdown",
   "metadata": {},
   "source": [
    "__When something is not working, always inspect the NumPy array properties and plot your data!__"
   ]
  },
  {
   "cell_type": "code",
   "execution_count": 58,
   "metadata": {},
   "outputs": [
    {
     "data": {
      "image/png": "[encoded data removed]",
      "text/plain": [
       "<Figure size 640x480 with 1 Axes>"
      ]
     },
     "metadata": {},
     "output_type": "display_data"
    }
   ],
   "source": [
    "a = np.random.normal(loc = 5, scale = 2.0, size = 20000)\n",
    "plt.hist(a,bins=50)\n",
    "plt.ylabel(\"Observations\")\n",
    "plt.xlabel(\"Values\")\n",
    "plt.show()"
   ]
  },
  {
   "cell_type": "markdown",
   "metadata": {},
   "source": [
    "## Plotting 2D arrays\n",
    "\n",
    "To plot 2D arrays, you can \n",
    "\n",
    "* plot it as an image\n",
    "* plot each row or column seperately"
   ]
  },
  {
   "cell_type": "code",
   "execution_count": 59,
   "metadata": {},
   "outputs": [
    {
     "name": "stdout",
     "output_type": "stream",
     "text": [
      "[[0 1 2 3 4]\n",
      " [5 6 7 8 9]]\n"
     ]
    },
    {
     "data": {
      "image/png": "[encoded data removed]",
      "text/plain": [
       "<Figure size 640x480 with 2 Axes>"
      ]
     },
     "metadata": {},
     "output_type": "display_data"
    }
   ],
   "source": [
    "a = np.arange(10).reshape(2,5)\n",
    "print(a)\n",
    "plt.imshow(a)\n",
    "plt.colorbar()\n",
    "plt.show()"
   ]
  },
  {
   "cell_type": "code",
   "execution_count": null,
   "metadata": {},
   "outputs": [],
   "source": [
    "plt.plot(a[0,:])\n",
    "plt.plot(a[1,:])\n",
    "plt.show()"
   ]
  },
  {
   "cell_type": "markdown",
   "metadata": {},
   "source": [
    "***\n",
    "# Working with electrophysiological data\n",
    "\n",
    "In neuroscience, data often comes from sensors (e.g. electrodes or image sensors), with repeated measurments taken at a relatively high frequency (sampling rate). \n",
    "\n",
    "To familiarize yourself with this type of data, we will work with extracellular recordings from the pyramidal cell layer of the CA1 region of the hippocampus of a mouse. \n",
    "\n",
    "\n",
    "<div>\n",
    "<img src=\"../images/hippocampus.jpg\" width=\"500\"/><img src=\"../images/Neuronexus_buzsaki_32.png\" width=\"500\"/>\n",
    "</div>\n",
    "\n",
    "\n",
    "## Recording parameters\n",
    "\n",
    "\n",
    "* Recording duration: 1 second\n",
    "* Sampling rate: 20000 Hz (20000 samples per second)\n",
    "* Number of channels: 8\n",
    "\n",
    "\n"
   ]
  },
  {
   "cell_type": "markdown",
   "metadata": {},
   "source": [
    "## Download \n",
    "\n",
    "Download some electrophysiological data to your computer. If you are using Binder, you don't have to download anything.\n",
    "\n",
    "https://tinyurl.com/3mx2mvsv\n"
   ]
  },
  {
   "cell_type": "markdown",
   "metadata": {},
   "source": [
    "## Load the data into memory\n",
    "\n",
    "The data is saved in the NumPy format (.npy). You can load such a file using `np.load`.\n"
   ]
  },
  {
   "cell_type": "code",
   "execution_count": 60,
   "metadata": {},
   "outputs": [
    {
     "name": "stdout",
     "output_type": "stream",
     "text": [
      "../data/shortRaw.npy\n"
     ]
    }
   ],
   "source": [
    "fileName = \"/home/kevin/Downloads/shortRaw.npy\" # Change the path to the file you downloaded  \n",
    "# or \n",
    "fileName = \"../data/shortRaw.npy\" # binder users or people with a local git repository\n",
    "print(fileName)"
   ]
  },
  {
   "cell_type": "code",
   "execution_count": 61,
   "metadata": {},
   "outputs": [
    {
     "data": {
      "text/plain": [
       "numpy.ndarray"
      ]
     },
     "execution_count": 61,
     "metadata": {},
     "output_type": "execute_result"
    }
   ],
   "source": [
    "dat = np.load(fileName)\n",
    "type(dat)"
   ]
  },
  {
   "cell_type": "markdown",
   "metadata": {},
   "source": [
    "<div>\n",
    "<img src=\"../images/shortRaw.png\"/>\n",
    "</div>"
   ]
  },
  {
   "cell_type": "code",
   "execution_count": null,
   "metadata": {},
   "outputs": [],
   "source": []
  },
  {
   "cell_type": "markdown",
   "metadata": {},
   "source": [
    "# Exercises:\n",
    "\n",
    "Time to get familiar with the dataset.\n",
    "\n",
    "\n",
    "## Inspect your NumPy array\n",
    "\n",
    "You just loaded some data. Try to answer these questions about your data\n",
    "\n",
    "* What do you think the electrodes are measuring? \n",
    "* How many dimensions does the data have?\n",
    "* What is the size of the array in each dimension?\n",
    "* What is the data type or dtype (integer, float, etc.) of the `dat` array?\n",
    "* Which dimension represents the recording channels and the recording samples?"
   ]
  },
  {
   "cell_type": "code",
   "execution_count": null,
   "metadata": {},
   "outputs": [],
   "source": []
  },
  {
   "cell_type": "markdown",
   "metadata": {},
   "source": [
    "## Visualize your data\n",
    "\n",
    "* Plot the data for the first recording channel.\n",
    "* Do you seen any oscillatory patterns in the data? If so at which frequency? \n",
    "* Plot the data for 2 recording channels. \n",
    "* What is similar or different between the different channels?\n"
   ]
  },
  {
   "cell_type": "markdown",
   "metadata": {},
   "source": [
    "## Process data using NumPy\n",
    "\n",
    "* What is the mean value in the `dat` array?\n",
    "* What is the mean value per channel of the `dat` array?\n",
    "* Can you plot the mean value across channels for all samples? The plot should have 20000 values.\n",
    "* How could I had 100 to all values in the array?\n",
    "* Which channel has the largest standard deviation?\n",
    "* Can you plot the distribution of values for the second recording channel?\n",
    "* For each channel, remove the mean from every data point.\n"
   ]
  },
  {
   "cell_type": "markdown",
   "metadata": {},
   "source": [
    "***"
   ]
  },
  {
   "cell_type": "markdown",
   "metadata": {},
   "source": [
    "# Images\n",
    "\n",
    "Another common type of data in Neuroscience are images. These could be from optical imaging or from videos of an experiment.\n",
    "\n",
    "There are different ways to get images into a NumPy array. \n",
    "\n",
    "One can use [PIL (Pillow)](https://pillow.readthedocs.io/en/stable/) or [OpenCV Python](https://docs.opencv.org/4.x/d6/d00/tutorial_py_root.html). Both are well worth exploring if you are working with images. The example below uses Pillow (imported as PIL).\n",
    "\n",
    "\n",
    "You can download a jpg image to your computer if you don't already have one: https://tinyurl.com/4jsy6y3b\n"
   ]
  },
  {
   "cell_type": "code",
   "execution_count": null,
   "metadata": {},
   "outputs": [],
   "source": [
    "from PIL import Image\n",
    "\n",
    "def load_image(imageFileName) :\n",
    "    \"\"\"\n",
    "    Function to load an image from file and format it as a NumPy array\n",
    "    \"\"\"\n",
    "    img = Image.open(imageFileName)\n",
    "    img.load()\n",
    "    data = np.asarray( img, dtype=\"int32\" )\n",
    "    return data\n",
    "\n"
   ]
  },
  {
   "cell_type": "code",
   "execution_count": null,
   "metadata": {},
   "outputs": [],
   "source": [
    "fileName = \"/home/kevin/Downloads/heidelberg.jpg\"\n",
    "# or \n",
    "fileName = \"../images/heidelberg.jpg\" # if you are running the notebook from the git repository\n",
    "print(fileName)"
   ]
  },
  {
   "cell_type": "code",
   "execution_count": null,
   "metadata": {},
   "outputs": [],
   "source": [
    "myImg = load_image(fileName)"
   ]
  },
  {
   "cell_type": "code",
   "execution_count": null,
   "metadata": {},
   "outputs": [],
   "source": [
    "print(\"Number of dimensions:\", myImg.ndim)\n",
    "print(\"Shape:\",myImg.shape)"
   ]
  },
  {
   "cell_type": "code",
   "execution_count": null,
   "metadata": {},
   "outputs": [],
   "source": [
    "plt.imshow(myImg)"
   ]
  },
  {
   "cell_type": "markdown",
   "metadata": {},
   "source": [
    "This NumPy array could be the input of a deep neural network classifying images based on their content.\n",
    "\n",
    "You can try to upload your own images. "
   ]
  },
  {
   "cell_type": "code",
   "execution_count": null,
   "metadata": {},
   "outputs": [],
   "source": []
  }
 ],
 "metadata": {
  "kernelspec": {
   "display_name": "Python 3 (ipykernel)",
   "language": "python",
   "name": "python3"
  },
  "language_info": {
   "codemirror_mode": {
    "name": "ipython",
    "version": 3
   },
   "file_extension": ".py",
   "mimetype": "text/x-python",
   "name": "python",
   "nbconvert_exporter": "python",
   "pygments_lexer": "ipython3",
   "version": "3.9.13"
  }
 },
 "nbformat": 4,
 "nbformat_minor": 4
}
