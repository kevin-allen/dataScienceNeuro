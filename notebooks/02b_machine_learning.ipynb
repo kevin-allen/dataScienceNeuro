{
 "cells": [
  {
   "cell_type": "markdown",
   "id": "6c73fdbd-2182-4cd1-889d-de779af5b641",
   "metadata": {},
   "source": [
    "# Hands-on week 2, Data science in Neuroscience\n",
    "\n",
    "You can download this Notebook from https://github.com/kevin-allen/dataScienceNeuro\n",
    "\n",
    "\n",
    "## Plan for today\n",
    "\n",
    "1. Review our machine example so far\n",
    "2. Measuring model performance\n",
    "3. Gradient descent\n",
    "4. Training loop\n",
    "5. Exercise\n",
    "***"
   ]
  },
  {
   "cell_type": "markdown",
   "id": "fc23ecc6-ca8b-419d-86bb-f0e2b6e675a8",
   "metadata": {},
   "source": [
    "## Review\n",
    "\n",
    "### Simulation of our speed cell\n",
    "\n",
    "Yesterday, we started to work with our linear regression model. \n",
    "\n",
    "For a linear regression, the model is $Y = Xw + b$\n",
    "\n",
    "In machine learning lingo, $w$ is the weight, and $b$ is the bias.\n",
    "\n",
    "Our formula for simulating the firing rate is\n",
    "\n",
    "$rate = speed*w + b + error$"
   ]
  },
  {
   "cell_type": "code",
   "execution_count": 1,
   "id": "3f19d082-aa1e-46c1-96ec-c5e7ac3bbf21",
   "metadata": {},
   "outputs": [],
   "source": [
    "import numpy as np\n",
    "import matplotlib.pyplot as plt"
   ]
  },
  {
   "cell_type": "code",
   "execution_count": 2,
   "id": "ace34bc7-0ccd-47cf-a059-63c8537ef1cf",
   "metadata": {},
   "outputs": [],
   "source": [
    "fn = \"../data/animal_speed.npy\""
   ]
  },
  {
   "cell_type": "code",
   "execution_count": 3,
   "id": "376713f5-ef6d-49bb-bf86-54e92fa094b9",
   "metadata": {},
   "outputs": [],
   "source": [
    "speed = np.load(fn)\n",
    "\n",
    "w = 1.25 # parameter 2\n",
    "b = 10 # parameter 1\n",
    "e = np.random.normal(loc=0.0, scale=5, size = speed.shape[0]) # random numbers taken from a normal distribution\n",
    "\n",
    "rate = speed * w + b + e\n",
    "rate = np.maximum(0, rate) # eliminate the negative firing rates"
   ]
  },
  {
   "cell_type": "markdown",
   "id": "a7390e49-7f5d-4b53-91b4-5ef26d170055",
   "metadata": {},
   "source": [
    "### Model prediction with matrix multiplication"
   ]
  },
  {
   "cell_type": "markdown",
   "id": "a08b62b9-08a4-4260-9a17-289ffd66eff7",
   "metadata": {},
   "source": [
    "We used matrix multiplication to make predictions with our model. \n",
    "\n",
    "* We created a matrix with our model coefficients (1,2)\n",
    "* We created a matrix with our speed data (2x27304)\n",
    "\n",
    "\n",
    "$ \\begin{bmatrix} b & w \\end{bmatrix} * \\begin{bmatrix} 1 & 1 & 1 & 1 \\\\ speed_0 & speed_1 & speed_2 & speed_3 \\end{bmatrix} = \\begin{bmatrix} y_0 & y_1 & y_2 & y_3 \\end{bmatrix}$\n",
    "\n",
    "\n",
    "Each element of y results from $b*1+w*speed$, which is our linear model.\n",
    "\n",
    "* The multiplication gives a matrix of shape (1,27304). This matrix contains the prediction of the model for 27304 data point."
   ]
  },
  {
   "cell_type": "code",
   "execution_count": 4,
   "id": "50160f69-6dc4-4a0d-8b90-6ce1410b02f6",
   "metadata": {},
   "outputs": [],
   "source": [
    "theta = np.array([[0.0,3.0]]) # random guess of the 2 model parameters, same as above\n",
    "X = np.ones((2,speed.shape[0]))  # make a 2 rows array with ones in the first row and speed in the second row\n",
    "X[1,:] = speed"
   ]
  },
  {
   "cell_type": "markdown",
   "id": "3afb32e7-e0e1-4988-83b6-4864dffe156b",
   "metadata": {},
   "source": [
    "Model prediction using $theta@X$"
   ]
  },
  {
   "cell_type": "code",
   "execution_count": 8,
   "id": "1b8f4b02-7de0-490c-983e-cb5e1493da46",
   "metadata": {},
   "outputs": [
    {
     "data": {
      "text/plain": [
       "((1, 2), (2, 27304))"
      ]
     },
     "execution_count": 8,
     "metadata": {},
     "output_type": "execute_result"
    }
   ],
   "source": [
    "theta.shape, X.shape"
   ]
  },
  {
   "cell_type": "code",
   "execution_count": 9,
   "id": "6225d8fb-779b-452b-8f05-c543f45e9b7b",
   "metadata": {},
   "outputs": [],
   "source": [
    "yhat = theta@X"
   ]
  },
  {
   "cell_type": "code",
   "execution_count": 10,
   "id": "b7884132-157c-4166-95fe-d8cc955604bb",
   "metadata": {},
   "outputs": [
    {
     "data": {
      "text/plain": [
       "array([[49.68329766, 55.18778178, 44.91174883, ..., 80.04574821,\n",
       "        79.2355093 , 78.89726005]])"
      ]
     },
     "execution_count": 10,
     "metadata": {},
     "output_type": "execute_result"
    }
   ],
   "source": [
    "yhat"
   ]
  },
  {
   "cell_type": "code",
   "execution_count": 11,
   "id": "4cf63b05-44bf-41bc-8175-e0038b9c065c",
   "metadata": {},
   "outputs": [
    {
     "data": {
      "text/plain": [
       "(1, 27304)"
      ]
     },
     "execution_count": 11,
     "metadata": {},
     "output_type": "execute_result"
    }
   ],
   "source": [
    "yhat.shape"
   ]
  },
  {
   "cell_type": "markdown",
   "id": "74a22640-8fab-4ff7-bd41-43b9b3bc23e8",
   "metadata": {},
   "source": [
    "## Measuring model performance\n",
    "\n",
    "To be able to train any model, you need a measure of how bad it is doing it is doing. This is usually refer to as a `loss function`.\n",
    "\n",
    "For linear regression model, the mean squared error (MSE) is often used. \n",
    "\n",
    "\n",
    "$MSE = \\frac{1}{m} \\sum_{i = 1}^{m}(\\hat{y}^{i} - y^{i})^2$, where\n",
    "\n",
    "* $m$ is the number of data points\n",
    "* $y$ is the measured dependent variable (firing rate of the neuron) \n",
    "* $\\hat{y}$ is the prediction of the model\n"
   ]
  },
  {
   "cell_type": "markdown",
   "id": "712d21d7-3ecf-49c8-8f89-c8b1ec80d5cc",
   "metadata": {},
   "source": [
    "### Exercise:\n",
    "\n",
    "Calculate the mean squared error (MSE) for our untrained model"
   ]
  },
  {
   "cell_type": "code",
   "execution_count": null,
   "id": "df59a5a7-d9d7-43c1-814f-783f00994865",
   "metadata": {},
   "outputs": [],
   "source": []
  },
  {
   "cell_type": "markdown",
   "id": "1296b0b2-284b-4959-b1df-f47248dae879",
   "metadata": {},
   "source": [
    "The task of the training loop (machine learning) in this exercise is to modify the model parameters to reduce the MSE to the smallest value possible.\n",
    "\n",
    "## Training procedure using gradient descent\n",
    "\n",
    "We want to tweak the parameters with the goal of reducing the MSE. \n",
    "\n",
    "One way to do this is to use an optimization algorithm called **gradient descent**. \n",
    "\n",
    "Gradient descent is capable of finding optimal solutions to many type of problems/functions.\n",
    "\n",
    "\n",
    "<div>\n",
    "<img src=\"../images/gradient_descent.png\" width=\"1000\"/>\n",
    "</div>\n"
   ]
  },
  {
   "cell_type": "markdown",
   "id": "c312f6e6-8ed9-4732-8c4c-537f167988ac",
   "metadata": {},
   "source": [
    "With gradient descent, we calculate the slope of the loss function with the current parameters, then we change the parameters so that we move down the slope. \n",
    "\n",
    "The amount by which we move down the slope is controlled by a model hyperparameter called `learning rate`.\n",
    "\n",
    "The model hyperparameters are not optimized from the data. They control how the model learns. "
   ]
  },
  {
   "cell_type": "markdown",
   "id": "28f6bde5-7b18-46d7-b064-991417e24a0e",
   "metadata": {},
   "source": [
    "We can have a look at the cost function as a function of different values of $\\theta_1$ or $w$. This is the slope of our model."
   ]
  },
  {
   "cell_type": "code",
   "execution_count": 12,
   "id": "030e9e5c-3891-4a28-9467-83d4f3fad7c5",
   "metadata": {},
   "outputs": [
    {
     "name": "stdout",
     "output_type": "stream",
     "text": [
      "(27304,)\n",
      "(1, 27304)\n"
     ]
    }
   ],
   "source": [
    "print(rate.shape)\n",
    "rateM = np.expand_dims(rate,0) # creating a matrix with one row and 27304 column, just like yhat.\n",
    "print(rateM.shape)"
   ]
  },
  {
   "cell_type": "code",
   "execution_count": 13,
   "id": "3ad824c2-dbeb-4b89-942c-c78b74eeb98e",
   "metadata": {},
   "outputs": [],
   "source": [
    "theta = np.array([[10.0,2.0]]) "
   ]
  },
  {
   "cell_type": "code",
   "execution_count": 14,
   "id": "9b2b4927-d36f-4ade-9cd4-3279808485f8",
   "metadata": {},
   "outputs": [
    {
     "data": {
      "text/plain": [
       "((1, 2), (2, 27304))"
      ]
     },
     "execution_count": 14,
     "metadata": {},
     "output_type": "execute_result"
    }
   ],
   "source": [
    "theta.shape, X.shape"
   ]
  },
  {
   "cell_type": "code",
   "execution_count": 15,
   "id": "42d88037-893b-47e1-b3d1-73cc959e959c",
   "metadata": {},
   "outputs": [
    {
     "data": {
      "image/png": "[encoded data removed]",
      "text/plain": [
       "<Figure size 640x480 with 1 Axes>"
      ]
     },
     "metadata": {},
     "output_type": "display_data"
    }
   ],
   "source": [
    "nDataPoints=200\n",
    "theta[0,0]=10.0 # I am cheating and set b to the correct value to see if the loss function will have a minimum at the correct value of w\n",
    "\n",
    "res = np.empty(nDataPoints)\n",
    "param_values = np.linspace(-5.0,7.5,nDataPoints)\n",
    "for i,t in enumerate(param_values):\n",
    "    theta[0,1]=t # change the second parameter of the model\n",
    "    res[i] = np.mean((rateM-theta@X)**2)\n",
    "plt.plot(param_values,res)\n",
    "plt.xlabel(r\"$\\theta_1$\")\n",
    "plt.ylabel(\"MSE\")\n",
    "plt.title(r\"Loss as a function of $\\theta_0$\")\n",
    "plt.show()"
   ]
  },
  {
   "cell_type": "markdown",
   "id": "bbaf8ccc-39e5-4674-ab7f-ee2ab9035f1b",
   "metadata": {},
   "source": [
    "### Partial derivative of the cost function\n",
    "\n",
    "To be able to adjust the parameters in the right direction, we need to know the slope for a specific value of $\\theta$.\n",
    "\n",
    "This is called the partial derivative for our parameters.\n",
    "\n",
    "For the case of the MSE, the formula for the partial derivative is:\n",
    "\n",
    "$\\nabla_{\\theta}MSE(\\theta) = \\frac{2}{m} (\\theta X - y)X^{T}$\n",
    "\n",
    "* $y$ is your fiirng rate.\n",
    "* $X^{T}$ is the transpose of $X$. In NumPy, this is `X.T`."
   ]
  },
  {
   "cell_type": "markdown",
   "id": "ec23bccc-1e04-4ef2-9bb0-8d50a3f14ac3",
   "metadata": {},
   "source": [
    "### Exercise:\n",
    "\n",
    "Write the code that will give you the partial derivative."
   ]
  },
  {
   "cell_type": "code",
   "execution_count": 16,
   "id": "18f94671-2b93-41ec-aa79-9e1a3f6f3153",
   "metadata": {},
   "outputs": [],
   "source": [
    "theta = np.array([[10.0,10]]) "
   ]
  },
  {
   "cell_type": "code",
   "execution_count": null,
   "id": "304c0f36-71c4-4d33-a5e0-60d6aa96208c",
   "metadata": {},
   "outputs": [],
   "source": []
  },
  {
   "cell_type": "markdown",
   "id": "858aab75-08a6-4b79-a0c5-25aa16504a8f",
   "metadata": {},
   "source": [
    "In the training loop, negative gradients mean that you increase the values of the coefficients to reduce the MSE.\n",
    "\n",
    "Because we use all observations to calculate the gradients, this is called **batch gradient descent**."
   ]
  },
  {
   "cell_type": "markdown",
   "id": "e7514fc6-cd42-4717-8a9d-aac8fb06cfe6",
   "metadata": {},
   "source": [
    "For more complex models, you can use [pytorch](https://pytorch.org/) to calculate the derivative for you automatically."
   ]
  },
  {
   "cell_type": "markdown",
   "id": "9c30d7e5-e986-474a-8a5f-1511fca4be9a",
   "metadata": {},
   "source": [
    "### Our first training loop\n",
    "\n",
    "This is a simple training loop. We loop several times and make small adjustments to the coefficients on each iteration."
   ]
  },
  {
   "cell_type": "code",
   "execution_count": 17,
   "id": "4f093ac0-4f91-4f0f-989d-f8259f4d9f5f",
   "metadata": {},
   "outputs": [
    {
     "name": "stdout",
     "output_type": "stream",
     "text": [
      "theta at start: [[20. -2.]]\n",
      "iteration:0, gradients: [[  -52.19386204 -1312.9093874 ]]\n",
      "iteration:1, gradients: [[  6.29767579 -71.12546627]]\n",
      "iteration:2, gradients: [[ 9.4298916 -4.2582338]]\n",
      "iteration:3, gradients: [[ 9.58120383 -0.6568125 ]]\n",
      "iteration:4, gradients: [[ 9.57203628 -0.46207069]]\n",
      "iteration:5, gradients: [[ 9.55426041 -0.45077012]]\n",
      "iteration:6, gradients: [[ 9.53605399 -0.44934887]]\n",
      "iteration:7, gradients: [[ 9.5178573  -0.44846115]]\n",
      "iteration:8, gradients: [[ 9.49969398 -0.4476037 ]]\n",
      "iteration:9, gradients: [[ 9.48156526 -0.44674943]]\n",
      "iteration:1000, gradients: [[ 1.42813487 -0.06729041]]\n",
      "iteration:2000, gradients: [[ 0.21144247 -0.00996268]]\n",
      "iteration:3000, gradients: [[ 0.03130511 -0.00147502]]\n",
      "iteration:4000, gradients: [[ 0.00463488 -0.00021838]]\n",
      "iteration:5000, gradients: [[ 6.86216563e-04 -3.23329375e-05]]\n",
      "optimized theta: [[10.02158385  1.25061659]]\n"
     ]
    }
   ],
   "source": [
    "lr = 0.002 # learning rate\n",
    "n_iterations = 6000 \n",
    "m = rate.shape[0] # number of data points\n",
    "\n",
    "#theta = np.random.rand(2) # set random parameters as a starting point\n",
    "theta = np.array([[20.0,-2.0]]) \n",
    "print(\"theta at start:\", theta)\n",
    "\n",
    "# learning loop\n",
    "for iteration in range(n_iterations):\n",
    "\n",
    "    \n",
    "    # make a prediction by feeding data to our model\n",
    "    yhat = theta@X\n",
    "    \n",
    "    # calculate the gradients with the current parameters\n",
    "    gradients = 2/m *(yhat - rateM) @ X.T\n",
    "    \n",
    "    # adjust the parameter so that we reduce the MSE\n",
    "    theta = theta - lr * gradients\n",
    "\n",
    "    if iteration%1000 == 0 or iteration<10:  # some information\n",
    "        print(\"iteration:{}, gradients: {}\".format(iteration,gradients))\n",
    "\n",
    "print(\"optimized theta:\",theta)"
   ]
  },
  {
   "cell_type": "markdown",
   "id": "d91c0a0a-4db8-41c1-b711-7fd359de6b3f",
   "metadata": {},
   "source": [
    "## Exercise: \n",
    "\n",
    "* Use our optimized model to make rate predictions \n",
    "* Plot the predicted and observed firing rates as a function of running speed. "
   ]
  },
  {
   "cell_type": "code",
   "execution_count": null,
   "id": "6b5c3272-98ef-4610-940e-3d2aba197e4a",
   "metadata": {},
   "outputs": [],
   "source": []
  },
  {
   "cell_type": "markdown",
   "id": "d403a5a7-c3af-4bb4-834a-f376708d8189",
   "metadata": {},
   "source": [
    "### Visualisation of the training process\n",
    "\n",
    "Here I created a small animation to visualize the training process. \n",
    "\n",
    "Don't worry about all the details relating to plotting the data. The training process is exactly the same as above. \n",
    "\n",
    "We save training parameters $w$ and $b$, the MSE and the gradients in numpy arrays at each iteration, and use this data to generate a plot for each iteration. We then put all images together to create an animation.\n",
    "\n",
    "The code takes approximately a minute to run."
   ]
  },
  {
   "cell_type": "code",
   "execution_count": 18,
   "id": "77c801c7-da10-4ddf-b13a-51ca0004f470",
   "metadata": {},
   "outputs": [],
   "source": [
    "import imageio\n",
    "import os"
   ]
  },
  {
   "cell_type": "code",
   "execution_count": 26,
   "id": "d9542c67-9c29-4e1c-8ec4-4a3377845b20",
   "metadata": {},
   "outputs": [
    {
     "name": "stdout",
     "output_type": "stream",
     "text": [
      "optimized theta: [[9.95836009 1.25359555]]\n"
     ]
    }
   ],
   "source": [
    "lr = 0.002\n",
    "n_epochs = 3000 # how many time we go through the data during the learning process, one epoch = one pass through the data.\n",
    "m = rate.shape[0]\n",
    "theta = np.array([[-10,-10]])\n",
    "\n",
    "# variables for our animation\n",
    "animation_dir = \"../images/learning_animation/\"\n",
    "imageFileNames = []\n",
    "save_every = 25\n",
    "\n",
    "# arrays to store the results at each iteration\n",
    "mseLearning = np.empty(n_epochs)\n",
    "tLearning = np.empty((n_epochs,2))\n",
    "gradLearning = np.empty((n_epochs,2))\n",
    "\n",
    "\n",
    "for epoch in range(n_epochs):\n",
    "    gradients = 2/m *(theta@X - rateM) @ X.T\n",
    "    \n",
    "    # save results for the animation\n",
    "    mseLearning[epoch] = np.mean((rate-theta@X)**2)\n",
    "    tLearning[epoch,:] = theta\n",
    "    gradLearning[epoch,:] = gradients\n",
    "    \n",
    "    \n",
    "    # change the parameters\n",
    "    theta = theta - lr * gradients\n",
    "    \n",
    "    \n",
    "    # make one figure for our animation\n",
    "\n",
    "    if epoch < 5 or epoch % save_every == 0:\n",
    "        fn = os.path.join(animation_dir,\"image_{}.png\".format(epoch))\n",
    "        imageFileNames.append(fn)\n",
    "        fig, ax = plt.subplots(1,4,figsize=(13,3),layout=\"constrained\")\n",
    "    \n",
    "        # plot the MSE\n",
    "        ax[0].plot(np.arange(epoch),mseLearning[:epoch])\n",
    "        ax[0].set_xlim(0,n_epochs)\n",
    "        ax[0].set_ylim(0,200)\n",
    "        ax[0].set_xlabel(\"Epochs\")\n",
    "        ax[0].set_ylabel(\"Loss (MSE)\")\n",
    "        ax[0].spines['top'].set_visible(False)\n",
    "        ax[0].spines['right'].set_visible(False) \n",
    "        ax[0].set_title(\"MSE\")\n",
    "        \n",
    "        # plot the gradients\n",
    "        ax[1].plot(np.arange(epoch),gradLearning[:epoch,1],label=\"$w$ gradient\")\n",
    "        ax[1].plot(np.arange(epoch),gradLearning[:epoch,0],label=\"$b$ gradient\")\n",
    "        ax[1].set_xlim(0,n_epochs)\n",
    "        ax[1].set_ylim(-10,1)\n",
    "        ax[1].set_xlabel(\"Epochs\")\n",
    "        ax[1].set_ylabel(\"Gradients\")\n",
    "        ax[1].legend(loc=4)\n",
    "        ax[1].spines['top'].set_visible(False)\n",
    "        ax[1].spines['right'].set_visible(False) \n",
    "        ax[1].set_title(\"Gradients\")\n",
    "    \n",
    "        # plot the parameters\n",
    "        ax[2].scatter(tLearning[:epoch,0],tLearning[:epoch,1],color=\"gray\",s=3,alpha=0.5)\n",
    "        ax[2].scatter(tLearning[epoch,0],tLearning[epoch,1],color=\"red\",s=5)\n",
    "        ax[2].set_xlim(-10,12)\n",
    "        ax[2].set_ylim(-0.5,3)\n",
    "        ax[2].set_xlabel(\"$b$\")\n",
    "        ax[2].set_ylabel(\"$w$\")\n",
    "        ax[2].text(-0.5, 2.5, \"Epoch {}/{}\".format(epoch,n_epochs))\n",
    "        ax[2].spines['top'].set_visible(False)\n",
    "        ax[2].spines['right'].set_visible(False)\n",
    "        ax[2].set_title(\"Parameters\")\n",
    "    \n",
    "        # plot the data and regression line\n",
    "        x=np.arange(70)\n",
    "        y = x*theta[0,1] + theta[0,0]\n",
    "        \n",
    "        \n",
    "        ax[3].scatter(speed[::10],rate[::10],label=\"Data\",alpha=0.5,s=1) # only plot every 10 data points to speed up plot function\n",
    "        ax[3].plot(x,y,label=\"Model\",color=\"red\")\n",
    "        ax[3].set_xlabel(\"Speed (cm/sec)\")\n",
    "        ax[3].set_ylabel(\"Firing rate (Hz)\")\n",
    "        ax[3].set_xlim(0,70)\n",
    "        ax[3].set_ylim(-10,130)\n",
    "        ax[3].legend(loc=4)\n",
    "        ax[3].set_title(\"Data and Model\")\n",
    "        ax[3].spines['top'].set_visible(False)\n",
    "        ax[3].spines['right'].set_visible(False)\n",
    "        \n",
    "        plt.savefig(fn)\n",
    "        plt.close()\n",
    " \n",
    "print(\"optimized theta:\",theta)\n"
   ]
  },
  {
   "cell_type": "markdown",
   "id": "d69f11fe-e9d2-47ff-8160-0276eb47d1cc",
   "metadata": {},
   "source": [
    "We can make the animation from our saved image"
   ]
  },
  {
   "cell_type": "code",
   "execution_count": 27,
   "id": "9e5db3a8-034e-4bf1-85bc-84e64460d339",
   "metadata": {},
   "outputs": [],
   "source": [
    "fn = os.path.join(animation_dir,\"learning_animation.gif\")\n",
    "with imageio.get_writer(fn, mode='I') as writer:\n",
    "    for filename in imageFileNames:\n",
    "        image = imageio.v2.imread(filename)\n",
    "        writer.append_data(image)\n",
    "# Remove files\n",
    "for filename in set(imageFileNames):\n",
    "    os.remove(filename)"
   ]
  },
  {
   "cell_type": "markdown",
   "id": "367b05e7-d4c0-45c1-90f1-342c51231525",
   "metadata": {},
   "source": [
    "<img src=\"../images/learning_animation/learning_animation.gif\" width=\"1000\" align=\"center\">"
   ]
  },
  {
   "cell_type": "markdown",
   "id": "c88e32b4-ae4f-437d-aff8-4d441a1669aa",
   "metadata": {},
   "source": [
    "## Alternative ways to find the best parameters"
   ]
  },
  {
   "cell_type": "markdown",
   "id": "d705b97c-484e-4ff1-8576-4948098788c6",
   "metadata": {},
   "source": [
    "### sklearn.linear_model.LinearRegression\n",
    "\n",
    "Scikit-Learn had built in classes to train linear and non-linear regression models. \n",
    "\n",
    "https://scikit-learn.org/stable/modules/generated/sklearn.linear_model.LinearRegression.html"
   ]
  },
  {
   "cell_type": "code",
   "execution_count": 21,
   "id": "0be208d4-7e6a-470b-80a8-1699fbc86387",
   "metadata": {},
   "outputs": [
    {
     "data": {
      "text/plain": [
       "(10.021477375759808, array([0.        , 1.25062161]))"
      ]
     },
     "execution_count": 21,
     "metadata": {},
     "output_type": "execute_result"
    }
   ],
   "source": [
    "from sklearn.linear_model import LinearRegression\n",
    "lin_reg = LinearRegression()\n",
    "lin_reg.fit(X.T,rate)\n",
    "lin_reg.intercept_,lin_reg.coef_"
   ]
  },
  {
   "cell_type": "markdown",
   "id": "7c9001bd-74c6-4bd8-bf22-cc40ac61d8a5",
   "metadata": {},
   "source": [
    "### pytorch\n",
    "\n",
    "pytorch is a platform use principally to train deep neural network. \n",
    "\n",
    "With pytorch, we need to put our data and model in torch.tensor objects instead of NumPy array. They work similarly for the most part. \n",
    "\n",
    "pytorch can calculate the derivative for you. The computations can be sent to the GPU if needed (not implemented here)\n"
   ]
  },
  {
   "cell_type": "code",
   "execution_count": 22,
   "id": "01be8e79-b15e-45ca-bab4-e73506997842",
   "metadata": {},
   "outputs": [
    {
     "name": "stdout",
     "output_type": "stream",
     "text": [
      "theta at start: tensor([[20., -2.]], requires_grad=True)\n",
      "loss: tensor(1898.2795, grad_fn=<MeanBackward0>)\n",
      "gradients:  tensor([[  -52.1939, -1312.9094]])\n"
     ]
    },
    {
     "data": {
      "text/plain": [
       "tensor([[0., 0.]])"
      ]
     },
     "execution_count": 22,
     "metadata": {},
     "output_type": "execute_result"
    }
   ],
   "source": [
    "import torch\n",
    "\n",
    "# linear model making prediction\n",
    "def model(X,theta):\n",
    "    return theta@X\n",
    "# loss function returning MSE\n",
    "def loss_fn(y,yhat):\n",
    "    squared_diff = (y-yhat)**2\n",
    "    return squared_diff.mean()\n",
    "\n",
    "# model parameters stored as a pytorch tensor. This makes the calculation of the gradients possible\n",
    "theta = torch.tensor([[20.0,-2.0]],requires_grad =True)\n",
    "print(\"theta at start:\", theta)\n",
    "\n",
    "# We transform our data from NumPy array to Pytorch tensors. There is no need for gradients\n",
    "XTensor = torch.tensor(X,dtype=torch.float32)\n",
    "rateTensor= torch.tensor(rate,dtype=torch.float32)\n",
    "\n",
    "# let's run the model once and calculate the loss\n",
    "yhat = model(XTensor,theta)\n",
    "loss = loss_fn(yhat,rateTensor)\n",
    "print(\"loss:\",loss)\n",
    "loss.backward()\n",
    "\n",
    "print(\"gradients: \",theta.grad)\n",
    "\n",
    "# We need to zero the gradients; otherwise, they accumulate\n",
    "theta.grad.zero_()\n"
   ]
  },
  {
   "cell_type": "code",
   "execution_count": 23,
   "id": "c3893e0c-f83d-4123-8ed4-b83c5885caac",
   "metadata": {},
   "outputs": [],
   "source": [
    "## training loop that will modify our parameters to minimize the loss function (MSE)\n",
    "def training_loop(n_epochs, learning_rate, theta, XTensor,rateTensor):\n",
    "    for epoch in range (n_epochs):\n",
    "\n",
    "        if theta.grad is not None:\n",
    "            theta.grad.zero_() \n",
    "        \n",
    "        yhat = model(XTensor,theta)\n",
    "        loss = loss_fn(yhat,rateTensor)\n",
    "        loss.backward()\n",
    "        \n",
    "        with torch.no_grad():\n",
    "            theta -= learning_rate * theta.grad\n",
    "        \n",
    "        if epoch % 1000 ==0 or epoch < 10:\n",
    "            print(\"Epoch: {}, Loss: {}, theta: {}, Gradients: {}\".format(epoch,loss, theta, theta.grad))\n",
    "    return theta"
   ]
  },
  {
   "cell_type": "code",
   "execution_count": 24,
   "id": "ed7edf27-8242-46a1-96e4-8d6d8ddea35b",
   "metadata": {},
   "outputs": [
    {
     "name": "stdout",
     "output_type": "stream",
     "text": [
      "Epoch: 0, Loss: 1898.279541015625, theta: tensor([20.0522, -0.6871], requires_grad=True), Gradients: tensor([  -52.1939, -1312.9094])\n",
      "Epoch: 1, Loss: 580.1749877929688, theta: tensor([2.0075e+01, 4.9269e-03], requires_grad=True), Gradients: tensor([ -22.9481, -692.0174])\n",
      "Epoch: 2, Loss: 214.13821411132812, theta: tensor([20.0827,  0.3698], requires_grad=True), Gradients: tensor([  -7.5422, -364.8546])\n",
      "Epoch: 3, Loss: 112.44169616699219, theta: tensor([20.0821,  0.5622], requires_grad=True), Gradients: tensor([   0.5713, -192.4646])\n",
      "Epoch: 4, Loss: 84.138916015625, theta: tensor([20.0773,  0.6639], requires_grad=True), Gradients: tensor([   4.8421, -101.6281])\n",
      "Epoch: 5, Loss: 76.21393585205078, theta: tensor([20.0702,  0.7176], requires_grad=True), Gradients: tensor([  7.0881, -53.7640])\n",
      "Epoch: 6, Loss: 73.94693756103516, theta: tensor([20.0619,  0.7462], requires_grad=True), Gradients: tensor([  8.2673, -28.5431])\n",
      "Epoch: 7, Loss: 73.2509994506836, theta: tensor([20.0530,  0.7614], requires_grad=True), Gradients: tensor([  8.8843, -15.2533])\n",
      "Epoch: 8, Loss: 72.99138641357422, theta: tensor([20.0438,  0.7697], requires_grad=True), Gradients: tensor([ 9.2051, -8.2505])\n",
      "Epoch: 9, Loss: 72.8530502319336, theta: tensor([20.0345,  0.7742], requires_grad=True), Gradients: tensor([ 9.3698, -4.5603])\n",
      "Epoch: 1000, Loss: 32.0439338684082, theta: tensor([13.9094,  1.0674], requires_grad=True), Gradients: tensor([ 3.7133, -0.1750])\n",
      "Epoch: 2000, Loss: 25.875734329223633, theta: tensor([11.5181,  1.1801], requires_grad=True), Gradients: tensor([ 1.4294, -0.0673])\n",
      "Epoch: 3000, Loss: 24.96167755126953, theta: tensor([10.5976,  1.2235], requires_grad=True), Gradients: tensor([ 0.5503, -0.0260])\n",
      "Epoch: 4000, Loss: 24.826221466064453, theta: tensor([10.2433,  1.2402], requires_grad=True), Gradients: tensor([ 0.2118, -0.0100])\n",
      "Epoch: 5000, Loss: 24.806148529052734, theta: tensor([10.1069,  1.2466], requires_grad=True), Gradients: tensor([ 0.0815, -0.0039])\n",
      "Epoch: 6000, Loss: 24.80317497253418, theta: tensor([10.0543,  1.2491], requires_grad=True), Gradients: tensor([ 0.0314, -0.0015])\n",
      "Epoch: 7000, Loss: 24.802734375, theta: tensor([10.0341,  1.2500], requires_grad=True), Gradients: tensor([ 0.0121, -0.0006])\n",
      "Epoch: 8000, Loss: 24.80266761779785, theta: tensor([10.0264,  1.2504], requires_grad=True), Gradients: tensor([ 0.0047, -0.0002])\n",
      "Epoch: 9000, Loss: 24.80265998840332, theta: tensor([10.0234,  1.2505], requires_grad=True), Gradients: tensor([ 1.8253e-03, -9.6262e-05])\n",
      "tensor([10.0222,  1.2506], requires_grad=True)\n"
     ]
    }
   ],
   "source": [
    "opt_theta = training_loop(n_epochs = 10000,\n",
    "                          learning_rate = 0.001,\n",
    "                          theta = torch.tensor([20.0,-2.0],requires_grad =True),\n",
    "                          XTensor = XTensor,\n",
    "                          rateTensor=rateTensor)\n",
    "print(opt_theta)"
   ]
  },
  {
   "cell_type": "markdown",
   "id": "0a706aae-13ac-47a1-a547-12ea62fbca61",
   "metadata": {},
   "source": [
    "Once again we found our initial parameters.\n",
    "\n",
    "This type of output is very similar to what you see when you train DeepLabCut (more on this next week)."
   ]
  },
  {
   "cell_type": "markdown",
   "id": "02ef3f79-230f-471c-9bff-02f63dc728cd",
   "metadata": {},
   "source": [
    "## Summary\n",
    "\n",
    "* We implemented a linear regression model in python.\n",
    "* We defined a cost function (MSE) to measure how good/bad the model predictions are.\n",
    "* We calculated the partial derivative of the MSE for a set of coefficients.\n",
    "* We wrote a training loop to adjust the coefficients iteratively in order to minimize MSE\n",
    "* We covered 3 possible ways in which you can train models (klearn.linear_model, scipy.optimize.minimize and pytorch)\n"
   ]
  },
  {
   "cell_type": "markdown",
   "id": "214e269e-2d2d-4dfb-b69d-97c94bfb9741",
   "metadata": {},
   "source": [
    "# Machine learning challenge\n",
    "\n",
    "A new paper comes out on speed cells. The authors suggest that the firing rate of speed cells depends on both speed and acceleration. \n",
    "\n",
    "Two factors are influencing the firing rate of the neuron. \n",
    "\n",
    "You would like to create a linear regression model that predict the firing rate of these cells.\n",
    "\n",
    "Your new model is as follows.\n",
    "\n",
    "$rate = speed*w_1 + acceleration*w_2 + b + error$\n",
    "\n",
    "In this model you will have 3 coefficients, $\\theta_0, \\theta_1, \\theta_2$\n"
   ]
  },
  {
   "cell_type": "code",
   "execution_count": 33,
   "id": "b3012118-8fd9-4ad4-9b7f-f571b329f1bc",
   "metadata": {},
   "outputs": [],
   "source": [
    "fn = \"../data/animal_acceleration.npy\"\n",
    "acceleration = np.load(fn)"
   ]
  },
  {
   "cell_type": "code",
   "execution_count": 34,
   "id": "b4cd8d44-1d23-4255-a5cf-73b7fd55a38e",
   "metadata": {},
   "outputs": [],
   "source": [
    "fn = \"../data/animal_speed.npy\"\n",
    "speed = np.load(fn)"
   ]
  },
  {
   "cell_type": "code",
   "execution_count": 35,
   "id": "c4fcde8b-7357-4f1d-81cd-5b69b610b751",
   "metadata": {},
   "outputs": [],
   "source": [
    "fn =  \"../data/y_rate.npy\"\n",
    "rate = np.load(fn)"
   ]
  },
  {
   "cell_type": "markdown",
   "id": "6dfecda7-4dec-4820-a9dd-9ea7dbbd5a85",
   "metadata": {},
   "source": [
    "Do the following steps\n",
    "\n",
    "1. Use scatter plots to check if there is a linear relationship between speed and rate, and between acceleration and rate.\n",
    "2. Create you matrix `theta` with the 3 parameters of your model\n",
    "3. Create your matrix `X` with the speed and acceleration data. Don't forget the first row of ones.\n",
    "4. Train a model to find the best model parameters to predict the firing rate of the neuron.\n",
    "5. Plot the original data together with the predicted firing rates from your model.  "
   ]
  },
  {
   "cell_type": "code",
   "execution_count": null,
   "id": "c0739d5f-b127-482e-a9cf-ee050ea2ed09",
   "metadata": {},
   "outputs": [],
   "source": []
  }
 ],
 "metadata": {
  "kernelspec": {
   "display_name": "Python 3 (ipykernel)",
   "language": "python",
   "name": "python3"
  },
  "language_info": {
   "codemirror_mode": {
    "name": "ipython",
    "version": 3
   },
   "file_extension": ".py",
   "mimetype": "text/x-python",
   "name": "python",
   "nbconvert_exporter": "python",
   "pygments_lexer": "ipython3",
   "version": "3.10.12"
  }
 },
 "nbformat": 4,
 "nbformat_minor": 5
}
