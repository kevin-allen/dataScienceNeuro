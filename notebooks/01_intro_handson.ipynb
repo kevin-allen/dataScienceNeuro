{
 "cells": [
  {
   "cell_type": "markdown",
   "id": "52071cc8-27a4-4d35-a10f-abd6fdecf75e",
   "metadata": {},
   "source": [
    "## Review exercises with electrophysiological data"
   ]
  },
  {
   "cell_type": "code",
   "execution_count": 5,
   "id": "7105eedf-40fb-4d43-902f-46723d63d4ce",
   "metadata": {},
   "outputs": [],
   "source": [
    "import numpy as np\n",
    "import matplotlib.pyplot as plt"
   ]
  },
  {
   "cell_type": "code",
   "execution_count": 6,
   "id": "035e8f5c-7e87-489f-a60b-affbff14a27d",
   "metadata": {},
   "outputs": [
    {
     "name": "stdout",
     "output_type": "stream",
     "text": [
      "../data/shortRaw.npy\n"
     ]
    }
   ],
   "source": [
    "fileName = \"/home/kevin/Downloads/shortRaw.npy\" # Change the path to the file you downloaded  \n",
    "# or \n",
    "fileName = \"../data/shortRaw.npy\" # binder users or people with a local git repository\n",
    "print(fileName)"
   ]
  },
  {
   "cell_type": "code",
   "execution_count": 7,
   "id": "1463d9ff-7c30-42e1-a4af-7ce5c450f11f",
   "metadata": {},
   "outputs": [
    {
     "data": {
      "text/plain": [
       "numpy.ndarray"
      ]
     },
     "execution_count": 7,
     "metadata": {},
     "output_type": "execute_result"
    }
   ],
   "source": [
    "dat = np.load(fileName)\n",
    "type(dat)"
   ]
  },
  {
   "cell_type": "markdown",
   "id": "ca737772-c20f-4efd-9e82-fffa65021fac",
   "metadata": {},
   "source": [
    "## Exercises with NumPy arrays\n",
    "\n",
    "Here are a few problems to test your NumPy skills."
   ]
  },
  {
   "cell_type": "markdown",
   "id": "87615f1e-43d4-4a06-83a9-0e6ed40f0931",
   "metadata": {},
   "source": [
    "We will load a NumPy array from a file. Tell me as much as information as you can about it.\n"
   ]
  },
  {
   "cell_type": "code",
   "execution_count": 22,
   "id": "759346e3-0cc6-4bdb-a33c-8b3b49419798",
   "metadata": {},
   "outputs": [],
   "source": [
    "fn = \"../data/mysteryData.npy\"\n",
    "mysteryData = np.load(fn)"
   ]
  },
  {
   "cell_type": "markdown",
   "id": "b76ebf6e-ba1a-4217-84dd-ddb1c9be92c0",
   "metadata": {},
   "source": [
    "## Pandas Data Frames\n",
    "\n",
    "In NumPy arrays, all elements are of the same type. Pandas Data Frames allow you to have tabular data where you have elements of different types."
   ]
  },
  {
   "cell_type": "markdown",
   "id": "ecbd0c2a-e432-45f5-86f9-81c36c9b14ef",
   "metadata": {},
   "source": [
    "## Matplotlib"
   ]
  },
  {
   "cell_type": "code",
   "execution_count": null,
   "id": "e9be80ca-58a1-4d10-8c74-848610ddff25",
   "metadata": {},
   "outputs": [],
   "source": []
  }
 ],
 "metadata": {
  "kernelspec": {
   "display_name": "Python 3 (ipykernel)",
   "language": "python",
   "name": "python3"
  },
  "language_info": {
   "codemirror_mode": {
    "name": "ipython",
    "version": 3
   },
   "file_extension": ".py",
   "mimetype": "text/x-python",
   "name": "python",
   "nbconvert_exporter": "python",
   "pygments_lexer": "ipython3",
   "version": "3.10.12"
  }
 },
 "nbformat": 4,
 "nbformat_minor": 5
}
