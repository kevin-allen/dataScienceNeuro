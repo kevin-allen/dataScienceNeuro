{
 "cells": [
  {
   "cell_type": "markdown",
   "id": "52071cc8-27a4-4d35-a10f-abd6fdecf75e",
   "metadata": {},
   "source": [
    "## Review exercises with electrophysiological data"
   ]
  },
  {
   "cell_type": "code",
   "execution_count": 1,
   "id": "7105eedf-40fb-4d43-902f-46723d63d4ce",
   "metadata": {},
   "outputs": [],
   "source": [
    "import numpy as np\n",
    "import matplotlib.pyplot as plt"
   ]
  },
  {
   "cell_type": "code",
   "execution_count": 2,
   "id": "035e8f5c-7e87-489f-a60b-affbff14a27d",
   "metadata": {},
   "outputs": [
    {
     "name": "stdout",
     "output_type": "stream",
     "text": [
      "../data/shortRaw.npy\n"
     ]
    }
   ],
   "source": [
    "fileName = \"/home/kevin/Downloads/shortRaw.npy\" # Change the path to the file you downloaded  \n",
    "# or \n",
    "fileName = \"../data/shortRaw.npy\" # binder users or people with a local git repository\n",
    "print(fileName)"
   ]
  },
  {
   "cell_type": "code",
   "execution_count": 3,
   "id": "1463d9ff-7c30-42e1-a4af-7ce5c450f11f",
   "metadata": {},
   "outputs": [
    {
     "data": {
      "text/plain": [
       "numpy.ndarray"
      ]
     },
     "execution_count": 3,
     "metadata": {},
     "output_type": "execute_result"
    }
   ],
   "source": [
    "dat = np.load(fileName)\n",
    "type(dat)"
   ]
  },
  {
   "cell_type": "markdown",
   "id": "ca737772-c20f-4efd-9e82-fffa65021fac",
   "metadata": {},
   "source": [
    "## Exercises with NumPy arrays\n",
    "\n",
    "Here are a few problems to test your NumPy skills."
   ]
  },
  {
   "cell_type": "markdown",
   "id": "87615f1e-43d4-4a06-83a9-0e6ed40f0931",
   "metadata": {},
   "source": [
    "### NumPy Exercise 1\n",
    "\n",
    "We will load a NumPy array from a file. Tell me as much as information as you can about it.\n"
   ]
  },
  {
   "cell_type": "code",
   "execution_count": 22,
   "id": "759346e3-0cc6-4bdb-a33c-8b3b49419798",
   "metadata": {},
   "outputs": [],
   "source": [
    "fn = \"../data/mysteryData.npy\"\n",
    "mysteryData = np.load(fn)"
   ]
  },
  {
   "cell_type": "markdown",
   "id": "c2e8fdef-17d4-4b01-8679-c1ca6de69f6c",
   "metadata": {},
   "source": [
    "### NumPy Exercise 2\n",
    "\n",
    "We will use the electrophysiological recordings that you loaded from a file. \n",
    "\n",
    "Could you transform the data from each recording channel into a z-score?\n",
    "\n",
    "### NumPy Exercise 3\n",
    "\n",
    "Still using the electrophysiological recordings, which channel contains the largest value?\n",
    "\n",
    "### NumPy and Matplotlib Exercise 4\n",
    "\n",
    "1. Can you plot a sine wave?\n",
    "\n",
    "2. Can you add some random noise to your sine wave and plot it?\n",
    "\n",
    "3. Can you plot a cosine and a sine wave on the same plot?"
   ]
  },
  {
   "cell_type": "markdown",
   "id": "b76ebf6e-ba1a-4217-84dd-ddb1c9be92c0",
   "metadata": {},
   "source": [
    "## Pandas Data Frames\n",
    "\n",
    "In NumPy arrays, all elements are of the same type. \n",
    "\n",
    "Pandas Data Frames allow you to have tabular data where you have elements of different types.\n",
    "\n",
    "The main objects in the Pandas are \n",
    "\n",
    "* DataFrame\n",
    "* Series\n"
   ]
  },
  {
   "cell_type": "code",
   "execution_count": 14,
   "id": "8512c9ea-678a-4819-a4e2-310b78679357",
   "metadata": {},
   "outputs": [],
   "source": [
    "import pandas as pd"
   ]
  },
  {
   "cell_type": "markdown",
   "id": "e0b22be2-a44d-4a75-b797-4dea2dab8077",
   "metadata": {},
   "source": [
    "We can create a DataFrame from a dictionary containing lists."
   ]
  },
  {
   "cell_type": "code",
   "execution_count": 17,
   "id": "fb3ae67c-30d7-43d6-8e47-4e3f29f79713",
   "metadata": {},
   "outputs": [
    {
     "data": {
      "text/plain": [
       "{'name': ['Luke', 'Stephany', 'Peter', 'Antonio', 'Felix'],\n",
       " 'grade': [82, 95, 92, 85, 83],\n",
       " 'country': ['Canada', 'Germany', 'Germany', 'Peru', 'India']}"
      ]
     },
     "execution_count": 17,
     "metadata": {},
     "output_type": "execute_result"
    }
   ],
   "source": [
    "myDict = {\"name\": [\"Luke\",\"Stephany\",\"Peter\",\"Antonio\",\"Felix\"],\n",
    "          \"grade\": [82,95,92,85,83],\n",
    "          \"country\": [\"Canada\",\"Germany\",\"Germany\",\"Peru\",\"India\"]}\n",
    "myDict"
   ]
  },
  {
   "cell_type": "code",
   "execution_count": 18,
   "id": "7ac84859-43c5-4cba-9e39-b747c21feaaa",
   "metadata": {},
   "outputs": [
    {
     "data": {
      "text/html": [
       "<div>\n",
       "<style scoped>\n",
       "    .dataframe tbody tr th:only-of-type {\n",
       "        vertical-align: middle;\n",
       "    }\n",
       "\n",
       "    .dataframe tbody tr th {\n",
       "        vertical-align: top;\n",
       "    }\n",
       "\n",
       "    .dataframe thead th {\n",
       "        text-align: right;\n",
       "    }\n",
       "</style>\n",
       "<table border=\"1\" class=\"dataframe\">\n",
       "  <thead>\n",
       "    <tr style=\"text-align: right;\">\n",
       "      <th></th>\n",
       "      <th>name</th>\n",
       "      <th>grade</th>\n",
       "      <th>country</th>\n",
       "    </tr>\n",
       "  </thead>\n",
       "  <tbody>\n",
       "    <tr>\n",
       "      <th>0</th>\n",
       "      <td>Luke</td>\n",
       "      <td>82</td>\n",
       "      <td>Canada</td>\n",
       "    </tr>\n",
       "    <tr>\n",
       "      <th>1</th>\n",
       "      <td>Stephany</td>\n",
       "      <td>95</td>\n",
       "      <td>Germany</td>\n",
       "    </tr>\n",
       "    <tr>\n",
       "      <th>2</th>\n",
       "      <td>Peter</td>\n",
       "      <td>92</td>\n",
       "      <td>Germany</td>\n",
       "    </tr>\n",
       "    <tr>\n",
       "      <th>3</th>\n",
       "      <td>Antonio</td>\n",
       "      <td>85</td>\n",
       "      <td>Peru</td>\n",
       "    </tr>\n",
       "    <tr>\n",
       "      <th>4</th>\n",
       "      <td>Felix</td>\n",
       "      <td>83</td>\n",
       "      <td>India</td>\n",
       "    </tr>\n",
       "  </tbody>\n",
       "</table>\n",
       "</div>"
      ],
      "text/plain": [
       "       name  grade  country\n",
       "0      Luke     82   Canada\n",
       "1  Stephany     95  Germany\n",
       "2     Peter     92  Germany\n",
       "3   Antonio     85     Peru\n",
       "4     Felix     83    India"
      ]
     },
     "execution_count": 18,
     "metadata": {},
     "output_type": "execute_result"
    }
   ],
   "source": [
    "df = pd.DataFrame(myDict)\n",
    "df"
   ]
  },
  {
   "cell_type": "markdown",
   "id": "4cbc8cfc-b41c-4936-ac85-e0d85db296df",
   "metadata": {},
   "source": [
    "### Pandas Series\n",
    "\n",
    "A Pandas Series is a 1D array-like object containing a sequence of values, together with an associated array of data labels called its index.  "
   ]
  },
  {
   "cell_type": "code",
   "execution_count": 20,
   "id": "31ab7571-8001-4ba7-abf7-a507b0ee70ac",
   "metadata": {},
   "outputs": [
    {
     "data": {
      "text/plain": [
       "0    4\n",
       "1    7\n",
       "2   -5\n",
       "3    3\n",
       "dtype: int64"
      ]
     },
     "execution_count": 20,
     "metadata": {},
     "output_type": "execute_result"
    }
   ],
   "source": [
    "obj = pd.Series([4,7,-5,3])\n",
    "obj"
   ]
  },
  {
   "cell_type": "code",
   "execution_count": 39,
   "id": "e6729bc2-d32f-46f4-b508-ab38adbca232",
   "metadata": {},
   "outputs": [
    {
     "data": {
      "text/plain": [
       "pandas.core.series.Series"
      ]
     },
     "execution_count": 39,
     "metadata": {},
     "output_type": "execute_result"
    }
   ],
   "source": [
    "type(obj)"
   ]
  },
  {
   "cell_type": "markdown",
   "id": "390df7e6-101c-467b-b8ab-eed6ccf0ad46",
   "metadata": {},
   "source": [
    "It shows the index on the left and the values on the right. You can get them separately."
   ]
  },
  {
   "cell_type": "code",
   "execution_count": 21,
   "id": "6f73f783-d0da-4256-b984-620cd632db22",
   "metadata": {},
   "outputs": [
    {
     "data": {
      "text/plain": [
       "RangeIndex(start=0, stop=4, step=1)"
      ]
     },
     "execution_count": 21,
     "metadata": {},
     "output_type": "execute_result"
    }
   ],
   "source": [
    "obj.index"
   ]
  },
  {
   "cell_type": "code",
   "execution_count": 22,
   "id": "a99c2046-d4e2-4708-97e3-5b97e759b5bc",
   "metadata": {},
   "outputs": [
    {
     "data": {
      "text/plain": [
       "array([ 4,  7, -5,  3])"
      ]
     },
     "execution_count": 22,
     "metadata": {},
     "output_type": "execute_result"
    }
   ],
   "source": [
    "obj.values"
   ]
  },
  {
   "cell_type": "markdown",
   "id": "46dc3387-1254-4eaa-9c4b-c2b9689815ab",
   "metadata": {},
   "source": [
    "We can set the index when creating the Series."
   ]
  },
  {
   "cell_type": "code",
   "execution_count": 24,
   "id": "d91208d3-6a0a-4ffb-b8b5-51c940d32554",
   "metadata": {},
   "outputs": [
    {
     "data": {
      "text/plain": [
       "Index(['a', 'b', 'c', 'd'], dtype='object')"
      ]
     },
     "execution_count": 24,
     "metadata": {},
     "output_type": "execute_result"
    }
   ],
   "source": [
    "obj = pd.Series([4,7,-5,3],index=[\"a\",\"b\",\"c\",\"d\"])\n",
    "obj.index"
   ]
  },
  {
   "cell_type": "markdown",
   "id": "c406b696-9590-4361-8f07-384807afbc9e",
   "metadata": {},
   "source": [
    "You can select a set of values with the label of the index."
   ]
  },
  {
   "cell_type": "code",
   "execution_count": 25,
   "id": "fe37568c-70a3-4119-b911-66dea9f7a8f2",
   "metadata": {},
   "outputs": [
    {
     "data": {
      "text/plain": [
       "4"
      ]
     },
     "execution_count": 25,
     "metadata": {},
     "output_type": "execute_result"
    }
   ],
   "source": [
    "obj['a']"
   ]
  },
  {
   "cell_type": "code",
   "execution_count": 27,
   "id": "e42903f7-9646-4330-9d47-6b49f8b23b8b",
   "metadata": {},
   "outputs": [
    {
     "data": {
      "text/plain": [
       "a    4\n",
       "d    3\n",
       "dtype: int64"
      ]
     },
     "execution_count": 27,
     "metadata": {},
     "output_type": "execute_result"
    }
   ],
   "source": [
    "obj[[\"a\",\"d\"]]"
   ]
  },
  {
   "cell_type": "markdown",
   "id": "128744e6-ed3d-4421-b517-13e3d9af2ce4",
   "metadata": {},
   "source": [
    "We can select some elements using NumPy-like operations."
   ]
  },
  {
   "cell_type": "code",
   "execution_count": 28,
   "id": "9cc314f5-77f2-4e1e-8dee-e18207b5455e",
   "metadata": {},
   "outputs": [
    {
     "data": {
      "text/plain": [
       "a     True\n",
       "b     True\n",
       "c    False\n",
       "d    False\n",
       "dtype: bool"
      ]
     },
     "execution_count": 28,
     "metadata": {},
     "output_type": "execute_result"
    }
   ],
   "source": [
    "obj>3"
   ]
  },
  {
   "cell_type": "code",
   "execution_count": 29,
   "id": "06e2f73b-cd0c-4fa6-9210-7221a23ec13f",
   "metadata": {},
   "outputs": [
    {
     "data": {
      "text/plain": [
       "a    4\n",
       "b    7\n",
       "dtype: int64"
      ]
     },
     "execution_count": 29,
     "metadata": {},
     "output_type": "execute_result"
    }
   ],
   "source": [
    "obj[obj>3]"
   ]
  },
  {
   "cell_type": "markdown",
   "id": "75ce851a-0efb-400c-a530-64b6b03be0b2",
   "metadata": {},
   "source": [
    "We can apply NumPy function or other math operations to the values."
   ]
  },
  {
   "cell_type": "code",
   "execution_count": 32,
   "id": "d8c7b877-3bac-4d20-9eb4-b7323a4053e0",
   "metadata": {},
   "outputs": [
    {
     "data": {
      "text/plain": [
       "a    4\n",
       "b    7\n",
       "c    5\n",
       "d    3\n",
       "dtype: int64"
      ]
     },
     "execution_count": 32,
     "metadata": {},
     "output_type": "execute_result"
    }
   ],
   "source": [
    "np.abs(obj)"
   ]
  },
  {
   "cell_type": "markdown",
   "id": "3b66a0f7-4e6e-41e7-a6ca-f5d90b70df80",
   "metadata": {},
   "source": [
    "When doing maths with 2 Series, Pandas automatically aligns the data by index."
   ]
  },
  {
   "cell_type": "code",
   "execution_count": 34,
   "id": "61a5c7c3-5aad-4462-9f19-d0692cc81713",
   "metadata": {},
   "outputs": [
    {
     "data": {
      "text/plain": [
       "a    5\n",
       "b    4\n",
       "c    3\n",
       "d    2\n",
       "dtype: int64"
      ]
     },
     "execution_count": 34,
     "metadata": {},
     "output_type": "execute_result"
    }
   ],
   "source": [
    "obj1 = obj = pd.Series([1,1,1,1],index=[\"a\",\"b\",\"c\",\"d\"])\n",
    "obj2 = obj = pd.Series([1,2,3,4],index=[\"d\",\"c\",\"b\",\"a\"])\n",
    "obj1+obj2"
   ]
  },
  {
   "cell_type": "markdown",
   "id": "4832e5b0-ea5f-43a0-a479-ee9281f8261a",
   "metadata": {},
   "source": [
    "### Pandas DataFrame\n",
    "\n",
    "* A Pandas DataFrame is a rectangular table of data.\n",
    "* It contains an ordered collection of columns, each of which can be a different value type (numeric, string, boolean, etc.).\n",
    "* The DataFrame has both a row and column index.\n",
    "\n",
    " \n",
    "\n"
   ]
  },
  {
   "cell_type": "code",
   "execution_count": 35,
   "id": "ccd1d389-b512-4c4a-a1c7-568d9428809d",
   "metadata": {},
   "outputs": [
    {
     "data": {
      "text/html": [
       "<div>\n",
       "<style scoped>\n",
       "    .dataframe tbody tr th:only-of-type {\n",
       "        vertical-align: middle;\n",
       "    }\n",
       "\n",
       "    .dataframe tbody tr th {\n",
       "        vertical-align: top;\n",
       "    }\n",
       "\n",
       "    .dataframe thead th {\n",
       "        text-align: right;\n",
       "    }\n",
       "</style>\n",
       "<table border=\"1\" class=\"dataframe\">\n",
       "  <thead>\n",
       "    <tr style=\"text-align: right;\">\n",
       "      <th></th>\n",
       "      <th>name</th>\n",
       "      <th>grade</th>\n",
       "      <th>country</th>\n",
       "    </tr>\n",
       "  </thead>\n",
       "  <tbody>\n",
       "    <tr>\n",
       "      <th>0</th>\n",
       "      <td>Luke</td>\n",
       "      <td>82</td>\n",
       "      <td>Canada</td>\n",
       "    </tr>\n",
       "    <tr>\n",
       "      <th>1</th>\n",
       "      <td>Stephany</td>\n",
       "      <td>95</td>\n",
       "      <td>Germany</td>\n",
       "    </tr>\n",
       "    <tr>\n",
       "      <th>2</th>\n",
       "      <td>Peter</td>\n",
       "      <td>92</td>\n",
       "      <td>Germany</td>\n",
       "    </tr>\n",
       "    <tr>\n",
       "      <th>3</th>\n",
       "      <td>Antonio</td>\n",
       "      <td>85</td>\n",
       "      <td>Peru</td>\n",
       "    </tr>\n",
       "    <tr>\n",
       "      <th>4</th>\n",
       "      <td>Felix</td>\n",
       "      <td>83</td>\n",
       "      <td>India</td>\n",
       "    </tr>\n",
       "  </tbody>\n",
       "</table>\n",
       "</div>"
      ],
      "text/plain": [
       "       name  grade  country\n",
       "0      Luke     82   Canada\n",
       "1  Stephany     95  Germany\n",
       "2     Peter     92  Germany\n",
       "3   Antonio     85     Peru\n",
       "4     Felix     83    India"
      ]
     },
     "execution_count": 35,
     "metadata": {},
     "output_type": "execute_result"
    }
   ],
   "source": [
    "df = pd.DataFrame(myDict)\n",
    "df"
   ]
  },
  {
   "cell_type": "code",
   "execution_count": 38,
   "id": "5756f660-db7f-466a-b65a-3a382f7f8eb4",
   "metadata": {},
   "outputs": [
    {
     "data": {
      "text/plain": [
       "pandas.core.frame.DataFrame"
      ]
     },
     "execution_count": 38,
     "metadata": {},
     "output_type": "execute_result"
    }
   ],
   "source": [
    "type(df)"
   ]
  },
  {
   "cell_type": "markdown",
   "id": "05c9a347-1c7e-430a-81bc-a72bf43596d6",
   "metadata": {},
   "source": [
    "You can get the values of a particular column this way."
   ]
  },
  {
   "cell_type": "code",
   "execution_count": 36,
   "id": "f59c14bf-84f8-4340-b8c4-dd1b7f6a5c5d",
   "metadata": {},
   "outputs": [
    {
     "data": {
      "text/plain": [
       "0        Luke\n",
       "1    Stephany\n",
       "2       Peter\n",
       "3     Antonio\n",
       "4       Felix\n",
       "Name: name, dtype: object"
      ]
     },
     "execution_count": 36,
     "metadata": {},
     "output_type": "execute_result"
    }
   ],
   "source": [
    "df.name"
   ]
  },
  {
   "cell_type": "code",
   "execution_count": 37,
   "id": "e6841d30-2f71-4779-bee2-59ea4b4e5230",
   "metadata": {},
   "outputs": [
    {
     "data": {
      "text/plain": [
       "pandas.core.series.Series"
      ]
     },
     "execution_count": 37,
     "metadata": {},
     "output_type": "execute_result"
    }
   ],
   "source": [
    "type(df.name)"
   ]
  },
  {
   "cell_type": "markdown",
   "id": "4d199464-940d-429f-9739-d48c1433b638",
   "metadata": {},
   "source": [
    "You can also use `[]` to get a column. "
   ]
  },
  {
   "cell_type": "code",
   "execution_count": 40,
   "id": "d24acf2e-8f2a-4a80-93aa-d7a2a3eaf09f",
   "metadata": {},
   "outputs": [
    {
     "data": {
      "text/plain": [
       "0     Canada\n",
       "1    Germany\n",
       "2    Germany\n",
       "3       Peru\n",
       "4      India\n",
       "Name: country, dtype: object"
      ]
     },
     "execution_count": 40,
     "metadata": {},
     "output_type": "execute_result"
    }
   ],
   "source": [
    "df[\"country\"]"
   ]
  },
  {
   "cell_type": "markdown",
   "id": "e3adaa9c-fdd6-43b4-84ca-d012cb5a6f09",
   "metadata": {},
   "source": [
    "To get one row, you can use the `loc` attribute. It returns the row that has the requested index."
   ]
  },
  {
   "cell_type": "code",
   "execution_count": 45,
   "id": "31d6eeee-73b5-4097-acf0-f2d39faeea9b",
   "metadata": {},
   "outputs": [
    {
     "data": {
      "text/plain": [
       "name         Luke\n",
       "grade          82\n",
       "country    Canada\n",
       "Name: 0, dtype: object"
      ]
     },
     "execution_count": 45,
     "metadata": {},
     "output_type": "execute_result"
    }
   ],
   "source": [
    "df.loc[0]"
   ]
  },
  {
   "cell_type": "code",
   "execution_count": 46,
   "id": "d8351ac0-2475-4d01-b3bb-9b025b591a6b",
   "metadata": {},
   "outputs": [
    {
     "data": {
      "text/plain": [
       "pandas.core.series.Series"
      ]
     },
     "execution_count": 46,
     "metadata": {},
     "output_type": "execute_result"
    }
   ],
   "source": [
    "type(df.loc[0])"
   ]
  },
  {
   "cell_type": "code",
   "execution_count": null,
   "id": "726054c5-4187-4de2-9396-d64a9dc14f15",
   "metadata": {},
   "outputs": [],
   "source": [
    "We can add columns to a DataFrame."
   ]
  },
  {
   "cell_type": "code",
   "execution_count": 51,
   "id": "be18243c-44d4-48fe-ace9-81a779b4588e",
   "metadata": {},
   "outputs": [
    {
     "data": {
      "text/html": [
       "<div>\n",
       "<style scoped>\n",
       "    .dataframe tbody tr th:only-of-type {\n",
       "        vertical-align: middle;\n",
       "    }\n",
       "\n",
       "    .dataframe tbody tr th {\n",
       "        vertical-align: top;\n",
       "    }\n",
       "\n",
       "    .dataframe thead th {\n",
       "        text-align: right;\n",
       "    }\n",
       "</style>\n",
       "<table border=\"1\" class=\"dataframe\">\n",
       "  <thead>\n",
       "    <tr style=\"text-align: right;\">\n",
       "      <th></th>\n",
       "      <th>name</th>\n",
       "      <th>grade</th>\n",
       "      <th>country</th>\n",
       "      <th>age</th>\n",
       "    </tr>\n",
       "  </thead>\n",
       "  <tbody>\n",
       "    <tr>\n",
       "      <th>0</th>\n",
       "      <td>Luke</td>\n",
       "      <td>82</td>\n",
       "      <td>Canada</td>\n",
       "      <td>28.0</td>\n",
       "    </tr>\n",
       "    <tr>\n",
       "      <th>1</th>\n",
       "      <td>Stephany</td>\n",
       "      <td>95</td>\n",
       "      <td>Germany</td>\n",
       "      <td>35.0</td>\n",
       "    </tr>\n",
       "    <tr>\n",
       "      <th>2</th>\n",
       "      <td>Peter</td>\n",
       "      <td>92</td>\n",
       "      <td>Germany</td>\n",
       "      <td>46.0</td>\n",
       "    </tr>\n",
       "    <tr>\n",
       "      <th>3</th>\n",
       "      <td>Antonio</td>\n",
       "      <td>85</td>\n",
       "      <td>Peru</td>\n",
       "      <td>23.0</td>\n",
       "    </tr>\n",
       "    <tr>\n",
       "      <th>4</th>\n",
       "      <td>Felix</td>\n",
       "      <td>83</td>\n",
       "      <td>India</td>\n",
       "      <td>NaN</td>\n",
       "    </tr>\n",
       "  </tbody>\n",
       "</table>\n",
       "</div>"
      ],
      "text/plain": [
       "       name  grade  country   age\n",
       "0      Luke     82   Canada  28.0\n",
       "1  Stephany     95  Germany  35.0\n",
       "2     Peter     92  Germany  46.0\n",
       "3   Antonio     85     Peru  23.0\n",
       "4     Felix     83    India   NaN"
      ]
     },
     "execution_count": 51,
     "metadata": {},
     "output_type": "execute_result"
    }
   ],
   "source": [
    "df[\"age\"] = [28,35,46,23,np.nan]\n",
    "df"
   ]
  },
  {
   "cell_type": "markdown",
   "id": "c67a4a17-e13e-448b-a68f-0c86b4b1a85d",
   "metadata": {},
   "source": [
    "Pandas DataFrames are rather complex. You can manipulate them is many ways. \n",
    "\n",
    "We won't go into more details here. "
   ]
  },
  {
   "cell_type": "markdown",
   "id": "9ad7a566-c979-4511-8ff4-aa1a0c61bfa9",
   "metadata": {},
   "source": [
    "## Pandas exercise 1\n",
    "\n",
    "Load from csv"
   ]
  },
  {
   "cell_type": "code",
   "execution_count": null,
   "id": "7a8d902a-40cf-445f-9fac-dfa13a65909c",
   "metadata": {},
   "outputs": [],
   "source": []
  },
  {
   "cell_type": "markdown",
   "id": "ecbd0c2a-e432-45f5-86f9-81c36c9b14ef",
   "metadata": {},
   "source": [
    "## Matplotlib"
   ]
  },
  {
   "cell_type": "code",
   "execution_count": null,
   "id": "e9be80ca-58a1-4d10-8c74-848610ddff25",
   "metadata": {},
   "outputs": [],
   "source": []
  }
 ],
 "metadata": {
  "kernelspec": {
   "display_name": "Python 3 (ipykernel)",
   "language": "python",
   "name": "python3"
  },
  "language_info": {
   "codemirror_mode": {
    "name": "ipython",
    "version": 3
   },
   "file_extension": ".py",
   "mimetype": "text/x-python",
   "name": "python",
   "nbconvert_exporter": "python",
   "pygments_lexer": "ipython3",
   "version": "3.10.12"
  }
 },
 "nbformat": 4,
 "nbformat_minor": 5
}
