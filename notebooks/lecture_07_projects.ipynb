{
 "cells": [
  {
   "cell_type": "markdown",
   "metadata": {},
   "source": [
    "# Lecture 7, Data science in Neuroscience\n"
   ]
  },
  {
   "cell_type": "markdown",
   "metadata": {},
   "source": [
    "## Overview of 3 short data analysis projects\n",
    "\n",
    "We will have a meeting early in January during which you will present your project. Your presentation should last between 5 and 10 minutes. You can present using a Jupyter notebook or a traditional slide show with code and results (figures or videos).\n",
    "\n",
    "Each participant or team will need to submit its notebook to Kevin at allen\"@\"uni-heidelberg.de (without the quotes).\n",
    "\n",
    "You can work in teams of 2 if you want. \n",
    "\n",
    "You can pick one of the project listed below.\n",
    "\n",
    "If you would like to work on a different project, inform Kevin in advance to make sure the project is suitable."
   ]
  },
  {
   "cell_type": "markdown",
   "metadata": {},
   "source": [
    "***\n",
    "### Project 1, Modelling the tuning curve of a head-direction cell\n",
    "\n",
    "In Lecture 4, we learned how to use a training loop to find the line (slope and intercept) that best described the firing of a speed cell. \n",
    "\n",
    "In Project 1, you can use a similar technique to describe the firing rate of a head-direction cell. A head-direction cell fire action potentials when the head of an animal points in a specific direction (e.g., North). The head-direction data are in radians and range from -pi to pi. \n",
    "\n",
    "The simulated data is in `../data/hd_cell.npy`. The first column is the heading and the second the firing rate."
   ]
  },
  {
   "cell_type": "code",
   "execution_count": 3,
   "metadata": {},
   "outputs": [
    {
     "data": {
      "image/png": "[encoded data removed]",
      "text/plain": [
       "<Figure size 432x288 with 1 Axes>"
      ]
     },
     "metadata": {
      "needs_background": "light"
     },
     "output_type": "display_data"
    }
   ],
   "source": [
    "import numpy as np\n",
    "import matplotlib.pyplot as plt\n",
    "\n",
    "fn=\"../data/hd_cell.npy\"\n",
    "hd_cell = np.load(fn)\n",
    "\n",
    "heading = hd_cell[:,0]\n",
    "rate = hd_cell[:,1]\n",
    "\n",
    "plt.scatter(hd_cell[:,0],hd_cell[:,1])\n",
    "plt.ylabel(\"Firing rate (Hz)\")\n",
    "plt.xlabel(\"Heading (radian)\")\n",
    "plt.show()"
   ]
  },
  {
   "cell_type": "markdown",
   "metadata": {},
   "source": [
    "You will work with a model that uses head-direction to predict the firing rate of the neuron.\n",
    "\n",
    "The formula to model this neuron is\n",
    "\n",
    "$\\hat{y} = w_{0} * (cos(x - w_{1})+1)/2$, where\n",
    "\n",
    "* $\\hat{y}$ is the prediction of the model\n",
    "* $w$ is a vector with 2 parameters that we need to estimate\n",
    "* $w_0$ is the gain\n",
    "* $w_1$ is the preferred heading of the neuron\n",
    "* $x$ is the animal heading\n",
    "\n",
    "Your task is to find the parameters $W$ that best fit the data. In other words, what values of gain $w_0$ and preferred direction $w_1$ lead to the best match between the firing rate prediction and the observed firing rate. \n",
    "\n",
    "For training your model, you can use MSE as a loss function.\n",
    "\n",
    "To find the best parameters, you could use either the `scipy.optimize.minimize()` function or use `PyTorch`. There is an example of how you could use these to find the best parameters at the end of the `lecture_04.ipynb` file.\n",
    "\n",
    "Once you have the best parameters, create a single plot containing the observed data (like above) and the predictions of your trained model."
   ]
  },
  {
   "cell_type": "markdown",
   "metadata": {},
   "source": [
    "***\n",
    "### Project 2, Deeplabcut\n",
    "\n",
    "In Project 2, you will use deeplabcut to track the position of one or several objects (or body parts) in a video. You can use data from your own videos (more fun) or use one of the videos in the `deeplabcut/project_videos` directory of the course repository. \n",
    "\n",
    "You should train your network using approximagely 100-300 frames. This should be enough to get you relatively good tracking.\n",
    "\n",
    "If you are tracking a mouse, you could track 4 body parts:\n",
    "\n",
    "* nose (snout)\n",
    "* earL\n",
    "* earR\n",
    "* tail\n",
    "\n",
    "The list of body parts and the number of frames to pick are set in the `config.yaml` file of your project.\n",
    "\n",
    "You can use Google Colab to train your network on Google's GPUs.\n",
    "\n",
    "Once your network is trained, you should evaluate you network on the train and test datasets and report the error for both datasets during your presentation.\n",
    "\n",
    "You can also label your video (put markers on the tracked objects) and show us the label video during your presentation. \n",
    "\n",
    "For your presentation, briefly describe how you performed these steps (project creation, labelling frames, training network, network evaluation (what was the error on training and test sets). Show us your labelled video to get an idea of how good or bad your network is working. \n",
    "\n",
    "Is the tracking good for all types of behavior or are there conditions in which the tracking should be improved?"
   ]
  },
  {
   "cell_type": "markdown",
   "metadata": {},
   "source": [
    "***\n",
    "### Project 3, Head-direction cell\n",
    "\n",
    "In lecture 6, we generated the firing rate map of a grid cell. In project 3, your task is to apply similar techniques to calculate the tuning curve of a head-direction cell. The tuning curve is the firing rate of the neuron as a function of the head direction of the animal. \n",
    "\n",
    "You can find the raw data in the file `../data/headDirectionCellData.pickle`. The structure of the data is similar to that of the grid cell data.\n",
    "\n",
    "The position data that we used in Lecture 6 were 2-dimensional (x and y). In this project, the head-direction data are in 1D. \n",
    "\n",
    "The head-direction data are in radians and range from -pi to pi. This head-direction data are circular data, meaning that -pi is also pi. You will need to deal with this when calculating the head-direction associated with each spike using interpolation. The trick is to calculate the cos(x) and sin(x) for each head-direction value, perform the interpolation using these values, and then tranforming them back to head-direction. \n",
    "\n",
    "You will need to perform the following steps\n",
    "\n",
    "1. Create a 1D occupancy histogram containing the time in seconds as a function of head direction.\n",
    "2. Find the head-direction of the animal associated with each spike. You will need to decompose HD into cos(HD) and sin(HD), do the interpolation, and transform the data back into head-direction.\n",
    "3. Create a 1D spike count histogram containing the number of spikes as a function of head direction.\n",
    "4. Calculate the firing rate as a function of head direction.\n",
    "5. Try to apply smoothing to your firing rate histogram. You can use the `scipy.ndimage.gaussian_filter1d()` function. Pay attention to the `mode` parameter of the gaussian_filter1d() function. What is the best `mode` given that you are using circular data (head-direction)?"
   ]
  },
  {
   "cell_type": "code",
   "execution_count": null,
   "metadata": {},
   "outputs": [],
   "source": []
  }
 ],
 "metadata": {
  "kernelspec": {
   "display_name": "Python 3",
   "language": "python",
   "name": "python3"
  },
  "language_info": {
   "codemirror_mode": {
    "name": "ipython",
    "version": 3
   },
   "file_extension": ".py",
   "mimetype": "text/x-python",
   "name": "python",
   "nbconvert_exporter": "python",
   "pygments_lexer": "ipython3",
   "version": "3.8.5"
  }
 },
 "nbformat": 4,
 "nbformat_minor": 4
}
