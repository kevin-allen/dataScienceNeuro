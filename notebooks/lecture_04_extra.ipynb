{
 "cells": [
  {
   "cell_type": "markdown",
   "metadata": {},
   "source": [
    "Speed calculation"
   ]
  },
  {
   "cell_type": "code",
   "execution_count": 16,
   "metadata": {},
   "outputs": [],
   "source": [
    "xd = np.diff(x,append=np.nan)\n",
    "yd = np.diff(y,append=np.nan)\n",
    "td = np.diff(time,append=np.nan)"
   ]
  },
  {
   "cell_type": "code",
   "execution_count": 17,
   "metadata": {},
   "outputs": [],
   "source": [
    "D = np.sqrt(xd**2 + yd**2) # calculate the distance run at each position tracked"
   ]
  },
  {
   "cell_type": "code",
   "execution_count": 18,
   "metadata": {},
   "outputs": [],
   "source": [
    "speed = D/td # get speed from distance"
   ]
  },
  {
   "cell_type": "markdown",
   "metadata": {},
   "source": [
    "model formula"
   ]
  },
  {
   "cell_type": "code",
   "execution_count": null,
   "metadata": {},
   "outputs": [],
   "source": [
    "rate = np.maximum(0,speed*w + b + e)\n",
    "plt.scatter(speed,rate)\n",
    "plt.xlabel(\"Speed (cm/sec)\")\n",
    "plt.ylabel(\"Rate (Hz)\")"
   ]
  },
  {
   "cell_type": "code",
   "execution_count": 104,
   "metadata": {},
   "outputs": [
    {
     "data": {
      "text/plain": [
       "Text(0, 0.5, 'Rate (Hz)')"
      ]
     },
     "execution_count": 104,
     "metadata": {},
     "output_type": "execute_result"
    },
    {
     "data": {
      "image/png": "[encoded data removed]",
      "text/plain": [
       "<Figure size 432x288 with 1 Axes>"
      ]
     },
     "metadata": {
      "needs_background": "light"
     },
     "output_type": "display_data"
    }
   ],
   "source": []
  },
  {
   "cell_type": "markdown",
   "metadata": {},
   "source": [
    "Untrain MSE"
   ]
  },
  {
   "cell_type": "code",
   "execution_count": 1,
   "metadata": {},
   "outputs": [
    {
     "ename": "NameError",
     "evalue": "name 'np' is not defined",
     "output_type": "error",
     "traceback": [
      "\u001b[0;31m---------------------------------------------------------------------------\u001b[0m",
      "\u001b[0;31mNameError\u001b[0m                                 Traceback (most recent call last)",
      "\u001b[0;32m<ipython-input-1-725000f48e72>\u001b[0m in \u001b[0;36m<module>\u001b[0;34m\u001b[0m\n\u001b[0;32m----> 1\u001b[0;31m \u001b[0mmse\u001b[0m \u001b[0;34m=\u001b[0m \u001b[0mnp\u001b[0m\u001b[0;34m.\u001b[0m\u001b[0mmean\u001b[0m\u001b[0;34m(\u001b[0m\u001b[0;34m(\u001b[0m\u001b[0mrate\u001b[0m\u001b[0;34m-\u001b[0m\u001b[0myhat\u001b[0m\u001b[0;34m)\u001b[0m\u001b[0;34m**\u001b[0m\u001b[0;36m2\u001b[0m\u001b[0;34m)\u001b[0m\u001b[0;34m\u001b[0m\u001b[0;34m\u001b[0m\u001b[0m\n\u001b[0m\u001b[1;32m      2\u001b[0m \u001b[0;31m# alternatively\u001b[0m\u001b[0;34m\u001b[0m\u001b[0;34m\u001b[0m\u001b[0;34m\u001b[0m\u001b[0m\n\u001b[1;32m      3\u001b[0m \u001b[0mmse\u001b[0m \u001b[0;34m=\u001b[0m \u001b[0mnp\u001b[0m\u001b[0;34m.\u001b[0m\u001b[0mmean\u001b[0m\u001b[0;34m(\u001b[0m\u001b[0;34m(\u001b[0m\u001b[0mrate\u001b[0m\u001b[0;34m-\u001b[0m\u001b[0mX\u001b[0m\u001b[0;34m@\u001b[0m\u001b[0mtheta\u001b[0m\u001b[0;34m)\u001b[0m\u001b[0;34m**\u001b[0m\u001b[0;36m2\u001b[0m\u001b[0;34m)\u001b[0m\u001b[0;34m\u001b[0m\u001b[0;34m\u001b[0m\u001b[0m\n\u001b[1;32m      4\u001b[0m \u001b[0mprint\u001b[0m\u001b[0;34m(\u001b[0m\u001b[0;34m\"MSE:\"\u001b[0m\u001b[0;34m,\u001b[0m\u001b[0mmse\u001b[0m\u001b[0;34m)\u001b[0m\u001b[0;34m\u001b[0m\u001b[0;34m\u001b[0m\u001b[0m\n",
      "\u001b[0;31mNameError\u001b[0m: name 'np' is not defined"
     ]
    }
   ],
   "source": [
    "mse = np.mean((rate-yhat)**2)\n",
    "# alternatively\n",
    "mse = np.mean((rate-theta@x)**2)\n",
    "print(\"MSE:\",mse)\n",
    "\n",
    "mse = np.mean((rate-yhat)**2)\n",
    "mse"
   ]
  },
  {
   "cell_type": "markdown",
   "metadata": {},
   "source": [
    "Trained model"
   ]
  },
  {
   "cell_type": "code",
   "execution_count": null,
   "metadata": {},
   "outputs": [],
   "source": [
    "yhat = X@theta # predict the firing rate of the neuron using the optimize parameters\n",
    "\n",
    "plt.scatter(speed,rate, label=\"Neuron\")\n",
    "plt.scatter(speed,yhat,label=\"Model\")\n",
    "plt.xlabel(\"Speed (cm/sec)\")\n",
    "plt.ylabel(\"Rate (Hz)\")\n",
    "plt.legend()\n",
    "plt.show()"
   ]
  },
  {
   "cell_type": "code",
   "execution_count": null,
   "metadata": {},
   "outputs": [],
   "source": [
    "yhat = X@theta # predict the firing rate of the neuron using the optimize parameters\n",
    "\n",
    "fig, ax = plt.subplots(1,3,figsize=(14,4))\n",
    "\n",
    "ax[0].scatter(speed,rate,label=\"Data\")\n",
    "ax[0].scatter(speed,untrained_yhat,label=\"Untrained Model\")\n",
    "ax[0].set_xlabel(\"Running speed (cm/sec)\")\n",
    "ax[0].set_ylabel(\"Firing rate (Hz)\")\n",
    "ax[0].spines['right'].set_visible(False)\n",
    "ax[0].spines['top'].set_visible(False)\n",
    "ax[0].legend()\n",
    "\n",
    "ax[1].plot(mse)\n",
    "ax[1].set_ylabel(\"Mean squared error (MSE)\")\n",
    "ax[1].set_xlabel(\"Iterations\")\n",
    "ax[1].spines['right'].set_visible(False)\n",
    "ax[1].spines['top'].set_visible(False)\n",
    "\n",
    "\n",
    "ax[2].scatter(speed,rate,label=\"Data\")\n",
    "ax[2].scatter(speed,yhat,label=\"Trained Model\")\n",
    "ax[2].set_xlabel(\"Running speed (cm/sec)\")\n",
    "ax[2].set_ylabel(\"Firing rate (Hz)\")\n",
    "ax[2].spines['right'].set_visible(False)\n",
    "ax[2].spines['top'].set_visible(False)\n",
    "ax[2].legend()\n",
    "\n",
    "#fn = \"../images/learning.png\"\n",
    "#plt.savefig(fn)\n"
   ]
  },
  {
   "cell_type": "markdown",
   "metadata": {},
   "source": [
    "# HD cell training"
   ]
  },
  {
   "cell_type": "code",
   "execution_count": 1,
   "metadata": {},
   "outputs": [
    {
     "ename": "NameError",
     "evalue": "name 'heading' is not defined",
     "output_type": "error",
     "traceback": [
      "\u001b[0;31m---------------------------------------------------------------------------\u001b[0m",
      "\u001b[0;31mNameError\u001b[0m                                 Traceback (most recent call last)",
      "\u001b[0;32m<ipython-input-1-2de0b8dd9377>\u001b[0m in \u001b[0;36m<module>\u001b[0;34m\u001b[0m\n\u001b[1;32m     14\u001b[0m \u001b[0mx0\u001b[0m \u001b[0;34m=\u001b[0m \u001b[0mnp\u001b[0m\u001b[0;34m.\u001b[0m\u001b[0marray\u001b[0m\u001b[0;34m(\u001b[0m\u001b[0;34m[\u001b[0m\u001b[0;36m10\u001b[0m\u001b[0;34m,\u001b[0m \u001b[0;36m1\u001b[0m\u001b[0;34m]\u001b[0m\u001b[0;34m)\u001b[0m \u001b[0;31m# parameters to optimize\u001b[0m\u001b[0;34m\u001b[0m\u001b[0;34m\u001b[0m\u001b[0m\n\u001b[1;32m     15\u001b[0m \u001b[0;34m\u001b[0m\u001b[0m\n\u001b[0;32m---> 16\u001b[0;31m \u001b[0mresults\u001b[0m \u001b[0;34m=\u001b[0m \u001b[0mminimize\u001b[0m\u001b[0;34m(\u001b[0m\u001b[0mobjective_function\u001b[0m\u001b[0;34m,\u001b[0m\u001b[0mx0\u001b[0m\u001b[0;34m,\u001b[0m\u001b[0margs\u001b[0m\u001b[0;34m=\u001b[0m\u001b[0;34m(\u001b[0m\u001b[0mheading\u001b[0m\u001b[0;34m,\u001b[0m\u001b[0mrate\u001b[0m\u001b[0;34m)\u001b[0m\u001b[0;34m)\u001b[0m\u001b[0;34m\u001b[0m\u001b[0;34m\u001b[0m\u001b[0m\n\u001b[0m\u001b[1;32m     17\u001b[0m \u001b[0mprint\u001b[0m\u001b[0;34m(\u001b[0m\u001b[0mresults\u001b[0m\u001b[0;34m)\u001b[0m\u001b[0;34m\u001b[0m\u001b[0;34m\u001b[0m\u001b[0m\n",
      "\u001b[0;31mNameError\u001b[0m: name 'heading' is not defined"
     ]
    }
   ],
   "source": [
    "import numpy as np\n",
    "from scipy.optimize import minimize\n",
    "\n",
    "# optimize() will try to minimize the value returned by objective_function()\n",
    "# in our example, we can return the mean squared error of our model\n",
    "def objective_function(x0,X,rate): \n",
    "    gain=x0[0]\n",
    "    pref=x0[1]\n",
    "    yhat = gain*(np.cos(X-pref)+1)/2 \n",
    "    \n",
    "    mse = np.mean((rate-yhat)**2)\n",
    "    return mse\n",
    "\n",
    "x0 = np.array([10, 1]) # parameters to optimize\n",
    "             \n",
    "results = minimize(objective_function,x0,args=(heading,rate))\n",
    "print(results)"
   ]
  },
  {
   "cell_type": "code",
   "execution_count": null,
   "metadata": {},
   "outputs": [],
   "source": []
  },
  {
   "cell_type": "code",
   "execution_count": 330,
   "metadata": {},
   "outputs": [
    {
     "name": "stdout",
     "output_type": "stream",
     "text": [
      "      fun: 3.4128918524449685\n",
      " hess_inv: array([[1.33740177, 0.00409226],\n",
      "       [0.00409226, 0.04146408]])\n",
      "      jac: array([-2.98023224e-08, -2.98023224e-08])\n",
      "  message: 'Optimization terminated successfully.'\n",
      "     nfev: 21\n",
      "      nit: 6\n",
      "     njev: 7\n",
      "   status: 0\n",
      "  success: True\n",
      "        x: array([10.03008571,  0.24848209])\n"
     ]
    }
   ],
   "source": [
    "import numpy as np\n",
    "from scipy.optimize import minimize\n",
    "\n",
    "# optimize() will try to minimize the value returned by objective_function()\n",
    "# in our example, we can return the mean squared error of our model\n",
    "def objective_function(x0,X,rate): \n",
    "    gain=x0[0]\n",
    "    pref=x0[1]\n",
    "    yhat = gain*(np.cos(X-pref)+1)/2 \n",
    "    \n",
    "    mse = np.mean((rate-yhat)**2)\n",
    "    return mse\n",
    "\n",
    "x0 = np.array([10, 1]) # parameters to optimize\n",
    "             \n",
    "results = minimize(objective_function,x0,args=(heading,rate))\n",
    "print(results)"
   ]
  },
  {
   "cell_type": "code",
   "execution_count": 331,
   "metadata": {},
   "outputs": [
    {
     "name": "stdout",
     "output_type": "stream",
     "text": [
      "Initial delta: tensor([5., 2.], requires_grad=True)\n",
      "gradients:  tensor([-0.9342, 11.3924])\n"
     ]
    },
    {
     "data": {
      "text/plain": [
       "tensor([0., 0.])"
      ]
     },
     "execution_count": 331,
     "metadata": {},
     "output_type": "execute_result"
    }
   ],
   "source": [
    "import torch\n",
    "\n",
    "# model making prediction\n",
    "def model(X,delta):\n",
    "    \"\"\"\n",
    "    X: head direction of the neuron as a 1D array (tensor)\n",
    "    delta: 2 parameters, as a 1D array (tensor)\n",
    "    \"\"\"\n",
    "    return delta[0] * (torch.cos(X-delta[1])+1)/2\n",
    "\n",
    "\n",
    "# loss function returning MSE\n",
    "def loss_fn(y,yhat):\n",
    "    \"\"\"\n",
    "    Loss function, mean squared error\n",
    "    \n",
    "    y: observed values\n",
    "    yhat: model predictions\n",
    "    \"\"\"\n",
    "    squared_diff = (y-yhat)**2\n",
    "    return squared_diff.mean()\n",
    "\n",
    "# model parameters stored as a pytorch tensor, this makes the calculation of the gradients possible\n",
    "delta = torch.tensor([5.0,2.0],requires_grad =True)\n",
    "print(\"Initial delta:\",delta)\n",
    "# we transform our data from numpy array to pytorch tensors, no need for gradients\n",
    "\n",
    "# xTensor is the heading, as a torch tensor\n",
    "XTensor = torch.tensor(heading,dtype=torch.float32)\n",
    "# rateTensor is the rate, as a torch tensor\n",
    "rateTensor= torch.tensor(rate,dtype=torch.float32)\n",
    "\n",
    "\n",
    "# let's run the model once and calculating the loss\n",
    "yhat = model(XTensor,delta)\n",
    "loss = loss_fn(yhat,rateTensor)\n",
    "loss.backward()\n",
    "\n",
    "print(\"gradients: \",delta.grad)\n",
    "\n",
    "# we need to zero the gradients otherwise they accumulate\n",
    "delta.grad.zero_()\n"
   ]
  },
  {
   "cell_type": "code",
   "execution_count": 332,
   "metadata": {},
   "outputs": [],
   "source": [
    "## training loop that will modify our parameters to minimize the loss function (MSE)\n",
    "def training_loop(n_epochs, learning_rate, delta, XTensor,rateTensor):\n",
    "    for epoch in range (n_epochs):\n",
    "\n",
    "        if delta.grad is not None:\n",
    "            delta.grad.zero_() \n",
    "        \n",
    "        yhat = model(XTensor,delta)\n",
    "        loss = loss_fn(yhat,rateTensor)\n",
    "        loss.backward()\n",
    "        \n",
    "        with torch.no_grad():\n",
    "            delta -= learning_rate * delta.grad\n",
    "        \n",
    "        if epoch % 1000 ==0:\n",
    "            print(\"Epoch: {}, Loss: {}\".format(epoch,loss))\n",
    "    return delta"
   ]
  },
  {
   "cell_type": "code",
   "execution_count": 333,
   "metadata": {},
   "outputs": [
    {
     "name": "stdout",
     "output_type": "stream",
     "text": [
      "Epoch: 0, Loss: 26.955976486206055\n",
      "Epoch: 1000, Loss: 5.691333770751953\n",
      "Epoch: 2000, Loss: 3.923570394515991\n",
      "Epoch: 3000, Loss: 3.5273642539978027\n",
      "Epoch: 4000, Loss: 3.4385528564453125\n",
      "Epoch: 5000, Loss: 3.4186439514160156\n",
      "Epoch: 6000, Loss: 3.4141814708709717\n",
      "Epoch: 7000, Loss: 3.4131813049316406\n",
      "Epoch: 8000, Loss: 3.412956714630127\n",
      "Epoch: 9000, Loss: 3.4129068851470947\n",
      "tensor([10.0271,  0.2485], requires_grad=True)\n"
     ]
    }
   ],
   "source": [
    "opt_delta = training_loop(n_epochs = 10000,\n",
    "                          learning_rate = 0.001,\n",
    "                          delta = torch.tensor([5.0,2.0],requires_grad =True),\n",
    "                          XTensor = XTensor,\n",
    "                          rateTensor=rateTensor)\n",
    "print(opt_delta)"
   ]
  },
  {
   "cell_type": "code",
   "execution_count": null,
   "metadata": {},
   "outputs": [],
   "source": []
  }
 ],
 "metadata": {
  "kernelspec": {
   "display_name": "Python 3 (ipykernel)",
   "language": "python",
   "name": "python3"
  },
  "language_info": {
   "codemirror_mode": {
    "name": "ipython",
    "version": 3
   },
   "file_extension": ".py",
   "mimetype": "text/x-python",
   "name": "python",
   "nbconvert_exporter": "python",
   "pygments_lexer": "ipython3",
   "version": "3.9.13"
  }
 },
 "nbformat": 4,
 "nbformat_minor": 4
}
