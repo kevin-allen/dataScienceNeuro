{
 "cells": [
  {
   "cell_type": "markdown",
   "id": "d9efad43-9376-4462-8230-65a9257e203f",
   "metadata": {},
   "source": [
    "# Week 5, Data science in Neuroscience\n",
    "\n",
    "\n",
    "## Plan for today\n",
    "\n",
    "1. Introduction to pytorch\n",
    "2. Tensors\n",
    "3. Training loop in pytorch\n",
    "4. A first neural network\n",
    "5. A convolutional network to process images\n",
    "\n",
    "***\n"
   ]
  },
  {
   "cell_type": "markdown",
   "id": "77c602b6-ef2c-47d4-bfc0-edc6dfc8c6c9",
   "metadata": {},
   "source": [
    "# Pytorch\n",
    "\n",
    "Pytorch is a Python library that facilitates building deep learning projects\n",
    "\n",
    "* Store data into Tensors (multidimensional arrays that are similar to NumPy arrays)\n",
    "* Allows fast calculations on dedicated hardware (GPUs)\n",
    "* Ability of tensors to keep track of the operations performed on them and to analytically compute derivatives\n",
    "* Classes to deal with datasets\n",
    "* Classes to simplify building deep neural networks"
   ]
  },
  {
   "cell_type": "markdown",
   "id": "9451fd19-97ab-4f96-bfa5-fdd3d4f06704",
   "metadata": {},
   "source": [
    "# Tensors\n",
    "\n",
    "pytorch tensors are very similar to NumPy arrays. They have 2 main advantages\n",
    "\n",
    "* Used to do calculations on a GPU\n",
    "* Can keep track of the graph of computations that created them (used to calculate derivatives) "
   ]
  },
  {
   "cell_type": "code",
   "execution_count": 66,
   "id": "75edf9c5-b4ea-404b-850c-a742d0c4dfbe",
   "metadata": {},
   "outputs": [],
   "source": [
    "import torch\n",
    "import numpy as np\n",
    "import matplotlib.pyplot as plt"
   ]
  },
  {
   "cell_type": "markdown",
   "id": "5d73e5f6-30db-426b-994e-25668f46409b",
   "metadata": {},
   "source": [
    "Creating tensors"
   ]
  },
  {
   "cell_type": "code",
   "execution_count": 13,
   "id": "84582524-415e-4085-b368-8affacdce948",
   "metadata": {},
   "outputs": [
    {
     "data": {
      "text/plain": [
       "tensor([1., 1., 1., 1., 1.])"
      ]
     },
     "execution_count": 13,
     "metadata": {},
     "output_type": "execute_result"
    }
   ],
   "source": [
    "torch.ones(5)"
   ]
  },
  {
   "cell_type": "code",
   "execution_count": 15,
   "id": "0514f17f-f61b-4a60-b625-7e8a31a3ac92",
   "metadata": {},
   "outputs": [
    {
     "data": {
      "text/plain": [
       "tensor([[0., 0., 0., 0.],\n",
       "        [0., 0., 0., 0.],\n",
       "        [0., 0., 0., 0.]])"
      ]
     },
     "execution_count": 15,
     "metadata": {},
     "output_type": "execute_result"
    }
   ],
   "source": [
    "torch.zeros(3,4)"
   ]
  },
  {
   "cell_type": "code",
   "execution_count": 38,
   "id": "c838a5a5-425c-4161-99d5-cc507ee10953",
   "metadata": {},
   "outputs": [
    {
     "data": {
      "text/plain": [
       "tensor([[1., 2.],\n",
       "        [3., 4.]])"
      ]
     },
     "execution_count": 38,
     "metadata": {},
     "output_type": "execute_result"
    }
   ],
   "source": [
    "a = torch.tensor([[1.0,2],[3,4]])\n",
    "a"
   ]
  },
  {
   "cell_type": "markdown",
   "id": "d461f2c6-7e17-4048-8011-2f9a34c78f0d",
   "metadata": {},
   "source": [
    "You can interrogate a tensor just like a NumPy array."
   ]
  },
  {
   "cell_type": "code",
   "execution_count": 39,
   "id": "3c75c040-cac0-418a-a5f4-c58520151d16",
   "metadata": {},
   "outputs": [
    {
     "name": "stdout",
     "output_type": "stream",
     "text": [
      "shape: torch.Size([2, 2])\n",
      "ndim: 2\n",
      "dtype: torch.float32\n"
     ]
    }
   ],
   "source": [
    "print(\"shape:\", a.shape)\n",
    "print(\"ndim:\", a.ndim)\n",
    "print(\"dtype:\", a.dtype)"
   ]
  },
  {
   "cell_type": "markdown",
   "id": "448f7b47-f6ad-48d9-acfa-bf434be1d029",
   "metadata": {},
   "source": [
    "Many of the mathematical functions of NumPy have a torch equivalent."
   ]
  },
  {
   "cell_type": "code",
   "execution_count": 40,
   "id": "8c8a2f41-d83c-4221-962f-240102ccf101",
   "metadata": {},
   "outputs": [
    {
     "data": {
      "text/plain": [
       "tensor([[0.5896, 0.1458, 0.3451, 0.4903, 0.2674, 0.0432],\n",
       "        [0.1553, 0.5044, 0.5087, 0.9992, 0.8127, 0.8832],\n",
       "        [0.6955, 0.3857, 0.8617, 0.2607, 0.4688, 0.9031],\n",
       "        [0.4228, 0.7131, 0.2182, 0.1280, 0.3474, 0.5319]])"
      ]
     },
     "execution_count": 40,
     "metadata": {},
     "output_type": "execute_result"
    }
   ],
   "source": [
    "b = torch.rand(24).reshape(4,6)\n",
    "b"
   ]
  },
  {
   "cell_type": "code",
   "execution_count": 32,
   "id": "c4a6c72d-57df-4a57-bada-5edadb3c8a55",
   "metadata": {},
   "outputs": [
    {
     "data": {
      "text/plain": [
       "torch.Size([4, 6])"
      ]
     },
     "execution_count": 32,
     "metadata": {},
     "output_type": "execute_result"
    }
   ],
   "source": [
    "b.shape"
   ]
  },
  {
   "cell_type": "code",
   "execution_count": 33,
   "id": "69ef7381-d380-4b6d-b771-c5b21c3149c1",
   "metadata": {},
   "outputs": [
    {
     "data": {
      "text/plain": [
       "tensor(0.5860)"
      ]
     },
     "execution_count": 33,
     "metadata": {},
     "output_type": "execute_result"
    }
   ],
   "source": [
    "b.mean()"
   ]
  },
  {
   "cell_type": "code",
   "execution_count": 34,
   "id": "0d1d291f-95c4-4193-890e-478ba80d4785",
   "metadata": {},
   "outputs": [
    {
     "data": {
      "text/plain": [
       "tensor([0.4929, 0.6144, 0.6683, 0.3567, 0.6856, 0.6980])"
      ]
     },
     "execution_count": 34,
     "metadata": {},
     "output_type": "execute_result"
    }
   ],
   "source": [
    "b.mean(axis=0)"
   ]
  },
  {
   "cell_type": "markdown",
   "id": "8390d942-335d-444c-9030-49d948a22c0c",
   "metadata": {},
   "source": [
    "We can add an extra dimension with a size of 1 using unsqueeze()."
   ]
  },
  {
   "cell_type": "code",
   "execution_count": 35,
   "id": "47214dcb-f60b-44d2-af7d-d9b6aa2110e2",
   "metadata": {},
   "outputs": [
    {
     "data": {
      "text/plain": [
       "torch.Size([4, 6])"
      ]
     },
     "execution_count": 35,
     "metadata": {},
     "output_type": "execute_result"
    }
   ],
   "source": [
    "b.shape"
   ]
  },
  {
   "cell_type": "code",
   "execution_count": 37,
   "id": "40e72eba-6624-4ef2-872b-64a0da157a59",
   "metadata": {},
   "outputs": [
    {
     "data": {
      "text/plain": [
       "torch.Size([1, 4, 6])"
      ]
     },
     "execution_count": 37,
     "metadata": {},
     "output_type": "execute_result"
    }
   ],
   "source": [
    "b.unsqueeze(0).shape"
   ]
  },
  {
   "cell_type": "markdown",
   "id": "39a0a679-bbed-48f5-83ff-ea75155d809f",
   "metadata": {},
   "source": [
    "We can do broadcasting, just like with NumPy arrays.\n",
    "\n",
    "```\n",
    "When operating on two arrays, pytorch compares their shapes element-wise. It starts with the trailing (i.e. rightmost) dimensions and works its way left. Two dimensions are compatible when\n",
    "​\n",
    "* they are equal, or\n",
    "* one of them is 1\n",
    "```\n"
   ]
  },
  {
   "cell_type": "code",
   "execution_count": 48,
   "id": "44e6208a-2c00-46f2-978b-6798f43d87b0",
   "metadata": {},
   "outputs": [
    {
     "data": {
      "text/plain": [
       "torch.Size([4, 6])"
      ]
     },
     "execution_count": 48,
     "metadata": {},
     "output_type": "execute_result"
    }
   ],
   "source": [
    "b.shape"
   ]
  },
  {
   "cell_type": "code",
   "execution_count": 49,
   "id": "e0a826bd-eeea-45cb-8336-502fdc9eabe4",
   "metadata": {},
   "outputs": [
    {
     "data": {
      "text/plain": [
       "torch.Size([4])"
      ]
     },
     "execution_count": 49,
     "metadata": {},
     "output_type": "execute_result"
    }
   ],
   "source": [
    "a = torch.ones(4)\n",
    "a.shape"
   ]
  },
  {
   "cell_type": "code",
   "execution_count": 50,
   "id": "492c3216-1131-45c7-9b28-ca54774aba73",
   "metadata": {},
   "outputs": [
    {
     "ename": "RuntimeError",
     "evalue": "The size of tensor a (6) must match the size of tensor b (4) at non-singleton dimension 1",
     "output_type": "error",
     "traceback": [
      "\u001b[0;31m---------------------------------------------------------------------------\u001b[0m",
      "\u001b[0;31mRuntimeError\u001b[0m                              Traceback (most recent call last)",
      "Cell \u001b[0;32mIn[50], line 1\u001b[0m\n\u001b[0;32m----> 1\u001b[0m \u001b[43mb\u001b[49m\u001b[38;5;241;43m+\u001b[39;49m\u001b[43ma\u001b[49m\n",
      "\u001b[0;31mRuntimeError\u001b[0m: The size of tensor a (6) must match the size of tensor b (4) at non-singleton dimension 1"
     ]
    }
   ],
   "source": [
    "b+a"
   ]
  },
  {
   "cell_type": "code",
   "execution_count": 51,
   "id": "78369733-b85f-4e21-b025-0d5edb277554",
   "metadata": {},
   "outputs": [
    {
     "data": {
      "text/plain": [
       "torch.Size([4, 1])"
      ]
     },
     "execution_count": 51,
     "metadata": {},
     "output_type": "execute_result"
    }
   ],
   "source": [
    "A = a.unsqueeze(1)\n",
    "A.shape"
   ]
  },
  {
   "cell_type": "code",
   "execution_count": 52,
   "id": "ad91fc62-727c-4004-a019-154423b33b4a",
   "metadata": {},
   "outputs": [
    {
     "data": {
      "text/plain": [
       "tensor([[1.5896, 1.1458, 1.3451, 1.4903, 1.2674, 1.0432],\n",
       "        [1.1553, 1.5044, 1.5087, 1.9992, 1.8127, 1.8832],\n",
       "        [1.6955, 1.3857, 1.8617, 1.2607, 1.4688, 1.9031],\n",
       "        [1.4228, 1.7131, 1.2182, 1.1280, 1.3474, 1.5319]])"
      ]
     },
     "execution_count": 52,
     "metadata": {},
     "output_type": "execute_result"
    }
   ],
   "source": [
    "b+A"
   ]
  },
  {
   "cell_type": "markdown",
   "id": "9e5d5cbe-d3e2-43c6-b502-7ae1d0c3879f",
   "metadata": {},
   "source": [
    "### Moving tensors to the GPU"
   ]
  },
  {
   "cell_type": "code",
   "execution_count": 53,
   "id": "894ffad4-2610-48bd-927f-ad765580c743",
   "metadata": {},
   "outputs": [
    {
     "data": {
      "text/plain": [
       "True"
      ]
     },
     "execution_count": 53,
     "metadata": {},
     "output_type": "execute_result"
    }
   ],
   "source": [
    "torch.cuda.is_available()"
   ]
  },
  {
   "cell_type": "code",
   "execution_count": 54,
   "id": "0fa87b3e-317b-4cd5-99f0-14da73151328",
   "metadata": {},
   "outputs": [
    {
     "name": "stdout",
     "output_type": "stream",
     "text": [
      "Using device: cuda\n",
      "\n"
     ]
    }
   ],
   "source": [
    "device = torch.device('cuda' if torch.cuda.is_available() else 'cpu')\n",
    "print('Using device:', device)\n",
    "print()"
   ]
  },
  {
   "cell_type": "code",
   "execution_count": 55,
   "id": "abc4789e-d400-47c9-a078-ff796b09a7da",
   "metadata": {},
   "outputs": [
    {
     "data": {
      "text/plain": [
       "tensor([[0.5896, 0.1458, 0.3451, 0.4903, 0.2674, 0.0432],\n",
       "        [0.1553, 0.5044, 0.5087, 0.9992, 0.8127, 0.8832],\n",
       "        [0.6955, 0.3857, 0.8617, 0.2607, 0.4688, 0.9031],\n",
       "        [0.4228, 0.7131, 0.2182, 0.1280, 0.3474, 0.5319]])"
      ]
     },
     "execution_count": 55,
     "metadata": {},
     "output_type": "execute_result"
    }
   ],
   "source": [
    "b"
   ]
  },
  {
   "cell_type": "code",
   "execution_count": 58,
   "id": "25a754df-d114-4944-a87f-c2d59a1a6840",
   "metadata": {},
   "outputs": [],
   "source": [
    "b = b.to(device)"
   ]
  },
  {
   "cell_type": "code",
   "execution_count": 59,
   "id": "e6e12002-bd6f-4577-b2ea-ce7eb7e6efde",
   "metadata": {},
   "outputs": [
    {
     "data": {
      "text/plain": [
       "tensor([[0.5896, 0.1458, 0.3451, 0.4903, 0.2674, 0.0432],\n",
       "        [0.1553, 0.5044, 0.5087, 0.9992, 0.8127, 0.8832],\n",
       "        [0.6955, 0.3857, 0.8617, 0.2607, 0.4688, 0.9031],\n",
       "        [0.4228, 0.7131, 0.2182, 0.1280, 0.3474, 0.5319]], device='cuda:0')"
      ]
     },
     "execution_count": 59,
     "metadata": {},
     "output_type": "execute_result"
    }
   ],
   "source": [
    "b"
   ]
  },
  {
   "cell_type": "code",
   "execution_count": 62,
   "id": "088f08ba-337f-4721-94f8-50d740de9e94",
   "metadata": {},
   "outputs": [
    {
     "data": {
      "text/plain": [
       "tensor([[0.5896, 0.1458, 0.3451, 0.4903, 0.2674, 0.0432],\n",
       "        [0.1553, 0.5044, 0.5087, 0.9992, 0.8127, 0.8832],\n",
       "        [0.6955, 0.3857, 0.8617, 0.2607, 0.4688, 0.9031],\n",
       "        [0.4228, 0.7131, 0.2182, 0.1280, 0.3474, 0.5319]])"
      ]
     },
     "execution_count": 62,
     "metadata": {},
     "output_type": "execute_result"
    }
   ],
   "source": [
    "b = b.to(\"cpu\")\n",
    "b"
   ]
  },
  {
   "cell_type": "code",
   "execution_count": 64,
   "id": "a89747d8-4413-454e-bb94-61d6b0768418",
   "metadata": {},
   "outputs": [
    {
     "data": {
      "text/plain": [
       "tensor([[0.5896, 0.1458, 0.3451, 0.4903, 0.2674, 0.0432],\n",
       "        [0.1553, 0.5044, 0.5087, 0.9992, 0.8127, 0.8832],\n",
       "        [0.6955, 0.3857, 0.8617, 0.2607, 0.4688, 0.9031],\n",
       "        [0.4228, 0.7131, 0.2182, 0.1280, 0.3474, 0.5319]], device='cuda:0')"
      ]
     },
     "execution_count": 64,
     "metadata": {},
     "output_type": "execute_result"
    }
   ],
   "source": [
    "b = b.to(\"cuda\")\n",
    "b"
   ]
  },
  {
   "cell_type": "markdown",
   "id": "236e590f-c384-4ea6-8034-1c56da08fec2",
   "metadata": {},
   "source": [
    "## From tensors to NumPy arrays and back\n",
    "\n",
    "You can go between tensors and NumPy arrays using `torch.from_numpy()` and `myTensor.numpy()`"
   ]
  },
  {
   "cell_type": "code",
   "execution_count": 71,
   "id": "ccd6ab34-b963-497e-9690-23871a6b7566",
   "metadata": {},
   "outputs": [
    {
     "name": "stdout",
     "output_type": "stream",
     "text": [
      "<class 'torch.Tensor'>\n",
      "<class 'numpy.ndarray'>\n"
     ]
    }
   ],
   "source": [
    "points_pt = torch.tensor([2,3,4])\n",
    "print(type(points_pt))\n",
    "points_np = points_pt.numpy()\n",
    "print(type(points_np))"
   ]
  },
  {
   "cell_type": "code",
   "execution_count": 72,
   "id": "c9ed2828-5751-4509-867a-fdaa33747422",
   "metadata": {},
   "outputs": [
    {
     "data": {
      "text/plain": [
       "tensor([1, 2, 3, 4])"
      ]
     },
     "execution_count": 72,
     "metadata": {},
     "output_type": "execute_result"
    }
   ],
   "source": [
    "a = np.array([1,2,3,4])\n",
    "torch.from_numpy(a)"
   ]
  },
  {
   "cell_type": "markdown",
   "id": "6101da6d-d3e9-42c2-bdc6-6b5e81c5d47c",
   "metadata": {},
   "source": [
    "# Training loop with pytorch\n",
    "\n",
    "We will recreate our machine learning example of week 2 using pytorch.\n",
    "\n",
    "We want to predict the firing rate of a neuron from the running speed of the animal.\n"
   ]
  },
  {
   "cell_type": "code",
   "execution_count": 138,
   "id": "859ea102-0904-4adf-bcbf-41931c8fd30f",
   "metadata": {},
   "outputs": [],
   "source": [
    "fn = \"../data/animal_speed.npy\""
   ]
  },
  {
   "cell_type": "code",
   "execution_count": 139,
   "id": "02c23c6d-716a-4825-8c8b-4a9e3174425d",
   "metadata": {},
   "outputs": [],
   "source": [
    "speed = np.load(fn)\n",
    "\n",
    "w = 1.25 # parameter 2 (slope)\n",
    "b = 10 # parameter 1 (intercept)\n",
    "np.random.seed(0)\n",
    "e = np.random.normal(loc=0.0, scale=5, size = speed.shape[0]) # random numbers taken from a normal distribution\n",
    "\n",
    "rate = speed * w + b + e # simulate the firing rate\n",
    "rate = np.maximum(0, rate) # eliminate the negative firing rates"
   ]
  },
  {
   "cell_type": "code",
   "execution_count": 140,
   "id": "a02f063c-2d56-4441-846a-62b7e2079401",
   "metadata": {},
   "outputs": [
    {
     "data": {
      "text/plain": [
       "Text(0, 0.5, 'Firing rate (Hz)')"
      ]
     },
     "execution_count": 140,
     "metadata": {},
     "output_type": "execute_result"
    },
    {
     "data": {
      "image/png": "[encoded data removed]",
      "text/plain": [
       "<Figure size 640x480 with 1 Axes>"
      ]
     },
     "metadata": {},
     "output_type": "display_data"
    }
   ],
   "source": [
    "plt.scatter(speed,rate)\n",
    "plt.xlabel(\"Running speed (cm/sec)\")\n",
    "plt.ylabel(\"Firing rate (Hz)\")"
   ]
  },
  {
   "cell_type": "markdown",
   "id": "8030a6ad-bc95-492f-b375-a1e8540e7fc1",
   "metadata": {},
   "source": [
    "### Our model\n",
    "\n",
    "We used matrix multiplication to make predictions with our model. \n",
    "\n",
    "* We created a matrix with our model coefficients (1,2)\n",
    "* We created a matrix with our speed data (2x27304)\n",
    "\n",
    "\n",
    "$y = \\theta * X$\n",
    "\n",
    "$\\begin{bmatrix} y_0 & y_1 & y_2 & y_3 \\end{bmatrix} = \\begin{bmatrix} b & w \\end{bmatrix} * \\begin{bmatrix} 1 & 1 & 1 & 1 \\\\ speed_0 & speed_1 & speed_2 & speed_3 \\end{bmatrix} $\n",
    "\n",
    "\n",
    "Each element of y results from $b*1+w*speed$, which is our linear model.\n",
    "\n",
    "* The multiplication gives a matrix of shape (1,27304). This matrix contains the prediction of the model for 27304 data point."
   ]
  },
  {
   "cell_type": "code",
   "execution_count": 158,
   "id": "f73636be-22e9-4829-a6bf-3414bc4a3403",
   "metadata": {},
   "outputs": [],
   "source": [
    "# linear model making prediction\n",
    "def model(X,theta):\n",
    "    return theta@X"
   ]
  },
  {
   "cell_type": "code",
   "execution_count": 159,
   "id": "296a69ec-42ab-4c0d-8dce-b5f582ec9bdf",
   "metadata": {},
   "outputs": [],
   "source": [
    "# loss function returning MSE\n",
    "loss_fn = torch.nn.MSELoss()"
   ]
  },
  {
   "cell_type": "code",
   "execution_count": 160,
   "id": "b8674bb0-e81f-41b1-8789-1acf7449df39",
   "metadata": {},
   "outputs": [
    {
     "name": "stdout",
     "output_type": "stream",
     "text": [
      "theta at start: tensor([[20., -2.]], requires_grad=True)\n"
     ]
    }
   ],
   "source": [
    "# model parameters stored as a pytorch tensor. We can use pytorch autograd to calculate the gradients for us.\n",
    "theta = torch.tensor([[20.0,-2.0]],requires_grad =True)\n",
    "print(\"theta at start:\", theta)"
   ]
  },
  {
   "cell_type": "code",
   "execution_count": 161,
   "id": "e393eb53-3ad3-4fb7-ae8a-71f900d0e7aa",
   "metadata": {},
   "outputs": [],
   "source": [
    "X = np.ones((2,speed.shape[0]))  # make a 2 rows array with ones in the first row and speed in the second row\n",
    "X[1,:] = speed"
   ]
  },
  {
   "cell_type": "code",
   "execution_count": 162,
   "id": "b38698d5-ac89-4f8b-ae62-98e6df4511bb",
   "metadata": {},
   "outputs": [],
   "source": [
    "# We transform our data from NumPy array to Pytorch tensors. There is no need for gradients\n",
    "XTensor = torch.tensor(X,dtype=torch.float32)\n",
    "rateTensor= torch.tensor(rate,dtype=torch.float32)"
   ]
  },
  {
   "cell_type": "code",
   "execution_count": 163,
   "id": "d46eb08d-27d2-418c-bef6-9a56173ec586",
   "metadata": {},
   "outputs": [],
   "source": [
    "# let's run the model once to make predictions\n",
    "yhat = model(XTensor,theta)"
   ]
  },
  {
   "cell_type": "code",
   "execution_count": 165,
   "id": "7a733a66-c00a-4d7b-b9e6-47e0589689d3",
   "metadata": {},
   "outputs": [
    {
     "data": {
      "text/plain": [
       "(torch.Size([1, 27304]), torch.Size([1, 27304]))"
      ]
     },
     "execution_count": 165,
     "metadata": {},
     "output_type": "execute_result"
    }
   ],
   "source": [
    "yhat.shape, rateTensor.unsqueeze(0).shape"
   ]
  },
  {
   "cell_type": "code",
   "execution_count": 166,
   "id": "f3c4f0d4-dceb-4186-86d7-0ba0c4ed51b9",
   "metadata": {},
   "outputs": [
    {
     "name": "stdout",
     "output_type": "stream",
     "text": [
      "loss: tensor(1898.0017, grad_fn=<MseLossBackward0>)\n"
     ]
    }
   ],
   "source": [
    "loss = loss_fn(yhat,rateTensor.unsqueeze(0))\n",
    "print(\"loss:\",loss)"
   ]
  },
  {
   "cell_type": "code",
   "execution_count": 167,
   "id": "3483bbe4-3a5f-494a-9435-59b4ac1b11ea",
   "metadata": {},
   "outputs": [
    {
     "name": "stdout",
     "output_type": "stream",
     "text": [
      "gradients:  tensor([[  -52.1215, -1312.6951]])\n"
     ]
    }
   ],
   "source": [
    "# calculate the gradients for our model parameters (theta)\n",
    "loss.backward()\n",
    "print(\"gradients: \",theta.grad)"
   ]
  },
  {
   "cell_type": "code",
   "execution_count": 168,
   "id": "7304f32a-2bfa-47f7-a98b-382815ac3283",
   "metadata": {},
   "outputs": [
    {
     "data": {
      "text/plain": [
       "tensor([[0., 0.]])"
      ]
     },
     "execution_count": 168,
     "metadata": {},
     "output_type": "execute_result"
    }
   ],
   "source": [
    "# We need to zero the gradients; otherwise, they accumulate\n",
    "theta.grad.zero_()"
   ]
  },
  {
   "cell_type": "code",
   "execution_count": 169,
   "id": "c3893e0c-f83d-4123-8ed4-b83c5885caac",
   "metadata": {},
   "outputs": [],
   "source": [
    "## training loop that will modify our parameters to minimize the loss function (MSE)\n",
    "def training_loop(n_epochs, learning_rate, theta, XTensor,rateTensor):\n",
    "    for epoch in range (n_epochs):\n",
    "\n",
    "        if theta.grad is not None:\n",
    "            theta.grad.zero_() \n",
    "        \n",
    "        yhat = model(XTensor,theta)\n",
    "        loss = loss_fn(yhat,rateTensor)\n",
    "        loss.backward() # calculate gradients\n",
    "        \n",
    "        with torch.no_grad():\n",
    "            theta -= learning_rate * theta.grad # adjust the parameters\n",
    "        \n",
    "        if epoch % 1000 ==0 or epoch < 10:\n",
    "            print(\"Epoch: {}, Loss: {}, theta: {}, Gradients: {}\".format(epoch,loss, theta, theta.grad))\n",
    "    return theta"
   ]
  },
  {
   "cell_type": "code",
   "execution_count": 170,
   "id": "ed7edf27-8242-46a1-96e4-8d6d8ddea35b",
   "metadata": {
    "tags": []
   },
   "outputs": [
    {
     "name": "stdout",
     "output_type": "stream",
     "text": [
      "Epoch: 0, Loss: 1898.001708984375, theta: tensor([20.0521, -0.6873], requires_grad=True), Gradients: tensor([  -52.1215, -1312.6951])\n",
      "Epoch: 1, Loss: 580.3323974609375, theta: tensor([2.0075e+01, 4.6009e-03], requires_grad=True), Gradients: tensor([ -22.8807, -691.9058])\n",
      "Epoch: 2, Loss: 214.41563415527344, theta: tensor([20.0825,  0.3694], requires_grad=True), Gradients: tensor([  -7.4774, -364.7972])\n",
      "Epoch: 3, Loss: 112.75155639648438, theta: tensor([20.0818,  0.5618], requires_grad=True), Gradients: tensor([   0.6346, -192.4358])\n",
      "Epoch: 4, Loss: 84.4569320678711, theta: tensor([20.0769,  0.6634], requires_grad=True), Gradients: tensor([   4.9047, -101.6143])\n",
      "Epoch: 5, Loss: 76.5333480834961, theta: tensor([20.0698,  0.7172], requires_grad=True), Gradients: tensor([  7.1503, -53.7581])\n",
      "Epoch: 6, Loss: 74.26587677001953, theta: tensor([20.0615,  0.7457], requires_grad=True), Gradients: tensor([  8.3292, -28.5413])\n",
      "Epoch: 7, Loss: 73.56893920898438, theta: tensor([20.0525,  0.7610], requires_grad=True), Gradients: tensor([  8.9461, -15.2538])\n",
      "Epoch: 8, Loss: 73.30821228027344, theta: tensor([20.0432,  0.7693], requires_grad=True), Gradients: tensor([ 9.2668, -8.2521])\n",
      "Epoch: 9, Loss: 73.16870880126953, theta: tensor([20.0338,  0.7738], requires_grad=True), Gradients: tensor([ 9.4314, -4.5625])\n",
      "Epoch: 1000, Loss: 31.832918167114258, theta: tensor([13.8693,  1.0689], requires_grad=True), Gradients: tensor([ 3.7372, -0.1761])\n",
      "Epoch: 2000, Loss: 25.585086822509766, theta: tensor([11.4627,  1.1823], requires_grad=True), Gradients: tensor([ 1.4386, -0.0678])\n",
      "Epoch: 3000, Loss: 24.659198760986328, theta: tensor([10.5363,  1.2259], requires_grad=True), Gradients: tensor([ 0.5538, -0.0261])\n",
      "Epoch: 4000, Loss: 24.52199935913086, theta: tensor([10.1796,  1.2427], requires_grad=True), Gradients: tensor([ 0.2132, -0.0101])\n",
      "Epoch: 5000, Loss: 24.501667022705078, theta: tensor([10.0423,  1.2492], requires_grad=True), Gradients: tensor([ 0.0821, -0.0039])\n",
      "Epoch: 6000, Loss: 24.4986515045166, theta: tensor([9.9895, 1.2517], requires_grad=True), Gradients: tensor([ 0.0316, -0.0015])\n",
      "Epoch: 7000, Loss: 24.498205184936523, theta: tensor([9.9691, 1.2526], requires_grad=True), Gradients: tensor([ 0.0122, -0.0005])\n",
      "Epoch: 8000, Loss: 24.498138427734375, theta: tensor([9.9613, 1.2530], requires_grad=True), Gradients: tensor([ 0.0047, -0.0002])\n",
      "Epoch: 9000, Loss: 24.498132705688477, theta: tensor([9.9583, 1.2531], requires_grad=True), Gradients: tensor([ 1.8389e-03, -7.8455e-05])\n",
      "tensor([9.9572, 1.2532], requires_grad=True)\n"
     ]
    }
   ],
   "source": [
    "opt_theta = training_loop(n_epochs = 10000,\n",
    "                          learning_rate = 0.001,\n",
    "                          theta = torch.tensor([20.0,-2.0],requires_grad =True),\n",
    "                          XTensor = XTensor,\n",
    "                          rateTensor=rateTensor)\n",
    "print(opt_theta)"
   ]
  },
  {
   "cell_type": "markdown",
   "id": "507f399c-eb96-4a4a-a0c0-1066a3906017",
   "metadata": {},
   "source": [
    "## pytorch optimizers\n",
    "\n",
    "There are several optimization strategies and tricks that can improve learning. There are more important when building deep neural networks. \n",
    "\n",
    "Let's see how to use the SGD optimizer."
   ]
  },
  {
   "cell_type": "code",
   "execution_count": 124,
   "id": "b0d0820f-dbaf-4f88-97d3-cb0bf1db95e9",
   "metadata": {},
   "outputs": [
    {
     "data": {
      "text/plain": [
       "['ASGD',\n",
       " 'Adadelta',\n",
       " 'Adagrad',\n",
       " 'Adam',\n",
       " 'AdamW',\n",
       " 'Adamax',\n",
       " 'LBFGS',\n",
       " 'NAdam',\n",
       " 'Optimizer',\n",
       " 'RAdam',\n",
       " 'RMSprop',\n",
       " 'Rprop',\n",
       " 'SGD',\n",
       " 'SparseAdam',\n",
       " '__builtins__',\n",
       " '__cached__',\n",
       " '__doc__',\n",
       " '__file__',\n",
       " '__loader__',\n",
       " '__name__',\n",
       " '__package__',\n",
       " '__path__',\n",
       " '__spec__',\n",
       " '_functional',\n",
       " '_multi_tensor',\n",
       " 'lr_scheduler',\n",
       " 'swa_utils']"
      ]
     },
     "execution_count": 124,
     "metadata": {},
     "output_type": "execute_result"
    }
   ],
   "source": [
    "import torch.optim as optim\n",
    "dir(optim)"
   ]
  },
  {
   "cell_type": "code",
   "execution_count": 132,
   "id": "c0853721-3720-4757-9379-8fd30e293ba0",
   "metadata": {},
   "outputs": [],
   "source": [
    "learning_rate = 0.001\n",
    "theta = torch.tensor([[20.0,-2.0]],requires_grad =True)\n",
    "optimizer = optim.Adam([theta],lr=learning_rate)"
   ]
  },
  {
   "cell_type": "code",
   "execution_count": 133,
   "id": "57c46559-9306-4d99-9f30-fd8b00d3c60c",
   "metadata": {},
   "outputs": [],
   "source": [
    "## training loop that will modify our parameters to minimize the loss function (MSE)\n",
    "def training_loop(n_epochs, optimizer, theta, XTensor,rateTensor):\n",
    "    for epoch in range (n_epochs):\n",
    "\n",
    "        \n",
    "        yhat = model(XTensor,theta)\n",
    "        loss = loss_fn(yhat,rateTensor)\n",
    "        \n",
    "        optimizer.zero_grad() # zero the gradients\n",
    "        \n",
    "        loss.backward() # calculate gradients\n",
    "        \n",
    "        optimizer.step() # will change the model parameters to reduce the loss\n",
    "        \n",
    "        \n",
    "        if epoch % 1000 ==0 or epoch < 10:\n",
    "            print(\"Epoch: {}, Loss: {}, theta: {}, Gradients: {}\".format(epoch,loss, theta, theta.grad))\n",
    "    return theta"
   ]
  },
  {
   "cell_type": "code",
   "execution_count": 134,
   "id": "ed44f8c4-500f-4560-81a8-c1653b4348ae",
   "metadata": {},
   "outputs": [
    {
     "name": "stdout",
     "output_type": "stream",
     "text": [
      "Epoch: 0, Loss: 1898.001708984375, theta: tensor([[20.0010, -1.9990]], requires_grad=True), Gradients: tensor([[  -52.1215, -1312.6951]])\n",
      "Epoch: 1, Loss: 1896.6373291015625, theta: tensor([[20.0020, -1.9980]], requires_grad=True), Gradients: tensor([[  -52.0974, -1312.2007]])\n",
      "Epoch: 2, Loss: 1895.273193359375, theta: tensor([[20.0030, -1.9970]], requires_grad=True), Gradients: tensor([[  -52.0732, -1311.7065]])\n",
      "Epoch: 3, Loss: 1893.9097900390625, theta: tensor([[20.0040, -1.9960]], requires_grad=True), Gradients: tensor([[  -52.0490, -1311.2124]])\n",
      "Epoch: 4, Loss: 1892.5467529296875, theta: tensor([[20.0050, -1.9950]], requires_grad=True), Gradients: tensor([[  -52.0248, -1310.7183]])\n",
      "Epoch: 5, Loss: 1891.1846923828125, theta: tensor([[20.0060, -1.9940]], requires_grad=True), Gradients: tensor([[  -52.0006, -1310.2241]])\n",
      "Epoch: 6, Loss: 1889.8226318359375, theta: tensor([[20.0070, -1.9930]], requires_grad=True), Gradients: tensor([[  -51.9764, -1309.7297]])\n",
      "Epoch: 7, Loss: 1888.461669921875, theta: tensor([[20.0080, -1.9920]], requires_grad=True), Gradients: tensor([[  -51.9522, -1309.2358]])\n",
      "Epoch: 8, Loss: 1887.100830078125, theta: tensor([[20.0090, -1.9910]], requires_grad=True), Gradients: tensor([[  -51.9280, -1308.7417]])\n",
      "Epoch: 9, Loss: 1885.740966796875, theta: tensor([[20.0100, -1.9900]], requires_grad=True), Gradients: tensor([[  -51.9038, -1308.2474]])\n",
      "Epoch: 1000, Loss: 869.138671875, theta: tensor([[20.8883, -1.0866]], requires_grad=True), Gradients: tensor([[ -30.0912, -862.2385]])\n",
      "Epoch: 2000, Loss: 354.0484619140625, theta: tensor([[21.5177, -0.3507]], requires_grad=True), Gradients: tensor([[ -12.4926, -500.7845]])\n",
      "Epoch: 3000, Loss: 150.2921905517578, theta: tensor([[21.7727,  0.1979]], requires_grad=True), Gradients: tensor([[ 1.9902e-01, -2.3607e+02]])\n",
      "Epoch: 4000, Loss: 94.46401977539062, theta: tensor([[21.4278,  0.5413]], requires_grad=True), Gradients: tensor([[  7.1375, -81.5155]])\n",
      "Epoch: 5000, Loss: 78.73101806640625, theta: tensor([[20.5560,  0.7087]], requires_grad=True), Gradients: tensor([[  9.1123, -21.7961]])\n",
      "Epoch: 6000, Loss: 68.79847717285156, theta: tensor([[19.5749,  0.7856]], requires_grad=True), Gradients: tensor([[ 8.8573, -7.2653]])\n",
      "Epoch: 7000, Loss: 60.44882583618164, theta: tensor([[18.6248,  0.8378]], requires_grad=True), Gradients: tensor([[ 8.1178, -3.6705]])\n",
      "Epoch: 8000, Loss: 53.21541213989258, theta: tensor([[17.7047,  0.8845]], requires_grad=True), Gradients: tensor([[ 7.3130, -2.0736]])\n",
      "Epoch: 9000, Loss: 46.9388427734375, theta: tensor([[16.8060,  0.9286]], requires_grad=True), Gradients: tensor([[ 6.4945, -1.2037]])\n",
      "Epoch: 10000, Loss: 41.54206848144531, theta: tensor([[15.9259,  0.9710]], requires_grad=True), Gradients: tensor([[ 5.6762, -0.7062]])\n",
      "Epoch: 11000, Loss: 36.979759216308594, theta: tensor([[15.0648,  1.0121]], requires_grad=True), Gradients: tensor([[ 4.8663, -0.4155]])\n",
      "Epoch: 12000, Loss: 33.216270446777344, theta: tensor([[14.2256,  1.0520]], requires_grad=True), Gradients: tensor([[ 4.0719, -0.2440]])\n",
      "Epoch: 13000, Loss: 30.216066360473633, theta: tensor([[13.4137,  1.0904]], requires_grad=True), Gradients: tensor([[ 3.3003, -0.1422]])\n",
      "Epoch: 14000, Loss: 27.936994552612305, theta: tensor([[12.6375,  1.1270]], requires_grad=True), Gradients: tensor([[ 2.5607, -0.0815]])\n",
      "Epoch: 15000, Loss: 26.32384490966797, theta: tensor([[11.9098,  1.1613]], requires_grad=True), Gradients: tensor([[ 1.8665, -0.0457]])\n",
      "Epoch: 16000, Loss: 25.30011558532715, theta: tensor([[11.2509,  1.1923]], requires_grad=True), Gradients: tensor([[ 1.2373, -0.0244]])\n",
      "Epoch: 17000, Loss: 24.757352828979492, theta: tensor([[10.6922,  1.2186]], requires_grad=True), Gradients: tensor([[ 0.7036, -0.0119]])\n",
      "Epoch: 18000, Loss: 24.54747772216797, theta: tensor([[10.2773,  1.2381]], requires_grad=True), Gradients: tensor([[ 0.3070, -0.0048]])\n",
      "Epoch: 19000, Loss: 24.50177001953125, theta: tensor([[10.0435,  1.2491]], requires_grad=True), Gradients: tensor([[ 0.0834, -0.0012]])\n",
      "tensor([[9.9667, 1.2527]], requires_grad=True)\n"
     ]
    }
   ],
   "source": [
    "opt_theta = training_loop(n_epochs = 20000,\n",
    "                          optimizer = optimizer,\n",
    "                          theta=theta,\n",
    "                          XTensor = XTensor,\n",
    "                          rateTensor=rateTensor)\n",
    "print(opt_theta)"
   ]
  },
  {
   "cell_type": "markdown",
   "id": "5f2f54c7-19e5-4eaf-9d95-73639c6e6995",
   "metadata": {},
   "source": [
    "## Using a model from pytorch.nn module\n",
    "\n",
    "Let's modify our example and instead of using our hand-made model, we will use a linear model from the pytorch library.\n",
    "\n",
    "https://pytorch.org/docs/stable/generated/torch.nn.Linear.html"
   ]
  },
  {
   "cell_type": "code",
   "execution_count": 335,
   "id": "e03fee22-6350-4ab6-8bfa-f5e2087d102d",
   "metadata": {},
   "outputs": [],
   "source": [
    "import torch.nn as nn\n",
    "lin_model = nn.Linear(1,1)"
   ]
  },
  {
   "cell_type": "markdown",
   "id": "e174e39e-9108-4c26-8106-6b689c5064e3",
   "metadata": {},
   "source": [
    "With pytorch models, the parameters are stored in the model itself. We don't need `theta` anymore."
   ]
  },
  {
   "cell_type": "code",
   "execution_count": 337,
   "id": "54efb932-4396-41c3-915c-99edef8a3588",
   "metadata": {},
   "outputs": [
    {
     "name": "stdout",
     "output_type": "stream",
     "text": [
      "weight Parameter containing:\n",
      "tensor([[-0.2685]], requires_grad=True)\n",
      "bias Parameter containing:\n",
      "tensor([0.7440], requires_grad=True)\n"
     ]
    }
   ],
   "source": [
    "for name,p in lin_model.named_parameters():\n",
    "    print(name,p)\n"
   ]
  },
  {
   "cell_type": "markdown",
   "id": "a29b6ee4-b998-488f-9289-08887236900f",
   "metadata": {},
   "source": [
    "We need to modify the format our input data (speed) and our rate array. \n",
    "\n",
    "We don't need the `ones` anymore in the input. We want one observation per row."
   ]
  },
  {
   "cell_type": "code",
   "execution_count": 338,
   "id": "42f70bee-8cef-438f-9da2-40f28425aa7c",
   "metadata": {},
   "outputs": [
    {
     "data": {
      "text/plain": [
       "tensor([[16.5611],\n",
       "        [18.3959],\n",
       "        [14.9706],\n",
       "        ...,\n",
       "        [26.6819],\n",
       "        [26.4118],\n",
       "        [26.2991]])"
      ]
     },
     "execution_count": 338,
     "metadata": {},
     "output_type": "execute_result"
    }
   ],
   "source": [
    "Xt = torch.from_numpy(speed).unsqueeze(1).float()\n",
    "Xt"
   ]
  },
  {
   "cell_type": "code",
   "execution_count": 339,
   "id": "c4b00307-cffc-49c1-bcb5-eda8ccf12a13",
   "metadata": {},
   "outputs": [
    {
     "data": {
      "text/plain": [
       "torch.Size([27304, 1])"
      ]
     },
     "execution_count": 339,
     "metadata": {},
     "output_type": "execute_result"
    }
   ],
   "source": [
    "Xt.shape"
   ]
  },
  {
   "cell_type": "code",
   "execution_count": 340,
   "id": "934e0dc3-092b-4943-a9b8-28b8da843ef6",
   "metadata": {},
   "outputs": [
    {
     "data": {
      "text/plain": [
       "torch.Size([27304, 1])"
      ]
     },
     "execution_count": 340,
     "metadata": {},
     "output_type": "execute_result"
    }
   ],
   "source": [
    "rateTensor = torch.from_numpy(rate).unsqueeze(1).float()\n",
    "rateTensor.shape"
   ]
  },
  {
   "cell_type": "code",
   "execution_count": 342,
   "id": "a65d6a9d-e78d-476e-bdc9-5396340f1ae9",
   "metadata": {},
   "outputs": [],
   "source": [
    "yhat = lin_model(Xt)"
   ]
  },
  {
   "cell_type": "code",
   "execution_count": 343,
   "id": "e4c5d164-18bf-4894-9526-ba4a785572ad",
   "metadata": {},
   "outputs": [
    {
     "name": "stdout",
     "output_type": "stream",
     "text": [
      "CPU times: user 1.01 ms, sys: 0 ns, total: 1.01 ms\n",
      "Wall time: 688 µs\n"
     ]
    },
    {
     "data": {
      "text/plain": [
       "tensor(967.0347, grad_fn=<MseLossBackward0>)"
      ]
     },
     "execution_count": 343,
     "metadata": {},
     "output_type": "execute_result"
    }
   ],
   "source": [
    "%%time\n",
    "loss_fn(yhat,rateTensor)"
   ]
  },
  {
   "cell_type": "code",
   "execution_count": 344,
   "id": "a7a7d8fd-367c-4fcf-bca6-c1511c0c8f69",
   "metadata": {},
   "outputs": [],
   "source": [
    "learning_rate = 0.001\n",
    "optimizer = optim.SGD(lin_model.parameters(),lr=learning_rate)"
   ]
  },
  {
   "cell_type": "code",
   "execution_count": 345,
   "id": "ff583d6d-269b-4c69-9337-34dbc3383d3c",
   "metadata": {},
   "outputs": [],
   "source": [
    "## training loop that will modify our parameters to minimize the loss function (MSE)\n",
    "def training_loop(n_epochs, optimizer, model, XTensor,rateTensor):\n",
    "    for epoch in range (n_epochs):\n",
    "\n",
    "        \n",
    "        yhat = model(XTensor)\n",
    "        \n",
    "        loss = loss_fn(yhat,rateTensor)\n",
    "        \n",
    "        optimizer.zero_grad() # zero the gradients\n",
    "        \n",
    "        loss.backward() # calculate gradients\n",
    "        \n",
    "        optimizer.step() # will change the model parameters to reduce the loss\n",
    "        \n",
    "        \n",
    "        if epoch % 1000 ==0 or epoch < 10:\n",
    "            print(\"Epoch: {}, Loss: {}\".format(epoch,loss))\n",
    "    return"
   ]
  },
  {
   "cell_type": "code",
   "execution_count": 346,
   "id": "ea233c1d-8358-4c8f-8c2e-73f0aee9c3b7",
   "metadata": {},
   "outputs": [
    {
     "name": "stdout",
     "output_type": "stream",
     "text": [
      "Epoch: 0, Loss: 967.03466796875\n",
      "Epoch: 1, Loss: 314.845947265625\n",
      "Epoch: 2, Loss: 133.71263122558594\n",
      "Epoch: 3, Loss: 83.36662292480469\n",
      "Epoch: 4, Loss: 69.33366394042969\n",
      "Epoch: 5, Loss: 65.38308715820312\n",
      "Epoch: 6, Loss: 64.23197937011719\n",
      "Epoch: 7, Loss: 63.858238220214844\n",
      "Epoch: 8, Loss: 63.700443267822266\n",
      "Epoch: 9, Loss: 63.602691650390625\n",
      "Epoch: 1000, Loss: 30.39214324951172\n",
      "Epoch: 2000, Loss: 25.371564865112305\n",
      "Epoch: 3000, Loss: 24.627561569213867\n",
      "Epoch: 4000, Loss: 24.51730728149414\n",
      "Epoch: 5000, Loss: 24.5009708404541\n",
      "Epoch: 6000, Loss: 24.498550415039062\n",
      "Epoch: 7000, Loss: 24.498191833496094\n",
      "Epoch: 8000, Loss: 24.498138427734375\n",
      "Epoch: 9000, Loss: 24.498130798339844\n",
      "Epoch: 10000, Loss: 24.498130798339844\n",
      "Epoch: 11000, Loss: 24.498130798339844\n",
      "Epoch: 12000, Loss: 24.498130798339844\n",
      "Epoch: 13000, Loss: 24.498130798339844\n",
      "Epoch: 14000, Loss: 24.498130798339844\n",
      "Epoch: 15000, Loss: 24.498130798339844\n",
      "Epoch: 16000, Loss: 24.498130798339844\n",
      "Epoch: 17000, Loss: 24.498130798339844\n",
      "Epoch: 18000, Loss: 24.498130798339844\n",
      "Epoch: 19000, Loss: 24.498130798339844\n"
     ]
    }
   ],
   "source": [
    "opt_theta = training_loop(n_epochs = 20000,\n",
    "                          optimizer = optimizer,\n",
    "                          model=lin_model,\n",
    "                          XTensor = Xt,\n",
    "                          rateTensor=rateTensor)"
   ]
  },
  {
   "cell_type": "code",
   "execution_count": 348,
   "id": "d78d66c6-63d3-4d14-81b9-b87ed3e788e3",
   "metadata": {},
   "outputs": [
    {
     "name": "stdout",
     "output_type": "stream",
     "text": [
      "Parameter containing:\n",
      "tensor([[1.2533]], requires_grad=True)\n",
      "Parameter containing:\n",
      "tensor([9.9559], requires_grad=True)\n"
     ]
    }
   ],
   "source": [
    "for p in lin_model.parameters():\n",
    "    print(p)"
   ]
  },
  {
   "cell_type": "markdown",
   "id": "01d2c5e5-cb15-4265-b171-ea82f96f814a",
   "metadata": {},
   "source": [
    "# A first neural network"
   ]
  },
  {
   "cell_type": "markdown",
   "id": "7e0c0e0b-f99f-4cd7-b99a-94bd64d9a581",
   "metadata": {},
   "source": [
    "* Mathematical entities capable of representing complicated functions through a composition of simpler functions.\n",
    "* Deep neural network have **multiple layers** between the input and output layers. \n",
    "* Each layer has several artificial neurons. \n",
    "* New data comes from the left, and calculations propagates towards the ouput layer.\n",
    "\n",
    "\n",
    "<div>\n",
    "<img src=\"../images/deep-neural-network.png\" width=\"500\"/>\n",
    "</div>"
   ]
  },
  {
   "cell_type": "markdown",
   "id": "bcca6356-30bb-4b55-a5ef-d9f6a2ad1a3e",
   "metadata": {},
   "source": [
    "***\n",
    "\n",
    "* Our previous model had 1 input and 1 output\n",
    "\n",
    "<img src=\"../images/neuron_linear.png\" width=\"500\" align=\"center\">\n",
    "\n",
    "* A neuron in a neural network has one more non-linear function. \n",
    "\n",
    "<img src=\"../images/artificial_neuron.png\" width=\"500\" align=\"center\">"
   ]
  },
  {
   "cell_type": "markdown",
   "id": "3ec474f9-32f7-4b2e-9387-aabf74a35cb6",
   "metadata": {},
   "source": [
    "The non-linear function allows the model to have different slope at different values.\n",
    "\n",
    "The non-linear function of the neuron is called the **activation function**."
   ]
  },
  {
   "cell_type": "code",
   "execution_count": 349,
   "id": "0d62c1c7-706e-4ef9-8b2d-6925358908f0",
   "metadata": {},
   "outputs": [
    {
     "data": {
      "text/plain": [
       "Text(0.5, 1.0, 'tanh function')"
      ]
     },
     "execution_count": 349,
     "metadata": {},
     "output_type": "execute_result"
    },
    {
     "data": {
      "image/png": "[encoded data removed]",
      "text/plain": [
       "<Figure size 640x480 with 1 Axes>"
      ]
     },
     "metadata": {},
     "output_type": "display_data"
    }
   ],
   "source": [
    "x = np.linspace(-4,4)\n",
    "plt.plot(x, np.tanh(x))\n",
    "plt.title(\"tanh function\")"
   ]
  },
  {
   "cell_type": "markdown",
   "id": "ba6cff40-68de-4199-9798-ed40e136f5af",
   "metadata": {},
   "source": [
    "Our first neural network will predict the firing rate from the speed of the animal."
   ]
  },
  {
   "cell_type": "code",
   "execution_count": 350,
   "id": "b532da6d-8708-46ff-bc79-ee0621155380",
   "metadata": {},
   "outputs": [],
   "source": [
    "seq_model = nn.Sequential(nn.Linear(1,13),\n",
    "                      nn.Tanh(),\n",
    "                      nn.Linear(13,1))"
   ]
  },
  {
   "cell_type": "code",
   "execution_count": 351,
   "id": "91baf8d1-f9fe-4c26-9e46-fb5b2aad5932",
   "metadata": {},
   "outputs": [
    {
     "data": {
      "text/plain": [
       "Sequential(\n",
       "  (0): Linear(in_features=1, out_features=13, bias=True)\n",
       "  (1): Tanh()\n",
       "  (2): Linear(in_features=13, out_features=1, bias=True)\n",
       ")"
      ]
     },
     "execution_count": 351,
     "metadata": {},
     "output_type": "execute_result"
    }
   ],
   "source": [
    "seq_model"
   ]
  },
  {
   "cell_type": "code",
   "execution_count": 352,
   "id": "28716996-71be-4b98-805f-2518a44070ed",
   "metadata": {},
   "outputs": [
    {
     "name": "stdout",
     "output_type": "stream",
     "text": [
      "0.weight Parameter containing:\n",
      "tensor([[-0.4817],\n",
      "        [ 0.8197],\n",
      "        [-0.6956],\n",
      "        [-0.4323],\n",
      "        [-0.0551],\n",
      "        [ 0.3399],\n",
      "        [-0.1226],\n",
      "        [-0.6209],\n",
      "        [-0.5914],\n",
      "        [-0.9759],\n",
      "        [ 0.4815],\n",
      "        [ 0.5897],\n",
      "        [-0.7522]], requires_grad=True)\n",
      "0.bias Parameter containing:\n",
      "tensor([-0.0966, -0.0950, -0.9690,  0.6948, -0.2624, -0.7333,  0.8339, -0.8892,\n",
      "         0.9917, -0.3845,  0.6822,  0.8525,  0.7046], requires_grad=True)\n",
      "2.weight Parameter containing:\n",
      "tensor([[-0.0604,  0.0926,  0.0194, -0.2117, -0.2416, -0.1968,  0.1519,  0.0222,\n",
      "          0.0983, -0.2504, -0.0376,  0.0842,  0.0966]], requires_grad=True)\n",
      "2.bias Parameter containing:\n",
      "tensor([0.0284], requires_grad=True)\n"
     ]
    }
   ],
   "source": [
    "for name, p in seq_model.named_parameters():\n",
    "    print(name,p)"
   ]
  },
  {
   "cell_type": "code",
   "execution_count": 353,
   "id": "e21fdd14-1b27-446c-bebc-0904ae177956",
   "metadata": {},
   "outputs": [],
   "source": [
    "optimizer = optim.SGD(seq_model.parameters(),lr=learning_rate)"
   ]
  },
  {
   "cell_type": "code",
   "execution_count": 354,
   "id": "4e1c251f-33df-4fb4-97ac-665908c1dded",
   "metadata": {},
   "outputs": [
    {
     "name": "stdout",
     "output_type": "stream",
     "text": [
      "Epoch: 0, Loss: 753.1209106445312\n",
      "Epoch: 1, Loss: 726.9225463867188\n",
      "Epoch: 2, Loss: 702.1558227539062\n",
      "Epoch: 3, Loss: 677.3721923828125\n",
      "Epoch: 4, Loss: 652.6217651367188\n",
      "Epoch: 5, Loss: 630.4622192382812\n",
      "Epoch: 6, Loss: 609.2015991210938\n",
      "Epoch: 7, Loss: 588.8223266601562\n",
      "Epoch: 8, Loss: 569.2978515625\n",
      "Epoch: 9, Loss: 550.59912109375\n",
      "Epoch: 1000, Loss: 42.504112243652344\n",
      "Epoch: 2000, Loss: 44.898563385009766\n",
      "Epoch: 3000, Loss: 38.15821838378906\n",
      "Epoch: 4000, Loss: 35.232051849365234\n",
      "Epoch: 5000, Loss: 33.694766998291016\n",
      "Epoch: 6000, Loss: 32.47941589355469\n",
      "Epoch: 7000, Loss: 31.42172622680664\n",
      "Epoch: 8000, Loss: 30.410612106323242\n",
      "Epoch: 9000, Loss: 29.27582359313965\n",
      "Epoch: 10000, Loss: 28.68196678161621\n",
      "Epoch: 11000, Loss: 28.210283279418945\n",
      "Epoch: 12000, Loss: 27.83739471435547\n",
      "Epoch: 13000, Loss: 27.54195213317871\n",
      "Epoch: 14000, Loss: 27.305078506469727\n",
      "Epoch: 15000, Loss: 27.110729217529297\n",
      "Epoch: 16000, Loss: 26.94639778137207\n",
      "Epoch: 17000, Loss: 26.802732467651367\n",
      "Epoch: 18000, Loss: 26.673303604125977\n",
      "Epoch: 19000, Loss: 26.55380630493164\n"
     ]
    }
   ],
   "source": [
    "opt_theta = training_loop(n_epochs = 20000,\n",
    "                          optimizer = optimizer,\n",
    "                          model=seq_model,\n",
    "                          XTensor = Xt,\n",
    "                          rateTensor=rateTensor)"
   ]
  },
  {
   "cell_type": "code",
   "execution_count": 355,
   "id": "583cc8d4-33da-4995-b437-6c5cc5789737",
   "metadata": {},
   "outputs": [
    {
     "name": "stdout",
     "output_type": "stream",
     "text": [
      "0.weight Parameter containing:\n",
      "tensor([[-0.1626],\n",
      "        [ 1.0149],\n",
      "        [-0.6875],\n",
      "        [-0.2973],\n",
      "        [-0.2016],\n",
      "        [ 0.3001],\n",
      "        [-1.0620],\n",
      "        [-0.4502],\n",
      "        [-0.2481],\n",
      "        [-1.1877],\n",
      "        [ 0.0818],\n",
      "        [ 0.1429],\n",
      "        [ 0.1977]], requires_grad=True)\n",
      "0.bias Parameter containing:\n",
      "tensor([ 0.5031,  1.4245, -1.6451,  6.7377,  2.6323, -9.5947,  0.7785, -1.5991,\n",
      "        10.3445, -1.5105,  0.6431,  1.5300,  2.4598], requires_grad=True)\n",
      "2.weight Parameter containing:\n",
      "tensor([[-5.5768,  5.4764, -5.5798, -5.0613, -5.5910,  4.8022,  0.6501, -5.5665,\n",
      "         -6.5371, -5.7726,  5.6034,  5.6751, -1.3610]], requires_grad=True)\n",
      "2.bias Parameter containing:\n",
      "tensor([5.7305], requires_grad=True)\n"
     ]
    }
   ],
   "source": [
    "for name, p in seq_model.named_parameters():\n",
    "    print(name,p)"
   ]
  },
  {
   "cell_type": "markdown",
   "id": "7e999fa1-8ff6-4c95-be49-7a50272dd376",
   "metadata": {},
   "source": [
    "### Let's compare our linear model with our small neural network"
   ]
  },
  {
   "cell_type": "code",
   "execution_count": null,
   "id": "f0bdf262-5a74-441f-9825-32eb2c280f59",
   "metadata": {},
   "outputs": [],
   "source": []
  }
 ],
 "metadata": {
  "kernelspec": {
   "display_name": "Python 3",
   "language": "python",
   "name": "python3"
  },
  "language_info": {
   "codemirror_mode": {
    "name": "ipython",
    "version": 3
   },
   "file_extension": ".py",
   "mimetype": "text/x-python",
   "name": "python",
   "nbconvert_exporter": "python",
   "pygments_lexer": "ipython3",
   "version": "3.8.5"
  }
 },
 "nbformat": 4,
 "nbformat_minor": 5
}
