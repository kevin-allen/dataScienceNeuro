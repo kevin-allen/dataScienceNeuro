{
 "cells": [
  {
   "cell_type": "markdown",
   "id": "011fcdb7-0295-4ded-911f-8e9eddf98583",
   "metadata": {},
   "source": [
    "# Machine learning challenge\n",
    "\n",
    "A new paper comes out on speed cells. The authors suggest that the firing rate of speed cells depends on both speed and acceleration. \n",
    "\n",
    "Two factors are influencing the firing rate of the neuron. \n",
    "\n",
    "You would like to create a linear regression model that predict the firing rate of these cells.\n",
    "\n",
    "Your new model is as follows.\n",
    "\n",
    "$rate = speed*w_1 + acceleration*w_2 + b + error$\n",
    "\n",
    "In this model you will have 3 coefficients, $\\theta_0, \\theta_1, \\theta_2$\n"
   ]
  },
  {
   "cell_type": "code",
   "execution_count": 1,
   "id": "3e6ece4b-b15c-4416-8b9f-29bc8fb7d214",
   "metadata": {},
   "outputs": [],
   "source": [
    "import numpy as np\n",
    "import matplotlib.pyplot as plt"
   ]
  },
  {
   "cell_type": "code",
   "execution_count": 2,
   "id": "6d99a645-345b-4fde-9c58-7d8d24e3cf0a",
   "metadata": {},
   "outputs": [],
   "source": [
    "fn = \"../data/animal_acceleration.npy\"\n",
    "acceleration = np.load(fn)"
   ]
  },
  {
   "cell_type": "code",
   "execution_count": 3,
   "id": "5ee1882e-6320-46ea-afb1-a85af03e77e9",
   "metadata": {},
   "outputs": [],
   "source": [
    "fn = \"../data/animal_speed.npy\"\n",
    "speed = np.load(fn)"
   ]
  },
  {
   "cell_type": "code",
   "execution_count": 4,
   "id": "d7abe0e2-2259-498e-9ad5-224e2d35dbe8",
   "metadata": {},
   "outputs": [],
   "source": [
    "fn =  \"../data/y_rate.npy\"\n",
    "rate = np.load(fn)"
   ]
  },
  {
   "cell_type": "markdown",
   "id": "0f407b06-f664-4edf-a4a1-0fea4170c891",
   "metadata": {},
   "source": [
    "Do the following steps\n",
    "\n",
    "1. Use scatter plots to check if there is a linear relationship between speed and rate, and between acceleration and rate.\n",
    "2. Create you matrix `theta` with the 3 parameters of your model\n",
    "3. Create your matrix `X` with the speed and acceleration data. Don't forget the first row of ones.\n",
    "4. Train a model to find the best model parameters to predict the firing rate of the neuron. What are these parameters?\n",
    "5. Plot the original data together with the predicted firing rates from your model."
   ]
  },
  {
   "cell_type": "code",
   "execution_count": null,
   "id": "9d567d3b-dabb-42f9-a679-99cd789b1550",
   "metadata": {},
   "outputs": [],
   "source": []
  },
  {
   "cell_type": "markdown",
   "id": "98337023-7b7c-44e6-a3fb-182b2bcccb51",
   "metadata": {},
   "source": [
    "### Model prediction with matrix multiplication"
   ]
  },
  {
   "cell_type": "markdown",
   "id": "11649ff4-68cb-43cf-a808-afcff42422b3",
   "metadata": {},
   "source": [
    "We used matrix multiplication to make predictions with our model. \n",
    "\n",
    "* We created a matrix with our model coefficients (1,3)\n",
    "* We created a matrix with our speed data (3x27304)\n",
    "\n",
    "\n",
    "$ \\begin{bmatrix} b & w_0 & w_1 \\end{bmatrix} * \\begin{bmatrix} 1 & 1 & 1 & 1 \\\\ speed_0 & speed_1 & speed_2 & speed_3 \\\\ acceleration_0 & acceleration_1 & acceleration_2 & acceleration_3\\end{bmatrix} = \\begin{bmatrix} y_0 & y_1 & y_2 & y_3 \\end{bmatrix}$\n",
    "\n",
    "\n",
    "Each element of y results from $b*1+w_0*speed+w_1*acceleration$, which is our linear model.\n",
    "\n",
    "* The multiplication gives a matrix of shape (1,27304). This matrix contains the prediction of the model for 27304 data point."
   ]
  },
  {
   "cell_type": "code",
   "execution_count": 30,
   "id": "7f78fa75-0e82-47d0-a285-67168ea53d48",
   "metadata": {},
   "outputs": [],
   "source": [
    "theta = np.array([[0.0,3.0]]) # random guess of the 2 model parameters, same as above\n",
    "X = np.ones((2,speed.shape[0]))  # make a 2 rows array with ones in the first row and speed in the second row\n",
    "X[1,:] = speed"
   ]
  },
  {
   "cell_type": "markdown",
   "id": "f99958f0-05ea-4827-b3e8-4dccc34081a6",
   "metadata": {},
   "source": [
    "Model prediction using $theta@X$"
   ]
  },
  {
   "cell_type": "code",
   "execution_count": 31,
   "id": "6472693f-5d9d-4af7-9e81-0fc0a0451169",
   "metadata": {},
   "outputs": [
    {
     "data": {
      "text/plain": [
       "((1, 2), (2, 27304))"
      ]
     },
     "execution_count": 31,
     "metadata": {},
     "output_type": "execute_result"
    }
   ],
   "source": [
    "theta.shape, X.shape"
   ]
  },
  {
   "cell_type": "code",
   "execution_count": 32,
   "id": "7644735a-9846-4467-92e1-29ef760cb848",
   "metadata": {},
   "outputs": [],
   "source": [
    "yhat = theta@X"
   ]
  },
  {
   "cell_type": "markdown",
   "id": "c4d24c66-69db-4939-a725-703f8401454c",
   "metadata": {},
   "source": [
    "### Our first training loop\n",
    "\n",
    "This is a simple training loop. We loop several times and make small adjustments to the coefficients on each iteration."
   ]
  },
  {
   "cell_type": "code",
   "execution_count": 78,
   "id": "4f093ac0-4f91-4f0f-989d-f8259f4d9f5f",
   "metadata": {},
   "outputs": [
    {
     "name": "stdout",
     "output_type": "stream",
     "text": [
      "theta at start: [[20. -2.]]\n",
      "iteration:0, gradients: [[  -52.12155036 -1312.69499501]]\n",
      "iteration:1, gradients: [[  6.3601809 -71.1166835]]\n",
      "iteration:2, gradients: [[ 9.4917568  -4.26051724]]\n",
      "iteration:3, gradients: [[ 9.64292294 -0.65968656]]\n",
      "iteration:4, gradients: [[ 9.6336361 -0.4649713]]\n",
      "iteration:5, gradients: [[ 9.61574259 -0.45366692]]\n",
      "iteration:6, gradients: [[ 9.59741884 -0.45224024]]\n",
      "iteration:7, gradients: [[ 9.57910504 -0.451347  ]]\n",
      "iteration:8, gradients: [[ 9.56082485 -0.45048405]]\n",
      "iteration:9, gradients: [[ 9.54257947 -0.44962428]]\n",
      "iteration:1000, gradients: [[ 1.43732497 -0.06772343]]\n",
      "iteration:2000, gradients: [[ 0.21280311 -0.01002679]]\n",
      "iteration:3000, gradients: [[ 0.03150656 -0.00148452]]\n",
      "iteration:4000, gradients: [[ 0.0046647  -0.00021979]]\n",
      "iteration:5000, gradients: [[ 6.90632390e-04 -3.25410011e-05]]\n",
      "optimized theta: [[9.95650957 1.25322235]]\n"
     ]
    }
   ],
   "source": [
    "lr = 0.002 # learning rate\n",
    "n_iterations = 6000 \n",
    "m = rate.shape[0] # number of data points\n",
    "\n",
    "#theta = np.random.rand(2) # set random parameters as a starting point\n",
    "theta = np.array([[20.0,-2.0]]) \n",
    "print(\"theta at start:\", theta)\n",
    "\n",
    "# learning loop\n",
    "for iteration in range(n_iterations):\n",
    "\n",
    "    \n",
    "    # make a prediction by feeding data to our model\n",
    "    yhat = theta@X\n",
    "    \n",
    "    # calculate the gradients with the current parameters\n",
    "    gradients = 2/m *(yhat - rateM) @ X.T\n",
    "    \n",
    "    # adjust the parameter so that we reduce the MSE\n",
    "    theta = theta - lr * gradients\n",
    "\n",
    "    if iteration%1000 == 0 or iteration<10:  # some information\n",
    "        print(\"iteration:{}, gradients: {}\".format(iteration,gradients))\n",
    "\n",
    "print(\"optimized theta:\",theta)"
   ]
  },
  {
   "cell_type": "code",
   "execution_count": null,
   "id": "1e0f2494-fe55-4147-a20d-9ccd8eab77b0",
   "metadata": {},
   "outputs": [],
   "source": []
  }
 ],
 "metadata": {
  "kernelspec": {
   "display_name": "Python 3 (ipykernel)",
   "language": "python",
   "name": "python3"
  },
  "language_info": {
   "codemirror_mode": {
    "name": "ipython",
    "version": 3
   },
   "file_extension": ".py",
   "mimetype": "text/x-python",
   "name": "python",
   "nbconvert_exporter": "python",
   "pygments_lexer": "ipython3",
   "version": "3.10.12"
  }
 },
 "nbformat": 4,
 "nbformat_minor": 5
}
