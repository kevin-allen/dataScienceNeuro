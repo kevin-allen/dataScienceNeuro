{
 "cells": [
  {
   "cell_type": "markdown",
   "id": "011fcdb7-0295-4ded-911f-8e9eddf98583",
   "metadata": {},
   "source": [
    "# Machine learning challenge\n",
    "\n",
    "A new paper comes out on speed cells. The authors suggest that the firing rate of speed cells depends on both speed and acceleration. \n",
    "\n",
    "Two factors are influencing the firing rate of the neuron. \n",
    "\n",
    "You would like to create a linear regression model that predict the firing rate of these cells.\n",
    "\n",
    "Your new model is as follows.\n",
    "\n",
    "$rate = speed*w_1 + acceleration*w_2 + b + error$\n",
    "\n",
    "In this model you will have 3 coefficients, $\\theta_0, \\theta_1, \\theta_2$\n"
   ]
  },
  {
   "cell_type": "code",
   "execution_count": 1,
   "id": "3e6ece4b-b15c-4416-8b9f-29bc8fb7d214",
   "metadata": {},
   "outputs": [],
   "source": [
    "import numpy as np\n",
    "import matplotlib.pyplot as plt"
   ]
  },
  {
   "cell_type": "code",
   "execution_count": 2,
   "id": "6d99a645-345b-4fde-9c58-7d8d24e3cf0a",
   "metadata": {},
   "outputs": [],
   "source": [
    "fn = \"../data/animal_acceleration.npy\"\n",
    "acceleration = np.load(fn)"
   ]
  },
  {
   "cell_type": "code",
   "execution_count": 3,
   "id": "5ee1882e-6320-46ea-afb1-a85af03e77e9",
   "metadata": {},
   "outputs": [],
   "source": [
    "fn = \"../data/animal_speed.npy\"\n",
    "speed = np.load(fn)"
   ]
  },
  {
   "cell_type": "code",
   "execution_count": 4,
   "id": "d7abe0e2-2259-498e-9ad5-224e2d35dbe8",
   "metadata": {},
   "outputs": [],
   "source": [
    "fn =  \"../data/y_rate.npy\"\n",
    "rate = np.load(fn)"
   ]
  },
  {
   "cell_type": "markdown",
   "id": "0f407b06-f664-4edf-a4a1-0fea4170c891",
   "metadata": {},
   "source": [
    "Do the following steps\n",
    "\n",
    "1. Use scatter plots to check if there is a linear relationship between speed and rate, and between acceleration and rate.\n",
    "2. Create you matrix `theta` with the 3 parameters of your model\n",
    "3. Create your matrix `X` with the speed and acceleration data. Don't forget the first row of ones.\n",
    "4. Train a model to find the best model parameters to predict the firing rate of the neuron. What are these parameters?\n",
    "5. Plot the original data together with the predicted firing rates from your model."
   ]
  },
  {
   "cell_type": "code",
   "execution_count": null,
   "id": "9d567d3b-dabb-42f9-a679-99cd789b1550",
   "metadata": {},
   "outputs": [],
   "source": []
  },
  {
   "cell_type": "markdown",
   "id": "98337023-7b7c-44e6-a3fb-182b2bcccb51",
   "metadata": {},
   "source": [
    "### Model prediction with matrix multiplication"
   ]
  },
  {
   "cell_type": "markdown",
   "id": "11649ff4-68cb-43cf-a808-afcff42422b3",
   "metadata": {},
   "source": [
    "We used matrix multiplication to make predictions with our model. \n",
    "\n",
    "* We created a matrix with our model coefficients (1,3)\n",
    "* We created a matrix with our speed data (3x27304)\n",
    "\n",
    "\n",
    "$ \\begin{bmatrix} b & w_0 & w_1 \\end{bmatrix} * \\begin{bmatrix} 1 & 1 & 1 & 1 \\\\ speed_0 & speed_1 & speed_2 & speed_3 \\\\ acceleration_0 & acceleration_1 & acceleration_2 & acceleration_3\\end{bmatrix} = \\begin{bmatrix} y_0 & y_1 & y_2 & y_3 \\end{bmatrix}$\n",
    "\n",
    "\n",
    "Each element of y results from $b*1+w_0*speed+w_1*acceleration$, which is our linear model.\n",
    "\n",
    "* The multiplication gives a matrix of shape (1,27304). This matrix contains the prediction of the model for 27304 data point."
   ]
  },
  {
   "cell_type": "code",
   "execution_count": null,
   "id": "1e0f2494-fe55-4147-a20d-9ccd8eab77b0",
   "metadata": {},
   "outputs": [],
   "source": []
  }
 ],
 "metadata": {
  "kernelspec": {
   "display_name": "Python 3",
   "language": "python",
   "name": "python3"
  },
  "language_info": {
   "codemirror_mode": {
    "name": "ipython",
    "version": 3
   },
   "file_extension": ".py",
   "mimetype": "text/x-python",
   "name": "python",
   "nbconvert_exporter": "python",
   "pygments_lexer": "ipython3",
   "version": "3.8.5"
  }
 },
 "nbformat": 4,
 "nbformat_minor": 5
}
