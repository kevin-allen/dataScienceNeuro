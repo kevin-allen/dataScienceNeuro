{
 "cells": [
  {
   "cell_type": "markdown",
   "metadata": {},
   "source": [
    "# Lecture 2, Data science in Neuroscience\n",
    "\n",
    "You can download this Notebook from https://github.com/kevin-allen/dataScienceNeuro\n",
    "\n",
    "\n",
    "## Plan for today\n",
    "\n",
    "1. Review NumPy arrays\n",
    "2. Introduction to machine learning\n",
    "3. Quizz on machine learning\n",
    "4. Simple example of how computers learn from data (linear regression with data from a speed cell).\n",
    "\n",
    "***"
   ]
  },
  {
   "cell_type": "markdown",
   "metadata": {},
   "source": [
    "## Review NumPy arrays"
   ]
  },
  {
   "cell_type": "code",
   "execution_count": 1,
   "metadata": {},
   "outputs": [],
   "source": [
    "import numpy as np"
   ]
  },
  {
   "cell_type": "code",
   "execution_count": 2,
   "metadata": {},
   "outputs": [
    {
     "data": {
      "text/plain": [
       "array([1, 2, 3, 4])"
      ]
     },
     "execution_count": 2,
     "metadata": {},
     "output_type": "execute_result"
    }
   ],
   "source": [
    "a = np.array([1,2,3,4])\n",
    "a"
   ]
  },
  {
   "cell_type": "code",
   "execution_count": 3,
   "metadata": {},
   "outputs": [
    {
     "data": {
      "text/plain": [
       "array([1., 1., 1., 1.])"
      ]
     },
     "execution_count": 3,
     "metadata": {},
     "output_type": "execute_result"
    }
   ],
   "source": [
    "ones = np.ones(4)\n",
    "ones"
   ]
  },
  {
   "cell_type": "markdown",
   "metadata": {},
   "source": [
    "Use `type()` to make sure you are working with a NumPy array."
   ]
  },
  {
   "cell_type": "code",
   "execution_count": 4,
   "metadata": {},
   "outputs": [
    {
     "name": "stdout",
     "output_type": "stream",
     "text": [
      "type: <class 'numpy.ndarray'>\n"
     ]
    }
   ],
   "source": [
    "print(\"type:\",type(a))"
   ]
  },
  {
   "cell_type": "markdown",
   "metadata": {},
   "source": [
    "Then use the 4 attributes (ndim,shape,size,dtype) to know the properties of the array."
   ]
  },
  {
   "cell_type": "code",
   "execution_count": 5,
   "metadata": {},
   "outputs": [
    {
     "name": "stdout",
     "output_type": "stream",
     "text": [
      "ndim: 1\n",
      "shape: (4,)\n",
      "size: 4\n",
      "dtype: int64\n"
     ]
    }
   ],
   "source": [
    "print(\"ndim:\",a.ndim)\n",
    "print(\"shape:\",a.shape)\n",
    "print(\"size:\",a.size)\n",
    "print(\"dtype:\",a.dtype)"
   ]
  },
  {
   "cell_type": "markdown",
   "metadata": {},
   "source": [
    "We can do math with array of the same shape."
   ]
  },
  {
   "cell_type": "code",
   "execution_count": 6,
   "metadata": {},
   "outputs": [
    {
     "data": {
      "text/plain": [
       "((4,), (4,))"
      ]
     },
     "execution_count": 6,
     "metadata": {},
     "output_type": "execute_result"
    }
   ],
   "source": [
    "a.shape,ones.shape"
   ]
  },
  {
   "cell_type": "code",
   "execution_count": 7,
   "metadata": {},
   "outputs": [
    {
     "data": {
      "text/plain": [
       "array([2., 3., 4., 5.])"
      ]
     },
     "execution_count": 7,
     "metadata": {},
     "output_type": "execute_result"
    }
   ],
   "source": [
    "a+ones"
   ]
  },
  {
   "cell_type": "markdown",
   "metadata": {},
   "source": [
    "2D arrays are like Excel sheets or images. "
   ]
  },
  {
   "cell_type": "code",
   "execution_count": 8,
   "metadata": {},
   "outputs": [
    {
     "data": {
      "text/plain": [
       "array([[1, 2]])"
      ]
     },
     "execution_count": 8,
     "metadata": {},
     "output_type": "execute_result"
    }
   ],
   "source": [
    "b = np.array([[1,2]])\n",
    "b"
   ]
  },
  {
   "cell_type": "code",
   "execution_count": 9,
   "metadata": {},
   "outputs": [
    {
     "data": {
      "text/plain": [
       "(1, 2)"
      ]
     },
     "execution_count": 9,
     "metadata": {},
     "output_type": "execute_result"
    }
   ],
   "source": [
    "b.shape"
   ]
  },
  {
   "cell_type": "code",
   "execution_count": 10,
   "metadata": {},
   "outputs": [
    {
     "data": {
      "text/plain": [
       "array([ 0,  1,  2,  3,  4,  5,  6,  7,  8,  9, 10, 11, 12, 13, 14, 15, 16,\n",
       "       17, 18, 19, 20, 21, 22, 23])"
      ]
     },
     "execution_count": 10,
     "metadata": {},
     "output_type": "execute_result"
    }
   ],
   "source": [
    "f = np.arange(24)\n",
    "f"
   ]
  },
  {
   "cell_type": "code",
   "execution_count": 11,
   "metadata": {},
   "outputs": [
    {
     "data": {
      "text/plain": [
       "(24,)"
      ]
     },
     "execution_count": 11,
     "metadata": {},
     "output_type": "execute_result"
    }
   ],
   "source": [
    "f.shape"
   ]
  },
  {
   "cell_type": "code",
   "execution_count": 14,
   "metadata": {},
   "outputs": [
    {
     "data": {
      "text/plain": [
       "array([[ 0,  1],\n",
       "       [ 2,  3],\n",
       "       [ 4,  5],\n",
       "       [ 6,  7],\n",
       "       [ 8,  9],\n",
       "       [10, 11],\n",
       "       [12, 13],\n",
       "       [14, 15],\n",
       "       [16, 17],\n",
       "       [18, 19],\n",
       "       [20, 21],\n",
       "       [22, 23]])"
      ]
     },
     "execution_count": 14,
     "metadata": {},
     "output_type": "execute_result"
    }
   ],
   "source": [
    "f = f.reshape(-1,2)\n",
    "f"
   ]
  },
  {
   "cell_type": "code",
   "execution_count": 15,
   "metadata": {},
   "outputs": [
    {
     "data": {
      "text/plain": [
       "((1, 2), (12, 2))"
      ]
     },
     "execution_count": 15,
     "metadata": {},
     "output_type": "execute_result"
    }
   ],
   "source": [
    "b.shape,f.shape"
   ]
  },
  {
   "cell_type": "markdown",
   "metadata": {},
   "source": [
    "We can do mathematical operations with two arrays that do not have the same shape using **broadcasting**."
   ]
  },
  {
   "cell_type": "markdown",
   "metadata": {},
   "source": [
    "```\n",
    "When operating on two arrays, NumPy compares their shapes element-wise. It starts with the trailing (i.e. rightmost) dimensions and works its way left. Two dimensions are compatible when\n",
    "\n",
    "* they are equal, or\n",
    "* one of them is 1\n",
    "```"
   ]
  },
  {
   "cell_type": "code",
   "execution_count": 16,
   "metadata": {},
   "outputs": [
    {
     "data": {
      "text/plain": [
       "array([[ 1,  3],\n",
       "       [ 3,  5],\n",
       "       [ 5,  7],\n",
       "       [ 7,  9],\n",
       "       [ 9, 11],\n",
       "       [11, 13],\n",
       "       [13, 15],\n",
       "       [15, 17],\n",
       "       [17, 19],\n",
       "       [19, 21],\n",
       "       [21, 23],\n",
       "       [23, 25]])"
      ]
     },
     "execution_count": 16,
     "metadata": {},
     "output_type": "execute_result"
    }
   ],
   "source": [
    "f+b"
   ]
  },
  {
   "cell_type": "markdown",
   "metadata": {},
   "source": [
    "## Introduction to machine learning\n",
    "\n",
    "What is machine learning?\n",
    "\n",
    "\n",
    "**Machine learning is the field of study that gives computers the ability to learn without being explicitly programmed.**\n",
    "\n",
    "**The computer learns from input data to achieve a specific objective.**\n",
    "\n",
    "Examples: \n",
    "\n",
    "* A program learns to identify the nose, ears and tail of a mouse in images (very complex model). \n",
    "* A program learns the linear relationship between the firing rate of a neuron and the running speed of an animal (very simple model).\n"
   ]
  },
  {
   "cell_type": "markdown",
   "metadata": {},
   "source": [
    "## Why should you care about machine learning as a Neuroscientist?\n"
   ]
  },
  {
   "cell_type": "markdown",
   "metadata": {},
   "source": [
    "Machine learning is behind many modern tools used by neuroscients.\n",
    "\n",
    "* [Track behavior with DeepLabCut](https://www.nature.com/articles/s41593-018-0209-y)\n",
    "* [Image segmentation (e.g., cell counting) using a U-Net](https://www.nature.com/articles/s41592-018-0261-2)\n",
    "* [Spike extraction and clustering with Kilosort](https://www.biorxiv.org/content/10.1101/061481v1)\n",
    "\n",
    "These are state-of-the-art software in their respective field.\n",
    "\n",
    "They make new experiments possible. They can discover patterns in your data. They can save you a lot of time (e.g., labeling images)."
   ]
  },
  {
   "cell_type": "markdown",
   "metadata": {},
   "source": [
    "## Objectives for this week\n",
    "\n",
    "* Understand what machine learning is\n",
    "* Get faminiar with the terminology\n",
    "* Experiment with a few examples\n",
    "* Learn to go from a simple math formula to python code\n",
    "* Perform a matrix multiplication using NumPy\n",
    "* Go through the main loop that allows a computer to learn from data"
   ]
  },
  {
   "cell_type": "markdown",
   "metadata": {},
   "source": [
    "***\n",
    "## Definition of machine learning\n",
    "\n",
    "* Input: $X$ (single number or an array)\n",
    "* Output: $Y$ (single number or an array)\n",
    "* Unknown function or model: $f()$\n",
    "* Random error: $\\epsilon$\n",
    "\n",
    "$Y = f(X) + \\epsilon $\n",
    "\n",
    "Machine learning refers to a set of approaches for estimating the best parameters in $f()$"
   ]
  },
  {
   "cell_type": "markdown",
   "metadata": {},
   "source": [
    "$f()$ can be the the equation for a line with 2 parameters or a deep neural network with millions of parameters (GPT-3 has ~175 billion parameters)."
   ]
  },
  {
   "cell_type": "markdown",
   "metadata": {},
   "source": [
    "***\n",
    "## What is learning?\n",
    "\n",
    "Learning can be defined as finding the best model parameters to solve a problem.\n",
    "\n",
    "**Simple example**: Find the relationship between the running speed of an animal ($x$) and the firing rate of a neuron ($y$) with a linear regression model. A linear regression has 2 parameters ($a$ and $b$).\n",
    "\n",
    "$y = a*x + b $\n",
    "\n",
    "**Complex example**: Find a mouse in an image using a deep neural network. We are dealing with millions of parameters.\n",
    "\n",
    "\n",
    "<div>\n",
    "<img src=\"../images/deep-neural-network.png\" width=\"500\"/>\n",
    "</div>\n",
    "\n"
   ]
  },
  {
   "cell_type": "markdown",
   "metadata": {},
   "source": [
    "***\n",
    "# Terminology in machine learning\n"
   ]
  },
  {
   "cell_type": "markdown",
   "metadata": {},
   "source": [
    "***\n",
    "## Supervised versus unsupervised\n",
    "\n",
    "### Supervised\n",
    "* The training set contains **labeled data**.\n",
    "* For each observation of the predictors $X_{i}, i = 1,...,n$ there is a known response measurement $y_{i}$.\n",
    "* Example: linear regression\n",
    "\n",
    "### Unsupervised\n",
    "* Uncovering hidden patterns from unlabeled data.\n",
    "* For each observation $i = 1,...,n$, we observed a vector of measurements $X_{i}$, but no response $y_{i}$.\n",
    "* Examples: PCA and k-means clustering used in lecture 3.\n"
   ]
  },
  {
   "cell_type": "markdown",
   "metadata": {},
   "source": [
    "***\n",
    "## Regression versus classification\n",
    "\n",
    "### Regression\n",
    "\n",
    "* $Y$ is a continuous variable.\n",
    "* We want to predict continuous values (firing rate, temperature, salaries, etc.)\n",
    "\n",
    "### Classification\n",
    "\n",
    "* $Y$ is a categorical variable.\n",
    "* We want to classify cats and dogs in images or we want to classify neurons as excitatory and inhibitory based on their properties (e.g., firing rate).\n"
   ]
  },
  {
   "cell_type": "markdown",
   "metadata": {},
   "source": [
    "***\n",
    "## Training loop\n",
    "\n",
    "Many models are trained using a training loop. In programing language, this is just a `for` loop.\n",
    "\n",
    "At the beginning you initialize the model with random parameters.\n",
    "\n",
    "Then, for each iteration:\n",
    "\n",
    "1. Feed data with labels to your model\n",
    "2. Calculate the error of your model (using a loss function).\n",
    "3. Adjust the model parameters by a small amount to reduce the error.\n",
    "\n",
    "You repeat these 3 steps until the model predicts the data. \n",
    "\n",
    "\n",
    "<div>\n",
    "<img src=\"../images/my_training_loop.png\" width=\"600\"/>\n",
    "</div>\n",
    "\n"
   ]
  },
  {
   "cell_type": "markdown",
   "metadata": {},
   "source": [
    "***\n",
    "## Training and test sets\n",
    "\n",
    "### Training set\n",
    "\n",
    "* The observations (data points) that we use to estimate $f$ (to train our model). \n",
    "\n",
    "### Test set\n",
    "\n",
    "* Observations used to test how accurate our model is. The model has never \"seen\" this data because they are not used during training!\n",
    "\n",
    "* The test set is very important when using complex models with many parameters. Complex models can learn to perform great on your training set but may generalize very poorly to new data. This is called **overfitting**. You can assess whether your model is overfitting using a test set.\n"
   ]
  },
  {
   "cell_type": "markdown",
   "metadata": {},
   "source": [
    "***\n",
    "## Time for a quizz!\n",
    "\n",
    "[Quizz link](https://forms.gle/7UqS3TK2ZAeM7wk77)\n",
    "\n",
    "https://forms.gle/7UqS3TK2ZAeM7wk77\n",
    "\n",
    "You have 7 minutes to complete the questions.\n"
   ]
  },
  {
   "cell_type": "markdown",
   "metadata": {},
   "source": [
    "*** \n",
    "## Linear algebra and machine learning\n",
    "\n",
    "In machine learning, data are stored in vectors and matrices. \n",
    "\n",
    "Models usually take vectors, matrices, or N-dimension arrays as inputs.\n",
    "\n",
    "In **NumPy**, vectors are like 1-dimensional arrays, and matrices are like 2-dimensional arrays.  \n",
    "\n",
    "### Matrix multiplication\n",
    "\n",
    "Machine learning often involves matrix multiplication. Here is what we need to know for today.\n",
    "\n",
    "* In NumPY, the `@` operator is used to compute the matrix product between 2d arrays. Alternatively, use `numpy.matmul()`.\n",
    "\n",
    "* For matrix multiplication, the number of columns in the first matrix must equal the number of rows in the second matrix. \n"
   ]
  },
  {
   "cell_type": "markdown",
   "metadata": {},
   "source": [
    "Here is how a matrix multiplication works.\n",
    "\n",
    "$ \n",
    "a = \\begin{bmatrix}\n",
    "1 & 2 & 3\\\\\n",
    "4 & 5 & 6\n",
    "\\end{bmatrix}\n",
    "$\n",
    "\n",
    "$ \n",
    "b = \\begin{bmatrix}\n",
    "1 \\\\\n",
    "2 \\\\\n",
    "3 \\\\\n",
    "\\end{bmatrix}\n",
    "$\n",
    "\n",
    "$\n",
    "a@b =\n",
    "\\begin{bmatrix}\n",
    "1*1 + 2*2 + 3*3 \\\\\n",
    "4*1 + 5*2 + 6*3  \n",
    "\\end{bmatrix} =\n",
    "\\begin{bmatrix}\n",
    "14 \\\\\n",
    "32  \n",
    "\\end{bmatrix}\n",
    "$"
   ]
  },
  {
   "cell_type": "code",
   "execution_count": 17,
   "metadata": {},
   "outputs": [
    {
     "data": {
      "text/plain": [
       "array([[1, 2, 3],\n",
       "       [4, 5, 6]])"
      ]
     },
     "execution_count": 17,
     "metadata": {},
     "output_type": "execute_result"
    }
   ],
   "source": [
    "a = np.array([[1,2,3],[4,5,6]])\n",
    "a"
   ]
  },
  {
   "cell_type": "code",
   "execution_count": 18,
   "metadata": {},
   "outputs": [
    {
     "data": {
      "text/plain": [
       "(2, 3)"
      ]
     },
     "execution_count": 18,
     "metadata": {},
     "output_type": "execute_result"
    }
   ],
   "source": [
    "a.shape"
   ]
  },
  {
   "cell_type": "code",
   "execution_count": 19,
   "metadata": {},
   "outputs": [
    {
     "data": {
      "text/plain": [
       "array([[1],\n",
       "       [2],\n",
       "       [3]])"
      ]
     },
     "execution_count": 19,
     "metadata": {},
     "output_type": "execute_result"
    }
   ],
   "source": [
    "b = np.array([[1],[2],[3]])\n",
    "b"
   ]
  },
  {
   "cell_type": "code",
   "execution_count": 20,
   "metadata": {},
   "outputs": [
    {
     "data": {
      "text/plain": [
       "(3, 1)"
      ]
     },
     "execution_count": 20,
     "metadata": {},
     "output_type": "execute_result"
    }
   ],
   "source": [
    "b.shape"
   ]
  },
  {
   "cell_type": "code",
   "execution_count": 21,
   "metadata": {},
   "outputs": [
    {
     "data": {
      "text/plain": [
       "array([[14],\n",
       "       [32]])"
      ]
     },
     "execution_count": 21,
     "metadata": {},
     "output_type": "execute_result"
    }
   ],
   "source": [
    "c = a@b\n",
    "c"
   ]
  },
  {
   "cell_type": "code",
   "execution_count": 20,
   "metadata": {},
   "outputs": [
    {
     "data": {
      "text/plain": [
       "(2, 1)"
      ]
     },
     "execution_count": 20,
     "metadata": {},
     "output_type": "execute_result"
    }
   ],
   "source": [
    "c.shape"
   ]
  },
  {
   "cell_type": "markdown",
   "metadata": {},
   "source": [
    "a@b is not the same as b@a."
   ]
  },
  {
   "cell_type": "markdown",
   "metadata": {},
   "source": [
    "This is enough linear algebra for today."
   ]
  },
  {
   "cell_type": "markdown",
   "metadata": {},
   "source": [
    "***\n",
    "# Using machine learning to characterize a speed cell.\n",
    "\n",
    "**Speed cell**: Neuron that increases its firing rate when the animal runs at higher speed. These neurons have been observed in several brain areas, including the medial entorhinal cortex, hippocampus, and visual cortex.\n",
    "\n",
    "[Speed cells in the medial entorhinal cortex (2015) Nature](https://www.nature.com/articles/nature14622)\n",
    "\n",
    "\n",
    "<div>\n",
    "<img src=\"../images/speed_kropff.png\" width=\"800\"/>\n",
    "</div>\n"
   ]
  },
  {
   "cell_type": "markdown",
   "metadata": {},
   "source": [
    "## Our task\n",
    "\n",
    "Write and **train a linear model** that will describe how the firing rate of a neuron is related to the running speed of a mouse.\n",
    "\n",
    "Because we want to understand how machine learning works under the hood, we will do all the steps without using external libraries like scipy, scikit-learn or pytorch.\n",
    "\n"
   ]
  },
  {
   "cell_type": "markdown",
   "metadata": {},
   "source": [
    "## A simulated speed cell\n",
    "\n",
    "To know if our modeling approach is working, it is useful to start with simulated data. The main advantage is that we know the exact parameters that were used when generating the data. If your approach works, it should find the same parameters.\n",
    "\n",
    "* When coding, it is usually a good idea to start with simulated data. Some problems will be easier to fix. You can easily manipulated/change simulated data and assess the effect on your model.\n",
    "* Try to make your simulated data as similar to the real data with which you plan to use the model.\n"
   ]
  },
  {
   "cell_type": "markdown",
   "metadata": {},
   "source": [
    "#### Running speed data from a running mouse"
   ]
  },
  {
   "cell_type": "markdown",
   "metadata": {},
   "source": [
    "We can load speed data from a real experiment with a mouse running in a maze. The file contains the running speed of the mouse as a function of time. The sampling rate was 50 Hz.\n",
    "\n",
    "The duration of the recording is 546 seconds."
   ]
  },
  {
   "cell_type": "code",
   "execution_count": 22,
   "metadata": {},
   "outputs": [],
   "source": [
    "import numpy as np\n",
    "import matplotlib.pyplot as plt"
   ]
  },
  {
   "cell_type": "code",
   "execution_count": 23,
   "metadata": {},
   "outputs": [],
   "source": [
    "fn = \"../data/animal_speed.npy\""
   ]
  },
  {
   "cell_type": "code",
   "execution_count": 26,
   "metadata": {},
   "outputs": [
    {
     "name": "stdout",
     "output_type": "stream",
     "text": [
      "<class 'numpy.ndarray'> 1 (27304,)\n"
     ]
    }
   ],
   "source": [
    "speed = np.load(fn)\n",
    "# get some information about the data just loaded\n",
    "print(type(speed), speed.ndim, speed.shape)"
   ]
  },
  {
   "cell_type": "markdown",
   "metadata": {},
   "source": [
    "Always inspect your data with a few plots"
   ]
  },
  {
   "cell_type": "code",
   "execution_count": 27,
   "metadata": {},
   "outputs": [
    {
     "data": {
      "image/png": "[encoded data removed]",
      "text/plain": [
       "<Figure size 640x480 with 1 Axes>"
      ]
     },
     "metadata": {},
     "output_type": "display_data"
    }
   ],
   "source": [
    "plt.plot(speed)\n",
    "plt.ylabel(\"Speed (cm/sec)\")\n",
    "plt.show()"
   ]
  },
  {
   "cell_type": "markdown",
   "metadata": {},
   "source": [
    "The animal is running between 0 and 40 cm/sec most of the time. This seems reasonable. "
   ]
  },
  {
   "cell_type": "markdown",
   "metadata": {},
   "source": [
    "## Simulation of the firing rate of a neuron \n",
    "\n",
    "We will simulate the firing rate of our neuron and create a linear relationship between running speed and firing rate. \n",
    "\n",
    "Our formula for simulating the firing rate is\n",
    "\n",
    "$rate = speed*w + b + error$\n",
    "\n",
    "The advantage of working with simulated data at this point is that we will know the \"real\" relationship and can test whether our model is able to find it.\n"
   ]
  },
  {
   "cell_type": "code",
   "execution_count": 29,
   "metadata": {},
   "outputs": [],
   "source": [
    "w = 1.25 # parameter 2\n",
    "b = 10 # parameter 1\n",
    "e = np.random.normal(loc=0.0, scale=5, size = speed.shape[0]) # random numbers taken from a normal distribution"
   ]
  },
  {
   "cell_type": "markdown",
   "metadata": {},
   "source": [
    "## Exercise\n",
    "\n",
    "* Generate your simulated firing rates using the formula $rate = speed * w + b + error$.\n",
    "* Plot the results\n",
    "* Are firing rates below zero realistic? What can we do about it?\n"
   ]
  },
  {
   "cell_type": "code",
   "execution_count": 31,
   "metadata": {},
   "outputs": [
    {
     "data": {
      "text/plain": [
       "<matplotlib.collections.PathCollection at 0x7b60bb7479a0>"
      ]
     },
     "execution_count": 31,
     "metadata": {},
     "output_type": "execute_result"
    },
    {
     "data": {
      "image/png": "[encoded data removed]",
      "text/plain": [
       "<Figure size 640x480 with 1 Axes>"
      ]
     },
     "metadata": {},
     "output_type": "display_data"
    }
   ],
   "source": [
    "rate = speed*w + b + e\n",
    "\n",
    "plt.scatter(speed, rate)\n"
   ]
  },
  {
   "cell_type": "markdown",
   "metadata": {},
   "source": [
    "We can use `np.maximum()` to get rid of negative firing rates."
   ]
  },
  {
   "cell_type": "code",
   "execution_count": 32,
   "metadata": {},
   "outputs": [],
   "source": [
    "rate = np.maximum(0, rate)"
   ]
  },
  {
   "cell_type": "code",
   "execution_count": 34,
   "metadata": {},
   "outputs": [
    {
     "data": {
      "text/plain": [
       "np.float64(0.0)"
      ]
     },
     "execution_count": 34,
     "metadata": {},
     "output_type": "execute_result"
    },
    {
     "data": {
      "image/png": "[encoded data removed]",
      "text/plain": [
       "<Figure size 640x480 with 1 Axes>"
      ]
     },
     "metadata": {},
     "output_type": "display_data"
    }
   ],
   "source": [
    "plt.scatter(speed, rate)\n",
    "rate.min()"
   ]
  },
  {
   "cell_type": "markdown",
   "metadata": {},
   "source": [
    "## Our modelling task:\n",
    "\n",
    "Write an algorithm from scratch that will find the best parameters $w$ and $b$ to predict the firing rate of the neuron given the animal running speed.\n",
    "\n",
    "We used a linear regression model $Y = f(X)$, where $X$ is the running speed and $Y$ is the firing rate. Because we generated the data, we know this is a good choice. In reality, you would plot the real data and decide whether a linear model is appropriate.\n",
    "\n",
    "For a linear regression, the model is $Y = Xw + b$\n",
    "\n",
    "In machine learning lingo, $w$ is the weight, and $b$ is the bias.\n",
    "\n",
    "To solve our problem, we ask what parameters $w$ and $b$ best predict the firing rate of the neuron.\n",
    "\n",
    "Because we are working with simulated data, we already know the best parameters, but we want to see if our machine-learning algorithm can estimate them from the data. If we get $w = 1.25$ and $b = 10.0$, we know our method is working. "
   ]
  },
  {
   "cell_type": "markdown",
   "metadata": {},
   "source": [
    "## Possible ways to solve this problem\n",
    "\n",
    "Our problem is a **linear regression** because the output is simply a weighted sum of the inputs plus a constant called the bias term (or intercept).\n",
    "\n",
    "There are many ways to find the best parameters:\n",
    "\n",
    "1. Training loop using Gradient Descent.\n",
    "2. `scipy.stats.linregress`\n",
    "3. `sklearn.linear_model.LinearRegression`\n",
    "\n",
    "\n",
    "Because our goal is to understand machine learning, we will write our own training loop (Option 1)\n"
   ]
  },
  {
   "cell_type": "markdown",
   "metadata": {},
   "source": [
    "## Our linear regression model\n"
   ]
  },
  {
   "cell_type": "markdown",
   "metadata": {},
   "source": [
    "In our simple case, this is the model:\n",
    "\n",
    "$\\hat{y} = \\theta_0 + \\theta_1 * x_1$\n",
    "\n",
    "* $\\hat{y}$ is the prediction of the model.\n",
    "* $\\theta$ is a vector containing our parameters ($b=\\theta_0$ and $w=\\theta_1$). \n",
    "* $x$ is a vector containing our input (running speed).\n",
    "\n",
    "## Using matrix multiplication to calculate $\\hat{y}$\n",
    "\n",
    "We want to be able to calculate this formula for several data points in one go. We can do this using matrix multiplications.\n",
    "\n",
    "$\\theta$ will be represented as a row vector: $\\begin{bmatrix} \\theta_0 & \\theta_1  \\end{bmatrix}$ or $\\begin{bmatrix} b & w \\end{bmatrix}$\n",
    "\n",
    "$x$ will be represented as a column vector. We need add a 1 as $x_0$ and the speed as $x_1$: $\\begin{bmatrix} x_0 \\\\ x_1  \\end{bmatrix}$ or $\\begin{bmatrix} 1 \\\\ speed  \\end{bmatrix}$\n",
    "\n",
    "\n",
    "We can now use matrix multiplication to get our model predictions.\n",
    "\n",
    "$ \\hat{y} =  \\begin{bmatrix} \\theta_0 && \\theta_1 \\end{bmatrix} * \\begin{bmatrix} x_0 \\\\ x_1 \\end{bmatrix} = \\theta_0 * x_0 + \\theta_1 * x_1$\n",
    "\n",
    "or\n",
    "\n",
    "$ \\hat{y} = \\begin{bmatrix} b & w \\end{bmatrix} * \\begin{bmatrix} 1 \\\\ speed \\end{bmatrix} =  b * 1 + w * speed$\n",
    "\n",
    "If first matrix is 1x2 and the second 2x1, this gives a 1x1 output.\n",
    "\n"
   ]
  },
  {
   "cell_type": "markdown",
   "metadata": {},
   "source": [
    "Let's try this out."
   ]
  },
  {
   "cell_type": "code",
   "execution_count": 35,
   "metadata": {},
   "outputs": [
    {
     "name": "stdout",
     "output_type": "stream",
     "text": [
      "theta.shape: (1, 2)\n",
      "theta:\n",
      "[[20.  2.]]\n",
      "\n",
      "x.shape: (2, 1)\n",
      "x:\n",
      "[[ 1.]\n",
      " [10.]]\n",
      "\n",
      "y.shape: (1, 1)\n",
      "y:\n",
      "[[40.]]\n"
     ]
    }
   ],
   "source": [
    "theta = np.array([[20.0,2.0]]) # 1by2 matrix, random guess of the 2 model parameters (b and w)\n",
    "print(\"theta.shape:\",theta.shape)\n",
    "print(\"theta:\")\n",
    "print(theta)\n",
    "print()\n",
    "\n",
    "x = np.array([[1.0],[10.0]]) # 2x1 matrix, 1 data point, 1 and speed\n",
    "print(\"x.shape:\",x.shape)\n",
    "print(\"x:\")\n",
    "print(x)\n",
    "print()\n",
    "\n",
    "# dot product of 2 vectors, for cleaner code\n",
    "y = theta@x # matrix multiplication with numpy, you can also use np.matmul\n",
    "print(\"y.shape:\",y.shape)\n",
    "print(\"y:\")\n",
    "print(y)\n"
   ]
  },
  {
   "cell_type": "markdown",
   "metadata": {},
   "source": [
    "### Why using matrix multiplications makes sense?\n",
    "\n",
    "The beauty of working with matrix multiplications is that we can work with several data points at the same time.\n",
    "\n",
    "\n",
    "$ \\begin{bmatrix} b & w \\end{bmatrix} * \\begin{bmatrix} 1 & 1 & 1 & 1 \\\\ speed_0 & speed_1 & speed_2 & speed_3 \\end{bmatrix} = \\begin{bmatrix} y_0 & y_1 & y_2 & y_3 \\end{bmatrix}$\n",
    "\n",
    "\n",
    "Each element of y results from $b*1+w*speed$, which is our linear model."
   ]
  },
  {
   "cell_type": "code",
   "execution_count": 36,
   "metadata": {},
   "outputs": [
    {
     "name": "stdout",
     "output_type": "stream",
     "text": [
      "theta shape: (1, 2)\n",
      "theta:\n",
      "[[0. 3.]]\n",
      "\n",
      "x shape: (2, 3)\n",
      "x:\n",
      "[[ 1.  1.  1.]\n",
      " [10. 15. 20.]]\n",
      "\n",
      "y.shape: (1, 3)\n",
      "y:\n",
      "[[30. 45. 60.]]\n"
     ]
    }
   ],
   "source": [
    "# example in which we would have 3 speed input\n",
    "\n",
    "theta = np.array([[0.0,3.0]]) # random guess of the 2 model parameters, same as above\n",
    "print(\"theta shape:\",theta.shape)\n",
    "print(\"theta:\")\n",
    "print(theta)\n",
    "print()\n",
    "\n",
    "x = np.array([[1,1,1], # x_0\n",
    "             [10.0,15,20]]) # x_1\n",
    "print(\"x shape:\",x.shape)\n",
    "print(\"x:\")\n",
    "print(x)\n",
    "print()\n",
    "\n",
    "y = theta@x # make prediction\n",
    "print(\"y.shape:\",y.shape)\n",
    "print(\"y:\")\n",
    "print(y)"
   ]
  },
  {
   "cell_type": "markdown",
   "metadata": {},
   "source": [
    "In summary, we can use `theta@x` to predict the firing rate of the neuron.\n",
    "\n",
    "When we train our model, we will modify the values in $\\theta$ in order to improve our predictions.\n",
    "\n",
    "We can now put our 27304 data points in the 2D array $x$. The first row is always 1s."
   ]
  },
  {
   "cell_type": "code",
   "execution_count": 37,
   "metadata": {},
   "outputs": [
    {
     "data": {
      "text/plain": [
       "27304"
      ]
     },
     "execution_count": 37,
     "metadata": {},
     "output_type": "execute_result"
    }
   ],
   "source": [
    "speed.shape[0]"
   ]
  },
  {
   "cell_type": "code",
   "execution_count": 38,
   "metadata": {},
   "outputs": [
    {
     "data": {
      "text/plain": [
       "(2, 27304)"
      ]
     },
     "execution_count": 38,
     "metadata": {},
     "output_type": "execute_result"
    }
   ],
   "source": [
    "X = np.ones((2,speed.shape[0]))  # make a 2 rows array with ones in the first row and speed in the second row\n",
    "X.shape"
   ]
  },
  {
   "cell_type": "code",
   "execution_count": 31,
   "metadata": {},
   "outputs": [
    {
     "data": {
      "text/plain": [
       "array([1., 1., 1., ..., 1., 1., 1.])"
      ]
     },
     "execution_count": 31,
     "metadata": {},
     "output_type": "execute_result"
    }
   ],
   "source": [
    "X[1,:]"
   ]
  },
  {
   "cell_type": "code",
   "execution_count": 32,
   "metadata": {},
   "outputs": [
    {
     "data": {
      "text/plain": [
       "array([16.56109922, 18.39592726, 14.97058294, ..., 26.68191607,\n",
       "       26.41183643, 26.29908668])"
      ]
     },
     "execution_count": 32,
     "metadata": {},
     "output_type": "execute_result"
    }
   ],
   "source": [
    "speed"
   ]
  },
  {
   "cell_type": "code",
   "execution_count": 39,
   "metadata": {},
   "outputs": [
    {
     "name": "stdout",
     "output_type": "stream",
     "text": [
      "[[ 1.          1.          1.         ...  1.          1.\n",
      "   1.        ]\n",
      " [16.56109922 18.39592726 14.97058294 ... 26.68191607 26.41183643\n",
      "  26.29908668]]\n",
      "X.shape: (2, 27304)\n"
     ]
    }
   ],
   "source": [
    "X[1,:] = speed\n",
    "print(X)\n",
    "print(\"X.shape:\",X.shape)"
   ]
  },
  {
   "cell_type": "code",
   "execution_count": 40,
   "metadata": {},
   "outputs": [
    {
     "data": {
      "text/plain": [
       "array([[0., 3.]])"
      ]
     },
     "execution_count": 40,
     "metadata": {},
     "output_type": "execute_result"
    }
   ],
   "source": [
    "theta"
   ]
  },
  {
   "cell_type": "code",
   "execution_count": 35,
   "metadata": {},
   "outputs": [
    {
     "data": {
      "text/plain": [
       "(1, 2)"
      ]
     },
     "execution_count": 35,
     "metadata": {},
     "output_type": "execute_result"
    }
   ],
   "source": [
    "theta.shape"
   ]
  },
  {
   "cell_type": "code",
   "execution_count": 41,
   "metadata": {},
   "outputs": [
    {
     "data": {
      "text/plain": [
       "(1, 27304)"
      ]
     },
     "execution_count": 41,
     "metadata": {},
     "output_type": "execute_result"
    }
   ],
   "source": [
    "yhat = theta@X # prediction of the model\n",
    "yhat.shape"
   ]
  },
  {
   "cell_type": "code",
   "execution_count": 42,
   "metadata": {},
   "outputs": [
    {
     "data": {
      "text/plain": [
       "array([[49.68329766, 55.18778178, 44.91174883, ..., 80.04574821,\n",
       "        79.2355093 , 78.89726005]])"
      ]
     },
     "execution_count": 42,
     "metadata": {},
     "output_type": "execute_result"
    }
   ],
   "source": [
    "yhat"
   ]
  },
  {
   "cell_type": "markdown",
   "metadata": {},
   "source": [
    "This is how the first number was obtained."
   ]
  },
  {
   "cell_type": "code",
   "execution_count": 43,
   "metadata": {},
   "outputs": [
    {
     "data": {
      "text/plain": [
       "49.683297659999994"
      ]
     },
     "execution_count": 43,
     "metadata": {},
     "output_type": "execute_result"
    }
   ],
   "source": [
    "0.0*1 + 3*16.56109922"
   ]
  },
  {
   "cell_type": "markdown",
   "metadata": {},
   "source": [
    "We just predicted the firing rate from our models for 27304 data points."
   ]
  },
  {
   "cell_type": "code",
   "execution_count": 44,
   "metadata": {},
   "outputs": [
    {
     "data": {
      "image/png": "[encoded data removed]",
      "text/plain": [
       "<Figure size 640x480 with 1 Axes>"
      ]
     },
     "metadata": {},
     "output_type": "display_data"
    }
   ],
   "source": [
    "plt.scatter(speed,rate,label=\"Data\")\n",
    "plt.scatter(speed,yhat,label=\"Untrained Model\")\n",
    "plt.title(\"Predictions of untrained model\")\n",
    "plt.xlabel(\"Speed (cm/sec)\")\n",
    "plt.ylabel(\"Firing rate (Hz)\")\n",
    "plt.legend()\n",
    "plt.show()"
   ]
  },
  {
   "cell_type": "code",
   "execution_count": 44,
   "metadata": {},
   "outputs": [],
   "source": [
    "untrained_yhat=yhat"
   ]
  },
  {
   "cell_type": "markdown",
   "metadata": {},
   "source": [
    "Our untrained models is a pretty bad predictor of the firing rate of the neuron.\n",
    "\n",
    "Let's try to improve this."
   ]
  }
 ],
 "metadata": {
  "kernelspec": {
   "display_name": ".venv",
   "language": "python",
   "name": "python3"
  },
  "language_info": {
   "codemirror_mode": {
    "name": "ipython",
    "version": 3
   },
   "file_extension": ".py",
   "mimetype": "text/x-python",
   "name": "python",
   "nbconvert_exporter": "python",
   "pygments_lexer": "ipython3",
   "version": "3.10.12"
  }
 },
 "nbformat": 4,
 "nbformat_minor": 4
}
