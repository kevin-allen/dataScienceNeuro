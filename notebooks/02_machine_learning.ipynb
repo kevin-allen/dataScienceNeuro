{
 "cells": [
  {
   "cell_type": "markdown",
   "metadata": {},
   "source": [
    "# Lecture 2, Data science in Neuroscience\n",
    "\n",
    "\n",
    "## Plan for today\n",
    "\n",
    "1. Review NumPy arrays\n",
    "2. Introduction to machine learning\n",
    "3. Quizz on machine learning\n",
    "4. Simple example of how computers learn from data (linear regression with data from a speed cell).\n",
    "\n",
    "***"
   ]
  },
  {
   "cell_type": "markdown",
   "metadata": {},
   "source": [
    "## Review NumPy arrays"
   ]
  },
  {
   "cell_type": "code",
   "execution_count": 2,
   "metadata": {},
   "outputs": [],
   "source": [
    "import numpy as np"
   ]
  },
  {
   "cell_type": "code",
   "execution_count": 3,
   "metadata": {},
   "outputs": [
    {
     "data": {
      "text/plain": [
       "array([1, 2, 3, 4])"
      ]
     },
     "execution_count": 3,
     "metadata": {},
     "output_type": "execute_result"
    }
   ],
   "source": [
    "a = np.array([1,2,3,4])\n",
    "a"
   ]
  },
  {
   "cell_type": "code",
   "execution_count": 4,
   "metadata": {},
   "outputs": [
    {
     "data": {
      "text/plain": [
       "array([1., 1., 1., 1.])"
      ]
     },
     "execution_count": 4,
     "metadata": {},
     "output_type": "execute_result"
    }
   ],
   "source": [
    "ones = np.ones(4)\n",
    "ones"
   ]
  },
  {
   "cell_type": "markdown",
   "metadata": {},
   "source": [
    "Use `type()` to make sure you are working with a NumPy array."
   ]
  },
  {
   "cell_type": "code",
   "execution_count": 5,
   "metadata": {},
   "outputs": [
    {
     "name": "stdout",
     "output_type": "stream",
     "text": [
      "type: <class 'numpy.ndarray'>\n"
     ]
    }
   ],
   "source": [
    "print(\"type:\",type(a))"
   ]
  },
  {
   "cell_type": "markdown",
   "metadata": {},
   "source": [
    "Then use the 4 attributes (ndim,shape,size,dtype) to know the properties of the array."
   ]
  },
  {
   "cell_type": "code",
   "execution_count": 6,
   "metadata": {},
   "outputs": [
    {
     "name": "stdout",
     "output_type": "stream",
     "text": [
      "ndim: 1\n",
      "shape: (4,)\n",
      "size: 4\n",
      "dtype: int64\n"
     ]
    }
   ],
   "source": [
    "print(\"ndim:\",a.ndim)\n",
    "print(\"shape:\",a.shape)\n",
    "print(\"size:\",a.size)\n",
    "print(\"dtype:\",a.dtype)"
   ]
  },
  {
   "cell_type": "markdown",
   "metadata": {},
   "source": [
    "We can do math with array of the same shape."
   ]
  },
  {
   "cell_type": "code",
   "execution_count": 8,
   "metadata": {},
   "outputs": [
    {
     "data": {
      "text/plain": [
       "((4,), (4,))"
      ]
     },
     "execution_count": 8,
     "metadata": {},
     "output_type": "execute_result"
    }
   ],
   "source": [
    "a.shape,ones.shape"
   ]
  },
  {
   "cell_type": "code",
   "execution_count": 9,
   "metadata": {},
   "outputs": [
    {
     "data": {
      "text/plain": [
       "array([2., 3., 4., 5.])"
      ]
     },
     "execution_count": 9,
     "metadata": {},
     "output_type": "execute_result"
    }
   ],
   "source": [
    "a+ones"
   ]
  },
  {
   "cell_type": "markdown",
   "metadata": {},
   "source": [
    "2D arrays are like Excel sheets or images. "
   ]
  },
  {
   "cell_type": "code",
   "execution_count": 23,
   "metadata": {},
   "outputs": [
    {
     "data": {
      "text/plain": [
       "array([[1, 2]])"
      ]
     },
     "execution_count": 23,
     "metadata": {},
     "output_type": "execute_result"
    }
   ],
   "source": [
    "b = np.array([[1,2]])\n",
    "b"
   ]
  },
  {
   "cell_type": "code",
   "execution_count": 24,
   "metadata": {},
   "outputs": [
    {
     "data": {
      "text/plain": [
       "(1, 2)"
      ]
     },
     "execution_count": 24,
     "metadata": {},
     "output_type": "execute_result"
    }
   ],
   "source": [
    "b.shape"
   ]
  },
  {
   "cell_type": "code",
   "execution_count": 25,
   "metadata": {},
   "outputs": [
    {
     "data": {
      "text/plain": [
       "array([ 0,  1,  2,  3,  4,  5,  6,  7,  8,  9, 10, 11, 12, 13, 14, 15, 16,\n",
       "       17, 18, 19, 20, 21, 22, 23])"
      ]
     },
     "execution_count": 25,
     "metadata": {},
     "output_type": "execute_result"
    }
   ],
   "source": [
    "f = np.arange(24)\n",
    "f"
   ]
  },
  {
   "cell_type": "code",
   "execution_count": 26,
   "metadata": {},
   "outputs": [
    {
     "data": {
      "text/plain": [
       "(24,)"
      ]
     },
     "execution_count": 26,
     "metadata": {},
     "output_type": "execute_result"
    }
   ],
   "source": [
    "f.shape"
   ]
  },
  {
   "cell_type": "code",
   "execution_count": 29,
   "metadata": {},
   "outputs": [
    {
     "data": {
      "text/plain": [
       "array([[ 0,  1],\n",
       "       [ 2,  3],\n",
       "       [ 4,  5],\n",
       "       [ 6,  7],\n",
       "       [ 8,  9],\n",
       "       [10, 11],\n",
       "       [12, 13],\n",
       "       [14, 15],\n",
       "       [16, 17],\n",
       "       [18, 19],\n",
       "       [20, 21],\n",
       "       [22, 23]])"
      ]
     },
     "execution_count": 29,
     "metadata": {},
     "output_type": "execute_result"
    }
   ],
   "source": [
    "f = f.reshape(-1,2)\n",
    "f"
   ]
  },
  {
   "cell_type": "code",
   "execution_count": 30,
   "metadata": {},
   "outputs": [
    {
     "data": {
      "text/plain": [
       "((1, 2), (12, 2))"
      ]
     },
     "execution_count": 30,
     "metadata": {},
     "output_type": "execute_result"
    }
   ],
   "source": [
    "b.shape,f.shape"
   ]
  },
  {
   "cell_type": "markdown",
   "metadata": {},
   "source": [
    "We can do mathematical operations with two arrays that do not have the same shape using **broadcasting**."
   ]
  },
  {
   "cell_type": "markdown",
   "metadata": {},
   "source": [
    "```\n",
    "When operating on two arrays, NumPy compares their shapes element-wise. It starts with the trailing (i.e. rightmost) dimensions and works its way left. Two dimensions are compatible when\n",
    "\n",
    "* they are equal, or\n",
    "* one of them is 1\n",
    "```"
   ]
  },
  {
   "cell_type": "code",
   "execution_count": 28,
   "metadata": {},
   "outputs": [
    {
     "data": {
      "text/plain": [
       "array([[ 1,  3],\n",
       "       [ 3,  5],\n",
       "       [ 5,  7],\n",
       "       [ 7,  9],\n",
       "       [ 9, 11],\n",
       "       [11, 13],\n",
       "       [13, 15],\n",
       "       [15, 17],\n",
       "       [17, 19],\n",
       "       [19, 21],\n",
       "       [21, 23],\n",
       "       [23, 25]])"
      ]
     },
     "execution_count": 28,
     "metadata": {},
     "output_type": "execute_result"
    }
   ],
   "source": [
    "f+b"
   ]
  },
  {
   "cell_type": "markdown",
   "metadata": {},
   "source": [
    "## Introduction to machine learning\n",
    "\n",
    "What is machine learning?\n",
    "\n",
    "\n",
    "**Machine learning is the field of study that gives computers the ability to learn without being explicitly programmed.**\n",
    "\n",
    "**The computer learns from input data to achieve a specific objective.**\n",
    "\n",
    "Examples: \n",
    "\n",
    "* A program learns to identify the nose, ears and tail of a mouse in images (very complex model). \n",
    "* A program learns the linear relationship between the firing rate of a neuron and the running speed of an animal (very simple model).\n"
   ]
  },
  {
   "cell_type": "markdown",
   "metadata": {},
   "source": [
    "## Why should you care about machine learning as a Neuroscientist?\n"
   ]
  },
  {
   "cell_type": "markdown",
   "metadata": {},
   "source": [
    "Machine learning is behind many modern tools used by neuroscients.\n",
    "\n",
    "* [Track behavior with DeepLabCut](https://www.nature.com/articles/s41593-018-0209-y)\n",
    "* [Image segmentation (e.g., cell counting) using a U-Net](https://www.nature.com/articles/s41592-018-0261-2)\n",
    "* [Spike extraction and clustering with Kilosort](https://www.biorxiv.org/content/10.1101/061481v1)\n",
    "\n",
    "These are state-of-the-art software in their respective field.\n",
    "\n",
    "They make new experiments possible. They can discover patterns in your data. They can save you a lot of time (e.g., labeling images)."
   ]
  },
  {
   "cell_type": "markdown",
   "metadata": {},
   "source": [
    "## Objectives for this week\n",
    "\n",
    "* Understand what machine learning is\n",
    "* Get faminiar with the terminology\n",
    "* Experiment with a few examples\n",
    "* Learn to go from a simple math formula to python code\n",
    "* Perform a matrix multiplication using NumPy\n",
    "* Go through the main loop that allows a computer to learn from data"
   ]
  },
  {
   "cell_type": "markdown",
   "metadata": {},
   "source": [
    "***\n",
    "## Definition of machine learning\n",
    "\n",
    "* Input: $X$ (single number or an array)\n",
    "* Output: $Y$ (single number or an array)\n",
    "* Unknown function or model: $f()$\n",
    "* Random error: $\\epsilon$\n",
    "\n",
    "$Y = f(X) + \\epsilon $\n",
    "\n",
    "Machine learning refers to a set of approaches for estimating the best parameters in $f()$"
   ]
  },
  {
   "cell_type": "markdown",
   "metadata": {},
   "source": [
    "$f()$ can be the the equation for a line with 2 parameters or a deep neural network with millions of parameters."
   ]
  },
  {
   "cell_type": "markdown",
   "metadata": {},
   "source": [
    "***\n",
    "## What is learning?\n",
    "\n",
    "Learning can be defined as finding the best model parameters to solve a problem.\n",
    "\n",
    "**Simple example**: Find the relationship between the running speed of an animal ($x$) and the firing rate of a neuron ($y$) with a linear regression model. A linear regression has 2 parameters ($a$ and $b$).\n",
    "\n",
    "$y = a*x + b $\n",
    "\n",
    "**Complex example**: Find a mouse in an image using a deep neural network. We are dealing with millions of parameters.\n",
    "\n",
    "\n",
    "<div>\n",
    "<img src=\"../images/deep-neural-network.png\" width=\"500\"/>\n",
    "</div>\n",
    "\n"
   ]
  },
  {
   "cell_type": "markdown",
   "metadata": {},
   "source": [
    "***\n",
    "# Terminology in machine learning\n",
    "\n",
    "## Prediction versus inference\n",
    "\n",
    "Why do we want to estimate $f$?\n",
    "\n",
    "\n",
    "### Prediction\n",
    "\n",
    "* We focus on predicting $Y$.\n",
    "* $f$ is treated as a black box. We don't care about the model, as long as it works.\n",
    "\n",
    "### Inference\n",
    "\n",
    "* **Understand** a phenomena by modelling it.\n",
    "* Which predictors are associated with the response?\n",
    "* Is the relation between $Y$ and each predictor adequately summarized using a linear equation?\n"
   ]
  },
  {
   "cell_type": "markdown",
   "metadata": {},
   "source": [
    "***\n",
    "## Supervised versus unsupervised\n",
    "\n",
    "### Supervised\n",
    "* The training set contains **labeled data**.\n",
    "* For each observation of the predictors $X_{i}, i = 1,...,n$ there is a known response measurement $y_{i}$.\n",
    "* Example: linear regression\n",
    "\n",
    "### Unsupervised\n",
    "* Uncovering hidden patterns from unlabeled data.\n",
    "* For each observation $i = 1,...,n$, we observed a vector of measurements $X_{i}$, but no response $y_{i}$.\n",
    "* Examples: PCA and k-means clustering used in lecture 3.\n"
   ]
  },
  {
   "cell_type": "markdown",
   "metadata": {},
   "source": [
    "***\n",
    "## Regression versus classification\n",
    "\n",
    "### Regression\n",
    "\n",
    "* $Y$ is a continuous variable.\n",
    "* We want to predict continuous values (firing rate, temperature, salaries, etc.)\n",
    "\n",
    "### Classification\n",
    "\n",
    "* $Y$ is a categorical variable.\n",
    "* We want to classify cats and dogs in images or we want to classify neurons as excitatory and inhibitory based on their properties (e.g., firing rate).\n"
   ]
  },
  {
   "cell_type": "markdown",
   "metadata": {},
   "source": [
    "***\n",
    "## Training loop\n",
    "\n",
    "Many models are trained using a training loop. In programing language, this is just a `for` loop.\n",
    "\n",
    "At the beginning you initialize the model with random parameters.\n",
    "\n",
    "Then, for each iteration:\n",
    "\n",
    "1. Feed data with labels to your model\n",
    "2. Calculate the error of your model (using a loss function).\n",
    "3. Adjust the model parameters by a small amount to reduce the error.\n",
    "\n",
    "You repeat these 3 steps until the model predicts the data. \n",
    "\n",
    "\n",
    "<div>\n",
    "<img src=\"../images/my_training_loop.png\" width=\"600\"/>\n",
    "</div>\n",
    "\n"
   ]
  },
  {
   "cell_type": "markdown",
   "metadata": {},
   "source": [
    "***\n",
    "## Training and test sets\n",
    "\n",
    "### Training set\n",
    "\n",
    "* The observations (data points) that we use to estimate $f$ (to train our model). \n",
    "\n",
    "### Test set\n",
    "\n",
    "* Observations used to test how accurate our model is. The model has never \"seen\" this data because they are not used during training!\n",
    "\n",
    "* The test set is very important when using complex models with many parameters. Complex models can learn to perform great on your training set but may generalize very poorly to new data. This is called **overfitting**. You can assess whether your model is overfitting using a test set.\n"
   ]
  },
  {
   "cell_type": "markdown",
   "metadata": {},
   "source": [
    "***\n",
    "## Time for a quizz!\n",
    "\n",
    "[Quizz link](https://forms.gle/SPvgZEH63Lpa8Uyn8)\n",
    "\n",
    "https://forms.gle/SPvgZEH63Lpa8Uyn8\n",
    "\n",
    "You have 7 minutes to complete the questions.\n"
   ]
  },
  {
   "cell_type": "markdown",
   "metadata": {},
   "source": [
    "*** \n",
    "## Linear algebra and machine learning\n",
    "\n",
    "In machine learning, data are stored in vectors and matrices. \n",
    "\n",
    "Models usually take vectors, matrices, or N-dimension arrays as inputs.\n",
    "\n",
    "In **NumPy**, vectors are like 1-dimensional arrays, and matrices are like 2-dimensional arrays.  \n",
    "\n",
    "### Matrix multiplication\n",
    "\n",
    "Machine learning often involves matrix multiplication. Here is what we need to know for today.\n",
    "\n",
    "* In NumPY, the `@` operator is used to compute the matrix product between 2d arrays. Alternatively, use `numpy.matmul()`.\n",
    "\n",
    "* For matrix multiplication, the number of columns in the first matrix must equal the number of rows in the second matrix. \n"
   ]
  },
  {
   "cell_type": "markdown",
   "metadata": {},
   "source": [
    "Here is how a matrix multiplication works.\n",
    "\n",
    "$ \n",
    "a = \\begin{bmatrix}\n",
    "1 & 2 & 3\\\\\n",
    "4 & 5 & 6\n",
    "\\end{bmatrix}\n",
    "$\n",
    "\n",
    "$ \n",
    "b = \\begin{bmatrix}\n",
    "1 \\\\\n",
    "2 \\\\\n",
    "3 \\\\\n",
    "\\end{bmatrix}\n",
    "$\n",
    "\n",
    "$\n",
    "a@b =\n",
    "\\begin{bmatrix}\n",
    "1*1 + 2*2 + 3*3 \\\\\n",
    "4*1 + 5*2 + 6*3  \n",
    "\\end{bmatrix}\n",
    "$"
   ]
  },
  {
   "cell_type": "code",
   "execution_count": 50,
   "metadata": {},
   "outputs": [
    {
     "data": {
      "text/plain": [
       "array([[1, 2, 3],\n",
       "       [4, 5, 6]])"
      ]
     },
     "execution_count": 50,
     "metadata": {},
     "output_type": "execute_result"
    }
   ],
   "source": [
    "a = np.array([[1,2,3],[4,5,6]])\n",
    "a"
   ]
  },
  {
   "cell_type": "code",
   "execution_count": 51,
   "metadata": {},
   "outputs": [
    {
     "data": {
      "text/plain": [
       "(2, 3)"
      ]
     },
     "execution_count": 51,
     "metadata": {},
     "output_type": "execute_result"
    }
   ],
   "source": [
    "a.shape"
   ]
  },
  {
   "cell_type": "code",
   "execution_count": 52,
   "metadata": {},
   "outputs": [
    {
     "data": {
      "text/plain": [
       "array([[1],\n",
       "       [2],\n",
       "       [3]])"
      ]
     },
     "execution_count": 52,
     "metadata": {},
     "output_type": "execute_result"
    }
   ],
   "source": [
    "b = np.array([[1],[2],[3]])\n",
    "b"
   ]
  },
  {
   "cell_type": "code",
   "execution_count": 53,
   "metadata": {},
   "outputs": [
    {
     "data": {
      "text/plain": [
       "(3, 1)"
      ]
     },
     "execution_count": 53,
     "metadata": {},
     "output_type": "execute_result"
    }
   ],
   "source": [
    "b.shape"
   ]
  },
  {
   "cell_type": "code",
   "execution_count": 54,
   "metadata": {},
   "outputs": [
    {
     "data": {
      "text/plain": [
       "array([[14],\n",
       "       [32]])"
      ]
     },
     "execution_count": 54,
     "metadata": {},
     "output_type": "execute_result"
    }
   ],
   "source": [
    "c = a@b\n",
    "c"
   ]
  },
  {
   "cell_type": "code",
   "execution_count": 55,
   "metadata": {},
   "outputs": [
    {
     "data": {
      "text/plain": [
       "(2, 1)"
      ]
     },
     "execution_count": 55,
     "metadata": {},
     "output_type": "execute_result"
    }
   ],
   "source": [
    "c.shape"
   ]
  },
  {
   "cell_type": "markdown",
   "metadata": {},
   "source": [
    "a@b is not the same as b@a."
   ]
  },
  {
   "cell_type": "markdown",
   "metadata": {},
   "source": [
    "This is enough linear algebra for today."
   ]
  },
  {
   "cell_type": "markdown",
   "metadata": {},
   "source": [
    "***\n",
    "# Using machine learning to characterize a speed cell.\n",
    "\n",
    "**Speed cell**: Neuron that increases its firing rate when the animal runs at higher speed. These neurons have been observed in several brain areas, including the medial entorhinal cortex, hippocampus, and visual cortex.\n",
    "\n",
    "[Speed cells in the medial entorhinal cortex (2015) Nature](https://www.nature.com/articles/nature14622)\n",
    "\n",
    "\n",
    "<div>\n",
    "<img src=\"../images/speed_kropff.png\" width=\"800\"/>\n",
    "</div>\n"
   ]
  },
  {
   "cell_type": "markdown",
   "metadata": {},
   "source": [
    "## Our task\n",
    "\n",
    "Write and **train a linear model** that will describe how the firing rate of a neuron is related to the running speed of a mouse.\n",
    "\n",
    "Because we want to understand how machine learning works under the hood, we will do all the steps without using external libraries like scipy, scikit-learn or pytorch.\n",
    "\n"
   ]
  },
  {
   "cell_type": "markdown",
   "metadata": {},
   "source": [
    "## A simulated speed cell\n",
    "\n",
    "To know if our modeling approach is working, it is useful to start with simulated data. The main advantage is that we know the exact parameters that were used when generating the data. If your approach works, it should find the same parameters.\n",
    "\n",
    "* When coding, it is usually a good idea to start with simulated data. Some problems will be easier to fix. You can easily manipulated/change simulated data and assess the effect on your model.\n",
    "* Try to make your simulated data as similar as the real data with which you plan to use the model.\n"
   ]
  },
  {
   "cell_type": "markdown",
   "metadata": {},
   "source": [
    "#### Running speed data from a running mouse"
   ]
  },
  {
   "cell_type": "markdown",
   "metadata": {},
   "source": [
    "We can load speed data from a real experiment with a mouse running in a maze. The file contains the running speed of the mouse as a function of time. The sampling rate was 50 Hz.\n",
    "\n",
    "The duration of the recording is 546 seconds."
   ]
  },
  {
   "cell_type": "code",
   "execution_count": 145,
   "metadata": {},
   "outputs": [],
   "source": [
    "import numpy as np\n",
    "import matplotlib.pyplot as plt"
   ]
  },
  {
   "cell_type": "code",
   "execution_count": 146,
   "metadata": {},
   "outputs": [],
   "source": [
    "fn = \"../data/animal_speed.npy\""
   ]
  },
  {
   "cell_type": "code",
   "execution_count": 147,
   "metadata": {},
   "outputs": [
    {
     "name": "stdout",
     "output_type": "stream",
     "text": [
      "<class 'numpy.ndarray'> 1 (27304,)\n"
     ]
    }
   ],
   "source": [
    "speed = np.load(fn)\n",
    "# get some information about the data just loaded\n",
    "print(type(speed), speed.ndim, speed.shape)"
   ]
  },
  {
   "cell_type": "markdown",
   "metadata": {},
   "source": [
    "Always inspect your data with a few plots"
   ]
  },
  {
   "cell_type": "code",
   "execution_count": 148,
   "metadata": {},
   "outputs": [
    {
     "data": {
      "image/png": "[encoded data removed]",
      "text/plain": [
       "<Figure size 640x480 with 1 Axes>"
      ]
     },
     "metadata": {},
     "output_type": "display_data"
    }
   ],
   "source": [
    "plt.plot(speed)\n",
    "plt.ylabel(\"Speed (cm/sec)\")\n",
    "plt.show()"
   ]
  },
  {
   "cell_type": "markdown",
   "metadata": {},
   "source": [
    "The animal is running between 0 and 40 cm/sec most of the time. This seems reasonable. "
   ]
  },
  {
   "cell_type": "markdown",
   "metadata": {},
   "source": [
    "## Simulation of the firing rate of a neuron \n",
    "\n",
    "We will simulate the firing rate of our neuron and create a linear relationship between running speed and firing rate. \n",
    "\n",
    "Our formula for simulating the firing rate is\n",
    "\n",
    "$rate = speed*w + b + error$\n",
    "\n",
    "The advantage of working with simulated data at this point is that we will know the \"real\" relationship and can test whether our model is able to find it.\n"
   ]
  },
  {
   "cell_type": "code",
   "execution_count": 149,
   "metadata": {},
   "outputs": [],
   "source": [
    "w = 1.25 # parameter 2\n",
    "b = 10 # parameter 1\n",
    "e = np.random.normal(loc=0.0, scale=5, size = speed.shape[0]) # random numbers taken from a normal distribution"
   ]
  },
  {
   "cell_type": "markdown",
   "metadata": {},
   "source": [
    "## Exercise\n",
    "\n",
    "* Generate your simulated firing rates using the formula $rate = speed * w + b + error$.\n",
    "* Plot the results\n",
    "* Are firing rates below zero realistic? What can we do about it?\n"
   ]
  },
  {
   "cell_type": "code",
   "execution_count": null,
   "metadata": {},
   "outputs": [],
   "source": []
  },
  {
   "cell_type": "markdown",
   "metadata": {},
   "source": [
    "We can use `np.maximum()` to get rid of negative firing rates."
   ]
  },
  {
   "cell_type": "markdown",
   "metadata": {},
   "source": [
    "## Our modelling task:\n",
    "\n",
    "Write an algorithm from scratch that will find the best parameters $w$ and $b$ to predict the firing rate of the neuron given the animal running speed.\n",
    "\n",
    "We used a linear regression model $Y = f(X)$, where $X$ is the running speed and $Y$ is the firing rate. Because we generated the data, we know this is a good choice. In reality, you would plot the real data and decide whether a linear model is appropriate.\n",
    "\n",
    "For a linear regression, the model is $Y = Xw + b$\n",
    "\n",
    "In machine learning lingo, $w$ is the weight, and $b$ is the bias.\n",
    "\n",
    "To solve our problem, we ask what parameters $w$ and $b$ best predict the firing rate of the neuron.\n",
    "\n",
    "Because we are working with simulated data, we already know the best parameters, but we want to see if our machine-learning algorithm can estimate them from the data. If we get $w = 1.25$ and $b = 10.0$, we know our method is working. "
   ]
  },
  {
   "cell_type": "markdown",
   "metadata": {},
   "source": [
    "## Possible ways to solve this problem\n",
    "\n",
    "Our problem is a **linear regression** because the output is simply a weighted sum of the inputs plus a constant called the bias term (or intercept).\n",
    "\n",
    "There are many ways to find the best parameters:\n",
    "\n",
    "1. Training loop using Gradient Descent.\n",
    "2. `scipy.stats.linregress`\n",
    "3. `sklearn.linear_model.LinearRegression`\n",
    "\n",
    "\n",
    "Because our goal is to understand machine learning, we will write our own training loop (Option 1)\n"
   ]
  },
  {
   "cell_type": "markdown",
   "metadata": {},
   "source": [
    "## Our linear regression model\n"
   ]
  },
  {
   "cell_type": "markdown",
   "metadata": {},
   "source": [
    "In our simple case, this is the model:\n",
    "\n",
    "$\\hat{y} = \\theta_0 + \\theta_1 * x_1$\n",
    "\n",
    "* $\\hat{y}$ is the prediction of the model.\n",
    "* $\\theta$ is a vector containing our parameters ($b=\\theta_0$ and $w=\\theta_1$). \n",
    "* $x$ is a vector containing our input (running speed).\n",
    "\n",
    "## Using matrix multiplication to calculate $\\hat{y}$\n",
    "\n",
    "We want to be able to calculate this formula for several data points in one go. We can do this using matrix multiplications.\n",
    "\n",
    "$\\theta$ will be represented as a row vector: $\\begin{bmatrix} \\theta_0 & \\theta_1  \\end{bmatrix}$ or $\\begin{bmatrix} b & w \\end{bmatrix}$\n",
    "\n",
    "$x$ will be represented as a column vector. We need add a 1 as $x_0$ and the speed as $x_1$: $\\begin{bmatrix} x_0 \\\\ x_1  \\end{bmatrix}$ or $\\begin{bmatrix} 1 \\\\ speed  \\end{bmatrix}$\n",
    "\n",
    "\n",
    "We can now use matrix multiplication to get our model predictions.\n",
    "\n",
    "$ \\hat{y} =  \\begin{bmatrix} \\theta_0 && \\theta_1 \\end{bmatrix} * \\begin{bmatrix} x_0 \\\\ x_1 \\end{bmatrix} = \\theta_0 * x_0 + \\theta_1 * x_1$\n",
    "\n",
    "or\n",
    "\n",
    "$ \\hat{y} = \\begin{bmatrix} b & w \\end{bmatrix} * \\begin{bmatrix} 1 \\\\ speed \\end{bmatrix} =  b * 1 + w * speed$\n",
    "\n",
    "If first matrix is 1x2 and the second 2x1, this gives a 1x1 output.\n",
    "\n"
   ]
  },
  {
   "cell_type": "markdown",
   "metadata": {},
   "source": [
    "Let's try this out."
   ]
  },
  {
   "cell_type": "code",
   "execution_count": 150,
   "metadata": {},
   "outputs": [
    {
     "name": "stdout",
     "output_type": "stream",
     "text": [
      "theta.shape: (1, 2)\n",
      "theta:\n",
      "[[20.  2.]]\n",
      "\n",
      "x.shape: (2, 1)\n",
      "x:\n",
      "[[ 1.]\n",
      " [10.]]\n",
      "\n",
      "y.shape: (1, 1)\n",
      "y:\n",
      "[[40.]]\n"
     ]
    }
   ],
   "source": [
    "theta = np.array([[20.0,2.0]]) # 1by2 matrix, random guess of the 2 model parameters (w and b)\n",
    "print(\"theta.shape:\",theta.shape)\n",
    "print(\"theta:\")\n",
    "print(theta)\n",
    "print()\n",
    "\n",
    "x = np.array([[1.0],[10.0]]) # 2x1 matrix, 1 data point, 1 and speed\n",
    "print(\"x.shape:\",x.shape)\n",
    "print(\"x:\")\n",
    "print(x)\n",
    "print()\n",
    "\n",
    "# dot product of 2 vectors, for cleaner code\n",
    "y = theta@x # matrix multiplication with numpy, you can also use np.matmul\n",
    "print(\"y.shape:\",y.shape)\n",
    "print(\"y:\")\n",
    "print(y)\n"
   ]
  },
  {
   "cell_type": "markdown",
   "metadata": {},
   "source": [
    "The beauty of working with matrix multiplications is that we can work with several data points at the same time.\n",
    "\n",
    "\n",
    "$ \\begin{bmatrix} b & w \\end{bmatrix} * \\begin{bmatrix} 1 & 1 & 1 & 1 \\\\ speed_0 & speed_1 & speed_2 & speed_3 \\end{bmatrix} = \\begin{bmatrix} y_0 & y_1 & y_2 & y_3 \\end{bmatrix}$\n",
    "\n",
    "\n",
    "Each element of y results from $b*1+w*speed$, which is our linear model."
   ]
  },
  {
   "cell_type": "code",
   "execution_count": 151,
   "metadata": {},
   "outputs": [
    {
     "name": "stdout",
     "output_type": "stream",
     "text": [
      "theta shape: (1, 2)\n",
      "theta:\n",
      "[[0. 3.]]\n",
      "\n",
      "x shape: (2, 3)\n",
      "x:\n",
      "[[ 1.  1.  1.]\n",
      " [10. 15. 20.]]\n",
      "\n",
      "y.shape: (1, 3)\n",
      "y:\n",
      "[[30. 45. 60.]]\n"
     ]
    }
   ],
   "source": [
    "# example in which we would have 3 speed input\n",
    "\n",
    "theta = np.array([[0.0,3.0]]) # random guess of the 2 model parameters, same as above\n",
    "print(\"theta shape:\",theta.shape)\n",
    "print(\"theta:\")\n",
    "print(theta)\n",
    "print()\n",
    "\n",
    "x = np.array([[1,1,1], # x_0\n",
    "             [10.0,15,20]]) # x_1\n",
    "print(\"x shape:\",x.shape)\n",
    "print(\"x:\")\n",
    "print(x)\n",
    "print()\n",
    "\n",
    "y = theta@x # make prediction\n",
    "print(\"y.shape:\",y.shape)\n",
    "print(\"y:\")\n",
    "print(y)"
   ]
  },
  {
   "cell_type": "markdown",
   "metadata": {},
   "source": [
    "In summary, we can use `theta@x` to predict the firing rate of the neuron.\n",
    "\n",
    "When we train our model, we will modify the values in $\\theta$ in order to improve our predictions.\n",
    "\n",
    "We can now put our 27304 data points in the 2D array $x$. The first column is always 1s."
   ]
  },
  {
   "cell_type": "code",
   "execution_count": 152,
   "metadata": {},
   "outputs": [
    {
     "data": {
      "text/plain": [
       "array([[1., 1., 1., ..., 1., 1., 1.],\n",
       "       [1., 1., 1., ..., 1., 1., 1.]])"
      ]
     },
     "execution_count": 152,
     "metadata": {},
     "output_type": "execute_result"
    }
   ],
   "source": [
    "X = np.ones((2,speed.shape[0]))  # make a 2 rows array with ones in the first row and speed in the second row\n",
    "X"
   ]
  },
  {
   "cell_type": "code",
   "execution_count": 153,
   "metadata": {},
   "outputs": [
    {
     "name": "stdout",
     "output_type": "stream",
     "text": [
      "[[ 1.          1.          1.         ...  1.          1.\n",
      "   1.        ]\n",
      " [16.56109922 18.39592726 14.97058294 ... 26.68191607 26.41183643\n",
      "  26.29908668]]\n",
      "X.shape: (2, 27304)\n"
     ]
    }
   ],
   "source": [
    "X[1,:] = speed\n",
    "print(X)\n",
    "print(\"X.shape:\",X.shape)"
   ]
  },
  {
   "cell_type": "code",
   "execution_count": 154,
   "metadata": {},
   "outputs": [
    {
     "data": {
      "text/plain": [
       "(1, 27304)"
      ]
     },
     "execution_count": 154,
     "metadata": {},
     "output_type": "execute_result"
    }
   ],
   "source": [
    "yhat = theta@X # prediction of the model\n",
    "yhat.shape"
   ]
  },
  {
   "cell_type": "markdown",
   "metadata": {},
   "source": [
    "We just predicted the firing rate from our models for 27304 data points."
   ]
  },
  {
   "cell_type": "code",
   "execution_count": 155,
   "metadata": {},
   "outputs": [
    {
     "data": {
      "image/png": "[encoded data removed]",
      "text/plain": [
       "<Figure size 640x480 with 1 Axes>"
      ]
     },
     "metadata": {},
     "output_type": "display_data"
    }
   ],
   "source": [
    "plt.scatter(speed,rate,label=\"Data\")\n",
    "plt.scatter(speed,yhat,label=\"Untrained Model\")\n",
    "plt.title(\"Predictions of untrained model\")\n",
    "plt.xlabel(\"Speed (cm/sec)\")\n",
    "plt.ylabel(\"Firing rate (Hz)\")\n",
    "plt.legend()\n",
    "plt.show()"
   ]
  },
  {
   "cell_type": "code",
   "execution_count": 156,
   "metadata": {},
   "outputs": [],
   "source": [
    "untrained_yhat=yhat"
   ]
  },
  {
   "cell_type": "markdown",
   "metadata": {},
   "source": [
    "Our untrained models is a pretty bad predictor of the firing rate of the neuron.\n",
    "\n",
    "Let's try to improve this."
   ]
  },
  {
   "cell_type": "markdown",
   "metadata": {},
   "source": [
    "## Measuring model performance\n",
    "\n",
    "To be able to train any model, you need a measure of how bad it is doing it is doing. This is usually refer to as a `cost or loss function`.\n",
    "\n",
    "For linear regression model, the mean squared error (MSE) is often used. \n",
    "\n",
    "\n",
    "$MSE = \\frac{1}{m} \\sum_{i = 1}^{m}(\\hat{y}^{i} - y^{i})^2$, where\n",
    "\n",
    "* $m$ is the number of data points\n",
    "* $y$ is the measured dependent variable (firing rate of the neuron) \n",
    "* $\\hat{y}$ is the prediction of the model\n"
   ]
  },
  {
   "cell_type": "markdown",
   "metadata": {},
   "source": [
    "### Exercise:\n",
    "\n",
    "Calculate the mean squared error (MSE) for our untrained model"
   ]
  },
  {
   "cell_type": "code",
   "execution_count": null,
   "metadata": {},
   "outputs": [],
   "source": []
  },
  {
   "cell_type": "markdown",
   "metadata": {},
   "source": [
    "The task of the training loop (machine learning) in this exercise is to modify the model parameters to reduce the MSE to the smallest value possible.\n",
    "\n",
    "## Training procedure using gradient descent\n",
    "\n",
    "We want to tweak the parameters with the goal of reducing the MSE. \n",
    "\n",
    "One way to do this is to use an optimization algorithm called **gradient descent**. \n",
    "\n",
    "Gradient descent is capable of finding optimal solutions to many type of problems/functions.\n",
    "\n",
    "\n",
    "<div>\n",
    "<img src=\"../images/gradient_descent.png\" width=\"1000\"/>\n",
    "</div>\n"
   ]
  },
  {
   "cell_type": "markdown",
   "metadata": {},
   "source": [
    "With gradient descent, we calculate the slope of the loss function with the current parameters, then we change the parameters so that we move down the slope. \n",
    "\n",
    "The amount by which we move down the slope is controlled by a model hyperparameter called `learning rate`.\n",
    "\n",
    "The model hyperparameters are not optimized from the data. They control how the model learns. "
   ]
  },
  {
   "cell_type": "markdown",
   "metadata": {},
   "source": [
    "We can have a look at the cost function as a function of different values of $\\theta_1$ or $w$. This is the slope of our model."
   ]
  },
  {
   "cell_type": "code",
   "execution_count": 157,
   "metadata": {},
   "outputs": [
    {
     "name": "stdout",
     "output_type": "stream",
     "text": [
      "(27304,)\n",
      "(1, 27304)\n"
     ]
    }
   ],
   "source": [
    "print(rate.shape)\n",
    "rateM = np.expand_dims(rate,0)\n",
    "print(rateM.shape)"
   ]
  },
  {
   "cell_type": "code",
   "execution_count": 158,
   "metadata": {},
   "outputs": [],
   "source": [
    "theta = np.array([[10.0,2.0]]) "
   ]
  },
  {
   "cell_type": "code",
   "execution_count": 159,
   "metadata": {},
   "outputs": [
    {
     "data": {
      "text/plain": [
       "((1, 2), (2, 27304))"
      ]
     },
     "execution_count": 159,
     "metadata": {},
     "output_type": "execute_result"
    }
   ],
   "source": [
    "theta.shape, X.shape"
   ]
  },
  {
   "cell_type": "code",
   "execution_count": 160,
   "metadata": {},
   "outputs": [
    {
     "data": {
      "image/png": "[encoded data removed]",
      "text/plain": [
       "<Figure size 640x480 with 1 Axes>"
      ]
     },
     "metadata": {},
     "output_type": "display_data"
    }
   ],
   "source": [
    "nDataPoints=200\n",
    "theta[0,0]=10.0 # I am cheating and set b to the correct value to see if the loss function will have a minimum at the correct value of w\n",
    "\n",
    "res = np.empty(nDataPoints)\n",
    "param_values = np.linspace(-5.0,7.0,nDataPoints)\n",
    "for i,t in enumerate(param_values):\n",
    "    theta[0,1]=t # change the second parameter of the model\n",
    "    res[i] = np.mean((rateM-theta@X)**2)\n",
    "plt.plot(param_values,res)\n",
    "plt.xlabel(r\"Value of $\\theta_1$\")\n",
    "plt.ylabel(\"MSE\")\n",
    "plt.show()"
   ]
  },
  {
   "cell_type": "markdown",
   "metadata": {},
   "source": [
    "### Partial derivative of the cost function\n",
    "\n",
    "To be able to adjust the parameters in the right direction, we need to know the slope for a specific value of $\\theta$.\n",
    "\n",
    "This is called the partial derivative for our parameters.\n",
    "\n",
    "For the case of the MSE, the formula for the partial derivative is:\n",
    "\n",
    "$\\nabla_{\\theta}MSE(\\theta) = \\frac{2}{m} (\\theta X - y)X^{T}$"
   ]
  },
  {
   "cell_type": "code",
   "execution_count": 161,
   "metadata": {},
   "outputs": [],
   "source": [
    "m = X.shape[1] # number of observations"
   ]
  },
  {
   "cell_type": "code",
   "execution_count": 162,
   "metadata": {},
   "outputs": [],
   "source": [
    "theta = np.array([[1.0,-2.250]]) "
   ]
  },
  {
   "cell_type": "code",
   "execution_count": 163,
   "metadata": {},
   "outputs": [
    {
     "data": {
      "text/plain": [
       "array([[  -95.69985781, -1850.88176943]])"
      ]
     },
     "execution_count": 163,
     "metadata": {},
     "output_type": "execute_result"
    }
   ],
   "source": [
    "2/m *(theta@X - rateM) @ X.T"
   ]
  },
  {
   "cell_type": "markdown",
   "metadata": {},
   "source": [
    "In the training loop, negative gradients mean that you increase the values of the coefficients to reduce the MSE.\n",
    "\n",
    "Because we use all observations to calculate the gradients, this is called **batch gradient descent**."
   ]
  },
  {
   "cell_type": "markdown",
   "metadata": {},
   "source": [
    "For more complex models, you can use [pytorch](https://pytorch.org/) to calculate the derivative for you automatically."
   ]
  },
  {
   "cell_type": "markdown",
   "metadata": {},
   "source": [
    "### Our first training loop\n",
    "\n",
    "This is a simple training loop. We loop several times and make small adjustments to the coefficients on each iteration."
   ]
  },
  {
   "cell_type": "code",
   "execution_count": 164,
   "metadata": {},
   "outputs": [
    {
     "name": "stdout",
     "output_type": "stream",
     "text": [
      "theta at start: [[20. -2.]]\n",
      "iteration:0, gradients: [[  -52.15084935 -1311.14946545]]\n",
      "iteration:1, gradients: [[  6.26238986 -71.02892793]]\n",
      "iteration:2, gradients: [[ 9.39046127 -4.25126716]]\n",
      "iteration:3, gradients: [[ 9.54162197 -0.6546724 ]]\n",
      "iteration:4, gradients: [[ 9.53251774 -0.46019386]]\n",
      "iteration:5, gradients: [[ 9.51481663 -0.44891082]]\n",
      "iteration:6, gradients: [[ 9.49668544 -0.44749388]]\n",
      "iteration:7, gradients: [[ 9.47856388 -0.44660973]]\n",
      "iteration:8, gradients: [[ 9.46047555 -0.44575582]]\n",
      "iteration:9, gradients: [[ 9.44242167 -0.44490508]]\n",
      "iteration:1000, gradients: [[ 1.42223898 -0.06701261]]\n",
      "iteration:2000, gradients: [[ 0.21056955 -0.00992155]]\n",
      "iteration:3000, gradients: [[ 0.03117587 -0.00146893]]\n",
      "iteration:4000, gradients: [[ 0.00461574 -0.00021748]]\n",
      "iteration:5000, gradients: [[ 6.83383594e-04 -3.21994546e-05]]\n",
      "optimized theta: [[10.0631432   1.24493397]]\n"
     ]
    }
   ],
   "source": [
    "lr = 0.002 # learning rate\n",
    "n_iterations = 6000 \n",
    "m = rate.shape[0] # number of data points\n",
    "\n",
    "#theta = np.random.rand(2) # set random parameters as a starting point\n",
    "theta = np.array([[20.0,-2.0]]) \n",
    "print(\"theta at start:\", theta)\n",
    "\n",
    "# learning loop\n",
    "for iteration in range(n_iterations):\n",
    "\n",
    "    # calculate the gradients with the current parameters\n",
    "    gradients = 2/m *(theta@X - rateM) @ X.T\n",
    "    \n",
    "    # adjust the parameter so that we reduce the MSE\n",
    "    theta = theta - lr * gradients\n",
    "\n",
    "    if iteration%1000 == 0 or iteration<10:  \n",
    "        print(\"iteration:{}, gradients: {}\".format(iteration,gradients))\n",
    "\n",
    "print(\"optimized theta:\",theta)"
   ]
  },
  {
   "cell_type": "markdown",
   "metadata": {},
   "source": [
    "## Exercise: \n",
    "\n",
    "* Use our optimized model to make rate predictions \n",
    "* Plot the predicted and observed firing rates as a function of running speed. "
   ]
  },
  {
   "cell_type": "code",
   "execution_count": 165,
   "metadata": {},
   "outputs": [
    {
     "data": {
      "image/png": "[encoded data removed]",
      "text/plain": [
       "<Figure size 640x480 with 1 Axes>"
      ]
     },
     "metadata": {},
     "output_type": "display_data"
    }
   ],
   "source": [
    "yhat = theta@X # prediction of the model\n",
    "plt.scatter(speed,rate,label=\"Data\")\n",
    "plt.scatter(speed,yhat,label=\"Untrained Model\")\n",
    "plt.title(\"Predictions of untrained model\")\n",
    "plt.xlabel(\"Speed (cm/sec)\")\n",
    "plt.ylabel(\"Firing rate (Hz)\")\n",
    "plt.legend()\n",
    "plt.show()"
   ]
  },
  {
   "cell_type": "markdown",
   "metadata": {},
   "source": [
    "### Visualisation of the training process\n",
    "\n",
    "Here I created a small animation to visualize the training process. \n",
    "\n",
    "Don't worry about all the details relating to plotting the data. The training process is exactly the same as above. \n",
    "\n",
    "We save training parameters $w$ and $b$, the MSE and the gradients in numpy arrays at each iteration, and use this data to generate a plot for each iteration. We then put all images together to create an animation.\n",
    "\n",
    "The code takes approximately a minute to run."
   ]
  },
  {
   "cell_type": "code",
   "execution_count": 166,
   "metadata": {},
   "outputs": [],
   "source": [
    "import imageio\n",
    "import os"
   ]
  },
  {
   "cell_type": "code",
   "execution_count": 167,
   "metadata": {},
   "outputs": [
    {
     "name": "stdout",
     "output_type": "stream",
     "text": [
      "optimized theta: [[9.99978442 1.24791929]]\n"
     ]
    }
   ],
   "source": [
    "lr = 0.002\n",
    "n_epochs = 3000 # how many time we go through the data during the learning process, one epoch = one pass through the data.\n",
    "m = rate.shape[0]\n",
    "theta = np.array([[-10,-10]])\n",
    "\n",
    "# variables for our animation\n",
    "animation_dir = \"../images/learning_animation/\"\n",
    "imageFileNames = []\n",
    "save_every = 25\n",
    "\n",
    "# arrays to store the results at each iteration\n",
    "mseLearning = np.empty(n_epochs)\n",
    "tLearning = np.empty((n_epochs,2))\n",
    "gradLearning = np.empty((n_epochs,2))\n",
    "\n",
    "\n",
    "for epoch in range(n_epochs):\n",
    "    gradients = 2/m *(theta@X - rateM) @ X.T\n",
    "    \n",
    "    # save results for the animation\n",
    "    mseLearning[epoch] = np.mean((rate-theta@X)**2)\n",
    "    tLearning[epoch,:] = theta\n",
    "    gradLearning[epoch,:] = gradients\n",
    "    \n",
    "    \n",
    "    # change the parameters\n",
    "    theta = theta - lr * gradients\n",
    "    \n",
    "    \n",
    "    # make one figure for our animation\n",
    "\n",
    "    if epoch < 5 or epoch % save_every == 0:\n",
    "        fn = os.path.join(animation_dir,\"image_{}.png\".format(epoch))\n",
    "        imageFileNames.append(fn)\n",
    "        fig, ax = plt.subplots(1,4,figsize=(13,3),layout=\"constrained\")\n",
    "    \n",
    "        # plot the MSE\n",
    "        ax[0].plot(np.arange(epoch),mseLearning[:epoch])\n",
    "        ax[0].set_xlim(0,n_epochs)\n",
    "        ax[0].set_ylim(0,200)\n",
    "        ax[0].set_xlabel(\"Epochs\")\n",
    "        ax[0].set_ylabel(\"Loss (MSE)\")\n",
    "        ax[0].spines['top'].set_visible(False)\n",
    "        ax[0].spines['right'].set_visible(False) \n",
    "        ax[0].set_title(\"MSE\")\n",
    "        \n",
    "        # plot the gradients\n",
    "        ax[1].plot(np.arange(epoch),gradLearning[:epoch,1],label=\"$w$ gradient\")\n",
    "        ax[1].plot(np.arange(epoch),gradLearning[:epoch,0],label=\"$b$ gradient\")\n",
    "        ax[1].set_xlim(0,n_epochs)\n",
    "        ax[1].set_ylim(-10,1)\n",
    "        ax[1].set_xlabel(\"Epochs\")\n",
    "        ax[1].set_ylabel(\"Gradients\")\n",
    "        ax[1].legend(loc=4)\n",
    "        ax[1].spines['top'].set_visible(False)\n",
    "        ax[1].spines['right'].set_visible(False) \n",
    "        ax[1].set_title(\"Gradients\")\n",
    "    \n",
    "        # plot the parameters\n",
    "        ax[2].scatter(tLearning[:epoch,0],tLearning[:epoch,1],color=\"gray\",s=3,alpha=0.5)\n",
    "        ax[2].scatter(tLearning[epoch,0],tLearning[epoch,1],color=\"red\",s=5)\n",
    "        ax[2].set_xlim(-10,12)\n",
    "        ax[2].set_ylim(-0.5,3)\n",
    "        ax[2].set_xlabel(\"$b$\")\n",
    "        ax[2].set_ylabel(\"$w$\")\n",
    "        ax[2].text(-0.5, 2.5, \"Epoch {}/{}\".format(epoch,n_epochs))\n",
    "        ax[2].spines['top'].set_visible(False)\n",
    "        ax[2].spines['right'].set_visible(False)\n",
    "        ax[2].set_title(\"Parameters\")\n",
    "    \n",
    "        # plot the data and regression line\n",
    "        x=np.arange(70)\n",
    "        y = x*theta[0,1] + theta[0,0]\n",
    "        \n",
    "        \n",
    "        ax[3].scatter(speed[::10],rate[::10],label=\"Data\",alpha=0.5,s=1) # only plot every 10 data points to speed up plot function\n",
    "        ax[3].plot(x,y,label=\"Model\",color=\"red\")\n",
    "        ax[3].set_xlabel(\"Speed (cm/sec)\")\n",
    "        ax[3].set_ylabel(\"Firing rate (Hz)\")\n",
    "        ax[3].set_xlim(0,70)\n",
    "        ax[3].set_ylim(-10,130)\n",
    "        ax[3].legend(loc=4)\n",
    "        ax[3].set_title(\"Data and Model\")\n",
    "        ax[3].spines['top'].set_visible(False)\n",
    "        ax[3].spines['right'].set_visible(False)\n",
    "        \n",
    "        plt.savefig(fn)\n",
    "        plt.close()\n",
    " \n",
    "print(\"optimized theta:\",theta)\n"
   ]
  },
  {
   "cell_type": "markdown",
   "metadata": {},
   "source": [
    "We can make the animation from our saved image"
   ]
  },
  {
   "cell_type": "code",
   "execution_count": 168,
   "metadata": {},
   "outputs": [],
   "source": [
    "fn = os.path.join(animation_dir,\"learning_animation.gif\")\n",
    "with imageio.get_writer(fn, mode='I') as writer:\n",
    "    for filename in imageFileNames:\n",
    "        image = imageio.v2.imread(filename)\n",
    "        writer.append_data(image)\n",
    "# Remove files\n",
    "for filename in set(imageFileNames):\n",
    "    os.remove(filename)"
   ]
  },
  {
   "cell_type": "markdown",
   "metadata": {},
   "source": [
    "<img src=\"../images/learning_animation/learning_animation.gif\" width=\"1000\" align=\"center\">"
   ]
  },
  {
   "cell_type": "markdown",
   "metadata": {},
   "source": [
    "## Alternative ways to find the best parameters"
   ]
  },
  {
   "cell_type": "markdown",
   "metadata": {},
   "source": [
    "### sklearn.linear_model.LinearRegression\n",
    "\n",
    "Scikit-Learn had built in classes to train linear and non-linear regression models. \n",
    "\n",
    "https://scikit-learn.org/stable/modules/generated/sklearn.linear_model.LinearRegression.html"
   ]
  },
  {
   "cell_type": "code",
   "execution_count": 169,
   "metadata": {},
   "outputs": [
    {
     "data": {
      "text/plain": [
       "(10.063037158949758, array([0.        , 1.24493896]))"
      ]
     },
     "execution_count": 169,
     "metadata": {},
     "output_type": "execute_result"
    }
   ],
   "source": [
    "from sklearn.linear_model import LinearRegression\n",
    "lin_reg = LinearRegression()\n",
    "lin_reg.fit(X.T,rate)\n",
    "lin_reg.intercept_,lin_reg.coef_"
   ]
  },
  {
   "cell_type": "markdown",
   "metadata": {},
   "source": [
    "### scipy.optimize.minimize()\n",
    "\n",
    "https://docs.scipy.org/doc/scipy/reference/generated/scipy.optimize.minimize.html\n",
    "\n",
    "This is a function that can be used to minimize several types of functions. It is not limited to linear regressions\n",
    "\n",
    "scipy.optimize.minimize() takes several arguments:\n",
    "\n",
    "* fun: an objective function that will be minimized\n",
    "* x0: a vector with the model parameters\n",
    "* args: additional parameters that are passed to the objective function\n",
    "\n",
    "\n"
   ]
  },
  {
   "cell_type": "code",
   "execution_count": 170,
   "metadata": {},
   "outputs": [
    {
     "name": "stdout",
     "output_type": "stream",
     "text": [
      "  message: Optimization terminated successfully.\n",
      "  success: True\n",
      "   status: 0\n",
      "      fun: 24.9514247109425\n",
      "        x: [ 1.006e+01  1.245e+00]\n",
      "      nit: 4\n",
      "      jac: [ 2.384e-07  0.000e+00]\n",
      " hess_inv: [[ 1.046e+00 -4.917e-02]\n",
      "            [-4.917e-02  4.431e-03]]\n",
      "     nfev: 24\n",
      "     njev: 8\n"
     ]
    }
   ],
   "source": [
    "from scipy.optimize import minimize\n",
    "\n",
    "# optimize() will try to minimize the value returned by objective_function()\n",
    "# in our example, we can return the mean squared error of our model\n",
    "def objective_function(x0,X,rate): \n",
    "    delta=x0\n",
    "    yhat = X@delta\n",
    "    mse = np.mean((rate-yhat)**2)\n",
    "    return mse\n",
    "\n",
    "x0 = np.array([15, 1]) # parameters to optimize\n",
    "results = minimize(objective_function,x0,args=(X.T,rate))\n",
    "print(results)"
   ]
  },
  {
   "cell_type": "markdown",
   "metadata": {},
   "source": [
    "We get the same results.\n",
    "\n",
    "Note that we did not have to calculate the partial derivative directly."
   ]
  },
  {
   "cell_type": "markdown",
   "metadata": {},
   "source": [
    "### pytorch\n",
    "\n",
    "pytorch is a platform use principally to train deep neural network. \n",
    "\n",
    "pytorch can calculate the derivative for you. The computations can be sent to the GPU if needed (not implemented here)\n"
   ]
  },
  {
   "cell_type": "code",
   "execution_count": 176,
   "metadata": {},
   "outputs": [
    {
     "name": "stdout",
     "output_type": "stream",
     "text": [
      "delta at start: tensor([[20., -2.]], requires_grad=True)\n",
      "loss: tensor(1893.1407, grad_fn=<MeanBackward0>)\n",
      "gradients:  tensor([[  -52.1509, -1311.1495]])\n"
     ]
    },
    {
     "data": {
      "text/plain": [
       "tensor([[0., 0.]])"
      ]
     },
     "execution_count": 176,
     "metadata": {},
     "output_type": "execute_result"
    }
   ],
   "source": [
    "import torch\n",
    "\n",
    "# linear model making prediction\n",
    "def model(X,delta):\n",
    "    return delta@X\n",
    "# loss function returning MSE\n",
    "def loss_fn(y,yhat):\n",
    "    squared_diff = (y-yhat)**2\n",
    "    return squared_diff.mean()\n",
    "\n",
    "# model parameters stored as a pytorch tensor. This makes the calculation of the gradients possible\n",
    " \n",
    "delta = torch.tensor([[20.0,-2.0]],requires_grad =True)\n",
    "print(\"delta at start:\", delta)\n",
    "\n",
    "# We transform our data from NumPy array to Pytorch tensors. There is no need for gradients\n",
    "XTensor = torch.tensor(X,dtype=torch.float32)\n",
    "rateTensor= torch.tensor(rate,dtype=torch.float32)\n",
    "\n",
    "# let's run the model once and calculate the loss\n",
    "yhat = model(XTensor,delta)\n",
    "loss = loss_fn(yhat,rateTensor)\n",
    "print(\"loss:\",loss)\n",
    "loss.backward()\n",
    "\n",
    "print(\"gradients: \",delta.grad)\n",
    "\n",
    "# We need to zero the gradients; otherwise, they accumulate\n",
    "delta.grad.zero_()\n"
   ]
  },
  {
   "cell_type": "code",
   "execution_count": 177,
   "metadata": {},
   "outputs": [],
   "source": [
    "## training loop that will modify our parameters to minimize the loss function (MSE)\n",
    "def training_loop(n_epochs, learning_rate, delta, XTensor,rateTensor):\n",
    "    for epoch in range (n_epochs):\n",
    "\n",
    "        if delta.grad is not None:\n",
    "            delta.grad.zero_() \n",
    "        \n",
    "        yhat = model(XTensor,delta)\n",
    "        loss = loss_fn(yhat,rateTensor)\n",
    "        loss.backward()\n",
    "        \n",
    "        with torch.no_grad():\n",
    "            delta -= learning_rate * delta.grad\n",
    "        \n",
    "        if epoch % 1000 ==0:\n",
    "            print(\"Epoch: {}, Loss: {}\".format(epoch,loss))\n",
    "    return delta"
   ]
  },
  {
   "cell_type": "code",
   "execution_count": 178,
   "metadata": {},
   "outputs": [
    {
     "name": "stdout",
     "output_type": "stream",
     "text": [
      "Epoch: 0, Loss: 2514.649169921875\n",
      "Epoch: 1000, Loss: 24.951993942260742\n",
      "Epoch: 2000, Loss: 24.951509475708008\n",
      "Epoch: 3000, Loss: 24.951438903808594\n",
      "Epoch: 4000, Loss: 24.951427459716797\n",
      "Epoch: 5000, Loss: 24.95142364501953\n",
      "Epoch: 6000, Loss: 24.951427459716797\n",
      "Epoch: 7000, Loss: 24.951427459716797\n",
      "Epoch: 8000, Loss: 24.951427459716797\n",
      "Epoch: 9000, Loss: 24.951427459716797\n",
      "tensor([10.0635,  1.2449], requires_grad=True)\n"
     ]
    }
   ],
   "source": [
    "opt_delta = training_loop(n_epochs = 10000,\n",
    "                          learning_rate = 0.001,\n",
    "                          delta = torch.tensor([10.0,-2.0],requires_grad =True),\n",
    "                          XTensor = XTensor,\n",
    "                          rateTensor=rateTensor)\n",
    "print(opt_delta)"
   ]
  },
  {
   "cell_type": "markdown",
   "metadata": {},
   "source": [
    "Once again we found our initial parameters.\n",
    "\n",
    "This type of output is very similar to what you see when you train DeepLabCut (more on this next week)."
   ]
  },
  {
   "cell_type": "markdown",
   "metadata": {},
   "source": [
    "## Summary\n",
    "\n",
    "* We implemented a linear regression model in python.\n",
    "* We defined a cost function (MSE) to measure how good/bad the model predictions are.\n",
    "* We calculated the partial derivative of the MSE for a set of coefficients.\n",
    "* We wrote a training loop to adjust the coefficients iteratively in order to minimize MSE\n",
    "* We covered 3 possible ways in which you can train models (klearn.linear_model, scipy.optimize.minimize and pytorch)\n"
   ]
  }
 ],
 "metadata": {
  "kernelspec": {
   "display_name": "Python 3 (ipykernel)",
   "language": "python",
   "name": "python3"
  },
  "language_info": {
   "codemirror_mode": {
    "name": "ipython",
    "version": 3
   },
   "file_extension": ".py",
   "mimetype": "text/x-python",
   "name": "python",
   "nbconvert_exporter": "python",
   "pygments_lexer": "ipython3",
   "version": "3.10.12"
  }
 },
 "nbformat": 4,
 "nbformat_minor": 4
}
