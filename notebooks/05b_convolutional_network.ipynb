{
 "cells": [
  {
   "cell_type": "markdown",
   "id": "9161096d-a769-4995-acc2-1b7611dcd5b3",
   "metadata": {},
   "source": [
    "# Week 5-6, Data science in Neuroscience\n",
    "\n",
    "\n",
    "## Plan for this week\n",
    "\n",
    "1. Introduction to pytorch\n",
    "2. Tensors\n",
    "3. Training loop in pytorch\n",
    "4. A first neural network\n",
    "5. Convolutional networks to process images\n",
    "\n",
    "***\n"
   ]
  },
  {
   "cell_type": "markdown",
   "id": "90dcbbc1-2c6a-409d-9f0b-47f8f736197a",
   "metadata": {
    "tags": []
   },
   "source": [
    "# Convolutional neural networks (CNN)\n",
    "\n",
    "Date back to 1989 (Yann LeCun). \n",
    "\n",
    "Convolutional neural network revolutionized how images are processed by neural network. \n",
    "\n",
    "They are used for all sorts of problems involving image processing.\n",
    "\n",
    "The artificial neurons in the network have receptive fields, similar to what is observed in the visual system.\n",
    "\n",
    "Why they work:\n",
    "\n",
    "* They keep information about the spatial arrangement of the input image.\n",
    "* Mechanism to detect a set a feature, independently of their position in the image. "
   ]
  },
  {
   "cell_type": "markdown",
   "id": "c1a26923-0db3-4506-83c4-227b23354c32",
   "metadata": {},
   "source": [
    "## Convolution \n",
    "\n",
    "<div>\n",
    "<img src=\"../images/convolution1.png\" width=\"800\"/>\n",
    "</div>\n",
    "\n",
    "## LeNet: one of the first convolutional neural network.\n",
    "\n",
    "LeCun et al. (1989). Backpropagation applied to handwritten zip code recognition. Neural Computation.\n",
    "\n",
    "\n",
    "<div>\n",
    "<img src=\"../images/LeNet5.png\" width=\"1200\"/>\n",
    "</div>\n",
    "\n",
    "\n"
   ]
  },
  {
   "cell_type": "markdown",
   "id": "3c2f889a-1a19-47ce-a92c-230ba0ecbe84",
   "metadata": {},
   "source": [
    "## Convolutional Neural Networks as feature detectors\n",
    "\n",
    "\n",
    "<div>\n",
    "<img src=\"../images/imageNet_features_01.png\" width=\"300\"/>\n",
    "</div>\n",
    "\n",
    "\n",
    "<div>\n",
    "<img src=\"../images/imageNet_features_02.png\" width=\"600\"/>\n",
    "</div>\n",
    "\n",
    "\n",
    "\n",
    "<div>\n",
    "<img src=\"../images/imageNet_features_03.png\" width=\"600\"/>\n",
    "</div>\n",
    "\n",
    "<div>\n",
    "<img src=\"../images/imageNet_features_04.png\" width=\"600\"/>\n",
    "</div>\n",
    "\n"
   ]
  },
  {
   "cell_type": "markdown",
   "id": "a27170ff-f047-4931-97d1-d7cc4b970941",
   "metadata": {},
   "source": [
    "## ImageNet competition: 1.3 million images and 1000 classes\n",
    "\n",
    "<div>\n",
    "<img src=\"../images/imageNetResults.png\" width=\"800\"/>\n",
    "</div>\n",
    "\n"
   ]
  },
  {
   "cell_type": "markdown",
   "id": "64c733d6-b5dd-4a4c-8c0c-23f7df6b08bc",
   "metadata": {},
   "source": [
    "# Let's build and train a convolutional neural network\n",
    "\n",
    "Our aim will be to build a convolutional neural network to identify what object is in images. This is a classification problem.\n",
    "\n"
   ]
  },
  {
   "cell_type": "markdown",
   "id": "c4adfdb6-d811-4420-a98b-5819224e9d33",
   "metadata": {},
   "source": [
    "## Dataset\n",
    "\n",
    "We need a dataset of imagest to train our model.\n",
    "\n",
    "We download our dataset using torchvision.datasets. We will use the CIFAR-10 dataset. It consists of 60000 small 32x32 color images.\n",
    "\n",
    "https://pytorch.org/vision/main/generated/torchvision.datasets.CIFAR10.html\n"
   ]
  },
  {
   "cell_type": "code",
   "execution_count": 1,
   "id": "fc0d65d4-ddfe-41d8-8503-d5cc776a401c",
   "metadata": {},
   "outputs": [],
   "source": [
    "import torch\n",
    "import torch.nn as nn\n",
    "import torchvision\n",
    "import numpy\n",
    "import matplotlib.pyplot as plt\n",
    "import torch.nn.functional as F"
   ]
  },
  {
   "cell_type": "code",
   "execution_count": 22,
   "id": "5446d36b-b326-4b90-a544-007c7cd80fe4",
   "metadata": {},
   "outputs": [
    {
     "name": "stdout",
     "output_type": "stream",
     "text": [
      "Files already downloaded and verified\n",
      "Files already downloaded and verified\n"
     ]
    }
   ],
   "source": [
    "transform = torchvision.transforms.Compose([torchvision.transforms.ToTensor()])\n",
    "\n",
    "train_dataset = torchvision.datasets.CIFAR10(root='../data', train=True,\n",
    "                                        download=True, transform=transform)\n",
    "\n",
    "test_dataset = torchvision.datasets.CIFAR10(root='../data', train=False,\n",
    "                                       download=True, transform=transform)"
   ]
  },
  {
   "cell_type": "code",
   "execution_count": 23,
   "id": "817ac67e-9779-49f8-91c1-a050699344bb",
   "metadata": {},
   "outputs": [
    {
     "data": {
      "text/plain": [
       "Dataset CIFAR10\n",
       "    Number of datapoints: 50000\n",
       "    Root location: ../data\n",
       "    Split: Train\n",
       "    StandardTransform\n",
       "Transform: Compose(\n",
       "               ToTensor()\n",
       "           )"
      ]
     },
     "execution_count": 23,
     "metadata": {},
     "output_type": "execute_result"
    }
   ],
   "source": [
    "train_dataset"
   ]
  },
  {
   "cell_type": "code",
   "execution_count": 24,
   "id": "b3ae3378-3e8d-404a-8ae1-7316815c2c62",
   "metadata": {},
   "outputs": [
    {
     "data": {
      "text/plain": [
       "Dataset CIFAR10\n",
       "    Number of datapoints: 10000\n",
       "    Root location: ../data\n",
       "    Split: Test\n",
       "    StandardTransform\n",
       "Transform: Compose(\n",
       "               ToTensor()\n",
       "           )"
      ]
     },
     "execution_count": 24,
     "metadata": {},
     "output_type": "execute_result"
    }
   ],
   "source": [
    "test_dataset"
   ]
  },
  {
   "cell_type": "code",
   "execution_count": 25,
   "id": "5c1ecb15-3780-4c85-8fb3-f2cbd9cb7943",
   "metadata": {},
   "outputs": [],
   "source": [
    "img,label = train_dataset[99]"
   ]
  },
  {
   "cell_type": "code",
   "execution_count": 26,
   "id": "f9271ac9-661d-4d33-a56d-f20dec98cb08",
   "metadata": {},
   "outputs": [
    {
     "data": {
      "text/plain": [
       "torch.Size([3, 32, 32])"
      ]
     },
     "execution_count": 26,
     "metadata": {},
     "output_type": "execute_result"
    }
   ],
   "source": [
    "img.shape"
   ]
  },
  {
   "cell_type": "markdown",
   "id": "a5c39408-3d5e-416d-8160-c94021aacd87",
   "metadata": {},
   "source": [
    "The shape is [Color, Height, Width]."
   ]
  },
  {
   "cell_type": "markdown",
   "id": "5c8cf66e-ac35-4635-b549-d3e600a26218",
   "metadata": {},
   "source": [
    "The first dimension of size 3 represent the color channels."
   ]
  },
  {
   "cell_type": "code",
   "execution_count": 27,
   "id": "2c1476b4-cf7a-4043-a910-8459e0caaf79",
   "metadata": {},
   "outputs": [
    {
     "data": {
      "text/plain": [
       "1"
      ]
     },
     "execution_count": 27,
     "metadata": {},
     "output_type": "execute_result"
    }
   ],
   "source": [
    "label"
   ]
  },
  {
   "cell_type": "markdown",
   "id": "bb3e247f-b549-49ae-bb82-b583b20af699",
   "metadata": {},
   "source": [
    "The labels are just numbers. We can associate a word to these numbers by creating a list of labels."
   ]
  },
  {
   "cell_type": "code",
   "execution_count": 28,
   "id": "869120bf-7e4e-44e9-abf5-ac3de949e68e",
   "metadata": {},
   "outputs": [],
   "source": [
    "class_names = ['plane', 'car', 'bird', 'cat', 'deer', 'dog', 'frog', 'horse', 'ship', 'truck']"
   ]
  },
  {
   "cell_type": "code",
   "execution_count": 29,
   "id": "8e1e4317-7b86-4edf-b10a-66d8f98f34b3",
   "metadata": {},
   "outputs": [
    {
     "data": {
      "text/plain": [
       "'car'"
      ]
     },
     "execution_count": 29,
     "metadata": {},
     "output_type": "execute_result"
    }
   ],
   "source": [
    "class_names[label]"
   ]
  },
  {
   "cell_type": "markdown",
   "id": "2011804a-5deb-4678-aa6d-23deafcc1607",
   "metadata": {},
   "source": [
    "Plot a few images and labels from our dataset."
   ]
  },
  {
   "cell_type": "code",
   "execution_count": 30,
   "id": "f8dd1b70-5b7e-4741-9d9c-a0732368b0d8",
   "metadata": {},
   "outputs": [
    {
     "data": {
      "text/plain": [
       "torch.Size([3, 32, 32])"
      ]
     },
     "execution_count": 30,
     "metadata": {},
     "output_type": "execute_result"
    }
   ],
   "source": [
    "img.squeeze().shape"
   ]
  },
  {
   "cell_type": "code",
   "execution_count": 31,
   "id": "92b224e7-27e8-47f0-8e7c-d085779c2923",
   "metadata": {},
   "outputs": [
    {
     "data": {
      "image/png": "[encoded data removed]",
      "text/plain": [
       "<Figure size 640x480 with 1 Axes>"
      ]
     },
     "metadata": {},
     "output_type": "display_data"
    }
   ],
   "source": [
    "plt.imshow(img.permute(1,2,0)) # we use permute because imshow() wants [Height,Width,Color] and the tensor is [Color,Height,Width].\n",
    "plt.title(\"This is a {}\".format(class_names[label]))\n",
    "plt.show()"
   ]
  },
  {
   "cell_type": "markdown",
   "id": "dd60794c-ec36-4a68-ab97-f9525fbbcc25",
   "metadata": {},
   "source": [
    "## Exercise\n",
    "\n",
    "Create a figure with several subplots. In each subplot, show the image with imshow() and put the label as title."
   ]
  },
  {
   "cell_type": "markdown",
   "id": "5cc1f721-47e0-4133-b574-5252b39a1cf4",
   "metadata": {},
   "source": [
    "## Transforms and normalization\n",
    "\n",
    "Images are usually stored as integers with values ranging from 0 to 255.\n",
    "\n",
    "Neural network works best when your data that are close to 0.\n",
    "\n",
    "To make sure our input data facilitate learning:  \n",
    "* Normalize so that the mean = 0 and a standard deviation = 1\n",
    "* All features or color channels have the same distribution \n",
    "\n",
    "Making sure that the different features have the same distribution means that the choosen learning rate will be appropriate for all features. \n",
    "\n",
    "When we use the `torchvision.transforms.ToTensor()` in our dataset, the range of the data is automatically transformed from a range of 0 to 255 to a range of 0 to 1."
   ]
  },
  {
   "cell_type": "code",
   "execution_count": 32,
   "id": "9bdfa4fc-eb7e-4b8c-a2c5-86417a649a07",
   "metadata": {},
   "outputs": [
    {
     "data": {
      "text/plain": [
       "(tensor(0.), tensor(1.))"
      ]
     },
     "execution_count": 32,
     "metadata": {},
     "output_type": "execute_result"
    }
   ],
   "source": [
    "img.min(), img.max()"
   ]
  },
  {
   "cell_type": "markdown",
   "id": "099d8a15-df88-4b0e-94bd-d0fec5accde4",
   "metadata": {},
   "source": [
    "We can improve this further by making sure our different features (color channels) have a similar distribution with a mean of 0."
   ]
  },
  {
   "cell_type": "code",
   "execution_count": 33,
   "id": "acda6645-3d14-405d-8623-037e1aa77037",
   "metadata": {},
   "outputs": [
    {
     "data": {
      "text/plain": [
       "torch.Size([3, 32, 32, 50000])"
      ]
     },
     "execution_count": 33,
     "metadata": {},
     "output_type": "execute_result"
    }
   ],
   "source": [
    "a = torch.stack([img for img,_ in train_dataset],dim=3)\n",
    "a.shape"
   ]
  },
  {
   "cell_type": "code",
   "execution_count": 34,
   "id": "cf85cb44-c8dc-4475-9fe0-a6aa242139f1",
   "metadata": {},
   "outputs": [
    {
     "data": {
      "text/plain": [
       "(tensor([0.4914, 0.4822, 0.4465]), tensor([0.2470, 0.2435, 0.2616]))"
      ]
     },
     "execution_count": 34,
     "metadata": {},
     "output_type": "execute_result"
    }
   ],
   "source": [
    "a.view(3,-1).mean(1),a.view(3,-1).std(1)"
   ]
  },
  {
   "cell_type": "code",
   "execution_count": 35,
   "id": "c8867fff-da07-4bf2-b750-e232dba81548",
   "metadata": {},
   "outputs": [
    {
     "name": "stdout",
     "output_type": "stream",
     "text": [
      "Files already downloaded and verified\n",
      "Files already downloaded and verified\n"
     ]
    }
   ],
   "source": [
    "transform = torchvision.transforms.Compose([torchvision.transforms.ToTensor(),\n",
    "                                           torchvision.transforms.Normalize((0.4915,0.4823,0.4468), # means of each color channel\n",
    "                                                                            (0.2470,0.2435,0.2616))]) # standard deviation of each color channel\n",
    "\n",
    "# We pass the transform function to the dataset\n",
    "train_dataset = torchvision.datasets.CIFAR10(root='../data', train=True,\n",
    "                                        download=True, transform=transform)\n",
    "\n",
    "test_dataset = torchvision.datasets.CIFAR10(root='../data', train=False,\n",
    "                                       download=True, transform=transform)\n",
    "\n",
    "\n"
   ]
  },
  {
   "cell_type": "code",
   "execution_count": 36,
   "id": "4d739bd3-31bf-4e97-b30f-e3955fc91df6",
   "metadata": {},
   "outputs": [
    {
     "name": "stdout",
     "output_type": "stream",
     "text": [
      "torch.Size([3, 32, 32, 10000])\n"
     ]
    }
   ],
   "source": [
    "a = torch.stack([img for img,_ in test_dataset],dim=3)\n",
    "print(a.shape)"
   ]
  },
  {
   "cell_type": "code",
   "execution_count": 37,
   "id": "664e362c-bd69-4aab-903d-d64638e739a7",
   "metadata": {},
   "outputs": [
    {
     "data": {
      "text/plain": [
       "Text(0, 0.5, 'Number of pixels')"
      ]
     },
     "execution_count": 37,
     "metadata": {},
     "output_type": "execute_result"
    },
    {
     "data": {
      "image/png": "[encoded data removed]",
      "text/plain": [
       "<Figure size 640x480 with 1 Axes>"
      ]
     },
     "metadata": {},
     "output_type": "display_data"
    }
   ],
   "source": [
    "plt.hist(a[0,:,:,0:500].flatten(),bins=50)\n",
    "plt.xlabel(\"Pixel values\")\n",
    "plt.ylabel(\"Number of pixels\")"
   ]
  },
  {
   "cell_type": "code",
   "execution_count": 17,
   "id": "2cec511e-0bba-4e1e-a4bb-9f11a40c98b0",
   "metadata": {},
   "outputs": [],
   "source": [
    "#a = torch.stack([img for img,_ in train_dataset],dim=3)\n",
    "#a.shape\n",
    "#a.view(3,-1).mean(1),a.view(3,-1).std(1)"
   ]
  },
  {
   "cell_type": "code",
   "execution_count": 38,
   "id": "1f7eda2e-289e-4d75-a5b1-e20895f20c4b",
   "metadata": {},
   "outputs": [],
   "source": [
    "img,label = train_dataset[99]"
   ]
  },
  {
   "cell_type": "code",
   "execution_count": 39,
   "id": "ce1fcc8b-ea16-49ca-947a-135e85637fbc",
   "metadata": {},
   "outputs": [
    {
     "name": "stderr",
     "output_type": "stream",
     "text": [
      "Clipping input data to the valid range for imshow with RGB data ([0..1] for floats or [0..255] for integers).\n"
     ]
    },
    {
     "data": {
      "image/png": "[encoded data removed]",
      "text/plain": [
       "<Figure size 640x480 with 1 Axes>"
      ]
     },
     "metadata": {},
     "output_type": "display_data"
    }
   ],
   "source": [
    "plt.imshow(img.permute(1,2,0)) # we use permute because imshow() wants H x W x C and the tensor is C X H X W.\n",
    "plt.title(\"This is a {}\".format(class_names[label]))\n",
    "plt.show()"
   ]
  },
  {
   "cell_type": "markdown",
   "id": "8886d1b4-51f1-449c-985f-38ddcb3c86e1",
   "metadata": {},
   "source": [
    "## Dataloader\n",
    "\n",
    "We usually want to feed a few images at a time to our neural network. With large models and datasets, we would not be able to fit all that data in the GPU or computer memory. So we feed a few items at a time. \n",
    "\n",
    "The small group of images that we are feeding to the network simultaneously is called a `batch`.\n",
    "\n",
    "The number of images that we feed to the neural network simultaneously is called the `batch size`.\n",
    "\n",
    "pytorch has a `dataloader` class that can help you getting "
   ]
  },
  {
   "cell_type": "code",
   "execution_count": 40,
   "id": "a2ac7cca-4a95-4a5a-813d-9d38556d1ecb",
   "metadata": {},
   "outputs": [],
   "source": [
    "batch_size=16\n",
    "\n",
    "train_dataloader = torch.utils.data.DataLoader(train_dataset, \n",
    "                                           batch_size=batch_size,\n",
    "                                           shuffle=True, \n",
    "                                           num_workers=2, \n",
    "                                           pin_memory=True)\n",
    "\n",
    "test_dataloader = torch.utils.data.DataLoader(test_dataset, \n",
    "                                          batch_size=batch_size, \n",
    "                                          shuffle=False,\n",
    "                                          num_workers=2)"
   ]
  },
  {
   "cell_type": "code",
   "execution_count": 50,
   "id": "ef8ff6a0-c7c7-4e24-973a-6cf83b68ea8d",
   "metadata": {},
   "outputs": [],
   "source": [
    "dataiter = iter(train_dataloader)\n",
    "images, labels = next(dataiter)"
   ]
  },
  {
   "cell_type": "code",
   "execution_count": 51,
   "id": "96aedc2c-ecf3-4519-a3e4-219cf6188f37",
   "metadata": {},
   "outputs": [
    {
     "data": {
      "text/plain": [
       "torch.Size([16, 3, 32, 32])"
      ]
     },
     "execution_count": 51,
     "metadata": {},
     "output_type": "execute_result"
    }
   ],
   "source": [
    "images.shape"
   ]
  },
  {
   "cell_type": "markdown",
   "id": "8ac626ea-b370-48f4-bd28-9ac7342d39d7",
   "metadata": {},
   "source": [
    "The shape is [Batch, Color, Height, Width]."
   ]
  },
  {
   "cell_type": "code",
   "execution_count": 52,
   "id": "d5199294-033c-452f-a8ba-9ad983ad40f8",
   "metadata": {},
   "outputs": [
    {
     "data": {
      "text/plain": [
       "torch.Size([16])"
      ]
     },
     "execution_count": 52,
     "metadata": {},
     "output_type": "execute_result"
    }
   ],
   "source": [
    "labels.shape"
   ]
  },
  {
   "cell_type": "markdown",
   "id": "941daf62-af7b-41cd-9846-54a613b4fbd3",
   "metadata": {},
   "source": [
    "## Our model\n",
    "\n",
    "We can build our model using the class from the last class."
   ]
  },
  {
   "cell_type": "markdown",
   "id": "f4d6f32f-6dfc-48ea-a496-8877033a51c0",
   "metadata": {},
   "source": [
    "<div>\n",
    "<img src=\"../images/LeNet5.png\" width=\"1200\"/>\n",
    "</div>\n",
    "\n"
   ]
  },
  {
   "cell_type": "markdown",
   "id": "979d176b-c87a-4c15-8e11-43444ac37375",
   "metadata": {},
   "source": [
    "* Convolution: `torch.nn.Conv2d`\n",
    "* Subsampling: `torch.nn.MaxPool2d`\n",
    "* Full connection: `torch.nn.Linear` "
   ]
  },
  {
   "cell_type": "code",
   "execution_count": 64,
   "id": "92a941bc-b409-4be1-9410-f5d81d862820",
   "metadata": {},
   "outputs": [],
   "source": [
    "class Convolutional_model(nn.Module):\n",
    "    \"\"\"\n",
    "    Class to create convolutional neural network.\n",
    "    \"\"\"\n",
    "    def __init__(self):\n",
    "        \"\"\"\n",
    "        Initializer. Runs when an object is created\n",
    "        \"\"\"\n",
    "        super().__init__()\n",
    "        \n",
    "        # input images will be batch_size,3,32,32\n",
    "        self.conv1 = nn.Conv2d(in_channels=3, out_channels= 6, kernel_size=5,stride=1, padding=0)  # output shape: [batch_size, 6, 28, 28]\n",
    "        self.pool1 = nn.MaxPool2d(kernel_size=2) # a max poll operation, # output shape: [batch_size, 6, 14,14]\n",
    "        self.conv2 = nn.Conv2d(in_channels=6, out_channels=16, kernel_size=5,stride=1, padding=0)  # output shape: [batch_size, 16, 10, 10]\n",
    "        self.pool2 = nn.MaxPool2d(kernel_size=2)                                                   # output shape: [batch_size, 16 , 5, 5]\n",
    "        \n",
    "        \n",
    "        self.fc1 = nn.Linear(in_features = 16 * 5 * 5, out_features=120) # here we need to know the dimension of the data coming in (following second pool operation)\n",
    "        self.fc2 = nn.Linear(in_features = 120, out_features =84)\n",
    "        self.fc3 = nn.Linear(in_features = 84, out_features=10)\n",
    "        \n",
    "    def forward(self,x):\n",
    "        \"\"\"\n",
    "        Make predictions with our model\n",
    "        \"\"\"\n",
    "\n",
    "        # We have 2 x pool(relu(conv()))\n",
    "        # This is the part extracting visual features\n",
    "        \n",
    "        # input shape [batch,3,32,32]\n",
    "        x = F.relu(self.conv1(x)) # [batch, 6, 28, 28]\n",
    "        x = self.pool1(x) # [batch, 6, 14, 14]\n",
    "        \n",
    "        x = F.relu(self.conv2(x)) # [batch, 16, 10, 10]\n",
    "        x = self.pool2(x) # [batch, 16, 5, 5]\n",
    "\n",
    "        # We then have 3 linear layers. These layers are take visual features as inputs and find a way to classify the image.\n",
    "        x = torch.flatten(x, 1) # flatten all dimensions except batch, needed for the linear layer, [batch, 400]\n",
    "        x = F.relu(self.fc1(x)) # [batch, 120]\n",
    "        x = F.relu(self.fc2(x)) # [batch, 84]\n",
    "        x = self.fc3(x) # [batch, 10]\n",
    "        return x\n"
   ]
  },
  {
   "cell_type": "code",
   "execution_count": 122,
   "id": "84399822-40aa-46b3-b421-42800bf3b52f",
   "metadata": {},
   "outputs": [
    {
     "data": {
      "text/plain": [
       "[<matplotlib.lines.Line2D at 0x7f085e040a00>]"
      ]
     },
     "execution_count": 122,
     "metadata": {},
     "output_type": "execute_result"
    },
    {
     "data": {
      "image/png": "[encoded data removed]",
      "text/plain": [
       "<Figure size 640x480 with 1 Axes>"
      ]
     },
     "metadata": {},
     "output_type": "display_data"
    }
   ],
   "source": [
    "plt.plot(torch.arange(-10,10,0.1), F.relu(torch.arange(-10,10,0.1)))"
   ]
  },
  {
   "cell_type": "markdown",
   "id": "6f987f82-9893-4b14-bf0a-2c563514aed6",
   "metadata": {},
   "source": [
    "### When creating/modifying models, add one layer at a time**\n",
    "\n",
    "Below we just recreate the 4 layers of our model so that we can experiment with them."
   ]
  },
  {
   "cell_type": "code",
   "execution_count": 57,
   "id": "2324c6b3-20f2-4b11-99dd-55259689e5cf",
   "metadata": {},
   "outputs": [],
   "source": [
    "dataiter = iter(train_dataloader)\n",
    "images, labels = next(dataiter)"
   ]
  },
  {
   "cell_type": "code",
   "execution_count": 58,
   "id": "b7bcc6fb-91c2-4414-89c8-7745a871e555",
   "metadata": {},
   "outputs": [],
   "source": [
    "conv1 = nn.Conv2d(in_channels=3,out_channels=6,kernel_size=5,stride=1,padding=0)"
   ]
  },
  {
   "cell_type": "code",
   "execution_count": 59,
   "id": "5c6cee85-21f0-4bdd-a3e0-87c7230d1271",
   "metadata": {},
   "outputs": [
    {
     "data": {
      "text/plain": [
       "torch.Size([16, 3, 32, 32])"
      ]
     },
     "execution_count": 59,
     "metadata": {},
     "output_type": "execute_result"
    }
   ],
   "source": [
    "images.shape"
   ]
  },
  {
   "cell_type": "code",
   "execution_count": 61,
   "id": "117159e9-fd6c-4629-af82-d17a9117ed97",
   "metadata": {},
   "outputs": [],
   "source": [
    "out = conv1(images)"
   ]
  },
  {
   "cell_type": "code",
   "execution_count": 62,
   "id": "7bb64782-be48-46dd-b1fb-73e09ba4f853",
   "metadata": {},
   "outputs": [
    {
     "data": {
      "text/plain": [
       "torch.Size([16, 6, 28, 28])"
      ]
     },
     "execution_count": 62,
     "metadata": {},
     "output_type": "execute_result"
    }
   ],
   "source": [
    "out.shape"
   ]
  },
  {
   "cell_type": "code",
   "execution_count": 63,
   "id": "0db97c88-720b-4333-9f72-0826a8a8bfa5",
   "metadata": {},
   "outputs": [
    {
     "data": {
      "text/plain": [
       "torch.Size([16, 6, 14, 14])"
      ]
     },
     "execution_count": 63,
     "metadata": {},
     "output_type": "execute_result"
    }
   ],
   "source": [
    "pool1 = nn.MaxPool2d(kernel_size=2)\n",
    "out = pool1(out)\n",
    "out.shape"
   ]
  },
  {
   "cell_type": "code",
   "execution_count": null,
   "id": "54597c51-2663-4530-8f99-907c9e40eefd",
   "metadata": {},
   "outputs": [],
   "source": [
    "conv2 = nn.Conv2d(in_channels=6,out_channels=16, kernel_size=5, stride=1, padding=0)\n",
    "pool2 = nn.MaxPool2d(kernel_size=2)"
   ]
  },
  {
   "cell_type": "markdown",
   "id": "cdf713db-559e-4433-9ba9-6438d76efaa6",
   "metadata": {},
   "source": [
    "We can pass our batch of images in each layer and print the output size for example."
   ]
  },
  {
   "cell_type": "code",
   "execution_count": 26,
   "id": "812c78ec-c0ab-436d-8f50-3455f03d4b0c",
   "metadata": {},
   "outputs": [
    {
     "name": "stdout",
     "output_type": "stream",
     "text": [
      "images.shape: torch.Size([16, 3, 32, 32])\n",
      "output of conv1 shape: torch.Size([16, 6, 28, 28])\n",
      "output of pool shape: torch.Size([16, 6, 14, 14])\n",
      "output of conv2 shape: torch.Size([16, 16, 10, 10])\n",
      "output of pool shape: torch.Size([16, 16, 5, 5])\n"
     ]
    }
   ],
   "source": [
    "print(\"images.shape:\",images.shape)\n",
    "res = F.relu(conv1(images))\n",
    "print(\"output of conv1 shape:\", res.shape)\n",
    "res = pool1(res)\n",
    "print(\"output of pool shape:\", res.shape)\n",
    "res = F.relu(conv2(res))\n",
    "print(\"output of conv2 shape:\", res.shape)\n",
    "res = pool2(res)\n",
    "print(\"output of pool shape:\", res.shape)"
   ]
  },
  {
   "cell_type": "code",
   "execution_count": 65,
   "id": "7291ef0e-070b-473e-98bf-e61e5058e124",
   "metadata": {},
   "outputs": [],
   "source": [
    "conv_model = Convolutional_model()"
   ]
  },
  {
   "cell_type": "code",
   "execution_count": 68,
   "id": "53a0f8f0-ec8f-476f-8ad2-95c2c068e127",
   "metadata": {},
   "outputs": [
    {
     "data": {
      "text/plain": [
       "Convolutional_model(\n",
       "  (conv1): Conv2d(3, 6, kernel_size=(5, 5), stride=(1, 1))\n",
       "  (pool1): MaxPool2d(kernel_size=2, stride=2, padding=0, dilation=1, ceil_mode=False)\n",
       "  (conv2): Conv2d(6, 16, kernel_size=(5, 5), stride=(1, 1))\n",
       "  (pool2): MaxPool2d(kernel_size=2, stride=2, padding=0, dilation=1, ceil_mode=False)\n",
       "  (fc1): Linear(in_features=400, out_features=120, bias=True)\n",
       "  (fc2): Linear(in_features=120, out_features=84, bias=True)\n",
       "  (fc3): Linear(in_features=84, out_features=10, bias=True)\n",
       ")"
      ]
     },
     "execution_count": 68,
     "metadata": {},
     "output_type": "execute_result"
    }
   ],
   "source": [
    "conv_model"
   ]
  },
  {
   "cell_type": "code",
   "execution_count": 66,
   "id": "cb93852c-08b6-424e-9b26-7e8b5506de6c",
   "metadata": {},
   "outputs": [],
   "source": [
    "#for name,p in conv_model.named_parameters():\n",
    "#    print(name,p.shape,p)"
   ]
  },
  {
   "cell_type": "code",
   "execution_count": 67,
   "id": "5c008e7c-0778-47c7-a14d-b69ea7eee7f5",
   "metadata": {},
   "outputs": [
    {
     "name": "stdout",
     "output_type": "stream",
     "text": [
      "Number of parameters: 62006\n"
     ]
    }
   ],
   "source": [
    "print(\"Number of parameters:\", sum(p.numel() for p in conv_model.parameters()))"
   ]
  },
  {
   "cell_type": "markdown",
   "id": "becc80fa-4c9a-4faa-9f1f-e242cffc7ba5",
   "metadata": {},
   "source": [
    "Is this large?\n",
    "\n",
    "* A linear regression model: 2 parameters\n",
    "* Chat-GPT4: 1.76 trillion parameters\n",
    "\n",
    "To today's standards, this is a very small convolution neural network."
   ]
  },
  {
   "cell_type": "code",
   "execution_count": 71,
   "id": "e0f9f9e6-dd49-4820-939e-0c4be76396dd",
   "metadata": {},
   "outputs": [
    {
     "data": {
      "text/plain": [
       "tensor([-0.0619,  0.1438,  0.0849, -0.0803,  0.0806,  0.1164, -0.0447,  0.1181,\n",
       "        -0.0279, -0.0199], grad_fn=<SelectBackward0>)"
      ]
     },
     "execution_count": 71,
     "metadata": {},
     "output_type": "execute_result"
    }
   ],
   "source": [
    "conv_model(images)[0]"
   ]
  },
  {
   "cell_type": "code",
   "execution_count": 72,
   "id": "40c5728c-0c8d-4062-87c4-ddf0e08330f2",
   "metadata": {},
   "outputs": [
    {
     "data": {
      "text/plain": [
       "['plane',\n",
       " 'car',\n",
       " 'bird',\n",
       " 'cat',\n",
       " 'deer',\n",
       " 'dog',\n",
       " 'frog',\n",
       " 'horse',\n",
       " 'ship',\n",
       " 'truck']"
      ]
     },
     "execution_count": 72,
     "metadata": {},
     "output_type": "execute_result"
    }
   ],
   "source": [
    "class_names"
   ]
  },
  {
   "cell_type": "code",
   "execution_count": 73,
   "id": "1ef17992-e4d1-4d24-8582-2cce174b1e88",
   "metadata": {},
   "outputs": [
    {
     "data": {
      "text/plain": [
       "tensor([8, 6, 4, 9, 4, 8, 2, 1, 2, 5, 4, 9, 7, 9, 5, 6])"
      ]
     },
     "execution_count": 73,
     "metadata": {},
     "output_type": "execute_result"
    }
   ],
   "source": [
    "labels"
   ]
  },
  {
   "cell_type": "markdown",
   "id": "1815230e-1da6-414a-a06e-ec4a9c5b8a55",
   "metadata": {},
   "source": [
    "## Loss function\n",
    "\n",
    "We need a loss function that works with categorical data. \n",
    "\n",
    "The idea is that we have as many output numbers as there are categories. These numbers are the probability that the image is part of a category.\n",
    "\n",
    "For instance, if the label of an image is `car` (value 1), the ideal output of the network would be `0100000000`. \n",
    "\n",
    "The last layer has an output size of 10, which is the number of categories we have in the dataset."
   ]
  },
  {
   "cell_type": "code",
   "execution_count": 75,
   "id": "1912a980-5b7b-4f2b-9f94-3a14781433de",
   "metadata": {},
   "outputs": [],
   "source": [
    "import torch.optim as optim\n",
    "\n",
    "loss_fn = nn.CrossEntropyLoss()\n",
    "optimizer = optim.SGD(conv_model.parameters(), lr=0.001, momentum=0.9)"
   ]
  },
  {
   "cell_type": "markdown",
   "id": "15563123-b47f-484b-a7dd-af28b8ed25af",
   "metadata": {},
   "source": [
    "More information about the cross entropy loss function:  https://pytorch.org/docs/stable/generated/torch.nn.CrossEntropyLoss.html "
   ]
  },
  {
   "cell_type": "markdown",
   "id": "c65aa380-1faf-46ad-a100-2c2ce8712c1b",
   "metadata": {},
   "source": [
    "## Training the model"
   ]
  },
  {
   "cell_type": "code",
   "execution_count": 76,
   "id": "0b2c4ab6-3311-4f9c-8bcc-bc401778cbe3",
   "metadata": {},
   "outputs": [],
   "source": [
    "def training_loop(n_epochs, optimizer, loss_fn, model, train_dataloader):\n",
    "    for epoch in range (n_epochs):\n",
    "        \n",
    "        loss_sum = 0.0\n",
    "        for batch_no, data in enumerate(train_dataloader, 0):\n",
    "            # get the inputs; data is a list of [inputs, labels]\n",
    "            images, labels = data\n",
    "        \n",
    "        \n",
    "            yhat = model(images) # make predictions\n",
    "            loss = loss_fn(yhat,labels) # calculate the loss\n",
    "            \n",
    "            optimizer.zero_grad() # zero the gradients of our model's parameters\n",
    "            loss.backward() # calculate gradients of the model's parameters\n",
    "            optimizer.step() # will change the model parameters to reduce the loss\n",
    "        \n",
    "            loss_sum = loss_sum + loss.item()\n",
    "            \n",
    "            if batch_no % 500 == 499:\n",
    "                print(\"Epoch: {}, batch: {} Loss: {}\".format(epoch,batch_no+1, loss_sum))\n",
    "                loss_sum=0.0\n",
    "    return"
   ]
  },
  {
   "cell_type": "code",
   "execution_count": 78,
   "id": "f1c5400c-b551-40fa-8ada-06232f9f3c81",
   "metadata": {},
   "outputs": [
    {
     "name": "stdout",
     "output_type": "stream",
     "text": [
      "Epoch: 0, batch: 500 Loss: 620.0342646241188\n",
      "Epoch: 0, batch: 1000 Loss: 618.8805445432663\n",
      "Epoch: 0, batch: 1500 Loss: 619.5650469064713\n",
      "Epoch: 0, batch: 2000 Loss: 609.3703420758247\n",
      "Epoch: 0, batch: 2500 Loss: 610.5137358307838\n",
      "Epoch: 0, batch: 3000 Loss: 616.5101228356361\n",
      "Epoch: 1, batch: 500 Loss: 580.9940719008446\n",
      "Epoch: 1, batch: 1000 Loss: 588.9493147730827\n",
      "Epoch: 1, batch: 1500 Loss: 575.4773086905479\n",
      "Epoch: 1, batch: 2000 Loss: 581.4485549628735\n",
      "Epoch: 1, batch: 2500 Loss: 585.1773946285248\n",
      "Epoch: 1, batch: 3000 Loss: 578.0868128538132\n",
      "Epoch: 2, batch: 500 Loss: 551.8107440471649\n",
      "Epoch: 2, batch: 1000 Loss: 548.4174157381058\n",
      "Epoch: 2, batch: 1500 Loss: 551.0435487031937\n",
      "Epoch: 2, batch: 2000 Loss: 557.2260854840279\n",
      "Epoch: 2, batch: 2500 Loss: 559.431689620018\n",
      "Epoch: 2, batch: 3000 Loss: 556.2282591760159\n"
     ]
    }
   ],
   "source": [
    "training_loop(n_epochs=3,\n",
    "              optimizer=optimizer,\n",
    "              loss_fn=loss_fn,\n",
    "              model=conv_model,\n",
    "             train_dataloader=train_dataloader)"
   ]
  },
  {
   "cell_type": "markdown",
   "id": "e444fdaa-717c-48f2-8fa6-fc8ffc4cd269",
   "metadata": {},
   "source": [
    "## Saving your model to file \n",
    "\n",
    "With larger models trained on large datasets, you will want to save your trained model so that you don't have to train it from scratch all the time."
   ]
  },
  {
   "cell_type": "code",
   "execution_count": 79,
   "id": "485d8d3c-e8d4-494d-b339-dcc772432a47",
   "metadata": {},
   "outputs": [],
   "source": [
    "file_name = '../models/cifar10_conv_model.pth'\n",
    "torch.save(conv_model.state_dict(), file_name)"
   ]
  },
  {
   "cell_type": "markdown",
   "id": "1a4a39a0-6247-4b73-866e-2fc47cbf3edb",
   "metadata": {},
   "source": [
    "## Loading your model from file"
   ]
  },
  {
   "cell_type": "code",
   "execution_count": 80,
   "id": "0467cb58-78d6-4c00-a7ae-b33cc57d2f0d",
   "metadata": {},
   "outputs": [],
   "source": [
    "file_name = '../models/cifar10_conv_model.pth'\n",
    "loaded_state_dict = torch.load(file_name)"
   ]
  },
  {
   "cell_type": "code",
   "execution_count": 81,
   "id": "9841c547-f88c-40a3-b2e6-502b08417d1e",
   "metadata": {},
   "outputs": [
    {
     "data": {
      "text/plain": [
       "<All keys matched successfully>"
      ]
     },
     "execution_count": 81,
     "metadata": {},
     "output_type": "execute_result"
    }
   ],
   "source": [
    "conv_model = Convolutional_model()\n",
    "conv_model.load_state_dict(loaded_state_dict)"
   ]
  },
  {
   "cell_type": "markdown",
   "id": "170539d3-2b77-4f6a-bb4e-47af0965110d",
   "metadata": {},
   "source": [
    "## Evaluate our trained model"
   ]
  },
  {
   "cell_type": "code",
   "execution_count": 82,
   "id": "f3c93866-2c70-4d15-87f5-0894de2f0c16",
   "metadata": {},
   "outputs": [],
   "source": [
    "dataiter = iter(test_dataloader)"
   ]
  },
  {
   "cell_type": "code",
   "execution_count": 91,
   "id": "21b8f6cb-24b5-4955-acc1-cbd17b540ff4",
   "metadata": {},
   "outputs": [
    {
     "data": {
      "text/plain": [
       "['plane',\n",
       " 'car',\n",
       " 'bird',\n",
       " 'cat',\n",
       " 'deer',\n",
       " 'dog',\n",
       " 'frog',\n",
       " 'horse',\n",
       " 'ship',\n",
       " 'truck']"
      ]
     },
     "execution_count": 91,
     "metadata": {},
     "output_type": "execute_result"
    }
   ],
   "source": [
    "class_names"
   ]
  },
  {
   "cell_type": "code",
   "execution_count": 97,
   "id": "81462fc0-8a97-4092-b250-762cf9041310",
   "metadata": {},
   "outputs": [
    {
     "data": {
      "text/plain": [
       "tensor([4, 5, 9, 2, 4, 1, 9, 5, 4, 6, 5, 6, 0, 9, 3, 9])"
      ]
     },
     "execution_count": 97,
     "metadata": {},
     "output_type": "execute_result"
    }
   ],
   "source": [
    "images, labels = next(dataiter)\n",
    "labels"
   ]
  },
  {
   "cell_type": "code",
   "execution_count": 98,
   "id": "4a01ccbb-b0e8-43b8-a6e3-9f6b0e995cd0",
   "metadata": {},
   "outputs": [],
   "source": [
    "with torch.no_grad():\n",
    "    res = conv_model(images)"
   ]
  },
  {
   "cell_type": "markdown",
   "id": "d23c80cd-fd69-4daf-af1d-326603fbb1e3",
   "metadata": {},
   "source": []
  },
  {
   "cell_type": "markdown",
   "id": "214c6ea4-5256-4cdc-a0a9-65cdda2165f1",
   "metadata": {},
   "source": [
    "We can use the `torch.max()` function to get the index with the highest value."
   ]
  },
  {
   "cell_type": "code",
   "execution_count": 105,
   "id": "c5137217-8b8f-4e49-b81e-a5c8cc910855",
   "metadata": {},
   "outputs": [
    {
     "data": {
      "text/plain": [
       "torch.Size([16, 10])"
      ]
     },
     "execution_count": 105,
     "metadata": {},
     "output_type": "execute_result"
    }
   ],
   "source": [
    "res.shape"
   ]
  },
  {
   "cell_type": "code",
   "execution_count": 99,
   "id": "447ccd94-676b-42b3-bc2c-88d02924dc16",
   "metadata": {},
   "outputs": [],
   "source": [
    "_, predictions = torch.max(res,1)"
   ]
  },
  {
   "cell_type": "code",
   "execution_count": 100,
   "id": "23901b84-371e-4ba9-b117-7431f987ec47",
   "metadata": {},
   "outputs": [
    {
     "data": {
      "text/plain": [
       "tensor([4, 3, 9, 9, 4, 9, 9, 5, 0, 6, 7, 6, 0, 9, 3, 9])"
      ]
     },
     "execution_count": 100,
     "metadata": {},
     "output_type": "execute_result"
    }
   ],
   "source": [
    "predictions"
   ]
  },
  {
   "cell_type": "code",
   "execution_count": 101,
   "id": "92977bc4-f491-43b6-89e6-8d27e042c6ff",
   "metadata": {},
   "outputs": [
    {
     "data": {
      "text/plain": [
       "tensor([4, 5, 9, 2, 4, 1, 9, 5, 4, 6, 5, 6, 0, 9, 3, 9])"
      ]
     },
     "execution_count": 101,
     "metadata": {},
     "output_type": "execute_result"
    }
   ],
   "source": [
    "labels"
   ]
  },
  {
   "cell_type": "code",
   "execution_count": 104,
   "id": "e1a24916-e043-4c83-8b22-31356face3c3",
   "metadata": {},
   "outputs": [
    {
     "name": "stderr",
     "output_type": "stream",
     "text": [
      "Clipping input data to the valid range for imshow with RGB data ([0..1] for floats or [0..255] for integers).\n"
     ]
    },
    {
     "data": {
      "image/png": "[encoded data removed]",
      "text/plain": [
       "<Figure size 640x480 with 1 Axes>"
      ]
     },
     "metadata": {},
     "output_type": "display_data"
    }
   ],
   "source": [
    "index = 6\n",
    "plt.imshow(images[index].permute(1,2,0))\n",
    "plt.title(\"The model thinks this is a {}\\nThis is a {}\".format(class_names[predictions[index].item()],\n",
    "                                                          class_names[labels[index]]))\n",
    "plt.show()"
   ]
  },
  {
   "cell_type": "code",
   "execution_count": 106,
   "id": "552dd06f-8016-40df-a4ce-559aaac77071",
   "metadata": {},
   "outputs": [
    {
     "data": {
      "text/plain": [
       "tensor([ True, False,  True, False,  True, False,  True,  True, False,  True,\n",
       "        False,  True,  True,  True,  True,  True])"
      ]
     },
     "execution_count": 106,
     "metadata": {},
     "output_type": "execute_result"
    }
   ],
   "source": [
    "labels == predictions"
   ]
  },
  {
   "cell_type": "code",
   "execution_count": 107,
   "id": "8c2a8693-04e3-4edc-8e73-78873beb3a4e",
   "metadata": {},
   "outputs": [
    {
     "data": {
      "text/plain": [
       "tensor(11)"
      ]
     },
     "execution_count": 107,
     "metadata": {},
     "output_type": "execute_result"
    }
   ],
   "source": [
    "torch.sum(labels == predictions)"
   ]
  },
  {
   "cell_type": "code",
   "execution_count": 108,
   "id": "e7959578-fcce-48ba-9b41-bc0513eaafde",
   "metadata": {},
   "outputs": [
    {
     "data": {
      "text/plain": [
       "tensor(0.6875)"
      ]
     },
     "execution_count": 108,
     "metadata": {},
     "output_type": "execute_result"
    }
   ],
   "source": [
    "torch.sum(labels==predictions)/predictions.shape[0]"
   ]
  },
  {
   "cell_type": "code",
   "execution_count": 109,
   "id": "b06dfe5e-10a4-4814-89cb-f526777150a9",
   "metadata": {},
   "outputs": [],
   "source": [
    "def evaluate_model_accuracy(model, dataloader):\n",
    "    \"\"\"\n",
    "    Function to calculate the classification accuracy of a model on a given dataset.\n",
    "    \"\"\"\n",
    "    correct = 0\n",
    "    total = 0\n",
    "    # since we're not training, we don't need to calculate the gradients for our outputs\n",
    "    with torch.no_grad():\n",
    "        for data in dataloader:\n",
    "            images, labels = data\n",
    "            # calculate outputs by running images through the network\n",
    "            outputs = model(images)\n",
    "            # the class with the highest energy is what we choose as prediction\n",
    "            _, predicted = torch.max(outputs.data, 1)\n",
    "            total += labels.size(0)\n",
    "            correct += (predicted == labels).sum().item()\n",
    "            \n",
    "    return correct*100/total, correct,total"
   ]
  },
  {
   "cell_type": "code",
   "execution_count": 110,
   "id": "1eb7c630-dc13-4d6d-9f56-e352b0148c6f",
   "metadata": {},
   "outputs": [],
   "source": [
    "train_accuracy,_,_ = evaluate_model_accuracy(conv_model,train_dataloader)\n",
    "test_accuracy,_,_  = evaluate_model_accuracy(conv_model,test_dataloader)"
   ]
  },
  {
   "cell_type": "code",
   "execution_count": 111,
   "id": "8c9d8d69-eff9-4f54-9802-acd37c9e7b5d",
   "metadata": {},
   "outputs": [
    {
     "name": "stdout",
     "output_type": "stream",
     "text": [
      "Accuracy on training set: 63.47\n",
      "Accuracy on test set: 59.63\n"
     ]
    }
   ],
   "source": [
    "print(\"Accuracy on training set:\", train_accuracy)\n",
    "print(\"Accuracy on test set:\", test_accuracy)"
   ]
  },
  {
   "cell_type": "code",
   "execution_count": 112,
   "id": "d58b5034-6b18-4955-a8c4-ae426e635426",
   "metadata": {},
   "outputs": [
    {
     "name": "stdout",
     "output_type": "stream",
     "text": [
      "Accuracy for class: plane is 73.4 %\n",
      "Accuracy for class: car   is 79.2 %\n",
      "Accuracy for class: bird  is 41.1 %\n",
      "Accuracy for class: cat   is 43.6 %\n",
      "Accuracy for class: deer  is 59.1 %\n",
      "Accuracy for class: dog   is 37.6 %\n",
      "Accuracy for class: frog  is 64.1 %\n",
      "Accuracy for class: horse is 67.0 %\n",
      "Accuracy for class: ship  is 61.8 %\n",
      "Accuracy for class: truck is 69.4 %\n"
     ]
    }
   ],
   "source": [
    "correct_pred = {classname: 0 for classname in class_names}\n",
    "total_pred = {classname: 0 for classname in class_names}\n",
    "\n",
    "with torch.no_grad():\n",
    "    for data in test_dataloader:\n",
    "        images, labels = data\n",
    "        outputs = conv_model(images)\n",
    "        _, predictions = torch.max(outputs, 1)\n",
    "        # collect the correct predictions for each class\n",
    "        for label, prediction in zip(labels, predictions):\n",
    "            if label == prediction:\n",
    "                correct_pred[class_names[label]] += 1\n",
    "            total_pred[class_names[label]] += 1\n",
    "\n",
    "\n",
    "# print accuracy for each class\n",
    "for classname, correct_count in correct_pred.items():\n",
    "    accuracy = 100 * float(correct_count) / total_pred[classname]\n",
    "    print(f'Accuracy for class: {classname:5s} is {accuracy:.1f} %')"
   ]
  },
  {
   "cell_type": "markdown",
   "id": "7d96b58d-388c-4f31-a815-ca226401d294",
   "metadata": {},
   "source": [
    "You now have a better understanding of how Google, Facebook, etc. classify your images."
   ]
  },
  {
   "cell_type": "markdown",
   "id": "efd6adeb-e96e-4d30-bd54-bc75efd0098a",
   "metadata": {},
   "source": [
    "## Let's have a look at the filter in our first layer"
   ]
  },
  {
   "cell_type": "code",
   "execution_count": 113,
   "id": "b900b6a2-0418-46ee-9b18-4149ec579393",
   "metadata": {},
   "outputs": [],
   "source": [
    "myIter = iter(conv_model.named_parameters())\n",
    "name, param = next(myIter)"
   ]
  },
  {
   "cell_type": "code",
   "execution_count": 114,
   "id": "84e1cc19-56e5-4ca9-90a5-067e1a00a7a1",
   "metadata": {},
   "outputs": [
    {
     "data": {
      "text/plain": [
       "('conv1.weight', torch.Size([6, 3, 5, 5]))"
      ]
     },
     "execution_count": 114,
     "metadata": {},
     "output_type": "execute_result"
    }
   ],
   "source": [
    "name, param.shape"
   ]
  },
  {
   "cell_type": "code",
   "execution_count": 115,
   "id": "829a5a96-5cdc-41fd-a4ca-0449f82afe84",
   "metadata": {},
   "outputs": [
    {
     "data": {
      "text/plain": [
       "(-0.49702975153923035, 0.5049564838409424)"
      ]
     },
     "execution_count": 115,
     "metadata": {},
     "output_type": "execute_result"
    }
   ],
   "source": [
    "pmin = param.min().detach().numpy().item()\n",
    "pmax = param.max().detach().numpy().item()\n",
    "pmin,pmax"
   ]
  },
  {
   "cell_type": "code",
   "execution_count": 116,
   "id": "bed7f1dc-146c-41af-8881-4107d2a27abc",
   "metadata": {},
   "outputs": [
    {
     "data": {
      "image/png": "[encoded data removed]",
      "text/plain": [
       "<Figure size 1500x300 with 6 Axes>"
      ]
     },
     "metadata": {},
     "output_type": "display_data"
    }
   ],
   "source": [
    "nrow=1\n",
    "ncol=param.shape[0]\n",
    "fig, ax = plt.subplots(nrow,ncol,figsize=(15,3))\n",
    "for i in range(param.shape[0]):\n",
    "    f = filter0 = param[i].permute(1,2,0).detach().numpy()\n",
    "    f = (f-pmin)/(pmax-pmin)\n",
    "    ax[i].imshow(f)\n",
    "    "
   ]
  },
  {
   "cell_type": "markdown",
   "id": "0988cbe3-79a1-434c-81e4-2061c9c15ad5",
   "metadata": {},
   "source": [
    "## Training networks using a GPU\n",
    "\n",
    "In this notebook, we trained a very small convolutional neural network on a set of very small images. You can train these models with the CPU and it is almost as fast as using a GPU.\n",
    "\n",
    "In most applications, you would be working with a larger convolutional network (e.g., [ResNet](https://pytorch.org/vision/main/models/resnet.html)) with images that are often more than 28x28 pixels (e.g., [ImageNet](https://pytorch.org/vision/stable/generated/torchvision.datasets.ImageNet.html)).\n",
    "\n",
    "For such task, training is often more than 10x faster using a GPU instead of a CPU.\n"
   ]
  },
  {
   "cell_type": "code",
   "execution_count": 55,
   "id": "4c918cc6-8fbd-47cf-9f1c-0d3d6f4599a0",
   "metadata": {},
   "outputs": [
    {
     "name": "stdout",
     "output_type": "stream",
     "text": [
      "Using device: cpu\n"
     ]
    }
   ],
   "source": [
    "device = torch.device('cuda' if torch.cuda.is_available() else 'cpu')\n",
    "print('Using device:', device)"
   ]
  },
  {
   "cell_type": "markdown",
   "id": "02c54fbd-6d6e-4b63-b40f-bbb0c3b6df1a",
   "metadata": {},
   "source": [
    "You need to make two changes to run your model on a GPU (if you have one)\n",
    "\n",
    "* Send the model to the GPU\n",
    "* In your training loop, move your labels and images to the GPU before passing them to your model\n",
    "* To work with the model output using the CPU, move the output of the model to the CPU."
   ]
  },
  {
   "cell_type": "code",
   "execution_count": 56,
   "id": "5ca0888a-e153-4c29-9759-27fab123964f",
   "metadata": {},
   "outputs": [],
   "source": [
    "conv_model = Convolutional_model().to(device)\n",
    "optimizer = optim.SGD(conv_model.parameters(), lr=0.001, momentum=0.9)"
   ]
  },
  {
   "cell_type": "code",
   "execution_count": 57,
   "id": "f19ff836-9fe6-4b37-bd09-8e884e035d5c",
   "metadata": {},
   "outputs": [],
   "source": [
    "def training_loop(n_epochs, optimizer, loss_fn, model, train_dataloader, test_dataloader,device):\n",
    "    for epoch in range (n_epochs):\n",
    "        \n",
    "        loss_sum = 0.0\n",
    "        for batch_no, data in enumerate(train_dataloader, 0):\n",
    "            # get the inputs; data is a list of [inputs, labels]\n",
    "            data, labels = data\n",
    "            data = data.to(device)\n",
    "            labels = labels.to(device)\n",
    "        \n",
    "            yhat = model(data) # make predictions\n",
    "            loss = loss_fn(yhat,labels) # calculate the loss\n",
    "            \n",
    "            optimizer.zero_grad() # zero the gradients of our model's parameters\n",
    "            loss.backward() # calculate gradients of the model's parameters\n",
    "            optimizer.step() # will change the model parameters to reduce the loss\n",
    "        \n",
    "            loss_sum = loss_sum + loss.item()\n",
    "            \n",
    "            if batch_no % 2000 == 1999:\n",
    "                print(\"Epoch: {}, batch: {} Loss: {}\".format(epoch,batch_no+1, loss_sum/2000))\n",
    "                loss_sum=0.0\n",
    "    return"
   ]
  },
  {
   "cell_type": "code",
   "execution_count": 58,
   "id": "a91cb04f-8c4e-42fd-be9f-7915d09ec673",
   "metadata": {},
   "outputs": [
    {
     "name": "stdout",
     "output_type": "stream",
     "text": [
      "Epoch: 0, batch: 2000 Loss: 2.047513883650303\n",
      "CPU times: user 1min 51s, sys: 1.01 s, total: 1min 52s\n",
      "Wall time: 11.4 s\n"
     ]
    }
   ],
   "source": [
    "%%time\n",
    "training_loop(n_epochs=1,\n",
    "              optimizer=optimizer,\n",
    "              loss_fn=loss_fn,\n",
    "              model=conv_model,\n",
    "             train_dataloader=train_dataloader,\n",
    "             test_dataloader=test_dataloader,\n",
    "             device=device)"
   ]
  },
  {
   "cell_type": "markdown",
   "id": "860dbc76-315e-4ad8-8eb1-f7072de7818c",
   "metadata": {},
   "source": [
    "If you load the train parameters from file, indicates on which device the parameters should be loaded."
   ]
  },
  {
   "cell_type": "code",
   "execution_count": 59,
   "id": "a4249eca-3113-460f-bdac-832e03dc4db9",
   "metadata": {},
   "outputs": [],
   "source": [
    "file_name = '../models/cifar10_conv_model.pth'\n",
    "loaded_state_dict = torch.load(file_name,map_location=device) # <- indicates whether the data should go to the GPU or CPU memory."
   ]
  },
  {
   "cell_type": "code",
   "execution_count": 60,
   "id": "bc2237c4-256c-4cbd-8824-cd008b3ef125",
   "metadata": {},
   "outputs": [],
   "source": [
    "conv_model = Convolutional_model()\n",
    "conv_model.load_state_dict(loaded_state_dict)\n",
    "conv_model = conv_model.to(device)"
   ]
  },
  {
   "cell_type": "markdown",
   "id": "1dbc59db-48ca-4301-9ed5-60b9ea33b8a1",
   "metadata": {},
   "source": [
    "We would also need to modify our function that calculate the model accuracy."
   ]
  },
  {
   "cell_type": "code",
   "execution_count": 61,
   "id": "01aa28ae-95fb-44ee-8d83-057d3fcb7b77",
   "metadata": {},
   "outputs": [],
   "source": [
    "def evaluate_model_accuracy(model, dataloader,device):\n",
    "    \"\"\"\n",
    "    Function to calculate the classification accuracy of a model on a given dataset.\n",
    "    \"\"\"\n",
    "    correct = 0\n",
    "    total = 0\n",
    "    # since we're not training, we don't need to calculate the gradients for our outputs\n",
    "    with torch.no_grad():\n",
    "        for data in dataloader:\n",
    "            images, labels = data\n",
    "            images = images.to(device)\n",
    "            labels = labels.to(device)\n",
    "            \n",
    "            # calculate outputs by running images through the network\n",
    "            outputs = model(images)\n",
    "            # the class with the highest energy is what we choose as prediction\n",
    "            _, predicted = torch.max(outputs.data, 1)\n",
    "            total += labels.size(0)\n",
    "            correct += (predicted == labels).sum().item()\n",
    "            \n",
    "    return correct*100/total, correct,total"
   ]
  },
  {
   "cell_type": "code",
   "execution_count": 62,
   "id": "7504eb95-0c8f-41ce-8efc-be56e7a4adbc",
   "metadata": {},
   "outputs": [],
   "source": [
    "train_accuracy,_,_ = evaluate_model_accuracy(conv_model,train_dataloader,device)\n",
    "test_accuracy,_,_  = evaluate_model_accuracy(conv_model,test_dataloader,device)"
   ]
  },
  {
   "cell_type": "code",
   "execution_count": 63,
   "id": "105baf0b-e809-4428-9789-52251154d78b",
   "metadata": {},
   "outputs": [
    {
     "name": "stdout",
     "output_type": "stream",
     "text": [
      "Accuracy on training set: 53.36\n",
      "Accuracy on test set: 51.46\n"
     ]
    }
   ],
   "source": [
    "print(\"Accuracy on training set:\", train_accuracy)\n",
    "print(\"Accuracy on test set:\", test_accuracy)"
   ]
  },
  {
   "cell_type": "markdown",
   "id": "d5187eb4-a8b3-4308-9502-d2f13f0ff6c5",
   "metadata": {},
   "source": [
    "## Exercises"
   ]
  },
  {
   "cell_type": "markdown",
   "id": "96f0554c-dfbd-4b52-9c1b-edcc748f5dc2",
   "metadata": {},
   "source": [
    "Modifying your convolutional neural network to improve classification accuracy on the test dataset. For example, by adding more convolutional filters? Try to get the highest accuracy on the test dataset."
   ]
  },
  {
   "cell_type": "code",
   "execution_count": null,
   "id": "92ae8e6c-ee02-43d0-89e1-c5c4332f1fe9",
   "metadata": {},
   "outputs": [],
   "source": []
  },
  {
   "cell_type": "markdown",
   "id": "2356328b-efda-45f0-8833-ab8ee79aefbf",
   "metadata": {},
   "source": [
    "Train a convolutional neural network to classifiy images of the MNIST dataset. In MNIST, the images have only one color channel instead of 3. They have a shape of (1,28,28)."
   ]
  },
  {
   "cell_type": "code",
   "execution_count": null,
   "id": "70971599-f097-4965-85f4-6969301fc050",
   "metadata": {},
   "outputs": [],
   "source": []
  }
 ],
 "metadata": {
  "kernelspec": {
   "display_name": "Python 3 (ipykernel)",
   "language": "python",
   "name": "python3"
  },
  "language_info": {
   "codemirror_mode": {
    "name": "ipython",
    "version": 3
   },
   "file_extension": ".py",
   "mimetype": "text/x-python",
   "name": "python",
   "nbconvert_exporter": "python",
   "pygments_lexer": "ipython3",
   "version": "3.10.12"
  }
 },
 "nbformat": 4,
 "nbformat_minor": 5
}
