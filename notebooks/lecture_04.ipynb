{
 "cells": [
  {
   "cell_type": "markdown",
   "metadata": {},
   "source": [
    "# Lecture 4, Data science in Neuroscience\n",
    "\n",
    "\n",
    "## Plan for today\n",
    "\n",
    "1. Review of last week's exercises: Mean waveforms of our spike clusters\n",
    "2. Overview of the next weeks\n",
    "3. Data analysis project 1\n",
    "4. Introduction to machine learning\n",
    "5. Quizz on machine learning\n",
    "6. Speed cell: a simple example of machine learning with a linear regression\n",
    "\n",
    "***"
   ]
  },
  {
   "cell_type": "markdown",
   "metadata": {},
   "source": [
    "## Review of last week's exercises\n",
    "\n",
    "see `lecture_03.ipynb`\n",
    "\n",
    "***\n"
   ]
  },
  {
   "cell_type": "markdown",
   "metadata": {},
   "source": [
    "## Data analysis project 1\n",
    "\n",
    "In the last step of the spike extraction procedure, we applied a K-means clustering algorithm to our spike waveform. Was this the best choice for this problem?\n",
    "\n",
    "In a jupyter notebook, compare k-means clustering with at least 3 other clustering techniques available in [Scikit-learn](https://scikit-learn.org/stable/modules/clustering.html#clustering). \n",
    "\n",
    "For each of 4 clustering technique (including k-means):\n",
    "1. Describe briefly how the algorhithm works\n",
    "2. List a few advantages and disadvantages of the technique\n",
    "3. Apply the techniques to your waveforms\n",
    "4. Display the results\n",
    "\n",
    "As a conclusion, and based on what you learned, choose which technique you think is the best for clustering our spike waveforms. Describe in a few reasons why you chose this algorighm.\n",
    "\n"
   ]
  },
  {
   "cell_type": "markdown",
   "metadata": {},
   "source": [
    "***\n",
    "## Overview of the next weeks\n",
    "\n",
    "1. Machine learning introduction (17.11.2022)\n",
    "2. Behavioral tracking with a deep neural network (Deeplabcut) (24.11.2022)\n",
    "3. Behavioral correlates of firing activity (place cells and grid cells) (01.12.2022)\n",
    "4. Statistical testing (08.12.2021)\n",
    "5. Presentation of data analysis project (15.01.2022)\n"
   ]
  },
  {
   "cell_type": "markdown",
   "metadata": {},
   "source": [
    "***\n",
    "## Introduction to machine learning\n",
    "\n",
    "What is machine learning?\n",
    "\n",
    "\n",
    "**Machine learning is the field of study that gives computers the ability to learn without being explicitly programmed.**\n",
    "\n",
    "**The computer learns from input data to achieve a specific objective.**\n",
    "\n",
    "Examples: \n",
    "\n",
    "* A program learns to identify the nose, ears and tail of a mouse in images (complex model). \n",
    "* A program learns the linear relationship between the firing rate of a neuron and the running speed of an animal (simple model).\n"
   ]
  },
  {
   "cell_type": "markdown",
   "metadata": {},
   "source": [
    "## Why should you care about machine learning as a Neuroscientist?\n"
   ]
  },
  {
   "cell_type": "markdown",
   "metadata": {},
   "source": [
    "Machine learning is behind many modern tools used by neuroscients.\n",
    "\n",
    "* [Track behavior](https://www.nature.com/articles/s41593-018-0209-y)\n",
    "* [Image segmentation (e.g., cell counting)](https://www.nature.com/articles/s41592-018-0261-2)\n",
    "* [Spike extraction and clustering](https://www.biorxiv.org/content/10.1101/061481v1)\n",
    "\n",
    "They make new experiments possible. They can discover patterns in your data.\n",
    "\n",
    "These are state-of-the-art software in their respective field."
   ]
  },
  {
   "cell_type": "markdown",
   "metadata": {},
   "source": [
    "## Objective during this course\n",
    "\n",
    "* Understand what machine learning is.\n",
    "* Get faminiar with the terminology\n",
    "* Experiment with a few examples\n",
    "* Try to go from math formulas to python code"
   ]
  },
  {
   "cell_type": "markdown",
   "metadata": {},
   "source": [
    "## Definition of machine learning\n",
    "\n",
    "* Input: $X$ (single number or an array)\n",
    "* Output: $Y$ (single number or an array)\n",
    "* Unknown function or model: $f()$\n",
    "* Random error: $\\epsilon$\n",
    "\n",
    "$Y = f(X) + \\epsilon $\n",
    "\n",
    "Machine learning refers to a set of approaches for estimating the best parameters in $f()$"
   ]
  },
  {
   "cell_type": "markdown",
   "metadata": {},
   "source": [
    "$f()$ can be the the equation for a line or a deep neural network with millions of parameters."
   ]
  },
  {
   "cell_type": "markdown",
   "metadata": {},
   "source": [
    "***\n",
    "## What is learning?\n",
    "\n",
    "Learning can be defined as finding the best model parameters to solve a problem.\n",
    "\n",
    "**Simple example**: Find the relationship between IQ and education with a linear regression model. Two parameters ($a$ and $b$).\n",
    "\n",
    "$y = a*x + b $\n",
    "\n",
    "**Complex example**: Find a mouse in an image. Millions of parameters.\n",
    "\n",
    "\n",
    "<div>\n",
    "<img src=\"../images/deep-neural-network.png\" width=\"500\"/>\n",
    "</div>\n",
    "\n"
   ]
  },
  {
   "cell_type": "markdown",
   "metadata": {},
   "source": [
    "## A typical training loop\n",
    "\n",
    "1. Initialize the model with random parameters\n",
    "2. Feed data with labels to your model\n",
    "3. Calculate the error of your model (using a loss function).\n",
    "4. Adjust the model parameters by a small amount to reduce the error.\n",
    "5. Go back to 2.\n",
    "\n",
    "This training loop is very common in machine learning."
   ]
  },
  {
   "cell_type": "markdown",
   "metadata": {},
   "source": [
    "***\n",
    "# Terminology in machine learning\n",
    "\n",
    "## Prediction versus inference\n",
    "\n",
    "Why do we want to estimate $f$?\n",
    "\n",
    "\n",
    "### Prediction\n",
    "\n",
    "* We focus on predicting $Y$.\n",
    "* $f$ is treated as a black box\n",
    "\n",
    "### Inference\n",
    "\n",
    "* **Understand** a phenomena by modelling it.\n",
    "* Which predictors are associated with the response?\n",
    "* Is the relation between $Y$ and each predictor adequately summarized using a linear equation?\n"
   ]
  },
  {
   "cell_type": "markdown",
   "metadata": {},
   "source": [
    "***\n",
    "## Supervised versus unsupervised\n",
    "\n",
    "### Supervised\n",
    "* The training set contains labeled data.\n",
    "* For each observation of the predictors $X_{i}, i = 1,...,n$ there is a known response measurement $y_{i}$.\n",
    "* Example: linear regression\n",
    "\n",
    "### Unsupervised\n",
    "* Uncovering hidden patterns from unlabeled data.\n",
    "* For each observation $i = 1,...,n$, we observed a vector of measurements $X_{i}$, but no response $y_{i}$.\n",
    "* Examples: PCA and k-means clustering used in lecture 3.\n"
   ]
  },
  {
   "cell_type": "markdown",
   "metadata": {},
   "source": [
    "***\n",
    "## Regression versus classification\n",
    "\n",
    "### Regression\n",
    "\n",
    "* $Y$ is a continuous variable\n",
    "* Examples: Numbers from 0 to 100\n",
    "\n",
    "### Classification\n",
    "\n",
    "* $Y$ is a categorical variable\n",
    "* Examples: Classify cats and dogs, \n",
    "* Different types of neurons (pyramidal cells vs interneurons)\n"
   ]
  },
  {
   "cell_type": "markdown",
   "metadata": {},
   "source": [
    "***\n",
    "## Training and test sets\n",
    "\n",
    "### Training set\n",
    "\n",
    "* The observations (data points) that we use to estimate $f$ (to train our model). \n",
    "\n",
    "### Test set\n",
    "\n",
    "* Observations used to test how accurate our model is. The model has never \"seen\" this data because they are not used during training!\n",
    "\n",
    "* The test set is very important when using complex models with many parameters. Complex models can learn to perform great on your training set but may generalize very poorly to new data. This is called **overfitting**. You can assess whether your model is overfitting using a test set.\n"
   ]
  },
  {
   "cell_type": "markdown",
   "metadata": {},
   "source": [
    "***\n",
    "## Time for a quizz!\n",
    "\n",
    "[Quizz ink](https://forms.gle/uYvtpkNYX7foZFUZ6)\n",
    "\n",
    "or\n",
    "\n",
    "https://forms.gle/uYvtpkNYX7foZFUZ6\n",
    "\n",
    "\n",
    "You have 7 minutes to complete the questions.\n"
   ]
  },
  {
   "cell_type": "markdown",
   "metadata": {},
   "source": [
    "***\n",
    "# Using machine learning to characterize a speed cell.\n",
    "\n",
    "**Speed cell**: Neuron that increases its firing rate when the animal runs at higher speed. These neurons have been observed in several brain areas, including the medial entorhinal cortex, hippocampus, and visual cortex.\n",
    "\n",
    "[Speed cells in the medial entorhinal cortex (2015) Nature](https://www.nature.com/articles/nature14622)\n",
    "\n",
    "\n",
    "<div>\n",
    "<img src=\"../images/speed_kropff.png\" width=\"1000\"/>\n",
    "</div>\n",
    "\n"
   ]
  },
  {
   "cell_type": "markdown",
   "metadata": {},
   "source": [
    "## Our task\n",
    "\n",
    "Write and **train a linear model** that will describe how the firing rate of a neuron is related to the running speed of a mouse.\n",
    "\n",
    "Because we want to understand how machine learning works under the hood, we will do all the steps without using external libraries like scipy, scikit-learn or pytorch.\n",
    "\n"
   ]
  },
  {
   "cell_type": "markdown",
   "metadata": {},
   "source": [
    "## A simulated speed cell\n",
    "\n",
    "To know if our modeling approach is working, it is useful to start with simulated data. The main advantage is that we know the exact parameters that were used when generating the data. If your approach works, it should find the same parameters.\n",
    "\n",
    "* When coding, it is usually a good idea to start with simulated data. Some problems will be easier to fix. You can easily manipulated/change simulated data and assess the effect on your model.\n",
    "* Try to make your simulated data as similar as the real data with which you plan to use the model.\n"
   ]
  },
  {
   "cell_type": "markdown",
   "metadata": {},
   "source": [
    "#### Position data from a real experiment"
   ]
  },
  {
   "cell_type": "markdown",
   "metadata": {},
   "source": [
    "We can load position tracking data from a real experiment with a mouse. The file contains the position of the animal as a function of time. \n",
    "\n",
    "The animal was exploring an arena with a diameter of 80 cm.\n",
    "\n",
    "The duration of the recording is 10 minutes."
   ]
  },
  {
   "cell_type": "code",
   "execution_count": 1,
   "metadata": {},
   "outputs": [],
   "source": [
    "import numpy as np\n",
    "import matplotlib.pyplot as plt"
   ]
  },
  {
   "cell_type": "code",
   "execution_count": 2,
   "metadata": {},
   "outputs": [
    {
     "name": "stdout",
     "output_type": "stream",
     "text": [
      "<class 'numpy.ndarray'> 2 (30000, 3)\n"
     ]
    }
   ],
   "source": [
    "fn=\"../data/animal_path.npy\"\n",
    "path = np.load(fn)\n",
    "# get some information about the data just loaded\n",
    "print(type(path), path.ndim, path.shape)"
   ]
  },
  {
   "cell_type": "markdown",
   "metadata": {},
   "source": [
    "This is a NumPy array with 2 dimensions. It contains 30000 rows and 3 columns. \n",
    "\n",
    "The columns are :\n",
    "\n",
    "* column 0: time in seconds\n",
    "* column 1: x position in cm\n",
    "* column 2: y positiony in cm\n",
    "\n",
    "To work with meaningful variable names, we will save the data in `time`, `x` and `y`"
   ]
  },
  {
   "cell_type": "code",
   "execution_count": 3,
   "metadata": {},
   "outputs": [],
   "source": [
    "time = path[:,0]\n",
    "x = path[:,1]\n",
    "y = path[:,2]"
   ]
  },
  {
   "cell_type": "markdown",
   "metadata": {},
   "source": [
    "Have a look at the data to ensure they were loaded correctly."
   ]
  },
  {
   "cell_type": "code",
   "execution_count": 4,
   "metadata": {},
   "outputs": [
    {
     "data": {
      "image/png": "[encoded data removed]",
      "text/plain": [
       "<Figure size 432x288 with 1 Axes>"
      ]
     },
     "metadata": {
      "needs_background": "light"
     },
     "output_type": "display_data"
    },
    {
     "data": {
      "image/png": "[encoded data removed]",
      "text/plain": [
       "<Figure size 432x288 with 1 Axes>"
      ]
     },
     "metadata": {
      "needs_background": "light"
     },
     "output_type": "display_data"
    }
   ],
   "source": [
    "plt.plot(x,y)\n",
    "plt.xlabel(\"X position (cm)\")\n",
    "plt.ylabel(\"Y position (cm)\")\n",
    "plt.show()\n",
    "plt.plot(time,x)\n",
    "plt.xlabel(\"Time (sec)\")\n",
    "plt.ylabel(\"X position (cm)\")\n",
    "plt.show()"
   ]
  },
  {
   "cell_type": "markdown",
   "metadata": {},
   "source": [
    "#### Exercise: Calculate running speed\n",
    "We need to calculate the speed of the animal from the position data.\n",
    "\n",
    "A google search reveals that speed is distance/time. \n",
    "\n",
    "You find that distance: $D= \\sqrt{(x1-x0)^2 + (y1-y0)^2}$\n",
    "\n",
    "How would you calculate the distance from the position data?"
   ]
  },
  {
   "cell_type": "code",
   "execution_count": 5,
   "metadata": {},
   "outputs": [],
   "source": [
    "xd = np.diff(x,append=np.nan)\n",
    "yd = np.diff(y,append=np.nan)\n",
    "td = np.diff(time,append=np.nan)"
   ]
  },
  {
   "cell_type": "code",
   "execution_count": 6,
   "metadata": {},
   "outputs": [],
   "source": [
    "D = np.sqrt(xd**2 + yd**2)"
   ]
  },
  {
   "cell_type": "code",
   "execution_count": 7,
   "metadata": {},
   "outputs": [],
   "source": [
    "speed = D/td # get speed from distance"
   ]
  },
  {
   "cell_type": "markdown",
   "metadata": {},
   "source": [
    "Speed: $D/t$, where $t$ is the time elapsed between time 0 and time 1."
   ]
  },
  {
   "cell_type": "code",
   "execution_count": 8,
   "metadata": {},
   "outputs": [
    {
     "name": "stdout",
     "output_type": "stream",
     "text": [
      "(27304,)\n"
     ]
    }
   ],
   "source": [
    "# we can remove the np.nan values for our simulation\n",
    "valid_indices = ~np.isnan(speed)\n",
    "speed = speed[valid_indices]\n",
    "time = time[valid_indices]\n",
    "print(time.shape)"
   ]
  },
  {
   "cell_type": "markdown",
   "metadata": {},
   "source": [
    "Always inspect your data with a few plots"
   ]
  },
  {
   "cell_type": "code",
   "execution_count": 9,
   "metadata": {},
   "outputs": [
    {
     "data": {
      "image/png": "[encoded data removed]",
      "text/plain": [
       "<Figure size 432x288 with 1 Axes>"
      ]
     },
     "metadata": {
      "needs_background": "light"
     },
     "output_type": "display_data"
    },
    {
     "data": {
      "image/png": "[encoded data removed]",
      "text/plain": [
       "<Figure size 432x288 with 1 Axes>"
      ]
     },
     "metadata": {
      "needs_background": "light"
     },
     "output_type": "display_data"
    }
   ],
   "source": [
    "plt.plot(time,speed)\n",
    "plt.xlabel(\"Time (sec)\")\n",
    "plt.ylabel(\"Speed (cm/sec)\")\n",
    "plt.show()\n",
    "plt.hist(speed,bins=50)\n",
    "plt.xlabel(\"Speed (cm/sec)\")\n",
    "plt.ylabel(\"Count\")\n",
    "plt.show()"
   ]
  },
  {
   "cell_type": "markdown",
   "metadata": {},
   "source": [
    "The animal is running between 0 and 40 cm/sec most of the time. This seems reasonable. "
   ]
  },
  {
   "cell_type": "markdown",
   "metadata": {},
   "source": [
    "#### Model the firing rate of a neuron \n",
    "\n",
    "We will assume that the firing rate of our neuron is linearly related to the running speed of the animal.\n",
    "\n",
    "$rate = speed*w + b + error$\n"
   ]
  },
  {
   "cell_type": "code",
   "execution_count": 10,
   "metadata": {},
   "outputs": [],
   "source": [
    "w = 1.25 # parameter 2\n",
    "b = 10 # parameter 1"
   ]
  },
  {
   "cell_type": "markdown",
   "metadata": {},
   "source": [
    "#### Exercise\n",
    "\n",
    "* Write the formula just above in code\n",
    "* Use it to predict the firing rate of the neuron\n",
    "* plot speed and rate"
   ]
  },
  {
   "cell_type": "code",
   "execution_count": 11,
   "metadata": {},
   "outputs": [
    {
     "data": {
      "text/plain": [
       "Text(0, 0.5, 'Rate (Hz)')"
      ]
     },
     "execution_count": 11,
     "metadata": {},
     "output_type": "execute_result"
    },
    {
     "data": {
      "image/png": "[encoded data removed]",
      "text/plain": [
       "<Figure size 432x288 with 1 Axes>"
      ]
     },
     "metadata": {
      "needs_background": "light"
     },
     "output_type": "display_data"
    }
   ],
   "source": [
    "rate = np.maximum(0,speed*w + b + np.random.normal(loc=0.0, scale=5, size = speed.shape[0]))\n",
    "plt.scatter(speed,rate)\n",
    "plt.xlabel(\"Speed (cm/sec)\")\n",
    "plt.ylabel(\"Rate (Hz)\")"
   ]
  },
  {
   "cell_type": "markdown",
   "metadata": {},
   "source": [
    "### Our modelling task:\n",
    "\n",
    "Write a training loop to find the best parameters to predict the firing rate of the neuron given the animal running speed.\n",
    "\n",
    "We decide to use a linear regression model $Y = f(X)$, where $X$ is the running speed and $Y$ is the firing rate. Because we generated the data, we know this is a good choice. In reality, you would want to plot the real data and decide whether a linear model is appropriate.\n",
    "\n",
    "\n",
    "For a linear regression, the model is $Y = Xw + b$\n",
    "\n",
    "In machine learning lingo, $w$ is the weight and $b$ is the bias.\n",
    "\n",
    "To solve our problem, we ask what are the parameters $w$ and $b$ that best predict the firing rate of the neuron?\n",
    "\n",
    "Because we are working with simulated data, we already know the best parameters, but we want to see if we can recover them from the data."
   ]
  },
  {
   "cell_type": "markdown",
   "metadata": {},
   "source": [
    "## Possible ways to solve this problem\n",
    "\n",
    "Our problem is a **linear regression** because the output is simply a weighted sum of the inputs plus a constant called the bias term (or intercept).\n",
    "\n",
    "There are many ways to find the best parameters:\n",
    "\n",
    "1. Closed-form equation is available for linear regression.\n",
    "2. Training loop using Gradient Descent.\n",
    "3. `scipy.stats.linregress`\n",
    "4.  `sklearn.linear_model.LinearRegression`\n",
    "\n",
    "\n",
    "Because we want to understanding machine learning, we will write our own training loop (Option 2)\n"
   ]
  },
  {
   "cell_type": "markdown",
   "metadata": {},
   "source": [
    "## Our linear regression model\n"
   ]
  },
  {
   "cell_type": "markdown",
   "metadata": {},
   "source": [
    "In our simple case, this is the model:\n",
    "\n",
    "$\\hat{y} = \\theta_0 + \\theta_1 * x_1$\n",
    "\n",
    "* $\\hat{y}$ is the prediction of the model.\n",
    "* $\\theta$ is a vector containing our parameters (b and w). \n",
    "* $x$ is a vector containing our input (running speed).\n",
    "\n",
    "To make it easier to calculate $\\hat{y}$, we can set $x_0$ to 1 and $x_1$ to running speed.\n",
    "\n",
    "$\\hat{y} = \\theta_0 * x_0 + \\theta_1 * x_1$\n",
    "\n",
    "This formula is the same as the dot product of 2 vectors ($\\theta$ and $x$)."
   ]
  },
  {
   "cell_type": "code",
   "execution_count": 12,
   "metadata": {},
   "outputs": [
    {
     "name": "stdout",
     "output_type": "stream",
     "text": [
      "40\n",
      "40\n"
     ]
    }
   ],
   "source": [
    "x = np.array([1,10]) # 1 and running speed\n",
    "theta = np.array([20,2]) # random guess of the 2 model parameters\n",
    "# dot product of 2 vectors\n",
    "print(np.sum(x*theta))\n",
    "\n",
    "# dot product of 2 vectors\n",
    "print(x@theta)"
   ]
  },
  {
   "cell_type": "markdown",
   "metadata": {},
   "source": [
    "Because we have 27304 data points and we want to make rate predictions for 27304 speed values, x has to be a 2-dimension array."
   ]
  },
  {
   "cell_type": "code",
   "execution_count": 13,
   "metadata": {},
   "outputs": [
    {
     "name": "stdout",
     "output_type": "stream",
     "text": [
      "x shape: (3, 2)\n",
      "theta shape: (2,)\n"
     ]
    }
   ],
   "source": [
    "x = np.array([[1,10], # speed of 10 cm per sec\n",
    "             [1,15], # speed of 15 cm per sec\n",
    "             [1,20]]) # speed of 20 cm per sec\n",
    "theta = np.array([0,3]) # random guess of the 2 model parameters\n",
    "print(\"x shape:\",x.shape)\n",
    "print(\"theta shape:\",theta.shape)"
   ]
  },
  {
   "cell_type": "markdown",
   "metadata": {},
   "source": [
    "If we calculate the dot product of a 3x2 array with a 2x1 array, we get 3 output"
   ]
  },
  {
   "cell_type": "code",
   "execution_count": 14,
   "metadata": {},
   "outputs": [
    {
     "data": {
      "text/plain": [
       "array([30, 45, 60])"
      ]
     },
     "execution_count": 14,
     "metadata": {},
     "output_type": "execute_result"
    }
   ],
   "source": [
    "x@theta"
   ]
  },
  {
   "cell_type": "markdown",
   "metadata": {},
   "source": [
    "In summary, we can use `x@theta` to predict the firing rate of the neuron.\n",
    "\n",
    "When we train our model, we will modify the values in $\\theta$ in order to improve our predictions.\n",
    "\n",
    "\n",
    "We can now put our 30000 data points in the 2D array $x$. The first column is always 1s."
   ]
  },
  {
   "cell_type": "code",
   "execution_count": 15,
   "metadata": {},
   "outputs": [
    {
     "name": "stdout",
     "output_type": "stream",
     "text": [
      "[[ 1.         16.56109922]\n",
      " [ 1.         18.39592726]\n",
      " [ 1.         14.97058294]\n",
      " ...\n",
      " [ 1.         26.68191607]\n",
      " [ 1.         26.41183643]\n",
      " [ 1.         26.29908668]]\n",
      "(27304, 2)\n"
     ]
    }
   ],
   "source": [
    "X = np.c_[np.ones((speed.shape[0],1)),speed] # make a 2 column array with ones in the first column and speed in the second\n",
    "print(X)\n",
    "print(X.shape)"
   ]
  },
  {
   "cell_type": "code",
   "execution_count": 16,
   "metadata": {},
   "outputs": [
    {
     "data": {
      "text/plain": [
       "(27304,)"
      ]
     },
     "execution_count": 16,
     "metadata": {},
     "output_type": "execute_result"
    }
   ],
   "source": [
    "yhat = X@theta # prediction of the model\n",
    "yhat.shape"
   ]
  },
  {
   "cell_type": "code",
   "execution_count": 17,
   "metadata": {},
   "outputs": [
    {
     "data": {
      "image/png": "[encoded data removed]",
      "text/plain": [
       "<Figure size 432x288 with 1 Axes>"
      ]
     },
     "metadata": {
      "needs_background": "light"
     },
     "output_type": "display_data"
    }
   ],
   "source": [
    "plt.scatter(speed,rate,label=\"Data\")\n",
    "plt.scatter(speed,yhat,label=\"Untrained Model\")\n",
    "plt.title(\"Predictions of untrained model\")\n",
    "plt.xlabel(\"Speed (cm/sec)\")\n",
    "plt.ylabel(\"Firing rate (Hz)\")\n",
    "plt.legend()\n",
    "plt.show()"
   ]
  },
  {
   "cell_type": "code",
   "execution_count": 18,
   "metadata": {},
   "outputs": [],
   "source": [
    "untrained_yhat=yhat"
   ]
  },
  {
   "cell_type": "markdown",
   "metadata": {},
   "source": [
    "Untrained models are rarely very good."
   ]
  },
  {
   "cell_type": "markdown",
   "metadata": {},
   "source": [
    "## Measuring model performance\n",
    "\n",
    "To be able to train any model, you need a measure of how bad it is doing it is doing. This is usually refer to as a `cost function`.\n",
    "\n",
    "For linear regression model, the mean squared error (MSE) is often used. \n",
    "\n",
    "\n",
    "$MSE = \\frac{1}{m} \\sum_{i = 1}^{m}(\\hat{y}^{i} - y^{i})^2$, where\n",
    "\n",
    "* $m$ is the number of data points\n",
    "* $y$ is the measured dependent variable (firing rate of the neuron) \n",
    "* $\\hat{y}$ is the prediction of the model\n"
   ]
  },
  {
   "cell_type": "markdown",
   "metadata": {},
   "source": [
    "### Exercise: Try to calculate the mean squared error (MES) for our untrained model"
   ]
  },
  {
   "cell_type": "code",
   "execution_count": 19,
   "metadata": {},
   "outputs": [
    {
     "data": {
      "text/plain": [
       "460.05506614165455"
      ]
     },
     "execution_count": 19,
     "metadata": {},
     "output_type": "execute_result"
    }
   ],
   "source": [
    "np.mean((yhat - rate)**2)"
   ]
  },
  {
   "cell_type": "markdown",
   "metadata": {},
   "source": [
    "The task of training loop (machine learning) in this exercise is to modify the model parameters to reduce the MSE to the smallest value possible.\n",
    "\n",
    "## Training procedure using gradient descent\n",
    "\n",
    "We want to tweak the parameters with the goal of reducing the MSE. \n",
    "\n",
    "One way to do this is to use an optimization algorithm called **gradient descent**. \n",
    "\n",
    "Gradient descent is capable of finding optimal solutions to many type of problems/functions.\n",
    "\n",
    "\n",
    "<div>\n",
    "<img src=\"../images/gradient_descent.png\" width=\"1000\"/>\n",
    "</div>\n"
   ]
  },
  {
   "cell_type": "markdown",
   "metadata": {},
   "source": [
    "With gradient descent, we calculate what is the slope with the current parameters, then we change the parameters so that we move down the slope. \n",
    "\n",
    "The amount by which we move down the slope can be controlled by a model hyperparameter called `learning rate`.\n",
    "\n",
    "The model hyperparameters are not optimized from the data. They control how the model learns. "
   ]
  },
  {
   "cell_type": "markdown",
   "metadata": {},
   "source": [
    "We can have a look at the cost function as a function of different values of theta."
   ]
  },
  {
   "cell_type": "code",
   "execution_count": 20,
   "metadata": {},
   "outputs": [
    {
     "data": {
      "image/png": "[encoded data removed]",
      "text/plain": [
       "<Figure size 432x288 with 1 Axes>"
      ]
     },
     "metadata": {
      "needs_background": "light"
     },
     "output_type": "display_data"
    }
   ],
   "source": [
    "res = np.empty(200)\n",
    "param_values = np.linspace(-12,12,200)\n",
    "for i,t in enumerate(param_values):\n",
    "    theta[1]=t # change the second parameter of the model\n",
    "    res[i] = np.mean((rate-X@theta)**2)\n",
    "plt.plot(param_values,res)\n",
    "plt.show()"
   ]
  },
  {
   "cell_type": "markdown",
   "metadata": {},
   "source": [
    "### Partial derivative of the cost function\n",
    "\n",
    "To be able to adjust the parameters in the right direction, we need to know the slope for a specific value of $\\theta$.\n",
    "\n",
    "This is called the partial derivative for our parameters.\n",
    "\n",
    "For the case of the MSE, the formula for the partial derivative is:\n",
    "\n",
    "$\\nabla_{\\theta}MSE(\\theta) = \\frac{2}{m} X^{T}(X\\theta - y)$"
   ]
  },
  {
   "cell_type": "code",
   "execution_count": 21,
   "metadata": {},
   "outputs": [
    {
     "name": "stdout",
     "output_type": "stream",
     "text": [
      "[  -95.73717193 -1851.74044032]\n"
     ]
    }
   ],
   "source": [
    "theta = np.array([1,-2.25])\n",
    "m=rate.shape[0]\n",
    "gradients = 2/m*(X.T @ (X@theta - rate))\n",
    "print(gradients)"
   ]
  },
  {
   "cell_type": "markdown",
   "metadata": {},
   "source": [
    "In the training loop, negative gradients mean that you increase the values of the coefficients to reduce the MSE.\n",
    "\n",
    "Because we use all observations to calculate the gradients, this is called **batch gradient descent**."
   ]
  },
  {
   "cell_type": "markdown",
   "metadata": {},
   "source": [
    "For more complex models, you can use [pytorch](https://pytorch.org/) to calculate the derivative for you automatically."
   ]
  },
  {
   "cell_type": "markdown",
   "metadata": {},
   "source": [
    "### Our first training loop\n",
    "\n",
    "This is a simple training loop. We loop several times and make small adjustments to the coefficients on each iteration."
   ]
  },
  {
   "cell_type": "code",
   "execution_count": 22,
   "metadata": {},
   "outputs": [
    {
     "name": "stdout",
     "output_type": "stream",
     "text": [
      "optimized theta: [10.0597358   1.24691331]\n"
     ]
    }
   ],
   "source": [
    "eta = 0.002 # learning rate\n",
    "n_iterations = 6000 \n",
    "m = rate.shape[0] # number of data points\n",
    "\n",
    "theta = np.random.rand(2) # set random parameters as a starting point\n",
    "\n",
    "# learning loop\n",
    "for iteration in range(n_iterations):\n",
    "\n",
    "    # calculate the gradients with the current parameters\n",
    "    gradients = 2/m*(X.T @ (X@theta - rate))\n",
    "    \n",
    "    # adjust the parameter so that we reduce the MSE\n",
    "    theta = theta - eta * gradients\n",
    "print(\"optimized theta:\",theta)"
   ]
  },
  {
   "cell_type": "markdown",
   "metadata": {},
   "source": [
    "If your training loop is not working as expected, plot the paramters and loss during learning.\n",
    "\n",
    "One common problem is using a value for `eta` that is too large or too small."
   ]
  },
  {
   "cell_type": "code",
   "execution_count": 23,
   "metadata": {},
   "outputs": [
    {
     "name": "stdout",
     "output_type": "stream",
     "text": [
      "optimized theta: [10.05973666  1.24691327]\n"
     ]
    },
    {
     "data": {
      "image/png": "[encoded data removed]",
      "text/plain": [
       "<Figure size 1440x360 with 3 Axes>"
      ]
     },
     "metadata": {
      "needs_background": "light"
     },
     "output_type": "display_data"
    }
   ],
   "source": [
    "eta = 0.002\n",
    "n_iterations = 6000\n",
    "m = rate.shape[0]\n",
    "theta = np.random.rand(2)\n",
    "\n",
    "# arrays to store the results at each iteration\n",
    "mse = np.empty(n_iterations)\n",
    "tLearning = np.empty((n_iterations,2))\n",
    "\n",
    "\n",
    "for iteration in range(n_iterations):\n",
    "    gradients = 2/m*(X.T @ (X@theta - rate))\n",
    "    \n",
    "    # save results for the figure\n",
    "    mse[iteration] = np.mean((rate-X@theta)**2)\n",
    "    tLearning[iteration,:] = theta\n",
    "    \n",
    "    # change the parameters\n",
    "    theta = theta - eta * gradients\n",
    "\n",
    "print(\"optimized theta:\",theta)\n",
    "\n",
    "fig, ax = plt.subplots(1,3,figsize=(20,5))\n",
    "ax[0].plot(mse)\n",
    "ax[0].set_ylabel(\"MSE\")\n",
    "ax[0].set_xlabel(\"Iterations\")\n",
    "\n",
    "ax[1].plot(tLearning[:,0])\n",
    "ax[1].set_ylabel(\"Parameter 0\")\n",
    "ax[1].set_xlabel(\"Iterations\")\n",
    "\n",
    "ax[2].plot(tLearning[:,1])\n",
    "ax[2].set_ylabel(\"Parameter 1\")\n",
    "ax[2].set_xlabel(\"Iterations\")\n",
    "\n",
    "plt.show()"
   ]
  },
  {
   "cell_type": "markdown",
   "metadata": {},
   "source": [
    "## Exercise: \n",
    "\n",
    "* Use our optimized model to make rate predictions \n",
    "* Plot the predicted and observed firing rates as a function of running speed. "
   ]
  },
  {
   "cell_type": "code",
   "execution_count": null,
   "metadata": {},
   "outputs": [],
   "source": []
  },
  {
   "cell_type": "markdown",
   "metadata": {},
   "source": [
    "## Alternative ways to find the best parameters"
   ]
  },
  {
   "cell_type": "markdown",
   "metadata": {},
   "source": [
    "### The closed-form \n",
    "\n",
    "For linear regressions, there is a formula that can give you the right parameters without the need of a training loop. \n",
    "\n",
    "$\\hat{\\theta} = (X^{T}X)^{-1} X^{T} y$"
   ]
  },
  {
   "cell_type": "code",
   "execution_count": 24,
   "metadata": {},
   "outputs": [
    {
     "name": "stdout",
     "output_type": "stream",
     "text": [
      "[10.05983448  1.24690866]\n"
     ]
    }
   ],
   "source": [
    "best_parameters = np.linalg.inv(X.T@X) @ X.T @ rate\n",
    "print(best_parameters)"
   ]
  },
  {
   "cell_type": "markdown",
   "metadata": {},
   "source": [
    "For many models, you will not have a closed-form solution. A training loop is used instead."
   ]
  },
  {
   "cell_type": "markdown",
   "metadata": {},
   "source": [
    "### sklearn.linear_model.LinearRegression\n",
    "\n",
    "Scikit-Learn had built in classes to train linear and non-linear regression models. \n",
    "\n",
    "https://scikit-learn.org/stable/modules/generated/sklearn.linear_model.LinearRegression.html"
   ]
  },
  {
   "cell_type": "code",
   "execution_count": 25,
   "metadata": {},
   "outputs": [
    {
     "data": {
      "text/plain": [
       "(10.059834482329396, array([0.        , 1.24690866]))"
      ]
     },
     "execution_count": 25,
     "metadata": {},
     "output_type": "execute_result"
    }
   ],
   "source": [
    "from sklearn.linear_model import LinearRegression\n",
    "lin_reg = LinearRegression()\n",
    "lin_reg.fit(X,rate)\n",
    "lin_reg.intercept_,lin_reg.coef_"
   ]
  },
  {
   "cell_type": "markdown",
   "metadata": {},
   "source": [
    "### scipy.optimize.minimize()\n",
    "\n",
    "https://docs.scipy.org/doc/scipy/reference/generated/scipy.optimize.minimize.html\n",
    "\n",
    "This is a function that can be used to minimize several types of functions. It is not limited to linear regressions\n",
    "\n",
    "scipy.optimize.minimize() takes several arguments:\n",
    "\n",
    "* fun: an objective function that will be minimized\n",
    "* x0: a vector with the model parameters\n",
    "* args: additional parameters that are passed to the objective function\n",
    "\n",
    "\n"
   ]
  },
  {
   "cell_type": "code",
   "execution_count": 26,
   "metadata": {},
   "outputs": [
    {
     "name": "stdout",
     "output_type": "stream",
     "text": [
      "      fun: 24.947011742304202\n",
      " hess_inv: array([[ 1.04570997, -0.04917184],\n",
      "       [-0.04917184,  0.00443069]])\n",
      "      jac: array([-2.38418579e-07,  2.38418579e-07])\n",
      "  message: 'Optimization terminated successfully.'\n",
      "     nfev: 32\n",
      "      nit: 4\n",
      "     njev: 8\n",
      "   status: 0\n",
      "  success: True\n",
      "        x: array([10.05983431,  1.24690866])\n"
     ]
    }
   ],
   "source": [
    "from scipy.optimize import minimize\n",
    "\n",
    "# optimize() will try to minimize the value returned by objective_function()\n",
    "# in our example, we can return the mean squared error of our model\n",
    "def objective_function(x0,X,rate): \n",
    "    delta=x0\n",
    "    yhat = X@delta\n",
    "    mse = np.mean((rate-yhat)**2)\n",
    "    return mse\n",
    "\n",
    "x0 = np.array([15, 1]) # parameters to optimize\n",
    "results = minimize(objective_function,x0,args=(X,rate))\n",
    "print(results)"
   ]
  },
  {
   "cell_type": "markdown",
   "metadata": {},
   "source": [
    "We get the same results.\n",
    "\n",
    "Note that we did not have to calculate the partial derivative directly."
   ]
  },
  {
   "cell_type": "markdown",
   "metadata": {},
   "source": [
    "### pytorch\n",
    "\n",
    "pytorch is a platform use principally to train deep neural network. \n",
    "\n",
    "pytorch can calculate the derivative for you. The computations can be sent to the GPU if needed (not implemented here)\n"
   ]
  },
  {
   "cell_type": "code",
   "execution_count": 27,
   "metadata": {},
   "outputs": [
    {
     "ename": "ModuleNotFoundError",
     "evalue": "No module named 'torch'",
     "output_type": "error",
     "traceback": [
      "\u001b[0;31m---------------------------------------------------------------------------\u001b[0m",
      "\u001b[0;31mModuleNotFoundError\u001b[0m                       Traceback (most recent call last)",
      "\u001b[0;32m<ipython-input-27-7d9506102ef4>\u001b[0m in \u001b[0;36m<module>\u001b[0;34m\u001b[0m\n\u001b[0;32m----> 1\u001b[0;31m \u001b[0;32mimport\u001b[0m \u001b[0mtorch\u001b[0m\u001b[0;34m\u001b[0m\u001b[0;34m\u001b[0m\u001b[0m\n\u001b[0m\u001b[1;32m      2\u001b[0m \u001b[0;34m\u001b[0m\u001b[0m\n\u001b[1;32m      3\u001b[0m \u001b[0;31m# linear model making prediction\u001b[0m\u001b[0;34m\u001b[0m\u001b[0;34m\u001b[0m\u001b[0;34m\u001b[0m\u001b[0m\n\u001b[1;32m      4\u001b[0m \u001b[0;32mdef\u001b[0m \u001b[0mmodel\u001b[0m\u001b[0;34m(\u001b[0m\u001b[0mX\u001b[0m\u001b[0;34m,\u001b[0m\u001b[0mdelta\u001b[0m\u001b[0;34m)\u001b[0m\u001b[0;34m:\u001b[0m\u001b[0;34m\u001b[0m\u001b[0;34m\u001b[0m\u001b[0m\n\u001b[1;32m      5\u001b[0m     \u001b[0;32mreturn\u001b[0m \u001b[0mX\u001b[0m\u001b[0;34m@\u001b[0m\u001b[0mdelta\u001b[0m\u001b[0;34m\u001b[0m\u001b[0;34m\u001b[0m\u001b[0m\n",
      "\u001b[0;31mModuleNotFoundError\u001b[0m: No module named 'torch'"
     ]
    }
   ],
   "source": [
    "import torch\n",
    "\n",
    "# linear model making prediction\n",
    "def model(X,delta):\n",
    "    return X@delta\n",
    "# loss function returning MSE\n",
    "def loss_fn(y,yhat):\n",
    "    squared_diff = (y-yhat)**2\n",
    "    return squared_diff.mean()\n",
    "\n",
    "# model parameters stored as a pytorch tensor, this makes the calculation of the gradients possible\n",
    "delta = torch.tensor([5.0,2.0],requires_grad =True)\n",
    "\n",
    "# we transform our data from numpy array to pytorch tensors, no need for gradients\n",
    "XTensor = torch.tensor(X,dtype=torch.float32)\n",
    "rateTensor= torch.tensor(rate,dtype=torch.float32)\n",
    "\n",
    "# let's run the model once and calculating the loss\n",
    "yhat = model(XTensor,delta)\n",
    "loss = loss_fn(yhat,rateTensor)\n",
    "loss.backward()\n",
    "\n",
    "print(\"gradients: \",delta.grad)\n",
    "\n",
    "# we need to zero the gradients otherwise they accumulate\n",
    "delta.grad.zero_()\n"
   ]
  },
  {
   "cell_type": "code",
   "execution_count": 28,
   "metadata": {},
   "outputs": [],
   "source": [
    "## training loop that will modify our parameters to minimize the loss function (MSE)\n",
    "def training_loop(n_epochs, learning_rate, delta, XTensor,rateTensor):\n",
    "    for epoch in range (n_epochs):\n",
    "\n",
    "        if delta.grad is not None:\n",
    "            delta.grad.zero_() \n",
    "        \n",
    "        yhat = model(XTensor,delta)\n",
    "        loss = loss_fn(yhat,rateTensor)\n",
    "        loss.backward()\n",
    "        \n",
    "        with torch.no_grad():\n",
    "            delta -= learning_rate * delta.grad\n",
    "        \n",
    "        if epoch % 1000 ==0:\n",
    "            print(\"Epoch: {}, Loss: {}\".format(epoch,loss))\n",
    "    return delta"
   ]
  },
  {
   "cell_type": "code",
   "execution_count": 29,
   "metadata": {},
   "outputs": [
    {
     "ename": "NameError",
     "evalue": "name 'torch' is not defined",
     "output_type": "error",
     "traceback": [
      "\u001b[0;31m---------------------------------------------------------------------------\u001b[0m",
      "\u001b[0;31mNameError\u001b[0m                                 Traceback (most recent call last)",
      "\u001b[0;32m<ipython-input-29-edf5f458ab37>\u001b[0m in \u001b[0;36m<module>\u001b[0;34m\u001b[0m\n\u001b[1;32m      1\u001b[0m opt_delta = training_loop(n_epochs = 10000,\n\u001b[1;32m      2\u001b[0m                           \u001b[0mlearning_rate\u001b[0m \u001b[0;34m=\u001b[0m \u001b[0;36m0.001\u001b[0m\u001b[0;34m,\u001b[0m\u001b[0;34m\u001b[0m\u001b[0;34m\u001b[0m\u001b[0m\n\u001b[0;32m----> 3\u001b[0;31m                           \u001b[0mdelta\u001b[0m \u001b[0;34m=\u001b[0m \u001b[0mtorch\u001b[0m\u001b[0;34m.\u001b[0m\u001b[0mtensor\u001b[0m\u001b[0;34m(\u001b[0m\u001b[0;34m[\u001b[0m\u001b[0;36m5.0\u001b[0m\u001b[0;34m,\u001b[0m\u001b[0;36m2.0\u001b[0m\u001b[0;34m]\u001b[0m\u001b[0;34m,\u001b[0m\u001b[0mrequires_grad\u001b[0m \u001b[0;34m=\u001b[0m\u001b[0;32mTrue\u001b[0m\u001b[0;34m)\u001b[0m\u001b[0;34m,\u001b[0m\u001b[0;34m\u001b[0m\u001b[0;34m\u001b[0m\u001b[0m\n\u001b[0m\u001b[1;32m      4\u001b[0m                           \u001b[0mXTensor\u001b[0m \u001b[0;34m=\u001b[0m \u001b[0mXTensor\u001b[0m\u001b[0;34m,\u001b[0m\u001b[0;34m\u001b[0m\u001b[0;34m\u001b[0m\u001b[0m\n\u001b[1;32m      5\u001b[0m                           rateTensor=rateTensor)\n",
      "\u001b[0;31mNameError\u001b[0m: name 'torch' is not defined"
     ]
    }
   ],
   "source": [
    "opt_delta = training_loop(n_epochs = 10000,\n",
    "                          learning_rate = 0.001,\n",
    "                          delta = torch.tensor([5.0,2.0],requires_grad =True),\n",
    "                          XTensor = XTensor,\n",
    "                          rateTensor=rateTensor)\n",
    "print(opt_delta)"
   ]
  },
  {
   "cell_type": "markdown",
   "metadata": {},
   "source": [
    "Once again we found our initial parameters.\n",
    "\n",
    "This type of output is very similar to what you see when you train DeepLabCut (more on this next week)."
   ]
  },
  {
   "cell_type": "markdown",
   "metadata": {},
   "source": [
    "## Summary\n",
    "\n",
    "* We implemented a linear regression model in python.\n",
    "* We defined a cost function (MSE) to measure how good/bad the model predictions are.\n",
    "* We calculated the partial derivative of the MSE for a set of coefficients.\n",
    "* We wrote a training loop to adjust the coefficients iteratively in order to minimize MSE\n",
    "* We covered 3 possible ways in which you can train models (klearn.linear_model, scipy.optimize.minimize and pytorch)\n"
   ]
  },
  {
   "cell_type": "markdown",
   "metadata": {},
   "source": [
    "## Exercise\n",
    "\n",
    "You now have the skills required to train models characterizing the firing rate of neurons. \n",
    "\n",
    "We will work with a neuron that changes its firing rate according to the direction of movement (-pi to pi) of the animal.\n",
    "\n",
    "The simulated data is in `../data/hd_cell.npy`. The first column is the heading and the second the firing rate."
   ]
  },
  {
   "cell_type": "code",
   "execution_count": 27,
   "metadata": {},
   "outputs": [
    {
     "data": {
      "image/png": "[encoded data removed]",
      "text/plain": [
       "<Figure size 432x288 with 1 Axes>"
      ]
     },
     "metadata": {
      "needs_background": "light"
     },
     "output_type": "display_data"
    }
   ],
   "source": [
    "import numpy as np\n",
    "import matplotlib.pyplot as plt\n",
    "\n",
    "\n",
    "fn=\"../data/hd_cell.npy\"\n",
    "hd_cell = np.load(fn)\n",
    "\n",
    "heading = hd_cell[:,0]\n",
    "rate = hd_cell[:,1]\n",
    "\n",
    "plt.scatter(hd_cell[:,0],hd_cell[:,1])\n",
    "plt.ylabel(\"Firing rate (Hz)\")\n",
    "plt.xlabel(\"Heading (radian)\")\n",
    "plt.show()"
   ]
  },
  {
   "cell_type": "markdown",
   "metadata": {},
   "source": [
    "The formula you can use to model this neuron is\n",
    "\n",
    "$\\hat{y} = w_{0} * (cos(x - w_{1})+1)/2$, where\n",
    "\n",
    "* $\\hat{y}$ is the prediction of the model\n",
    "* $w$ is a vector with 2 parameters that we need to estimate\n",
    "* $w_0$ is the gain\n",
    "* $w_1$ is the preferred heading of the neuron\n",
    "* $x$ is the animal heading\n",
    "\n",
    "We would like to know the gain and preferred direction of this neuron. \n",
    "\n",
    "For training, you can use MSE as a loss function."
   ]
  },
  {
   "cell_type": "code",
   "execution_count": 28,
   "metadata": {},
   "outputs": [
    {
     "name": "stdout",
     "output_type": "stream",
     "text": [
      "      fun: 3.4128918524449685\n",
      " hess_inv: array([[1.33740177, 0.00409226],\n",
      "       [0.00409226, 0.04146408]])\n",
      "      jac: array([-2.98023224e-08, -2.98023224e-08])\n",
      "  message: 'Optimization terminated successfully.'\n",
      "     nfev: 28\n",
      "      nit: 6\n",
      "     njev: 7\n",
      "   status: 0\n",
      "  success: True\n",
      "        x: array([10.03008571,  0.24848209])\n"
     ]
    }
   ],
   "source": [
    "import numpy as np\n",
    "from scipy.optimize import minimize\n",
    "\n",
    "# optimize() will try to minimize the value returned by objective_function()\n",
    "# in our example, we can return the mean squared error of our model\n",
    "def objective_function(x0,X,rate): \n",
    "    gain=x0[0]\n",
    "    pref=x0[1]\n",
    "    yhat = gain*(np.cos(X-pref)+1)/2 \n",
    "    \n",
    "    mse = np.mean((rate-yhat)**2)\n",
    "    return mse\n",
    "\n",
    "x0 = np.array([10, 1]) # parameters to optimize\n",
    "             \n",
    "results = minimize(objective_function,x0,args=(heading,rate))\n",
    "print(results)"
   ]
  },
  {
   "cell_type": "code",
   "execution_count": 31,
   "metadata": {},
   "outputs": [
    {
     "ename": "ModuleNotFoundError",
     "evalue": "No module named 'torch'",
     "output_type": "error",
     "traceback": [
      "\u001b[0;31m---------------------------------------------------------------------------\u001b[0m",
      "\u001b[0;31mModuleNotFoundError\u001b[0m                       Traceback (most recent call last)",
      "\u001b[0;32m<ipython-input-31-33e7aa1000b1>\u001b[0m in \u001b[0;36m<module>\u001b[0;34m\u001b[0m\n\u001b[0;32m----> 1\u001b[0;31m \u001b[0;32mimport\u001b[0m \u001b[0mtorch\u001b[0m\u001b[0;34m\u001b[0m\u001b[0;34m\u001b[0m\u001b[0m\n\u001b[0m\u001b[1;32m      2\u001b[0m \u001b[0;34m\u001b[0m\u001b[0m\n\u001b[1;32m      3\u001b[0m \u001b[0;31m# model making prediction\u001b[0m\u001b[0;34m\u001b[0m\u001b[0;34m\u001b[0m\u001b[0;34m\u001b[0m\u001b[0m\n\u001b[1;32m      4\u001b[0m \u001b[0;32mdef\u001b[0m \u001b[0mmodel\u001b[0m\u001b[0;34m(\u001b[0m\u001b[0mX\u001b[0m\u001b[0;34m,\u001b[0m\u001b[0mdelta\u001b[0m\u001b[0;34m)\u001b[0m\u001b[0;34m:\u001b[0m\u001b[0;34m\u001b[0m\u001b[0;34m\u001b[0m\u001b[0m\n\u001b[1;32m      5\u001b[0m     \"\"\"\n",
      "\u001b[0;31mModuleNotFoundError\u001b[0m: No module named 'torch'"
     ]
    }
   ],
   "source": [
    "import torch\n",
    "\n",
    "# model making prediction\n",
    "def model(X,delta):\n",
    "    \"\"\"\n",
    "    X: head direction of the neuron as a 1D array (tensor)\n",
    "    delta: 2 parameters, as a 1D array (tensor)\n",
    "    \"\"\"\n",
    "    return delta[0] * (torch.cos(X-delta[1])+1)/2\n",
    "\n",
    "\n",
    "# loss function returning MSE\n",
    "def loss_fn(y,yhat):\n",
    "    \"\"\"\n",
    "    Loss function, mean squared error\n",
    "    \n",
    "    y: observed values\n",
    "    yhat: model predictions\n",
    "    \"\"\"\n",
    "    squared_diff = (y-yhat)**2\n",
    "    return squared_diff.mean()\n",
    "\n",
    "# model parameters stored as a pytorch tensor, this makes the calculation of the gradients possible\n",
    "delta = torch.tensor([5.0,2.0],requires_grad =True)\n",
    "print(\"Initial delta:\",delta)\n",
    "# we transform our data from numpy array to pytorch tensors, no need for gradients\n",
    "\n",
    "# xTensor is the heading, as a torch tensor\n",
    "XTensor = torch.tensor(heading,dtype=torch.float32)\n",
    "# rateTensor is the rate, as a torch tensor\n",
    "rateTensor= torch.tensor(rate,dtype=torch.float32)\n",
    "\n",
    "\n",
    "# let's run the model once and calculating the loss\n",
    "yhat = model(XTensor,delta)\n",
    "loss = loss_fn(yhat,rateTensor)\n",
    "loss.backward()\n",
    "\n",
    "print(\"gradients: \",delta.grad)\n",
    "\n",
    "# we need to zero the gradients otherwise they accumulate\n",
    "delta.grad.zero_()\n"
   ]
  },
  {
   "cell_type": "code",
   "execution_count": 32,
   "metadata": {},
   "outputs": [],
   "source": [
    "## training loop that will modify our parameters to minimize the loss function (MSE)\n",
    "def training_loop(n_epochs, learning_rate, delta, XTensor,rateTensor):\n",
    "    for epoch in range (n_epochs):\n",
    "\n",
    "        if delta.grad is not None:\n",
    "            delta.grad.zero_() \n",
    "        \n",
    "        yhat = model(XTensor,delta)\n",
    "        loss = loss_fn(yhat,rateTensor)\n",
    "        loss.backward()\n",
    "        \n",
    "        with torch.no_grad():\n",
    "            delta -= learning_rate * delta.grad\n",
    "        \n",
    "        if epoch % 1000 ==0:\n",
    "            print(\"Epoch: {}, Loss: {}\".format(epoch,loss))\n",
    "    return delta"
   ]
  },
  {
   "cell_type": "code",
   "execution_count": 33,
   "metadata": {},
   "outputs": [
    {
     "ename": "NameError",
     "evalue": "name 'torch' is not defined",
     "output_type": "error",
     "traceback": [
      "\u001b[0;31m---------------------------------------------------------------------------\u001b[0m",
      "\u001b[0;31mNameError\u001b[0m                                 Traceback (most recent call last)",
      "\u001b[0;32m<ipython-input-33-edf5f458ab37>\u001b[0m in \u001b[0;36m<module>\u001b[0;34m\u001b[0m\n\u001b[1;32m      1\u001b[0m opt_delta = training_loop(n_epochs = 10000,\n\u001b[1;32m      2\u001b[0m                           \u001b[0mlearning_rate\u001b[0m \u001b[0;34m=\u001b[0m \u001b[0;36m0.001\u001b[0m\u001b[0;34m,\u001b[0m\u001b[0;34m\u001b[0m\u001b[0;34m\u001b[0m\u001b[0m\n\u001b[0;32m----> 3\u001b[0;31m                           \u001b[0mdelta\u001b[0m \u001b[0;34m=\u001b[0m \u001b[0mtorch\u001b[0m\u001b[0;34m.\u001b[0m\u001b[0mtensor\u001b[0m\u001b[0;34m(\u001b[0m\u001b[0;34m[\u001b[0m\u001b[0;36m5.0\u001b[0m\u001b[0;34m,\u001b[0m\u001b[0;36m2.0\u001b[0m\u001b[0;34m]\u001b[0m\u001b[0;34m,\u001b[0m\u001b[0mrequires_grad\u001b[0m \u001b[0;34m=\u001b[0m\u001b[0;32mTrue\u001b[0m\u001b[0;34m)\u001b[0m\u001b[0;34m,\u001b[0m\u001b[0;34m\u001b[0m\u001b[0;34m\u001b[0m\u001b[0m\n\u001b[0m\u001b[1;32m      4\u001b[0m                           \u001b[0mXTensor\u001b[0m \u001b[0;34m=\u001b[0m \u001b[0mXTensor\u001b[0m\u001b[0;34m,\u001b[0m\u001b[0;34m\u001b[0m\u001b[0;34m\u001b[0m\u001b[0m\n\u001b[1;32m      5\u001b[0m                           rateTensor=rateTensor)\n",
      "\u001b[0;31mNameError\u001b[0m: name 'torch' is not defined"
     ]
    }
   ],
   "source": [
    "opt_delta = training_loop(n_epochs = 10000,\n",
    "                          learning_rate = 0.001,\n",
    "                          delta = torch.tensor([5.0,2.0],requires_grad =True),\n",
    "                          XTensor = XTensor,\n",
    "                          rateTensor=rateTensor)\n",
    "print(opt_delta)"
   ]
  },
  {
   "cell_type": "code",
   "execution_count": null,
   "metadata": {},
   "outputs": [],
   "source": []
  }
 ],
 "metadata": {
  "kernelspec": {
   "display_name": "Python 3",
   "language": "python",
   "name": "python3"
  },
  "language_info": {
   "codemirror_mode": {
    "name": "ipython",
    "version": 3
   },
   "file_extension": ".py",
   "mimetype": "text/x-python",
   "name": "python",
   "nbconvert_exporter": "python",
   "pygments_lexer": "ipython3",
   "version": "3.8.5"
  }
 },
 "nbformat": 4,
 "nbformat_minor": 4
}
