{
 "cells": [
  {
   "cell_type": "markdown",
   "id": "bd218d3e-9937-4940-9a09-4d74a9fbcda1",
   "metadata": {},
   "source": [
    "# Extract images from a video and add them to a dataset\n",
    "\n",
    "Here we want to get some images that will eventually be used to create our dataset of labelled images. \n",
    "\n",
    "In this notebook, we simply extract some images from a video.\n",
    "\n",
    "You eventually want to have at least 500 images in your dataset. You can start with 150-200 images and go through all notebooks. You can always add more images and re-train your network. \n",
    "\n",
    "You probably want a minimum of 150 images to get started."
   ]
  },
  {
   "cell_type": "code",
   "execution_count": 10,
   "id": "f49225de-4b8a-43c1-a16b-2e4776010a0c",
   "metadata": {},
   "outputs": [
    {
     "name": "stdout",
     "output_type": "stream",
     "text": [
      "The autoreload extension is already loaded. To reload it, use:\n",
      "  %reload_ext autoreload\n",
      "Project directory: /home/kevin/Documents/trackingProjects/hand_unet_tracker/hand_unet_tracker\n",
      "Getting configuration from config file. Values from config file will be used.\n",
      "Loading /home/kevin/Documents/trackingProjects/hand_unet_tracker/hand_unet_tracker/config.yalm\n",
      "{'augmentation_HorizontalFlipProb': 0.0, 'augmentation_RandomBrightnessContrastProb': 0.2, 'augmentation_RandomSizedCropProb': 1.0, 'augmentation_RotateProb': 0.3, 'image_extension': '.png', 'image_size': [270, 480], 'labeling_ImageEnlargeFactor': 2.0, 'name': 'hand_unet_tracker', 'normalization_values': None, 'object_colors': [(240.0, 248.0, 255.0), (250.0, 235.0, 215.0), (0.0, 255.0, 255.0), (127.0, 255.0, 212.0), (240.0, 255.0, 255.0), (245.0, 245.0, 220.0), (255.0, 228.0, 196.0), (0.0, 0.0, 0.0), (255.0, 235.0, 205.0), (0.0, 0.0, 255.0), (138.0, 43.0, 226.0), (165.0, 42.0, 42.0)], 'objects': ['f1_p1', 'f1_p2', 'f1_p3', 'f2_p1', 'f2_p2', 'f2_p3', 'f3_p1', 'f3_p2', 'f3_p3', 'f4_p1', 'f4_p2', 'f4_p3'], 'target_radius': 6, 'unet_features': [64, 128, 256, 512]}\n"
     ]
    }
   ],
   "source": [
    "%load_ext autoreload\n",
    "%autoreload 2\n",
    "\n",
    "# this will run the code in the setup_project.py and create a variable called `project`\n",
    "%run setup_project.py\n",
    "\n",
    "%matplotlib widget\n",
    "\n",
    "import glob\n",
    "from unetTracker.dataset import UNetDataset\n",
    "from unetTracker.camera import USBCamera, bgr8_to_jpeg\n",
    "from unetTracker.unetGUI import LabelFromImagesGUI"
   ]
  },
  {
   "cell_type": "markdown",
   "id": "b8958448-ee53-4a60-92ef-d049cd78b0ad",
   "metadata": {},
   "source": [
    "## Inspect your project object\n",
    "\n",
    "Make sure you have the configuration for your project."
   ]
  },
  {
   "cell_type": "code",
   "execution_count": 11,
   "id": "f57b9032-7ed7-4ec1-bda6-9e6a7542633c",
   "metadata": {},
   "outputs": [
    {
     "data": {
      "text/plain": [
       "{'augmentation_HorizontalFlipProb': 0.0,\n",
       " 'augmentation_RandomBrightnessContrastProb': 0.2,\n",
       " 'augmentation_RandomSizedCropProb': 1.0,\n",
       " 'augmentation_RotateProb': 0.3,\n",
       " 'image_extension': '.png',\n",
       " 'image_size': [270, 480],\n",
       " 'labeling_ImageEnlargeFactor': 2.0,\n",
       " 'name': 'hand_unet_tracker',\n",
       " 'normalization_values': None,\n",
       " 'object_colors': [(240.0, 248.0, 255.0),\n",
       "  (250.0, 235.0, 215.0),\n",
       "  (0.0, 255.0, 255.0),\n",
       "  (127.0, 255.0, 212.0),\n",
       "  (240.0, 255.0, 255.0),\n",
       "  (245.0, 245.0, 220.0),\n",
       "  (255.0, 228.0, 196.0),\n",
       "  (0.0, 0.0, 0.0),\n",
       "  (255.0, 235.0, 205.0),\n",
       "  (0.0, 0.0, 255.0),\n",
       "  (138.0, 43.0, 226.0),\n",
       "  (165.0, 42.0, 42.0)],\n",
       " 'objects': ['f1_p1',\n",
       "  'f1_p2',\n",
       "  'f1_p3',\n",
       "  'f2_p1',\n",
       "  'f2_p2',\n",
       "  'f2_p3',\n",
       "  'f3_p1',\n",
       "  'f3_p2',\n",
       "  'f3_p3',\n",
       "  'f4_p1',\n",
       "  'f4_p2',\n",
       "  'f4_p3'],\n",
       " 'target_radius': 6,\n",
       " 'unet_features': [64, 128, 256, 512]}"
      ]
     },
     "execution_count": 11,
     "metadata": {},
     "output_type": "execute_result"
    }
   ],
   "source": [
    "project.configDict"
   ]
  },
  {
   "cell_type": "markdown",
   "id": "8b39940d-b495-4448-851f-338181f6d5f7",
   "metadata": {},
   "source": [
    "Create a dataset for the project."
   ]
  },
  {
   "cell_type": "code",
   "execution_count": 12,
   "id": "9101ed9a-33e9-4476-a552-97c826933188",
   "metadata": {},
   "outputs": [],
   "source": [
    "dataset = UNetDataset(image_dir=project.image_dir, mask_dir=project.mask_dir, coordinate_dir=project.coordinate_dir,\n",
    "                      image_extension=project.image_extension)"
   ]
  },
  {
   "cell_type": "code",
   "execution_count": 13,
   "id": "3865711d-c42b-4db0-948d-baec6dad5dad",
   "metadata": {},
   "outputs": [
    {
     "name": "stdout",
     "output_type": "stream",
     "text": [
      "Number of images in the dataset: 143\n"
     ]
    }
   ],
   "source": [
    "print(\"Number of images in the dataset:\",len(dataset))"
   ]
  },
  {
   "cell_type": "markdown",
   "id": "4580224a-9506-4d74-9736-9f45052a1851",
   "metadata": {},
   "source": [
    "## Extract frames from one video\n",
    "\n",
    "You need to select a directory in which the individual extracted frames will be saved. Here I used a directory within my project directory.\n",
    "\n",
    "You need to adjust the video_fn to point to your video file.\n",
    "\n",
    "Images will be added to any image that is already in the folder. "
   ]
  },
  {
   "cell_type": "code",
   "execution_count": 5,
   "id": "4923f1e7-a96e-47b3-bb05-48e3a84a1890",
   "metadata": {},
   "outputs": [],
   "source": [
    "video_fn = '/home/kevin/Documents/trackingProjects/hand_unet_tracker/hand_unet_tracker/videos/human_hand.mp4'\n",
    "extracted_frame_dir = project.project_dir+\"/extracted_frames/\" # directory where the extracted images will be saved\n",
    "frame_info_file = extracted_frame_dir+\"frame_info.csv\" # file where the source of the image is stored\n"
   ]
  },
  {
   "cell_type": "code",
   "execution_count": 17,
   "id": "29807bbc-d6e5-4c6a-9a3a-317f0fa234af",
   "metadata": {},
   "outputs": [
    {
     "name": "stdout",
     "output_type": "stream",
     "text": [
      "video length: 5795, image size: 270h 480w\n",
      "Extracting frames: [ 616  781 1331 1524 1555 1705 4116 4601 4670 5456] to /home/kevin/Documents/trackingProjects/hand_unet_tracker/hand_unet_tracker/extracted_frames/\n",
      "Saving image info to /home/kevin/Documents/trackingProjects/hand_unet_tracker/hand_unet_tracker/extracted_frames/frame_info.csv\n"
     ]
    }
   ],
   "source": [
    "dataset.extract_frames_from_video(video_fn = video_fn, \n",
    "                                  number_frames = 10,\n",
    "                                  frame_dir = extracted_frame_dir,\n",
    "                                  frame_info_file = frame_info_file,\n",
    "                                  image_size = project.image_size)"
   ]
  },
  {
   "cell_type": "markdown",
   "id": "67be7c28-9642-4148-91d5-82d47916d936",
   "metadata": {},
   "source": [
    "See the image files that were created bye the `extract_frame_from_video()` function."
   ]
  },
  {
   "cell_type": "code",
   "execution_count": 18,
   "id": "3fa0f51a-8d57-401a-8bb5-2e8f14437b3d",
   "metadata": {},
   "outputs": [
    {
     "data": {
      "text/plain": [
       "11"
      ]
     },
     "execution_count": 18,
     "metadata": {},
     "output_type": "execute_result"
    }
   ],
   "source": [
    "image_file_list = glob.glob(extracted_frame_dir+\"*\")\n",
    "len(image_file_list)"
   ]
  },
  {
   "cell_type": "markdown",
   "id": "fa1a6edf-224e-4839-8414-c207402e9ff5",
   "metadata": {},
   "source": [
    "## Label extracted frames and save to dataset\n",
    "\n",
    "We use a GUI to label the object in the extracted frames.\n",
    "\n",
    "Make sure that your image is shown at maximal size by extending the notebook window. \n",
    "Make sure the label are correctly positioned in the image below.\n",
    "\n",
    "\n",
    "1. In the large image, click on the object selected by the radio button. The label should appear in the picture below. \n",
    "2. If you don't want to save the data from a particular image, click on Next frame.\n",
    "2. Repeat for all your visible objects\n",
    "3. Click on Save labelled frame.\n",
    "4. Repeat for all your images\n",
    "\n",
    "When you click on `Save labelled frame`, the image is remove from the `extract_frame_dir` directory and transfer to your dataset."
   ]
  },
  {
   "cell_type": "code",
   "execution_count": 19,
   "id": "2b06b24a-c408-4a96-a10e-2f1805d215b3",
   "metadata": {},
   "outputs": [],
   "source": [
    "extracted_frame_dir = project.project_dir+\"/extracted_frames/\" # directory where the extracted images will be saved\n",
    "frame_info_file = extracted_frame_dir+\"frame_info.csv\" # file where the source of the image is stored\n"
   ]
  },
  {
   "cell_type": "code",
   "execution_count": 20,
   "id": "1fc4beb5-a138-4f6a-aac1-08ea37ee886f",
   "metadata": {},
   "outputs": [
    {
     "name": "stdout",
     "output_type": "stream",
     "text": [
      "frame.shape: (270, 480, 3)\n",
      "ef375863-87c9-11ee-9991-21416500d759.png\n"
     ]
    },
    {
     "data": {
      "application/vnd.jupyter.widget-view+json": {
       "model_id": "24fddf2fd88049c395e33c15aedac048",
       "version_major": 2,
       "version_minor": 0
      },
      "text/plain": [
       "LabelFromImagesGUI(children=(HTML(value='Event info'), HBox(children=(Label(value='Objects:'), RadioButtons(la…"
      ]
     },
     "execution_count": 20,
     "metadata": {},
     "output_type": "execute_result"
    }
   ],
   "source": [
    "LabelFromImagesGUI(image_dir=extracted_frame_dir,\n",
    "                   frame_info_file=frame_info_file,\n",
    "                   project=project,dataset=dataset)"
   ]
  },
  {
   "cell_type": "code",
   "execution_count": 23,
   "id": "74fcac56-a48b-4c8a-8a36-1efa55ebea4d",
   "metadata": {},
   "outputs": [
    {
     "data": {
      "text/plain": [
       "153"
      ]
     },
     "execution_count": 23,
     "metadata": {},
     "output_type": "execute_result"
    }
   ],
   "source": [
    "len(dataset)"
   ]
  },
  {
   "cell_type": "code",
   "execution_count": null,
   "id": "d79932c7-a13a-4655-8030-6790cbf4e7e3",
   "metadata": {},
   "outputs": [],
   "source": []
  }
 ],
 "metadata": {
  "kernelspec": {
   "display_name": "Python 3 (ipykernel)",
   "language": "python",
   "name": "python3"
  },
  "language_info": {
   "codemirror_mode": {
    "name": "ipython",
    "version": 3
   },
   "file_extension": ".py",
   "mimetype": "text/x-python",
   "name": "python",
   "nbconvert_exporter": "python",
   "pygments_lexer": "ipython3",
   "version": "3.10.12"
  }
 },
 "nbformat": 4,
 "nbformat_minor": 5
}
