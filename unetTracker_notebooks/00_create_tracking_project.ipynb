{
 "cells": [
  {
   "cell_type": "markdown",
   "id": "4be15241",
   "metadata": {},
   "source": [
    "# Creating a tracking project\n",
    "\n",
    "Most of the configuration for your tracking project is stored in a TrackingProject object. \n",
    "\n",
    "The configuration and dataset for your project will be saved in a directory should ideally be kept separately from the unet-tracker repository code. The project directory will be several 100 Mb once you have saved the images used to train your model.\n",
    "\n",
    "The configuration is saved to and loaded from a `config.yalm` file that is located in your project directory. You can edit this file manually if needed and reload the configuration from file.\n",
    "\n",
    "You only need to run this notebook once when you create your project. If you have done it before, just skip this notebook."
   ]
  },
  {
   "cell_type": "markdown",
   "id": "e89960c5",
   "metadata": {},
   "source": [
    "If you create a TrackingProject and give an `object_list`, the codes assumes that you want to create a new project."
   ]
  },
  {
   "cell_type": "code",
   "execution_count": 15,
   "id": "51d84d11",
   "metadata": {},
   "outputs": [],
   "source": [
    "from unetTracker.trackingProject import TrackingProject\n",
    "import os"
   ]
  },
  {
   "cell_type": "markdown",
   "id": "86094e38",
   "metadata": {},
   "source": [
    "You can create a directory where you will store your unetTracker projects. \n"
   ]
  },
  {
   "cell_type": "code",
   "execution_count": 17,
   "id": "84824e96",
   "metadata": {},
   "outputs": [],
   "source": [
    "model_name = \"hand_unet_tracker\"\n",
    "model_path = \"/home/kevin/Documents/trackingProjects\"\n",
    "root_directory = \"{}/{}/\".format(model_path,model_name)\n",
    "if not os.path.exists(root_directory):\n",
    "    os.makedirs(root_directory)\n",
    "else:\n",
    "    print(root_directory, \"already exists\")\n",
    "    print(\"If you have already created your project in the past and adjusted the configuration, you don't need to run this notebook again\")"
   ]
  },
  {
   "cell_type": "markdown",
   "id": "20cf871a",
   "metadata": {},
   "source": [
    "You can now create a TrackingProject object.\n",
    "\n",
    "Set a meaningful name for your project and list the object/body parts that you want to track. I usually track as few objects as required but here I wanted to track several parts of a human hand.\n",
    "\n",
    "The radius is determining the size of the markers that the model will try to track. It can be changed later on."
   ]
  },
  {
   "cell_type": "code",
   "execution_count": 18,
   "id": "277e5a2a",
   "metadata": {},
   "outputs": [
    {
     "name": "stdout",
     "output_type": "stream",
     "text": [
      "Project directory: /home/kevin/Documents/trackingProjects/hand_unet_tracker/hand_unet_tracker\n"
     ]
    }
   ],
   "source": [
    "project = TrackingProject(name=\"hand_unet_tracker\",\n",
    "                          root_folder = root_directory,\n",
    "                          object_list=[\"f1_p1\",\"f1_p2\",\"f1_p3\",\n",
    "                                       \"f2_p1\",\"f2_p2\",\"f2_p3\",\n",
    "                                       \"f3_p1\",\"f3_p2\",\"f3_p3\",\n",
    "                                       \"f4_p1\",\"f4_p2\",\"f4_p3\"],target_radius=6)"
   ]
  },
  {
   "cell_type": "markdown",
   "id": "912f073f",
   "metadata": {},
   "source": [
    "You can now create the project directories and save a default configuration file."
   ]
  },
  {
   "cell_type": "markdown",
   "id": "59597032-1e68-431a-97e9-4c3073cd90db",
   "metadata": {},
   "source": [
    "## Warning\n",
    "\n",
    "If you already have a project directory and have edited the configuration file, running the cell below will overwrite your old configuration.\n",
    "\n",
    "If you are working with a new project, go ahead and create directories and save the default configuration."
   ]
  },
  {
   "cell_type": "code",
   "execution_count": 19,
   "id": "8de256ad",
   "metadata": {},
   "outputs": [
    {
     "name": "stdout",
     "output_type": "stream",
     "text": [
      "Create /home/kevin/Documents/trackingProjects/hand_unet_tracker/hand_unet_tracker\n",
      "Create /home/kevin/Documents/trackingProjects/hand_unet_tracker/hand_unet_tracker/dataset\n",
      "Create /home/kevin/Documents/trackingProjects/hand_unet_tracker/hand_unet_tracker/dataset/images\n",
      "Create /home/kevin/Documents/trackingProjects/hand_unet_tracker/hand_unet_tracker/dataset/coordinates\n",
      "Create /home/kevin/Documents/trackingProjects/hand_unet_tracker/hand_unet_tracker/dataset/masks\n",
      "Create /home/kevin/Documents/trackingProjects/hand_unet_tracker/hand_unet_tracker/models\n",
      "Create /home/kevin/Documents/trackingProjects/hand_unet_tracker/hand_unet_tracker/augmentation\n",
      "Saving /home/kevin/Documents/trackingProjects/hand_unet_tracker/hand_unet_tracker/config.yalm\n"
     ]
    }
   ],
   "source": [
    "project.create_project_directories()\n",
    "project.save_configuration()"
   ]
  },
  {
   "cell_type": "markdown",
   "id": "7d8dc3be",
   "metadata": {},
   "source": [
    "You can inspect at your project directory. "
   ]
  },
  {
   "cell_type": "code",
   "execution_count": 20,
   "id": "546000fd",
   "metadata": {},
   "outputs": [
    {
     "name": "stdout",
     "output_type": "stream",
     "text": [
      "Project directory: /home/kevin/Documents/trackingProjects/hand_unet_tracker/hand_unet_tracker\n",
      "Files and subdirectories inside your project directory: ['models', 'augmentation', 'dataset', 'config.yalm']\n"
     ]
    }
   ],
   "source": [
    "print(\"Project directory:\", project.project_dir)\n",
    "print(\"Files and subdirectories inside your project directory:\",os.listdir(project.project_dir))"
   ]
  },
  {
   "cell_type": "markdown",
   "id": "1b4a0ae0",
   "metadata": {},
   "source": [
    "## Edit your config.yalm file\n",
    "\n",
    "You can now edit the `config.yalm` file. You can use your favorite text editor to inspect or edit your `config.yalm`.\n",
    "\n",
    "When you are done you can load the new configuration from file.\n",
    "\n",
    "Make sure you set the correct size for your images. \n",
    "\n",
    "* image_size (first value is height, second value is width)\n",
    "\n",
    "Also, if you have body parts that are characterized by left/right, set `augmentation_HorizontalFlipProb: 0.0`.\n"
   ]
  },
  {
   "cell_type": "code",
   "execution_count": 21,
   "id": "363a904f",
   "metadata": {},
   "outputs": [
    {
     "name": "stdout",
     "output_type": "stream",
     "text": [
      "Loading /home/kevin/Documents/trackingProjects/hand_unet_tracker/hand_unet_tracker/config.yalm\n",
      "{'augmentation_HorizontalFlipProb': 0.0, 'augmentation_RandomBrightnessContrastProb': 0.2, 'augmentation_RandomSizedCropProb': 1.0, 'augmentation_RotateProb': 0.3, 'image_extension': '.png', 'image_size': [270, 480], 'labeling_ImageEnlargeFactor': 2.0, 'name': 'hand_unet_tracker', 'normalization_values': None, 'object_colors': [(240.0, 248.0, 255.0), (250.0, 235.0, 215.0), (0.0, 255.0, 255.0), (127.0, 255.0, 212.0), (240.0, 255.0, 255.0), (245.0, 245.0, 220.0), (255.0, 228.0, 196.0), (0.0, 0.0, 0.0), (255.0, 235.0, 205.0), (0.0, 0.0, 255.0), (138.0, 43.0, 226.0), (165.0, 42.0, 42.0)], 'objects': ['f1_p1', 'f1_p2', 'f1_p3', 'f2_p1', 'f2_p2', 'f2_p3', 'f3_p1', 'f3_p2', 'f3_p3', 'f4_p1', 'f4_p2', 'f4_p3'], 'target_radius': 6, 'unet_features': [64, 128, 256, 512]}\n"
     ]
    }
   ],
   "source": [
    "project.load_configuration()"
   ]
  },
  {
   "cell_type": "markdown",
   "id": "2fcb8a7a",
   "metadata": {},
   "source": [
    "## Creating a TrackingProject object from an existing project config.yalm file\n",
    "\n",
    "The next time you want to create a TrackingProject object for your existing project, you can simply point to the existing project directory.\n",
    "\n",
    "Because there is no object list given as argument, the code will look for an existing project and automatically load the configuration from file.\n",
    "\n",
    "This is how you will create the TrackingProject object in the following notebooks."
   ]
  },
  {
   "cell_type": "code",
   "execution_count": 23,
   "id": "f67f96b6",
   "metadata": {},
   "outputs": [
    {
     "name": "stdout",
     "output_type": "stream",
     "text": [
      "Project directory: /home/kevin/Documents/trackingProjects/hand_unet_tracker/hand_unet_tracker\n",
      "Getting configuration from config file. Values from config file will be used.\n",
      "Loading /home/kevin/Documents/trackingProjects/hand_unet_tracker/hand_unet_tracker/config.yalm\n",
      "{'augmentation_HorizontalFlipProb': 0.0, 'augmentation_RandomBrightnessContrastProb': 0.2, 'augmentation_RandomSizedCropProb': 1.0, 'augmentation_RotateProb': 0.3, 'image_extension': '.png', 'image_size': [270, 480], 'labeling_ImageEnlargeFactor': 2.0, 'name': 'hand_unet_tracker', 'normalization_values': None, 'object_colors': [(240.0, 248.0, 255.0), (250.0, 235.0, 215.0), (0.0, 255.0, 255.0), (127.0, 255.0, 212.0), (240.0, 255.0, 255.0), (245.0, 245.0, 220.0), (255.0, 228.0, 196.0), (0.0, 0.0, 0.0), (255.0, 235.0, 205.0), (0.0, 0.0, 255.0), (138.0, 43.0, 226.0), (165.0, 42.0, 42.0)], 'objects': ['f1_p1', 'f1_p2', 'f1_p3', 'f2_p1', 'f2_p2', 'f2_p3', 'f3_p1', 'f3_p2', 'f3_p3', 'f4_p1', 'f4_p2', 'f4_p3'], 'target_radius': 6, 'unet_features': [64, 128, 256, 512]}\n"
     ]
    }
   ],
   "source": [
    "model_name = \"hand_unet_tracker\"\n",
    "model_path = \"/home/kevin/Documents/trackingProjects\"\n",
    "root_directory = \"{}/{}/\".format(model_path,model_name)\n",
    "project = TrackingProject(name=model_name,root_folder = root_directory)"
   ]
  },
  {
   "cell_type": "markdown",
   "id": "f69edf4f-2a74-42bd-855c-cb1b7d305284",
   "metadata": {},
   "source": [
    "## Adjust your setup_project.py file\n",
    "\n",
    "At the beginning of all subsequent notebook, we want to load our project from the project directory we just created. \n",
    "\n",
    "To avoid having to remember all the details on how this is done, we can just put the code in a file called `setup_project.py` that is found in the same directory as the notebooks. At the begining of each subsequent notebook, we will execute this code.\n",
    "\n",
    "Go ahead and adjust the `setup_project.py` so that its content points to your project directory. Once you are done, you can run the code below to load your project."
   ]
  },
  {
   "cell_type": "code",
   "execution_count": 24,
   "id": "26cd40f9-81ab-49a3-8f26-45b113e8b173",
   "metadata": {},
   "outputs": [
    {
     "name": "stdout",
     "output_type": "stream",
     "text": [
      "Project directory: /home/kevin/Documents/trackingProjects/hand_unet_tracker/hand_unet_tracker\n",
      "Getting configuration from config file. Values from config file will be used.\n",
      "Loading /home/kevin/Documents/trackingProjects/hand_unet_tracker/hand_unet_tracker/config.yalm\n",
      "{'augmentation_HorizontalFlipProb': 0.0, 'augmentation_RandomBrightnessContrastProb': 0.2, 'augmentation_RandomSizedCropProb': 1.0, 'augmentation_RotateProb': 0.3, 'image_extension': '.png', 'image_size': [270, 480], 'labeling_ImageEnlargeFactor': 2.0, 'name': 'hand_unet_tracker', 'normalization_values': None, 'object_colors': [(240.0, 248.0, 255.0), (250.0, 235.0, 215.0), (0.0, 255.0, 255.0), (127.0, 255.0, 212.0), (240.0, 255.0, 255.0), (245.0, 245.0, 220.0), (255.0, 228.0, 196.0), (0.0, 0.0, 0.0), (255.0, 235.0, 205.0), (0.0, 0.0, 255.0), (138.0, 43.0, 226.0), (165.0, 42.0, 42.0)], 'objects': ['f1_p1', 'f1_p2', 'f1_p3', 'f2_p1', 'f2_p2', 'f2_p3', 'f3_p1', 'f3_p2', 'f3_p3', 'f4_p1', 'f4_p2', 'f4_p3'], 'target_radius': 6, 'unet_features': [64, 128, 256, 512]}\n"
     ]
    }
   ],
   "source": [
    "# this will run the code in the setup_project.py and create a variable called `project`\n",
    "%run setup_project.py"
   ]
  },
  {
   "cell_type": "code",
   "execution_count": 25,
   "id": "70db268f-0d97-4bbb-85f2-b3d7ccbd2a0f",
   "metadata": {},
   "outputs": [
    {
     "data": {
      "text/plain": [
       "<unetTracker.trackingProject.TrackingProject at 0x7f470a9d0640>"
      ]
     },
     "execution_count": 25,
     "metadata": {},
     "output_type": "execute_result"
    }
   ],
   "source": [
    "project"
   ]
  },
  {
   "cell_type": "code",
   "execution_count": null,
   "id": "2fba494c-db26-4c15-adb5-d9f6a83d1f67",
   "metadata": {},
   "outputs": [],
   "source": []
  }
 ],
 "metadata": {
  "kernelspec": {
   "display_name": "Python 3 (ipykernel)",
   "language": "python",
   "name": "python3"
  },
  "language_info": {
   "codemirror_mode": {
    "name": "ipython",
    "version": 3
   },
   "file_extension": ".py",
   "mimetype": "text/x-python",
   "name": "python",
   "nbconvert_exporter": "python",
   "pygments_lexer": "ipython3",
   "version": "3.10.12"
  }
 },
 "nbformat": 4,
 "nbformat_minor": 5
}
